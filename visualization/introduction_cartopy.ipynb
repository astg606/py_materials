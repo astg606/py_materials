{
 "cells": [
  {
   "cell_type": "markdown",
   "metadata": {},
   "source": [
    "<font color=\"white\">.</font> | <font color=\"white\">.</font> | <font color=\"white\">.</font>\n",
    "-- | -- | --\n",
    "![NASA](http://www.nasa.gov/sites/all/themes/custom/nasatwo/images/nasa-logo.svg) | <h1><font size=\"+3\">ASTG Python Courses</font></h1> | ![NASA](https://www.nccs.nasa.gov/sites/default/files/NCCS_Logo_0.png)\n",
    "\n",
    "---\n",
    "\n",
    "<CENTER>\n",
    "<H1 style=\"color:red\">\n",
    "Introduction to Cartopy\n",
    "</H1>\n",
    "</CENTER>"
   ]
  },
  {
   "cell_type": "markdown",
   "metadata": {},
   "source": [
    "## Reference Documents\n",
    "\n",
    "* <A HREF=\"https://scitools.org.uk/cartopy/docs/latest/\">Introduction --- Cartopy</A>\n",
    "* <A HREF=\"https://rabernat.github.io/research_computing_2018/maps-with-cartopy.html\">Maps with Cartopy</A>\n",
    "* <A HREF=\"https://geohackweek.github.io/visualization/03-cartopy/\">Basics: Quick + Simple maps with cartopy.</A>\n",
    "* <A HREF=\"https://uoftcoders.github.io/studyGroup/lessons/python/cartography/lesson/\">Cartography and Mapping in Python</A>\n",
    "* <A HREF=\"https://www.earthdatascience.org/workshops/gis-open-source-python/intro-vector-data-python/\">Introduction to Vector Format Spatial Data - Points, Lines and Polygons</A>\n",
    "* <a href=\"https://coderzcolumn.com/tutorials/data-science/cartopy-basic-maps-scatter-map-bubble-map-and-connection-map\">Cartopy - Basic Maps [Scatter Map, Bubble Map & Connection Map]</a>"
   ]
  },
  {
   "cell_type": "markdown",
   "metadata": {},
   "source": [
    "## What is Cartopy?\n",
    "\n",
    "* A Python package which provides a set of tools for creating projection-aware geospatial plots using the Python’s standard plotting package, `Matplotlib`.\n",
    "* Package for drawing maps for for data analysis and visualization,\n",
    "* Relies on the `PROJ.4`, `Numpy` and `shapely` libraries.\n",
    "* Has a simple and intuitive drawing interface to Matplotlib.\n",
    "\n",
    "## What Does Cartopy Provide?\n",
    "\n",
    "* Facilities to transform coordinates to different <a href=\"https://scitools.org.uk/cartopy/docs/latest/crs/projections.html#cartopy-projections\">map projections</a>\n",
    "* `Matplotlib` is used to plot contours, images, vectors, lines or points in the transformed coordinates.\n",
    "* Shorelines, river and political boundary datasets.\n",
    "* Facilities for reading shapefiles.\n",
    "\n",
    "Cartopy has two main building blocks:\n",
    "\n",
    "1. **Projections (`cartopy.crs`):** A utility that provides the ability to define, and transform data among, cartographic projections. The `cartopy.crs` module (CRS = coordinate reference system a.k.a. projection) defines a set of projections which are useful in defining the desired projection of a plot. These projections augment the machinery of `Matplotlib` to allow for geospatial plots.\n",
    "2. **Features (`cartopy.feature`):** A module for accessing geospatial data files, like shapefiles or GeoJSON. It has a convenient set of data loaders for adding context to maps (like coastlines, borders, place names, etc.). \n",
    "\n",
    "## Recall:  <a href=\"https://realpython.com/python-matplotlib-guide/\">The Matplotlib Object Hierarchy</a>\n",
    "\n",
    "- When we issue the call `plt.plot(x, y)`, we internally creates a hierarchy of nested Python objects: **Figure** and **Axes**.\n",
    "- A **Figure** object is the outermost container for a matplotlib graphic, which can contain multiple **Axes** objects.\n",
    "- An **Axes** actually translates into what we think of as an individual plot or graph (rather than the plural of “axis,” as we might expect).\n",
    "- Below the Axes in the hierarchy are smaller objects such as tick marks, individual lines, legends, and text boxes. Almost every “element” of a chart is its own manipulable Python object, all the way down to the ticks and labels\n",
    "\n",
    "![FIG_AXES](https://files.realpython.com/media/fig_map.bc8c7cabd823.png)\n",
    "Image Source: Brad Solomon (Real Python Tutorial)\n",
    "\n",
    "Below is a figure anatomy of the Matplotlib object hierarchy:\n",
    "\n",
    "![Anatomy](https://files.realpython.com/media/anatomy.7d033ebbfbc8.png)\n",
    "Image Source: Brad Solomon (Real Python Tutorial)"
   ]
  },
  {
   "cell_type": "markdown",
   "metadata": {},
   "source": [
    "---\n",
    "\n",
    "### <font color='red'> Only run the following cell if you are on Google Colab</font>\n",
    "\n",
    "Uncomment the cell below if you are on Google Colab. Unfortunately this might no longer work."
   ]
  },
  {
   "cell_type": "code",
   "execution_count": null,
   "metadata": {},
   "outputs": [],
   "source": [
    "#!apt-get install libproj-dev proj-data proj-bin\n",
    "#!apt-get install libgeos-dev\n",
    "#!pip install cython\n",
    "#!pip install cartopy"
   ]
  },
  {
   "cell_type": "code",
   "execution_count": null,
   "metadata": {},
   "outputs": [],
   "source": [
    "#!apt-get -qq install python-cartopy python3-cartopy\n",
    "#!pip uninstall -y shapely    # cartopy and shapely aren't friends (early 2020)\n",
    "#!pip install shapely --no-binary shapely"
   ]
  },
  {
   "cell_type": "markdown",
   "metadata": {},
   "source": [
    "***"
   ]
  },
  {
   "cell_type": "code",
   "execution_count": null,
   "metadata": {},
   "outputs": [],
   "source": [
    "import warnings\n",
    "warnings.filterwarnings('ignore')"
   ]
  },
  {
   "cell_type": "code",
   "execution_count": null,
   "metadata": {},
   "outputs": [],
   "source": [
    "%matplotlib inline\n",
    "import matplotlib.pyplot as plt\n",
    "from matplotlib import cm\n",
    "\n",
    "import numpy as np\n",
    "\n",
    "import cartopy\n",
    "import cartopy.crs as ccrs                   # for projections\n",
    "import cartopy.feature as cfeature           # for features\n",
    "import cartopy.io.shapereader as shapereader\n",
    "from cartopy.mpl.ticker import LongitudeFormatter, LatitudeFormatter\n",
    "from cartopy.feature.nightshade import Nightshade"
   ]
  },
  {
   "cell_type": "code",
   "execution_count": null,
   "metadata": {},
   "outputs": [],
   "source": [
    "print(cartopy.__version__)"
   ]
  },
  {
   "cell_type": "markdown",
   "metadata": {},
   "source": [
    "### Drawing Maps"
   ]
  },
  {
   "cell_type": "markdown",
   "metadata": {},
   "source": [
    "<font color=\"blue\">Simple Scatter Plot</font>"
   ]
  },
  {
   "cell_type": "code",
   "execution_count": null,
   "metadata": {},
   "outputs": [],
   "source": [
    "np.random.seed(1)\n",
    "x = 360 * np.random.rand(100)\n",
    "y = 180 * np.random.rand(100) - 90\n",
    "\n",
    "fig = plt.figure(figsize=(10, 5))\n",
    "ax = fig.add_subplot(1, 1, 1)\n",
    "\n",
    "ax.scatter(x, y)"
   ]
  },
  {
   "cell_type": "markdown",
   "metadata": {},
   "source": [
    "<font color=\"blue\">Add Basic Map on top of the Scatter Plot</font>"
   ]
  },
  {
   "cell_type": "code",
   "execution_count": null,
   "metadata": {},
   "outputs": [],
   "source": [
    "fig = plt.figure(figsize=(10, 5))\n",
    "ax = fig.add_subplot(1, 1, 1, projection=ccrs.PlateCarree())\n",
    "ax.scatter(x, y)\n",
    "ax.coastlines()"
   ]
  },
  {
   "cell_type": "markdown",
   "metadata": {},
   "source": [
    "<font color=\"blue\">Add Land Ocean Image</font>\n",
    "\n",
    "We can introduce natural earth look to the plot by calling the `stock_img()` method on the axes object."
   ]
  },
  {
   "cell_type": "code",
   "execution_count": null,
   "metadata": {},
   "outputs": [],
   "source": [
    "fig = plt.figure(figsize=(8, 5))\n",
    "ax = fig.add_subplot(1, 1, 1,\n",
    "                     projection=ccrs.PlateCarree())\n",
    "ax.scatter(x, y)\n",
    "ax.stock_img()\n",
    "ax.coastlines()"
   ]
  },
  {
   "cell_type": "markdown",
   "metadata": {},
   "source": [
    "#### Add Features to the Map\n",
    "\n",
    "We add features by calling the `add_feature()` method on-axis object and passing a feature object available from the `cartopy.feature` module.\n",
    "\n",
    "We can add the following features (part of `cartopy.feature`) to our map:\n",
    "\n",
    "- `COASTLINE`: Adds coastline around all continents. \n",
    "- `LAND`: Adds land on top of world map. \n",
    "- `LAKES`: Adds big lakes of the world. \n",
    "- `BORDERS`: Adds country borders for the whole world. \n",
    "- `OCEAN`: Adds ocean with a color.\n",
    "- `RIVERS`: Adds big rivers of the world.\n",
    "- `STATES`: Adds state boundary for the US."
   ]
  },
  {
   "cell_type": "code",
   "execution_count": null,
   "metadata": {},
   "outputs": [],
   "source": [
    "fig = plt.figure(figsize=(10, 7))\n",
    "\n",
    "# Select the map projection\n",
    "ax = fig.add_subplot(1, 1, 1,\n",
    "                     projection=ccrs.PlateCarree())\n",
    "ax.scatter(x, y)\n",
    "\n",
    "# Add land\n",
    "ax.add_feature(cartopy.feature.LAND)\n",
    "\n",
    "# Add ocean\n",
    "ax.add_feature(cartopy.feature.OCEAN)\n",
    "\n",
    "# Add cost lines\n",
    "ax.add_feature(cartopy.feature.COASTLINE)\n",
    "\n",
    "# Add country boundaries\n",
    "ax.add_feature(cartopy.feature.BORDERS, linestyle=':')\n",
    "\n",
    "# Add lakes\n",
    "ax.add_feature(cartopy.feature.LAKES, alpha=0.5)\n",
    "\n",
    "# Add rivers\n",
    "ax.add_feature(cartopy.feature.RIVERS)\n",
    "plt.show()"
   ]
  },
  {
   "cell_type": "code",
   "execution_count": null,
   "metadata": {},
   "outputs": [],
   "source": [
    "fig = plt.figure(figsize=(10, 7))\n",
    "\n",
    "central_longitude = 40.0 # default value is zero\n",
    "# Select the map projection\n",
    "ax = fig.add_subplot(1, 1, 1,\n",
    "                     projection=ccrs.PlateCarree())\n",
    "\n",
    "ax.add_feature(cfeature.COASTLINE)\n",
    "ax.add_feature(cfeature.LAND, color=\"lightgrey\", alpha=0.5)\n",
    "ax.add_feature(cfeature.LAKES, color=\"lime\")\n",
    "ax.add_feature(cfeature.BORDERS, linestyle=\"--\")\n",
    "ax.add_feature(cfeature.OCEAN, color=\"skyblue\", alpha=0.4)\n",
    "ax.add_feature(cfeature.RIVERS, edgecolor=\"red\")\n",
    "ax.add_feature(cfeature.STATES)\n",
    "plt.show()"
   ]
  },
  {
   "cell_type": "markdown",
   "metadata": {},
   "source": [
    "**Adding NightShade Feature to Map**\n",
    "\n",
    "- We create a `datetime` object and pass it to a `Nightshade` object so that it can create nightshade on a map at this time. \n",
    "- It creates a shade effect on a map covering countries where it is night during that time."
   ]
  },
  {
   "cell_type": "code",
   "execution_count": null,
   "metadata": {},
   "outputs": [],
   "source": [
    "import datetime\n",
    "\n",
    "fig = plt.figure(figsize=(8, 5))\n",
    "\n",
    "ax = fig.add_subplot(1, 1, 1, projection=ccrs.PlateCarree())\n",
    "\n",
    "ax.stock_img()\n",
    "\n",
    "cur_date = datetime.datetime.now()\n",
    "ax.add_feature(Nightshade(cur_date, alpha=0.7))\n",
    "\n",
    "ax.set_title('Night time shading for: {}'.format(cur_date.strftime(\"%A, %B %d, %Y, %H:%M:%S\")))\n",
    "\n",
    "plt.show()"
   ]
  },
  {
   "cell_type": "markdown",
   "metadata": {},
   "source": [
    "#### Choosing Different Map Projections\n",
    "\n",
    "- <a href=\"https://scitools.org.uk/cartopy/docs/latest/crs/projections.html\"> Cartopy Map Projection List</a>"
   ]
  },
  {
   "cell_type": "markdown",
   "metadata": {},
   "source": [
    "<font color=\"blue\">Lambert Cylindrical </font>"
   ]
  },
  {
   "cell_type": "code",
   "execution_count": null,
   "metadata": {},
   "outputs": [],
   "source": [
    "central_longitude = 40.0 # default value is zero\n",
    "\n",
    "# Select the map projection\n",
    "ax = plt.axes(projection=cartopy.crs.LambertCylindrical(central_longitude))\n",
    "\n",
    "# Add cost lines\n",
    "ax.add_feature(cartopy.feature.COASTLINE)\n",
    "ax.gridlines()\n",
    "\n",
    "plt.show()"
   ]
  },
  {
   "cell_type": "markdown",
   "metadata": {},
   "source": [
    "<font color=\"blue\">Mercator </font>"
   ]
  },
  {
   "cell_type": "code",
   "execution_count": null,
   "metadata": {},
   "outputs": [],
   "source": [
    "ax = plt.axes(projection=cartopy.crs.Mercator())\n",
    "ax.add_feature(cartopy.feature.COASTLINE)\n",
    "ax.gridlines()\n",
    "plt.show()"
   ]
  },
  {
   "cell_type": "markdown",
   "metadata": {},
   "source": [
    "<font color=\"blue\">Orthographic</font>"
   ]
  },
  {
   "cell_type": "code",
   "execution_count": null,
   "metadata": {},
   "outputs": [],
   "source": [
    "ax = plt.axes(projection=cartopy.crs.Orthographic())\n",
    "ax.add_feature(cartopy.feature.COASTLINE)\n",
    "ax.gridlines()\n",
    "plt.show()"
   ]
  },
  {
   "cell_type": "markdown",
   "metadata": {},
   "source": [
    "<font color=\"blue\">Collection of Projections</font>"
   ]
  },
  {
   "cell_type": "code",
   "execution_count": null,
   "metadata": {},
   "outputs": [],
   "source": [
    "from cartopy.feature import OCEAN\n",
    "\n",
    "projections = [ccrs.PlateCarree(-60), ccrs.AlbersEqualArea(-60), \n",
    "               ccrs.TransverseMercator(-60), ccrs.Orthographic(-60, 30)]\n",
    "titles = ['Equirectangular projection', \n",
    "          'Albers equal-area conic projection', \n",
    "          'Transverse mercator projection', \n",
    "          'Orthographic projection']\n",
    "\n",
    "fig, axes = plt.subplots(2, 2, \n",
    "                         subplot_kw={'projection': projections[0]}, \n",
    "                         figsize=(15,10))\n",
    "\n",
    "ny_lon, ny_lat = -75, 43\n",
    "\n",
    "for ax, proj, title in zip(axes.ravel(), projections, titles):\n",
    "    ax.projection = proj      # Here we change projection for each subplot.\n",
    "    ax.set_title(title)       # Add title for each subplot.\n",
    "    ax.set_global()           # Set global extention\n",
    "    ax.coastlines()           # Add coastlines\n",
    "    ax.add_feature(OCEAN)     # Add oceans\n",
    "    ax.tissot(facecolor='r', alpha=.8, lats=np.arange(-90,90, 30))         # Add tissot indicatrisses\n",
    "    ax.plot(ny_lon, ny_lat, 'ko', transform=ccrs.Geodetic())               # Plot the point for the NY city\n",
    "    ax.text(ny_lon + 4, ny_lat + 4, 'New York', transform=ccrs.Geodetic()) # Label New York\n",
    "    ax.gridlines(color='.25', ylocs=np.arange(-90,90, 30))                 # Ad gridlines\n",
    "plt.show()"
   ]
  },
  {
   "cell_type": "markdown",
   "metadata": {},
   "source": [
    "#### Regional Map\n",
    "\n",
    "Need to provide the longitude and latitude ranges as arguments of the `set_extent` method on the axes object:\n",
    "\n",
    "```python\n",
    "   ax.set_extent([min_lon, max_lon, min_lat, max_lat])\n",
    "```"
   ]
  },
  {
   "cell_type": "markdown",
   "metadata": {},
   "source": [
    "<font color=\"blue\"> Map of the United States of America </font>"
   ]
  },
  {
   "cell_type": "code",
   "execution_count": null,
   "metadata": {},
   "outputs": [],
   "source": [
    "ax = plt.axes(projection=cartopy.crs.PlateCarree())\n",
    "\n",
    "ax.add_feature(cartopy.feature.COASTLINE)\n",
    "ax.add_feature(cartopy.feature.STATES, linestyle=':')\n",
    "ax.add_feature(cartopy.feature.BORDERS)\n",
    "\n",
    "ax.set_extent([-130, -65, 24, 47])\n",
    "ax.set_title(\"United States of America\")\n",
    "plt.show()"
   ]
  },
  {
   "cell_type": "code",
   "execution_count": null,
   "metadata": {},
   "outputs": [],
   "source": [
    "central_lat = 37.5\n",
    "central_lon = -96\n",
    "extent = [-120, -70, 24, 50.5]\n",
    "central_lon = np.mean(extent[:2])\n",
    "central_lat = np.mean(extent[2:])\n",
    "\n",
    "plt.figure(figsize=(12, 6))\n",
    "ax = plt.axes(projection=ccrs.AlbersEqualArea(central_lon, central_lat))\n",
    "ax.set_extent(extent)\n",
    "\n",
    "ax.add_feature(cartopy.feature.OCEAN)\n",
    "ax.add_feature(cartopy.feature.LAND, edgecolor='black')\n",
    "ax.add_feature(cartopy.feature.LAKES, edgecolor='black')\n",
    "ax.add_feature(cartopy.feature.RIVERS)\n",
    "ax.gridlines()"
   ]
  },
  {
   "cell_type": "markdown",
   "metadata": {},
   "source": [
    "## Exercise 1\n",
    "Draw the map of Africa. Include the country boundaries, lakes, rivers, land, coastline.\n",
    "\n",
    "Hint: longitude range -->(-20, 60) and latitude range -->(-40, 40)"
   ]
  },
  {
   "cell_type": "code",
   "execution_count": null,
   "metadata": {},
   "outputs": [],
   "source": [
    "ax = plt.axes(projection=cartopy.crs.PlateCarree())\n",
    "\n",
    "ax.add_feature(cartopy.feature.COASTLINE)\n",
    "ax.add_feature(cartopy.feature.LAND)\n",
    "ax.add_feature(cartopy.feature.BORDERS)\n",
    "ax.add_feature(cartopy.feature.RIVERS)\n",
    "ax.add_feature(cartopy.feature.LAKES)\n",
    "\n",
    "ax.set_extent([-20, 60, -40, 40])\n",
    "ax.set_title(\"Africa\")\n",
    "plt.show()"
   ]
  },
  {
   "cell_type": "markdown",
   "metadata": {},
   "source": [
    "## Exercise 2\n",
    "\n",
    "- The code below creates a Pandas dataframe that contains the latitude and longitude data of a city in each country of the world.\n",
    "- Write a script that plots a map of the world, country boundaries and include a dot at each of the cities."
   ]
  },
  {
   "cell_type": "code",
   "execution_count": null,
   "metadata": {},
   "outputs": [],
   "source": [
    "import pandas as pd\n",
    "\n",
    "url = \"https://developers.google.com/public-data/docs/canonical/countries_csv\"\n",
    "\n",
    "df = pd.read_html(url)\n",
    "df = df[0]\n",
    "df"
   ]
  },
  {
   "cell_type": "code",
   "execution_count": null,
   "metadata": {},
   "outputs": [],
   "source": [
    "fig = plt.figure(figsize=(10, 7))\n",
    "\n",
    "# Select the map projection\n",
    "ax = fig.add_subplot(1, 1, 1,\n",
    "                     projection=ccrs.PlateCarree())\n",
    "ax.scatter(df.longitude, df.latitude)\n",
    "\n",
    "ax.add_feature(cartopy.feature.LAND)\n",
    "ax.add_feature(cartopy.feature.OCEAN)\n",
    "ax.add_feature(cartopy.feature.COASTLINE)\n",
    "ax.add_feature(cartopy.feature.BORDERS, linestyle=':')\n",
    "ax.add_feature(cartopy.feature.LAKES, alpha=0.5)\n",
    "ax.add_feature(cartopy.feature.RIVERS)\n",
    "plt.show()"
   ]
  },
  {
   "cell_type": "markdown",
   "metadata": {},
   "source": [
    "## Overlaying Data"
   ]
  },
  {
   "cell_type": "markdown",
   "metadata": {},
   "source": [
    "#### Line Plots on a Map"
   ]
  },
  {
   "cell_type": "code",
   "execution_count": null,
   "metadata": {},
   "outputs": [],
   "source": [
    "plt.figure(figsize=(9, 5))\n",
    "\n",
    "map_projection = ccrs.PlateCarree()\n",
    "\n",
    "ax = plt.axes(projection=map_projection)\n",
    "ax.stock_img()\n",
    "\n",
    "ny_lon, ny_lat = -75, 43\n",
    "delhi_lon, delhi_lat = 77.23, 28.61\n",
    "\n",
    "plt.plot([ny_lon, delhi_lon], [ny_lat, delhi_lat],\n",
    "         color='blue', linewidth=2, marker='o',\n",
    "         transform=ccrs.Geodetic())\n",
    "\n",
    "plt.plot([ny_lon, delhi_lon], [ny_lat, delhi_lat],\n",
    "         color='gray', linestyle='--',\n",
    "         transform=ccrs.PlateCarree())\n",
    "\n",
    "plt.text(ny_lon - 3, ny_lat - 12, 'New York',\n",
    "         horizontalalignment='right',\n",
    "         transform=ccrs.Geodetic())\n",
    "\n",
    "plt.text(delhi_lon + 3, delhi_lat - 12, 'Delhi',\n",
    "         horizontalalignment='left',\n",
    "         transform=ccrs.Geodetic())\n",
    "\n",
    "plt.show()"
   ]
  },
  {
   "cell_type": "code",
   "execution_count": null,
   "metadata": {},
   "outputs": [],
   "source": [
    "plt.figure(figsize=(9, 5))\n",
    "\n",
    "map_projection = ccrs.PlateCarree()\n",
    "\n",
    "ax = plt.axes(projection=map_projection)\n",
    "ax.stock_img()\n",
    "\n",
    "ny_lon, ny_lat = -75, 43\n",
    "delhi_lon, delhi_lat = 77.23, 28.61\n",
    "\n",
    "ax.plot([ny_lon, delhi_lon], [ny_lat, delhi_lat],\n",
    "         color='blue', linewidth=2, marker='o',\n",
    "         transform=ccrs.Geodetic())\n",
    "\n",
    "ax.plot([ny_lon, delhi_lon], [ny_lat, delhi_lat],\n",
    "         color='gray', linestyle='--',\n",
    "         transform=ccrs.PlateCarree())\n",
    "\n",
    "ax.text(ny_lon - 3, ny_lat - 12, 'New York',\n",
    "         horizontalalignment='right',\n",
    "         transform=ccrs.Geodetic())\n",
    "\n",
    "ax.text(delhi_lon + 3, delhi_lat - 12, 'Delhi',\n",
    "         horizontalalignment='left',\n",
    "         transform=ccrs.Geodetic())\n",
    "\n",
    "plt.show()"
   ]
  },
  {
   "cell_type": "markdown",
   "metadata": {},
   "source": [
    "## Overlaying Data"
   ]
  },
  {
   "cell_type": "markdown",
   "metadata": {},
   "source": [
    "#### Understanding Projection and Transform Keywords\n",
    "+ The projection of your axes is independent of the coordinate system your data is defined in.\n",
    "+ The `projection` argument is used when creating plots and determines the projection of the resulting plot.\n",
    "+ The `transform` argument to plotting functions tells Cartopy what coordinate system your data are defined in."
   ]
  },
  {
   "cell_type": "markdown",
   "metadata": {},
   "source": [
    "### <font color=\"red\">Simple Application</font>\n",
    "In a recent trip overseas, the plane's display monitor in front of me caught my attention.\n",
    "Every now and then, there was a map of the world where different cities (across all continents) were plotted together with their local times. While watching the map, I wondered how I could use Cartopy to produce a similar one."
   ]
  },
  {
   "cell_type": "markdown",
   "metadata": {},
   "source": [
    "### <font color='blue'> Only run the following cell if you are on Google Colab</font>\n",
    "\n",
    "Uncomment the cell below if you are on Google Colab"
   ]
  },
  {
   "cell_type": "code",
   "execution_count": null,
   "metadata": {},
   "outputs": [],
   "source": [
    "#!pip install timezonefinder"
   ]
  },
  {
   "cell_type": "code",
   "execution_count": null,
   "metadata": {},
   "outputs": [],
   "source": [
    "import datetime\n",
    "import pytz\n",
    "import timezonefinder\n",
    "\n",
    "def get_local_time(latitude, longitude):\n",
    "    \"\"\"\n",
    "      Given the latitude/longitude pair, this function\n",
    "      returns the current local time at the location.\n",
    "    \"\"\"\n",
    "    tf = timezonefinder.TimezoneFinder()\n",
    "\n",
    "    # Get the tz-database-style time zone name\n",
    "    # (e.g. 'America/Vancouver') or None\n",
    "    timezone_str = tf.certain_timezone_at(lat=latitude, lng=longitude)\n",
    "\n",
    "    if timezone_str:\n",
    "       # Display the current time in that time zone\n",
    "       timezone = pytz.timezone(timezone_str)\n",
    "       dt = datetime.datetime.utcnow()\n",
    "       return (dt + timezone.utcoffset(dt)).strftime('%H:%M:%S')\n",
    "    else:\n",
    "       # Could not determine the time zone\n",
    "       return"
   ]
  },
  {
   "cell_type": "code",
   "execution_count": null,
   "metadata": {},
   "outputs": [],
   "source": [
    "cities_names = ['Yaounde', 'London', 'New Dehli', 'Canberra', 'Ottawa', 'Buenos Aires']\n",
    "latitudes    = [03.50, 51.36, 28.37, -35.15, 45.27, -36.30]\n",
    "longitudes   = [11.35, -0.05, 77.13, 149.08, -75.42, -60.0]"
   ]
  },
  {
   "cell_type": "code",
   "execution_count": null,
   "metadata": {},
   "outputs": [],
   "source": [
    "plt.figure(figsize=(17, 10))\n",
    "\n",
    "map_projection = ccrs.PlateCarree()\n",
    "\n",
    "ax = plt.axes(projection=map_projection)\n",
    "ax.stock_img()\n",
    "\n",
    "props = dict(boxstyle='round', facecolor='orange', alpha=0.5)\n",
    "\n",
    "for i in range(len(cities_names)):\n",
    "    loc_time = get_local_time(latitudes[i], longitudes[i])\n",
    "    textstr = \"\\n\".join((cities_names[i], loc_time))\n",
    "    plt.text(longitudes[i], latitudes[i], textstr, bbox=props,\n",
    "             transform=ccrs.Geodetic())\n",
    "\n",
    "plt.show()"
   ]
  },
  {
   "cell_type": "markdown",
   "metadata": {},
   "source": [
    "### Basic Map"
   ]
  },
  {
   "cell_type": "code",
   "execution_count": null,
   "metadata": {},
   "outputs": [],
   "source": [
    "nlats, nlons = 73, 145\n",
    "lats = np.linspace(-np.pi / 2, np.pi / 2, nlats)\n",
    "lons = np.linspace(0, 2 * np.pi, nlons)\n",
    "\n",
    "# Create a mesh grid\n",
    "lons, lats = np.meshgrid(lons, lats)\n",
    "wave = 0.75 * (np.sin(2 * lats) ** 8) * np.cos(4 * lons)\n",
    "mean = 0.5 * np.cos(2 * lats) * ((np.sin(2 * lats)) ** 2 + 2)\n",
    "\n",
    "lats = np.rad2deg(lats)\n",
    "lons = np.rad2deg(lons)\n",
    "data = wave + mean"
   ]
  },
  {
   "cell_type": "code",
   "execution_count": null,
   "metadata": {},
   "outputs": [],
   "source": [
    "fig = plt.figure(figsize=(9, 5))\n",
    "ax = fig.add_subplot(1, 1, 1)\n",
    "ax.contourf(lons, lats, data)"
   ]
  },
  {
   "cell_type": "code",
   "execution_count": null,
   "metadata": {},
   "outputs": [],
   "source": [
    "plt.figure(figsize=(9, 5))\n",
    "\n",
    "map_projection = ccrs.PlateCarree()\n",
    "ax = plt.axes(projection=map_projection)\n",
    "ax.contourf(lons, lats, data)\n",
    "ax.coastlines()\n",
    "ax.set_global()\n",
    "plt.show()"
   ]
  },
  {
   "cell_type": "markdown",
   "metadata": {},
   "source": [
    "#### Adding Latitude/Longitude Ticks"
   ]
  },
  {
   "cell_type": "code",
   "execution_count": null,
   "metadata": {},
   "outputs": [],
   "source": [
    "from cartopy.mpl.ticker import LongitudeFormatter, LatitudeFormatter\n",
    "\n",
    "plt.figure(figsize=(9, 5))\n",
    "map_projection = ccrs.PlateCarree()\n",
    "ax = plt.axes(projection=map_projection)\n",
    "ax.contourf(lons, lats, data, cmap='RdBu')\n",
    "ax.coastlines()\n",
    "\n",
    "ax.set_xticks(np.linspace(-180, 180, 5), crs=map_projection)\n",
    "ax.set_yticks(np.linspace(-90, 90, 5), crs=map_projection)\n",
    "\n",
    "lon_formatter = LongitudeFormatter(zero_direction_label=True)\n",
    "lat_formatter = LatitudeFormatter()\n",
    "ax.xaxis.set_major_formatter(lon_formatter)\n",
    "ax.yaxis.set_major_formatter(lat_formatter)\n",
    "\n",
    "#ax.set_global()\n",
    "plt.show()"
   ]
  },
  {
   "cell_type": "markdown",
   "metadata": {},
   "source": [
    "#### Adding Colorbar"
   ]
  },
  {
   "cell_type": "code",
   "execution_count": null,
   "metadata": {},
   "outputs": [],
   "source": [
    "fig = plt.figure(figsize=(9, 5))\n",
    "map_projection = ccrs.PlateCarree()\n",
    "ax = plt.axes(projection=map_projection)\n",
    "clevs = [-1.0, -0.7, -0.45, -0.16, 0.5, 0.7]\n",
    "im = ax.contourf(lons, lats, data, levels=10, cmap='RdBu', transform=map_projection)\n",
    "ax.coastlines()\n",
    "\n",
    "ax.set_xticks(np.linspace(-180, 180, 5), crs=map_projection)\n",
    "ax.set_yticks(np.linspace(-90, 90, 5), crs=map_projection)\n",
    "lon_formatter = LongitudeFormatter(zero_direction_label=True)\n",
    "lat_formatter = LatitudeFormatter()\n",
    "ax.xaxis.set_major_formatter(lon_formatter)\n",
    "ax.yaxis.set_major_formatter(lat_formatter)\n",
    "\n",
    "# Create an axes for colorbar. \n",
    "# The position of the axes is calculated based on the position of ax.\n",
    "# You can change dspace to adjust the distance between the main image and the colorbar.\n",
    "# You can change dwidth to adjust the width of the colorbar.\n",
    "# This practice is universal for both subplots and GeoAxes.\n",
    "dspace = 0.01\n",
    "dwidth = 0.03\n",
    "cax = fig.add_axes([ax.get_position().x1 + dspace,\n",
    "                    ax.get_position().y0,  dwidth,\n",
    "                    ax.get_position().height])\n",
    "plt.colorbar(im, cax=cax)\n",
    "\n",
    "\n",
    "ax.set_global()\n",
    "plt.show()"
   ]
  },
  {
   "cell_type": "code",
   "execution_count": null,
   "metadata": {},
   "outputs": [],
   "source": [
    "plt.figure(figsize=(9, 5))\n",
    "ax = plt.axes(projection=ccrs.Mollweide())\n",
    "im = ax.contourf(lons, lats, data, \\\n",
    "            transform=ccrs.PlateCarree(), \\\n",
    "            cmap='Spectral')\n",
    "ax.coastlines()\n",
    "\n",
    "cax = fig.add_axes()\n",
    "plt.colorbar(im, cax=cax)\n",
    "ax.set_aspect('equal') \n",
    "\n",
    "ax.set_global()\n",
    "plt.show()"
   ]
  },
  {
   "cell_type": "markdown",
   "metadata": {},
   "source": [
    "### Example: Converting a Basemap Script into a Cartopy Script\n",
    "\n",
    "The main differences between Cartopy and Basemap are:\n",
    "\n",
    "1) The way they create plotting axes\n",
    "\n",
    "     - Basemap: create the Basemap instance.\n",
    "     - Cartopy: create the plotting axis by passing the projection to the axes constructor.\n",
    "\n",
    "2) The way the set the plot extent\n",
    "\n",
    "     - Basemap: pass the x,y corners of the plot either as lon,lat values for the upper right and lower left corners, or as a width and height in x,y units.\n",
    "     - Cartopy: pass the x,y corners using for instance the set_extent method."
   ]
  },
  {
   "cell_type": "markdown",
   "metadata": {},
   "source": [
    "**Basemap**\n",
    "```python\n",
    "fig = plt.figure(num=None, figsize=(8,5), facecolor='w')\n",
    "text1=''\n",
    "fig.text(0.45, 0.93, text1,color='b')\n",
    "\n",
    "cxcoord4  = [0.91, 0.2, 0.015, 0.6]\n",
    "\n",
    "m = Basemap(projection='cyl',\\\n",
    "    llcrnrlon=lon_1,llcrnrlat=lat_01,urcrnrlon=lon_2,urcrnrlat=lat_02,\\\n",
    "    lat_0=cen_lat,lon_0=cen_lon,lat_1=truelat1,lat_2=truelat2,suppress_ticks=False)\n",
    "\n",
    "x, y = m(-98.3125, 48.8125)\n",
    "plt.plot(x, y, 'ok', markersize=5)\n",
    "x, y = m(-72.31250, 41.9375)\n",
    "plt.plot(x, y, 'ok', markersize=5)\n",
    "\n",
    "m.drawcoastlines(color='grey')\n",
    "m.drawcountries(color='grey')\n",
    "m.drawstates(color='grey')\n",
    "\n",
    "clev=np.arange(Tmin,Tmax+1,1)\n",
    "jet = plt.get_cmap('jet')\n",
    "cs = plt.contourf(lon0,lat0,var1,clev,cmap=jet,extend='neither')\n",
    "plt.title('')\n",
    "cx  = fig.add_axes(cxcoord4)\n",
    "cbar=plt.colorbar(cs,cax=cx,orientation='vertical',\n",
    "                  ticks=[1, 2, 3, 4, 5, 6, 7, 8, 9, 10, 11, 12, 13])\n",
    "```"
   ]
  },
  {
   "cell_type": "markdown",
   "metadata": {},
   "source": [
    "**Cartopy**\n",
    "```python\n",
    "def get_indices(my_array, my_list):\n",
    "    list_indices = []\n",
    "    for item in  my_list:\n",
    "        list_indices.append((np.abs(my_array - item)).argmin())\n",
    "    return list_indices\n",
    "\n",
    "ax = fig.add_subplot(1, 1, 1, projection=ccrs.PlateCarree())\n",
    "\n",
    "# Add coastline, borders and states\n",
    "ax.add_feature(cartopy.feature.COASTLINE, edgecolor='grey')\n",
    "ax.add_feature(cartopy.feature.BORDERS,   edgecolor='grey')\n",
    "ax.add_feature(cartopy.feature.STATES,    edgecolor='grey')\n",
    "\n",
    "# Plot specific points\n",
    "#---------------------\n",
    "i = get_indices(lon0[0,:], [-98.3125, -72.31250])\n",
    "j = get_indices(lat0[:,0], [48.8125, 41.9375])\n",
    "plt.plot(lon0[0,i],lat0[j,0], 'ok', markersize=5)\n",
    "\n",
    "# Contour plot and Colorbar\n",
    "#-------------------------\n",
    "clev=np.arange(Tmin,Tmax+1,1)\n",
    "jet = plt.get_cmap('jet')\n",
    "cs = ax.contourf(lon0,lat0,var1,clev,cmap=jet,extend='neither', transform=ccrs.PlateCarree())\n",
    "plt.title('')\n",
    "cx  = fig.add_axes(cxcoord4)\n",
    "cbar=plt.colorbar(cs,cax=cx,orientation='vertical',\n",
    "                  ticks=[1, 2, 3, 4, 5, 6, 7, 8, 9, 10, 11, 12, 13])\n",
    "\n",
    "# set the extent of the plot\n",
    "#---------------------------\n",
    "ax.set_extent([lon_1, lon_2, lat_01, lat_02], crs=ccrs.PlateCarree())\n",
    "\n",
    "```"
   ]
  },
  {
   "cell_type": "markdown",
   "metadata": {},
   "source": [
    "## Exercise 2"
   ]
  },
  {
   "cell_type": "markdown",
   "metadata": {},
   "source": [
    "Use the following:\n",
    "\n",
    "```python\n",
    "    lon = np.linspace(-80, 80, 25) \n",
    "    lat = np.linspace(30, 70, 25)   \n",
    "    lon2d, lat2d = np.meshgrid(lon, lat)\n",
    "    data = np.cos(np.deg2rad(lat2d) * 4) + np.sin(np.deg2rad(lon2d) * 4)\n",
    "```\n",
    "\n",
    "to plot `data` on a Orthographic projection centered in Mexico."
   ]
  },
  {
   "cell_type": "markdown",
   "metadata": {},
   "source": [
    "## Using Images"
   ]
  },
  {
   "cell_type": "markdown",
   "metadata": {},
   "source": [
    "### <font color='blue'> Only run the following cell if you are on Google Colab</font>\n",
    "\n",
    "Uncomment the cell below if you are on Google Colab"
   ]
  },
  {
   "cell_type": "code",
   "execution_count": null,
   "metadata": {},
   "outputs": [],
   "source": [
    "#!pip install owslib"
   ]
  },
  {
   "cell_type": "code",
   "execution_count": null,
   "metadata": {},
   "outputs": [],
   "source": [
    "### This function is meant to replace an internal Python function ###\n",
    "\n",
    "from owslib.wmts import TileMatrixSetLink, TileMatrixLimits\n",
    "from owslib.wmts import _TILE_MATRIX_SET_TAG, _TILE_MATRIX_SET_LIMITS_TAG\n",
    "from owslib.wmts import _TILE_MATRIX_LIMITS_TAG\n",
    "\n",
    "def custom_from_elements(link_elements):\n",
    "    links = []\n",
    "    for link_element in link_elements:\n",
    "        matrix_set_elements = link_element.findall(_TILE_MATRIX_SET_TAG)\n",
    "        if len(matrix_set_elements) == 0:\n",
    "            raise ValueError('Missing TileMatrixSet in %s' % link_element)\n",
    "        elif len(matrix_set_elements) > 1:\n",
    "            set_limits_elements = link_element.findall(\n",
    "                _TILE_MATRIX_SET_LIMITS_TAG)\n",
    "            if set_limits_elements:\n",
    "                raise ValueError('Multiple instances of TileMatrixSet'\n",
    "                                  ' plus TileMatrixSetLimits in %s' %\n",
    "                                  link_element)\n",
    "            for matrix_set_element in matrix_set_elements:\n",
    "                uri = matrix_set_element.text.strip()\n",
    "                links.append(TileMatrixSetLink(uri))\n",
    "        else:\n",
    "            uri = matrix_set_elements[0].text.strip()\n",
    "\n",
    "            tilematrixlimits = {}\n",
    "            path = '%s/%s' % (_TILE_MATRIX_SET_LIMITS_TAG,\n",
    "                              _TILE_MATRIX_LIMITS_TAG)\n",
    "            for limits_element in link_element.findall(path):\n",
    "                tml = TileMatrixLimits(limits_element)\n",
    "                if tml.tilematrix:\n",
    "                    tilematrixlimits[tml.tilematrix] = tml\n",
    "\n",
    "            links.append(TileMatrixSetLink(uri, tilematrixlimits))\n",
    "    return links\n",
    "\n",
    "TileMatrixSetLink.from_elements = custom_from_elements"
   ]
  },
  {
   "cell_type": "markdown",
   "metadata": {},
   "source": [
    "<font color=\"blue\">Remote Image</font>"
   ]
  },
  {
   "cell_type": "markdown",
   "metadata": {},
   "source": [
    "Example 1:"
   ]
  },
  {
   "cell_type": "code",
   "execution_count": null,
   "metadata": {},
   "outputs": [],
   "source": [
    "# Define resource for the NASA night-time illumination data.\n",
    "\n",
    "base_uri = 'http://map1c.vis.earthdata.nasa.gov/wmts-geo/wmts.cgi'\n",
    "layer_name = 'VIIRS_CityLights_2012'\n",
    "\n",
    "#eng_boundingbox = [-6, 3, 48, 58]\n",
    "usa_boundingbox = [-130, -65, 24, 47]\n",
    "\n",
    "# Create a Cartopy crs for plain and rotated lat-lon projections.\n",
    "plain_crs = ccrs.PlateCarree()\n",
    "\n",
    "fig = plt.figure(figsize=(10, 7))\n",
    "\n",
    "# Plot WMTS data in a specific region, over a plain lat-lon map.\n",
    "ax = fig.add_subplot(1, 1, 1, projection=plain_crs)\n",
    "ax.set_extent(usa_boundingbox, crs=ccrs.PlateCarree())\n",
    "ax.coastlines(resolution='50m', color='yellow')\n",
    "ax.gridlines(color='lightgrey', linestyle='-')\n",
    "# Add WMTS imaging.\n",
    "ax.add_wmts(base_uri, layer_name=layer_name)\n",
    "\n",
    "ax.set_title('Suomi NPP Earth at night April/October 2012')\n",
    "\n",
    "plt.show()"
   ]
  },
  {
   "cell_type": "markdown",
   "metadata": {},
   "source": [
    "Example 2:"
   ]
  },
  {
   "cell_type": "code",
   "execution_count": null,
   "metadata": {},
   "outputs": [],
   "source": [
    "import matplotlib.patheffects as PathEffects\n",
    "from owslib.wmts import WebMapTileService\n",
    "\n",
    "# URL of NASA GIBS\n",
    "URL = 'https://gibs.earthdata.nasa.gov/wmts/epsg4326/best/wmts.cgi'\n",
    "wmts = WebMapTileService(URL)\n",
    "\n",
    "# Layers for MODIS true color and snow RGB\n",
    "layers = ['MODIS_Terra_SurfaceReflectance_Bands143',\n",
    "          'MODIS_Terra_CorrectedReflectance_Bands367']\n",
    "\n",
    "date_str = '2016-02-05'\n",
    "\n",
    "# Plot setup\n",
    "plot_CRS = ccrs.Mercator()\n",
    "geodetic_CRS = ccrs.Geodetic()\n",
    "x0, y0 = plot_CRS.transform_point(4.6, 43.1, geodetic_CRS)\n",
    "x1, y1 = plot_CRS.transform_point(11.0, 47.4, geodetic_CRS)\n",
    "ysize = 8\n",
    "xsize = 2 * ysize * (x1 - x0) / (y1 - y0)\n",
    "fig = plt.figure(figsize=(xsize, ysize), dpi=100)\n",
    "\n",
    "for layer, offset in zip(layers, [0, 0.5]):\n",
    "    ax = fig.add_axes([offset, 0, 0.5, 1], projection=plot_CRS)\n",
    "    ax.set_xlim((x0, x1))\n",
    "    ax.set_ylim((y0, y1))\n",
    "    ax.add_wmts(wmts, layer, wmts_kwargs={'time': date_str})\n",
    "    txt = ax.text(4.7, 43.2, wmts[layer].title, fontsize=18, \n",
    "                  color='wheat', transform=geodetic_CRS)\n",
    "    txt.set_path_effects([PathEffects.withStroke(linewidth=5,\n",
    "                                                 foreground='black')])\n",
    "plt.show()\n"
   ]
  },
  {
   "cell_type": "markdown",
   "metadata": {},
   "source": [
    "<font color=\"blue\">Satellite Image</font>"
   ]
  },
  {
   "cell_type": "code",
   "execution_count": null,
   "metadata": {},
   "outputs": [],
   "source": [
    "# Get the remote file\n",
    "from urllib.request import urlopen\n",
    "from PIL import Image\n",
    "url = \"https://lance-modis.eosdis.nasa.gov/imagery/gallery/2012270-0926/Miriam.A2012270.2050.2km.jpg\"\n",
    "\n",
    "img = Image.open(urlopen(url))\n",
    "\n",
    "print(\"Type of object: \", type(img))\n",
    "print(\"Image size:     \", img.size)"
   ]
  },
  {
   "cell_type": "markdown",
   "metadata": {},
   "source": [
    "**Information on the file:** <a href=\"https://lance.modaps.eosdis.nasa.gov/imagery/gallery/2012270-0926/Miriam.A2012270.2050.txt\">Tropical Storm Miriam (13E) off Mexico</a>\n",
    " \n",
    "| Key  | Value |\n",
    "| --- | --- |\n",
    "| region | Pa | \n",
    "| sat | Aqua | \n",
    "| projection |Plate Carree | \n",
    "| projection center lon |-113.5000 | \n",
    "| projection center lat | +22.0000 | \n",
    "| image center lon | -113.5 | \n",
    "| image center lat | +22 | \n",
    "| standard parallel | +20.0000 | \n",
    "| UL lon |-120.6766 | \n",
    "| UL lat |+30.7669 | \n",
    "| UR lon | -106.3210 | \n",
    "| UR lat | +30.7669 | \n",
    "| LR lon | -106.3210 | \n",
    "| LR lat | +13.2301 | \n",
    "| LL lon | -120.6766 | \n",
    "| LL lat | +13.2301 | \n",
    "| UL easting (km) | -749.8750 | \n",
    "| UL northing (km) | +3421.1250 | \n",
    "| x scale factor | +0.9396926207859084 | \n",
    "| ellipsoid | WGS84 | \n",
    "| Contact | Jeff Schmaltz | \n",
    "| L2 granules | A122702045 A122702050 | "
   ]
  },
  {
   "cell_type": "code",
   "execution_count": null,
   "metadata": {},
   "outputs": [],
   "source": [
    "fig = plt.figure(figsize=(8, 12))\n",
    "\n",
    "img_extent = (-120.67660000000001, -106.32104523100001, \\\n",
    "              13.2301484511245, 30.766899999999502)\n",
    "\n",
    "ax = plt.axes(projection=ccrs.PlateCarree())\n",
    "\n",
    "# set a margin around the data\n",
    "ax.set_xmargin(0.05)\n",
    "ax.set_ymargin(0.10)\n",
    "\n",
    "# add the image. Because this image was a tif, the \"origin\" of \n",
    "# the image is in the\n",
    "# upper left corner\n",
    "ax.imshow(img, origin='upper', extent=img_extent, \\\n",
    "          transform=ccrs.PlateCarree())\n",
    "ax.coastlines(resolution='50m', color='black', linewidth=1)\n",
    "\n",
    "# mark a known place to help us geo-locate ourselves\n",
    "ax.plot(-117.1625, 32.715, 'bo', markersize=7, transform=ccrs.Geodetic())\n",
    "ax.text(-117, 33, 'San Diego', transform=ccrs.Geodetic())"
   ]
  },
  {
   "cell_type": "markdown",
   "metadata": {},
   "source": [
    "## Exercise 3\n",
    "We want to use the netCDF file:\n",
    "\n",
    "https://www.unidata.ucar.edu/software/netcdf/examples/sresa1b_ncar_ccsm3-example.nc\n",
    "\n",
    "to plot the surface air temperature (variable `tas`).\n",
    "\n",
    "* The code below obtains the netCDF file and extracts the variable `tas`.\n",
    "* You need to use cartopy to do a contour plot and add the colorbar.\n",
    "\n",
    "The metadata of the file is located at:\n",
    "\n",
    "https://www.unidata.ucar.edu/software/netcdf/examples/sresa1b_ncar_ccsm3-example.cdl"
   ]
  },
  {
   "cell_type": "markdown",
   "metadata": {},
   "source": [
    "### <font color='blue'> Only run the following cell if you are on Google Colab</font>\n",
    "\n",
    "Uncomment the cell below if you are on Google Colab"
   ]
  },
  {
   "cell_type": "code",
   "execution_count": null,
   "metadata": {},
   "outputs": [],
   "source": [
    "#!pip install netCDF4"
   ]
  },
  {
   "cell_type": "code",
   "execution_count": null,
   "metadata": {},
   "outputs": [],
   "source": [
    "!ls"
   ]
  },
  {
   "cell_type": "code",
   "execution_count": null,
   "metadata": {},
   "outputs": [],
   "source": [
    "# Get the remote  file\n",
    "import urllib.request\n",
    "import os\n",
    "\n",
    "url = \"https://www.unidata.ucar.edu/software/netcdf/examples/sresa1b_ncar_ccsm3-example.nc\"\n",
    "\n",
    "nc_file = os.path.basename(url)\n",
    "urllib.request.urlretrieve(url, nc_file)"
   ]
  },
  {
   "cell_type": "markdown",
   "metadata": {},
   "source": [
    "**`ncdump -h` the netCDF file**"
   ]
  },
  {
   "cell_type": "code",
   "execution_count": null,
   "metadata": {},
   "outputs": [],
   "source": [
    "import netCDF4 as nc4\n",
    "import numpy as np\n",
    "\n",
    "def my_ncdump(file_name):\n",
    "    with nc4.Dataset(file_name, mode='r') as ncfid:\n",
    "         for name, var in ncfid.variables.items():\n",
    "             print(\"{}:\".format(name))\n",
    "             print(\"{:>20}: {}\".format(\"Dimension\", var.dimensions))\n",
    "             print(\"{:>20}: {}\".format(\"Dimension value\", var.shape))\n",
    "             print(\"{:>20}: {}\".format(\"Type\", var.dtype))\n",
    "             for attr in var.ncattrs():\n",
    "                 print(\"{:>20}: {}\".format(attr, var.getncattr(attr)))\n",
    "         print()\n",
    "         print(\"Global attributes\")\n",
    "         for attr in ncfid.ncattrs():\n",
    "             print(\"{:>20}: {}\".format(attr, ncfid.getncattr(attr)))\n",
    "                \n",
    "my_ncdump(nc_file)"
   ]
  },
  {
   "cell_type": "markdown",
   "metadata": {},
   "source": [
    "**Read the netCDF file**"
   ]
  },
  {
   "cell_type": "code",
   "execution_count": null,
   "metadata": {},
   "outputs": [],
   "source": [
    "# Open the netCDF file and read surface air temperature\n",
    "from netCDF4 import Dataset\n",
    "import numpy as np\n",
    "with Dataset(nc_file,'r') as ncid:\n",
    "     lons = ncid.variables['lon'][:] # longitude grid points\n",
    "     lats = ncid.variables['lat'][:] # latitude grid points\n",
    "     surf_temp = ncid.variables['tas'][0] \n",
    "\n",
    "print(\"Shape of lons:      \", np.shape(lons), lons[0], lons[-1])\n",
    "print(\"Shape of lats:      \", np.shape(lats), lats[0], lats[-1])\n",
    "print(\"Shape of surf_temp: \", np.shape(surf_temp))"
   ]
  },
  {
   "cell_type": "markdown",
   "metadata": {},
   "source": [
    "**Use `Cartopy` to do a contour plot**"
   ]
  },
  {
   "cell_type": "code",
   "execution_count": null,
   "metadata": {},
   "outputs": [],
   "source": [
    "plt.figure(figsize=(9, 5))\n",
    "map_projection = ccrs.PlateCarree()\n",
    "ax = plt.axes(projection=map_projection)\n",
    "\n",
    "im = ax.contourf(lons, lats, surf_temp, transform=map_projection)\n",
    "ax.coastlines()\n",
    "\n",
    "ax.set_xticks(np.linspace(-180, 180, 5), crs=map_projection)\n",
    "ax.set_yticks(np.linspace(-90, 90, 5),   crs=map_projection)\n",
    "lon_formatter = LongitudeFormatter(zero_direction_label=True)\n",
    "lat_formatter = LatitudeFormatter()\n",
    "ax.xaxis.set_major_formatter(lon_formatter)\n",
    "ax.yaxis.set_major_formatter(lat_formatter)\n",
    "\n",
    "plt.colorbar(im, orientation='vertical')\n",
    "\n",
    "ax.set_global()\n",
    "plt.show()"
   ]
  },
  {
   "cell_type": "markdown",
   "metadata": {},
   "source": [
    "**Remove the equatorial line**\n",
    "\n",
    "- Make sure that we cycle the longitude"
   ]
  },
  {
   "cell_type": "code",
   "execution_count": null,
   "metadata": {},
   "outputs": [],
   "source": [
    "import cartopy.util\n",
    "\n",
    "plt.figure(figsize=(9, 5))\n",
    "map_projection = ccrs.PlateCarree()\n",
    "ax = plt.axes(projection=map_projection)\n",
    "\n",
    "surf_temp, lons = cartopy.util.add_cyclic_point(surf_temp, \n",
    "                                                coord=lons)\n",
    "\n",
    "im = ax.contourf(lons, lats, surf_temp, transform=map_projection)\n",
    "ax.coastlines()\n",
    "\n",
    "ax.set_xticks(np.linspace(-180, 180, 5), crs=map_projection)\n",
    "ax.set_yticks(np.linspace(-90, 90, 5),   crs=map_projection)\n",
    "lon_formatter = LongitudeFormatter(zero_direction_label=True)\n",
    "lat_formatter = LatitudeFormatter()\n",
    "ax.xaxis.set_major_formatter(lon_formatter)\n",
    "ax.yaxis.set_major_formatter(lat_formatter)\n",
    "\n",
    "plt.colorbar(im, orientation='vertical')\n",
    "\n",
    "ax.set_global()\n",
    "plt.show()"
   ]
  },
  {
   "cell_type": "markdown",
   "metadata": {},
   "source": [
    "# <font color=\"red\"> Cartopy and Shapefile Files</font>"
   ]
  },
  {
   "cell_type": "markdown",
   "metadata": {},
   "source": [
    "## What is Shapefile?\n",
    "\n",
    "The shapefile format:\n",
    "* Is a digital vector storage format for storing geometric location and associated attribute information.\n",
    "* Geographic features in a shapefile can be represented by points, lines, or polygons (areas).\n",
    "* Is non-topological. It does not maintain spatial relationship information such as connectivity, adjacency, and area definition.\n",
    "* Because the structure of points, lines, and polygons are different, each individual shapefile can only contain one vector type (all points, all lines or all polygons). You will not find a mixture of point, line and polygon objects in a single shapefile.\n",
    "* Was introduced with ArcView GIS version 2 in the early 1990s.\n",
    "\n",
    "#### Representation of the geographic features of a shapefile\n",
    "\n",
    "![features](https://www.earthdatascience.org/images/courses/earth-analytics/spatial-data/points-lines-polygons-vector-data-types.png)\n",
    "Image Source: Colin Williams (NEON)\n"
   ]
  },
  {
   "cell_type": "markdown",
   "metadata": {},
   "source": [
    "## Content of Shapefile Files\n",
    "\n",
    "Every shapefile data set includes at least three files:\n",
    "\n",
    "* **.shp**: The main file that contains the primary geographic reference data and records of various shape types included, such as points, polygons, or multipatches.\n",
    "* **.dbf**: The dBase file that stores attributes for each shape. It alows quicker access to the spatial features of the data.\n",
    "* **.shx**: Organize the records of a shapefile for reference.\n",
    "\n",
    "These files need to have the same name and to be stored in the same directory (folder).\n",
    "\n",
    "Sometimes, a shapefile will have other associated files including:\n",
    "\n",
    "* **.prj**: Contains information on projection format including the coordinate system and projection information. It is a plain text file describing the projection using well-known text (WKT) format.\n",
    "* **.sbn** and **.sbx**: the files that are a spatial index of the features.\n",
    "* **.shp.xml**: the file that is the geospatial metadata in XML format, (e.g. ISO 19115 or XML format).\n",
    "\n",
    "#### Spatial Data Attributes\n",
    "\n",
    "- Each object in a shapefile has one or more attributes associated with it. \n",
    "- Shapefile attributes are similar to fields or columns in a spreadsheet. \n",
    "- Each row in the spreadsheet has a set of columns associated with it that describe the row element.\n",
    "- Attribute data are stored in the **.dbf** file. \n",
    "\n",
    "![attributes](https://www.earthdatascience.org/images/courses/earth-analytics/spatial-data/spatial-attribute-tables.png)\n",
    "Image Source: National Ecological Observatory Network (NEON)"
   ]
  },
  {
   "cell_type": "markdown",
   "metadata": {},
   "source": [
    "<font color=\"blue\"> EXAMPLE: Color all the \"counties\" in Belgium</font>"
   ]
  },
  {
   "cell_type": "code",
   "execution_count": null,
   "metadata": {},
   "outputs": [],
   "source": [
    "# Obtain the remote shapefile files\n",
    "import urllib.request\n",
    "\n",
    "url = 'https://raw.githubusercontent.com/astg606/py_materials/master/visualization/borders/'\n",
    "\n",
    "file_list = [\"BEL_adm3.csv\", \"BEL_adm3.dbf\", \"BEL_adm3.prj\", \"BEL_adm3.shp\", \"BEL_adm3.shx\"]\n",
    "\n",
    "for file in file_list:\n",
    "    urllib.request.urlretrieve(url+file, file)"
   ]
  },
  {
   "cell_type": "code",
   "execution_count": null,
   "metadata": {},
   "outputs": [],
   "source": [
    "subplot_kw = dict(projection=ccrs.PlateCarree())\n",
    "\n",
    "fig, ax = plt.subplots(figsize=(13, 11),\n",
    "                       subplot_kw=subplot_kw)\n",
    "\n",
    "# Create a map of Europe\n",
    "#---------------------------\n",
    "lower_lon = -5.0\n",
    "upper_lon = 15.\n",
    "lower_lat = 45.\n",
    "upper_lat = 54.\n",
    "\n",
    "ax.set_extent([lower_lon, upper_lon, lower_lat, upper_lat])\n",
    "\n",
    "# Put a background image on for nice sea rendering.\n",
    "ax.stock_img()\n",
    "\n",
    "ax.add_feature(cfeature.BORDERS, linestyle=':')\n",
    "#ax.add_feature(cfeature.LAND)\n",
    "ax.add_feature(cfeature.COASTLINE)\n",
    "\n",
    "# Get the shapes  (from the shp file) and \n",
    "#         records (from the dbf files)\n",
    "# ---------------------------------------\n",
    "reader = shapereader.Reader('BEL_adm3')\n",
    "\n",
    "# The read shapefile method allows you to call the shapefile's shapes and info. \n",
    "# Both are lists, the first containing a list of tuples (coordinates), \n",
    "# and the second containig a dictionary with associated metadata\n",
    "\n",
    "# Plots the shapes as Polygons with a random facecolor\n",
    "for country in reader.geometries():\n",
    "    ax.add_geometries([country], ccrs.PlateCarree(), \\\n",
    "                      facecolor=cm.jet(np.random.rand()), \\\n",
    "                      edgecolor='black')\n",
    "    \n",
    "plt.show()"
   ]
  },
  {
   "cell_type": "markdown",
   "metadata": {},
   "source": [
    "## Cartopy and the Natural Earth Dataset"
   ]
  },
  {
   "cell_type": "markdown",
   "metadata": {},
   "source": [
    "* Cartopy provides an interface for access to frequently used data such as the <a href=\"https://www.ngdc.noaa.gov/mgg/shorelines/gshhs.html\">GSHHS</a> dataset and from the <a href=\"http://www.naturalearthdata.com\">NaturalEarthData</a> website. \n",
    "* These interfaces allow the user to define the data programmatically, and if the data does not exist on disk, it will be retrieved from the appropriate source (normally by downloading the data from the internet)."
   ]
  },
  {
   "cell_type": "markdown",
   "metadata": {},
   "source": [
    "**You can use the Natural Earth Data database to have higher-resolution features:**"
   ]
  },
  {
   "cell_type": "code",
   "execution_count": null,
   "metadata": {},
   "outputs": [],
   "source": [
    "central_lat = 37.5\n",
    "central_lon = -96\n",
    "extent = [-120, -70, 24, 50.5]\n",
    "central_lon = np.mean(extent[:2])\n",
    "central_lat = np.mean(extent[2:])\n",
    "\n",
    "rivers_50m = cfeature.NaturalEarthFeature('physical', 'rivers_lake_centerlines', '50m')\n",
    "\n",
    "plt.figure(figsize=(12, 6))\n",
    "ax = plt.axes(projection=ccrs.AlbersEqualArea(central_lon, central_lat))\n",
    "ax.set_extent(extent)\n",
    "\n",
    "ax.add_feature(cartopy.feature.OCEAN)\n",
    "ax.add_feature(cartopy.feature.LAND, edgecolor='black')\n",
    "#ax.add_feature(cartopy.feature.RIVERS, edgecolor='b')\n",
    "ax.add_feature(rivers_50m, facecolor='None', edgecolor='b')\n",
    "ax.gridlines()"
   ]
  },
  {
   "cell_type": "code",
   "execution_count": null,
   "metadata": {},
   "outputs": [],
   "source": [
    "fig = plt.figure(figsize=(12, 5))\n",
    "# ax = fig.add_subplot(1, 1, 1, projection=ccrs.PlateCarree())\n",
    "ax = plt.axes(projection=ccrs.PlateCarree())\n",
    "ax.set_extent([80, 170, -45, 30], crs=ccrs.PlateCarree())\n",
    "\n",
    "# Put a background image on for nice sea rendering.\n",
    "ax.stock_img()\n",
    "\n",
    "# Create a feature for States/Admin 1 regions at 1:50m from Natural Earth\n",
    "states_provinces = cfeature.NaturalEarthFeature(\n",
    "    category='cultural',\n",
    "    name='admin_1_states_provinces_lines',\n",
    "    scale='50m',\n",
    "    facecolor='none')\n",
    "\n",
    "ax.add_feature(cfeature.LAND)\n",
    "ax.add_feature(cfeature.COASTLINE)\n",
    "ax.add_feature(states_provinces, edgecolor='gray')\n",
    "\n",
    "plt.show()"
   ]
  },
  {
   "cell_type": "markdown",
   "metadata": {},
   "source": [
    "**To acquire the countries dataset from Natural Earth, we may use:**"
   ]
  },
  {
   "cell_type": "code",
   "execution_count": null,
   "metadata": {},
   "outputs": [],
   "source": [
    "import cartopy.io.shapereader as shapereader\n",
    " \n",
    "shpfilename = shapereader.natural_earth(resolution='110m', \\\n",
    "                                      category='cultural', \\\n",
    "                                      name='admin_0_countries')"
   ]
  },
  {
   "cell_type": "markdown",
   "metadata": {},
   "source": [
    "The function `Reader` provides an interface for accessing the contents of a shapefile. It returns an instance that has two primary methods:\n",
    "\n",
    "* **geometries()**: Returns an iterator of shapely geometries from the shapefile.\n",
    "* **records()**: Returns an iterator of Record (entry of the file that combines attributes with their associated geometry) instances."
   ]
  },
  {
   "cell_type": "code",
   "execution_count": null,
   "metadata": {},
   "outputs": [],
   "source": [
    "reader = shapereader.Reader(shpfilename)\n",
    "countries = reader.records()\n",
    "country = next(countries)"
   ]
  },
  {
   "cell_type": "code",
   "execution_count": null,
   "metadata": {},
   "outputs": [],
   "source": [
    "print(type(country.attributes))"
   ]
  },
  {
   "cell_type": "code",
   "execution_count": null,
   "metadata": {},
   "outputs": [],
   "source": [
    "for key in country.attributes:\n",
    "    print(\"{:} --> {:>}\".format(key, country.attributes[key]))"
   ]
  },
  {
   "cell_type": "markdown",
   "metadata": {},
   "source": [
    "<font color=\"blue\"> EXAMPLE: Map the Globe and Color the United States</font>"
   ]
  },
  {
   "cell_type": "code",
   "execution_count": null,
   "metadata": {},
   "outputs": [],
   "source": [
    "# Select the map projection\n",
    "#----------------------\n",
    "ax = plt.axes(projection=ccrs.PlateCarree())\n",
    "ax.add_feature(cartopy.feature.OCEAN)\n",
    " \n",
    "# Select the area of interest\n",
    "#-----------------------\n",
    "ax.set_extent([-130, -65, 24, 47])\n",
    " \n",
    "for country in countries:\n",
    "    if country.attributes['ADM0_A3'] == 'USA':\n",
    "        ax.add_geometries(country.geometry, \\\n",
    "                          ccrs.PlateCarree(), \\\n",
    "                          facecolor=(0, 0, 1),\n",
    "                          label=country.attributes['ADM0_A3'])\n",
    "    else:\n",
    "        ax.add_geometries(country.geometry, ccrs.PlateCarree(),\n",
    "                          facecolor=(0, 1, 0), \\\n",
    "                          label=country.attributes['ADM0_A3'])\n",
    " \n",
    "plt.show()"
   ]
  },
  {
   "cell_type": "markdown",
   "metadata": {},
   "source": [
    "### Exercise:\n",
    "Draw the USA map and randomly color each state.\n",
    "\n",
    "You may want to use:\n",
    "\n",
    "```python\n",
    "shapename = 'admin_1_states_provinces_lakes_shp'\n",
    "states_shp = shapereader.natural_earth(resolution='110m',\n",
    "                                       category='cultural',\n",
    "                                       name=shapename)\n",
    "\n",
    "reader = shapereader.Reader(states_shp)\n",
    "```"
   ]
  },
  {
   "cell_type": "markdown",
   "metadata": {},
   "source": [
    "### <font color=\"blue\"> EXAMPLE: Select the country Cameroon and color each of its administrative region with a different color </font>"
   ]
  },
  {
   "cell_type": "code",
   "execution_count": null,
   "metadata": {},
   "outputs": [],
   "source": [
    "from matplotlib.colors import cnames\n",
    "import cartopy.feature as cfeature\n",
    "from cartopy.mpl.gridliner import LONGITUDE_FORMATTER, LATITUDE_FORMATTER\n",
    "\n",
    "# Read the Natural Earth shapefile dataset\n",
    "#----------------------------------\n",
    "kw = dict(resolution='10m', category='cultural', \\\n",
    "          name='admin_1_states_provinces')\n",
    "states_shp = shapereader.natural_earth(**kw)\n",
    "shp = shapereader.Reader(states_shp)\n",
    " \n",
    "# Select the map projection\n",
    "#----------------------\n",
    "subplot_kw = dict(projection=ccrs.PlateCarree())\n",
    " \n",
    "fig, ax = plt.subplots(figsize=(7, 11), subplot_kw=subplot_kw)\n",
    " \n",
    "# Select the area that includes Cameroon\n",
    "#----------------------------------\n",
    "ax.set_extent([7.85, 17.05, 1.475, 13.50])\n",
    "#ax.set_extent([7.5, 17.5, 1.25, 15])\n",
    "\n",
    "ax.background_patch.set_visible(False)\n",
    "ax.outline_patch.set_visible(False)\n",
    " \n",
    "# Get from Matplotlib a list of colors\n",
    "#------------------------------\n",
    "colors = list(cnames.keys())\n",
    "len_colors = len(colors)\n",
    " \n",
    "k = 0\n",
    "for record, state in zip(shp.records(), shp.geometries()):\n",
    "    if record.attributes['admin'] == 'Cameroon':\n",
    "        if k+1 == len_colors:\n",
    "            k = 0\n",
    "        else:\n",
    "            k += 1\n",
    "        facecolor = colors[k]\n",
    "        ax.add_geometries([state], ccrs.PlateCarree(), \\\n",
    "                      facecolor=facecolor, edgecolor='black')\n",
    "    else:\n",
    "        facecolor = 'LightGray'\n",
    "#    ax.add_geometries([state], ccrs.PlateCarree(), \\\n",
    "#                      facecolor=facecolor, edgecolor='black')\n",
    " \n",
    "plt.show()"
   ]
  },
  {
   "cell_type": "code",
   "execution_count": null,
   "metadata": {},
   "outputs": [],
   "source": []
  }
 ],
 "metadata": {
  "anaconda-cloud": {},
  "kernelspec": {
   "display_name": "Python 3 (ipykernel)",
   "language": "python",
   "name": "python3"
  },
  "language_info": {
   "codemirror_mode": {
    "name": "ipython",
    "version": 3
   },
   "file_extension": ".py",
   "mimetype": "text/x-python",
   "name": "python",
   "nbconvert_exporter": "python",
   "pygments_lexer": "ipython3",
   "version": "3.8.8"
  }
 },
 "nbformat": 4,
 "nbformat_minor": 1
}
