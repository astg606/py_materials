{
 "cells": [
  {
   "cell_type": "markdown",
   "metadata": {},
   "source": [
    "<font color=\"white\">.</font> | <font color=\"white\">.</font> | <font color=\"white\">.</font>\n",
    "-- | -- | --\n",
    "![NASA](http://www.nasa.gov/sites/all/themes/custom/nasatwo/images/nasa-logo.svg) | <h1><font size=\"+3\">ASTG Python Courses</font></h1> | ![NASA](https://www.nccs.nasa.gov/sites/default/files/NCCS_Logo_0.png)\n",
    " \n",
    "---\n",
    "\n",
    "<CENTER>\n",
    "<H1 style=\"color:red\">\n",
    "An Introduction to netCDF4 Python\n",
    "</H1>\n",
    "</CENTER>"
   ]
  },
  {
   "cell_type": "markdown",
   "metadata": {},
   "source": [
    "# <font color='red'> Useful References </font>"
   ]
  },
  {
   "cell_type": "markdown",
   "metadata": {},
   "source": [
    "* <A HREF=\"http://pyhogs.github.io/intro_netcdf4.html\">Create and read netCDF files</A>\n",
    "* <A HREF=\"https://unidata.github.io/netcdf4-python/netCDF4/index.html\">netCDF4 module</A>\n",
    "* <a href=\"https://annefou.github.io/metos_python/07-LargeFiles/\">Handling very large files in Python</a>"
   ]
  },
  {
   "cell_type": "markdown",
   "metadata": {},
   "source": [
    "## <font color=\"red\"> Scientific Data</font>\n",
    "\n",
    "* N‐dimensional arrays and metadata:\n",
    "* Measurements at specific time, location,condition\n",
    "       – Physics: temperature, pressure\n",
    "       – Chemistry: reaction speed\n",
    "       – Biology: type (species, cell types, nucleotides)\n",
    "       – Economics: price\n",
    "       – Algorithmics: program time and space\n",
    "       – Networking: network activity\n",
    "       – Robotics: movements\n",
    "     \n",
    "**Requirements**\n",
    "\n",
    "+ Compact storage: compression\n",
    "+ Fast I/O: parallel, partial, random access\n",
    "+ Portability: transporting data between computers\n",
    "+ Tools for manipulating data: reorganizing, aggregating, subsetting, converting,visualizing\n",
    "+ Easy API in many languages: C, C++, Fortran, Java, Matlab, Perl, Python, R, ..."
   ]
  },
  {
   "cell_type": "markdown",
   "metadata": {},
   "source": [
    "## <font color=\"red\"> What We Will Cover </font>\n",
    "* Opening a file\n",
    "* Dimension\n",
    "* Variables\n",
    "* Attributes\n",
    "* Writing data\n",
    "* Creating groups\n",
    "* Reading data"
   ]
  },
  {
   "cell_type": "markdown",
   "metadata": {},
   "source": [
    "## <font color='red'> What is netCDF?</font>"
   ]
  },
  {
   "cell_type": "markdown",
   "metadata": {},
   "source": [
    "**Overview**\n",
    "\n",
    "* The Network Common Data Form, or netCDF, is an interface to a library of data access functions for storing and retrieving data in the form of arrays.\n",
    "* NetCDF is an abstraction that supports a view of data as a collection of self-describing, portable objects that can be accessed through a simple interface.\n",
    "* All operations to access and manipulate data in a netCDF dataset must use only the set of functions provided by the interface.\n",
    "* Array values may be accessed directly, without knowing details of how the data are stored.\n",
    "* NetCDF supports efficient access to small subsets of large datasets."
   ]
  },
  {
   "cell_type": "markdown",
   "metadata": {},
   "source": [
    "**Portability**\n",
    "\n",
    "* The netCDF library is supported for various Linux/UNIX operating systems as well as MS Windows.\n",
    "* APIs written for Fortran 77/90, C, C++, Java"
   ]
  },
  {
   "cell_type": "markdown",
   "metadata": {},
   "source": [
    "**Conventions**\n",
    "\n",
    "* The mere use of netCDF is not sufficient to make data \"self-describing\" and meaningful to both humans and machines. \n",
    "* By using a set of conventions, a data producer is more likely to produce files that can be easily shared within the research community, and that contain enough details to be useful as a long-term archive. \n",
    "* The names of variables and dimensions should be meaningful and conform to any relevant conventions.\n",
    "* It is important to use all the relevant standard attributes using the relevant conventions.\n",
    "\n"
   ]
  },
  {
   "cell_type": "markdown",
   "metadata": {},
   "source": [
    "## <font color='red'> What is netCDF4 Python?</font>\n",
    "\n",
    "* Python interface to the netCDF version 4 library.\n",
    "* **Can read and write files in both the new netCDF 4 and the netCDF 3 formats**.\n",
    "* Can create files that are readable by HDF5 utilities.\n",
    "* Relies on NumPy arrays."
   ]
  },
  {
   "cell_type": "markdown",
   "metadata": {},
   "source": [
    "-----"
   ]
  },
  {
   "cell_type": "markdown",
   "metadata": {},
   "source": [
    "**<font color=\"blue\">Uncomment the cell below if you are in Google Colab</font>**"
   ]
  },
  {
   "cell_type": "code",
   "execution_count": null,
   "metadata": {},
   "outputs": [],
   "source": [
    "#!pip install netCDF4"
   ]
  },
  {
   "cell_type": "markdown",
   "metadata": {},
   "source": [
    "-----"
   ]
  },
  {
   "cell_type": "code",
   "execution_count": null,
   "metadata": {},
   "outputs": [],
   "source": [
    "import warnings\n",
    "warnings.filterwarnings('ignore')"
   ]
  },
  {
   "cell_type": "code",
   "execution_count": null,
   "metadata": {},
   "outputs": [],
   "source": [
    "import datetime\n",
    "import numpy as np\n",
    "import netCDF4 as nc4"
   ]
  },
  {
   "cell_type": "markdown",
   "metadata": {},
   "source": [
    "## <font color='red'> Creating a netCDF-4 File</font>"
   ]
  },
  {
   "cell_type": "markdown",
   "metadata": {},
   "source": [
    "#### <font color='blue'> Opening a netCDF File</font>"
   ]
  },
  {
   "cell_type": "code",
   "execution_count": null,
   "metadata": {},
   "outputs": [],
   "source": [
    "ncFileName = 'sample_netcdf.nc4'\n",
    "modeType   = 'w'\n",
    "fileFormat = 'NETCDF4'\n",
    "ncfid = nc4.Dataset(ncFileName, mode=modeType, format=fileFormat)"
   ]
  },
  {
   "cell_type": "markdown",
   "metadata": {},
   "source": [
    "`modeType` has the options:\n",
    "* 'w': to create a new file\n",
    "* 'r+': to read and write with an existing file\n",
    "* 'r': to read (only) an existing file\n",
    "* 'a': to append to existing file\n",
    "\n",
    "`fileFormat` has the options: \n",
    "* 'NETCDF3_CLASSIC': Original netCDF format     \n",
    "* 'NETCDF3_64BIT_OFFSET': Used to ease the size restrictions of netCDF classic files\n",
    "* 'NETCDF4_CLASSIC'\n",
    "* 'NETCDF4': Offer new features such as groups, compound types, variable length arrays, new unsigned integer types, parallel I/O access, etc.\n",
    "* 'NETCDF3_64BIT_DATA'"
   ]
  },
  {
   "cell_type": "markdown",
   "metadata": {},
   "source": [
    "#### <font color='blue'> Creating Dimensions in a netCDF File</font>\n",
    "* Use the method `createDimension`\n",
    "* It typically takes as arguments a string (name of the dimension) and an integer (dimension size)\n",
    "* For unlimited dimensions, use `None` or `0` as size.\n",
    "* Unlimited size dimensions must be declared before (“to the left of”) other dimensions."
   ]
  },
  {
   "cell_type": "code",
   "execution_count": null,
   "metadata": {},
   "outputs": [],
   "source": [
    "time = ncfid.createDimension('time', None)\n",
    "lev  = ncfid.createDimension('lev', 72)\n",
    "lat  = ncfid.createDimension('lat', 91)\n",
    "lon  = ncfid.createDimension('lon', 144)"
   ]
  },
  {
   "cell_type": "markdown",
   "metadata": {},
   "source": [
    "#### <font color='blue'>Create Variables</font>\n",
    "* netCDF variables behave much like python multidimensional array objects supplied by the `numpy` module. However, unlike numpy arrays, netCDF4 variables can be appended to along one or more 'unlimited' dimensions. \n",
    "* To create a netCDF variable, use the method `createVariable`.\n",
    "* The first three arguments are the variable name, the variable type, a tuple of previously defined dimension names.\n",
    "* You can specify the datatype as a numpy dtype object, or anything that can be converted to a `numpy` dtype object. \n",
    "* If you need data compression, add the `zlib=True` argument."
   ]
  },
  {
   "cell_type": "markdown",
   "metadata": {},
   "source": [
    "**Dimension Variables**"
   ]
  },
  {
   "cell_type": "code",
   "execution_count": null,
   "metadata": {},
   "outputs": [],
   "source": [
    "times      = ncfid.createVariable('time','f8',('time',))\n",
    "levels     = ncfid.createVariable('lev','i4',('lev',))\n",
    "latitudes  = ncfid.createVariable('lat','f4',('lat',))\n",
    "longitudes = ncfid.createVariable('lon','f4',('lon',))"
   ]
  },
  {
   "cell_type": "markdown",
   "metadata": {},
   "source": [
    "**Regular Variables**"
   ]
  },
  {
   "cell_type": "code",
   "execution_count": null,
   "metadata": {},
   "outputs": [],
   "source": [
    "temp = ncfid.createVariable('temp','f4', \n",
    "                            ('time','lev','lat','lon',),\n",
    "                            fill_value=1.0e15)"
   ]
  },
  {
   "cell_type": "markdown",
   "metadata": {},
   "source": [
    "- By default, each variable is pre-filled at creation, i.e., the `_ FillValue` attribute (value that a variable gets filled with before any data is loaded into it) will automatically be set. The value depends on the type of the variable.\n",
    "- If you want to set your own value of `_FillValue`, the `fill_value` argument needs to be set provided (with the appropriate value) during the variable creation. Doing so overrides the default netCDF `_FillValue`.\n",
    "- If `fill_value` is et to `False`, then then the variable is not pre-filled."
   ]
  },
  {
   "cell_type": "markdown",
   "metadata": {},
   "source": [
    "#### <font color='blue'>Adding Variable Attributes</font>\n",
    "* Attributes allow us to capture metadata that would otherwise be separated from the data.\n",
    "* Variable attributes are added on individual variables in the dataset.\n",
    "* All variables should have values for the following attributes unless there is a very good reason not to:\n",
    "     - units\n",
    "     - long_name\n",
    "\n",
    "You may also consider attributes such as:\n",
    "* valid_min: Smallest valid value of a variable.\n",
    "* valid_max: Largest valid value of a variable.\n",
    "* standard_name: A name used to identify the physical quantity. A standard name contains no whitespace and is case sensitive. "
   ]
  },
  {
   "cell_type": "code",
   "execution_count": null,
   "metadata": {},
   "outputs": [],
   "source": [
    "latitudes.long_name  = 'latitude'\n",
    "latitudes.units      = 'degrees north'\n",
    "\n",
    "longitudes.long_name = 'longitude'\n",
    "longitudes.units     = 'degrees east'\n",
    "\n",
    "levels.long_name     = 'vertical levels'\n",
    "levels.units         = 'hPa'\n",
    "levels.positive      = 'down'\n",
    "\n",
    "beg_date = datetime.datetime(year=2019, month=1, day=1)\n",
    "times.long_name      = 'time'\n",
    "times.units          = beg_date.strftime('hours since %Y-%m-%d %H:%M:%S')\n",
    "times.calendar       = 'gregorian'\n",
    "\n",
    "temp.long_name       = 'temperature'\n",
    "temp.units           = 'K'\n",
    "temp.valid_min       = 200.\n",
    "temp.valid_max       = 350.\n",
    "temp.standard_name   = 'atmospheric_temperature'"
   ]
  },
  {
   "cell_type": "markdown",
   "metadata": {},
   "source": [
    "#### <font color='blue'>Adding Global Attributes</font>\n",
    "* Global attributes are on the dataset.\n",
    "* We use directly the file identifier to add them."
   ]
  },
  {
   "cell_type": "code",
   "execution_count": null,
   "metadata": {},
   "outputs": [],
   "source": [
    "current_date = datetime.datetime.today()\n",
    "ncfid.description = 'Sample netCDF file'\n",
    "ncfid.institution = 'NASA GSFC'\n",
    "ncfid.history     = 'File created on ' + current_date.strftime(\"%B %d, %Y, %H:%M:%S\")\n",
    "ncfid.source      = 'netCDF4 python tutorial'"
   ]
  },
  {
   "cell_type": "markdown",
   "metadata": {},
   "source": [
    "#### <font color='blue'>Writing Data in the File</font>"
   ]
  },
  {
   "cell_type": "code",
   "execution_count": null,
   "metadata": {},
   "outputs": [],
   "source": [
    "latitudes[:]  =  np.arange(-90,91,2.0)\n",
    "longitudes[:] =  np.arange(-180,180,2.5)\n",
    "levels[:]     =  np.arange(0,72,1)\n",
    "\n",
    "out_frequency = 3   # ouput frequency in hours\n",
    "num_records   = 5\n",
    "dates = [beg_date + n*datetime.timedelta(hours=out_frequency) for n in range(num_records)]\n",
    "times[:] = nc4.date2num(dates, units=times.units, calendar=times.calendar)\n",
    "for i in range(num_records):\n",
    "    temp[i,:,:,:] = np.random.uniform(size=(levels.size,\n",
    "                                            latitudes.size,\n",
    "                                            longitudes.size))"
   ]
  },
  {
   "cell_type": "code",
   "execution_count": null,
   "metadata": {},
   "outputs": [],
   "source": [
    "print(\"Time values: \\n\\t Units: {} \\n\\t Values: {}\".format(times.units, times[:]))"
   ]
  },
  {
   "cell_type": "markdown",
   "metadata": {},
   "source": [
    "#### <font color='blue'>Printing Dimension Information</font>\n",
    "\n",
    "List all the dimension information:"
   ]
  },
  {
   "cell_type": "code",
   "execution_count": null,
   "metadata": {},
   "outputs": [],
   "source": [
    "print(ncfid.variables)"
   ]
  },
  {
   "cell_type": "code",
   "execution_count": null,
   "metadata": {},
   "outputs": [],
   "source": [
    "for dim in ncfid.dimensions.values():\n",
    "     print(dim, dim.isunlimited())"
   ]
  },
  {
   "cell_type": "markdown",
   "metadata": {},
   "source": [
    "Get the list of dimension name and retrieve info for each dimension:"
   ]
  },
  {
   "cell_type": "code",
   "execution_count": null,
   "metadata": {},
   "outputs": [],
   "source": [
    "for name in ncfid.dimensions.keys():\n",
    "    dim = ncfid.variables[name]\n",
    "    print(name, dim.dtype, dim.size)"
   ]
  },
  {
   "cell_type": "code",
   "execution_count": null,
   "metadata": {},
   "outputs": [],
   "source": [
    "for name, dim in ncfid.dimensions.items():\n",
    "    print(name, dim.size, dim.isunlimited())"
   ]
  },
  {
   "cell_type": "markdown",
   "metadata": {},
   "source": [
    "#### <font color='blue'>Printing File Attributes</font>\n",
    "\n",
    "Get the global file attributes"
   ]
  },
  {
   "cell_type": "code",
   "execution_count": null,
   "metadata": {},
   "outputs": [],
   "source": [
    "for att in ncfid.ncattrs():\n",
    "    print(\"{:>15}: {}\".format(att, ncfid.getncattr(att)))"
   ]
  },
  {
   "cell_type": "code",
   "execution_count": null,
   "metadata": {},
   "outputs": [],
   "source": [
    "for att in ncfid.ncattrs():\n",
    "    print(\"{:>15}: {}\".format(att, getattr(ncfid, att)))"
   ]
  },
  {
   "cell_type": "markdown",
   "metadata": {},
   "source": [
    "Global attributes as a dictionary:"
   ]
  },
  {
   "cell_type": "code",
   "execution_count": null,
   "metadata": {},
   "outputs": [],
   "source": [
    "print(ncfid.__dict__)"
   ]
  },
  {
   "cell_type": "markdown",
   "metadata": {},
   "source": [
    "#### <font color='blue'>Printing Variable Information</font>\n",
    "\n",
    "List variable information but exclude dimensions:"
   ]
  },
  {
   "cell_type": "code",
   "execution_count": null,
   "metadata": {},
   "outputs": [],
   "source": [
    "for name in ncfid.variables.keys():\n",
    "    if (name not in ncfid.dimensions.keys()):\n",
    "       data = ncfid.variables[name]\n",
    "       print(name, data.units, data.shape, data.dtype, data.dimensions)"
   ]
  },
  {
   "cell_type": "code",
   "execution_count": null,
   "metadata": {},
   "outputs": [],
   "source": [
    "for name, var in ncfid.variables.items():\n",
    "    if (name not in ncfid.dimensions.keys()):\n",
    "       print(name, var.units, var.shape, var.dtype, var.dimensions)"
   ]
  },
  {
   "cell_type": "markdown",
   "metadata": {},
   "source": [
    "You can write a function to print variable attribute:"
   ]
  },
  {
   "cell_type": "code",
   "execution_count": null,
   "metadata": {},
   "outputs": [],
   "source": [
    "def print_ncattr(fid, key):\n",
    "    \"\"\"\n",
    "        Prints the NetCDF file attributes for a given key\n",
    "\n",
    "        Parameters: \n",
    "            * fid:  netCDF file identifier\n",
    "            * key:  unicode (a valid netCDF4.Dataset.variables key)\n",
    "    \"\"\"\n",
    "    try:\n",
    "        print('{}  -->'.format(key))\n",
    "        print(\"\\t {:>15}: {}\".format(\"type\", fid.variables[key].dtype))\n",
    "        for attr in fid.variables[key].ncattrs():\n",
    "            print('\\t {:>15}: {}'.format(attr, fid.variables[key].getncattr(attr)))\n",
    "    except KeyError:\n",
    "        print(\"\\t WARNING: {} does not contain variable attributes\".format(key))"
   ]
  },
  {
   "cell_type": "code",
   "execution_count": null,
   "metadata": {},
   "outputs": [],
   "source": [
    "print(print_ncattr.__doc__)"
   ]
  },
  {
   "cell_type": "code",
   "execution_count": null,
   "metadata": {},
   "outputs": [],
   "source": [
    "for name in ncfid.variables.keys():\n",
    "    print_ncattr(ncfid, name)"
   ]
  },
  {
   "cell_type": "code",
   "execution_count": null,
   "metadata": {},
   "outputs": [],
   "source": [
    "print_ncattr(ncfid, \"Wind\")"
   ]
  },
  {
   "cell_type": "code",
   "execution_count": null,
   "metadata": {},
   "outputs": [],
   "source": [
    "for name, var in ncfid.variables.items():\n",
    "    print('{}  -->'.format(name))\n",
    "    print(\"\\t {:>15}: {}\".format(\"type\", var.dtype))\n",
    "    for attr in var.ncattrs():\n",
    "        print('\\t {:>15}: {}'.format(attr, var.getncattr(attr)))"
   ]
  },
  {
   "cell_type": "markdown",
   "metadata": {},
   "source": [
    "#### <font color='blue'>Create Groups</font>\n",
    "* We can organize data in hierarchical groups, which are analogous to directories in a filesystem. \n",
    "* Groups serve as containers for variables, dimensions and attributes, as well as other groups.\n",
    "* Use the method `createGroup` to create groups."
   ]
  },
  {
   "cell_type": "code",
   "execution_count": null,
   "metadata": {},
   "outputs": [],
   "source": [
    "fcstgrp  = ncfid.createGroup('forecasts')\n",
    "fcstgrpm = ncfid.createGroup('forecasts/model')"
   ]
  },
  {
   "cell_type": "markdown",
   "metadata": {},
   "source": [
    "List the groups:"
   ]
  },
  {
   "cell_type": "code",
   "execution_count": null,
   "metadata": {},
   "outputs": [],
   "source": [
    "print(ncfid.groups)"
   ]
  },
  {
   "cell_type": "code",
   "execution_count": null,
   "metadata": {},
   "outputs": [],
   "source": [
    "def walk_group_tree(top):\n",
    "    \"\"\"\n",
    "       Python generator that is used to walk the directory tree.\n",
    "    \"\"\"\n",
    "    values = top.groups.values()\n",
    "    yield values\n",
    "    for value in top.groups.values():\n",
    "        for children in walk_group_tree(value):\n",
    "            yield children"
   ]
  },
  {
   "cell_type": "markdown",
   "metadata": {},
   "source": [
    "List of the created groups in the dataset:"
   ]
  },
  {
   "cell_type": "code",
   "execution_count": null,
   "metadata": {},
   "outputs": [],
   "source": [
    "for children in walk_group_tree(ncfid):\n",
    "    for child in children:\n",
    "        print(child)"
   ]
  },
  {
   "cell_type": "markdown",
   "metadata": {},
   "source": [
    "##### Add variable to a group"
   ]
  },
  {
   "cell_type": "code",
   "execution_count": null,
   "metadata": {},
   "outputs": [],
   "source": [
    "tempm = ncfid.createVariable('forecasts/model/temp','f4', \\\n",
    "                                  ('time','lev','lat','lon',))\n",
    "\n",
    "tempm.long_name       = 'temperature (model)'\n",
    "tempm.units           = 'K'\n",
    "tempm.valid_min       = 200.\n",
    "tempm.valid_max       = 350.\n",
    "tempm.standard_name   = 'atmospheric_temperature'\n",
    "\n",
    "tempm[0:num_records,:,:,:] = np.random.uniform(size=(num_records,\n",
    "                                                     levels.size,\n",
    "                                                     latitudes.size,\n",
    "                                                     longitudes.size))\n",
    "\n",
    "ps = fcstgrpm.createVariable('PS', 'f4', ('time', 'lat','lon',))\n",
    "ps.long_name = 'surface_pressure'\n",
    "ps.units = 'Pa'\n",
    "ps.valid_min = -1.0e15\n",
    "ps.valid_max = 1.0e15\n",
    "ps[0:num_records,:,:] = 1500.0*np.random.uniform(size=(num_records, latitudes.size,\n",
    "                                                       longitudes.size))"
   ]
  },
  {
   "cell_type": "code",
   "execution_count": null,
   "metadata": {},
   "outputs": [],
   "source": [
    "print(ncfid[\"forecasts/model\"])"
   ]
  },
  {
   "cell_type": "code",
   "execution_count": null,
   "metadata": {},
   "outputs": [],
   "source": [
    "print(ncfid[\"forecasts/model/temp\"])"
   ]
  },
  {
   "cell_type": "markdown",
   "metadata": {},
   "source": [
    "#### <font color='blue'>Close the file</font>"
   ]
  },
  {
   "cell_type": "code",
   "execution_count": null,
   "metadata": {},
   "outputs": [],
   "source": [
    "ncfid.close()"
   ]
  },
  {
   "cell_type": "markdown",
   "metadata": {},
   "source": [
    "## <font color='red'>Data Compression</font>\n",
    "\n",
    "- netCDF4 provides easy methods to compress data. \n",
    "- When you create variables, you can turn on data compression by setting the keyword argument `zlib=True`:\n",
    "\n",
    "```python\n",
    "temp = ncfid.createVariable('temp','f4', \\\n",
    "                            ('time','lev','lat','lon',),\n",
    "                            zlib=True)\n",
    "```\n",
    "\n",
    "- The `complevel` keyword argument toggles the compression ratio and speed. \n",
    "- Options range from 1 to 9 (1 being the fastest with least compression and 9 being the slowest with most compression. Default is 4). \n",
    "- Additionally, you may also specify the precision of your data using the `least_significant_digit` keyword argument.\n",
    "-  By specifying the least significant digit, you can further enhance the data compression. This just gives netCDF more freedom when it packs the data into your harddrive. \n",
    "\n",
    "```python\n",
    "temp = ncfid.createVariable('temp','f4', \\\n",
    "                            ('time','lev','lat','lon',),\n",
    "                            zlib=True,\n",
    "                            least_significant_digit=4)\n",
    "```"
   ]
  },
  {
   "cell_type": "markdown",
   "metadata": {},
   "source": [
    "## <font color=\"red\"> Reading netCDF Files</font>"
   ]
  },
  {
   "cell_type": "markdown",
   "metadata": {},
   "source": [
    "### Reading Individual Files"
   ]
  },
  {
   "cell_type": "code",
   "execution_count": null,
   "metadata": {},
   "outputs": [],
   "source": [
    "with nc4.Dataset(ncFileName, mode='r') as ncfid:\n",
    "     time   = ncfid.variables['time'][:]\n",
    "     lev    = ncfid.variables['lev'][:]\n",
    "     lat    = ncfid.variables['lat'][:]\n",
    "     lon    = ncfid.variables['lon'][:]\n",
    "     temp   = ncfid.variables['temp'][:]\n",
    "     grpid1 = ncfid.groups['forecasts']\n",
    "     grpid2 = grpid1.groups['model']\n",
    "     tempm  = grpid2.variables['temp'][:]\n",
    "    \n",
    "     # Print variable information\n",
    "     print_ncattr(ncfid,  'time')\n",
    "     print_ncattr(ncfid,  'temp')\n",
    "     print_ncattr(grpid2, 'temp')\n",
    "    \n",
    "     dates = nc4.num2date(time, ncfid.variables['time'].units)\n",
    "\n",
    "     print(\"-\"*50)\n",
    "     temp_var = ncfid.variables['temp']\n",
    "     print(\"Type of temp_var: {}\".format(type(temp_var)))\n",
    "     print(\"-\"*50)\n",
    "     print(temp_var)\n",
    "     print(\"-\"*40)"
   ]
  },
  {
   "cell_type": "code",
   "execution_count": null,
   "metadata": {},
   "outputs": [],
   "source": [
    "print(\"Type of lon:  {}\".format(type(lon)))\n",
    "print(\"Type of temp: {}\".format(type(temp)))"
   ]
  },
  {
   "cell_type": "markdown",
   "metadata": {},
   "source": [
    "**Important**\n",
    "\n",
    "While reading data from a file:\n",
    "\n",
    "- If you do not include `[:]` at the end of `variables[var_name]`, you are getting a variable object.\n",
    "- If you include `[:]` (or `[:,:]`, `[0, i:j, :]`, etc.) at the end of `variables[var_name]`, you are getting the Numpy array containing the data."
   ]
  },
  {
   "cell_type": "code",
   "execution_count": null,
   "metadata": {},
   "outputs": [],
   "source": [
    "print(\"tem_var: \", temp_var)"
   ]
  },
  {
   "cell_type": "markdown",
   "metadata": {},
   "source": [
    "**Note that the variable object `temp_var` is only accessible as long as the file is opened.**"
   ]
  },
  {
   "cell_type": "code",
   "execution_count": null,
   "metadata": {},
   "outputs": [],
   "source": [
    "print(\"Time: \", time)"
   ]
  },
  {
   "cell_type": "markdown",
   "metadata": {},
   "source": [
    "We can get the time values as dates:"
   ]
  },
  {
   "cell_type": "code",
   "execution_count": null,
   "metadata": {},
   "outputs": [],
   "source": [
    "print([date.strftime('%Y-%m-%d %H:%M:%S') for date in dates[:]])"
   ]
  },
  {
   "cell_type": "code",
   "execution_count": null,
   "metadata": {},
   "outputs": [],
   "source": [
    "print(\"Longitude values: \", lon)"
   ]
  },
  {
   "cell_type": "code",
   "execution_count": null,
   "metadata": {},
   "outputs": [],
   "source": [
    "print(\"Latitude values: \", lat)"
   ]
  },
  {
   "cell_type": "code",
   "execution_count": null,
   "metadata": {},
   "outputs": [],
   "source": [
    "print(\"Temperature info: \")\n",
    "print(temp.shape)\n",
    "print(np.min(temp), np.max(temp))"
   ]
  },
  {
   "cell_type": "code",
   "execution_count": null,
   "metadata": {},
   "outputs": [],
   "source": [
    "print(\"Temperature (model) info: \")\n",
    "print(tempm.shape)\n",
    "print(np.min(tempm), np.max(tempm))"
   ]
  },
  {
   "cell_type": "markdown",
   "metadata": {},
   "source": [
    "**To extract data from a scalar variable `v` with no associated dimensions, use `numpy.asarray(v)` or `v[...]`. The result will be a numpy scalar array.**"
   ]
  },
  {
   "cell_type": "markdown",
   "metadata": {},
   "source": [
    "### Reading Multi-File Dataset\n",
    "\n",
    "- If you have multiple files that have the same variable and the same unlimited dimension, you can read them in simultaneous using `MFDataset`. \n",
    "- Instead of using a single filename to create a `Dataset` instance, create a `MFDataset` instance with either a list of filenames, or a string with a wildcard (which is then converted to a sorted list of files using the python `glob` module).\n",
    "- `MFDataset` uses file globbing to patch together all the files into one big Dataset.\n",
    "- It can only aggregate the data along the leftmost dimension of each variable.\n",
    "- It can be slow!\n",
    "- This is only available for `NETCDF3_64BIT`, `NETCDF3_CLASSIC` or `NETCDF4_CLASSIC` formats."
   ]
  },
  {
   "cell_type": "markdown",
   "metadata": {},
   "source": [
    "Assume that you create the files:"
   ]
  },
  {
   "cell_type": "code",
   "execution_count": null,
   "metadata": {},
   "outputs": [],
   "source": [
    "for nf in range(10):\n",
    "    with nc4.Dataset(\"mftest%s.nc\" % nf, \"w\", format=\"NETCDF4_CLASSIC\") as f:\n",
    "         _ = f.createDimension(\"x\", None)\n",
    "         x = f.createVariable(\"x\", \"i\", (\"x\",))\n",
    "         x[0:10] = numpy.arange(nf*10,10*(nf+1))"
   ]
  },
  {
   "cell_type": "markdown",
   "metadata": {},
   "source": [
    "You can read all the files and access the variable `x`:"
   ]
  },
  {
   "cell_type": "code",
   "execution_count": null,
   "metadata": {},
   "outputs": [],
   "source": [
    "f = nc4.MFDataset(\"mftest*nc\")\n",
    "all_x = f.variables[\"x\"][:]\n",
    "print(all_x)"
   ]
  },
  {
   "cell_type": "markdown",
   "metadata": {},
   "source": [
    "- The command `all_x = f.variables[\"x\"][:]` loads all into memory all the values of the variable `x` from all the netCDF files.\n",
    "- To potentially avoid crashing your computer, it is better to load small parts at a time by replacing `[:]` with slices, for example, `[0:2]`, `[2:4]`, etc."
   ]
  },
  {
   "cell_type": "markdown",
   "metadata": {},
   "source": [
    "### <font color='red'>Useful Methods</font>\n",
    "\n",
    "#### Methods acting on the file\n",
    "\n",
    "| Method Name | Description |\n",
    "| --- | --- |\n",
    "| `ncattrs()` | List all the global attributes |\n",
    "| `getncattr(attr)` | Get the value of the attribute `attr` |\n",
    "\n",
    "\n",
    "\n",
    "#### Methods acting on a variable\n",
    "\n",
    "| Method Name | Description |\n",
    "| --- | --- |\n",
    "| `ncattrs()` | List all the attributes of a variable|\n",
    "| `getncattr(attr)` | Get the value of the attribute `attr` |\n",
    "| `setncatts(attr, val)` | Set the value `val` to the attribute `attr`|\n",
    "| `renameDimension(oldname, newname)` | Rename a dimension named `oldname` to `newname` |\n",
    "| `renameVariable(oldname, newname)` | Rename a variable named `oldname` to `newname` |"
   ]
  },
  {
   "cell_type": "markdown",
   "metadata": {},
   "source": [
    "**Print the dimensions:**"
   ]
  },
  {
   "cell_type": "code",
   "execution_count": null,
   "metadata": {},
   "outputs": [],
   "source": [
    "with nc4.Dataset(ncFileName, mode='r') as ncfid:\n",
    "     for name, dim in ncfid.dimensions.items():\n",
    "         print(\"{}: {}\".format(name, len(dim)))"
   ]
  },
  {
   "cell_type": "markdown",
   "metadata": {},
   "source": [
    "**Print the global attributes:**"
   ]
  },
  {
   "cell_type": "code",
   "execution_count": null,
   "metadata": {},
   "outputs": [],
   "source": [
    "with nc4.Dataset(ncFileName, mode='r') as ncfid:\n",
    "     for attr in ncfid.ncattrs():\n",
    "         print(\"{}: {}\".format(attr, ncfid.getncattr(attr)))"
   ]
  },
  {
   "cell_type": "markdown",
   "metadata": {},
   "source": [
    "**Print all variables and their attributes:**"
   ]
  },
  {
   "cell_type": "code",
   "execution_count": null,
   "metadata": {},
   "outputs": [],
   "source": [
    "with nc4.Dataset(ncFileName, mode='r') as ncfid:\n",
    "     for name, var in ncfid.variables.items():\n",
    "         print(\"{}:\".format(name))\n",
    "         print(\"{:>20}: {}\".format(\"Dimension\", var.dimensions))\n",
    "         print(\"{:>20}: {}\".format(\"Dimension value\", var.shape))\n",
    "         print(\"{:>20}: {}\".format(\"Type\", var.dtype))\n",
    "         for attr in var.ncattrs():\n",
    "             print(\"{:>20}: {}\".format(attr, var.getncattr(attr)))"
   ]
  },
  {
   "cell_type": "markdown",
   "metadata": {},
   "source": [
    "**Mimic `ncdump -h` Command**"
   ]
  },
  {
   "cell_type": "code",
   "execution_count": null,
   "metadata": {},
   "outputs": [],
   "source": [
    "def my_ncdump(file_name):\n",
    "    with nc4.Dataset(file_name, mode='r') as ncfid:\n",
    "         for name, var in ncfid.variables.items():\n",
    "             print(\"{}:\".format(name))\n",
    "             print(\"{:>20}: {}\".format(\"Dimension\", var.dimensions))\n",
    "             print(\"{:>20}: {}\".format(\"Dimension value\", var.shape))\n",
    "             print(\"{:>20}: {}\".format(\"Type\", var.dtype))\n",
    "             for attr in var.ncattrs():\n",
    "                 print(\"{:>20}: {}\".format(attr, var.getncattr(attr)))\n",
    "         print()\n",
    "         print(\"Global attributes\")\n",
    "         for attr in ncfid.ncattrs():\n",
    "             print(\"{:>20}: {}\".format(attr, ncfid.getncattr(attr)))"
   ]
  },
  {
   "cell_type": "code",
   "execution_count": null,
   "metadata": {},
   "outputs": [],
   "source": [
    "my_ncdump(ncFileName)"
   ]
  },
  {
   "cell_type": "markdown",
   "metadata": {},
   "source": [
    "### <font color='red'>Updating a Variable in an Existing netCDF File</font>"
   ]
  },
  {
   "cell_type": "code",
   "execution_count": null,
   "metadata": {},
   "outputs": [],
   "source": [
    "with nc4.Dataset(ncFileName, mode='a') as ncfid:\n",
    "     temp = ncfid.variables['temp'][:]\n",
    "     data = temp[:]\n",
    "     data = 1.1*data + 100.0\n",
    "     temp[:] = data"
   ]
  },
  {
   "cell_type": "code",
   "execution_count": null,
   "metadata": {},
   "outputs": [],
   "source": [
    "print(temp.shape)\n",
    "print(np.min(temp), np.max(temp))"
   ]
  },
  {
   "cell_type": "code",
   "execution_count": null,
   "metadata": {},
   "outputs": [],
   "source": []
  },
  {
   "cell_type": "markdown",
   "metadata": {},
   "source": [
    "### <font color='red'>Copy the Content of a netCDF File</font>"
   ]
  },
  {
   "cell_type": "code",
   "execution_count": null,
   "metadata": {},
   "outputs": [],
   "source": [
    "def copy_nc_file(src_file, dst_file):\n",
    "    with nc4.Dataset(src_file) as srcid:\n",
    "         with nc4.Dataset(dst_file, mode='w') as dstid:\n",
    "              # Create the dimensions of the file\n",
    "              for name, dim in srcid.dimensions.items():\n",
    "                  dstid.createDimension(name, len(dim) if not dim.isunlimited() else None)\n",
    "\n",
    "              # Copy the global attributes\n",
    "              dstid.setncatts({a:srcid.getncattr(a) for a in srcid.ncattrs()})\n",
    "\n",
    "              # Create the variables in the file\n",
    "              for name, var in srcid.variables.items():\n",
    "                  dstid.createVariable(name, var.dtype, var.dimensions)\n",
    "\n",
    "                  # Copy the variable attributes\n",
    "                  dstid.variables[name].setncatts({a:var.getncattr(a) for a in var.ncattrs()})\n",
    "\n",
    "                  # Copy the variables values\n",
    "                  dstid.variables[name][:] = srcid.variables[name][:]"
   ]
  },
  {
   "cell_type": "markdown",
   "metadata": {},
   "source": [
    "### <font color='red'>Compare two netCDF Files</font>"
   ]
  },
  {
   "cell_type": "code",
   "execution_count": null,
   "metadata": {},
   "outputs": [],
   "source": [
    "def rms(V):\n",
    "    return np.sqrt(np.mean(np.square(V)))\n",
    "\n",
    "def compare_two_nc_files(fileA, fileB):\n",
    "    machine_eps = 1.0e-25\n",
    "\n",
    "    print(\"-\" *100)\n",
    "    print(\"Comparing the two nc files:\")\n",
    "    print(\"  * \", fileA)\n",
    "    print(\"  * \", fileB)\n",
    "    print(\"-\" *100)\n",
    "\n",
    "    with nc4.Dataset(fileA, mode='r', format='NETCDF4') as fidA:\n",
    "         with nc4.Dataset(fileB, mode='r', format='NETCDF4') as fidB:\n",
    "              listVars = fidA.variables.keys()\n",
    "              dimVars  = fidA.dimensions.keys()\n",
    "\n",
    "              print(\"            Machine precision: \", machine_eps)\n",
    "              same = True\n",
    "              for varName in listVars:\n",
    "                  if varName not in dimVars:\n",
    "                     valsA = fidA.variables[varName][:]\n",
    "                     valsB = fidB.variables[varName][:]\n",
    "                     diff = np.sum(valsA - valsB)\n",
    "                     print(\"Variable Name and Sum of Difference: {:<15} {:30.27f}\".format(varName, diff))\n",
    "                     err = rms(valsA - valsB)\n",
    "                     print(err)\n",
    "                     if (err > machine_eps):\n",
    "                        print(\"     The variable {} differs in the two files\".format(varName))\n",
    "                        same = False\n",
    "                        break\n",
    "\n",
    "\n",
    "    print(\"-\" *100)\n",
    "    if same:\n",
    "       print(\" -----> The two files are identical!\")\n",
    "    else:\n",
    "       print(\" -----> The two files are different!\")\n",
    "\n",
    "    print(\"-\" *100)\n"
   ]
  },
  {
   "cell_type": "code",
   "execution_count": null,
   "metadata": {},
   "outputs": [],
   "source": [
    "compare_two_nc_files(ncFileName, ncFileName)"
   ]
  },
  {
   "cell_type": "markdown",
   "metadata": {},
   "source": [
    "## <font color=\"red\">Application 1: </font> Create a climatology file\n",
    "\n",
    "- We have a file that has several variables but only one record (one monthly value).\n",
    "- We want to create a new file that is the same as the first one but contains 12 identical records (one per month)."
   ]
  },
  {
   "cell_type": "markdown",
   "metadata": {},
   "source": [
    "## <font color=\"red\">Application 2: </font> Global Average Time Series\n",
    "\n",
    "- We have a collection of files covering multiple years.\n",
    "- We consider one variable and compute its yearly mean.\n",
    "- We plot the yearly mean values as function of years."
   ]
  },
  {
   "cell_type": "markdown",
   "metadata": {},
   "source": [
    "## <font color=\"red\">Application 3: </font> Create Monthly Mean Climatologies\n",
    "\n",
    "- We have a collection of monthly files covering multiple years.\n",
    "- We want to create monthly climatology files."
   ]
  },
  {
   "cell_type": "markdown",
   "metadata": {},
   "source": [
    "## <font color=\"red\">Example</font>"
   ]
  },
  {
   "cell_type": "markdown",
   "metadata": {},
   "source": [
    "We want to use the netCDF file:\n",
    "\n",
    "https://www.unidata.ucar.edu/software/netcdf/examples/sresa1b_ncar_ccsm3-example.nc\n",
    "\n",
    "to plot the surface air temperature (variable `tas`) and the zonal mean height of the wind (variable `ua`).\n",
    "\n",
    "\n",
    "The metadata of the file is located at:\n",
    "\n",
    "https://www.unidata.ucar.edu/software/netcdf/examples/sresa1b_ncar_ccsm3-example.cdl"
   ]
  },
  {
   "cell_type": "code",
   "execution_count": null,
   "metadata": {},
   "outputs": [],
   "source": [
    "# Get the remote  file\n",
    "nc_file = \"sresa1b_ncar_ccsm3-example.nc\"\n",
    "url = \"https://www.unidata.ucar.edu/software/netcdf/examples/\"\n",
    "import urllib.request\n",
    "urllib.request.urlretrieve(url+nc_file, nc_file)"
   ]
  },
  {
   "cell_type": "code",
   "execution_count": null,
   "metadata": {},
   "outputs": [],
   "source": [
    "# Open the netCDF file and read surface air temperature\n",
    "with nc4.Dataset(nc_file,'r') as ncid:\n",
    "     lons      = ncid.variables['lon'][:] # longitude grid points\n",
    "     lats      = ncid.variables['lat'][:] # latitude grid points\n",
    "     levs      = ncid.variables['plev'][:] # pressure leves\n",
    "     surf_temp = ncid.variables['tas'][:]\n",
    "     uwind     = ncid.variables['ua'][:]"
   ]
  },
  {
   "cell_type": "code",
   "execution_count": null,
   "metadata": {},
   "outputs": [],
   "source": [
    "print(\"Shape of lons:      \", np.shape(lons), lons[0], lons[-1])\n",
    "print(\"Shape of lats:      \", np.shape(lats), lats[0], lats[-1])\n",
    "print(\"Shape of levs:      \", np.shape(levs), levs[0], levs[-1])\n",
    "print(\"Shape of surf_temp: \", np.shape(surf_temp))\n",
    "print(\"Shape of uwind:     \", np.shape(uwind))"
   ]
  },
  {
   "cell_type": "markdown",
   "metadata": {},
   "source": [
    "**Load Plotting Modules**"
   ]
  },
  {
   "cell_type": "markdown",
   "metadata": {},
   "source": [
    "**<font color='blue'> Uncomment the cell below if you are on Google Colab</font>**"
   ]
  },
  {
   "cell_type": "code",
   "execution_count": null,
   "metadata": {},
   "outputs": [],
   "source": [
    "#!apt-get install libproj-dev proj-data proj-bin\n",
    "#!apt-get install libgeos-dev\n",
    "#!pip install cython\n",
    "#!pip install cartopy"
   ]
  },
  {
   "cell_type": "markdown",
   "metadata": {},
   "source": [
    "---"
   ]
  },
  {
   "cell_type": "code",
   "execution_count": null,
   "metadata": {},
   "outputs": [],
   "source": [
    "%matplotlib inline\n",
    "import matplotlib\n",
    "import matplotlib.pyplot as plt\n",
    "from matplotlib import cm\n",
    "\n",
    "import cartopy\n",
    "import cartopy.crs as ccrs\n",
    "import cartopy.feature as cfeature\n",
    "from cartopy.mpl.ticker import LongitudeFormatter, LatitudeFormatter"
   ]
  },
  {
   "cell_type": "markdown",
   "metadata": {},
   "source": [
    "**Plot of Surface Temperature**"
   ]
  },
  {
   "cell_type": "code",
   "execution_count": null,
   "metadata": {},
   "outputs": [],
   "source": [
    "fig = plt.figure(figsize=(9, 5))\n",
    "map_projection = ccrs.PlateCarree()\n",
    "ax = fig.add_subplot(1, 1, 1, projection=map_projection)\n",
    "\n",
    "im = ax.contourf(lons, lats, surf_temp[0,:,:], transform=map_projection)\n",
    "ax.coastlines()\n",
    "\n",
    "ax.set_xticks(np.linspace(-180, 180, 5), crs=map_projection)\n",
    "ax.set_yticks(np.linspace(-90, 90, 5), crs=map_projection)\n",
    "lon_formatter = LongitudeFormatter(zero_direction_label=True)\n",
    "lat_formatter = LatitudeFormatter()\n",
    "ax.xaxis.set_major_formatter(lon_formatter)\n",
    "ax.yaxis.set_major_formatter(lat_formatter)\n",
    "\n",
    "cb = fig.colorbar(im, orientation='vertical', shrink=0.75)\n",
    "\n",
    "ax.set_global()\n",
    "plt.show()"
   ]
  },
  {
   "cell_type": "markdown",
   "metadata": {},
   "source": [
    "**Plot Zonal Mean Height of Wind**"
   ]
  },
  {
   "cell_type": "code",
   "execution_count": null,
   "metadata": {},
   "outputs": [],
   "source": [
    "# Compute the zonal mean height\n",
    "zonal_mean_height = np.mean(uwind[0,:,:,:], axis=2)\n",
    "\n",
    "# Select contour levels\n",
    "ncountours = 10\n",
    "fac = 0.005\n",
    "min_val = (1.0-fac)*np.min(zonal_mean_height)\n",
    "max_val = (1.0+fac)*np.max(zonal_mean_height)\n",
    "clevs = np.linspace(min_val, max_val, ncountours)\n",
    "\n",
    "fig = plt.figure(figsize=(10, 6))\n",
    "ax = fig.add_subplot(1, 1, 1)\n",
    "\n",
    "# map contour values to colors\n",
    "norm=matplotlib.colors.BoundaryNorm(clevs, ncolors=256, clip=False)\n",
    "    \n",
    "# draw the contours with contour labels\n",
    "CS = ax.contour(lats, levs, zonal_mean_height, levels=clevs)\n",
    "ax.clabel(CS,inline=1, fontsize=10, colors='black')\n",
    "\n",
    "# draw the (filled) contours\n",
    "contour = ax.contourf(lats, levs, zonal_mean_height, levels=clevs, norm=norm)\n",
    "\n",
    "# Draw colorbar\n",
    "fmt = matplotlib.ticker.FormatStrFormatter(\"%3.2g\")\n",
    "cbar = fig.colorbar(contour, ax=ax, orientation='horizontal', shrink=0.8,\n",
    "                    ticks=clevs, format=fmt)\n",
    "cbar.set_label('m s-1')\n",
    "\n",
    "ax.set_yscale('log')\n",
    "ax.set_xlabel(\"Latitude (degrees)\")\n",
    "ax.set_ylabel(\"Pressure (Pa)\")\n",
    "plt.show()"
   ]
  },
  {
   "cell_type": "code",
   "execution_count": null,
   "metadata": {},
   "outputs": [],
   "source": []
  }
 ],
 "metadata": {
  "anaconda-cloud": {},
  "kernelspec": {
   "display_name": "Python 3 (ipykernel)",
   "language": "python",
   "name": "python3"
  },
  "language_info": {
   "codemirror_mode": {
    "name": "ipython",
    "version": 3
   },
   "file_extension": ".py",
   "mimetype": "text/x-python",
   "name": "python",
   "nbconvert_exporter": "python",
   "pygments_lexer": "ipython3",
   "version": "3.8.2"
  }
 },
 "nbformat": 4,
 "nbformat_minor": 1
}
