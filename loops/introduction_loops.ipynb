{
 "cells": [
  {
   "cell_type": "markdown",
   "metadata": {
    "slideshow": {
     "slide_type": "slide"
    }
   },
   "source": [
    "<center>\n",
    "<table>\n",
    "  <tr>\n",
    "    <td><img src=\"http://www.nasa.gov/sites/all/themes/custom/nasatwo/images/nasa-logo.svg\" width=\"100\"/> </td>\n",
    "     <td><img src=\"https://github.com/astg606/py_materials/blob/master/logos/ASTG_logo.png?raw=true\" width=\"80\"/> </td>\n",
    "     <td> <img src=\"https://www.nccs.nasa.gov/sites/default/files/NCCS_Logo_0.png\" width=\"130\"/> </td>\n",
    "    </tr>\n",
    "</table>\n",
    "</center>\n",
    "\n",
    "        \n",
    "<center>\n",
    "<h1><font color= \"blue\" size=\"+3\">ASTG Python Courses</font></h1>\n",
    "</center>\n",
    "\n",
    "---\n",
    "\n",
    "<center><h1>\n",
    "    <font color=\"red\">Python Iterative Programming: Loops</font>  \n",
    "</h1></center>"
   ]
  },
  {
   "cell_type": "markdown",
   "metadata": {},
   "source": [
    "## Useful Links\n",
    "\n",
    "- <a href=\"https://www.thoughtco.com/definition-of-loop-958105\">Definition of a Loop</a> (by David Bolton)\n",
    "- <a href=\"https://realpython.com/python-for-loop/\">Python \"for\" Loops (Definite Iteration)</a>\n",
    "- <a href=\"https://stackabuse.com/loops-in-python/\">Loops in Python</a>"
   ]
  },
  {
   "cell_type": "markdown",
   "metadata": {
    "slideshow": {
     "slide_type": "fragment"
    }
   },
   "source": [
    "# <font color=\"red\">What is a Loop?</font>\n",
    "\n",
    "- A loop in a computer program is an instruction that is executed over and over again until a specified condition is reached. \n",
    "- The purpose of loops is to repeat the same, or similar, code a number of times (process is called **iterations**).  This number of times could be specified to a certain number, or the number of times could be dictated by a certain condition being met. \n",
    "- A loop usually has one or more of the following features:\n",
    "    - A **counter**, which is initialized with a certain value — this is the starting point of the loop.\n",
    "    - A **condition**, which is a true/false test to determine whether the loop continues to run, or stops — usually when the counter reaches a certain value. \n",
    "    - An **iterator**, which generally increments the counter by a small amount on each successive loop, until the condition is no longer true.\n",
    "\n",
    "\n",
    "![loops](https://mdn.mozillademos.org/files/13755/loop_js-02-farm.png)\n",
    "Image Source: [source](https://mdn.mozillademos.org/files/13755/loop_js-02-farm.png)\n"
   ]
  },
  {
   "cell_type": "markdown",
   "metadata": {
    "slideshow": {
     "slide_type": "fragment"
    }
   },
   "source": [
    "__For example:__\n",
    "\n",
    "To add 1, 5 times is `1 + 1 + 1 + 1 + 1 = 5`.  \n",
    "\n",
    "In loops, however, we just have this logic:\n",
    "\n",
    "```python\n",
    "   x = 1 \n",
    "\n",
    "   x = x + 1 # (do this 4 times)\n",
    "```"
   ]
  },
  {
   "cell_type": "markdown",
   "metadata": {},
   "source": [
    "# <font color=\"red\"> Loops in Python</font>\n",
    "\n",
    "+ Repetitive execution of the same block of code over and over is referred to as **iteration**.\n",
    "+ There are two types of iteration:\n",
    "     1. **Definite** iteration, in which the number of repetitions is specified explicitly in advance (`for` loop).\n",
    "     2. **Indefinite** iteration, in which the code block executes until some condition is met (`while` loop)."
   ]
  },
  {
   "cell_type": "markdown",
   "metadata": {
    "slideshow": {
     "slide_type": "subslide"
    }
   },
   "source": [
    "## <font color=\"green\">The `for` Loop</font>\n",
    "\n",
    "Python’s for loop looks like this:\n",
    "\n",
    "\n",
    "```python\n",
    "for <item> in <iterable>:\n",
    "    <statement(s)>\n",
    "```\n",
    "\n",
    "- `<iterable>` is a collection of objects (list, tuple, etc.). \n",
    "- The `<statement(s)>` in the loop body are denoted by indentation, as with all Python control structures, and are executed once for each item in `<iterable>`. \n",
    "- The loop variable `<item>` takes on the value of the next element in `<iterable>` each time through the loop."
   ]
  },
  {
   "cell_type": "markdown",
   "metadata": {},
   "source": [
    "#### <font color=\"orange\">Example 1</font>\n",
    "\n",
    "We want to perform the operation:\n",
    "\n",
    "```python\n",
    "   1 + 1 + 1 + 1 + 1\n",
    "```\n",
    "\n",
    "using a loop.\n",
    "\n",
    "We use the `range()` function:\n",
    "\n",
    "`range(n)`: generates a set of whole numbers starting from `0` to `n-1`."
   ]
  },
  {
   "cell_type": "code",
   "execution_count": null,
   "metadata": {
    "slideshow": {
     "slide_type": "subslide"
    }
   },
   "outputs": [],
   "source": [
    "total = 0\n",
    "\n",
    "for number in range(5):\n",
    "    # number = 0, 1, 2, 3, 4\n",
    "    total = total + 1\n",
    "\n",
    "print(total)"
   ]
  },
  {
   "cell_type": "markdown",
   "metadata": {},
   "source": [
    "#### <font color=\"blue\">Breakout 1</font>\n",
    "Write a loop to perform the operation:\n",
    "\n",
    "```python\n",
    "   2 + 3 + 4 + 5 + 6\n",
    "```"
   ]
  },
  {
   "cell_type": "markdown",
   "metadata": {},
   "source": [
    "<p>\n",
    "<p>\n",
    "\n",
    "<details><summary><b>CLICK HERE TO ACCESS THE SOLUTION</b></summary>\n",
    "<p>\n",
    "    \n",
    "```python\n",
    "total = 2\n",
    "\n",
    "for number in range(5):\n",
    "    total = total + number\n",
    "\n",
    "print(f\"The total is : {total}!\")\n",
    "```\n",
    "\n",
    "</p>\n",
    "</details>"
   ]
  },
  {
   "cell_type": "markdown",
   "metadata": {},
   "source": [
    "#### <font color=\"orange\">Example 2</font>\n",
    "\n",
    "Loop over a collection."
   ]
  },
  {
   "cell_type": "code",
   "execution_count": null,
   "metadata": {
    "slideshow": {
     "slide_type": "fragment"
    }
   },
   "outputs": [],
   "source": [
    "students = ['Bob', 'Sue', 'Joe', 'Betty']\n",
    "\n",
    "for student in students:\n",
    "    # student is a temporary variable pointing to the current item\n",
    "    print(student)"
   ]
  },
  {
   "cell_type": "markdown",
   "metadata": {},
   "source": [
    "## <font color=\"purple\">Going Deeper: Iterables and Iterators</font>\n",
    "\n",
    "- An **iterable** is an object can be used in iteration.\n",
    "- If an object is iterable, it can be passed to the built-in Python function `iter()`, which returns something called an **iterator**. \n",
    "- An **iterator** is a value producer that yields successive values from its associated iterable object. \n",
    "- The built-in function `next()` is used to obtain the next value from in iterator."
   ]
  },
  {
   "cell_type": "markdown",
   "metadata": {},
   "source": [
    "#### <font color=\"orange\">Example 3</font>"
   ]
  },
  {
   "cell_type": "code",
   "execution_count": null,
   "metadata": {},
   "outputs": [],
   "source": [
    "students = ['Bob', 'Sue', 'Joe', 'Betty']\n",
    "itr = iter(students)"
   ]
  },
  {
   "cell_type": "code",
   "execution_count": null,
   "metadata": {},
   "outputs": [],
   "source": [
    "itr"
   ]
  },
  {
   "cell_type": "code",
   "execution_count": null,
   "metadata": {},
   "outputs": [],
   "source": [
    "next(itr)"
   ]
  },
  {
   "cell_type": "code",
   "execution_count": null,
   "metadata": {},
   "outputs": [],
   "source": [
    "next(itr)"
   ]
  },
  {
   "cell_type": "markdown",
   "metadata": {
    "slideshow": {
     "slide_type": "subslide"
    }
   },
   "source": [
    "## <font color=\"green\"> Specifying a Change of Direction</font>\n",
    "\n",
    "---\n",
    "\n",
    "Use the keywords __`continue`__, __`break`__, or __`pass`__ to change the behavior of conditionals and loops.\n",
    "\n",
    "![fig_direction1](https://www.tutlane.com/images/python/python_continue_statement_flow_chart.png)\n",
    "Image Source [www.tutlane.com](https://www.tutlane.com/tutorial/python/python-continue-statement)\n",
    "\n",
    "\n",
    "![fig_direction2](https://resize.yandex.net/mailservice?url=https%3A%2F%2Fi1.faceprep.in%2FCompanies-1%2Fbreak-control-statements-in-python.png&proxy=yes&key=f28f800978695c8cfa317523f1a40e23)\n",
    "Image Source: www.faceprep.in"
   ]
  },
  {
   "cell_type": "markdown",
   "metadata": {},
   "source": [
    "#### <font color=\"orange\">Example 4</font>"
   ]
  },
  {
   "cell_type": "code",
   "execution_count": null,
   "metadata": {
    "slideshow": {
     "slide_type": "fragment"
    }
   },
   "outputs": [],
   "source": [
    "total = 0\n",
    "\n",
    "for number in range(10):\n",
    "    if total == 5:\n",
    "        break\n",
    "    total = total + 1\n",
    "\n",
    "print(total)"
   ]
  },
  {
   "cell_type": "markdown",
   "metadata": {},
   "source": [
    "| `continue` |\t`break` |\t`pass` |\n",
    "| --- | --- | --- |\n",
    "| Skips only the current iteration of the loop.\t| Terminates the loop.\t| Used to write empty code blocks. | \n",
    "| Used only inside a loop.\t| Used only inside a loop. | Used anywhere in the Python code. | "
   ]
  },
  {
   "cell_type": "markdown",
   "metadata": {},
   "source": [
    "##  <font color=\"green\">`for` Loop with `else` Statement</font>\n",
    "\n",
    "```python\n",
    "for <variable> in <sequence>:\n",
    "\t<statements>\n",
    "else:\n",
    "\t<statements>\n",
    "```\n",
    "\n",
    "+ The `else` block will be executed only if the loop hasn't been \"broken\" by a break statement. \n",
    "   - It will only be executed, after all the items of the sequence in the header have been used."
   ]
  },
  {
   "cell_type": "markdown",
   "metadata": {},
   "source": [
    "#### <font color=\"orange\">Example 5</font>"
   ]
  },
  {
   "cell_type": "code",
   "execution_count": null,
   "metadata": {},
   "outputs": [],
   "source": [
    "edibles = [\"ham\", \"spam\", \"eggs\", \"nuts\"]\n",
    "for food in edibles:\n",
    "    if food == \"spam\":\n",
    "        print(\"No more spam please!\")\n",
    "        break\n",
    "    print(\"Great, delicious \" + food)\n",
    "else:\n",
    "    print(\"I am so glad: No spam!\")\n",
    "print(\"Finally, I finished stuffing myself\")"
   ]
  },
  {
   "cell_type": "markdown",
   "metadata": {
    "slideshow": {
     "slide_type": "subslide"
    }
   },
   "source": [
    "#### <font color=\"blue\"> Breakout 2 </font>\n",
    "\n",
    "Print all the numbers from the output of `range(50)` backwards starting with 49 down to 7."
   ]
  },
  {
   "cell_type": "markdown",
   "metadata": {},
   "source": [
    "<p>\n",
    "<p>\n",
    "\n",
    "<details><summary><b>CLICK HERE TO ACCESS THE SOLUTION</b></summary>\n",
    "<p>\n",
    "    \n",
    "```python\n",
    "n = 50\n",
    "for i in range(n):\n",
    "    m = n-i-1\n",
    "    if m>6:\n",
    "        print(m)\n",
    "```\n",
    "\n",
    "</p>\n",
    "</details>"
   ]
  },
  {
   "cell_type": "markdown",
   "metadata": {},
   "source": [
    "#### <font color=\"blue\"> Breakout 3 </font> (Flipping of a coin)\n",
    "If you excute the code segment:\n",
    "\n",
    "```python\n",
    "       import random\n",
    "       print(random.choice(['T', 'H']))\n",
    "```\n",
    "\n",
    "you will get either **'T'** or **'H'**. \n",
    "\n",
    "Write a program that simulates the flipping of a coin 1000 times and print the total numbers of Heads ('H') and  Tails ('T').\n"
   ]
  },
  {
   "cell_type": "markdown",
   "metadata": {},
   "source": [
    "<p>\n",
    "<p>\n",
    "\n",
    "<details><summary><b>CLICK HERE TO ACCESS THE SOLUTION</b></summary>\n",
    "<p>\n",
    "    \n",
    "```python\n",
    "import random\n",
    "\n",
    "ntrials = 1000\n",
    "nheads = 0\n",
    "ntails = 0\n",
    "for i in range(ntrials):\n",
    "    outcome = random.choice(['T', 'H'])\n",
    "    if outcome == 'T':\n",
    "        ntails += 1\n",
    "    else:\n",
    "        nheads += 1\n",
    "        \n",
    "print(f'There were {ntrials} trials with {ntails} Tails and {nheads} Heads.')\n",
    "```\n",
    "\n",
    "</p>\n",
    "</details>"
   ]
  },
  {
   "cell_type": "markdown",
   "metadata": {},
   "source": [
    "#### <font color=\"blue\"> Breakout 4 </font> (Entering the password)\n",
    "We want to write a code that simulates providing the password:\n",
    "\n",
    "* You have at most three attempts.\n",
    "* If you provide the right password, the code will print `Welcome in!`.\n",
    "* If you provide the wrong password and it is not the third attempt, the code will print `Wong password. Please try again.` and ask you to enter again the password.\n",
    "* If your third attempt is not successful, the code will write `You are not allowed to access this computer!` and exit.\n",
    "\n",
    "Assume that the right password is **PyTHoN** and use the function `input()` for asking the password from the command line.\n"
   ]
  },
  {
   "cell_type": "markdown",
   "metadata": {},
   "source": [
    "<p>\n",
    "<p>\n",
    "\n",
    "<details><summary><b>CLICK HERE TO ACCESS THE SOLUTION</b></summary>\n",
    "<p>\n",
    "    \n",
    "```python\n",
    "right_passwd = 'PyTHoN'\n",
    "max_nattempts = 3\n",
    "\n",
    "for nattempts in range(1, max_nattempts+1):\n",
    "    passwd = input(\"Provide your password: \")\n",
    "    if passwd == right_passwd:\n",
    "        print(\"   Great! You provided the right password.\")\n",
    "        break\n",
    "    else:\n",
    "        print(\"   You provided the wrong password\")\n",
    "        if nattempts == max_nattempts:\n",
    "            print(\"   You exhausted the number of attempts.\")\n",
    "```\n",
    "\n",
    "</p>\n",
    "</details>        "
   ]
  },
  {
   "cell_type": "markdown",
   "metadata": {
    "slideshow": {
     "slide_type": "subslide"
    }
   },
   "source": [
    "## <font color=\"green\"> The `while` Loop</font>\n",
    "\n",
    "\n",
    "+ The while loop tells the computer to do something as long as the condition is met.\n",
    "+ Its construct consists of a block of code and a condition. \n",
    "---\n",
    "\n",
    "```python\n",
    "while condition:\n",
    "    <statement>\n",
    "```\n",
    "\n",
    "The `while` loop continues to process indefinitely until `condition` evaluates to False."
   ]
  },
  {
   "cell_type": "markdown",
   "metadata": {},
   "source": [
    "#### <font color=\"orange\">Example 6</font>\n",
    "\n",
    "Think about your code before you run it. Without close inspection, you can create an infinite loop in your program."
   ]
  },
  {
   "cell_type": "code",
   "execution_count": null,
   "metadata": {
    "slideshow": {
     "slide_type": "subslide"
    }
   },
   "outputs": [],
   "source": [
    "i = 50\n",
    "\n",
    "while i >= 7:\n",
    "    print(i)"
   ]
  },
  {
   "cell_type": "markdown",
   "metadata": {},
   "source": [
    "#### <font color=\"orange\">Example 7</font>"
   ]
  },
  {
   "cell_type": "code",
   "execution_count": null,
   "metadata": {},
   "outputs": [],
   "source": [
    "x=1\n",
    "epsilon=1e-16\n",
    "cnt = 0\n",
    "while x>=epsilon:\n",
    "    x /= 2\n",
    "    cnt += 1\n",
    "print(cnt, x)"
   ]
  },
  {
   "cell_type": "markdown",
   "metadata": {
    "slideshow": {
     "slide_type": "subslide"
    }
   },
   "source": [
    "### <font color=\"blue\"> Breakout 5 </font>\n",
    "\n",
    "Use a `while` loop to solve the password problem shown above."
   ]
  },
  {
   "cell_type": "markdown",
   "metadata": {},
   "source": [
    "<p>\n",
    "<p>\n",
    "\n",
    "<details><summary><b>CLICK HERE TO ACCESS THE SOLUTION</b></summary>\n",
    "<p>\n",
    "    \n",
    "```python\n",
    "right_passwd = 'PyTHoN'\n",
    "max_nattempts = 3\n",
    "\n",
    "nattempts = 0\n",
    "while nattempts < max_nattempts:\n",
    "    nattempts += 1\n",
    "    passwd = input(\"Provide your password: \")\n",
    "    if passwd == right_passwd:\n",
    "        print(\"   Great! You provided the right password.\")\n",
    "        break\n",
    "    else:\n",
    "        print(\"   You provided the wrong password\")\n",
    "        if nattempts == max_nattempts:\n",
    "            print(\"   You exhausted the number of attempts.\")\n",
    "```\n",
    "\n",
    "</p>\n",
    "</details>  "
   ]
  },
  {
   "cell_type": "markdown",
   "metadata": {
    "slideshow": {
     "slide_type": "subslide"
    }
   },
   "source": [
    "## <font color=\"green\">Nested Loops</font>\n",
    "\n",
    "When a for loop is present inside another for loop then it is called a nested for loop.\n",
    "\n",
    "```python\n",
    "for num1 in range(3):\n",
    "\tfor num2 in range(10, 14):\n",
    "\t\tprint(\"Outer num: {} and Inner num {}\".format(num1, num2))\n",
    "```"
   ]
  },
  {
   "cell_type": "markdown",
   "metadata": {
    "slideshow": {
     "slide_type": "subslide"
    }
   },
   "source": [
    "### <font color=\"blue\"> Breakout 6 </font>\n",
    "\n",
    "Use either a `for` loop or a `while` loop or a nested loop to print out only the non-zero elements of this two-dimensional list:\n",
    "\n",
    "```python\n",
    "a = [\n",
    "    [0,0,0,0,1],\n",
    "    [0,1.7,0,2,0],\n",
    "    [0,0,3,0,0],\n",
    "    [0,4,0,0,-2.9],\n",
    "    [5,0,0,-1,0]\n",
    "]\n",
    "```"
   ]
  },
  {
   "cell_type": "markdown",
   "metadata": {},
   "source": [
    "<p>\n",
    "<p>\n",
    "\n",
    "<details><summary><b>CLICK HERE TO ACCESS THE SOLUTION</b></summary>\n",
    "<p>\n",
    "    \n",
    "```python\n",
    "a = [\n",
    "    [0,0,0,0,1],\n",
    "    [0,1.7,0,2,0],\n",
    "    [0,0,3,0,0],\n",
    "    [0,4,0,0,-2.9],\n",
    "    [5,0,0,-1,0]\n",
    "]\n",
    "\n",
    "for entry in a:\n",
    "    for i in entry:\n",
    "        if i:\n",
    "            print(i)\n",
    "```\n",
    "\n",
    "</p>\n",
    "</details>"
   ]
  }
 ],
 "metadata": {
  "celltoolbar": "Slideshow",
  "kernelspec": {
   "display_name": "Python 3 (ipykernel)",
   "language": "python",
   "name": "python3"
  },
  "language_info": {
   "codemirror_mode": {
    "name": "ipython",
    "version": 3
   },
   "file_extension": ".py",
   "mimetype": "text/x-python",
   "name": "python",
   "nbconvert_exporter": "python",
   "pygments_lexer": "ipython3",
   "version": "3.8.2"
  }
 },
 "nbformat": 4,
 "nbformat_minor": 4
}
