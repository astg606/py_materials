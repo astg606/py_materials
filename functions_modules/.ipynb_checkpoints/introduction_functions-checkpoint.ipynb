{
 "cells": [
  {
   "cell_type": "markdown",
   "metadata": {
    "slideshow": {
     "slide_type": "slide"
    }
   },
   "source": [
    "<center>\n",
    "<table>\n",
    "  <tr>\n",
    "    <td><img src=\"http://www.nasa.gov/sites/all/themes/custom/nasatwo/images/nasa-logo.svg\" width=\"100\"/> </td>\n",
    "     <td><img src=\"https://github.com/astg606/py_materials/blob/master/logos/ASTG_logo.png?raw=true\" width=\"80\"/> </td>\n",
    "     <td> <img src=\"https://www.nccs.nasa.gov/sites/default/files/NCCS_Logo_0.png\" width=\"130\"/> </td>\n",
    "    </tr>\n",
    "</table>\n",
    "</center>\n",
    "\n",
    "        \n",
    "<center>\n",
    "<h1><font color= \"blue\" size=\"+3\">ASTG Python Courses</font></h1>\n",
    "</center>\n",
    "\n",
    "---\n",
    "\n",
    "<CENTER>\n",
    "<H1>\n",
    "    <font color=\"red\">Functions</font>\n",
    "</H1>\n",
    "</CENTER>"
   ]
  },
  {
   "cell_type": "markdown",
   "metadata": {},
   "source": [
    "## Useful Links\n",
    "\n",
    "- <a href=\"https://www.tutorialspoint.com/python/python_functions.htm\"> Python - Functions</a>\n",
    "- <a href=\"https://realpython.com/defining-your-own-python-function/\"> Defining Your Own Python Function</a>"
   ]
  },
  {
   "cell_type": "markdown",
   "metadata": {
    "slideshow": {
     "slide_type": "subslide"
    }
   },
   "source": [
    "# What is a Function?\n",
    "\n",
    "* Blocks of code which only runs when it is called.\n",
    "* Can be reused: save some time.\n",
    "* Make the code more readable.\n",
    "* Allow data (parameters) to be passed as arguments.\n"
   ]
  },
  {
   "cell_type": "markdown",
   "metadata": {
    "slideshow": {
     "slide_type": "slide"
    }
   },
   "source": [
    "## Syntax\n",
    "\n",
    "Here are simple rules to define a function in Python.\n",
    "\n",
    "- Function blocks begin with the keyword def followed by the function name and parentheses (`( )`).\n",
    "- Any input parameters or arguments should be placed within these parentheses. You can also define parameters inside these parentheses.\n",
    "- The first statement of a function can be an optional statement - the documentation string of the function or docstring.\n",
    "- The code block within every function starts with a colon (`:`) and is indented.\n",
    "- The statement return `[expression]` exits a function, optionally passing back an expression to the caller. A return statement with no arguments is the same as return `None`.\n",
    "\n",
    "```python\n",
    "def function_name([<arguments>]):\n",
    "    \"function_docstring\"\n",
    "    <function_statement(s)>\n",
    "    return [expression]\n",
    "```"
   ]
  },
  {
   "cell_type": "markdown",
   "metadata": {},
   "source": [
    "**Example of Function**"
   ]
  },
  {
   "cell_type": "code",
   "execution_count": null,
   "metadata": {
    "slideshow": {
     "slide_type": "fragment"
    }
   },
   "outputs": [],
   "source": [
    "def my_function(x):\n",
    "    print(x**2)"
   ]
  },
  {
   "cell_type": "code",
   "execution_count": null,
   "metadata": {
    "slideshow": {
     "slide_type": "fragment"
    }
   },
   "outputs": [],
   "source": [
    "a = 5\n",
    "my_function(a)"
   ]
  },
  {
   "cell_type": "code",
   "execution_count": null,
   "metadata": {
    "slideshow": {
     "slide_type": "fragment"
    }
   },
   "outputs": [],
   "source": [
    "b = 'a string '\n",
    "my_function(b)"
   ]
  },
  {
   "cell_type": "markdown",
   "metadata": {
    "slideshow": {
     "slide_type": "subslide"
    }
   },
   "source": [
    "Functions allow us to reuse code:"
   ]
  },
  {
   "cell_type": "code",
   "execution_count": null,
   "metadata": {
    "slideshow": {
     "slide_type": "fragment"
    }
   },
   "outputs": [],
   "source": [
    "def f(x):\n",
    "    # note the use of a return statement\n",
    "    return x * x\n",
    "\n",
    "print(f(3))\n",
    "print(f(3) + f(4))\n",
    "print(f(f(f(f(f(2))))))"
   ]
  },
  {
   "cell_type": "markdown",
   "metadata": {
    "slideshow": {
     "slide_type": "slide"
    }
   },
   "source": [
    "# Arguments\n",
    "\n",
    "---\n",
    "\n",
    "Functions allow the following types of arguments between the `()`'s:\n",
    "\n",
    "* No arguments\n",
    "* Positional Arguments - order sensitive\n",
    "* Keyword Arguments - named variables (can have default values)\n",
    "* `*args` - a tuple of variable length\n",
    "* `**kwargs` - a dictionary of keyword arguments"
   ]
  },
  {
   "cell_type": "markdown",
   "metadata": {},
   "source": [
    "**No arguments**\n",
    "\n",
    "- Useful for grouping codes."
   ]
  },
  {
   "cell_type": "code",
   "execution_count": null,
   "metadata": {
    "slideshow": {
     "slide_type": "subslide"
    }
   },
   "outputs": [],
   "source": [
    "def driver():\n",
    "    x = int(input('Provide an integer: '))\n",
    "    if (x < 0):\n",
    "        print(\"The number {:} is negative!\".format(x))\n",
    "    elif(x < 100):\n",
    "        print(\"The number {:} is reasonable!\".format(x))\n",
    "    else:\n",
    "        print(\"The number {:} is too large!\".format(x))\n",
    "\n",
    "driver()"
   ]
  },
  {
   "cell_type": "markdown",
   "metadata": {},
   "source": [
    "**Positional arguments**\n",
    "\n",
    "- Expect specific variables"
   ]
  },
  {
   "cell_type": "code",
   "execution_count": null,
   "metadata": {
    "slideshow": {
     "slide_type": "subslide"
    }
   },
   "outputs": [],
   "source": [
    "def sum(x, y):\n",
    "    return x + y\n",
    "\n",
    "print(sum(4, 248))"
   ]
  },
  {
   "cell_type": "markdown",
   "metadata": {},
   "source": [
    "**Keyword arguments**\n",
    "\n",
    "- Usually with defaults\n",
    "- Variable length (like reading a file)"
   ]
  },
  {
   "cell_type": "code",
   "execution_count": null,
   "metadata": {
    "slideshow": {
     "slide_type": "subslide"
    }
   },
   "outputs": [],
   "source": [
    "def student_title(fname='Bob', lname='Brown'):\n",
    "    print('{:<10}, {:>20}'.format(fname.capitalize(), \n",
    "                                  lname.capitalize()))\n",
    "\n",
    "student_title(lname='Smith')"
   ]
  },
  {
   "cell_type": "markdown",
   "metadata": {},
   "source": [
    "```python\n",
    "def f(y, x=1):\n",
    "    return x**2\n",
    "\n",
    "print(f())\n",
    "print(f(5))\n",
    "print(f(x=27))\n",
    "```\n",
    "\n",
    "There is an order to arguments in that positional arguments HAVE TO preceed keyword arguments."
   ]
  },
  {
   "cell_type": "markdown",
   "metadata": {},
   "source": [
    "**Combine positional arguments and keyword arguments**"
   ]
  },
  {
   "cell_type": "code",
   "execution_count": null,
   "metadata": {},
   "outputs": [],
   "source": [
    "def add_numbers(*numbers, initial=1):\n",
    "    total = initial\n",
    "    for n in numbers:\n",
    "        total += n\n",
    "    return total\n",
    "\n",
    "print(add_numbers())\n",
    "print(add_numbers(8))\n",
    "print(add_numbers(2,8, initial=3))\n",
    "print(add_numbers(1, 2, 3, 4, 5, 6, 7, initial=8))"
   ]
  },
  {
   "cell_type": "markdown",
   "metadata": {},
   "source": [
    "The special syntax, `*args` and `**kwargs` in function definitions is used to pass a variable number of arguments to a function.\n",
    "* The single asterisk form (`*args`) is used to pass a non-keyworded, variable-length argument list.\n",
    "* The double asterisk form (`**kwargs`) is used to pass a keyworded, variable-length argument list."
   ]
  },
  {
   "cell_type": "code",
   "execution_count": null,
   "metadata": {},
   "outputs": [],
   "source": [
    "def pass_var_args(farg, *args):\n",
    "    print(\"Formal arg:\", farg)\n",
    "    for arg in args:\n",
    "        print(\"Another arg:\", arg)\n",
    "\n",
    "pass_var_args(1, \"two\", 3, 4)"
   ]
  },
  {
   "cell_type": "code",
   "execution_count": null,
   "metadata": {},
   "outputs": [],
   "source": [
    "def pass_var_kwargs(farg, **kwargs):\n",
    "    print(\"Formal arg:\", farg)\n",
    "    for key in kwargs:\n",
    "        print(\"Another keyword arg: {} --> {}\".format(key, kwargs[key]))\n",
    "\n",
    "pass_var_kwargs(farg=1, myarg2=\"two\", myarg3=3)\n",
    "print()\n",
    "pass_var_kwargs(farg=1, \\\n",
    "                **{\"myarg2\": \"two\", \"myarg3\":3, \"myarg4\":\"Python\"})"
   ]
  },
  {
   "cell_type": "markdown",
   "metadata": {},
   "source": [
    "## <font color=\"purple\">Going Deeper: `yield` Statement</font>\n",
    "+ Use yield to replace the `return` statement.\n",
    "+ Suspend function’s execution and sends a value back to caller, but retains enough state to enable function to resume where it is left off.\n",
    "+ When resumed, the function continues execution immediately after the last yield run. \n",
    "+ Process allows its code to produce a series of values over time, rather them computing them at once and sending them back like a list.\n",
    "\n",
    "`yield` is used in Python **generators**.\n",
    "+ A generator function is defined like a normal function, but whenever it needs to generate a value, it does so with the yield keyword rather than return. \n",
    "+ If the body of a `def` contains `yield`, the function automatically becomes a generator function."
   ]
  },
  {
   "cell_type": "code",
   "execution_count": null,
   "metadata": {},
   "outputs": [],
   "source": [
    "# A Python program to generate squares from 1 \n",
    "# to 100 using yield and therefore generator \n",
    "  \n",
    "\n",
    "def nextSquare(): \n",
    "    \"\"\"\n",
    "       An infinite generator function that prints \n",
    "       next square number. It starts with 1. \n",
    "    \"\"\"\n",
    "    i = 1 \n",
    "  \n",
    "    # An Infinite loop to generate squares  \n",
    "    while True: \n",
    "        yield i*i                 \n",
    "        i += 1  # Next execution resumes from this point   "
   ]
  },
  {
   "cell_type": "code",
   "execution_count": null,
   "metadata": {},
   "outputs": [],
   "source": [
    "# Driver code to test above generator function \n",
    "for num in nextSquare(): \n",
    "    if num > 100: \n",
    "        break    \n",
    "    print(num)"
   ]
  },
  {
   "cell_type": "markdown",
   "metadata": {},
   "source": [
    "# <font color='red'>Scope of Variables</font>\n",
    "\n",
    "- All variables in a program may not be accessible at all locations in that program. This depends on where you have declared a variable.\n",
    "- The scope of a variable determines the portion of the program where you can access a particular identifier. \n",
    "- There are two basic scopes of variables in Python: \n",
    "     - Global variables\n",
    "     - Local variables\n",
    "- Variables that are defined inside a function body have a local scope, and those defined outside have a global scope.\n",
    "- Local variables can be accessed only inside the function in which they are declared.\n",
    "- Global variables can be accessed throughout the program body by all functions."
   ]
  },
  {
   "cell_type": "code",
   "execution_count": null,
   "metadata": {},
   "outputs": [],
   "source": [
    "total = 0\n",
    "\n",
    "def add_objects(arg1, arg2):\n",
    "    \"\"\"\n",
    "      Add both parameters and return the result.\n",
    "    \"\"\"\n",
    "    total = arg1 + arg2\n",
    "    print(\"Inside the function local total: {}\".format(total))\n",
    "    return total\n",
    "\n",
    "\n",
    "add_objects( 10, 20 )\n",
    "\n",
    "print(\"Outside the function global total: {}\".format(total)) "
   ]
  },
  {
   "cell_type": "markdown",
   "metadata": {},
   "source": [
    "\n",
    "### <font color=\"blue\">Breakout 1:</font>\n",
    "\n",
    "Consider the code below. Write a function that takes a patient's temperature and returns their condition (as a string)."
   ]
  },
  {
   "cell_type": "code",
   "execution_count": null,
   "metadata": {},
   "outputs": [],
   "source": [
    "# provide the temperature of the patient.\n",
    "temp = float(input('Enter the temperature of the patient: '))\n",
    "\n",
    "if temp > 105.8:\n",
    "    print('The patient has a very high fever.')\n",
    "elif temp > 103.1:\n",
    "    print('The patient has a high fever.')\n",
    "elif temp > 100.4:\n",
    "    print('The patient has fever.')\n",
    "elif temp > 97.9:\n",
    "    print('The patient is fine.')\n",
    "else:\n",
    "    print('The temperature of the patient is low.')"
   ]
  },
  {
   "cell_type": "markdown",
   "metadata": {},
   "source": [
    "<p>\n",
    "<p>\n",
    "\n",
    "<details><summary><b>CLICK HERE TO ACCESS THE SOLUTION</b></summary>\n",
    "<p>\n",
    "    \n",
    "```python\n",
    "def determine_patient_condition(patient_temp):\n",
    "    \"\"\"\n",
    "    Determine the patient condition based of their\n",
    "    temperature.\n",
    "    \n",
    "    Parameters\n",
    "    ----------\n",
    "    patient_temp : float\n",
    "       The temperature of a patient.\n",
    "    \n",
    "    Returns\n",
    "    -------\n",
    "    patient_cond: str\n",
    "       The patient condition.\n",
    "    \"\"\"\n",
    "    if patient_temp > 105.8:\n",
    "        patient_cond = 'The patient has a very high fever.'\n",
    "    elif patient_temp > 103.1:\n",
    "        patient_cond = 'The patient has a high fever.'\n",
    "    elif patient_temp > 100.4:\n",
    "        patient_cond = 'The patient has fever.'\n",
    "    elif patient_temp > 97.9:\n",
    "        patient_cond = 'The patient is fine.'\n",
    "    else:\n",
    "        patient_cond = 'The temperature of the patient is low.'\n",
    "    \n",
    "    return patient_cond\n",
    "\n",
    "# provide the temperature of the patient.\n",
    "patient_temp = float(input('Enter the temperature of the patient: '))\n",
    "patient_cond = determine_patient_condition(patient_temp)\n",
    "print(f\"The patient has a temperature of {patient_temp}. \\n\\t {patient_cond}\")\n",
    "```\n",
    "\n",
    "</p>\n",
    "</details>"
   ]
  },
  {
   "cell_type": "markdown",
   "metadata": {},
   "source": [
    "\n",
    "### <font color=\"blue\">Breakout 2:</font>\n",
    "Write a function that:\n",
    "- Takes a list as an argument, and \n",
    "- Prints for each entry of the list its value and data type.\n"
   ]
  },
  {
   "cell_type": "markdown",
   "metadata": {},
   "source": [
    "<p>\n",
    "<p>\n",
    "\n",
    "<details><summary><b>CLICK HERE TO ACCESS THE SOLUTION</b></summary>\n",
    "<p>\n",
    "    \n",
    "```python\n",
    "def print_list_content(alist):\n",
    "    \"\"\"\n",
    "    Print each item of a list and its data type.\n",
    "    \n",
    "    Parameters\n",
    "    ----------\n",
    "    alist : list\n",
    "       A list\n",
    "    \"\"\"\n",
    "    for entry in alist:\n",
    "        print(f\"Entry value: {entry}\")\n",
    "        print(f\"\\t Entry type: {type(entry)}\")\n",
    "        \n",
    "my_list = ['Python', 125, -1.25, [1, 2.5]]\n",
    "print_list_content(my_list)\n",
    "```\n",
    "\n",
    "</p>\n",
    "</details>"
   ]
  },
  {
   "cell_type": "markdown",
   "metadata": {},
   "source": [
    "# <font color='red'>How Arguments are Passed?</font>\n",
    "\n",
    "Two things to have in mind:\n",
    "* Variables\n",
    "* Objects"
   ]
  },
  {
   "cell_type": "markdown",
   "metadata": {},
   "source": [
    "**If you are passing a variable, then it is passed by value**, which means the changes made to the variable within the function are local to that function and hence won't be reflected globally. This is more of a 'C' like behavior."
   ]
  },
  {
   "cell_type": "code",
   "execution_count": null,
   "metadata": {},
   "outputs": [],
   "source": [
    "def passed_by_value( myvar ):\n",
    "    myvar = 20; \n",
    "    print(\"Values inside the function: \", myvar)\n",
    "    return\n",
    "\n",
    "myvar = 10\n",
    "passed_by_value( myvar )\n",
    "print(\"Values outside the function: \", myvar)"
   ]
  },
  {
   "cell_type": "markdown",
   "metadata": {},
   "source": [
    "**If you are passing the variables packed inside a mutable object** (like a list) **then the changes made to the object are reflected globally as long as the object is not re-assigned**."
   ]
  },
  {
   "cell_type": "code",
   "execution_count": null,
   "metadata": {},
   "outputs": [],
   "source": [
    "def passed_by_reference( mylist ):\n",
    "    mylist.append('a');\n",
    "    print(\"Values inside the function: \", mylist)\n",
    "    return\n",
    "\n",
    "mylist = [1,2,3];\n",
    "passed_by_reference( mylist );\n",
    "print(\"Values outside the function: \", mylist)"
   ]
  },
  {
   "cell_type": "markdown",
   "metadata": {},
   "source": [
    "**If the mutable object is re-assigned, the object refers to a new memory location which is local to the function in which this happens and hence not reflected globally**."
   ]
  },
  {
   "cell_type": "code",
   "execution_count": null,
   "metadata": {},
   "outputs": [],
   "source": [
    "def passed_unchanged_object( mylist ):\n",
    "    mylist=['a']\n",
    "    print(\"Values inside the function: \", mylist)\n",
    "    return\n",
    "\n",
    "mylist = [1,2,3];\n",
    "passed_unchanged_object( mylist );\n",
    "print(\"Values outside the function: \", mylist)"
   ]
  },
  {
   "cell_type": "markdown",
   "metadata": {},
   "source": [
    "# <font color='purple'>Going Deeper: `lambda` Functions</font>\n",
    "\n",
    "\n",
    "What is Lambda?\n",
    "+ Lambdas (anonymous functions), are small, restricted functions which do not need a name (i.e., an identifier).\n",
    "+ Every anonymous function you define in Python will have 3 essential parts:\n",
    "          o The lambda keyword.\n",
    "          o The parameters (or bound variables), and\n",
    "          o The function body.\n",
    "          \n",
    "+ A lambda function can have any number of parameters, but the function body can only contain one expression."
   ]
  },
  {
   "cell_type": "markdown",
   "metadata": {},
   "source": [
    "**Basic Syntax**\n",
    "```python\n",
    "lambda p1, p2: expression \n",
    "```"
   ]
  },
  {
   "cell_type": "markdown",
   "metadata": {},
   "source": [
    "**Examples**"
   ]
  },
  {
   "cell_type": "code",
   "execution_count": null,
   "metadata": {},
   "outputs": [],
   "source": [
    "adder = lambda x, y: x + y\n",
    "print (adder (1, 2))"
   ]
  },
  {
   "cell_type": "code",
   "execution_count": null,
   "metadata": {},
   "outputs": [],
   "source": [
    "#What a lambda returns\n",
    "x='some kind of a lambda function'\n",
    "(lambda x : print(x))(x)"
   ]
  },
  {
   "cell_type": "markdown",
   "metadata": {},
   "source": [
    "\n",
    "### <font color=\"blue\">Breakout 3:</font>\n",
    "Write a function that lists all files with a certain extension in the current directory. (__Hint:__ Use the `glob` package.)\n",
    "\n",
    "How might you extend this function to be useful to you and your projects?"
   ]
  },
  {
   "cell_type": "markdown",
   "metadata": {},
   "source": [
    "<p>\n",
    "<p>\n",
    "\n",
    "<details><summary><b>CLICK HERE TO ACCESS THE SOLUTION</b></summary>\n",
    "<p>\n",
    "    \n",
    "```python\n",
    "import glob\n",
    "\n",
    "def list_files(file_extension):\n",
    "    files = glob.glob(\"*\"+file_extension)\n",
    "    return files\n",
    "\n",
    "files = list_files('py')\n",
    "print(files)\n",
    "```\n",
    "\n",
    "</p>\n",
    "</details>"
   ]
  },
  {
   "cell_type": "code",
   "execution_count": null,
   "metadata": {},
   "outputs": [],
   "source": []
  }
 ],
 "metadata": {
  "anaconda-cloud": {},
  "celltoolbar": "Slideshow",
  "kernelspec": {
   "display_name": "Python 3 (ipykernel)",
   "language": "python",
   "name": "python3"
  },
  "language_info": {
   "codemirror_mode": {
    "name": "ipython",
    "version": 3
   },
   "file_extension": ".py",
   "mimetype": "text/x-python",
   "name": "python",
   "nbconvert_exporter": "python",
   "pygments_lexer": "ipython3",
   "version": "3.8.2"
  }
 },
 "nbformat": 4,
 "nbformat_minor": 1
}
