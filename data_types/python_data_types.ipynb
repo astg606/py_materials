{
 "cells": [
  {
   "cell_type": "markdown",
   "metadata": {},
   "source": [
    "<center>\n",
    "<table>\n",
    "  <tr>\n",
    "    <td><img src=\"http://www.nasa.gov/sites/all/themes/custom/nasatwo/images/nasa-logo.svg\" width=\"100\"/> </td>\n",
    "     <td><img src=\"https://github.com/astg606/py_materials/blob/master/logos/ASTG_logo.png?raw=true\" width=\"80\"/> </td>\n",
    "     <td> <img src=\"https://www.nccs.nasa.gov/sites/default/files/NCCS_Logo_0.png\" width=\"130\"/> </td>\n",
    "    </tr>\n",
    "</table>\n",
    "</center>\n",
    "\n",
    "        \n",
    "<center>\n",
    "<h1><font color= \"blue\" size=\"+3\">ASTG Python Courses</font></h1>\n",
    "</center>\n",
    "\n",
    "---\n",
    "\n",
    "<center><h1>\n",
    "    <font color=\"red\">Python Basic Data Types</font>  \n",
    "</h1></center>"
   ]
  },
  {
   "cell_type": "markdown",
   "metadata": {},
   "source": [
    "# <font color=\"red\">Objectives</font>\n",
    "In this presentation we want to introduce Python basic data types, namely:\n",
    "\n",
    "- Integer\n",
    "- Floating point\n",
    "- Boolean\n",
    "- String\n"
   ]
  },
  {
   "cell_type": "markdown",
   "metadata": {},
   "source": [
    "### Useful Links\n",
    "\n",
    "- <a href=\"https://docs.python.org/3/library/stdtypes.html\">Python Built-in Types</a>\n",
    "- <a href=\"https://beginnersbook.com/2019/03/python-data-types/\">Python Data Types</a>"
   ]
  },
  {
   "cell_type": "markdown",
   "metadata": {},
   "source": [
    "## <font color=\"red\">Python Primitive Data Types</font>\n",
    "\n",
    "- Data types are the classification or categorization of data items. \n",
    "- Data types represent a kind of value which determines what operations can be performed on that data.\n",
    "- Every value in Python has a datatype.\n",
    "\n",
    "Python has four primitive data types:\n",
    "\n",
    "* Integer\n",
    "* Float\n",
    "* Boolean\n",
    "* String\n",
    "\n",
    "We will cover the above data types in addition to complex numbers."
   ]
  },
  {
   "cell_type": "markdown",
   "metadata": {},
   "source": [
    "## <font color=\"red\">Concept of Variables in Python</font>\n",
    "\n",
    "#### What are variables?\n",
    "\n",
    "* Variables are the most important aspect of any programming language.\n",
    "* Variables are nothing but reserved memory locations to store values. This means that when you create a variable you reserve some space in memory.\n",
    "* Python variables do not need explicit declaration to reserve memory space.\n",
    "   * The declaration happens automatically when you assign a value to a variable. \n",
    "   * The equal sign (`=`) is used to assign values to variables.\n",
    "   * Based on the data type of a variable, the Python interpreter allocates memory and decides what can be stored in the reserved memory. \n",
    "   * A variable can change its type over the course of the program's execution.\n",
    "   * By assigning different data types to variables, you can store integers, decimals or characters in these variables.\n",
    "\n",
    "#### Basic rules for creating variables\n",
    "It is important to have in mind the following rules when creating variables:\n",
    "- The name of a variable cannot start with a number. It needs to start with either an alphabet or the underscore character.\n",
    "- Variable names are case sensitive.\n",
    "- Reserved words cannot be used as variable names.\n",
    "\n"
   ]
  },
  {
   "cell_type": "markdown",
   "metadata": {},
   "source": [
    "## <font color=\"red\"> Integers </font>"
   ]
  },
  {
   "cell_type": "markdown",
   "metadata": {},
   "source": [
    "* An integer is a whole number that could hold a zero, positive or negative value.\n",
    "* Integers can be of any length, it is only limited by the memory available."
   ]
  },
  {
   "cell_type": "code",
   "execution_count": null,
   "metadata": {},
   "outputs": [],
   "source": [
    "a = 12345678901234567890123456789012345678901234567890\n",
    "print(a)"
   ]
  },
  {
   "cell_type": "code",
   "execution_count": null,
   "metadata": {},
   "outputs": [],
   "source": [
    "b = a + 11\n",
    "print(b)"
   ]
  },
  {
   "cell_type": "markdown",
   "metadata": {},
   "source": [
    "- The underlying type of a Python integer, irrespective of the base used to specify it, is called `int`.\n",
    "- We can use the `type()` function to determine the type of any Python data item."
   ]
  },
  {
   "cell_type": "code",
   "execution_count": null,
   "metadata": {},
   "outputs": [],
   "source": [
    "type(10)"
   ]
  },
  {
   "cell_type": "code",
   "execution_count": null,
   "metadata": {},
   "outputs": [],
   "source": [
    "type(b)"
   ]
  },
  {
   "cell_type": "markdown",
   "metadata": {},
   "source": [
    "- We can also use the `isinstance()` function to check if a data item belongs to a particular data type."
   ]
  },
  {
   "cell_type": "code",
   "execution_count": null,
   "metadata": {},
   "outputs": [],
   "source": [
    "a = 12345678901234567890123456789012345678901234567890\n",
    "print(a, \"is of type\", type(a))\n",
    "print(a, \"is integer?\", isinstance(a, int))"
   ]
  },
  {
   "cell_type": "markdown",
   "metadata": {},
   "source": [
    "### Integer Arithmetic"
   ]
  },
  {
   "cell_type": "markdown",
   "metadata": {},
   "source": [
    "In Python, __variables are not declared__. The type of a variable is determined when it is assigned a value."
   ]
  },
  {
   "cell_type": "markdown",
   "metadata": {},
   "source": [
    "#### <font color=\"blue\">Example 1</font>"
   ]
  },
  {
   "cell_type": "code",
   "execution_count": null,
   "metadata": {},
   "outputs": [],
   "source": [
    "a = 1\n",
    "b = 2\n",
    "c = 3\n",
    "d = 4\n",
    "e = 5\n",
    "f = 6\n",
    "g = 7\n",
    "h = 8"
   ]
  },
  {
   "cell_type": "code",
   "execution_count": null,
   "metadata": {},
   "outputs": [],
   "source": [
    "print(a + b)"
   ]
  },
  {
   "cell_type": "code",
   "execution_count": null,
   "metadata": {},
   "outputs": [],
   "source": [
    "print(c - d)"
   ]
  },
  {
   "cell_type": "code",
   "execution_count": null,
   "metadata": {},
   "outputs": [],
   "source": [
    "print(e * f)"
   ]
  },
  {
   "cell_type": "code",
   "execution_count": null,
   "metadata": {},
   "outputs": [],
   "source": [
    "print(g / h)"
   ]
  },
  {
   "cell_type": "markdown",
   "metadata": {},
   "source": [
    "**What do you see in the operation `g / h`?**\n",
    "- In Python the symbol `/` is used for floating point division.\n",
    "- For integer division, use instead `//`."
   ]
  },
  {
   "cell_type": "markdown",
   "metadata": {},
   "source": [
    "#### <font color=\"blue\">Example 2</font>"
   ]
  },
  {
   "cell_type": "code",
   "execution_count": null,
   "metadata": {},
   "outputs": [],
   "source": [
    "x = 17\n",
    "y = 3"
   ]
  },
  {
   "cell_type": "code",
   "execution_count": null,
   "metadata": {},
   "outputs": [],
   "source": [
    "print(x /  y)  # gives 5.66666666667"
   ]
  },
  {
   "cell_type": "code",
   "execution_count": null,
   "metadata": {},
   "outputs": [],
   "source": [
    "print(x // y)  # gives 5"
   ]
  },
  {
   "cell_type": "code",
   "execution_count": null,
   "metadata": {},
   "outputs": [],
   "source": [
    "print(x %  y)   # gives 2"
   ]
  },
  {
   "cell_type": "markdown",
   "metadata": {},
   "source": [
    "### <font color=\"purple\"> Going Deeper with Integers</font>\n",
    "\n",
    "The following strings can be prepended to an integer value to indicate a base other than 10:\n",
    "\n",
    "| Prefix |\tInterpretation\t| Base |\n",
    "| --- | --- | --- | \n",
    "| 0b (zero + lowercase letter 'b') | Binary| \t2|\n",
    "| 0B (zero + uppercase letter 'B')|\t \n",
    "| 0o (zero + lowercase letter 'o')|  Octal| \t8|\n",
    "| 0O (zero + uppercase letter 'O')|\n",
    "| 0x (zero + lowercase letter 'x')|  Hexadecimal| \t16|\n",
    "| 0X (zero + uppercase letter 'X')| \t"
   ]
  },
  {
   "cell_type": "markdown",
   "metadata": {},
   "source": [
    "Octal numbers:"
   ]
  },
  {
   "cell_type": "code",
   "execution_count": null,
   "metadata": {},
   "outputs": [],
   "source": [
    "a = 0o10"
   ]
  },
  {
   "cell_type": "code",
   "execution_count": null,
   "metadata": {},
   "outputs": [],
   "source": [
    "print(f\"Value: {a} \\n Type: {type(a)}\")"
   ]
  },
  {
   "cell_type": "markdown",
   "metadata": {},
   "source": [
    "Hexadecimal numbers:"
   ]
  },
  {
   "cell_type": "code",
   "execution_count": null,
   "metadata": {},
   "outputs": [],
   "source": [
    "b = 0x10"
   ]
  },
  {
   "cell_type": "code",
   "execution_count": null,
   "metadata": {},
   "outputs": [],
   "source": [
    "print(f\"Value: {b} \\n Type: {type(b)}\")"
   ]
  },
  {
   "cell_type": "markdown",
   "metadata": {},
   "source": [
    "Binary numbers:"
   ]
  },
  {
   "cell_type": "code",
   "execution_count": null,
   "metadata": {},
   "outputs": [],
   "source": [
    "c = 0b001"
   ]
  },
  {
   "cell_type": "code",
   "execution_count": null,
   "metadata": {},
   "outputs": [],
   "source": [
    "print(f\"Value: {c} \\n Type: {type(c)}\")"
   ]
  },
  {
   "cell_type": "markdown",
   "metadata": {},
   "source": [
    "## <font color=\"red\">Floating Point Numbers </font>\n",
    "\n",
    "* The float type in Python designates a floating-point number. \n",
    "* Float values are specified with a decimal point.\n",
    "* A floating-point number is accurate up to 15 decimal places.\n",
    "* The character e or E followed by a positive or negative integer may be appended to specify scientific notation."
   ]
  },
  {
   "cell_type": "code",
   "execution_count": null,
   "metadata": {},
   "outputs": [],
   "source": [
    "7.94"
   ]
  },
  {
   "cell_type": "code",
   "execution_count": null,
   "metadata": {},
   "outputs": [],
   "source": [
    "type(7.94)"
   ]
  },
  {
   "cell_type": "code",
   "execution_count": null,
   "metadata": {},
   "outputs": [],
   "source": [
    ".56"
   ]
  },
  {
   "cell_type": "code",
   "execution_count": null,
   "metadata": {},
   "outputs": [],
   "source": [
    "56."
   ]
  },
  {
   "cell_type": "code",
   "execution_count": null,
   "metadata": {},
   "outputs": [],
   "source": [
    "2.6e-5"
   ]
  },
  {
   "cell_type": "code",
   "execution_count": null,
   "metadata": {},
   "outputs": [],
   "source": [
    "a = 0.1234567890123456789\n",
    "print(a, \"is of type\", type(a))\n",
    "print(a, \"is float?\", isinstance(a, float))"
   ]
  },
  {
   "cell_type": "markdown",
   "metadata": {},
   "source": [
    "* Floating point numbers are represented internally as binary (base-2) fractions. \n",
    "* Most decimal fractions cannot be represented exactly as binary fractions, so in most cases the internal representation of a floating-point number is an approximation of the actual value."
   ]
  },
  {
   "cell_type": "markdown",
   "metadata": {},
   "source": [
    "#### Operations on Floats"
   ]
  },
  {
   "cell_type": "code",
   "execution_count": null,
   "metadata": {},
   "outputs": [],
   "source": [
    "print(int(1.3))   # gives 1\n",
    "print(int(1.7))   # gives 1\n",
    "print(int(-1.3))  # gives -1\n",
    "print(int(-1.7))  # gives -1"
   ]
  },
  {
   "cell_type": "markdown",
   "metadata": {},
   "source": [
    "The `round()` function returns a floating-point number rounded to the specified number of decimals.\n",
    "\n",
    "```python\n",
    "   round(float_number [, ndigits])\n",
    "```\n",
    "\n",
    "It takes two parameters:\n",
    "\n",
    "+ **float_number** - the floating point number to be rounded\n",
    "+ **ndigits (optional)** - number up to which the given number is rounded; defaults to 0.\n",
    "\n",
    "Things to consider:\n",
    "\n",
    "- If `ndigits` is not provided, the returned value is the nearest integer.\n",
    "- If `ndigits` is present, it will round to the number of places given. The return type will be a float.\n",
    "- The returned value will be rounded to `+1` if the value after the decimal point is `>=5` else it will return the value as it is up to the decimal places mentioned"
   ]
  },
  {
   "cell_type": "markdown",
   "metadata": {},
   "source": [
    "#### <font color=\"blue\">Example 3</font>\n",
    "\n",
    "Consider the positive floating point numbers:"
   ]
  },
  {
   "cell_type": "code",
   "execution_count": null,
   "metadata": {},
   "outputs": [],
   "source": [
    "float_num1 = 10.60 \n",
    "float_num2 = 10.40\n",
    "float_num3 = 10.3456 \n",
    "float_num4 = 10.3445 "
   ]
  },
  {
   "cell_type": "markdown",
   "metadata": {},
   "source": [
    "Let us perform various rounding operations:"
   ]
  },
  {
   "cell_type": "code",
   "execution_count": null,
   "metadata": {},
   "outputs": [],
   "source": [
    "print(\"Rounded value without num_of_decimals:\", round(float_num1))"
   ]
  },
  {
   "cell_type": "code",
   "execution_count": null,
   "metadata": {},
   "outputs": [],
   "source": [
    "print(\"Rounded value without num_of_decimals:\", round(float_num2))"
   ]
  },
  {
   "cell_type": "code",
   "execution_count": null,
   "metadata": {},
   "outputs": [],
   "source": [
    "print(\"Rounded value with num_of_decimals as 2:\", round(float_num3, 2))"
   ]
  },
  {
   "cell_type": "code",
   "execution_count": null,
   "metadata": {},
   "outputs": [],
   "source": [
    "print(\"Rounded value with num_of_decimals as 2:\", round(float_num4, 2))"
   ]
  },
  {
   "cell_type": "markdown",
   "metadata": {},
   "source": [
    "#### <font color=\"blue\">Example 4</font>\n",
    "\n",
    "Let us see a few examples of how rounding works on negative numbers:"
   ]
  },
  {
   "cell_type": "code",
   "execution_count": null,
   "metadata": {},
   "outputs": [],
   "source": [
    "num = -2.8\n",
    "num1 = -1.5"
   ]
  },
  {
   "cell_type": "code",
   "execution_count": null,
   "metadata": {},
   "outputs": [],
   "source": [
    "print(\"The value after rounding is\", round(num))"
   ]
  },
  {
   "cell_type": "code",
   "execution_count": null,
   "metadata": {},
   "outputs": [],
   "source": [
    "print(\"The value after rounding is\", round(num1))"
   ]
  },
  {
   "cell_type": "markdown",
   "metadata": {},
   "source": [
    "## <font color=\"red\">Complex Numbers</font>"
   ]
  },
  {
   "cell_type": "markdown",
   "metadata": {},
   "source": [
    "- A complex number consists of an ordered pair of real floating point numbers denoted by `a + bj`, where `a` is the real part and `b` is the imaginary part of the complex number."
   ]
  },
  {
   "cell_type": "code",
   "execution_count": null,
   "metadata": {},
   "outputs": [],
   "source": [
    "3.0 + 9j"
   ]
  },
  {
   "cell_type": "code",
   "execution_count": null,
   "metadata": {},
   "outputs": [],
   "source": [
    "type(3.0+9j)"
   ]
  },
  {
   "cell_type": "markdown",
   "metadata": {},
   "source": [
    "#### <font color=\"blue\">Example 5</font>"
   ]
  },
  {
   "cell_type": "code",
   "execution_count": null,
   "metadata": {},
   "outputs": [],
   "source": [
    "a = complex(3.0,9)\n",
    "b = complex(1,2)"
   ]
  },
  {
   "cell_type": "code",
   "execution_count": null,
   "metadata": {},
   "outputs": [],
   "source": [
    "print(\"a =                 \", a)\n",
    "print('Real Part =         ', a.real)\n",
    "print('Imaginary Part =    ', a.imag)\n",
    "print('Complex conjugate = ', a.conjugate())"
   ]
  },
  {
   "cell_type": "code",
   "execution_count": null,
   "metadata": {},
   "outputs": [],
   "source": [
    "print (\"a*a= \",a*a)\n",
    "print (\"a/b= \",a/b)\n",
    "print (\"a*b= \",a*b)"
   ]
  },
  {
   "cell_type": "markdown",
   "metadata": {},
   "source": [
    "## <font color=\"red\">Booleans</font>"
   ]
  },
  {
   "cell_type": "markdown",
   "metadata": {},
   "source": [
    "* The python data type `bool` is used to store two values i.e `True` and `False`.\n",
    "* Booleans are used to test whether the result of an expression is true or false."
   ]
  },
  {
   "cell_type": "code",
   "execution_count": null,
   "metadata": {},
   "outputs": [],
   "source": [
    "true=True\n",
    "print(type(true))\n",
    "true=123\n",
    "type(true)"
   ]
  },
  {
   "cell_type": "code",
   "execution_count": null,
   "metadata": {},
   "outputs": [],
   "source": [
    "type(False)"
   ]
  },
  {
   "cell_type": "markdown",
   "metadata": {},
   "source": [
    "- A Boolean expression is an expression that evaluates to produce a result which is a Boolean value.\n",
    "- We can store a Boolean value in a variable:"
   ]
  },
  {
   "cell_type": "code",
   "execution_count": null,
   "metadata": {},
   "outputs": [],
   "source": [
    "my_bool = 5 > 8"
   ]
  },
  {
   "cell_type": "markdown",
   "metadata": {},
   "source": [
    "and then print the Boolean value with a call to the `print()` function:"
   ]
  },
  {
   "cell_type": "code",
   "execution_count": null,
   "metadata": {},
   "outputs": [],
   "source": [
    "print(my_bool)"
   ]
  },
  {
   "cell_type": "markdown",
   "metadata": {},
   "source": [
    "To check the boolean value of an expression or a variable, pass it as a parameter to the bool function:\n",
    "\n",
    "```python\n",
    "   print(bool(expression))\n",
    "```\n",
    "\n",
    "or\n",
    "\n",
    "```python\n",
    "   print(expression)\n",
    "```"
   ]
  },
  {
   "cell_type": "markdown",
   "metadata": {},
   "source": [
    "Booleans can be used when there is a need to compare two or more values.\n",
    "\n",
    "```python\n",
    "   x == y    # x is equal to y\n",
    "   x != y    # x is not equal to y\n",
    "   x > y     # x is greater than y\n",
    "   x < y     # x is less than y\n",
    "   x >= y    # x is greater than or equal to y\n",
    "   x <= y    # x is less than or equal to y\n",
    "```"
   ]
  },
  {
   "cell_type": "markdown",
   "metadata": {},
   "source": [
    "Check if x and y are equal:"
   ]
  },
  {
   "cell_type": "code",
   "execution_count": null,
   "metadata": {},
   "outputs": [],
   "source": [
    "print(3==4) \n",
    "print(bool(3==4))"
   ]
  },
  {
   "cell_type": "markdown",
   "metadata": {},
   "source": [
    "Check if x and y are not equal:"
   ]
  },
  {
   "cell_type": "code",
   "execution_count": null,
   "metadata": {},
   "outputs": [],
   "source": [
    "print(3!=4) \n",
    "print(bool(3!=4))"
   ]
  },
  {
   "cell_type": "markdown",
   "metadata": {},
   "source": [
    "Check if x is greater than y:"
   ]
  },
  {
   "cell_type": "code",
   "execution_count": null,
   "metadata": {},
   "outputs": [],
   "source": [
    "print(3>4) \n",
    "print(bool(3>4))"
   ]
  },
  {
   "cell_type": "markdown",
   "metadata": {},
   "source": [
    "Check if x is less than y:"
   ]
  },
  {
   "cell_type": "code",
   "execution_count": null,
   "metadata": {},
   "outputs": [],
   "source": [
    "print(3<4) \n",
    "print(bool(3<4))"
   ]
  },
  {
   "cell_type": "markdown",
   "metadata": {},
   "source": [
    "Check if x is greater than or equal to y:"
   ]
  },
  {
   "cell_type": "code",
   "execution_count": null,
   "metadata": {},
   "outputs": [],
   "source": [
    "print(3>=4)\n",
    "print(bool(3>=4)) "
   ]
  },
  {
   "cell_type": "markdown",
   "metadata": {},
   "source": [
    "Check if x is less than equal to y:"
   ]
  },
  {
   "cell_type": "code",
   "execution_count": null,
   "metadata": {},
   "outputs": [],
   "source": [
    "print(3<=4)\n",
    "print(bool(3<=4)) "
   ]
  },
  {
   "cell_type": "markdown",
   "metadata": {},
   "source": [
    "## <font color=\"red\">Strings</font>"
   ]
  },
  {
   "cell_type": "markdown",
   "metadata": {},
   "source": [
    "* Strings are sequences of character data. \n",
    "* The string type in Python is called str.\n",
    "* String literals may be delimited using either single or double quotes.\n",
    "* All the characters between the opening delimiter and matching closing delimiter are part of the string.\n",
    "* <font color='blue'>Are immutable</font>."
   ]
  },
  {
   "cell_type": "code",
   "execution_count": null,
   "metadata": {},
   "outputs": [],
   "source": [
    "print(\"Welcome to the Python Camp!\")"
   ]
  },
  {
   "cell_type": "code",
   "execution_count": null,
   "metadata": {},
   "outputs": [],
   "source": [
    "type(\"Welcome to the Python Camp!\")"
   ]
  },
  {
   "cell_type": "markdown",
   "metadata": {},
   "source": [
    "* A string in Python can contain as many characters as you wish.\n",
    "* The only limit is your machine’s memory resources. "
   ]
  },
  {
   "cell_type": "code",
   "execution_count": null,
   "metadata": {},
   "outputs": [],
   "source": [
    "print(\"This string contains a single quote (') character.\")"
   ]
  },
  {
   "cell_type": "code",
   "execution_count": null,
   "metadata": {},
   "outputs": [],
   "source": [
    "print('This string contains a double quote (\") character.')"
   ]
  },
  {
   "cell_type": "markdown",
   "metadata": {},
   "source": [
    "<b> Escape Sequences in Strings </b>"
   ]
  },
  {
   "cell_type": "code",
   "execution_count": null,
   "metadata": {},
   "outputs": [],
   "source": [
    "print('This string contains a single quote (\\'* character.')"
   ]
  },
  {
   "cell_type": "code",
   "execution_count": null,
   "metadata": {},
   "outputs": [],
   "source": [
    "print(\"This string contains a double quote (\\\") character.\")"
   ]
  },
  {
   "cell_type": "code",
   "execution_count": null,
   "metadata": {},
   "outputs": [],
   "source": [
    "print('abc')\n",
    "print('a\\\n",
    "b\\\n",
    "c')"
   ]
  },
  {
   "cell_type": "code",
   "execution_count": null,
   "metadata": {},
   "outputs": [],
   "source": [
    "print('foo\\\\bar')"
   ]
  },
  {
   "cell_type": "markdown",
   "metadata": {},
   "source": [
    "### <font color=\"purple\">Going Deeper: Applying Special Meaning to Characters</font>\n",
    "\n",
    "We want to represent escape sequences that are typically used to insert characters that are not readily generated from the keyboard or are not easily readable or printable.\n",
    "<P>\n",
    "Here is a list of escape sequences that cause Python to apply special meaning instead of interpreting literally:\n",
    "\n",
    "| Escape Sequence| “Escaped” Interpretation |\n",
    "| --- | --- |\n",
    "| \\a\t| ASCII Bell (BEL) character\n",
    "| \\b\t| ASCII Backspace (BS) character\n",
    "| \\f\t| ASCII Formfeed (FF) character\n",
    "| \\n\t| ASCII Linefeed (LF) character\n",
    "| \\N{<name>}| \tCharacter from Unicode database with given <name>\n",
    "| \\r\t| ASCII Carriage Return (CR) character\n",
    "| \\t\t| ASCII Horizontal Tab (TAB) character\n",
    "| \\uxxxx\t| Unicode character with 16-bit hex value xxxx\n",
    "| \\Uxxxxxxxx\t| Unicode character with 32-bit hex value xxxxxxxx\n",
    "| \\v\t| ASCII Vertical Tab (VT) character\n",
    "| \\ooo\t| Character with octal value ooo\n",
    "| \\xhh\t| Character with hex value hh"
   ]
  },
  {
   "cell_type": "code",
   "execution_count": null,
   "metadata": {},
   "outputs": [],
   "source": [
    "print(\"a\\t\\t\\tb\")"
   ]
  },
  {
   "cell_type": "code",
   "execution_count": null,
   "metadata": {},
   "outputs": [],
   "source": [
    "print(\"\\141\", \"\\x61\")"
   ]
  },
  {
   "cell_type": "code",
   "execution_count": null,
   "metadata": {},
   "outputs": [],
   "source": [
    "print(\"a\\n\\tb \")"
   ]
  },
  {
   "cell_type": "code",
   "execution_count": null,
   "metadata": {},
   "outputs": [],
   "source": [
    "print('\\u2192 \\N{rightwards arrow}')"
   ]
  },
  {
   "cell_type": "markdown",
   "metadata": {},
   "source": [
    "### Raw Strings\n",
    "\n",
    "- A raw string literal is preceded by `r` or `R`, which specifies that escape sequences in the associated string are not translated. \n",
    "- The backslash character is left in the string."
   ]
  },
  {
   "cell_type": "code",
   "execution_count": null,
   "metadata": {},
   "outputs": [],
   "source": [
    "print('foo\\nbar')"
   ]
  },
  {
   "cell_type": "code",
   "execution_count": null,
   "metadata": {},
   "outputs": [],
   "source": [
    "print(r'foo\\nbar')"
   ]
  },
  {
   "cell_type": "code",
   "execution_count": null,
   "metadata": {},
   "outputs": [],
   "source": [
    "print('foo\\\\bar')"
   ]
  },
  {
   "cell_type": "code",
   "execution_count": null,
   "metadata": {},
   "outputs": [],
   "source": [
    "print(R'foo\\\\bar')"
   ]
  },
  {
   "cell_type": "markdown",
   "metadata": {},
   "source": [
    "### Triple Quotes\n",
    "\n",
    "- Triple-quoted strings are delimited by matching groups of three single quotes (`''' '''`) or three double quotes(`\"\"\" \"\"\"`). \n",
    "- Escape sequences still work in triple-quoted strings, but single quotes, double quotes, and newlines can be included without escaping them. \n",
    "- Provide a convenient way to create a string with both single and double quotes in it.\n",
    "- They are used to document Python codes"
   ]
  },
  {
   "cell_type": "code",
   "execution_count": null,
   "metadata": {},
   "outputs": [],
   "source": [
    "print('''This string has a single (') and a double (\") quote.''')"
   ]
  },
  {
   "cell_type": "code",
   "execution_count": null,
   "metadata": {},
   "outputs": [],
   "source": [
    "string1 = \"\"\"This is a\n",
    "string that spans\n",
    "\n",
    "across several lines\"\"\"\n",
    "print(string1)"
   ]
  },
  {
   "cell_type": "markdown",
   "metadata": {},
   "source": [
    "### Accessing Values in Strings\n",
    "- Python does not support a character type; these are treated as strings of length one, thus also considered a substring.\n",
    "- To access substrings, use the square brackets for slicing along with the index or indices to obtain your substring"
   ]
  },
  {
   "cell_type": "code",
   "execution_count": null,
   "metadata": {},
   "outputs": [],
   "source": [
    "astring1 = \"Welcome To the Python Camp!\"\n",
    "astring2 = \"A Training Course for Beginners.\""
   ]
  },
  {
   "cell_type": "code",
   "execution_count": null,
   "metadata": {},
   "outputs": [],
   "source": [
    "print(astring1[3:10])"
   ]
  },
  {
   "cell_type": "code",
   "execution_count": null,
   "metadata": {},
   "outputs": [],
   "source": [
    "print(astring1[3:15:1])"
   ]
  },
  {
   "cell_type": "code",
   "execution_count": null,
   "metadata": {},
   "outputs": [],
   "source": [
    "print(astring1[3:15:2])"
   ]
  },
  {
   "cell_type": "code",
   "execution_count": null,
   "metadata": {},
   "outputs": [],
   "source": [
    "print(astring1[-2])"
   ]
  },
  {
   "cell_type": "markdown",
   "metadata": {},
   "source": [
    "- Python allows to index from the zeroth position in Strings. \n",
    "- Python also supports negative indexes. \n",
    "- Index of ‘-1’ represents the last character of the String. Similarly, using ‘-2’, we can access the penultimate element of the string and so on.\n",
    "\n",
    "| P | Y | T | H | O | N | - | S | T | R | I | N | G |\n",
    "|---|---|---|---|---|---|---|---|---|---|---|---|---|\n",
    "| 0 | 1 | 2 | 3 | 4 | 5 | 6 | 7 | 8 | 9 |10 |11 |12 |\n",
    "|-13|-12|-11|-10|-9 |-8 |-7 |-6 |-5 |-4 |-3 |-2 |-1 |"
   ]
  },
  {
   "cell_type": "markdown",
   "metadata": {},
   "source": [
    "#### Checking if a sub-string is in a string"
   ]
  },
  {
   "cell_type": "code",
   "execution_count": null,
   "metadata": {},
   "outputs": [],
   "source": [
    "print(\"Python\" in astring1)"
   ]
  },
  {
   "cell_type": "code",
   "execution_count": null,
   "metadata": {},
   "outputs": [],
   "source": [
    "print(\"python\" in astring1)"
   ]
  },
  {
   "cell_type": "code",
   "execution_count": null,
   "metadata": {},
   "outputs": [],
   "source": [
    "print(\"python\" not in astring1)"
   ]
  },
  {
   "cell_type": "markdown",
   "metadata": {},
   "source": [
    "### <font color=\"purple\">Going Deeper: Updating Strings</font>\n",
    "- You cannot modify a string for a <font color=\"red\">**string is immutable**</font>.\n",
    "    - A data item is considered to be immutable if once it is created, it cannot be changed.\n",
    "- You can \"update\" an existing string by (re)assigning a variable to another string. \n",
    "- The new value can be related to its previous value or to a completely different string altogether."
   ]
  },
  {
   "cell_type": "markdown",
   "metadata": {},
   "source": [
    "We can use the `id()` function to obtain the identity of an object. The identity is a unique integer for that object during its lifetime. This is also the address of the object in memory."
   ]
  },
  {
   "cell_type": "code",
   "execution_count": null,
   "metadata": {},
   "outputs": [],
   "source": [
    "id_before_astring1 = id(astring1)\n",
    "print(id_before_astring1)"
   ]
  },
  {
   "cell_type": "code",
   "execution_count": null,
   "metadata": {},
   "outputs": [],
   "source": [
    "astring1[8] = 't'"
   ]
  },
  {
   "cell_type": "code",
   "execution_count": null,
   "metadata": {},
   "outputs": [],
   "source": [
    "astring1 = astring1[0:8]+'t'+astring1[9:]\n",
    "print(astring1)"
   ]
  },
  {
   "cell_type": "code",
   "execution_count": null,
   "metadata": {},
   "outputs": [],
   "source": [
    "id_after_astring1 = id(astring1)\n",
    "print(id_after_astring1)"
   ]
  },
  {
   "cell_type": "code",
   "execution_count": null,
   "metadata": {},
   "outputs": [],
   "source": [
    "astring3 = astring1 + \" \" + astring2[0] + \" \" + astring2[11:]\n",
    "print(astring3)"
   ]
  },
  {
   "cell_type": "markdown",
   "metadata": {},
   "source": [
    "### <font color=\"purple\">Going Deeper: Built-in in String Operators</font>"
   ]
  },
  {
   "cell_type": "markdown",
   "metadata": {},
   "source": [
    "`capitalize()`:"
   ]
  },
  {
   "cell_type": "code",
   "execution_count": null,
   "metadata": {},
   "outputs": [],
   "source": [
    "\"funKY tOwn\".capitalize()"
   ]
  },
  {
   "cell_type": "markdown",
   "metadata": {},
   "source": [
    "`lower()` and `upper()`:"
   ]
  },
  {
   "cell_type": "code",
   "execution_count": null,
   "metadata": {},
   "outputs": [],
   "source": [
    "\"funky tOwn\".lower()"
   ]
  },
  {
   "cell_type": "code",
   "execution_count": null,
   "metadata": {},
   "outputs": [],
   "source": [
    "\"fuNky toWn\".upper()"
   ]
  },
  {
   "cell_type": "markdown",
   "metadata": {},
   "source": [
    "`split()`:"
   ]
  },
  {
   "cell_type": "code",
   "execution_count": null,
   "metadata": {},
   "outputs": [],
   "source": [
    "\"funKY tOwn\".split()"
   ]
  },
  {
   "cell_type": "code",
   "execution_count": null,
   "metadata": {},
   "outputs": [],
   "source": [
    "\"funKY tOwn\".capitalize().split()"
   ]
  },
  {
   "cell_type": "code",
   "execution_count": null,
   "metadata": {},
   "outputs": [],
   "source": [
    "\"I want to take you to, funKY tOwn\".split(\"u\")"
   ]
  },
  {
   "cell_type": "markdown",
   "metadata": {},
   "source": [
    "`strip()`:"
   ]
  },
  {
   "cell_type": "code",
   "execution_count": null,
   "metadata": {},
   "outputs": [],
   "source": [
    "csv_string = 'Dog,Cat,Spam,Defenestrate,1, 3.1415   \\n\\t'\n",
    "csv_string.strip()"
   ]
  },
  {
   "cell_type": "markdown",
   "metadata": {},
   "source": [
    "`.join()`: allows you to glue a list of strings together with a certain string"
   ]
  },
  {
   "cell_type": "code",
   "execution_count": null,
   "metadata": {},
   "outputs": [],
   "source": [
    "clean_list = [x.strip() for x in csv_string.split(\",\")]\n",
    "print(clean_list)"
   ]
  },
  {
   "cell_type": "code",
   "execution_count": null,
   "metadata": {},
   "outputs": [],
   "source": [
    "print(\",\".join(clean_list))"
   ]
  },
  {
   "cell_type": "code",
   "execution_count": null,
   "metadata": {},
   "outputs": [],
   "source": [
    "print(\"\\t\".join(clean_list))"
   ]
  },
  {
   "cell_type": "markdown",
   "metadata": {},
   "source": [
    "`.replace()` strings in strings"
   ]
  },
  {
   "cell_type": "code",
   "execution_count": null,
   "metadata": {},
   "outputs": [],
   "source": [
    "csv_string = 'Dog,Cat,Spam,Defenestrate,1, 3.1415   \\n\\t'\n",
    "alt_csv = csv_string.strip().replace(',', ' ')\n",
    "print(alt_csv)"
   ]
  },
  {
   "cell_type": "code",
   "execution_count": null,
   "metadata": {},
   "outputs": [],
   "source": [
    "print(csv_string.strip().replace(' ','').replace(',','\\t'))"
   ]
  },
  {
   "cell_type": "markdown",
   "metadata": {},
   "source": [
    "`.index()`:"
   ]
  },
  {
   "cell_type": "code",
   "execution_count": null,
   "metadata": {},
   "outputs": [],
   "source": [
    "s = 'My Funny Valentine'\n",
    "s.index(\"y\")"
   ]
  },
  {
   "cell_type": "markdown",
   "metadata": {},
   "source": [
    "`.count()`:"
   ]
  },
  {
   "cell_type": "code",
   "execution_count": null,
   "metadata": {},
   "outputs": [],
   "source": [
    "s.count(\"y\")"
   ]
  },
  {
   "cell_type": "markdown",
   "metadata": {},
   "source": [
    "`.find()`: useful searching, and returning the index of the search"
   ]
  },
  {
   "cell_type": "code",
   "execution_count": null,
   "metadata": {},
   "outputs": [],
   "source": [
    "s.find(\"y\")"
   ]
  },
  {
   "cell_type": "code",
   "execution_count": null,
   "metadata": {},
   "outputs": [],
   "source": [
    "s.find(\"y\",2)"
   ]
  },
  {
   "cell_type": "code",
   "execution_count": null,
   "metadata": {},
   "outputs": [],
   "source": [
    "s[s.find(\"Funny\"):]"
   ]
  },
  {
   "cell_type": "markdown",
   "metadata": {},
   "source": [
    "Length of a string:"
   ]
  },
  {
   "cell_type": "code",
   "execution_count": null,
   "metadata": {},
   "outputs": [],
   "source": [
    "len(s)"
   ]
  },
  {
   "cell_type": "markdown",
   "metadata": {},
   "source": [
    "**Boolean Methods**\n",
    "\n",
    "| Method\t| True if |\n",
    "| --- | --- |\n",
    "| `str.isalnum()` |\tString consists of only alphanumeric characters (no symbols) |\n",
    "| `str.isalpha()` |\tString consists of only alphabetic characters (no symbols) |\n",
    "| `str.islower()` |\tString’s alphabetic characters are all lower case |\n",
    "| `str.isnumeric()` |\tString consists of only numeric characters |\n",
    "| `str.isspace()` |\tString consists of only whitespace characters |\n",
    "| `str.istitle()` |\tString is in title case |\n",
    "| `str.isupper()` |\tString’s alphabetic characters are all upper case |\n",
    "| `str.startswith()` | String starts with the specified value |\n",
    "| `str.endswith()` | String ends with the specified value |"
   ]
  },
  {
   "cell_type": "code",
   "execution_count": null,
   "metadata": {},
   "outputs": [],
   "source": [
    "number = \"24579\"\n",
    "print(number.isnumeric())"
   ]
  },
  {
   "cell_type": "code",
   "execution_count": null,
   "metadata": {},
   "outputs": [],
   "source": [
    "letters = \"PyTHoN\"\n",
    "print(letters.isnumeric())"
   ]
  },
  {
   "cell_type": "code",
   "execution_count": null,
   "metadata": {},
   "outputs": [],
   "source": [
    "movie = \"2001: A SAMMY ODYSSEY\"\n",
    "book = \"A Thousand Splendid Sharks\"\n",
    "poem = \"sammy lived in a pretty how town\""
   ]
  },
  {
   "cell_type": "code",
   "execution_count": null,
   "metadata": {},
   "outputs": [],
   "source": [
    "print(movie.islower())\n",
    "print(movie.isupper())\n",
    "print(movie.startswith(\"20\"))\n",
    "print(movie.endswith(\"sSEY\"))"
   ]
  },
  {
   "cell_type": "code",
   "execution_count": null,
   "metadata": {},
   "outputs": [],
   "source": [
    "print(book.istitle())\n",
    "print(book.isupper())"
   ]
  },
  {
   "cell_type": "code",
   "execution_count": null,
   "metadata": {},
   "outputs": [],
   "source": [
    "print(poem.istitle())\n",
    "print(poem.islower())"
   ]
  },
  {
   "cell_type": "markdown",
   "metadata": {},
   "source": [
    "### String Formatting Operator\n",
    "\n",
    "\n",
    "\n",
    "#### String `format()`\n",
    "\n",
    "```python\n",
    "string.format(value0, value1, ....)\n",
    "```\n",
    "\n",
    "#### `f-strings`\n",
    "- Also called `literal string interpolation`, f-strings are string literals that have an `f` at the beginning and curly braces containing expressions that will be replaced with their actual values.\n",
    "- Available in Python 3.6 or newer.\n",
    "\n",
    "\n",
    "```python\n",
    "f\" {value0} {value1} ... \" \n",
    "```"
   ]
  },
  {
   "cell_type": "code",
   "execution_count": null,
   "metadata": {},
   "outputs": [],
   "source": [
    "value0 = \"Saturday\"\n",
    "value1 = \"groovy\""
   ]
  },
  {
   "cell_type": "code",
   "execution_count": null,
   "metadata": {},
   "outputs": [],
   "source": [
    "print('On {}, I feel {}'.format(value0, value1))"
   ]
  },
  {
   "cell_type": "code",
   "execution_count": null,
   "metadata": {},
   "outputs": [],
   "source": [
    "print(f'On {value0}, I feel {value1}')"
   ]
  },
  {
   "cell_type": "code",
   "execution_count": null,
   "metadata": {},
   "outputs": [],
   "source": [
    "print('On {0}, I feel {1}'.format(value0, value1))"
   ]
  },
  {
   "cell_type": "code",
   "execution_count": null,
   "metadata": {},
   "outputs": [],
   "source": [
    "print(f'On {value1}, I feel {value0}')"
   ]
  },
  {
   "cell_type": "code",
   "execution_count": null,
   "metadata": {},
   "outputs": [],
   "source": [
    "print('On {0}, I feel {0}'.format(value0, value1))"
   ]
  },
  {
   "cell_type": "code",
   "execution_count": null,
   "metadata": {},
   "outputs": [],
   "source": [
    "print(f'On {value0}, I feel {value0}')"
   ]
  },
  {
   "cell_type": "code",
   "execution_count": null,
   "metadata": {},
   "outputs": [],
   "source": [
    "print('{}'.format(value0*3))"
   ]
  },
  {
   "cell_type": "code",
   "execution_count": null,
   "metadata": {},
   "outputs": [],
   "source": [
    "print(f' {value0*3}')"
   ]
  },
  {
   "cell_type": "code",
   "execution_count": null,
   "metadata": {},
   "outputs": [],
   "source": [
    "print(f' {value0*-1}')"
   ]
  },
  {
   "cell_type": "markdown",
   "metadata": {},
   "source": [
    "We can produce a raw string with {value`!`r}:"
   ]
  },
  {
   "cell_type": "code",
   "execution_count": null,
   "metadata": {},
   "outputs": [],
   "source": [
    "print(f' {value0!r}')"
   ]
  },
  {
   "cell_type": "markdown",
   "metadata": {},
   "source": [
    "You can assign by argument position or by name:"
   ]
  },
  {
   "cell_type": "code",
   "execution_count": null,
   "metadata": {},
   "outputs": [],
   "source": [
    "'{desire} to {place}'.format(desire='Fly me', place='the Moon')"
   ]
  },
  {
   "cell_type": "code",
   "execution_count": null,
   "metadata": {},
   "outputs": [],
   "source": [
    "'{desire} to {place} or else I wont visit {place}.'.format( \\\n",
    "                 desire='Fly me',place='the Moon')"
   ]
  },
  {
   "cell_type": "code",
   "execution_count": null,
   "metadata": {},
   "outputs": [],
   "source": [
    "a = {\"desire\": \"I want to take you\", \"place\": \"funky town\"}\n",
    "'{desire} to {place}'.format(**a)"
   ]
  },
  {
   "cell_type": "markdown",
   "metadata": {},
   "source": [
    "**Formatting comes after a colon (:)**"
   ]
  },
  {
   "cell_type": "code",
   "execution_count": null,
   "metadata": {},
   "outputs": [],
   "source": [
    "a = 3.14159"
   ]
  },
  {
   "cell_type": "code",
   "execution_count": null,
   "metadata": {},
   "outputs": [],
   "source": [
    "f\"{a:03.2f}\"  ==  \"{:03.2f}\".format(a)"
   ]
  },
  {
   "cell_type": "code",
   "execution_count": null,
   "metadata": {},
   "outputs": [],
   "source": [
    "\"{0:03.2f}\".format(a, 42)"
   ]
  },
  {
   "cell_type": "code",
   "execution_count": null,
   "metadata": {},
   "outputs": [],
   "source": [
    "\"{1:03.2f}\".format(a, 42)"
   ]
  },
  {
   "cell_type": "markdown",
   "metadata": {},
   "source": [
    "Format also supports binary numbers:"
   ]
  },
  {
   "cell_type": "code",
   "execution_count": null,
   "metadata": {},
   "outputs": [],
   "source": [
    "c = 4225"
   ]
  },
  {
   "cell_type": "code",
   "execution_count": null,
   "metadata": {},
   "outputs": [],
   "source": [
    "\"int: {0:d}  hex: {0:x}  oct: {0:o}  bin: {0:b}\".format(c)"
   ]
  },
  {
   "cell_type": "code",
   "execution_count": null,
   "metadata": {},
   "outputs": [],
   "source": [
    "f\"int: {c:d}  hex: {c:x}  oct: {c:o}  bin: {c:b}\""
   ]
  },
  {
   "cell_type": "markdown",
   "metadata": {},
   "source": [
    "###  <font color=\"purple\">Going Deeper: Type Casting</font>\n",
    "\n",
    "- Type casting is the process of converting data from one type into another.\n",
    "- There are a number of functions built in to Python which allow us to do these type conversions on basic data types."
   ]
  },
  {
   "cell_type": "markdown",
   "metadata": {},
   "source": [
    "**Convert to Integer**"
   ]
  },
  {
   "cell_type": "code",
   "execution_count": null,
   "metadata": {},
   "outputs": [],
   "source": [
    "v1 = int(2.7)        # 2\n",
    "v2 = int(-3.9)       # -3\n",
    "v3 = int(\"2\")        # 2\n",
    "v4 = int(\"11\", 16)   # 17, base 16\n",
    "v5 = int(False)\n",
    "print(v1, v2, v3, v4, v5)"
   ]
  },
  {
   "cell_type": "markdown",
   "metadata": {},
   "source": [
    "**Convert to Float**"
   ]
  },
  {
   "cell_type": "code",
   "execution_count": null,
   "metadata": {},
   "outputs": [],
   "source": [
    "v6 = float(2)        # 2.0\n",
    "v7 = float(\"2.7\")    # 2.7\n",
    "v8 = float(\"2.7E-2\") # 0.027\n",
    "v9 = float(False)    # 0.0\n",
    "vA = float(True)     # 1.0\n",
    "print(v6, v7, v8, v9, vA)"
   ]
  },
  {
   "cell_type": "markdown",
   "metadata": {},
   "source": [
    "**Convert to String**"
   ]
  },
  {
   "cell_type": "code",
   "execution_count": null,
   "metadata": {},
   "outputs": [],
   "source": [
    "vB = str(4.5)        # \"4.5\"\n",
    "vC = str(True)\n",
    "print(vB, vC, type(vC))"
   ]
  },
  {
   "cell_type": "markdown",
   "metadata": {},
   "source": [
    "**Convert to Bolean**"
   ]
  },
  {
   "cell_type": "code",
   "execution_count": null,
   "metadata": {},
   "outputs": [],
   "source": [
    "vD = bool(0)         #       False; \n",
    "vE = bool(3)         # True\n",
    "vF = bool(\"PyTHoN\")\n",
    "vG = bool(list())\n",
    "print(vD, vE, vF, vG)"
   ]
  },
  {
   "cell_type": "code",
   "execution_count": null,
   "metadata": {},
   "outputs": [],
   "source": [
    "int1 = 4\n",
    "\n",
    "# 4 converted to float\n",
    "float1 = int1 + 2.1 \n",
    "\n",
    "# str1 = \"My int:\" + int1 \n",
    "# Error: no implicit type conversion from int to string\n",
    "str1 = \"My int:\" + str(int1)\n",
    "\n",
    "int2 = 4 + True # 5: bool is implicitly converted to int\n",
    "print(\"float1 = {} \\n str1  = {} \\n\".format(float1, str1, int2))"
   ]
  },
  {
   "cell_type": "code",
   "execution_count": null,
   "metadata": {},
   "outputs": [],
   "source": [
    "age = 21\n",
    "sign = 'You must be  {}-years-old to enter this bar'.format(age)\n",
    "print(sign)"
   ]
  },
  {
   "cell_type": "markdown",
   "metadata": {},
   "source": [
    "#### <font color=\"blue\">Example 6</font>\n",
    "\n",
    "- When you pass an argument through the command line, the type of the argument is a string.\n",
    "- It is important to convert the argument to a desired type."
   ]
  },
  {
   "cell_type": "code",
   "execution_count": null,
   "metadata": {},
   "outputs": [],
   "source": [
    "x = float(input(\"Give me a number: \"))\n",
    "print(x)"
   ]
  },
  {
   "cell_type": "markdown",
   "metadata": {},
   "source": [
    "## <font color=\"blue\"> Breakout</font>\n",
    "\n",
    "Try to fix the code to print out the correct information by changing the strings so that:\n",
    "\n",
    "- The length of the string is `20`.\n",
    "- The first occurrence of `a` should be at index `8`.\n",
    "- The number of `a`'s in the string should be `2`."
   ]
  },
  {
   "cell_type": "code",
   "execution_count": null,
   "metadata": {},
   "outputs": [],
   "source": [
    "s = \"Hey there! What should this string be?\"\n",
    "# Length should be 20\n",
    "print(f\"Length of s = {len(s)}\")\n",
    "\n",
    "# First occurrence of \"a\" should be at index 8\n",
    "print(f\"The first occurrence of the letter a = {s.index('a')}\")\n",
    "\n",
    "# Number of a's should be 2\n",
    "print(f\"a occurs {s.count(r'a')} times\")"
   ]
  },
  {
   "cell_type": "markdown",
   "metadata": {},
   "source": [
    "<details><summary><b>Click here to access the solution</b></summary>\n",
    "<p>\n",
    "\n",
    "```python\n",
    "s = \"Look, what a string!\"\n",
    "print(f\"Length of s = {len(s)}\")\n",
    "print(f\"The first occurrence of the letter a is at index {s.index('a')}.\")\n",
    "print(f\"a occurs {s.count('a')} times\")\n",
    "```\n",
    "    \n",
    "</p>\n",
    "</details>"
   ]
  },
  {
   "cell_type": "markdown",
   "metadata": {},
   "source": [
    "## <font color='red'>Quiz </font>\n",
    "\n",
    "Consider taking the following quiz to test your knowledge: <A HREF=\"https://realpython.com/quizzes/python-data-types/\"> Basic Data Types </A>\n"
   ]
  }
 ],
 "metadata": {
  "anaconda-cloud": {},
  "kernelspec": {
   "display_name": "Python 3 (ipykernel)",
   "language": "python",
   "name": "python3"
  },
  "language_info": {
   "codemirror_mode": {
    "name": "ipython",
    "version": 3
   },
   "file_extension": ".py",
   "mimetype": "text/x-python",
   "name": "python",
   "nbconvert_exporter": "python",
   "pygments_lexer": "ipython3",
   "version": "3.8.2"
  }
 },
 "nbformat": 4,
 "nbformat_minor": 4
}
