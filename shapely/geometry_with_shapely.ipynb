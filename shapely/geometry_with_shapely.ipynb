{
 "cells": [
  {
   "cell_type": "markdown",
   "metadata": {},
   "source": [
    "<center>\n",
    "<table>\n",
    "  <tr>\n",
    "    <td><img src=\"http://www.nasa.gov/sites/all/themes/custom/nasatwo/images/nasa-logo.svg\" width=\"100\"/> </td>\n",
    "     <td><img src=\"https://github.com/astg606/py_materials/blob/master/logos/ASTG_logo.png?raw=true\" width=\"80\"/> </td>\n",
    "     <td> <img src=\"https://www.nccs.nasa.gov/sites/default/files/NCCS_Logo_0.png\" width=\"130\"/> </td>\n",
    "    </tr>\n",
    "</table>\n",
    "</center>\n",
    "\n",
    "        \n",
    "<center>\n",
    "<h1><font color= \"blue\" size=\"+3\">ASTG Python Courses</font></h1>\n",
    "</center>\n",
    "\n",
    "---\n",
    "\n",
    "<center><h1>\n",
    "    <font color=\"red\">Creating Geometry Objects with Shapely</font>  \n",
    "</h1></center>\n"
   ]
  },
  {
   "cell_type": "markdown",
   "metadata": {},
   "source": [
    "# <font color=\"red\"> Reference Documents</font>\n",
    "\n",
    "- [Shapely Python Tutorial](https://coderslegacy.com/python/shapely-tutorial/)\n",
    "- [Geometries (`shapely`)](https://geobgu.xyz/py/shapely.html)\n",
    "- [Well-known text representation of geometry](https://en.wikipedia.org/wiki/Well-known_text_representation_of_geometry)\n",
    "- [GeoJSON](https://geobgu.xyz/web-mapping2/geojson-1.html)"
   ]
  },
  {
   "cell_type": "markdown",
   "metadata": {},
   "source": [
    "_______"
   ]
  },
  {
   "cell_type": "markdown",
   "metadata": {},
   "source": [
    "---"
   ]
  },
  {
   "cell_type": "markdown",
   "metadata": {},
   "source": [
    "# <font color=\"red\">Required Packages</font>\n",
    "\n",
    "We will mainly need:\n",
    "\n",
    "- `matplotlib`: for plotting.\n",
    "- `NumPy`: for converting Shapely objects into Numpy arrays.\n",
    "- `Shapely`: for creating geometry objects."
   ]
  },
  {
   "cell_type": "code",
   "execution_count": null,
   "metadata": {},
   "outputs": [],
   "source": [
    "import warnings\n",
    "warnings.filterwarnings(\"ignore\")"
   ]
  },
  {
   "cell_type": "code",
   "execution_count": null,
   "metadata": {},
   "outputs": [],
   "source": [
    "%matplotlib inline\n",
    "import matplotlib.pyplot as plt\n",
    "import matplotlib.patches as patches"
   ]
  },
  {
   "cell_type": "code",
   "execution_count": null,
   "metadata": {},
   "outputs": [],
   "source": [
    "import numpy as np"
   ]
  },
  {
   "cell_type": "code",
   "execution_count": null,
   "metadata": {},
   "outputs": [],
   "source": [
    "import shapely\n",
    "from shapely import geometry as shpgeom\n",
    "from shapely import wkt as shpwkt\n",
    "import shapely.plotting as shpplt # only goog for v2.0 or newer"
   ]
  },
  {
   "cell_type": "code",
   "execution_count": null,
   "metadata": {},
   "outputs": [],
   "source": [
    "print(f\"Shapely version: {shapely.__version__}\")\n",
    "print(f\"Numpy   version: {np.__version__}\")"
   ]
  },
  {
   "cell_type": "markdown",
   "metadata": {},
   "source": [
    "# <font color=\"red\">Objective</font>\n",
    "\n",
    "### Spatial Data\n",
    "\n",
    "- Geospatial includes information related to locations on the Earth’s surface (identified by latitude and longitude coordinates). \n",
    "- Geospatial data involves large sets of spatial data gathered from many diverse sources in varying formats and can include information such as census data, satellite imagery, weather data, cell phone data, drawn images and social media data. \n",
    "- Spatial data can be divided into two categories:\n",
    "\n",
    "  - `Vector layers`: points, lines, and polygons, associated with attributes (such as properties, cities, roads, mountains and bodies of water).\n",
    "  - `Rasters`: numeric arrays (for photographs and satellite images for instance) representing a regular grid over a rectangular area.\n",
    "\n",
    "![fig_categories](https://assets-global.website-files.com/620d42e86cb8ecb3f739e579/620d42e96cb8ec20ee39ec67_Raster-vs-Vector-image.webp)\n",
    "Image Source: [https://www.heavy.ai/learn/geospatial](https://www.heavy.ai/learn/geospatial)\n",
    "\n",
    "Examples of spatial data include:\n",
    "\n",
    "- Vectors and attributes: Descriptive information about a location such as points, lines and polygons\n",
    "- Model outputs: data such as temparture, winds, air pressure, etc. generated from numerical models.\n",
    "- Observations: measurements obtained from satellites, ground-based stations, etc.\n",
    "- Raster and satellite imagery: High-resolution images of our world, taken from above\n",
    "- Census data: Released census data tied to specific geographic areas, for the study of community trends\n",
    "\n",
    "### Objective\n",
    "Our goal in this presentation is to work with the `vector layers` category. In particular, we want to cover the following topics:\n",
    "\n",
    "- Call methods for creating geometry objects\n",
    "- Extract geometry properties:\n",
    "   - Geometry type\n",
    "   - Coordinates\n",
    "   - Derived properties, such as length and area\n",
    "- Plot the geometry objects using Shapely and Matplotlib.\n",
    "\n"
   ]
  },
  {
   "cell_type": "markdown",
   "metadata": {},
   "source": [
    "# <font color=\"red\">What is Shapely?</font>\n",
    "\n",
    "* Used for the manipulation and analysis of planar geometric objects such as:\n",
    "   * Points\n",
    "   * Lines\n",
    "   * Polygons\n",
    "   * Meshes\n",
    "   * etc.\n",
    "* Includes functions for creating geometries, as well as functions for applying geometric operations on geometries, such as calculating the centroid of a polygon.\n",
    "* Only deals with individual geometries, their creation, their derived properties, and spatial operation applied to them.\n",
    "* Does not include any functions to read or write geometries to or from files, or more complex data structures to represent collections of geometries with or without non-spatial attributes (done in GeosPandas). \n",
    "* Finds application in any geometry/geography related work.\n",
    "* Relies on [GEOS](https://trac.osgeo.org/geos) and JTS libraries.\n",
    "* Uses the conventions of the geographic information systems (GIS) world.\n",
    "* Used is packages such as Cartopy, GeoPandas.\n",
    "\n",
    "In Shapely, there are 7 main geometry types:\n",
    "\n",
    "\n",
    "| __Type__ | __Description__ |\n",
    "| :----- | :----- |\n",
    "| \"Point\"\t| A single point  | \n",
    "| \"LineString\"\t| Sequence of connected points forming a line | \n",
    "| \"Polygon\"\t| Sequence of connected points “closed” to form a polygon, possibly having one or more holes | \n",
    "| \"MultiPoint\"\t| Set of points | \n",
    "| \"MultiLineString\"\t| Set of lines | \n",
    "| \"MultiPolygon\"\t| Set of polygons | \n",
    "| \"GeometryCollection\"\t| Set of geometries of any type except for \"GeometryCollection\" | \n",
    "\n",
    "![fig_geotypes](https://geobgu.xyz/py/_images/simple_feature_types.svg)\n",
    "Image Source: [https://geobgu.xyz/](https://geobgu.xyz/)"
   ]
  },
  {
   "cell_type": "markdown",
   "metadata": {},
   "source": [
    "## <font color=\"blue\">Well-known text (WKT) format</font>\n",
    "\n",
    "- A text markup language or representing vector geometry objects on a map and spatial reference systems of spatial objects.\n",
    "- WKT can be used both to construct new instances of the type and to convert existing instances to textual form for alphanumeric display.\n",
    "- WTK can represent points, lines, polygons, multi-geometries, etc.\n",
    "- Each geometry object in WKT has a tag which says what it is, usually followed by a list of coordinates. For example, here are some common tags:\n",
    "   - `POINT(...)`\n",
    "   - `LINESTRING(...)`\n",
    "   - `POLYGON((...))`\n",
    "   - `MULTIPOLYGON(...)`\n",
    "\n",
    "\n",
    "\n",
    "## <font color=\"blue\">GeoJSON</font>\n",
    "\n",
    "- Plain-text format designed for representing vector geometries, with or without non-spatial attributes.\n",
    "- Based on the JavaScript Object Notation, JSON.\n",
    "- Its format is simple and human-reade\n",
    "- Most common data format for exchanging spatial (vector) data on the web.\n",
    "- **Supports the seven most commonly used geometry types (as shown above).** \n",
    "\n",
    "\n",
    "The following GeoJSON string represents a point layer with one attribute called `name` and with one feature, a point at coordinates `[125.6, 10.1]`:\n",
    "\n",
    "```json\n",
    "{\n",
    "  \"type\": \"Feature\",\n",
    "  \"geometry\": {\n",
    "    \"type\": \"Point\",\n",
    "    \"coordinates\": [125.6, 10.1]\n",
    "  },\n",
    "  \"properties\": {\n",
    "    \"name\": \"Dinagat Islands\"\n",
    "  }\n",
    "}\n",
    "```\n",
    "\n",
    "- A `\"Feature\"` is formed when a geometry is combined with non-spatial attributes, to form a single object. \n",
    "- The non-spatial attributes are encompassed in a property named `\"properties\"`, containing one or more name-value pairs—one for each attribute. \n",
    "\n",
    "---\n",
    "\n",
    "**In this presentation, we show three different ways of creating geometry objects with Shapely:**\n",
    "- Pure shapely formulation\n",
    "- WTK formulation\n",
    "- GeoJSON formulation"
   ]
  },
  {
   "cell_type": "markdown",
   "metadata": {},
   "source": [
    "***"
   ]
  },
  {
   "cell_type": "markdown",
   "metadata": {},
   "source": [
    "# <font color=\"red\">Creating Shapely Objects</font>\n",
    "\n",
    "The package `shapely.geometry` contains all geometry-related functions for manipulating geometry objects.\n",
    "\n",
    "| Geometry Type | Function to Create | Access Coordinates |\n",
    "| :--- | :---  | :--- |\n",
    "| `Point` | `shapely.geometry.Point` | `.coords` |\n",
    "| `MultiPoint` |  `shapely.geometry.MultiPoint` | `.geoms[i].coords` |\n",
    "| `LineString` |  `shapely.geometry.LineString` | `.coords`  |\n",
    "| `MultiLineString` |  `shapely.geometry.MultiLineString` | `.geoms[i].coords` |\n",
    "| `Polygon` |  `shapely.geometry.Polygon` | `.exterior.coords` |\n",
    "|           |                             | `.interiors[i].coords` |\n",
    "| `MultiPolygon` | `shapely.geometry.MultiPolygon` | `.geoms[i].exterior.coords` |\n",
    "|           |              | `.geoms[i].interiors[j].coords` |\n",
    "| `GeometryCollection` |  `shapely.geometry.GeometryCollection` |  |\n",
    "\n",
    "Coordinate sequences of an object are associated with the concepts of exterior and interiors coordinate sequences:\n",
    "\n",
    "- The __exterior__ is the outer bound of the object. There is only one exterior sequence per object. The `.exterior` property gives direct access to the exterior geometry.\n",
    "- The __interiors__ refers to the object holes. There can be zero or more holes in each object. Accordingly, the `.interiors` property is a sequence of length zero or more."
   ]
  },
  {
   "cell_type": "markdown",
   "metadata": {},
   "source": [
    "## <font color=\"blue\"> Point Object</font>\n",
    "\n",
    "- This is the most basic “shape” which represents a single coordinate."
   ]
  },
  {
   "cell_type": "markdown",
   "metadata": {},
   "source": [
    "#### Creating a point"
   ]
  },
  {
   "cell_type": "code",
   "execution_count": null,
   "metadata": {},
   "outputs": [],
   "source": [
    "pt1 = shpgeom.Point(5, 7)"
   ]
  },
  {
   "cell_type": "markdown",
   "metadata": {},
   "source": [
    "You can view all the geometric objects without having to resort to any graphical package:"
   ]
  },
  {
   "cell_type": "code",
   "execution_count": null,
   "metadata": {},
   "outputs": [],
   "source": [
    "pt1"
   ]
  },
  {
   "cell_type": "code",
   "execution_count": null,
   "metadata": {},
   "outputs": [],
   "source": [
    "print(pt1)"
   ]
  },
  {
   "cell_type": "markdown",
   "metadata": {},
   "source": [
    "You can obtain the geometry type:"
   ]
  },
  {
   "cell_type": "code",
   "execution_count": null,
   "metadata": {},
   "outputs": [],
   "source": [
    "pt1.geom_type"
   ]
  },
  {
   "cell_type": "markdown",
   "metadata": {},
   "source": [
    "We can display the string representation of the object:"
   ]
  },
  {
   "cell_type": "code",
   "execution_count": null,
   "metadata": {},
   "outputs": [],
   "source": [
    "str(pt1)"
   ]
  },
  {
   "cell_type": "markdown",
   "metadata": {},
   "source": [
    "#### Using the Well Known Text (WKT) string formulation"
   ]
  },
  {
   "cell_type": "code",
   "execution_count": null,
   "metadata": {},
   "outputs": [],
   "source": [
    "pt2 = shpwkt.loads('POINT (1 4)')\n",
    "pt2"
   ]
  },
  {
   "cell_type": "code",
   "execution_count": null,
   "metadata": {},
   "outputs": [],
   "source": [
    "print(pt2)"
   ]
  },
  {
   "cell_type": "code",
   "execution_count": null,
   "metadata": {},
   "outputs": [],
   "source": [
    "shpwkt.dumps(pt2)"
   ]
  },
  {
   "cell_type": "markdown",
   "metadata": {},
   "source": [
    "We can load the string representation back into geometric format:"
   ]
  },
  {
   "cell_type": "code",
   "execution_count": null,
   "metadata": {},
   "outputs": [],
   "source": [
    "shpwkt.loads(str(pt1))"
   ]
  },
  {
   "cell_type": "markdown",
   "metadata": {},
   "source": [
    "#### Using the GeosJSON formulation\n",
    "- We use the `shapely.geometry.shape` function.\n",
    "- The function accepts GeoJSON-like dictionary with the geometry definition.\n",
    "- The dictionary needs to have a least two properties:\n",
    "   - `\"type\"`: contains the geometry type.\n",
    "   - `\"coordinates\"`: contains the sequences of geometries/parts/coordinates, as lists or tuples."
   ]
  },
  {
   "cell_type": "code",
   "execution_count": null,
   "metadata": {},
   "outputs": [],
   "source": [
    "d = {'type': 'Point', 'coordinates': (-5, 2)}\n",
    "pt3 = shpgeom.shape(d)\n",
    "pt3"
   ]
  },
  {
   "cell_type": "markdown",
   "metadata": {},
   "source": [
    "You can conver a Shapely geometry object into the GeoJSON representation using the `to_geojson()` function:"
   ]
  },
  {
   "cell_type": "code",
   "execution_count": null,
   "metadata": {},
   "outputs": [],
   "source": [
    "shapely.to_geojson(pt3)"
   ]
  },
  {
   "cell_type": "code",
   "execution_count": null,
   "metadata": {},
   "outputs": [],
   "source": [
    "print(shapely.to_geojson(pt3, indent=2))"
   ]
  },
  {
   "cell_type": "markdown",
   "metadata": {},
   "source": [
    "Compute the area and the length:"
   ]
  },
  {
   "cell_type": "code",
   "execution_count": null,
   "metadata": {},
   "outputs": [],
   "source": [
    "print(pt1.area)\n",
    "print(pt1.length)"
   ]
  },
  {
   "cell_type": "markdown",
   "metadata": {},
   "source": [
    "Extract the coordinates:"
   ]
  },
  {
   "cell_type": "code",
   "execution_count": null,
   "metadata": {},
   "outputs": [],
   "source": [
    "print(pt1.x)\n",
    "print(pt1.y)  "
   ]
  },
  {
   "cell_type": "code",
   "execution_count": null,
   "metadata": {},
   "outputs": [],
   "source": [
    "list(pt1.coords) # Tuple of x-y coordinates"
   ]
  },
  {
   "cell_type": "code",
   "execution_count": null,
   "metadata": {},
   "outputs": [],
   "source": [
    "pt1.xy   #"
   ]
  },
  {
   "cell_type": "markdown",
   "metadata": {},
   "source": [
    "Convert a `Point` object into an array of point coordinates:"
   ]
  },
  {
   "cell_type": "code",
   "execution_count": null,
   "metadata": {},
   "outputs": [],
   "source": [
    "np.array(pt1)"
   ]
  },
  {
   "cell_type": "markdown",
   "metadata": {},
   "source": [
    "Compute the distance between the two points:"
   ]
  },
  {
   "cell_type": "code",
   "execution_count": null,
   "metadata": {},
   "outputs": [],
   "source": [
    "pt1.distance(pt2)"
   ]
  },
  {
   "cell_type": "markdown",
   "metadata": {},
   "source": [
    "#### Plot using Matplotlib"
   ]
  },
  {
   "cell_type": "code",
   "execution_count": null,
   "metadata": {},
   "outputs": [],
   "source": [
    "fig, ax = plt.subplots()\n",
    "pts = list(pt1.coords)\n",
    "x1,y1 = zip(*pts)\n",
    "\n",
    "pts = list(pt2.coords)\n",
    "x2,y2 = zip(*pts)\n",
    "\n",
    "ax.plot(x1, y1,  marker=\"o\", markersize=10)\n",
    "ax.plot(x2, y2,  marker=\"*\", markersize=10)\n",
    "\n",
    "ax.set_xlim([0,15])\n",
    "ax.set_ylim([0,15]);"
   ]
  },
  {
   "cell_type": "markdown",
   "metadata": {},
   "source": [
    "### <font color=\"green\"> MultiPoint Object</font>"
   ]
  },
  {
   "cell_type": "code",
   "execution_count": null,
   "metadata": {},
   "outputs": [],
   "source": [
    "points = shpgeom.MultiPoint([(5, 7), (1, 4)])\n",
    "points"
   ]
  },
  {
   "cell_type": "markdown",
   "metadata": {},
   "source": [
    "#### Using the GeosJSON formulation"
   ]
  },
  {
   "cell_type": "code",
   "execution_count": null,
   "metadata": {},
   "outputs": [],
   "source": [
    "d = {\n",
    "    'type': 'MultiPoint', \n",
    "    'coordinates': [\n",
    "        (5, 7),\n",
    "        (1, 4)\n",
    "    ]\n",
    "}\n",
    "points2 = shpgeom.shape(d)\n",
    "points2"
   ]
  },
  {
   "cell_type": "markdown",
   "metadata": {},
   "source": [
    "#### Turn the points `pt1` and `pt2` into a MultiPoint object"
   ]
  },
  {
   "cell_type": "code",
   "execution_count": null,
   "metadata": {},
   "outputs": [],
   "source": [
    "points = shpgeom.MultiPoint([pt1, pt2])\n",
    "points"
   ]
  },
  {
   "cell_type": "markdown",
   "metadata": {},
   "source": [
    "Get the GeoJSON representation:"
   ]
  },
  {
   "cell_type": "code",
   "execution_count": null,
   "metadata": {},
   "outputs": [],
   "source": [
    "print(shapely.to_geojson(points, indent=2))"
   ]
  },
  {
   "cell_type": "markdown",
   "metadata": {},
   "source": [
    "Find the ecentroid:"
   ]
  },
  {
   "cell_type": "code",
   "execution_count": null,
   "metadata": {},
   "outputs": [],
   "source": [
    "np.array(points.centroid)"
   ]
  },
  {
   "cell_type": "markdown",
   "metadata": {},
   "source": [
    "Get the list points in the object:"
   ]
  },
  {
   "cell_type": "code",
   "execution_count": null,
   "metadata": {},
   "outputs": [],
   "source": [
    "len(points.geoms)"
   ]
  },
  {
   "cell_type": "code",
   "execution_count": null,
   "metadata": {},
   "outputs": [],
   "source": [
    "list(points.geoms)"
   ]
  },
  {
   "cell_type": "code",
   "execution_count": null,
   "metadata": {},
   "outputs": [],
   "source": [
    "list(points.geoms[0].coords)"
   ]
  },
  {
   "cell_type": "code",
   "execution_count": null,
   "metadata": {},
   "outputs": [],
   "source": [
    "list(points.geoms[1].coords)"
   ]
  },
  {
   "cell_type": "markdown",
   "metadata": {},
   "source": [
    "#### Plot"
   ]
  },
  {
   "cell_type": "code",
   "execution_count": null,
   "metadata": {},
   "outputs": [],
   "source": [
    "fig, ax = plt.subplots()\n",
    "pts = list()\n",
    "for i in range(len(points.geoms)):\n",
    "    pts.append(points.geoms[i].coords[0])\n",
    "\n",
    "x,y = zip(*pts)\n",
    "\n",
    "ax.scatter(x, y, c=[\"green\", \"red\"])\n",
    "\n",
    "ax.set_xlim([0,15])\n",
    "ax.set_ylim([0,15]);"
   ]
  },
  {
   "cell_type": "code",
   "execution_count": null,
   "metadata": {},
   "outputs": [],
   "source": [
    "shpplt.plot_points(points)"
   ]
  },
  {
   "cell_type": "markdown",
   "metadata": {},
   "source": [
    "### <font color=\"green\"> LineString Object</font>\n",
    "\n",
    "- Created using a list of tuples (represnting points).\n",
    "- They can cross themselves.\n",
    "- The order of points is important as it determines the order in which you pass through them."
   ]
  },
  {
   "cell_type": "code",
   "execution_count": null,
   "metadata": {},
   "outputs": [],
   "source": [
    "line1 = shpgeom.LineString([(5, 7), (3,4), (-1, 3), (6,2), (8, 5)])\n",
    "line1"
   ]
  },
  {
   "cell_type": "markdown",
   "metadata": {},
   "source": [
    "#### Using the WKT formulation"
   ]
  },
  {
   "cell_type": "code",
   "execution_count": null,
   "metadata": {},
   "outputs": [],
   "source": [
    "line2 = shpwkt.loads('LINESTRING (5 7, 3 4, -1 3, 6 2, 8 5)')\n",
    "line2"
   ]
  },
  {
   "cell_type": "markdown",
   "metadata": {},
   "source": [
    "#### Using the GeosJSON formulation"
   ]
  },
  {
   "cell_type": "code",
   "execution_count": null,
   "metadata": {},
   "outputs": [],
   "source": [
    "d = {\n",
    "    'type': 'LineString', \n",
    "    'coordinates': [\n",
    "        (5, 7), (3,4), (-1, 3), (6,2), (8, 5)\n",
    "    ]\n",
    "}\n",
    "line3 = shpgeom.shape(d)\n",
    "line3"
   ]
  },
  {
   "cell_type": "markdown",
   "metadata": {},
   "source": [
    "#### Extract the coordinates"
   ]
  },
  {
   "cell_type": "code",
   "execution_count": null,
   "metadata": {},
   "outputs": [],
   "source": [
    "line1.xy"
   ]
  },
  {
   "cell_type": "code",
   "execution_count": null,
   "metadata": {},
   "outputs": [],
   "source": [
    "list(line1.xy[0])"
   ]
  },
  {
   "cell_type": "code",
   "execution_count": null,
   "metadata": {},
   "outputs": [],
   "source": [
    "list(line1.xy[-1])"
   ]
  },
  {
   "cell_type": "code",
   "execution_count": null,
   "metadata": {},
   "outputs": [],
   "source": [
    "list(line2.coords)"
   ]
  },
  {
   "cell_type": "markdown",
   "metadata": {},
   "source": [
    "Convert a `LineString` object into an array of point coordinates:"
   ]
  },
  {
   "cell_type": "code",
   "execution_count": null,
   "metadata": {},
   "outputs": [],
   "source": [
    "np.array(line1)"
   ]
  },
  {
   "cell_type": "markdown",
   "metadata": {},
   "source": [
    "Compute the length of the line:"
   ]
  },
  {
   "cell_type": "code",
   "execution_count": null,
   "metadata": {},
   "outputs": [],
   "source": [
    "line1.length"
   ]
  },
  {
   "cell_type": "markdown",
   "metadata": {},
   "source": [
    "#### Plot using Matplotlib"
   ]
  },
  {
   "cell_type": "code",
   "execution_count": null,
   "metadata": {},
   "outputs": [],
   "source": [
    "fig, ax = plt.subplots()\n",
    "pts = list(line1.coords)\n",
    "x,y = zip(*pts)\n",
    "ax.plot(x, y)\n",
    "ax.set_xlim([-2,13])\n",
    "ax.set_ylim([0,10]);"
   ]
  },
  {
   "cell_type": "code",
   "execution_count": null,
   "metadata": {},
   "outputs": [],
   "source": [
    "shpplt.plot_line(line1)"
   ]
  },
  {
   "cell_type": "markdown",
   "metadata": {},
   "source": [
    "Compute the distance between a point and the line:"
   ]
  },
  {
   "cell_type": "code",
   "execution_count": null,
   "metadata": {},
   "outputs": [],
   "source": [
    "pt2.distance(line2)"
   ]
  },
  {
   "cell_type": "markdown",
   "metadata": {},
   "source": [
    "Determine the point projection on the line:"
   ]
  },
  {
   "cell_type": "code",
   "execution_count": null,
   "metadata": {},
   "outputs": [],
   "source": [
    "line2.project(pt2)"
   ]
  },
  {
   "cell_type": "markdown",
   "metadata": {},
   "source": [
    "### <font color=\"green\"> MultiLineString Object</font>"
   ]
  },
  {
   "cell_type": "code",
   "execution_count": null,
   "metadata": {},
   "outputs": [],
   "source": [
    "coords = [((0, 0), (6, 1), (3, 4)), \n",
    "          ((-1, -4), (10, 0), (15, -2), (18, 6)),\n",
    "          ((10, 7), (16, 19))\n",
    "         ]\n",
    "lines = shpgeom.MultiLineString(coords)\n",
    "lines"
   ]
  },
  {
   "cell_type": "markdown",
   "metadata": {},
   "source": [
    "#### Using the GeosJSON formulation"
   ]
  },
  {
   "cell_type": "code",
   "execution_count": null,
   "metadata": {},
   "outputs": [],
   "source": [
    "d = {\n",
    "    'type': 'MultiLineString', \n",
    "    'coordinates': coords\n",
    "}\n",
    "lines2 = shpgeom.shape(d)\n",
    "lines2"
   ]
  },
  {
   "cell_type": "code",
   "execution_count": null,
   "metadata": {},
   "outputs": [],
   "source": []
  },
  {
   "cell_type": "code",
   "execution_count": null,
   "metadata": {},
   "outputs": [],
   "source": [
    "lines.length"
   ]
  },
  {
   "cell_type": "code",
   "execution_count": null,
   "metadata": {},
   "outputs": [],
   "source": [
    "len(lines.geoms)"
   ]
  },
  {
   "cell_type": "code",
   "execution_count": null,
   "metadata": {},
   "outputs": [],
   "source": [
    "lines.bounds"
   ]
  },
  {
   "cell_type": "code",
   "execution_count": null,
   "metadata": {},
   "outputs": [],
   "source": [
    "list(lines.geoms)"
   ]
  },
  {
   "cell_type": "code",
   "execution_count": null,
   "metadata": {},
   "outputs": [],
   "source": [
    "shpplt.plot_line(lines)"
   ]
  },
  {
   "cell_type": "markdown",
   "metadata": {},
   "source": [
    "### <font color=\"green\"> Polygon Object</font>"
   ]
  },
  {
   "cell_type": "code",
   "execution_count": null,
   "metadata": {},
   "outputs": [],
   "source": [
    "coords = [(20, 20), (200, 20), (200, 180), (20, 180)]\n",
    "poly1 = shpgeom.Polygon(coords)\n",
    "poly1"
   ]
  },
  {
   "cell_type": "markdown",
   "metadata": {},
   "source": [
    "#### Use the WKT formulation"
   ]
  },
  {
   "cell_type": "code",
   "execution_count": null,
   "metadata": {},
   "outputs": [],
   "source": [
    "poly2 = shpwkt.loads('POLYGON ((20 20, 200 20, 200 180, 20 180, 20 20))')\n",
    "poly2"
   ]
  },
  {
   "cell_type": "markdown",
   "metadata": {},
   "source": [
    "#### Use the GeoJSON formulation"
   ]
  },
  {
   "cell_type": "code",
   "execution_count": null,
   "metadata": {},
   "outputs": [],
   "source": [
    "coords2 = [\n",
    "    [(20, 20), (200, 20), (200, 180), (20, 180)]\n",
    "]\n",
    "d = {\n",
    "  'type': 'Polygon',\n",
    "  'coordinates': coords2\n",
    "}\n",
    "shapely.geometry.shape(d)"
   ]
  },
  {
   "cell_type": "code",
   "execution_count": null,
   "metadata": {},
   "outputs": [],
   "source": [
    "shpgeom.mapping(poly1)"
   ]
  },
  {
   "cell_type": "markdown",
   "metadata": {},
   "source": [
    "#### Extract the coordinates"
   ]
  },
  {
   "cell_type": "code",
   "execution_count": null,
   "metadata": {},
   "outputs": [],
   "source": [
    "poly1.exterior.xy"
   ]
  },
  {
   "cell_type": "code",
   "execution_count": null,
   "metadata": {},
   "outputs": [],
   "source": [
    "list(poly1.exterior.coords)"
   ]
  },
  {
   "cell_type": "code",
   "execution_count": null,
   "metadata": {},
   "outputs": [],
   "source": [
    "np.array(poly1.exterior)"
   ]
  },
  {
   "cell_type": "markdown",
   "metadata": {},
   "source": [
    "#### x-y bounding box is a (`minx`, `miny`, `maxx`, `maxy`) tuple."
   ]
  },
  {
   "cell_type": "code",
   "execution_count": null,
   "metadata": {},
   "outputs": [],
   "source": [
    "poly1.bounds"
   ]
  },
  {
   "cell_type": "markdown",
   "metadata": {},
   "source": [
    "#### Compute the area"
   ]
  },
  {
   "cell_type": "code",
   "execution_count": null,
   "metadata": {},
   "outputs": [],
   "source": [
    "poly1.area"
   ]
  },
  {
   "cell_type": "markdown",
   "metadata": {},
   "source": [
    "#### Compute the centroid"
   ]
  },
  {
   "cell_type": "code",
   "execution_count": null,
   "metadata": {},
   "outputs": [],
   "source": [
    "np.array(poly1.centroid)"
   ]
  },
  {
   "cell_type": "markdown",
   "metadata": {},
   "source": [
    "#### Check if a point is within a polygon"
   ]
  },
  {
   "cell_type": "code",
   "execution_count": null,
   "metadata": {},
   "outputs": [],
   "source": [
    "pt1.within(poly1)"
   ]
  },
  {
   "cell_type": "code",
   "execution_count": null,
   "metadata": {},
   "outputs": [],
   "source": [
    "poly1.centroid.within(poly1)"
   ]
  },
  {
   "cell_type": "markdown",
   "metadata": {},
   "source": [
    "#### Use the Shapely plotting tool"
   ]
  },
  {
   "cell_type": "code",
   "execution_count": null,
   "metadata": {},
   "outputs": [],
   "source": [
    "shpplt.plot_polygon(poly1)"
   ]
  },
  {
   "cell_type": "code",
   "execution_count": null,
   "metadata": {},
   "outputs": [],
   "source": [
    "def add_polygon_patch(coords, ax, fc='blue'):\n",
    "    patch = patches.Polygon(np.array(coords.xy).T, fc=fc)\n",
    "    ax.add_patch(patch)\n",
    "\n",
    "def plot_poly(poly):\n",
    "    fig, ax = plt.subplots(1, 1)\n",
    "\n",
    "    add_polygon_patch(poly.exterior, ax)\n",
    "    for interior in poly.interiors:\n",
    "        add_polygon_patch(interior, ax, 'white')\n",
    "        \n",
    "    ax.axis('equal')"
   ]
  },
  {
   "cell_type": "code",
   "execution_count": null,
   "metadata": {},
   "outputs": [],
   "source": [
    "plot_poly(poly1)"
   ]
  },
  {
   "cell_type": "markdown",
   "metadata": {},
   "source": [
    "#### Polygon with holes"
   ]
  },
  {
   "cell_type": "code",
   "execution_count": null,
   "metadata": {},
   "outputs": [],
   "source": [
    "poly3 = shpgeom.Polygon(\n",
    "    [(20, 20), (200, 20), (200, 180), (20, 180)],\n",
    "    [[(25, 30), (100, 30), (90, 75), (65, 125)]]\n",
    ")\n",
    "poly3"
   ]
  },
  {
   "cell_type": "code",
   "execution_count": null,
   "metadata": {},
   "outputs": [],
   "source": [
    "shpwkt.loads('POLYGON ((20 20, 200 20, 200 180, 20 180, 20 20), (25 30, 100 30, 90 75, 65 125, 25 30))')"
   ]
  },
  {
   "cell_type": "markdown",
   "metadata": {},
   "source": [
    "#### Use the GeoJSON to formulation"
   ]
  },
  {
   "cell_type": "code",
   "execution_count": null,
   "metadata": {},
   "outputs": [],
   "source": [
    "coords2 = [\n",
    "    [[20.0,20.0],[200.0,20.0],[200.0,180.0],[20.0,180.0],[20.0,20.0]],\n",
    "    [[25.0,30.0],[100.0,30.0],[90.0,75.0],[65.0,125.0],[25.0,30.0]]\n",
    "]\n",
    "d = {\n",
    "  'type': 'Polygon',\n",
    "  'coordinates': coords2\n",
    "}\n",
    "shapely.geometry.shape(d)"
   ]
  },
  {
   "cell_type": "code",
   "execution_count": null,
   "metadata": {},
   "outputs": [],
   "source": [
    "poly3.exterior"
   ]
  },
  {
   "cell_type": "code",
   "execution_count": null,
   "metadata": {},
   "outputs": [],
   "source": [
    "list(poly3.exterior.coords)"
   ]
  },
  {
   "cell_type": "code",
   "execution_count": null,
   "metadata": {},
   "outputs": [],
   "source": [
    "len(poly3.interiors)"
   ]
  },
  {
   "cell_type": "code",
   "execution_count": null,
   "metadata": {},
   "outputs": [],
   "source": [
    "list(poly3.interiors[0].coords)"
   ]
  },
  {
   "cell_type": "markdown",
   "metadata": {},
   "source": [
    "Plotting:"
   ]
  },
  {
   "cell_type": "code",
   "execution_count": null,
   "metadata": {},
   "outputs": [],
   "source": [
    "shpplt.plot_polygon(poly3)"
   ]
  },
  {
   "cell_type": "code",
   "execution_count": null,
   "metadata": {},
   "outputs": [],
   "source": [
    "plot_poly(poly3)"
   ]
  },
  {
   "cell_type": "code",
   "execution_count": null,
   "metadata": {},
   "outputs": [],
   "source": []
  },
  {
   "cell_type": "markdown",
   "metadata": {},
   "source": [
    "#### Convert LineString and point objects into Polygons"
   ]
  },
  {
   "cell_type": "code",
   "execution_count": null,
   "metadata": {},
   "outputs": [],
   "source": [
    "poly5 = shpgeom.Point(5, 7).buffer(3)\n",
    "poly5"
   ]
  },
  {
   "cell_type": "markdown",
   "metadata": {},
   "source": [
    "This is still a polygon (not a circle in a strict sense), comprised, in this case, of `65` points:"
   ]
  },
  {
   "cell_type": "code",
   "execution_count": null,
   "metadata": {},
   "outputs": [],
   "source": [
    "len(np.array(poly5.exterior.coords))"
   ]
  },
  {
   "cell_type": "markdown",
   "metadata": {},
   "source": [
    "You can increase the precision from the default resolution (16), by passing resolution parameter in your buffer:"
   ]
  },
  {
   "cell_type": "code",
   "execution_count": null,
   "metadata": {},
   "outputs": [],
   "source": [
    "poly6 = shpgeom.Point(5, 7).buffer(3, resolution=32)\n",
    "len(np.array(poly6.exterior.coords))"
   ]
  },
  {
   "cell_type": "code",
   "execution_count": null,
   "metadata": {},
   "outputs": [],
   "source": [
    "np.array(poly5.centroid)"
   ]
  },
  {
   "cell_type": "code",
   "execution_count": null,
   "metadata": {},
   "outputs": [],
   "source": [
    "fig, ax = plt.subplots()\n",
    "pts = list(poly5.exterior.coords)\n",
    "x,y = zip(*pts)\n",
    "ax.plot(x, y);"
   ]
  },
  {
   "cell_type": "markdown",
   "metadata": {},
   "source": [
    "Buffer allows you to easily relate polygons and other geometry objects. For example, if you want to cut a polygon by a line of a specific width:"
   ]
  },
  {
   "cell_type": "code",
   "execution_count": null,
   "metadata": {},
   "outputs": [],
   "source": [
    "shpgeom.Point(10,10).buffer(10).difference(\n",
    "    shpgeom.LineString([\n",
    "        (0, 0),\n",
    "        (20, 20)\n",
    "    ]\n",
    "    ).buffer(0.95))"
   ]
  },
  {
   "cell_type": "markdown",
   "metadata": {},
   "source": [
    "You may cut it without any loss of surface area:"
   ]
  },
  {
   "cell_type": "code",
   "execution_count": null,
   "metadata": {},
   "outputs": [],
   "source": [
    "from shapely.ops import split\n",
    "shapely.ops.split(\n",
    "    shpgeom.Point(10,10).buffer(10),\n",
    "    shpgeom.LineString([\n",
    "        (0, 0),\n",
    "        (20, 20)\n",
    "    ])\n",
    ")"
   ]
  },
  {
   "cell_type": "code",
   "execution_count": null,
   "metadata": {},
   "outputs": [],
   "source": []
  },
  {
   "cell_type": "code",
   "execution_count": null,
   "metadata": {},
   "outputs": [],
   "source": [
    "object = shpgeom.box(2, 2, 5, 10)\n",
    "print(object.bounds)\n",
    "print(list(object.exterior.coords))"
   ]
  },
  {
   "cell_type": "code",
   "execution_count": null,
   "metadata": {},
   "outputs": [],
   "source": [
    "fig, ax = plt.subplots()\n",
    "pts = list(object.exterior.coords)\n",
    "x,y = zip(*pts)\n",
    "ax.plot(x, y)\n",
    "ax.set_xlim([0,15])\n",
    "ax.set_ylim([0,15]);"
   ]
  },
  {
   "cell_type": "code",
   "execution_count": null,
   "metadata": {},
   "outputs": [],
   "source": [
    "object = shpgeom.Polygon([(20, 20), (200, 20), (200, 180), (20, 180)])\n",
    "print(object.type)\n",
    "print(list(object.exterior.coords))"
   ]
  },
  {
   "cell_type": "code",
   "execution_count": null,
   "metadata": {},
   "outputs": [],
   "source": [
    "fig, ax = plt.subplots()\n",
    "pts = list(object.exterior.coords)\n",
    "x,y = zip(*pts)\n",
    "ax.plot(x, y)\n",
    "ax.set_xlim([0,300])\n",
    "ax.set_ylim([0,300]);"
   ]
  },
  {
   "cell_type": "markdown",
   "metadata": {},
   "source": [
    "### <font color=\"green\">MultiPolygon Object</font>"
   ]
  },
  {
   "cell_type": "markdown",
   "metadata": {},
   "source": [
    "#### Create individuals polygons"
   ]
  },
  {
   "cell_type": "code",
   "execution_count": null,
   "metadata": {},
   "outputs": [],
   "source": [
    "pl1 = shpgeom.Polygon(((40, 40), (20, 45), (45, 30)))\n",
    "pl1"
   ]
  },
  {
   "cell_type": "code",
   "execution_count": null,
   "metadata": {},
   "outputs": [],
   "source": [
    "pl2 = shpgeom.Polygon(\n",
    "    ((20, 35), (10, 30), (10, 10), (30, 5), (45, 20)), \n",
    "    [[(30, 20), (20, 15), (20, 25)]]    \n",
    ")\n",
    "pl2"
   ]
  },
  {
   "cell_type": "markdown",
   "metadata": {},
   "source": [
    "#### Combine the multiple polygons"
   ]
  },
  {
   "cell_type": "code",
   "execution_count": null,
   "metadata": {},
   "outputs": [],
   "source": [
    "mpoly = shpgeom.MultiPolygon([pl1, pl2])\n",
    "mpoly"
   ]
  },
  {
   "cell_type": "markdown",
   "metadata": {},
   "source": [
    "#### Use the WKT formulation"
   ]
  },
  {
   "cell_type": "code",
   "execution_count": null,
   "metadata": {},
   "outputs": [],
   "source": [
    "shpwkt.loads('''\n",
    "MULTIPOLYGON\n",
    "(((40 40, 20 45, 45 30, 40 40)),\n",
    "((20 35, 10 30, 10 10, 30 5, 45 20, 20 35), (30 20, 20 15, 20 25, 30 20)))\n",
    "''')"
   ]
  },
  {
   "cell_type": "markdown",
   "metadata": {},
   "source": [
    "#### Use the GeosJSON formulation"
   ]
  },
  {
   "cell_type": "code",
   "execution_count": null,
   "metadata": {},
   "outputs": [],
   "source": [
    "d = {\n",
    "  'type': 'MultiPolygon',\n",
    "  'coordinates': [\n",
    "    [\n",
    "      [[40, 40], [20, 45], [45, 30], [40, 40]]\n",
    "    ],\n",
    "    [\n",
    "      [[20, 35], [10, 30], [10, 10], [30, 5], [45, 20], \n",
    "      [20, 35]], \n",
    "      [[30, 20], [20, 15], [20, 25], [30, 20]]\n",
    "    ]\n",
    "  ]\n",
    "}\n",
    "shapely.geometry.shape(d)"
   ]
  },
  {
   "cell_type": "code",
   "execution_count": null,
   "metadata": {},
   "outputs": [],
   "source": [
    "mpoly.bounds"
   ]
  },
  {
   "cell_type": "code",
   "execution_count": null,
   "metadata": {},
   "outputs": [],
   "source": [
    "len(mpoly.geoms)"
   ]
  },
  {
   "cell_type": "code",
   "execution_count": null,
   "metadata": {},
   "outputs": [],
   "source": [
    "mpoly.area"
   ]
  },
  {
   "cell_type": "code",
   "execution_count": null,
   "metadata": {},
   "outputs": [],
   "source": [
    "np.array(mpoly.centroid)"
   ]
  },
  {
   "cell_type": "markdown",
   "metadata": {},
   "source": [
    "### <font color=\"green\">GeometryCollection Object</font>"
   ]
  },
  {
   "cell_type": "code",
   "execution_count": null,
   "metadata": {},
   "outputs": [],
   "source": [
    "geocol = shpgeom.GeometryCollection([pt1, poly3])\n",
    "geocol"
   ]
  },
  {
   "cell_type": "code",
   "execution_count": null,
   "metadata": {},
   "outputs": [],
   "source": [
    "print(shapely.to_geojson(geocol, indent=1))"
   ]
  },
  {
   "cell_type": "code",
   "execution_count": null,
   "metadata": {},
   "outputs": [],
   "source": []
  },
  {
   "cell_type": "code",
   "execution_count": null,
   "metadata": {},
   "outputs": [],
   "source": []
  },
  {
   "cell_type": "markdown",
   "metadata": {},
   "source": [
    "## <font color=\"green\"> Breakout 5</font>\n",
    "Draw the USA map and randomly color each state.\n",
    "\n",
    "You may want to use:\n",
    "\n",
    "```python\n",
    "shapename = 'admin_1_states_provinces_lakes_shp'\n",
    "states_shp = shapereader.natural_earth(resolution='110m',\n",
    "                                       category='cultural',\n",
    "                                       name=shapename)\n",
    "\n",
    "reader = shapereader.Reader(states_shp)\n",
    "```"
   ]
  },
  {
   "cell_type": "markdown",
   "metadata": {},
   "source": [
    "<details><summary><b><font color=\"green\">Click here to access the solution</font></b></summary>\n",
    "<p>\n",
    "\n",
    "```python\n",
    "shapename = 'admin_1_states_provinces_lakes_shp'\n",
    "states_shp = shapereader.natural_earth(resolution='110m',\n",
    "                                       category='cultural',\n",
    "                                       name=shapename)\n",
    "\n",
    "reader = shapereader.Reader(states_shp)\n",
    "\n",
    "subplot_kw = dict(projection=ccrs.PlateCarree())\n",
    "fig, ax = plt.subplots(figsize=(16, 15), subplot_kw=subplot_kw)\n",
    " \n",
    "ax.set_extent([-130, -65, 24, 47])\n",
    "\n",
    "ax.background_patch.set_visible(False)\n",
    "ax.outline_patch.set_visible(False)\n",
    " \n",
    "# Get from Matplotlib a list of colors\n",
    "#------------------------------\n",
    "colors = list(cnames.keys())\n",
    "len_colors = len(colors)\n",
    "\n",
    "k = 0\n",
    "for record, state in zip(reader.records(), reader.geometries()):\n",
    "    if k+1 == len_colors:\n",
    "        k = 0\n",
    "    else:\n",
    "        k += 1\n",
    "    facecolor = colors[k]\n",
    "    ax.add_geometries([state], ccrs.PlateCarree(),\n",
    "                      facecolor=facecolor, edgecolor='black')\n",
    "```\n",
    "\n",
    "<p>\n",
    "</details>"
   ]
  },
  {
   "cell_type": "code",
   "execution_count": null,
   "metadata": {},
   "outputs": [],
   "source": []
  }
 ],
 "metadata": {
  "anaconda-cloud": {},
  "kernelspec": {
   "display_name": "Python 3 (ipykernel)",
   "language": "python",
   "name": "python3"
  },
  "language_info": {
   "codemirror_mode": {
    "name": "ipython",
    "version": 3
   },
   "file_extension": ".py",
   "mimetype": "text/x-python",
   "name": "python",
   "nbconvert_exporter": "python",
   "pygments_lexer": "ipython3",
   "version": "3.8.2"
  }
 },
 "nbformat": 4,
 "nbformat_minor": 1
}
