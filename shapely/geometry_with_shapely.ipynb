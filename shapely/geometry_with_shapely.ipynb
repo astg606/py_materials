{
 "cells": [
  {
   "cell_type": "markdown",
   "metadata": {},
   "source": [
    "<center>\n",
    "<table>\n",
    "  <tr>\n",
    "    <td><img src=\"http://www.nasa.gov/sites/all/themes/custom/nasatwo/images/nasa-logo.svg\" width=\"100\"/> </td>\n",
    "     <td><img src=\"https://github.com/astg606/py_materials/blob/master/logos/ASTG_logo.png?raw=true\" width=\"80\"/> </td>\n",
    "     <td> <img src=\"https://www.nccs.nasa.gov/sites/default/files/NCCS_Logo_0.png\" width=\"130\"/> </td>\n",
    "    </tr>\n",
    "</table>\n",
    "</center>\n",
    "\n",
    "        \n",
    "<center>\n",
    "<h1><font color= \"blue\" size=\"+3\">ASTG Python Courses</font></h1>\n",
    "</center>\n",
    "\n",
    "---\n",
    "\n",
    "<center><h1>\n",
    "    <font color=\"red\">Creating Geometry Objects with Shapely</font>  \n",
    "</h1></center>\n"
   ]
  },
  {
   "cell_type": "markdown",
   "metadata": {},
   "source": [
    "# <font color=\"red\"> Reference Documents</font>\n",
    "\n",
    "- [Shapely Python Tutorial](https://coderslegacy.com/python/shapely-tutorial/)\n",
    "- [Geometries (`shapely`)](https://geobgu.xyz/py/shapely.html)\n",
    "- [Well-known text representation of geometry](https://en.wikipedia.org/wiki/Well-known_text_representation_of_geometry)\n",
    "- [GeoJSON](https://geobgu.xyz/web-mapping2/geojson-1.html)"
   ]
  },
  {
   "cell_type": "markdown",
   "metadata": {},
   "source": [
    "_______"
   ]
  },
  {
   "cell_type": "markdown",
   "metadata": {},
   "source": [
    "---"
   ]
  },
  {
   "cell_type": "markdown",
   "metadata": {},
   "source": [
    "# <font color=\"red\">Required Packages</font>\n",
    "\n",
    "We will mainly need:\n",
    "\n",
    "- `matplotlib`: for plotting.\n",
    "- `NumPy`: for converting Shapely objects into Numpy arrays.\n",
    "- `Shapely`: for creating geometry objects."
   ]
  },
  {
   "cell_type": "code",
   "execution_count": 1,
   "metadata": {},
   "outputs": [],
   "source": [
    "import warnings\n",
    "warnings.filterwarnings(\"ignore\")"
   ]
  },
  {
   "cell_type": "code",
   "execution_count": 2,
   "metadata": {},
   "outputs": [],
   "source": [
    "%matplotlib inline\n",
    "import matplotlib.pyplot as plt\n",
    "import matplotlib.patches as patches"
   ]
  },
  {
   "cell_type": "code",
   "execution_count": 3,
   "metadata": {},
   "outputs": [],
   "source": [
    "import numpy as np"
   ]
  },
  {
   "cell_type": "code",
   "execution_count": 4,
   "metadata": {},
   "outputs": [],
   "source": [
    "import shapely\n",
    "from shapely import geometry as shpgeom\n",
    "from shapely import wkt as shpwkt\n",
    "import shapely.plotting as shpplt # only goog for v2.0 or newer"
   ]
  },
  {
   "cell_type": "code",
   "execution_count": 5,
   "metadata": {},
   "outputs": [
    {
     "name": "stdout",
     "output_type": "stream",
     "text": [
      "Shapely version: 2.0.1\n",
      "Numpy   version: 1.23.2\n"
     ]
    }
   ],
   "source": [
    "print(f\"Shapely version: {shapely.__version__}\")\n",
    "print(f\"Numpy   version: {np.__version__}\")"
   ]
  },
  {
   "cell_type": "markdown",
   "metadata": {},
   "source": [
    "# <font color=\"red\">Objective</font>\n",
    "\n",
    "### Spatial Data\n",
    "\n",
    "- Geospatial includes information related to locations on the Earth’s surface (identified by latitude and longitude coordinates). \n",
    "- Geospatial data involves large sets of spatial data gathered from many diverse sources in varying formats and can include information such as census data, satellite imagery, weather data, cell phone data, drawn images and social media data. \n",
    "- Spatial data can be divided into two categories:\n",
    "\n",
    "  - `Vector layers`: points, lines, and polygons, associated with attributes (such as properties, cities, roads, mountains and bodies of water).\n",
    "  - `Rasters`: numeric arrays (for photographs and satellite images for instance) representing a regular grid over a rectangular area. Each piece of the grid can be either a continuous value (such as an elevation value) or a categorical classification (such as land cover classifications). Classic examples include altitude data or satellite images.\n",
    "- Both vector and raster data usually come together with non-spatial data, also known as **attributes**. \n",
    "- Spatial data can have any number of additional attributes accompanying information about the location. For example, the location of a school can be associated with the name of the school, the number of students, or the address.\n",
    "\n",
    "![fig_categories](https://gsp.humboldt.edu/olm/Lessons/GIS/08%20Rasters/Images/convertingdatamodels2.png)\n",
    "Image Source: [Humboldt University](https://gsp.humboldt.edu/olm/Lessons/GIS/08%20Rasters/RasterToVector.html)\n",
    "\n",
    "\n",
    "Examples of spatial data include:\n",
    "\n",
    "- Vectors and attributes: Descriptive information about a location such as points, lines and polygons\n",
    "- Model outputs: data such as temparture, winds, air pressure, etc. generated from numerical models.\n",
    "- Observations: measurements obtained from satellites, ground-based stations, etc.\n",
    "- Raster and satellite imagery: High-resolution images of our world, taken from above\n",
    "- Census data: Released census data tied to specific geographic areas, for the study of community trends\n",
    "\n",
    "### Objective\n",
    "Our goal in this presentation is to work with the `vector layers` category. In particular, we want to cover the following topics:\n",
    "\n",
    "- Call methods for creating geometry objects\n",
    "- Extract geometry properties:\n",
    "   - Geometry type\n",
    "   - Coordinates\n",
    "   - Derived properties, such as length and area\n",
    "- Plot the geometry objects using Shapely and Matplotlib.\n",
    "\n"
   ]
  },
  {
   "cell_type": "markdown",
   "metadata": {},
   "source": [
    "# <font color=\"red\">What is Shapely?</font>\n",
    "\n",
    "* Used for the manipulation and analysis of planar geometric objects such as:\n",
    "   * Points\n",
    "   * Lines\n",
    "   * Polygons\n",
    "   * Meshes\n",
    "   * etc.\n",
    "* Includes functions for creating geometries, as well as functions for applying geometric operations on geometries, such as calculating the centroid of a polygon.\n",
    "* Only deals with individual geometries, their creation, their derived properties, and spatial operation applied to them.\n",
    "* Does not include any functions to read or write geometries to or from files, or more complex data structures to represent collections of geometries with or without non-spatial attributes (done in GeosPandas). \n",
    "* Finds application in any geometry/geography related work.\n",
    "* Relies on [GEOS](https://trac.osgeo.org/geos) and JTS libraries.\n",
    "* Uses the conventions of the geographic information systems (GIS) world.\n",
    "* Used is packages such as Cartopy, GeoPandas.\n",
    "\n",
    "In Shapely, there are 7 main geometry types:\n",
    "\n",
    "\n",
    "| __Type__ | __Description__ |\n",
    "| :----- | :----- |\n",
    "| \"Point\"\t| A single point  | \n",
    "| \"LineString\"\t| Sequence of connected points forming a line | \n",
    "| \"Polygon\"\t| Sequence of connected points “closed” to form a polygon, possibly having one or more holes | \n",
    "| \"MultiPoint\"\t| Set of points | \n",
    "| \"MultiLineString\"\t| Set of lines | \n",
    "| \"MultiPolygon\"\t| Set of polygons | \n",
    "| \"GeometryCollection\"\t| Set of geometries of any type except for \"GeometryCollection\" | \n",
    "\n",
    "![fig_geotypes](https://geobgu.xyz/py/_images/simple_feature_types.svg)\n",
    "Image Source: [https://geobgu.xyz/](https://geobgu.xyz/)"
   ]
  },
  {
   "cell_type": "markdown",
   "metadata": {},
   "source": [
    "## <font color=\"blue\">Well-known text (WKT) format</font>\n",
    "\n",
    "- A text markup language or representing vector geometry objects on a map and spatial reference systems of spatial objects.\n",
    "- WKT can be used both to construct new instances of the type and to convert existing instances to textual form for alphanumeric display.\n",
    "- WTK can represent points, lines, polygons, multi-geometries, etc.\n",
    "- Each geometry object in WKT has a tag which says what it is, usually followed by a list of coordinates. For example, here are some common tags:\n",
    "   - `POINT(...)`\n",
    "   - `LINESTRING(...)`\n",
    "   - `POLYGON((...))`\n",
    "   - `MULTIPOLYGON(...)`\n",
    "\n",
    "\n",
    "\n",
    "## <font color=\"blue\">GeoJSON</font>\n",
    "\n",
    "- Plain-text format designed for representing vector geometries, with or without non-spatial attributes.\n",
    "- Based on the JavaScript Object Notation, JSON.\n",
    "- Its format is simple and human-reade\n",
    "- Most common data format for exchanging spatial (vector) data on the web.\n",
    "- **Supports the seven most commonly used geometry types (as shown above).** \n",
    "\n",
    "\n",
    "The following GeoJSON string represents a point layer with one attribute called `name` and with one feature, a point at coordinates `[125.6, 10.1]`:\n",
    "\n",
    "```json\n",
    "{\n",
    "  \"type\": \"Feature\",\n",
    "  \"geometry\": {\n",
    "    \"type\": \"Point\",\n",
    "    \"coordinates\": [125.6, 10.1]\n",
    "  },\n",
    "  \"properties\": {\n",
    "    \"name\": \"Dinagat Islands\"\n",
    "  }\n",
    "}\n",
    "```\n",
    "\n",
    "- A `\"Feature\"` is formed when a geometry is combined with non-spatial attributes, to form a single object. \n",
    "- The non-spatial attributes are encompassed in a property named `\"properties\"`, containing one or more name-value pairs—one for each attribute. \n",
    "\n",
    "---\n",
    "\n",
    "**In this presentation, we show three different ways of creating geometry objects with Shapely:**\n",
    "- Pure shapely formulation\n",
    "- WTK formulation\n",
    "- GeoJSON formulation"
   ]
  },
  {
   "cell_type": "markdown",
   "metadata": {},
   "source": [
    "***"
   ]
  },
  {
   "cell_type": "markdown",
   "metadata": {},
   "source": [
    "# <font color=\"red\">Creating Shapely Objects</font>\n",
    "\n",
    "The package `shapely.geometry` contains all geometry-related functions for manipulating geometry objects.\n",
    "\n",
    "| Geometry Type | Function to Create | Access Coordinates |\n",
    "| :--- | :---  | :--- |\n",
    "| `Point` | `shapely.geometry.Point` | `.coords` |\n",
    "| `MultiPoint` |  `shapely.geometry.MultiPoint` | `.geoms[i].coords` |\n",
    "| `LineString` |  `shapely.geometry.LineString` | `.coords`  |\n",
    "| `MultiLineString` |  `shapely.geometry.MultiLineString` | `.geoms[i].coords` |\n",
    "| `Polygon` |  `shapely.geometry.Polygon` | `.exterior.coords` |\n",
    "|           |                             | `.interiors[i].coords` |\n",
    "| `MultiPolygon` | `shapely.geometry.MultiPolygon` | `.geoms[i].exterior.coords` |\n",
    "|           |              | `.geoms[i].interiors[j].coords` |\n",
    "| `GeometryCollection` |  `shapely.geometry.GeometryCollection` |  |\n",
    "\n",
    "Coordinate sequences of an object are associated with the concepts of exterior and interiors coordinate sequences:\n",
    "\n",
    "- The __exterior__ is the outer bound of the object. There is only one exterior sequence per object. The `.exterior` property gives direct access to the exterior geometry.\n",
    "- The __interiors__ refers to the object holes. There can be zero or more holes in each object. Accordingly, the `.interiors` property is a sequence of length zero or more."
   ]
  },
  {
   "cell_type": "markdown",
   "metadata": {},
   "source": [
    "## <font color=\"blue\"> Point Object</font>\n",
    "\n",
    "- This is the most basic “shape” which represents a single coordinate."
   ]
  },
  {
   "cell_type": "markdown",
   "metadata": {},
   "source": [
    "#### Creating a point"
   ]
  },
  {
   "cell_type": "code",
   "execution_count": 6,
   "metadata": {},
   "outputs": [],
   "source": [
    "pt1 = shpgeom.Point(5, 7)"
   ]
  },
  {
   "cell_type": "markdown",
   "metadata": {},
   "source": [
    "You can view all the geometric objects without having to resort to any graphical package:"
   ]
  },
  {
   "cell_type": "code",
   "execution_count": 7,
   "metadata": {},
   "outputs": [
    {
     "data": {
      "image/svg+xml": [
       "<svg xmlns=\"http://www.w3.org/2000/svg\" xmlns:xlink=\"http://www.w3.org/1999/xlink\" width=\"100.0\" height=\"100.0\" viewBox=\"4.0 6.0 2.0 2.0\" preserveAspectRatio=\"xMinYMin meet\"><g transform=\"matrix(1,0,0,-1,0,14.0)\"><circle cx=\"5.0\" cy=\"7.0\" r=\"0.06\" stroke=\"#555555\" stroke-width=\"0.02\" fill=\"#66cc99\" opacity=\"0.6\" /></g></svg>"
      ],
      "text/plain": [
       "<POINT (5 7)>"
      ]
     },
     "execution_count": 7,
     "metadata": {},
     "output_type": "execute_result"
    }
   ],
   "source": [
    "pt1"
   ]
  },
  {
   "cell_type": "code",
   "execution_count": 8,
   "metadata": {},
   "outputs": [
    {
     "name": "stdout",
     "output_type": "stream",
     "text": [
      "POINT (5 7)\n"
     ]
    }
   ],
   "source": [
    "print(pt1)"
   ]
  },
  {
   "cell_type": "markdown",
   "metadata": {},
   "source": [
    "You can obtain the geometry type:"
   ]
  },
  {
   "cell_type": "code",
   "execution_count": 9,
   "metadata": {},
   "outputs": [
    {
     "data": {
      "text/plain": [
       "'Point'"
      ]
     },
     "execution_count": 9,
     "metadata": {},
     "output_type": "execute_result"
    }
   ],
   "source": [
    "pt1.geom_type"
   ]
  },
  {
   "cell_type": "markdown",
   "metadata": {},
   "source": [
    "We can display the string representation of the object:"
   ]
  },
  {
   "cell_type": "code",
   "execution_count": 10,
   "metadata": {},
   "outputs": [
    {
     "data": {
      "text/plain": [
       "'POINT (5 7)'"
      ]
     },
     "execution_count": 10,
     "metadata": {},
     "output_type": "execute_result"
    }
   ],
   "source": [
    "str(pt1)"
   ]
  },
  {
   "cell_type": "markdown",
   "metadata": {},
   "source": [
    "#### Using the Well Known Text (WKT) string formulation"
   ]
  },
  {
   "cell_type": "code",
   "execution_count": 11,
   "metadata": {},
   "outputs": [
    {
     "data": {
      "image/svg+xml": [
       "<svg xmlns=\"http://www.w3.org/2000/svg\" xmlns:xlink=\"http://www.w3.org/1999/xlink\" width=\"100.0\" height=\"100.0\" viewBox=\"0.0 3.0 2.0 2.0\" preserveAspectRatio=\"xMinYMin meet\"><g transform=\"matrix(1,0,0,-1,0,8.0)\"><circle cx=\"1.0\" cy=\"4.0\" r=\"0.06\" stroke=\"#555555\" stroke-width=\"0.02\" fill=\"#66cc99\" opacity=\"0.6\" /></g></svg>"
      ],
      "text/plain": [
       "<POINT (1 4)>"
      ]
     },
     "execution_count": 11,
     "metadata": {},
     "output_type": "execute_result"
    }
   ],
   "source": [
    "pt2 = shpwkt.loads('POINT (1 4)')\n",
    "pt2"
   ]
  },
  {
   "cell_type": "code",
   "execution_count": 12,
   "metadata": {},
   "outputs": [
    {
     "name": "stdout",
     "output_type": "stream",
     "text": [
      "POINT (1 4)\n"
     ]
    }
   ],
   "source": [
    "print(pt2)"
   ]
  },
  {
   "cell_type": "code",
   "execution_count": 13,
   "metadata": {},
   "outputs": [
    {
     "data": {
      "text/plain": [
       "'POINT (1.0000000000000000 4.0000000000000000)'"
      ]
     },
     "execution_count": 13,
     "metadata": {},
     "output_type": "execute_result"
    }
   ],
   "source": [
    "shpwkt.dumps(pt2)"
   ]
  },
  {
   "cell_type": "markdown",
   "metadata": {},
   "source": [
    "We can load the string representation back into geometric format:"
   ]
  },
  {
   "cell_type": "code",
   "execution_count": 14,
   "metadata": {},
   "outputs": [
    {
     "data": {
      "image/svg+xml": [
       "<svg xmlns=\"http://www.w3.org/2000/svg\" xmlns:xlink=\"http://www.w3.org/1999/xlink\" width=\"100.0\" height=\"100.0\" viewBox=\"4.0 6.0 2.0 2.0\" preserveAspectRatio=\"xMinYMin meet\"><g transform=\"matrix(1,0,0,-1,0,14.0)\"><circle cx=\"5.0\" cy=\"7.0\" r=\"0.06\" stroke=\"#555555\" stroke-width=\"0.02\" fill=\"#66cc99\" opacity=\"0.6\" /></g></svg>"
      ],
      "text/plain": [
       "<POINT (5 7)>"
      ]
     },
     "execution_count": 14,
     "metadata": {},
     "output_type": "execute_result"
    }
   ],
   "source": [
    "shpwkt.loads(str(pt1))"
   ]
  },
  {
   "cell_type": "markdown",
   "metadata": {},
   "source": [
    "#### Using the GeosJSON formulation\n",
    "- We use the `shapely.geometry.shape` function.\n",
    "- The function accepts GeoJSON-like dictionary with the geometry definition.\n",
    "- The dictionary needs to have a least two properties:\n",
    "   - `\"type\"`: contains the geometry type.\n",
    "   - `\"coordinates\"`: contains the sequences of geometries/parts/coordinates, as lists or tuples."
   ]
  },
  {
   "cell_type": "code",
   "execution_count": 15,
   "metadata": {},
   "outputs": [
    {
     "data": {
      "image/svg+xml": [
       "<svg xmlns=\"http://www.w3.org/2000/svg\" xmlns:xlink=\"http://www.w3.org/1999/xlink\" width=\"100.0\" height=\"100.0\" viewBox=\"-6.0 1.0 2.0 2.0\" preserveAspectRatio=\"xMinYMin meet\"><g transform=\"matrix(1,0,0,-1,0,4.0)\"><circle cx=\"-5.0\" cy=\"2.0\" r=\"0.06\" stroke=\"#555555\" stroke-width=\"0.02\" fill=\"#66cc99\" opacity=\"0.6\" /></g></svg>"
      ],
      "text/plain": [
       "<POINT (-5 2)>"
      ]
     },
     "execution_count": 15,
     "metadata": {},
     "output_type": "execute_result"
    }
   ],
   "source": [
    "d = {'type': 'Point', 'coordinates': (-5, 2)}\n",
    "pt3 = shpgeom.shape(d)\n",
    "pt3"
   ]
  },
  {
   "cell_type": "markdown",
   "metadata": {},
   "source": [
    "You can conver a Shapely geometry object into the GeoJSON representation using the `to_geojson()` function:"
   ]
  },
  {
   "cell_type": "code",
   "execution_count": 16,
   "metadata": {},
   "outputs": [
    {
     "data": {
      "text/plain": [
       "'{\"type\":\"Point\",\"coordinates\":[-5.0,2.0]}'"
      ]
     },
     "execution_count": 16,
     "metadata": {},
     "output_type": "execute_result"
    }
   ],
   "source": [
    "shapely.to_geojson(pt3)"
   ]
  },
  {
   "cell_type": "code",
   "execution_count": 17,
   "metadata": {},
   "outputs": [
    {
     "name": "stdout",
     "output_type": "stream",
     "text": [
      "{\n",
      "  \"type\": \"Point\",\n",
      "  \"coordinates\": [\n",
      "    -5.0,\n",
      "    2.0\n",
      "  ]\n",
      "}\n"
     ]
    }
   ],
   "source": [
    "print(shapely.to_geojson(pt3, indent=2))"
   ]
  },
  {
   "cell_type": "markdown",
   "metadata": {},
   "source": [
    "#### `Point` attributes and functions"
   ]
  },
  {
   "cell_type": "markdown",
   "metadata": {},
   "source": [
    "Extract the coordinates:"
   ]
  },
  {
   "cell_type": "code",
   "execution_count": 19,
   "metadata": {},
   "outputs": [
    {
     "name": "stdout",
     "output_type": "stream",
     "text": [
      "5.0\n",
      "7.0\n"
     ]
    }
   ],
   "source": [
    "print(pt1.x)\n",
    "print(pt1.y)  "
   ]
  },
  {
   "cell_type": "code",
   "execution_count": 20,
   "metadata": {},
   "outputs": [
    {
     "data": {
      "text/plain": [
       "[(5.0, 7.0)]"
      ]
     },
     "execution_count": 20,
     "metadata": {},
     "output_type": "execute_result"
    }
   ],
   "source": [
    "list(pt1.coords) # Tuple of x-y coordinates"
   ]
  },
  {
   "cell_type": "code",
   "execution_count": 21,
   "metadata": {},
   "outputs": [
    {
     "data": {
      "text/plain": [
       "(array('d', [5.0]), array('d', [7.0]))"
      ]
     },
     "execution_count": 21,
     "metadata": {},
     "output_type": "execute_result"
    }
   ],
   "source": [
    "pt1.xy   #"
   ]
  },
  {
   "cell_type": "markdown",
   "metadata": {},
   "source": [
    "Convert a `Point` object into an array of point coordinates:"
   ]
  },
  {
   "cell_type": "code",
   "execution_count": 22,
   "metadata": {},
   "outputs": [
    {
     "data": {
      "text/plain": [
       "array(<POINT (5 7)>, dtype=object)"
      ]
     },
     "execution_count": 22,
     "metadata": {},
     "output_type": "execute_result"
    }
   ],
   "source": [
    "np.array(pt1)"
   ]
  },
  {
   "cell_type": "markdown",
   "metadata": {},
   "source": [
    "Compute the area and the length:"
   ]
  },
  {
   "cell_type": "code",
   "execution_count": 18,
   "metadata": {},
   "outputs": [
    {
     "name": "stdout",
     "output_type": "stream",
     "text": [
      "0.0\n",
      "0.0\n"
     ]
    }
   ],
   "source": [
    "print(pt1.area)\n",
    "print(pt1.length)"
   ]
  },
  {
   "cell_type": "markdown",
   "metadata": {},
   "source": [
    "Compute the distance between the two points:"
   ]
  },
  {
   "cell_type": "code",
   "execution_count": 23,
   "metadata": {},
   "outputs": [
    {
     "data": {
      "text/plain": [
       "5.0"
      ]
     },
     "execution_count": 23,
     "metadata": {},
     "output_type": "execute_result"
    }
   ],
   "source": [
    "pt1.distance(pt2)"
   ]
  },
  {
   "cell_type": "markdown",
   "metadata": {},
   "source": [
    "#### Plot using Matplotlib"
   ]
  },
  {
   "cell_type": "code",
   "execution_count": 24,
   "metadata": {},
   "outputs": [
    {
     "data": {
      "image/png": "[encoded data removed]",
      "text/plain": [
       "<Figure size 432x288 with 1 Axes>"
      ]
     },
     "metadata": {
      "needs_background": "light"
     },
     "output_type": "display_data"
    }
   ],
   "source": [
    "fig, ax = plt.subplots()\n",
    "pts = list(pt1.coords)\n",
    "x1,y1 = zip(*pts)\n",
    "\n",
    "pts = list(pt2.coords)\n",
    "x2,y2 = zip(*pts)\n",
    "\n",
    "ax.plot(x1, y1,  marker=\"o\", markersize=10)\n",
    "ax.plot(x2, y2,  marker=\"*\", markersize=10)\n",
    "\n",
    "ax.set_xlim([0,15])\n",
    "ax.set_ylim([0,15]);"
   ]
  },
  {
   "cell_type": "markdown",
   "metadata": {},
   "source": [
    "### <font color=\"green\">Breakout</font>\n",
    "\n",
    "Determine if the points `(5,5)`, `(2,7)` and (`7,8)` form a right triangle.\n"
   ]
  },
  {
   "cell_type": "markdown",
   "metadata": {},
   "source": [
    "<details><summary><b><font color=\"green\">Click here to access the solution</font></b></summary>\n",
    "<p>\n",
    "\n",
    "```python\n",
    "pt1 = shpgeom.Point(5,5)\n",
    "pt2 = shpgeom.Point(2,7)\n",
    "pt3 = shpgeom.Point(7,8)\n",
    "\n",
    "A = pt2.distance(pt1)\n",
    "B = pt1.distance(pt3)\n",
    "C = pt3.distance(pt2)\n",
    "\n",
    "assert A**2 + B**2 == C**2\n",
    "```\n",
    "</details>"
   ]
  },
  {
   "cell_type": "markdown",
   "metadata": {},
   "source": [
    "## <font color=\"blue\"> MultiPoint Object</font>"
   ]
  },
  {
   "cell_type": "code",
   "execution_count": 25,
   "metadata": {},
   "outputs": [
    {
     "data": {
      "image/svg+xml": [
       "<svg xmlns=\"http://www.w3.org/2000/svg\" xmlns:xlink=\"http://www.w3.org/1999/xlink\" width=\"100.0\" height=\"100.0\" viewBox=\"0.84 3.84 4.32 3.3200000000000003\" preserveAspectRatio=\"xMinYMin meet\"><g transform=\"matrix(1,0,0,-1,0,11.0)\"><g><circle cx=\"5.0\" cy=\"7.0\" r=\"0.1296\" stroke=\"#555555\" stroke-width=\"0.0432\" fill=\"#66cc99\" opacity=\"0.6\" /><circle cx=\"1.0\" cy=\"4.0\" r=\"0.1296\" stroke=\"#555555\" stroke-width=\"0.0432\" fill=\"#66cc99\" opacity=\"0.6\" /></g></g></svg>"
      ],
      "text/plain": [
       "<MULTIPOINT (5 7, 1 4)>"
      ]
     },
     "execution_count": 25,
     "metadata": {},
     "output_type": "execute_result"
    }
   ],
   "source": [
    "points = shpgeom.MultiPoint([(5, 7), (1, 4)])\n",
    "points"
   ]
  },
  {
   "cell_type": "markdown",
   "metadata": {},
   "source": [
    "#### Using the GeosJSON formulation"
   ]
  },
  {
   "cell_type": "code",
   "execution_count": 26,
   "metadata": {},
   "outputs": [
    {
     "data": {
      "image/svg+xml": [
       "<svg xmlns=\"http://www.w3.org/2000/svg\" xmlns:xlink=\"http://www.w3.org/1999/xlink\" width=\"100.0\" height=\"100.0\" viewBox=\"0.84 3.84 4.32 3.3200000000000003\" preserveAspectRatio=\"xMinYMin meet\"><g transform=\"matrix(1,0,0,-1,0,11.0)\"><g><circle cx=\"5.0\" cy=\"7.0\" r=\"0.1296\" stroke=\"#555555\" stroke-width=\"0.0432\" fill=\"#66cc99\" opacity=\"0.6\" /><circle cx=\"1.0\" cy=\"4.0\" r=\"0.1296\" stroke=\"#555555\" stroke-width=\"0.0432\" fill=\"#66cc99\" opacity=\"0.6\" /></g></g></svg>"
      ],
      "text/plain": [
       "<MULTIPOINT (5 7, 1 4)>"
      ]
     },
     "execution_count": 26,
     "metadata": {},
     "output_type": "execute_result"
    }
   ],
   "source": [
    "d = {\n",
    "    'type': 'MultiPoint', \n",
    "    'coordinates': [\n",
    "        (5, 7),\n",
    "        (1, 4)\n",
    "    ]\n",
    "}\n",
    "points2 = shpgeom.shape(d)\n",
    "points2"
   ]
  },
  {
   "cell_type": "markdown",
   "metadata": {},
   "source": [
    "#### Turn the points `pt1` and `pt2` into a MultiPoint object"
   ]
  },
  {
   "cell_type": "code",
   "execution_count": 27,
   "metadata": {},
   "outputs": [
    {
     "data": {
      "image/svg+xml": [
       "<svg xmlns=\"http://www.w3.org/2000/svg\" xmlns:xlink=\"http://www.w3.org/1999/xlink\" width=\"100.0\" height=\"100.0\" viewBox=\"0.84 3.84 4.32 3.3200000000000003\" preserveAspectRatio=\"xMinYMin meet\"><g transform=\"matrix(1,0,0,-1,0,11.0)\"><g><circle cx=\"5.0\" cy=\"7.0\" r=\"0.1296\" stroke=\"#555555\" stroke-width=\"0.0432\" fill=\"#66cc99\" opacity=\"0.6\" /><circle cx=\"1.0\" cy=\"4.0\" r=\"0.1296\" stroke=\"#555555\" stroke-width=\"0.0432\" fill=\"#66cc99\" opacity=\"0.6\" /></g></g></svg>"
      ],
      "text/plain": [
       "<MULTIPOINT (5 7, 1 4)>"
      ]
     },
     "execution_count": 27,
     "metadata": {},
     "output_type": "execute_result"
    }
   ],
   "source": [
    "points = shpgeom.MultiPoint([pt1, pt2])\n",
    "points"
   ]
  },
  {
   "cell_type": "markdown",
   "metadata": {},
   "source": [
    "Get the GeoJSON representation:"
   ]
  },
  {
   "cell_type": "code",
   "execution_count": 28,
   "metadata": {},
   "outputs": [
    {
     "name": "stdout",
     "output_type": "stream",
     "text": [
      "{\n",
      "  \"type\": \"MultiPoint\",\n",
      "  \"coordinates\": [\n",
      "    [\n",
      "      5.0,\n",
      "      7.0\n",
      "    ],\n",
      "    [\n",
      "      1.0,\n",
      "      4.0\n",
      "    ]\n",
      "  ]\n",
      "}\n"
     ]
    }
   ],
   "source": [
    "print(shapely.to_geojson(points, indent=2))"
   ]
  },
  {
   "cell_type": "markdown",
   "metadata": {},
   "source": [
    "#### `MultiPoint` attributes and functions"
   ]
  },
  {
   "cell_type": "markdown",
   "metadata": {},
   "source": [
    "Find the centroid:"
   ]
  },
  {
   "cell_type": "code",
   "execution_count": 29,
   "metadata": {},
   "outputs": [
    {
     "data": {
      "text/plain": [
       "array(<POINT (3 5.5)>, dtype=object)"
      ]
     },
     "execution_count": 29,
     "metadata": {},
     "output_type": "execute_result"
    }
   ],
   "source": [
    "np.array(points.centroid)"
   ]
  },
  {
   "cell_type": "markdown",
   "metadata": {},
   "source": [
    "Get the list points in the object:"
   ]
  },
  {
   "cell_type": "code",
   "execution_count": 30,
   "metadata": {},
   "outputs": [
    {
     "data": {
      "text/plain": [
       "2"
      ]
     },
     "execution_count": 30,
     "metadata": {},
     "output_type": "execute_result"
    }
   ],
   "source": [
    "len(points.geoms)"
   ]
  },
  {
   "cell_type": "code",
   "execution_count": 31,
   "metadata": {},
   "outputs": [
    {
     "data": {
      "text/plain": [
       "[<POINT (5 7)>, <POINT (1 4)>]"
      ]
     },
     "execution_count": 31,
     "metadata": {},
     "output_type": "execute_result"
    }
   ],
   "source": [
    "list(points.geoms)"
   ]
  },
  {
   "cell_type": "code",
   "execution_count": 32,
   "metadata": {},
   "outputs": [
    {
     "data": {
      "text/plain": [
       "[(5.0, 7.0)]"
      ]
     },
     "execution_count": 32,
     "metadata": {},
     "output_type": "execute_result"
    }
   ],
   "source": [
    "list(points.geoms[0].coords)"
   ]
  },
  {
   "cell_type": "code",
   "execution_count": 33,
   "metadata": {},
   "outputs": [
    {
     "data": {
      "text/plain": [
       "[(1.0, 4.0)]"
      ]
     },
     "execution_count": 33,
     "metadata": {},
     "output_type": "execute_result"
    }
   ],
   "source": [
    "list(points.geoms[1].coords)"
   ]
  },
  {
   "cell_type": "markdown",
   "metadata": {},
   "source": [
    "#### Plot"
   ]
  },
  {
   "cell_type": "code",
   "execution_count": 34,
   "metadata": {},
   "outputs": [
    {
     "data": {
      "image/png": "[encoded data removed]",
      "text/plain": [
       "<Figure size 432x288 with 1 Axes>"
      ]
     },
     "metadata": {
      "needs_background": "light"
     },
     "output_type": "display_data"
    }
   ],
   "source": [
    "fig, ax = plt.subplots()\n",
    "pts = list()\n",
    "for i in range(len(points.geoms)):\n",
    "    pts.append(points.geoms[i].coords[0])\n",
    "\n",
    "x,y = zip(*pts)\n",
    "\n",
    "ax.scatter(x, y, c=[\"green\", \"red\"])\n",
    "\n",
    "ax.set_xlim([0,15])\n",
    "ax.set_ylim([0,15]);"
   ]
  },
  {
   "cell_type": "code",
   "execution_count": 35,
   "metadata": {},
   "outputs": [
    {
     "data": {
      "text/plain": [
       "<matplotlib.lines.Line2D at 0x7f804d4b7700>"
      ]
     },
     "execution_count": 35,
     "metadata": {},
     "output_type": "execute_result"
    },
    {
     "data": {
      "image/png": "[encoded data removed]",
      "text/plain": [
       "<Figure size 432x288 with 1 Axes>"
      ]
     },
     "metadata": {
      "needs_background": "light"
     },
     "output_type": "display_data"
    }
   ],
   "source": [
    "shpplt.plot_points(points)"
   ]
  },
  {
   "cell_type": "code",
   "execution_count": null,
   "metadata": {},
   "outputs": [],
   "source": []
  },
  {
   "cell_type": "markdown",
   "metadata": {},
   "source": [
    "### <font color=\"green\"> Breakout </font>\n",
    "\n",
    "Consider:\n",
    "\n",
    "```python\n",
    "POINTS = [\n",
    "    (0, 4275),\n",
    "    (1225, 5500),\n",
    "    (3500, 5500),\n",
    "    (4220, 4970),\n",
    "    (4220, 2025),\n",
    "    (3000, 732),\n",
    "    (1140, 732),\n",
    "    (0, 1500)\n",
    "]\n",
    "\n",
    "my_polygon = shpgeom.MultiPoint(POINTS).convex_hull\n",
    "```\n",
    "Write a function that takes an argument `x` and `y` and determine if the point `(x, y)` is within `my_polygon`. We assume that `x` is a random integer between `1` and `4367`, and `y` is a random integer between `730` and `5720`.\n",
    "\n",
    "**Hint:** Consider the function `Point.within()`."
   ]
  },
  {
   "cell_type": "markdown",
   "metadata": {},
   "source": [
    "<details><summary><b><font color=\"green\">Click here to access the solution</font></b></summary>\n",
    "<p>\n",
    "\n",
    "```python\n",
    "POINTS = [\n",
    "    (0, 4275),\n",
    "    (1225, 5500),\n",
    "    (3500, 5500),\n",
    "    (4220, 4970),\n",
    "    (4220, 2025),\n",
    "    (3000, 732),\n",
    "    (1140, 732),\n",
    "    (0, 1500)\n",
    "]\n",
    "\n",
    "my_polygon = shpgeom.MultiPoint(POINTS).convex_hull\n",
    "shpplt.plot_polygon(my_polygon);\n",
    "\n",
    "def check_point(x, y):\n",
    "    my_point = shpgeom.Point(x,y)\n",
    "    return my_point.within(my_polygon)\n",
    "\n",
    "import random\n",
    "\n",
    "x = random.randint(1, 4367)\n",
    "y = random.randint(730, 5720)\n",
    "in_polygon = check_point(x, y)\n",
    "print(f\"The point ({x},{y}) is in the polygon? {in_polygon}\")\n",
    "```\n",
    "</details>"
   ]
  },
  {
   "cell_type": "markdown",
   "metadata": {},
   "source": [
    "## <font color=\"blue\"> LineString Object</font>\n",
    "\n",
    "- Created using a list of tuples (represnting points).\n",
    "- They can cross themselves.\n",
    "- The order of points is important as it determines the order in which you pass through them."
   ]
  },
  {
   "cell_type": "code",
   "execution_count": 40,
   "metadata": {},
   "outputs": [
    {
     "data": {
      "image/svg+xml": [
       "<svg xmlns=\"http://www.w3.org/2000/svg\" xmlns:xlink=\"http://www.w3.org/1999/xlink\" width=\"100.0\" height=\"100.0\" viewBox=\"-1.3599999999999999 1.6400000000000001 9.719999999999999 5.720000000000001\" preserveAspectRatio=\"xMinYMin meet\"><g transform=\"matrix(1,0,0,-1,0,9.0)\"><polyline fill=\"none\" stroke=\"#66cc99\" stroke-width=\"0.1944\" points=\"5.0,7.0 3.0,4.0 -1.0,3.0 6.0,2.0 8.0,5.0\" opacity=\"0.8\" /></g></svg>"
      ],
      "text/plain": [
       "<LINESTRING (5 7, 3 4, -1 3, 6 2, 8 5)>"
      ]
     },
     "execution_count": 40,
     "metadata": {},
     "output_type": "execute_result"
    }
   ],
   "source": [
    "line1 = shpgeom.LineString([(5, 7), (3,4), (-1, 3), (6,2), (8, 5)])\n",
    "line1"
   ]
  },
  {
   "cell_type": "markdown",
   "metadata": {},
   "source": [
    "#### Using the WKT formulation"
   ]
  },
  {
   "cell_type": "code",
   "execution_count": 41,
   "metadata": {},
   "outputs": [
    {
     "data": {
      "image/svg+xml": [
       "<svg xmlns=\"http://www.w3.org/2000/svg\" xmlns:xlink=\"http://www.w3.org/1999/xlink\" width=\"100.0\" height=\"100.0\" viewBox=\"-1.3599999999999999 1.6400000000000001 9.719999999999999 5.720000000000001\" preserveAspectRatio=\"xMinYMin meet\"><g transform=\"matrix(1,0,0,-1,0,9.0)\"><polyline fill=\"none\" stroke=\"#66cc99\" stroke-width=\"0.1944\" points=\"5.0,7.0 3.0,4.0 -1.0,3.0 6.0,2.0 8.0,5.0\" opacity=\"0.8\" /></g></svg>"
      ],
      "text/plain": [
       "<LINESTRING (5 7, 3 4, -1 3, 6 2, 8 5)>"
      ]
     },
     "execution_count": 41,
     "metadata": {},
     "output_type": "execute_result"
    }
   ],
   "source": [
    "line2 = shpwkt.loads('LINESTRING (5 7, 3 4, -1 3, 6 2, 8 5)')\n",
    "line2"
   ]
  },
  {
   "cell_type": "markdown",
   "metadata": {},
   "source": [
    "#### Using the GeosJSON formulation"
   ]
  },
  {
   "cell_type": "code",
   "execution_count": 42,
   "metadata": {},
   "outputs": [
    {
     "data": {
      "image/svg+xml": [
       "<svg xmlns=\"http://www.w3.org/2000/svg\" xmlns:xlink=\"http://www.w3.org/1999/xlink\" width=\"100.0\" height=\"100.0\" viewBox=\"-1.3599999999999999 1.6400000000000001 9.719999999999999 5.720000000000001\" preserveAspectRatio=\"xMinYMin meet\"><g transform=\"matrix(1,0,0,-1,0,9.0)\"><polyline fill=\"none\" stroke=\"#66cc99\" stroke-width=\"0.1944\" points=\"5.0,7.0 3.0,4.0 -1.0,3.0 6.0,2.0 8.0,5.0\" opacity=\"0.8\" /></g></svg>"
      ],
      "text/plain": [
       "<LINESTRING (5 7, 3 4, -1 3, 6 2, 8 5)>"
      ]
     },
     "execution_count": 42,
     "metadata": {},
     "output_type": "execute_result"
    }
   ],
   "source": [
    "d = {\n",
    "    'type': 'LineString', \n",
    "    'coordinates': [\n",
    "        (5, 7), (3,4), (-1, 3), (6,2), (8, 5)\n",
    "    ]\n",
    "}\n",
    "line3 = shpgeom.shape(d)\n",
    "line3"
   ]
  },
  {
   "cell_type": "markdown",
   "metadata": {},
   "source": [
    "#### `LineString` attributes and functions"
   ]
  },
  {
   "cell_type": "markdown",
   "metadata": {},
   "source": [
    "Extract the coordinates"
   ]
  },
  {
   "cell_type": "code",
   "execution_count": 43,
   "metadata": {},
   "outputs": [
    {
     "data": {
      "text/plain": [
       "(array('d', [5.0, 3.0, -1.0, 6.0, 8.0]), array('d', [7.0, 4.0, 3.0, 2.0, 5.0]))"
      ]
     },
     "execution_count": 43,
     "metadata": {},
     "output_type": "execute_result"
    }
   ],
   "source": [
    "line1.xy"
   ]
  },
  {
   "cell_type": "code",
   "execution_count": 44,
   "metadata": {},
   "outputs": [
    {
     "data": {
      "text/plain": [
       "[5.0, 3.0, -1.0, 6.0, 8.0]"
      ]
     },
     "execution_count": 44,
     "metadata": {},
     "output_type": "execute_result"
    }
   ],
   "source": [
    "list(line1.xy[0])"
   ]
  },
  {
   "cell_type": "code",
   "execution_count": 45,
   "metadata": {},
   "outputs": [
    {
     "data": {
      "text/plain": [
       "[7.0, 4.0, 3.0, 2.0, 5.0]"
      ]
     },
     "execution_count": 45,
     "metadata": {},
     "output_type": "execute_result"
    }
   ],
   "source": [
    "list(line1.xy[-1])"
   ]
  },
  {
   "cell_type": "code",
   "execution_count": 46,
   "metadata": {},
   "outputs": [
    {
     "data": {
      "text/plain": [
       "[(5.0, 7.0), (3.0, 4.0), (-1.0, 3.0), (6.0, 2.0), (8.0, 5.0)]"
      ]
     },
     "execution_count": 46,
     "metadata": {},
     "output_type": "execute_result"
    }
   ],
   "source": [
    "list(line2.coords)"
   ]
  },
  {
   "cell_type": "markdown",
   "metadata": {},
   "source": [
    "Convert a `LineString` object into an array of point coordinates:"
   ]
  },
  {
   "cell_type": "code",
   "execution_count": 47,
   "metadata": {},
   "outputs": [
    {
     "data": {
      "text/plain": [
       "array(<LINESTRING (5 7, 3 4, -1 3, 6 2, 8 5)>, dtype=object)"
      ]
     },
     "execution_count": 47,
     "metadata": {},
     "output_type": "execute_result"
    }
   ],
   "source": [
    "np.array(line1)"
   ]
  },
  {
   "cell_type": "markdown",
   "metadata": {},
   "source": [
    "Compute the length of the line:"
   ]
  },
  {
   "cell_type": "code",
   "execution_count": 48,
   "metadata": {},
   "outputs": [
    {
     "data": {
      "text/plain": [
       "18.405275988411113"
      ]
     },
     "execution_count": 48,
     "metadata": {},
     "output_type": "execute_result"
    }
   ],
   "source": [
    "line1.length"
   ]
  },
  {
   "cell_type": "markdown",
   "metadata": {},
   "source": [
    "Get the centroid:"
   ]
  },
  {
   "cell_type": "code",
   "execution_count": 113,
   "metadata": {},
   "outputs": [
    {
     "data": {
      "image/svg+xml": [
       "<svg xmlns=\"http://www.w3.org/2000/svg\" xmlns:xlink=\"http://www.w3.org/1999/xlink\" width=\"100.0\" height=\"100.0\" viewBox=\"2.3393598240028943 2.5076084020229135 2.0 2.0000000000000004\" preserveAspectRatio=\"xMinYMin meet\"><g transform=\"matrix(1,0,0,-1,0,7.015216804045828)\"><circle cx=\"3.3393598240028943\" cy=\"3.5076084020229135\" r=\"0.06000000000000001\" stroke=\"#555555\" stroke-width=\"0.020000000000000004\" fill=\"#66cc99\" opacity=\"0.6\" /></g></svg>"
      ],
      "text/plain": [
       "<POINT (3.339 3.508)>"
      ]
     },
     "execution_count": 113,
     "metadata": {},
     "output_type": "execute_result"
    }
   ],
   "source": [
    "line1.centroid"
   ]
  },
  {
   "cell_type": "code",
   "execution_count": 114,
   "metadata": {},
   "outputs": [
    {
     "name": "stdout",
     "output_type": "stream",
     "text": [
      "POINT (3.3393598240028943 3.5076084020229135)\n"
     ]
    }
   ],
   "source": [
    "print(line1.centroid)"
   ]
  },
  {
   "cell_type": "markdown",
   "metadata": {},
   "source": [
    "#### Plot using Matplotlib"
   ]
  },
  {
   "cell_type": "code",
   "execution_count": 49,
   "metadata": {},
   "outputs": [
    {
     "data": {
      "image/png": "[encoded data removed]",
      "text/plain": [
       "<Figure size 432x288 with 1 Axes>"
      ]
     },
     "metadata": {
      "needs_background": "light"
     },
     "output_type": "display_data"
    }
   ],
   "source": [
    "fig, ax = plt.subplots()\n",
    "pts = list(line1.coords)\n",
    "x,y = zip(*pts)\n",
    "ax.plot(x, y)\n",
    "ax.set_xlim([-2,13])\n",
    "ax.set_ylim([0,10]);"
   ]
  },
  {
   "cell_type": "code",
   "execution_count": 50,
   "metadata": {},
   "outputs": [
    {
     "data": {
      "text/plain": [
       "(<matplotlib.patches.PathPatch at 0x7f804e8adf40>,\n",
       " <matplotlib.lines.Line2D at 0x7f804e8c0220>)"
      ]
     },
     "execution_count": 50,
     "metadata": {},
     "output_type": "execute_result"
    },
    {
     "data": {
      "image/png": "[encoded data removed]",
      "text/plain": [
       "<Figure size 432x288 with 1 Axes>"
      ]
     },
     "metadata": {
      "needs_background": "light"
     },
     "output_type": "display_data"
    }
   ],
   "source": [
    "shpplt.plot_line(line1)"
   ]
  },
  {
   "cell_type": "markdown",
   "metadata": {},
   "source": [
    "Compute the distance between a point and the line:"
   ]
  },
  {
   "cell_type": "code",
   "execution_count": 51,
   "metadata": {},
   "outputs": [
    {
     "data": {
      "text/plain": [
       "0.48507125007266594"
      ]
     },
     "execution_count": 51,
     "metadata": {},
     "output_type": "execute_result"
    }
   ],
   "source": [
    "pt2.distance(line2)"
   ]
  },
  {
   "cell_type": "markdown",
   "metadata": {},
   "source": [
    "Determine the point projection on the line:"
   ]
  },
  {
   "cell_type": "code",
   "execution_count": 52,
   "metadata": {},
   "outputs": [
    {
     "data": {
      "text/plain": [
       "5.545836275754652"
      ]
     },
     "execution_count": 52,
     "metadata": {},
     "output_type": "execute_result"
    }
   ],
   "source": [
    "line2.project(pt2)"
   ]
  },
  {
   "cell_type": "markdown",
   "metadata": {},
   "source": [
    "## <font color=\"blue\"> MultiLineString Object</font>"
   ]
  },
  {
   "cell_type": "code",
   "execution_count": 53,
   "metadata": {},
   "outputs": [
    {
     "data": {
      "image/svg+xml": [
       "<svg xmlns=\"http://www.w3.org/2000/svg\" xmlns:xlink=\"http://www.w3.org/1999/xlink\" width=\"100.0\" height=\"100.0\" viewBox=\"-1.92 -4.92 20.840000000000003 24.840000000000003\" preserveAspectRatio=\"xMinYMin meet\"><g transform=\"matrix(1,0,0,-1,0,15.000000000000002)\"><g><polyline fill=\"none\" stroke=\"#66cc99\" stroke-width=\"0.4968000000000001\" points=\"0.0,0.0 6.0,1.0 3.0,4.0\" opacity=\"0.8\" /><polyline fill=\"none\" stroke=\"#66cc99\" stroke-width=\"0.4968000000000001\" points=\"-1.0,-4.0 10.0,0.0 15.0,-2.0 18.0,6.0\" opacity=\"0.8\" /><polyline fill=\"none\" stroke=\"#66cc99\" stroke-width=\"0.4968000000000001\" points=\"10.0,7.0 16.0,19.0\" opacity=\"0.8\" /></g></g></svg>"
      ],
      "text/plain": [
       "<MULTILINESTRING ((0 0, 6 1, 3 4), (-1 -4, 10 0, 15 -2, 18 6), (10 7, 16 19))>"
      ]
     },
     "execution_count": 53,
     "metadata": {},
     "output_type": "execute_result"
    }
   ],
   "source": [
    "coords = [((0, 0), (6, 1), (3, 4)), \n",
    "          ((-1, -4), (10, 0), (15, -2), (18, 6)),\n",
    "          ((10, 7), (16, 19))\n",
    "         ]\n",
    "lines = shpgeom.MultiLineString(coords)\n",
    "lines"
   ]
  },
  {
   "cell_type": "markdown",
   "metadata": {},
   "source": [
    "#### Using the GeosJSON formulation"
   ]
  },
  {
   "cell_type": "code",
   "execution_count": 54,
   "metadata": {},
   "outputs": [
    {
     "data": {
      "image/svg+xml": [
       "<svg xmlns=\"http://www.w3.org/2000/svg\" xmlns:xlink=\"http://www.w3.org/1999/xlink\" width=\"100.0\" height=\"100.0\" viewBox=\"-1.92 -4.92 20.840000000000003 24.840000000000003\" preserveAspectRatio=\"xMinYMin meet\"><g transform=\"matrix(1,0,0,-1,0,15.000000000000002)\"><g><polyline fill=\"none\" stroke=\"#66cc99\" stroke-width=\"0.4968000000000001\" points=\"0.0,0.0 6.0,1.0 3.0,4.0\" opacity=\"0.8\" /><polyline fill=\"none\" stroke=\"#66cc99\" stroke-width=\"0.4968000000000001\" points=\"-1.0,-4.0 10.0,0.0 15.0,-2.0 18.0,6.0\" opacity=\"0.8\" /><polyline fill=\"none\" stroke=\"#66cc99\" stroke-width=\"0.4968000000000001\" points=\"10.0,7.0 16.0,19.0\" opacity=\"0.8\" /></g></g></svg>"
      ],
      "text/plain": [
       "<MULTILINESTRING ((0 0, 6 1, 3 4), (-1 -4, 10 0, 15 -2, 18 6), (10 7, 16 19))>"
      ]
     },
     "execution_count": 54,
     "metadata": {},
     "output_type": "execute_result"
    }
   ],
   "source": [
    "d = {\n",
    "    'type': 'MultiLineString', \n",
    "    'coordinates': coords\n",
    "}\n",
    "lines2 = shpgeom.shape(d)\n",
    "lines2"
   ]
  },
  {
   "cell_type": "code",
   "execution_count": null,
   "metadata": {},
   "outputs": [],
   "source": []
  },
  {
   "cell_type": "code",
   "execution_count": 55,
   "metadata": {},
   "outputs": [
    {
     "data": {
      "text/plain": [
       "49.3756795455879"
      ]
     },
     "execution_count": 55,
     "metadata": {},
     "output_type": "execute_result"
    }
   ],
   "source": [
    "lines.length"
   ]
  },
  {
   "cell_type": "code",
   "execution_count": 56,
   "metadata": {},
   "outputs": [
    {
     "data": {
      "text/plain": [
       "3"
      ]
     },
     "execution_count": 56,
     "metadata": {},
     "output_type": "execute_result"
    }
   ],
   "source": [
    "len(lines.geoms)"
   ]
  },
  {
   "cell_type": "code",
   "execution_count": 57,
   "metadata": {},
   "outputs": [
    {
     "data": {
      "text/plain": [
       "(-1.0, -4.0, 18.0, 19.0)"
      ]
     },
     "execution_count": 57,
     "metadata": {},
     "output_type": "execute_result"
    }
   ],
   "source": [
    "lines.bounds"
   ]
  },
  {
   "cell_type": "code",
   "execution_count": 58,
   "metadata": {},
   "outputs": [
    {
     "data": {
      "text/plain": [
       "[<LINESTRING (0 0, 6 1, 3 4)>,\n",
       " <LINESTRING (-1 -4, 10 0, 15 -2, 18 6)>,\n",
       " <LINESTRING (10 7, 16 19)>]"
      ]
     },
     "execution_count": 58,
     "metadata": {},
     "output_type": "execute_result"
    }
   ],
   "source": [
    "list(lines.geoms)"
   ]
  },
  {
   "cell_type": "code",
   "execution_count": 59,
   "metadata": {},
   "outputs": [
    {
     "data": {
      "text/plain": [
       "(<matplotlib.patches.PathPatch at 0x7f804e9b78b0>,\n",
       " <matplotlib.lines.Line2D at 0x7f804e9b7ca0>)"
      ]
     },
     "execution_count": 59,
     "metadata": {},
     "output_type": "execute_result"
    },
    {
     "data": {
      "image/png": "[encoded data removed]",
      "text/plain": [
       "<Figure size 432x288 with 1 Axes>"
      ]
     },
     "metadata": {
      "needs_background": "light"
     },
     "output_type": "display_data"
    }
   ],
   "source": [
    "shpplt.plot_line(lines)"
   ]
  },
  {
   "cell_type": "markdown",
   "metadata": {},
   "source": [
    "## <font color=\"blue\"> Polygon Object</font>"
   ]
  },
  {
   "cell_type": "code",
   "execution_count": 60,
   "metadata": {},
   "outputs": [
    {
     "data": {
      "image/svg+xml": [
       "<svg xmlns=\"http://www.w3.org/2000/svg\" xmlns:xlink=\"http://www.w3.org/1999/xlink\" width=\"194.39999999999998\" height=\"174.39999999999998\" viewBox=\"12.8 12.8 194.39999999999998 174.39999999999998\" preserveAspectRatio=\"xMinYMin meet\"><g transform=\"matrix(1,0,0,-1,0,200.0)\"><path fill-rule=\"evenodd\" fill=\"#66cc99\" stroke=\"#555555\" stroke-width=\"2.0\" opacity=\"0.6\" d=\"M 20.0,20.0 L 200.0,20.0 L 200.0,180.0 L 20.0,180.0 L 20.0,20.0 z\" /></g></svg>"
      ],
      "text/plain": [
       "<POLYGON ((20 20, 200 20, 200 180, 20 180, 20 20))>"
      ]
     },
     "execution_count": 60,
     "metadata": {},
     "output_type": "execute_result"
    }
   ],
   "source": [
    "coords = [(20, 20), (200, 20), (200, 180), (20, 180)]\n",
    "poly1 = shpgeom.Polygon(coords)\n",
    "poly1"
   ]
  },
  {
   "cell_type": "markdown",
   "metadata": {},
   "source": [
    "#### Use the WKT formulation"
   ]
  },
  {
   "cell_type": "code",
   "execution_count": 61,
   "metadata": {},
   "outputs": [
    {
     "data": {
      "image/svg+xml": [
       "<svg xmlns=\"http://www.w3.org/2000/svg\" xmlns:xlink=\"http://www.w3.org/1999/xlink\" width=\"194.39999999999998\" height=\"174.39999999999998\" viewBox=\"12.8 12.8 194.39999999999998 174.39999999999998\" preserveAspectRatio=\"xMinYMin meet\"><g transform=\"matrix(1,0,0,-1,0,200.0)\"><path fill-rule=\"evenodd\" fill=\"#66cc99\" stroke=\"#555555\" stroke-width=\"2.0\" opacity=\"0.6\" d=\"M 20.0,20.0 L 200.0,20.0 L 200.0,180.0 L 20.0,180.0 L 20.0,20.0 z\" /></g></svg>"
      ],
      "text/plain": [
       "<POLYGON ((20 20, 200 20, 200 180, 20 180, 20 20))>"
      ]
     },
     "execution_count": 61,
     "metadata": {},
     "output_type": "execute_result"
    }
   ],
   "source": [
    "poly2 = shpwkt.loads('POLYGON ((20 20, 200 20, 200 180, 20 180, 20 20))')\n",
    "poly2"
   ]
  },
  {
   "cell_type": "markdown",
   "metadata": {},
   "source": [
    "#### Use the GeoJSON formulation"
   ]
  },
  {
   "cell_type": "code",
   "execution_count": 62,
   "metadata": {},
   "outputs": [
    {
     "data": {
      "image/svg+xml": [
       "<svg xmlns=\"http://www.w3.org/2000/svg\" xmlns:xlink=\"http://www.w3.org/1999/xlink\" width=\"194.39999999999998\" height=\"174.39999999999998\" viewBox=\"12.8 12.8 194.39999999999998 174.39999999999998\" preserveAspectRatio=\"xMinYMin meet\"><g transform=\"matrix(1,0,0,-1,0,200.0)\"><path fill-rule=\"evenodd\" fill=\"#66cc99\" stroke=\"#555555\" stroke-width=\"2.0\" opacity=\"0.6\" d=\"M 20.0,20.0 L 200.0,20.0 L 200.0,180.0 L 20.0,180.0 L 20.0,20.0 z\" /></g></svg>"
      ],
      "text/plain": [
       "<POLYGON ((20 20, 200 20, 200 180, 20 180, 20 20))>"
      ]
     },
     "execution_count": 62,
     "metadata": {},
     "output_type": "execute_result"
    }
   ],
   "source": [
    "coords2 = [\n",
    "    [(20, 20), (200, 20), (200, 180), (20, 180)]\n",
    "]\n",
    "d = {\n",
    "  'type': 'Polygon',\n",
    "  'coordinates': coords2\n",
    "}\n",
    "shapely.geometry.shape(d)"
   ]
  },
  {
   "cell_type": "code",
   "execution_count": 63,
   "metadata": {},
   "outputs": [
    {
     "data": {
      "text/plain": [
       "{'type': 'Polygon',\n",
       " 'coordinates': (((20.0, 20.0),\n",
       "   (200.0, 20.0),\n",
       "   (200.0, 180.0),\n",
       "   (20.0, 180.0),\n",
       "   (20.0, 20.0)),)}"
      ]
     },
     "execution_count": 63,
     "metadata": {},
     "output_type": "execute_result"
    }
   ],
   "source": [
    "shpgeom.mapping(poly1)"
   ]
  },
  {
   "cell_type": "markdown",
   "metadata": {},
   "source": [
    "#### Extract the coordinates"
   ]
  },
  {
   "cell_type": "code",
   "execution_count": 64,
   "metadata": {},
   "outputs": [
    {
     "data": {
      "text/plain": [
       "(array('d', [20.0, 200.0, 200.0, 20.0, 20.0]),\n",
       " array('d', [20.0, 20.0, 180.0, 180.0, 20.0]))"
      ]
     },
     "execution_count": 64,
     "metadata": {},
     "output_type": "execute_result"
    }
   ],
   "source": [
    "poly1.exterior.xy"
   ]
  },
  {
   "cell_type": "code",
   "execution_count": 65,
   "metadata": {},
   "outputs": [
    {
     "data": {
      "text/plain": [
       "[(20.0, 20.0), (200.0, 20.0), (200.0, 180.0), (20.0, 180.0), (20.0, 20.0)]"
      ]
     },
     "execution_count": 65,
     "metadata": {},
     "output_type": "execute_result"
    }
   ],
   "source": [
    "list(poly1.exterior.coords)"
   ]
  },
  {
   "cell_type": "code",
   "execution_count": 66,
   "metadata": {},
   "outputs": [
    {
     "data": {
      "text/plain": [
       "array(<LINEARRING (20 20, 200 20, 200 180, 20 180, 20 20)>, dtype=object)"
      ]
     },
     "execution_count": 66,
     "metadata": {},
     "output_type": "execute_result"
    }
   ],
   "source": [
    "np.array(poly1.exterior)"
   ]
  },
  {
   "cell_type": "markdown",
   "metadata": {},
   "source": [
    "#### x-y bounding box is a (`minx`, `miny`, `maxx`, `maxy`) tuple."
   ]
  },
  {
   "cell_type": "code",
   "execution_count": 67,
   "metadata": {},
   "outputs": [
    {
     "data": {
      "text/plain": [
       "(20.0, 20.0, 200.0, 180.0)"
      ]
     },
     "execution_count": 67,
     "metadata": {},
     "output_type": "execute_result"
    }
   ],
   "source": [
    "poly1.bounds"
   ]
  },
  {
   "cell_type": "markdown",
   "metadata": {},
   "source": [
    "#### Compute the area"
   ]
  },
  {
   "cell_type": "code",
   "execution_count": 68,
   "metadata": {},
   "outputs": [
    {
     "data": {
      "text/plain": [
       "28800.0"
      ]
     },
     "execution_count": 68,
     "metadata": {},
     "output_type": "execute_result"
    }
   ],
   "source": [
    "poly1.area"
   ]
  },
  {
   "cell_type": "markdown",
   "metadata": {},
   "source": [
    "#### Compute the centroid"
   ]
  },
  {
   "cell_type": "code",
   "execution_count": 69,
   "metadata": {},
   "outputs": [
    {
     "data": {
      "text/plain": [
       "array(<POINT (110 100)>, dtype=object)"
      ]
     },
     "execution_count": 69,
     "metadata": {},
     "output_type": "execute_result"
    }
   ],
   "source": [
    "np.array(poly1.centroid)"
   ]
  },
  {
   "cell_type": "markdown",
   "metadata": {},
   "source": [
    "#### Check if a point is within a polygon"
   ]
  },
  {
   "cell_type": "code",
   "execution_count": 70,
   "metadata": {},
   "outputs": [
    {
     "data": {
      "text/plain": [
       "False"
      ]
     },
     "execution_count": 70,
     "metadata": {},
     "output_type": "execute_result"
    }
   ],
   "source": [
    "pt1.within(poly1)"
   ]
  },
  {
   "cell_type": "code",
   "execution_count": 71,
   "metadata": {},
   "outputs": [
    {
     "data": {
      "text/plain": [
       "True"
      ]
     },
     "execution_count": 71,
     "metadata": {},
     "output_type": "execute_result"
    }
   ],
   "source": [
    "poly1.centroid.within(poly1)"
   ]
  },
  {
   "cell_type": "markdown",
   "metadata": {},
   "source": [
    "#### Use the Shapely plotting tool"
   ]
  },
  {
   "cell_type": "code",
   "execution_count": 72,
   "metadata": {},
   "outputs": [
    {
     "data": {
      "text/plain": [
       "(<matplotlib.patches.PathPatch at 0x7f804eb79cd0>,\n",
       " <matplotlib.lines.Line2D at 0x7f804eb97160>)"
      ]
     },
     "execution_count": 72,
     "metadata": {},
     "output_type": "execute_result"
    },
    {
     "data": {
      "image/png": "[encoded data removed]",
      "text/plain": [
       "<Figure size 432x288 with 1 Axes>"
      ]
     },
     "metadata": {
      "needs_background": "light"
     },
     "output_type": "display_data"
    }
   ],
   "source": [
    "shpplt.plot_polygon(poly1)"
   ]
  },
  {
   "cell_type": "code",
   "execution_count": 73,
   "metadata": {},
   "outputs": [],
   "source": [
    "def add_polygon_patch(coords, ax, fc='blue'):\n",
    "    patch = patches.Polygon(np.array(coords.xy).T, fc=fc)\n",
    "    ax.add_patch(patch)\n",
    "\n",
    "def plot_poly(poly):\n",
    "    fig, ax = plt.subplots(1, 1)\n",
    "\n",
    "    add_polygon_patch(poly.exterior, ax)\n",
    "    for interior in poly.interiors:\n",
    "        add_polygon_patch(interior, ax, 'white')\n",
    "        \n",
    "    ax.axis('equal')"
   ]
  },
  {
   "cell_type": "code",
   "execution_count": 74,
   "metadata": {},
   "outputs": [
    {
     "data": {
      "image/png": "[encoded data removed]",
      "text/plain": [
       "<Figure size 432x288 with 1 Axes>"
      ]
     },
     "metadata": {
      "needs_background": "light"
     },
     "output_type": "display_data"
    }
   ],
   "source": [
    "plot_poly(poly1)"
   ]
  },
  {
   "cell_type": "markdown",
   "metadata": {},
   "source": [
    "#### Polygon with holes"
   ]
  },
  {
   "cell_type": "code",
   "execution_count": 75,
   "metadata": {},
   "outputs": [
    {
     "data": {
      "image/svg+xml": [
       "<svg xmlns=\"http://www.w3.org/2000/svg\" xmlns:xlink=\"http://www.w3.org/1999/xlink\" width=\"194.39999999999998\" height=\"174.39999999999998\" viewBox=\"12.8 12.8 194.39999999999998 174.39999999999998\" preserveAspectRatio=\"xMinYMin meet\"><g transform=\"matrix(1,0,0,-1,0,200.0)\"><path fill-rule=\"evenodd\" fill=\"#66cc99\" stroke=\"#555555\" stroke-width=\"2.0\" opacity=\"0.6\" d=\"M 20.0,20.0 L 200.0,20.0 L 200.0,180.0 L 20.0,180.0 L 20.0,20.0 z M 25.0,30.0 L 100.0,30.0 L 90.0,75.0 L 65.0,125.0 L 25.0,30.0 z\" /></g></svg>"
      ],
      "text/plain": [
       "<POLYGON ((20 20, 200 20, 200 180, 20 180, 20 20), (25 30, 100 30, 90 75, 65...>"
      ]
     },
     "execution_count": 75,
     "metadata": {},
     "output_type": "execute_result"
    }
   ],
   "source": [
    "poly3 = shpgeom.Polygon(\n",
    "    [(20, 20), (200, 20), (200, 180), (20, 180)],\n",
    "    [[(25, 30), (100, 30), (90, 75), (65, 125)]]\n",
    ")\n",
    "poly3"
   ]
  },
  {
   "cell_type": "code",
   "execution_count": 76,
   "metadata": {},
   "outputs": [
    {
     "data": {
      "image/svg+xml": [
       "<svg xmlns=\"http://www.w3.org/2000/svg\" xmlns:xlink=\"http://www.w3.org/1999/xlink\" width=\"194.39999999999998\" height=\"174.39999999999998\" viewBox=\"12.8 12.8 194.39999999999998 174.39999999999998\" preserveAspectRatio=\"xMinYMin meet\"><g transform=\"matrix(1,0,0,-1,0,200.0)\"><path fill-rule=\"evenodd\" fill=\"#66cc99\" stroke=\"#555555\" stroke-width=\"2.0\" opacity=\"0.6\" d=\"M 20.0,20.0 L 200.0,20.0 L 200.0,180.0 L 20.0,180.0 L 20.0,20.0 z M 25.0,30.0 L 100.0,30.0 L 90.0,75.0 L 65.0,125.0 L 25.0,30.0 z\" /></g></svg>"
      ],
      "text/plain": [
       "<POLYGON ((20 20, 200 20, 200 180, 20 180, 20 20), (25 30, 100 30, 90 75, 65...>"
      ]
     },
     "execution_count": 76,
     "metadata": {},
     "output_type": "execute_result"
    }
   ],
   "source": [
    "shpwkt.loads('POLYGON ((20 20, 200 20, 200 180, 20 180, 20 20), (25 30, 100 30, 90 75, 65 125, 25 30))')"
   ]
  },
  {
   "cell_type": "markdown",
   "metadata": {},
   "source": [
    "#### Use the GeoJSON to formulation"
   ]
  },
  {
   "cell_type": "code",
   "execution_count": 77,
   "metadata": {},
   "outputs": [
    {
     "data": {
      "image/svg+xml": [
       "<svg xmlns=\"http://www.w3.org/2000/svg\" xmlns:xlink=\"http://www.w3.org/1999/xlink\" width=\"194.39999999999998\" height=\"174.39999999999998\" viewBox=\"12.8 12.8 194.39999999999998 174.39999999999998\" preserveAspectRatio=\"xMinYMin meet\"><g transform=\"matrix(1,0,0,-1,0,200.0)\"><path fill-rule=\"evenodd\" fill=\"#66cc99\" stroke=\"#555555\" stroke-width=\"2.0\" opacity=\"0.6\" d=\"M 20.0,20.0 L 200.0,20.0 L 200.0,180.0 L 20.0,180.0 L 20.0,20.0 z M 25.0,30.0 L 100.0,30.0 L 90.0,75.0 L 65.0,125.0 L 25.0,30.0 z\" /></g></svg>"
      ],
      "text/plain": [
       "<POLYGON ((20 20, 200 20, 200 180, 20 180, 20 20), (25 30, 100 30, 90 75, 65...>"
      ]
     },
     "execution_count": 77,
     "metadata": {},
     "output_type": "execute_result"
    }
   ],
   "source": [
    "coords2 = [\n",
    "    [[20.0,20.0],[200.0,20.0],[200.0,180.0],[20.0,180.0],[20.0,20.0]],\n",
    "    [[25.0,30.0],[100.0,30.0],[90.0,75.0],[65.0,125.0],[25.0,30.0]]\n",
    "]\n",
    "d = {\n",
    "  'type': 'Polygon',\n",
    "  'coordinates': coords2\n",
    "}\n",
    "shapely.geometry.shape(d)"
   ]
  },
  {
   "cell_type": "code",
   "execution_count": 78,
   "metadata": {},
   "outputs": [
    {
     "data": {
      "image/svg+xml": [
       "<svg xmlns=\"http://www.w3.org/2000/svg\" xmlns:xlink=\"http://www.w3.org/1999/xlink\" width=\"194.39999999999998\" height=\"174.39999999999998\" viewBox=\"12.8 12.8 194.39999999999998 174.39999999999998\" preserveAspectRatio=\"xMinYMin meet\"><g transform=\"matrix(1,0,0,-1,0,200.0)\"><polyline fill=\"none\" stroke=\"#66cc99\" stroke-width=\"2.0\" points=\"20.0,20.0 200.0,20.0 200.0,180.0 20.0,180.0 20.0,20.0\" opacity=\"0.8\" /></g></svg>"
      ],
      "text/plain": [
       "<LINEARRING (20 20, 200 20, 200 180, 20 180, 20 20)>"
      ]
     },
     "execution_count": 78,
     "metadata": {},
     "output_type": "execute_result"
    }
   ],
   "source": [
    "poly3.exterior"
   ]
  },
  {
   "cell_type": "code",
   "execution_count": 79,
   "metadata": {},
   "outputs": [
    {
     "data": {
      "text/plain": [
       "[(20.0, 20.0), (200.0, 20.0), (200.0, 180.0), (20.0, 180.0), (20.0, 20.0)]"
      ]
     },
     "execution_count": 79,
     "metadata": {},
     "output_type": "execute_result"
    }
   ],
   "source": [
    "list(poly3.exterior.coords)"
   ]
  },
  {
   "cell_type": "code",
   "execution_count": 80,
   "metadata": {},
   "outputs": [
    {
     "data": {
      "text/plain": [
       "1"
      ]
     },
     "execution_count": 80,
     "metadata": {},
     "output_type": "execute_result"
    }
   ],
   "source": [
    "len(poly3.interiors)"
   ]
  },
  {
   "cell_type": "code",
   "execution_count": 81,
   "metadata": {},
   "outputs": [
    {
     "data": {
      "text/plain": [
       "[(25.0, 30.0), (100.0, 30.0), (90.0, 75.0), (65.0, 125.0), (25.0, 30.0)]"
      ]
     },
     "execution_count": 81,
     "metadata": {},
     "output_type": "execute_result"
    }
   ],
   "source": [
    "list(poly3.interiors[0].coords)"
   ]
  },
  {
   "cell_type": "markdown",
   "metadata": {},
   "source": [
    "Plotting:"
   ]
  },
  {
   "cell_type": "code",
   "execution_count": 82,
   "metadata": {},
   "outputs": [
    {
     "data": {
      "text/plain": [
       "(<matplotlib.patches.PathPatch at 0x7f804d1a7ee0>,\n",
       " <matplotlib.lines.Line2D at 0x7f804d1a7cd0>)"
      ]
     },
     "execution_count": 82,
     "metadata": {},
     "output_type": "execute_result"
    },
    {
     "data": {
      "image/png": "[encoded data removed]",
      "text/plain": [
       "<Figure size 432x288 with 1 Axes>"
      ]
     },
     "metadata": {
      "needs_background": "light"
     },
     "output_type": "display_data"
    }
   ],
   "source": [
    "shpplt.plot_polygon(poly3)"
   ]
  },
  {
   "cell_type": "code",
   "execution_count": 83,
   "metadata": {},
   "outputs": [
    {
     "data": {
      "image/png": "[encoded data removed]",
      "text/plain": [
       "<Figure size 432x288 with 1 Axes>"
      ]
     },
     "metadata": {
      "needs_background": "light"
     },
     "output_type": "display_data"
    }
   ],
   "source": [
    "plot_poly(poly3)"
   ]
  },
  {
   "cell_type": "code",
   "execution_count": null,
   "metadata": {},
   "outputs": [],
   "source": []
  },
  {
   "cell_type": "markdown",
   "metadata": {},
   "source": [
    "#### Convert LineString and point objects into Polygons"
   ]
  },
  {
   "cell_type": "code",
   "execution_count": 84,
   "metadata": {},
   "outputs": [
    {
     "data": {
      "image/svg+xml": [
       "<svg xmlns=\"http://www.w3.org/2000/svg\" xmlns:xlink=\"http://www.w3.org/1999/xlink\" width=\"100.0\" height=\"100.0\" viewBox=\"1.76 3.76 6.48 6.48\" preserveAspectRatio=\"xMinYMin meet\"><g transform=\"matrix(1,0,0,-1,0,14.0)\"><path fill-rule=\"evenodd\" fill=\"#66cc99\" stroke=\"#555555\" stroke-width=\"0.12960000000000002\" opacity=\"0.6\" d=\"M 8.0,7.0 L 7.985554180016591,6.705948579011318 L 7.942355841209691,6.414729033951615 L 7.870821007196627,6.129145968236613 L 7.77163859753386,5.851949702904731 L 7.645763793045065,5.585809789522007 L 7.494408836907636,5.3332893009411935 L 7.319031360088211,5.096820147509064 L 7.121320343559643,4.878679656440358 L 6.903179852490936,4.680968639911789 L 6.666710699058807,4.505591163092364 L 6.414190210477994,4.354236206954935 L 6.14805029709527,4.22836140246614 L 5.870854031763387,4.129178992803373 L 5.585270966048385,4.057644158790309 L 5.294051420988683,4.014445819983409 L 5.0,4.0 L 4.705948579011318,4.014445819983409 L 4.414729033951615,4.057644158790309 L 4.129145968236614,4.129178992803373 L 3.8519497029047307,4.22836140246614 L 3.585809789522007,4.354236206954935 L 3.3332893009411944,4.5055911630923635 L 3.096820147509064,4.6809686399117885 L 2.8786796564403576,4.878679656440357 L 2.680968639911789,5.096820147509064 L 2.505591163092364,5.333289300941194 L 2.354236206954935,5.585809789522006 L 2.22836140246614,5.85194970290473 L 2.1291789928033733,6.129145968236613 L 2.0576441587903087,6.414729033951614 L 2.0144458199834094,6.705948579011317 L 2.0,7.0 L 2.0144458199834094,7.294051420988682 L 2.0576441587903087,7.585270966048385 L 2.1291789928033733,7.870854031763386 L 2.2283614024661396,8.148050297095269 L 2.3542362069549347,8.414190210477994 L 2.5055911630923635,8.666710699058806 L 2.6809686399117885,8.903179852490936 L 2.878679656440357,9.121320343559642 L 3.096820147509062,9.31903136008821 L 3.3332893009411935,9.494408836907635 L 3.5858097895220062,9.645763793045065 L 3.851949702904729,9.77163859753386 L 4.129145968236613,9.870821007196627 L 4.414729033951614,9.942355841209691 L 4.705948579011318,9.98555418001659 L 4.999999999999999,10.0 L 5.29405142098868,9.98555418001659 L 5.585270966048385,9.942355841209691 L 5.870854031763386,9.870821007196627 L 6.14805029709527,9.77163859753386 L 6.414190210477993,9.645763793045065 L 6.666710699058806,9.494408836907636 L 6.903179852490936,9.31903136008821 L 7.121320343559642,9.121320343559642 L 7.31903136008821,8.903179852490938 L 7.494408836907636,8.666710699058807 L 7.645763793045065,8.414190210477994 L 7.77163859753386,8.14805029709527 L 7.870821007196627,7.870854031763387 L 7.942355841209691,7.585270966048386 L 7.985554180016591,7.294051420988682 L 8.0,7.0 z\" /></g></svg>"
      ],
      "text/plain": [
       "<POLYGON ((8 7, 7.986 6.706, 7.942 6.415, 7.871 6.129, 7.772 5.852, 7.646 5....>"
      ]
     },
     "execution_count": 84,
     "metadata": {},
     "output_type": "execute_result"
    }
   ],
   "source": [
    "poly5 = shpgeom.Point(5, 7).buffer(3)\n",
    "poly5"
   ]
  },
  {
   "cell_type": "markdown",
   "metadata": {},
   "source": [
    "This is still a polygon (not a circle in a strict sense), comprised, in this case, of `65` points:"
   ]
  },
  {
   "cell_type": "code",
   "execution_count": 85,
   "metadata": {},
   "outputs": [
    {
     "data": {
      "text/plain": [
       "65"
      ]
     },
     "execution_count": 85,
     "metadata": {},
     "output_type": "execute_result"
    }
   ],
   "source": [
    "len(np.array(poly5.exterior.coords))"
   ]
  },
  {
   "cell_type": "markdown",
   "metadata": {},
   "source": [
    "You can increase the precision from the default resolution (16), by passing resolution parameter in your buffer:"
   ]
  },
  {
   "cell_type": "code",
   "execution_count": 86,
   "metadata": {},
   "outputs": [
    {
     "data": {
      "text/plain": [
       "129"
      ]
     },
     "execution_count": 86,
     "metadata": {},
     "output_type": "execute_result"
    }
   ],
   "source": [
    "poly6 = shpgeom.Point(5, 7).buffer(3, resolution=32)\n",
    "len(np.array(poly6.exterior.coords))"
   ]
  },
  {
   "cell_type": "code",
   "execution_count": 87,
   "metadata": {},
   "outputs": [
    {
     "data": {
      "text/plain": [
       "array(<POINT (5 7)>, dtype=object)"
      ]
     },
     "execution_count": 87,
     "metadata": {},
     "output_type": "execute_result"
    }
   ],
   "source": [
    "np.array(poly5.centroid)"
   ]
  },
  {
   "cell_type": "code",
   "execution_count": 88,
   "metadata": {},
   "outputs": [
    {
     "data": {
      "image/png": "[encoded data removed]",
      "text/plain": [
       "<Figure size 432x288 with 1 Axes>"
      ]
     },
     "metadata": {
      "needs_background": "light"
     },
     "output_type": "display_data"
    }
   ],
   "source": [
    "fig, ax = plt.subplots()\n",
    "pts = list(poly5.exterior.coords)\n",
    "x,y = zip(*pts)\n",
    "ax.plot(x, y);"
   ]
  },
  {
   "cell_type": "markdown",
   "metadata": {},
   "source": [
    "Buffer allows you to easily relate polygons and other geometry objects. For example, if you want to cut a polygon by a line of a specific width:"
   ]
  },
  {
   "cell_type": "code",
   "execution_count": 89,
   "metadata": {},
   "outputs": [
    {
     "data": {
      "image/svg+xml": [
       "<svg xmlns=\"http://www.w3.org/2000/svg\" xmlns:xlink=\"http://www.w3.org/1999/xlink\" width=\"100.0\" height=\"100.0\" viewBox=\"-0.8 -0.8 21.6 21.6\" preserveAspectRatio=\"xMinYMin meet\"><g transform=\"matrix(1,0,0,-1,0,20.0)\"><g><path fill-rule=\"evenodd\" fill=\"#66cc99\" stroke=\"#555555\" stroke-width=\"0.43200000000000005\" opacity=\"0.6\" d=\"M 19.95184726672197,9.019828596704395 L 19.807852804032304,8.049096779838717 L 19.569403357322088,7.097153227455377 L 19.238795325112868,6.173165676349102 L 18.819212643483553,5.2860326317400235 L 18.314696123025453,4.444297669803978 L 17.73010453362737,3.6560671583635447 L 17.071067811865476,2.9289321881345254 L 16.343932841636455,2.269895466372631 L 15.555702330196024,1.6853038769745474 L 14.71396736825998,1.1807873565164506 L 13.826834323650898,0.7612046748871322 L 12.902846772544624,0.4305966426779104 L 11.950903220161283,0.1921471959676957 L 10.980171403295607,0.048152733278032045 L 10.0,0.0 L 9.019828596704393,0.04815273327803027 L 8.049096779838719,0.1921471959676957 L 7.097153227455378,0.4305966426779104 L 6.173165676349103,0.7612046748871322 L 5.286032631740023,1.1807873565164488 L 4.44429766980398,1.6853038769745456 L 3.6560671583635473,2.2698954663726294 L 3.6336846624415524,2.290181778187112 L 17.709818221812892,16.36631533755845 L 17.73010453362737,16.34393284163646 L 18.314696123025453,15.555702330196022 L 18.819212643483546,14.71396736825998 L 19.238795325112864,13.826834323650903 L 19.569403357322088,12.902846772544624 L 19.8078528040323,11.950903220161287 L 19.95184726672197,10.980171403295605 L 20.0,10.0 L 19.95184726672197,9.019828596704395 z\" /><path fill-rule=\"evenodd\" fill=\"#66cc99\" stroke=\"#555555\" stroke-width=\"0.43200000000000005\" opacity=\"0.6\" d=\"M 2.2698954663726303,3.6560671583635447 L 1.6853038769745474,4.444297669803979 L 1.1807873565164506,5.286032631740022 L 0.7612046748871322,6.173165676349102 L 0.4305966426779122,7.097153227455377 L 0.1921471959676957,8.049096779838713 L 0.048152733278032045,9.019828596704391 L 0.0,9.999999999999998 L 0.04815273327803027,10.980171403295605 L 0.1921471959676957,11.950903220161283 L 0.4305966426779104,12.90284677254462 L 0.7612046748871322,13.826834323650896 L 1.1807873565164488,14.713967368259976 L 1.6853038769745456,15.55570233019602 L 2.2698954663726294,16.34393284163645 L 2.9289321881345227,17.071067811865476 L 3.656067158363541,17.73010453362737 L 4.444297669803978,18.314696123025453 L 5.286032631740022,18.81921264348355 L 6.173165676349097,19.238795325112864 L 7.097153227455376,19.569403357322088 L 8.049096779838713,19.8078528040323 L 9.019828596704395,19.95184726672197 L 9.999999999999998,20.0 L 10.980171403295602,19.95184726672197 L 11.950903220161283,19.807852804032304 L 12.90284677254462,19.569403357322088 L 13.8268343236509,19.238795325112868 L 14.713967368259976,18.819212643483553 L 15.555702330196018,18.314696123025456 L 16.343932841636455,17.73010453362737 L 16.366315337558447,17.70981822181289 L 2.290181778187111,3.6336846624415515 L 2.2698954663726303,3.6560671583635447 z\" /></g></g></svg>"
      ],
      "text/plain": [
       "<MULTIPOLYGON (((19.952 9.02, 19.808 8.049, 19.569 7.097, 19.239 6.173, 18.8...>"
      ]
     },
     "execution_count": 89,
     "metadata": {},
     "output_type": "execute_result"
    }
   ],
   "source": [
    "shpgeom.Point(10,10).buffer(10).difference(\n",
    "    shpgeom.LineString([\n",
    "        (0, 0),\n",
    "        (20, 20)\n",
    "    ]\n",
    "    ).buffer(0.95))"
   ]
  },
  {
   "cell_type": "markdown",
   "metadata": {},
   "source": [
    "You may cut it without any loss of surface area:"
   ]
  },
  {
   "cell_type": "code",
   "execution_count": 90,
   "metadata": {},
   "outputs": [
    {
     "data": {
      "image/svg+xml": [
       "<svg xmlns=\"http://www.w3.org/2000/svg\" xmlns:xlink=\"http://www.w3.org/1999/xlink\" width=\"100.0\" height=\"100.0\" viewBox=\"-0.8 -0.8 21.6 21.6\" preserveAspectRatio=\"xMinYMin meet\"><g transform=\"matrix(1,0,0,-1,0,20.0)\"><g><path fill-rule=\"evenodd\" fill=\"#66cc99\" stroke=\"#555555\" stroke-width=\"0.43200000000000005\" opacity=\"0.6\" d=\"M 20.0,10.0 L 19.95184726672197,9.019828596704395 L 19.807852804032304,8.049096779838717 L 19.569403357322088,7.097153227455377 L 19.238795325112868,6.173165676349102 L 18.819212643483553,5.2860326317400235 L 18.314696123025453,4.444297669803978 L 17.73010453362737,3.6560671583635447 L 17.071067811865476,2.9289321881345254 L 16.343932841636455,2.269895466372631 L 15.555702330196024,1.6853038769745474 L 14.71396736825998,1.1807873565164506 L 13.826834323650898,0.7612046748871322 L 12.902846772544624,0.4305966426779104 L 11.950903220161283,0.1921471959676957 L 10.980171403295607,0.048152733278032045 L 10.0,0.0 L 9.019828596704393,0.04815273327803027 L 8.049096779838719,0.1921471959676957 L 7.097153227455378,0.4305966426779104 L 6.173165676349103,0.7612046748871322 L 5.286032631740023,1.1807873565164488 L 4.44429766980398,1.6853038769745456 L 3.6560671583635473,2.2698954663726294 L 2.9289321881345254,2.9289321881345245 L 2.928932188134525,2.9289321881345254 L 17.071067811865476,17.071067811865476 L 17.73010453362737,16.34393284163646 L 18.314696123025453,15.555702330196022 L 18.819212643483546,14.71396736825998 L 19.238795325112864,13.826834323650903 L 19.569403357322088,12.902846772544624 L 19.8078528040323,11.950903220161287 L 19.95184726672197,10.980171403295605 L 20.0,10.0 z\" /><path fill-rule=\"evenodd\" fill=\"#66cc99\" stroke=\"#555555\" stroke-width=\"0.43200000000000005\" opacity=\"0.6\" d=\"M 2.928932188134525,2.9289321881345254 L 2.2698954663726303,3.6560671583635447 L 1.6853038769745474,4.444297669803979 L 1.1807873565164506,5.286032631740022 L 0.7612046748871322,6.173165676349102 L 0.4305966426779122,7.097153227455377 L 0.1921471959676957,8.049096779838713 L 0.048152733278032045,9.019828596704391 L 0.0,9.999999999999998 L 0.04815273327803027,10.980171403295605 L 0.1921471959676957,11.950903220161283 L 0.4305966426779104,12.90284677254462 L 0.7612046748871322,13.826834323650896 L 1.1807873565164488,14.713967368259976 L 1.6853038769745456,15.55570233019602 L 2.2698954663726294,16.34393284163645 L 2.9289321881345227,17.071067811865476 L 3.656067158363541,17.73010453362737 L 4.444297669803978,18.314696123025453 L 5.286032631740022,18.81921264348355 L 6.173165676349097,19.238795325112864 L 7.097153227455376,19.569403357322088 L 8.049096779838713,19.8078528040323 L 9.019828596704395,19.95184726672197 L 9.999999999999998,20.0 L 10.980171403295602,19.95184726672197 L 11.950903220161283,19.807852804032304 L 12.90284677254462,19.569403357322088 L 13.8268343236509,19.238795325112868 L 14.713967368259976,18.819212643483553 L 15.555702330196018,18.314696123025456 L 16.343932841636455,17.73010453362737 L 17.071067811865476,17.071067811865476 L 2.928932188134525,2.9289321881345254 z\" /></g></g></svg>"
      ],
      "text/plain": [
       "<GEOMETRYCOLLECTION (POLYGON ((20 10, 19.952 9.02, 19.808 8.049, 19.569 7.09...>"
      ]
     },
     "execution_count": 90,
     "metadata": {},
     "output_type": "execute_result"
    }
   ],
   "source": [
    "from shapely.ops import split\n",
    "shapely.ops.split(\n",
    "    shpgeom.Point(10,10).buffer(10),\n",
    "    shpgeom.LineString([\n",
    "        (0, 0),\n",
    "        (20, 20)\n",
    "    ])\n",
    ")"
   ]
  },
  {
   "cell_type": "code",
   "execution_count": null,
   "metadata": {},
   "outputs": [],
   "source": []
  },
  {
   "cell_type": "code",
   "execution_count": 91,
   "metadata": {},
   "outputs": [
    {
     "name": "stdout",
     "output_type": "stream",
     "text": [
      "(2.0, 2.0, 5.0, 10.0)\n",
      "[(5.0, 2.0), (5.0, 10.0), (2.0, 10.0), (2.0, 2.0), (5.0, 2.0)]\n"
     ]
    }
   ],
   "source": [
    "object = shpgeom.box(2, 2, 5, 10)\n",
    "print(object.bounds)\n",
    "print(list(object.exterior.coords))"
   ]
  },
  {
   "cell_type": "code",
   "execution_count": 92,
   "metadata": {},
   "outputs": [
    {
     "data": {
      "image/png": "[encoded data removed]",
      "text/plain": [
       "<Figure size 432x288 with 1 Axes>"
      ]
     },
     "metadata": {
      "needs_background": "light"
     },
     "output_type": "display_data"
    }
   ],
   "source": [
    "fig, ax = plt.subplots()\n",
    "pts = list(object.exterior.coords)\n",
    "x,y = zip(*pts)\n",
    "ax.plot(x, y)\n",
    "ax.set_xlim([0,15])\n",
    "ax.set_ylim([0,15]);"
   ]
  },
  {
   "cell_type": "code",
   "execution_count": 93,
   "metadata": {},
   "outputs": [
    {
     "name": "stdout",
     "output_type": "stream",
     "text": [
      "Polygon\n",
      "[(20.0, 20.0), (200.0, 20.0), (200.0, 180.0), (20.0, 180.0), (20.0, 20.0)]\n"
     ]
    }
   ],
   "source": [
    "object = shpgeom.Polygon([(20, 20), (200, 20), (200, 180), (20, 180)])\n",
    "print(object.type)\n",
    "print(list(object.exterior.coords))"
   ]
  },
  {
   "cell_type": "code",
   "execution_count": 94,
   "metadata": {},
   "outputs": [
    {
     "data": {
      "image/png": "[encoded data removed]",
      "text/plain": [
       "<Figure size 432x288 with 1 Axes>"
      ]
     },
     "metadata": {
      "needs_background": "light"
     },
     "output_type": "display_data"
    }
   ],
   "source": [
    "fig, ax = plt.subplots()\n",
    "pts = list(object.exterior.coords)\n",
    "x,y = zip(*pts)\n",
    "ax.plot(x, y)\n",
    "ax.set_xlim([0,300])\n",
    "ax.set_ylim([0,300]);"
   ]
  },
  {
   "cell_type": "markdown",
   "metadata": {},
   "source": [
    "## <font color=\"blue\">MultiPolygon Object</font>"
   ]
  },
  {
   "cell_type": "markdown",
   "metadata": {},
   "source": [
    "#### Create individuals polygons"
   ]
  },
  {
   "cell_type": "code",
   "execution_count": 95,
   "metadata": {},
   "outputs": [
    {
     "data": {
      "image/svg+xml": [
       "<svg xmlns=\"http://www.w3.org/2000/svg\" xmlns:xlink=\"http://www.w3.org/1999/xlink\" width=\"100.0\" height=\"100.0\" viewBox=\"19.0 29.0 27.0 17.0\" preserveAspectRatio=\"xMinYMin meet\"><g transform=\"matrix(1,0,0,-1,0,75.0)\"><path fill-rule=\"evenodd\" fill=\"#66cc99\" stroke=\"#555555\" stroke-width=\"0.54\" opacity=\"0.6\" d=\"M 40.0,40.0 L 20.0,45.0 L 45.0,30.0 L 40.0,40.0 z\" /></g></svg>"
      ],
      "text/plain": [
       "<POLYGON ((40 40, 20 45, 45 30, 40 40))>"
      ]
     },
     "execution_count": 95,
     "metadata": {},
     "output_type": "execute_result"
    }
   ],
   "source": [
    "pl1 = shpgeom.Polygon(((40, 40), (20, 45), (45, 30)))\n",
    "pl1"
   ]
  },
  {
   "cell_type": "code",
   "execution_count": 96,
   "metadata": {},
   "outputs": [
    {
     "data": {
      "image/svg+xml": [
       "<svg xmlns=\"http://www.w3.org/2000/svg\" xmlns:xlink=\"http://www.w3.org/1999/xlink\" width=\"100.0\" height=\"100.0\" viewBox=\"8.6 3.5999999999999996 37.8 32.8\" preserveAspectRatio=\"xMinYMin meet\"><g transform=\"matrix(1,0,0,-1,0,40.0)\"><path fill-rule=\"evenodd\" fill=\"#66cc99\" stroke=\"#555555\" stroke-width=\"0.7559999999999999\" opacity=\"0.6\" d=\"M 20.0,35.0 L 10.0,30.0 L 10.0,10.0 L 30.0,5.0 L 45.0,20.0 L 20.0,35.0 z M 30.0,20.0 L 20.0,15.0 L 20.0,25.0 L 30.0,20.0 z\" /></g></svg>"
      ],
      "text/plain": [
       "<POLYGON ((20 35, 10 30, 10 10, 30 5, 45 20, 20 35), (30 20, 20 15, 20 25, 3...>"
      ]
     },
     "execution_count": 96,
     "metadata": {},
     "output_type": "execute_result"
    }
   ],
   "source": [
    "pl2 = shpgeom.Polygon(\n",
    "    ((20, 35), (10, 30), (10, 10), (30, 5), (45, 20)), \n",
    "    [[(30, 20), (20, 15), (20, 25)]]    \n",
    ")\n",
    "pl2"
   ]
  },
  {
   "cell_type": "markdown",
   "metadata": {},
   "source": [
    "#### Combine the multiple polygons"
   ]
  },
  {
   "cell_type": "code",
   "execution_count": 97,
   "metadata": {},
   "outputs": [
    {
     "data": {
      "image/svg+xml": [
       "<svg xmlns=\"http://www.w3.org/2000/svg\" xmlns:xlink=\"http://www.w3.org/1999/xlink\" width=\"100.0\" height=\"100.0\" viewBox=\"8.4 3.4 38.2 43.2\" preserveAspectRatio=\"xMinYMin meet\"><g transform=\"matrix(1,0,0,-1,0,50.0)\"><g><path fill-rule=\"evenodd\" fill=\"#66cc99\" stroke=\"#555555\" stroke-width=\"0.8640000000000001\" opacity=\"0.6\" d=\"M 40.0,40.0 L 20.0,45.0 L 45.0,30.0 L 40.0,40.0 z\" /><path fill-rule=\"evenodd\" fill=\"#66cc99\" stroke=\"#555555\" stroke-width=\"0.8640000000000001\" opacity=\"0.6\" d=\"M 20.0,35.0 L 10.0,30.0 L 10.0,10.0 L 30.0,5.0 L 45.0,20.0 L 20.0,35.0 z M 30.0,20.0 L 20.0,15.0 L 20.0,25.0 L 30.0,20.0 z\" /></g></g></svg>"
      ],
      "text/plain": [
       "<MULTIPOLYGON (((40 40, 20 45, 45 30, 40 40)), ((20 35, 10 30, 10 10, 30 5, ...>"
      ]
     },
     "execution_count": 97,
     "metadata": {},
     "output_type": "execute_result"
    }
   ],
   "source": [
    "mpoly = shpgeom.MultiPolygon([pl1, pl2])\n",
    "mpoly"
   ]
  },
  {
   "cell_type": "markdown",
   "metadata": {},
   "source": [
    "#### Use the WKT formulation"
   ]
  },
  {
   "cell_type": "code",
   "execution_count": 98,
   "metadata": {},
   "outputs": [
    {
     "data": {
      "image/svg+xml": [
       "<svg xmlns=\"http://www.w3.org/2000/svg\" xmlns:xlink=\"http://www.w3.org/1999/xlink\" width=\"100.0\" height=\"100.0\" viewBox=\"8.4 3.4 38.2 43.2\" preserveAspectRatio=\"xMinYMin meet\"><g transform=\"matrix(1,0,0,-1,0,50.0)\"><g><path fill-rule=\"evenodd\" fill=\"#66cc99\" stroke=\"#555555\" stroke-width=\"0.8640000000000001\" opacity=\"0.6\" d=\"M 40.0,40.0 L 20.0,45.0 L 45.0,30.0 L 40.0,40.0 z\" /><path fill-rule=\"evenodd\" fill=\"#66cc99\" stroke=\"#555555\" stroke-width=\"0.8640000000000001\" opacity=\"0.6\" d=\"M 20.0,35.0 L 10.0,30.0 L 10.0,10.0 L 30.0,5.0 L 45.0,20.0 L 20.0,35.0 z M 30.0,20.0 L 20.0,15.0 L 20.0,25.0 L 30.0,20.0 z\" /></g></g></svg>"
      ],
      "text/plain": [
       "<MULTIPOLYGON (((40 40, 20 45, 45 30, 40 40)), ((20 35, 10 30, 10 10, 30 5, ...>"
      ]
     },
     "execution_count": 98,
     "metadata": {},
     "output_type": "execute_result"
    }
   ],
   "source": [
    "shpwkt.loads('''\n",
    "MULTIPOLYGON\n",
    "(((40 40, 20 45, 45 30, 40 40)),\n",
    "((20 35, 10 30, 10 10, 30 5, 45 20, 20 35), (30 20, 20 15, 20 25, 30 20)))\n",
    "''')"
   ]
  },
  {
   "cell_type": "markdown",
   "metadata": {},
   "source": [
    "#### Use the GeosJSON formulation"
   ]
  },
  {
   "cell_type": "code",
   "execution_count": 99,
   "metadata": {},
   "outputs": [
    {
     "data": {
      "image/svg+xml": [
       "<svg xmlns=\"http://www.w3.org/2000/svg\" xmlns:xlink=\"http://www.w3.org/1999/xlink\" width=\"100.0\" height=\"100.0\" viewBox=\"8.4 3.4 38.2 43.2\" preserveAspectRatio=\"xMinYMin meet\"><g transform=\"matrix(1,0,0,-1,0,50.0)\"><g><path fill-rule=\"evenodd\" fill=\"#66cc99\" stroke=\"#555555\" stroke-width=\"0.8640000000000001\" opacity=\"0.6\" d=\"M 40.0,40.0 L 20.0,45.0 L 45.0,30.0 L 40.0,40.0 z\" /><path fill-rule=\"evenodd\" fill=\"#66cc99\" stroke=\"#555555\" stroke-width=\"0.8640000000000001\" opacity=\"0.6\" d=\"M 20.0,35.0 L 10.0,30.0 L 10.0,10.0 L 30.0,5.0 L 45.0,20.0 L 20.0,35.0 z M 30.0,20.0 L 20.0,15.0 L 20.0,25.0 L 30.0,20.0 z\" /></g></g></svg>"
      ],
      "text/plain": [
       "<MULTIPOLYGON (((40 40, 20 45, 45 30, 40 40)), ((20 35, 10 30, 10 10, 30 5, ...>"
      ]
     },
     "execution_count": 99,
     "metadata": {},
     "output_type": "execute_result"
    }
   ],
   "source": [
    "d = {\n",
    "  'type': 'MultiPolygon',\n",
    "  'coordinates': [\n",
    "    [\n",
    "      [[40, 40], [20, 45], [45, 30], [40, 40]]\n",
    "    ],\n",
    "    [\n",
    "      [[20, 35], [10, 30], [10, 10], [30, 5], [45, 20], \n",
    "      [20, 35]], \n",
    "      [[30, 20], [20, 15], [20, 25], [30, 20]]\n",
    "    ]\n",
    "  ]\n",
    "}\n",
    "shapely.geometry.shape(d)"
   ]
  },
  {
   "cell_type": "code",
   "execution_count": 100,
   "metadata": {},
   "outputs": [
    {
     "data": {
      "text/plain": [
       "(10.0, 5.0, 45.0, 45.0)"
      ]
     },
     "execution_count": 100,
     "metadata": {},
     "output_type": "execute_result"
    }
   ],
   "source": [
    "mpoly.bounds"
   ]
  },
  {
   "cell_type": "code",
   "execution_count": 101,
   "metadata": {},
   "outputs": [
    {
     "data": {
      "text/plain": [
       "2"
      ]
     },
     "execution_count": 101,
     "metadata": {},
     "output_type": "execute_result"
    }
   ],
   "source": [
    "len(mpoly.geoms)"
   ]
  },
  {
   "cell_type": "code",
   "execution_count": 102,
   "metadata": {},
   "outputs": [
    {
     "data": {
      "text/plain": [
       "712.5"
      ]
     },
     "execution_count": 102,
     "metadata": {},
     "output_type": "execute_result"
    }
   ],
   "source": [
    "mpoly.area"
   ]
  },
  {
   "cell_type": "code",
   "execution_count": 103,
   "metadata": {},
   "outputs": [
    {
     "data": {
      "text/plain": [
       "array(<POINT (25.585 21.667)>, dtype=object)"
      ]
     },
     "execution_count": 103,
     "metadata": {},
     "output_type": "execute_result"
    }
   ],
   "source": [
    "np.array(mpoly.centroid)"
   ]
  },
  {
   "cell_type": "markdown",
   "metadata": {},
   "source": [
    "### Example\n",
    "\n",
    "We divide our world into western and eastern hemispheres with a hole on the western hemisphere."
   ]
  },
  {
   "cell_type": "markdown",
   "metadata": {},
   "source": [
    "Create the exterior of the western part of the world:"
   ]
  },
  {
   "cell_type": "code",
   "execution_count": 115,
   "metadata": {},
   "outputs": [],
   "source": [
    "west_exterior = [(-180, 90), (-180, -90), (0, -90), (0, 90)]"
   ]
  },
  {
   "cell_type": "markdown",
   "metadata": {},
   "source": [
    "Create a hole:"
   ]
  },
  {
   "cell_type": "code",
   "execution_count": 117,
   "metadata": {},
   "outputs": [],
   "source": [
    "west_hole = [[(-170, 80), (-170, -80), (-10, -80), (-10, 80)]]"
   ]
  },
  {
   "cell_type": "markdown",
   "metadata": {},
   "source": [
    "Create a polygon:"
   ]
  },
  {
   "cell_type": "code",
   "execution_count": 119,
   "metadata": {},
   "outputs": [
    {
     "data": {
      "image/svg+xml": [
       "<svg xmlns=\"http://www.w3.org/2000/svg\" xmlns:xlink=\"http://www.w3.org/1999/xlink\" width=\"194.39999999999998\" height=\"194.4\" viewBox=\"-187.2 -97.2 194.39999999999998 194.4\" preserveAspectRatio=\"xMinYMin meet\"><g transform=\"matrix(1,0,0,-1,0,0.0)\"><path fill-rule=\"evenodd\" fill=\"#66cc99\" stroke=\"#555555\" stroke-width=\"2.0\" opacity=\"0.6\" d=\"M -180.0,90.0 L -180.0,-90.0 L 0.0,-90.0 L 0.0,90.0 L -180.0,90.0 z M -170.0,80.0 L -170.0,-80.0 L -10.0,-80.0 L -10.0,80.0 L -170.0,80.0 z\" /></g></svg>"
      ],
      "text/plain": [
       "<POLYGON ((-180 90, -180 -90, 0 -90, 0 90, -180 90), (-170 80, -170 -80, -10...>"
      ]
     },
     "execution_count": 119,
     "metadata": {},
     "output_type": "execute_result"
    }
   ],
   "source": [
    "west_poly = shpgeom.Polygon(shell=west_exterior, holes=west_hole)\n",
    "west_poly"
   ]
  },
  {
   "cell_type": "markdown",
   "metadata": {},
   "source": [
    "Create he Polygon of our Eastern hemisphere polygon using bounding box.\n",
    "For bounding box we need to specify the lower-left corner coordinates and upper-right coordinates:"
   ]
  },
  {
   "cell_type": "code",
   "execution_count": 120,
   "metadata": {},
   "outputs": [],
   "source": [
    "max_x, max_y = 180, 90\n",
    "min_x, min_y = 0, -90"
   ]
  },
  {
   "cell_type": "code",
   "execution_count": 121,
   "metadata": {},
   "outputs": [
    {
     "data": {
      "image/svg+xml": [
       "<svg xmlns=\"http://www.w3.org/2000/svg\" xmlns:xlink=\"http://www.w3.org/1999/xlink\" width=\"194.39999999999998\" height=\"194.4\" viewBox=\"-7.2 -97.2 194.39999999999998 194.4\" preserveAspectRatio=\"xMinYMin meet\"><g transform=\"matrix(1,0,0,-1,0,0.0)\"><path fill-rule=\"evenodd\" fill=\"#66cc99\" stroke=\"#555555\" stroke-width=\"2.0\" opacity=\"0.6\" d=\"M 180.0,-90.0 L 180.0,90.0 L 0.0,90.0 L 0.0,-90.0 L 180.0,-90.0 z\" /></g></svg>"
      ],
      "text/plain": [
       "<POLYGON ((180 -90, 180 90, 0 90, 0 -90, 180 -90))>"
      ]
     },
     "execution_count": 121,
     "metadata": {},
     "output_type": "execute_result"
    }
   ],
   "source": [
    "east_poly_box = shpgeom.box(minx=min_x, miny=min_y, \n",
    "                            maxx=max_x, maxy=max_y)\n",
    "east_poly_box"
   ]
  },
  {
   "cell_type": "markdown",
   "metadata": {},
   "source": [
    "Create the MultiPolygon. We can pass multiple Polygon objects."
   ]
  },
  {
   "cell_type": "code",
   "execution_count": 122,
   "metadata": {},
   "outputs": [
    {
     "data": {
      "image/svg+xml": [
       "<svg xmlns=\"http://www.w3.org/2000/svg\" xmlns:xlink=\"http://www.w3.org/1999/xlink\" width=\"300\" height=\"208.8\" viewBox=\"-194.4 -104.4 388.8 208.8\" preserveAspectRatio=\"xMinYMin meet\"><g transform=\"matrix(1,0,0,-1,0,0.0)\"><g><path fill-rule=\"evenodd\" fill=\"#ff3333\" stroke=\"#555555\" stroke-width=\"2.592\" opacity=\"0.6\" d=\"M -180.0,90.0 L -180.0,-90.0 L 0.0,-90.0 L 0.0,90.0 L -180.0,90.0 z M -170.0,80.0 L -170.0,-80.0 L -10.0,-80.0 L -10.0,80.0 L -170.0,80.0 z\" /><path fill-rule=\"evenodd\" fill=\"#ff3333\" stroke=\"#555555\" stroke-width=\"2.592\" opacity=\"0.6\" d=\"M 180.0,-90.0 L 180.0,90.0 L 0.0,90.0 L 0.0,-90.0 L 180.0,-90.0 z\" /></g></g></svg>"
      ],
      "text/plain": [
       "<MULTIPOLYGON (((-180 90, -180 -90, 0 -90, 0 90, -180 90), (-170 80, -170 -8...>"
      ]
     },
     "execution_count": 122,
     "metadata": {},
     "output_type": "execute_result"
    }
   ],
   "source": [
    "multi_poly = shpgeom.MultiPolygon([west_poly, east_poly_box])\n",
    "multi_poly"
   ]
  },
  {
   "cell_type": "code",
   "execution_count": 123,
   "metadata": {},
   "outputs": [
    {
     "data": {
      "text/plain": [
       "39200.0"
      ]
     },
     "execution_count": 123,
     "metadata": {},
     "output_type": "execute_result"
    }
   ],
   "source": [
    "multi_poly.area"
   ]
  },
  {
   "cell_type": "code",
   "execution_count": 128,
   "metadata": {},
   "outputs": [
    {
     "data": {
      "text/plain": [
       "6800.0"
      ]
     },
     "execution_count": 128,
     "metadata": {},
     "output_type": "execute_result"
    }
   ],
   "source": [
    "# West area\n",
    "multi_poly.geoms[0].area"
   ]
  },
  {
   "cell_type": "code",
   "execution_count": 129,
   "metadata": {},
   "outputs": [
    {
     "data": {
      "text/plain": [
       "32400.0"
      ]
     },
     "execution_count": 129,
     "metadata": {},
     "output_type": "execute_result"
    }
   ],
   "source": [
    "# East area\n",
    "multi_poly.geoms[1].area"
   ]
  },
  {
   "cell_type": "code",
   "execution_count": 132,
   "metadata": {},
   "outputs": [
    {
     "name": "stdout",
     "output_type": "stream",
     "text": [
      "39200.0\n"
     ]
    }
   ],
   "source": [
    "area = 0.0\n",
    "for polygon in multi_poly.geoms:\n",
    "    area += polygon.area\n",
    "\n",
    "print(area)"
   ]
  },
  {
   "cell_type": "markdown",
   "metadata": {},
   "source": [
    "### <font color=\"green\">GeometryCollection Object</font>"
   ]
  },
  {
   "cell_type": "code",
   "execution_count": 104,
   "metadata": {},
   "outputs": [
    {
     "data": {
      "image/svg+xml": [
       "<svg xmlns=\"http://www.w3.org/2000/svg\" xmlns:xlink=\"http://www.w3.org/1999/xlink\" width=\"210.60000000000002\" height=\"188.60000000000002\" viewBox=\"-2.8 -0.7999999999999998 210.60000000000002 188.60000000000002\" preserveAspectRatio=\"xMinYMin meet\"><g transform=\"matrix(1,0,0,-1,0,187.0)\"><g><circle cx=\"5.0\" cy=\"7.0\" r=\"3.0\" stroke=\"#555555\" stroke-width=\"1.0\" fill=\"#66cc99\" opacity=\"0.6\" /><path fill-rule=\"evenodd\" fill=\"#66cc99\" stroke=\"#555555\" stroke-width=\"2.0\" opacity=\"0.6\" d=\"M 20.0,20.0 L 200.0,20.0 L 200.0,180.0 L 20.0,180.0 L 20.0,20.0 z M 25.0,30.0 L 100.0,30.0 L 90.0,75.0 L 65.0,125.0 L 25.0,30.0 z\" /></g></g></svg>"
      ],
      "text/plain": [
       "<GEOMETRYCOLLECTION (POINT (5 7), POLYGON ((20 20, 200 20, 200 180, 20 180, ...>"
      ]
     },
     "execution_count": 104,
     "metadata": {},
     "output_type": "execute_result"
    }
   ],
   "source": [
    "geocol = shpgeom.GeometryCollection([pt1, poly3])\n",
    "geocol"
   ]
  },
  {
   "cell_type": "code",
   "execution_count": 105,
   "metadata": {},
   "outputs": [
    {
     "name": "stdout",
     "output_type": "stream",
     "text": [
      "{\n",
      " \"type\": \"GeometryCollection\",\n",
      " \"geometries\": [\n",
      "  {\n",
      "   \"type\": \"Point\",\n",
      "   \"coordinates\": [\n",
      "    5.0,\n",
      "    7.0\n",
      "   ]\n",
      "  },\n",
      "  {\n",
      "   \"type\": \"Polygon\",\n",
      "   \"coordinates\": [\n",
      "    [\n",
      "     [\n",
      "      20.0,\n",
      "      20.0\n",
      "     ],\n",
      "     [\n",
      "      200.0,\n",
      "      20.0\n",
      "     ],\n",
      "     [\n",
      "      200.0,\n",
      "      180.0\n",
      "     ],\n",
      "     [\n",
      "      20.0,\n",
      "      180.0\n",
      "     ],\n",
      "     [\n",
      "      20.0,\n",
      "      20.0\n",
      "     ]\n",
      "    ],\n",
      "    [\n",
      "     [\n",
      "      25.0,\n",
      "      30.0\n",
      "     ],\n",
      "     [\n",
      "      100.0,\n",
      "      30.0\n",
      "     ],\n",
      "     [\n",
      "      90.0,\n",
      "      75.0\n",
      "     ],\n",
      "     [\n",
      "      65.0,\n",
      "      125.0\n",
      "     ],\n",
      "     [\n",
      "      25.0,\n",
      "      30.0\n",
      "     ]\n",
      "    ]\n",
      "   ]\n",
      "  }\n",
      " ]\n",
      "}\n"
     ]
    }
   ],
   "source": [
    "print(shapely.to_geojson(geocol, indent=1))"
   ]
  },
  {
   "cell_type": "code",
   "execution_count": null,
   "metadata": {},
   "outputs": [],
   "source": []
  },
  {
   "cell_type": "code",
   "execution_count": null,
   "metadata": {},
   "outputs": [],
   "source": []
  },
  {
   "cell_type": "markdown",
   "metadata": {},
   "source": [
    "## <font color=\"green\"> Breakout 5</font>\n",
    "Draw the USA map and randomly color each state.\n",
    "\n",
    "You may want to use:\n",
    "\n",
    "```python\n",
    "shapename = 'admin_1_states_provinces_lakes_shp'\n",
    "states_shp = shapereader.natural_earth(resolution='110m',\n",
    "                                       category='cultural',\n",
    "                                       name=shapename)\n",
    "\n",
    "reader = shapereader.Reader(states_shp)\n",
    "```"
   ]
  },
  {
   "cell_type": "markdown",
   "metadata": {},
   "source": [
    "<details><summary><b><font color=\"green\">Click here to access the solution</font></b></summary>\n",
    "<p>\n",
    "\n",
    "```python\n",
    "shapename = 'admin_1_states_provinces_lakes_shp'\n",
    "states_shp = shapereader.natural_earth(resolution='110m',\n",
    "                                       category='cultural',\n",
    "                                       name=shapename)\n",
    "\n",
    "reader = shapereader.Reader(states_shp)\n",
    "\n",
    "subplot_kw = dict(projection=ccrs.PlateCarree())\n",
    "fig, ax = plt.subplots(figsize=(16, 15), subplot_kw=subplot_kw)\n",
    " \n",
    "ax.set_extent([-130, -65, 24, 47])\n",
    "\n",
    "ax.background_patch.set_visible(False)\n",
    "ax.outline_patch.set_visible(False)\n",
    " \n",
    "# Get from Matplotlib a list of colors\n",
    "#------------------------------\n",
    "colors = list(cnames.keys())\n",
    "len_colors = len(colors)\n",
    "\n",
    "k = 0\n",
    "for record, state in zip(reader.records(), reader.geometries()):\n",
    "    if k+1 == len_colors:\n",
    "        k = 0\n",
    "    else:\n",
    "        k += 1\n",
    "    facecolor = colors[k]\n",
    "    ax.add_geometries([state], ccrs.PlateCarree(),\n",
    "                      facecolor=facecolor, edgecolor='black')\n",
    "```\n",
    "\n",
    "<p>\n",
    "</details>"
   ]
  },
  {
   "cell_type": "code",
   "execution_count": null,
   "metadata": {},
   "outputs": [],
   "source": []
  }
 ],
 "metadata": {
  "anaconda-cloud": {},
  "kernelspec": {
   "display_name": "Python 3 (ipykernel)",
   "language": "python",
   "name": "python3"
  },
  "language_info": {
   "codemirror_mode": {
    "name": "ipython",
    "version": 3
   },
   "file_extension": ".py",
   "mimetype": "text/x-python",
   "name": "python",
   "nbconvert_exporter": "python",
   "pygments_lexer": "ipython3",
   "version": "3.8.2"
  }
 },
 "nbformat": 4,
 "nbformat_minor": 1
}
