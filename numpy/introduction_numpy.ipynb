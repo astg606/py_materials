{
 "cells": [
  {
   "cell_type": "markdown",
   "metadata": {},
   "source": [
    "<center>\n",
    "<table>\n",
    "  <tr>\n",
    "    <td><img src=\"http://www.nasa.gov/sites/all/themes/custom/nasatwo/images/nasa-logo.svg\" width=\"100\"/> </td>\n",
    "     <td><img src=\"https://github.com/astg606/py_materials/blob/master/logos/ASTG_logo.png?raw=true\" width=\"80\"/> </td>\n",
    "     <td> <img src=\"https://www.nccs.nasa.gov/sites/default/files/NCCS_Logo_0.png\" width=\"130\"/> </td>\n",
    "    </tr>\n",
    "</table>\n",
    "</center>\n",
    "\n",
    "        \n",
    "<center>\n",
    "<h1><font color= \"blue\" size=\"+3\">ASTG Python Courses</font></h1>\n",
    "</center>\n",
    "\n",
    "---\n",
    "\n",
    "<CENTER>\n",
    "<H1>\n",
    "    <font color=\"red\">Introduction to NumPy</font>\n",
    "</H1>\n",
    "</CENTER>"
   ]
  },
  {
   "cell_type": "markdown",
   "metadata": {},
   "source": [
    "## <font color='red'> Useful References </font>\n",
    "\n",
    "- <a href=\"https://numpy.org/devdocs/user/quickstart.html\">Numpy Quick Tutorial</a>\n",
    "- <a href=\"https://www.python-course.eu/numpy.php\">Numpy Tutorial</a>\n",
    "- <a href=\"https://nbviewer.jupyter.org/github/jrjohansson/scientific-python-lectures/blob/master/Lecture-2-Numpy.ipynb\">Numpy - multidimensional data arrays</a>\n",
    "- <a href=\"http://mathesaurus.sourceforge.net/idl-numpy.html\"> Numpy for IDL users</a>\n",
    "- <a href=\"https://docs.scipy.org/doc/numpy/user/numpy-for-matlab-users.html\">NumPy for Matlab users</a>\n",
    "- <a href=\"http://mathesaurus.sourceforge.net/r-numpy.html\">Numpy for R users</a>\n",
    "- <a href=\"https://www.machinelearningplus.com/python/101-numpy-exercises-python/\">101 NumPy Exercises for Data Analysis (Python)</a>\n",
    "- [Python NumPy Tutorial: An Applied Introduction for Beginners](https://www.learndatasci.com/tutorials/applied-introduction-to-numpy-python-tutorial/)\n",
    "- Harris, C.R., Millman, K.J., van der Walt, S.J. et al., <a href=\"https://www.nature.com/articles/s41586-020-2649-2\">Array programming with NumPy</a>, Nature **585**, 357–362 (2020). https://doi.org/10.1038/s41586-020-2649-2"
   ]
  },
  {
   "cell_type": "markdown",
   "metadata": {},
   "source": [
    "## <font color='red'> What is NumPy?</font>\n",
    "\n",
    "- NumPy is a Python open-source library, which provides a multidimensional Python array object along with array-aware functions that operate on it.\n",
    "- Efficient array computing in Python: operates on in-memory arrays. \n",
    "- The critical thing to know is that Python `for` loops are very slow! One should try to use array-operations as much as possible.\n",
    "- It is implemented in C and Fortran so when calculations are vectorized (formulated with vectors and matrices), performance is very good.\n",
    "\n",
    "**NumPy Array Concepts**\n",
    "\n",
    "- Data structure and its associated metadata fields.\n",
    "- Indexing an array with slices and steps. \n",
    "- Indexing an array with masks, scalar coordinates or other arrays, so that it returns a ‘copy’ of the original data. \n",
    "- Vectorization (process of performing the same operation in the same way for each element in an array) efficiently applies operations to groups of elements.\n",
    "- Broadcasting in the multiplication of two-dimensional arrays. \n",
    "- Reduction operations act along one or more axes. \n",
    "\n",
    "**NumPy: Foundation of the Scientific Python Ecosystem**\n",
    "\n",
    "- Provides a foundation on which other data science packages are built.\n",
    "- Underpins almost every Python library that does scientific or numerical computation, including SciPy, Matplotlib, Pandas, Scikit-Learn and Scikit-Image.\n",
    "\n",
    "![numpy](https://media.springernature.com/full/springer-static/image/art%3A10.1038%2Fs41586-020-2649-2/MediaObjects/41586_2020_2649_Fig2_HTML.png?as=webp)\n",
    "Image Source: [NumPy is the base of the scientific Python ecosystem](https://www.nature.com/articles/s41586-020-2649-2/figures/2)\n",
    "\n",
    "\n",
    "![use_numpy](https://i0.wp.com/techvidvan.com/tutorials/wp-content/uploads/sites/2/2020/07/Uses-of-NumPy-1.jpg?ssl=1)\n",
    "Image Source: techvidvan.com"
   ]
  },
  {
   "cell_type": "markdown",
   "metadata": {},
   "source": [
    "## <font color='purple'> Going Deeper: Making Numpy Arrays</font>\n",
    "\n",
    "- A NumPy array is a data structure that efficiently stores and accesses multidimensional arrays.\n",
    "- Each NumPy Array object has 2 components:\n",
    "   1. The raw array data (data buffer) stored in a single contiguous (continuous) block of memory.\n",
    "   2. A metadata: used to interpret the data stored there, notably `data type` (integer, float, etc.), `shape` (number of dimensions and the size of each dimension), `start` of the data within the data buffer, `strides` (separation between elements for each dimension), `byte order` of the data (which may not be the native byte order), `basic data element’s size in bytes`, `array ordering` (C-order or Fortran-order).\n",
    "\n",
    "\n",
    "![fig_array](https://i.stack.imgur.com/EeBUb.png)\n",
    "Image Source: [https://i.stack.imgur.com/EeBUb.png](https://i.stack.imgur.com/EeBUb.png)\n",
    "\n",
    "This arrangement allows for very flexible use of arrays. For instance:\n",
    "- We can modify the metadata to change the interpretation of the array buffer.\n",
    "- Changing the byteorder of the array is a simple change involving no rearrangement of the data.\n",
    "- The shape of the array can be changed very easily without changing anything in the data buffer or any data copying at all.\n",
    "\n",
    "**The fact that items are stored contiguously in memory allows NumPy to take advantage of vectorized instructions of modern CPUs. For example, multiple consecutive floating point numbers can be loaded in 128, 256, or 512 bits registers for vectorized arithmetical computations implemented as CPU instructions.**\n",
    "\n",
    "![fig_array2](https://ipython-books.github.io/pages/chapter04_optimization/images/layout.png)\n",
    "Image Source:  IPython Cookbook, Second Edition, by Cyrille Rossant"
   ]
  },
  {
   "cell_type": "markdown",
   "metadata": {},
   "source": [
    "First we want to import the appropriate modules into our name space."
   ]
  },
  {
   "cell_type": "code",
   "execution_count": null,
   "metadata": {},
   "outputs": [],
   "source": [
    "import numpy as np"
   ]
  },
  {
   "cell_type": "markdown",
   "metadata": {},
   "source": [
    "## <font color='red'> Creating NumPy Arrays from Lists</font>"
   ]
  },
  {
   "cell_type": "code",
   "execution_count": null,
   "metadata": {},
   "outputs": [],
   "source": [
    "my_list = [1, 2, 3, 5]\n",
    "print(type(my_list))\n",
    "print(my_list)"
   ]
  },
  {
   "cell_type": "code",
   "execution_count": null,
   "metadata": {},
   "outputs": [],
   "source": [
    "np_array = np.array(my_list)\n",
    "print(type(np_array))\n",
    "print(np_array)"
   ]
  },
  {
   "cell_type": "markdown",
   "metadata": {},
   "source": [
    "Elements of a one-dimensional array are accessed with the same syntax as a list:"
   ]
  },
  {
   "cell_type": "code",
   "execution_count": null,
   "metadata": {},
   "outputs": [],
   "source": [
    "my_list[0]"
   ]
  },
  {
   "cell_type": "code",
   "execution_count": null,
   "metadata": {},
   "outputs": [],
   "source": [
    "np_array[0]"
   ]
  },
  {
   "cell_type": "code",
   "execution_count": null,
   "metadata": {},
   "outputs": [],
   "source": [
    "np_array[2:]"
   ]
  },
  {
   "cell_type": "markdown",
   "metadata": {},
   "source": [
    "---\n",
    "\n",
    "### <font color=\"blue\">Breakout</font>\n",
    "How do you access the last item in the `np_array` array?\n",
    "\n",
    "<p>\n",
    "\n",
    "<details><summary><b>Click here to access the solution</b></summary>\n",
    "<p>\n",
    "\n",
    "\n",
    "```python\n",
    "np_array[-1]\n",
    "```\n",
    "\n",
    "</p>\n",
    "</details>\n",
    "\n",
    "---"
   ]
  },
  {
   "cell_type": "markdown",
   "metadata": {},
   "source": [
    "`numpy.ndarray`:\n",
    "\n",
    "- Describes the collection of items of the same type. \n",
    "    - Items in the collection can be accessed using a zero-based index.\n",
    "- Every item in a `ndarray` takes the same size of a block in the memory. \n",
    "- Each element in `ndarray` is an object of the data-type object (called `dtype`).\n",
    "- Any item extracted from the `ndarray` object (by slicing) is represented by a Python object of one of the array scalar types.\n",
    "\n",
    "```python\n",
    "numpy.array(object, dtype = None, copy = True, \n",
    "            order = None, subok = False, ndmin = 0)\n",
    "```\n",
    "\n",
    "| PARAMETER\t| DESCRIPTION |\n",
    "| ---: | :--- |\n",
    "| `object` | Represent the collection object. It can be a list, tuple, dictionary, set, etc. |\n",
    "| `dtype` |\tSet the data type of the array elements. The default is none. |\n",
    "| `copy` | By default, it is true which means the object is copied. |\n",
    "| `order` |\t3 possible values are assigned: C (column order, default), R (row order), or A (any) |\n",
    "| `subok` |\tThe returned array will be base class array by default. We can change this to make the subclasses passes through by setting this option to true. |\n",
    "| `ndmin` |\tRepresent the minimum dimensions of the resultant array. |\n"
   ]
  },
  {
   "cell_type": "markdown",
   "metadata": {},
   "source": [
    "### <font color='blue'> Difference between List and NumPy Array </font>"
   ]
  },
  {
   "cell_type": "markdown",
   "metadata": {},
   "source": [
    "We can change the last element of our list:"
   ]
  },
  {
   "cell_type": "code",
   "execution_count": null,
   "metadata": {},
   "outputs": [],
   "source": [
    "my_list[-1] ='adding a string'\n",
    "print(my_list)"
   ]
  },
  {
   "cell_type": "markdown",
   "metadata": {},
   "source": [
    "But the same can not be done with an array, as we get an error message:"
   ]
  },
  {
   "cell_type": "code",
   "execution_count": null,
   "metadata": {
    "tags": [
     "raises-exception"
    ]
   },
   "outputs": [],
   "source": [
    "try:\n",
    "  np_array[-1] ='adding a string'\n",
    "except Exception as e:\n",
    "  print(f'ValueError: {e}')"
   ]
  },
  {
   "cell_type": "markdown",
   "metadata": {},
   "source": [
    "Create a 2d array from a list of lists:"
   ]
  },
  {
   "cell_type": "code",
   "execution_count": null,
   "metadata": {},
   "outputs": [],
   "source": [
    "my_list = [[0,1,2], [3,4,5], [6,7,8]]\n",
    "my_arr2d = np.array(my_list)\n",
    "print(my_arr2d)"
   ]
  },
  {
   "cell_type": "markdown",
   "metadata": {},
   "source": [
    "## <font color=\"red\">Data Types in NumPy</font>\n",
    "\n",
    "- You may specify the data type by setting the `dtype` argument. \n",
    "- Some of the most commonly used numpy dtypes are: `float`, `int`, `bool`, `str` and `object`.\n",
    "- To control the memory allocations you may choose to use one of `float32`, `float64`, `int8`, `int16` or `int32`.\n",
    "\n",
    "Here are some of the scalar data types.\n",
    "\n",
    "| Data Types\t| Description |\n",
    "| :--- | :--- |\n",
    "| \tbool_\t| Boolean True/False |  \n",
    "| \tintc\t| Same as C int | \n",
    "| \tintp\t| An integer used for indexing | \n",
    "| \tint8\t| Byte(-128 to 127) | \n",
    "| \tint16\t| Integer(-32768 to 32767) | \n",
    "| \tint32\t| Integer(-2147483648 to 2147483647) | \n",
    "| \tint64\t| Integer (-9223372036854775808 to 9223372036854775807) | \n",
    "| \tuint8\t| Unsigned integer(0 to 225) | \n",
    "| \tunit16\t| Unsigned integer(0 to 65535) | \n",
    "| \tunit32\t| Unsigned Integer(0 to 4294967295) | \n",
    "| \tunit64\t| Unsigned Integer(0 to 18446744073709551615) | \n",
    "| \tfloat16\t| Half precision float | \n",
    "| \tfloat32\t| Single precision float | \n",
    "| \tfloat64\t| Double precision float | \n",
    "| \tcomplex64\t| Two 32bit float complex number | \n",
    "| \tcomplex128\t| Two 64 bit float complex number | "
   ]
  },
  {
   "cell_type": "markdown",
   "metadata": {},
   "source": [
    " Create a `float` 2d array:"
   ]
  },
  {
   "cell_type": "code",
   "execution_count": null,
   "metadata": {},
   "outputs": [],
   "source": [
    "my_arr2d_f = np.array(my_list, dtype='float')\n",
    "print(my_arr2d_f)\n",
    "print(f\"Type: {my_arr2d_f.dtype}\")"
   ]
  },
  {
   "cell_type": "markdown",
   "metadata": {},
   "source": [
    "Convert to `int` datatype:"
   ]
  },
  {
   "cell_type": "code",
   "execution_count": null,
   "metadata": {},
   "outputs": [],
   "source": [
    "a_i = my_arr2d_f.astype('int')\n",
    "print(a_i)\n",
    "print(f\"Type: {a_i.dtype}\")"
   ]
  },
  {
   "cell_type": "markdown",
   "metadata": {},
   "source": [
    "Convert to `int` then to `str` datatype:"
   ]
  },
  {
   "cell_type": "code",
   "execution_count": null,
   "metadata": {},
   "outputs": [],
   "source": [
    "a_s = my_arr2d_f.astype('int').astype('str')\n",
    "print(a_s)\n",
    "print(f\"Type: {a_s.dtype}\")"
   ]
  },
  {
   "cell_type": "markdown",
   "metadata": {},
   "source": [
    "- A numpy array must have all items to be of the same data type, unlike lists. \n",
    "- If you are uncertain about what datatype your array will hold or if you want to hold characters and numbers in the same array, you can set the `dtype` as `object`."
   ]
  },
  {
   "cell_type": "markdown",
   "metadata": {},
   "source": [
    "Create a `boolean` array:"
   ]
  },
  {
   "cell_type": "code",
   "execution_count": null,
   "metadata": {},
   "outputs": [],
   "source": [
    "my_arr1d_b = np.array([1, 0, 10], dtype='bool')\n",
    "print(my_arr1d_b)\n",
    "print(f\"Type: {my_arr1d_b.dtype}\")"
   ]
  },
  {
   "cell_type": "markdown",
   "metadata": {},
   "source": [
    "Create an `object` array to hold numbers as well as strings:"
   ]
  },
  {
   "cell_type": "code",
   "execution_count": null,
   "metadata": {},
   "outputs": [],
   "source": [
    "my_arr1d_obj = np.array([1, 'a'], dtype='object')\n",
    "print(my_arr1d_obj)\n",
    "print(f\"Type: {my_arr1d_obj.dtype}\")"
   ]
  },
  {
   "cell_type": "markdown",
   "metadata": {},
   "source": [
    "You can always convert an array back to a python list using `tolist()`."
   ]
  },
  {
   "cell_type": "code",
   "execution_count": null,
   "metadata": {},
   "outputs": [],
   "source": [
    "from_array_to_list = my_arr1d_obj.tolist()\n",
    "print(from_array_to_list)"
   ]
  },
  {
   "cell_type": "markdown",
   "metadata": {},
   "source": [
    "\n",
    "- The information about the type of an array is contained in its `dtype` (the size of each item in an array) attribute.\n",
    "- **Once an array has been created, its `dtype` is fixed and it can only store elements of the same type.**"
   ]
  },
  {
   "cell_type": "markdown",
   "metadata": {},
   "source": [
    "#### <font color=\"orange\">Example</font>: NumPy Array Homegeneity\n",
    "\n",
    "Consider the NumPy array of integers: "
   ]
  },
  {
   "cell_type": "code",
   "execution_count": null,
   "metadata": {},
   "outputs": [],
   "source": [
    "np_arr = np.array([10, 20, 123123])"
   ]
  },
  {
   "cell_type": "code",
   "execution_count": null,
   "metadata": {},
   "outputs": [],
   "source": [
    "np_arr"
   ]
  },
  {
   "cell_type": "code",
   "execution_count": null,
   "metadata": {},
   "outputs": [],
   "source": [
    "np_arr.dtype"
   ]
  },
  {
   "cell_type": "markdown",
   "metadata": {},
   "source": [
    "What happens when one entry of the array is set to a floating point number?"
   ]
  },
  {
   "cell_type": "code",
   "execution_count": null,
   "metadata": {},
   "outputs": [],
   "source": [
    "np_arr[-1] = 1.234\n",
    "np_arr"
   ]
  },
  {
   "cell_type": "code",
   "execution_count": null,
   "metadata": {},
   "outputs": [],
   "source": [
    "np_arr.dtype"
   ]
  },
  {
   "cell_type": "code",
   "execution_count": null,
   "metadata": {},
   "outputs": [],
   "source": [
    "np_arr"
   ]
  },
  {
   "cell_type": "markdown",
   "metadata": {},
   "source": [
    "**If we store a floating point number in an array on integers, i will be automatically converted into an integer!**\n",
    "\n",
    "**<font color=\"red\">Why is a homogeneous data type required for arrays?</font>** \n",
    "- **Less memory**\n",
    "- **Speed**"
   ]
  },
  {
   "cell_type": "code",
   "execution_count": null,
   "metadata": {},
   "outputs": [],
   "source": [
    "n = 50000\n",
    "x = range(n)        # List\n",
    "y = np.arange(n)    # Numpy array"
   ]
  },
  {
   "cell_type": "markdown",
   "metadata": {},
   "source": [
    "Memory:"
   ]
  },
  {
   "cell_type": "code",
   "execution_count": null,
   "metadata": {},
   "outputs": [],
   "source": [
    "import sys\n",
    "size_list = sys.getsizeof(1) * len(x)\n",
    "size_npArray = y.nbytes\n",
    "print(f\"Size of the list (bytes):        {size_list}\")\n",
    "print(f\"Size of the NumPy array (bytes): {size_npArray}\")\n",
    "print(f\"Size ratio:                      {size_list/size_npArray}\")"
   ]
  },
  {
   "cell_type": "markdown",
   "metadata": {},
   "source": [
    "Speed:"
   ]
  },
  {
   "cell_type": "code",
   "execution_count": null,
   "metadata": {},
   "outputs": [],
   "source": [
    "# Create a list of square of numbers using list comprehension\n",
    "time_list = %timeit -o [e**2  for e in x]"
   ]
  },
  {
   "cell_type": "code",
   "execution_count": null,
   "metadata": {},
   "outputs": [],
   "source": [
    "# Compute the square of numbers using NumPy vectorization\n",
    "time_numpy = %timeit -o y**2"
   ]
  },
  {
   "cell_type": "code",
   "execution_count": null,
   "metadata": {},
   "outputs": [],
   "source": [
    "print(f\"Speedup (NumPy against List): {time_list.best/time_numpy.best}\")"
   ]
  },
  {
   "cell_type": "markdown",
   "metadata": {},
   "source": [
    "### <font color=\"blue\">Important </font>\n",
    "- NumPy arrays are **statically typed** and **homogeneous**. The type of the elements is determined when the array is created.\n",
    "- NumPy arrays are memory efficient. An equivalent NumPy array occupies much less space (as a a single continuous block of memory) than a Python list.\n",
    "- <font color=\"red\">Once a Numpy array is created, you cannot increase its **size**</font>. \n",
    "- In contrast, lists can contain elements of arbitrary type.\n",
    "- NumPy arrays support vectorised operations, while lists do not.\n",
    "- Because of the static typing, fast implementation of mathematical functions such as multiplication and addition of NumPy arrays can be implemented in a compiled language (C and Fortran is used).\n",
    "\n",
    "Compared to lists, NumPy arrays are convenient as they have the following features:\n",
    "\n",
    "- Less memory requirement.\n",
    "- Makes accessing elements and specific portions of the array very easy.\n",
    "- Faster processing.\n",
    "- Convenience of use for mathematical operations (due to presence of compatible built-in functions)."
   ]
  },
  {
   "cell_type": "markdown",
   "metadata": {},
   "source": [
    "## <font color='red'>Array Creation from Functions</font>\n",
    "\n",
    "There are three different ways to create NumPy arrays:\n",
    "\n",
    "* Conversion from other Python structures like lists (see above)\n",
    "* Using NumPy functions\n",
    "* Using special library functions"
   ]
  },
  {
   "cell_type": "markdown",
   "metadata": {},
   "source": [
    "### <font color=\"blue\">Using Numpy Functions</font>\n",
    "\n",
    "The function `ones` creates an array filled with ones"
   ]
  },
  {
   "cell_type": "code",
   "execution_count": null,
   "metadata": {},
   "outputs": [],
   "source": [
    "b = np.ones((3,2))\n",
    "print(b)\n",
    "print(b.shape)"
   ]
  },
  {
   "cell_type": "markdown",
   "metadata": {},
   "source": [
    "The function `ones_like` returns an array of ones with the same shape and type as a given array."
   ]
  },
  {
   "cell_type": "code",
   "execution_count": null,
   "metadata": {},
   "outputs": [],
   "source": [
    "bo = np.ones_like(b)\n",
    "print(bo.shape)\n",
    "print(bo)"
   ]
  },
  {
   "cell_type": "markdown",
   "metadata": {},
   "source": [
    "The function `zeros` an array filled with zeros."
   ]
  },
  {
   "cell_type": "code",
   "execution_count": null,
   "metadata": {},
   "outputs": [],
   "source": [
    "# integer values\n",
    "c = np.zeros((1,3), int)\n",
    "print(c)\n",
    "print(type(c))\n",
    "print(c.dtype)"
   ]
  },
  {
   "cell_type": "code",
   "execution_count": null,
   "metadata": {},
   "outputs": [],
   "source": [
    "# complex numbers\n",
    "d = np.zeros(3, complex)\n",
    "print(d)\n",
    "print(d.dtype)"
   ]
  },
  {
   "cell_type": "markdown",
   "metadata": {},
   "source": [
    "The function `zeros_like` returns an array of zeros with the same shape and type as a given array."
   ]
  },
  {
   "cell_type": "code",
   "execution_count": null,
   "metadata": {},
   "outputs": [],
   "source": [
    "bz = np.zeros_like(b)\n",
    "print(bz.shape)\n",
    "print(bz)"
   ]
  },
  {
   "cell_type": "markdown",
   "metadata": {},
   "source": [
    "The `eye` function lets you create a $n \\times n$ array with the diagonal 1s and the other entries 0."
   ]
  },
  {
   "cell_type": "code",
   "execution_count": null,
   "metadata": {},
   "outputs": [],
   "source": [
    "a = np.eye(5)\n",
    "print(a)"
   ]
  },
  {
   "cell_type": "markdown",
   "metadata": {},
   "source": [
    "The `empty` function creates an array. Its initial content is random and depends on the state of the memory."
   ]
  },
  {
   "cell_type": "code",
   "execution_count": null,
   "metadata": {},
   "outputs": [],
   "source": [
    "a = np.empty((2,3))\n",
    "print(a)"
   ]
  },
  {
   "cell_type": "markdown",
   "metadata": {},
   "source": [
    "The function `empty_like` returns a new array with the same shape and type as a given array."
   ]
  },
  {
   "cell_type": "code",
   "execution_count": null,
   "metadata": {},
   "outputs": [],
   "source": [
    "be = np.empty_like(b)\n",
    "print(be.shape)\n",
    "print(be)"
   ]
  },
  {
   "cell_type": "markdown",
   "metadata": {},
   "source": [
    "The `full` function creates a $n \\times n$ array filled with the given value."
   ]
  },
  {
   "cell_type": "code",
   "execution_count": null,
   "metadata": {},
   "outputs": [],
   "source": [
    "a = np.full((2,2), 3)\n",
    "print(a)"
   ]
  },
  {
   "cell_type": "markdown",
   "metadata": {},
   "source": [
    "The function `full_like` returns a full array with the same shape and type as a given array."
   ]
  },
  {
   "cell_type": "code",
   "execution_count": null,
   "metadata": {},
   "outputs": [],
   "source": [
    "bf = np.full_like(b, 7)\n",
    "print(bf.shape)\n",
    "print(bf)"
   ]
  },
  {
   "cell_type": "markdown",
   "metadata": {},
   "source": [
    "The `linspace` function creates linearly-spaced grids, with a fixed number of points and including both ends of the specified interval.\n",
    "\n",
    "`linspace(a, b, n)` generates `n` uniformly spaced coordinates, starting with `a` and ending with `b`."
   ]
  },
  {
   "cell_type": "code",
   "execution_count": null,
   "metadata": {},
   "outputs": [],
   "source": [
    "x = np.linspace(-5, 5, 11)\n",
    "print(x)"
   ]
  },
  {
   "cell_type": "markdown",
   "metadata": {},
   "source": [
    "The function `logspace` rises in a logarithmic scale. Here, the given start value is actually $base^{start}$ and ends with $base^{stop}$, with a default `base` value of 10."
   ]
  },
  {
   "cell_type": "code",
   "execution_count": null,
   "metadata": {},
   "outputs": [],
   "source": [
    "x = np.logspace(0, 2, 11)\n",
    "print(x)"
   ]
  },
  {
   "cell_type": "markdown",
   "metadata": {},
   "source": [
    "The function `arange` is the Numpy equivalent of `range`.\n",
    "\n",
    "`arange(start, stop, step=1)`"
   ]
  },
  {
   "cell_type": "code",
   "execution_count": null,
   "metadata": {},
   "outputs": [],
   "source": [
    "x = np.arange(-5, 5, 1, float)   # upper limit 5 is not included!!\n",
    "print (x)"
   ]
  },
  {
   "cell_type": "markdown",
   "metadata": {},
   "source": [
    "#### <font color='orange'> Example</font>: compute the square of a list of numbers"
   ]
  },
  {
   "cell_type": "code",
   "execution_count": null,
   "metadata": {},
   "outputs": [],
   "source": [
    "n = int(1e6)"
   ]
  },
  {
   "cell_type": "markdown",
   "metadata": {},
   "source": [
    "Using the `range` function (list):"
   ]
  },
  {
   "cell_type": "code",
   "execution_count": null,
   "metadata": {},
   "outputs": [],
   "source": [
    "time_list = %timeit -o for i in range(n): i**2"
   ]
  },
  {
   "cell_type": "markdown",
   "metadata": {},
   "source": [
    "Standard way of using `arange`:"
   ]
  },
  {
   "cell_type": "code",
   "execution_count": null,
   "metadata": {},
   "outputs": [],
   "source": [
    "time_numpy1 = %timeit -o for i in np.arange(n): i**2"
   ]
  },
  {
   "cell_type": "markdown",
   "metadata": {},
   "source": [
    "Best way of using arange (vectorization):"
   ]
  },
  {
   "cell_type": "code",
   "execution_count": null,
   "metadata": {},
   "outputs": [],
   "source": [
    "time_numpy2 = %timeit -o np.arange(n) **2"
   ]
  },
  {
   "cell_type": "code",
   "execution_count": null,
   "metadata": {},
   "outputs": [],
   "source": [
    "print(f\"Speedup-1: {time_list.best/time_numpy1.best}\")\n",
    "print(f\"Speedup-2: {time_list.best/time_numpy2.best}\")"
   ]
  },
  {
   "cell_type": "markdown",
   "metadata": {},
   "source": [
    "---"
   ]
  },
  {
   "cell_type": "markdown",
   "metadata": {},
   "source": [
    "### <font color=\"blue\">Breakout</font>\n",
    "Write a function that:\n",
    "* Takes as arguments two positive integers `n` amd `m`\n",
    "* Returns two Numpy arrays:\n",
    "   - An array of `n` uniformly spaced elements from 1 to $10^m$.\n",
    "   - An array of `n` elements logarithmically spaced from 1 to $10^m$.\n",
    "   \n",
    "   \n",
    "<p>\n",
    "<details><summary><b>Click here to access the solution</b></summary>\n",
    "<p>\n",
    "\n",
    "\n",
    "```python\n",
    "def array_creation(n, m):\n",
    "    uni_array = np.linspace(1, 10**m, n)\n",
    "    log_array = np.logspace(0, m, n)\n",
    "    return uni_array, log_array\n",
    "```\n",
    "\n",
    "</p>\n",
    "</details>"
   ]
  },
  {
   "cell_type": "markdown",
   "metadata": {},
   "source": [
    "#### Other Useful Functions\n",
    "\n",
    "| Function\t| Description |\n",
    "| :--- | :--- |\n",
    "| `geomspace()` |\tReturn evenly spaced numbers on a log scale. |\n",
    "| `copy()` |\tReturns a copy of the given object |\n",
    "| `diag()` |\ta diagonal array |\n",
    "| `frombuffer()` |\tbuffer as a 1-D array |\n",
    "| `fromfile()` |\tConstruct an array from text or binary file |\n",
    "| `bmat()` |\tBuild a matrix object from a string, nested sequence, or array |\n",
    "| `mat()` |\tInterpret the input as a matrix |\n",
    "| `vander()` |\tGenerate a Vandermonde matrix |\n",
    "| `triu()` |\tUpper triangle of array |\n",
    "| `tril()` |\tLower triangle of array |\n",
    "| `tri()` |\tAn array with ones at & below the given diagonal and zeros elsewhere |\n",
    "| `diagflat()` |\ttwo-dimensional array with the flattened input as a diagonal |\n",
    "| `fromfunction()` | executing a function over each coordinate |\n",
    "| `meshgrid()` |\tReturn coordinate matrices from coordinate vectors |"
   ]
  },
  {
   "cell_type": "markdown",
   "metadata": {},
   "source": [
    "### <font color=\"purple\">Going Deeper: Initializing an array from a Python function: use `fromfunction()`</font>"
   ]
  },
  {
   "cell_type": "code",
   "execution_count": null,
   "metadata": {},
   "outputs": [],
   "source": [
    "def my_func(i, j):\n",
    "    \"\"\"\n",
    "      Function that takes as arguments two integers\n",
    "      and returns a number.\n",
    "    \"\"\"\n",
    "    return (i+1)*(j+4-i)"
   ]
  },
  {
   "cell_type": "code",
   "execution_count": null,
   "metadata": {},
   "outputs": [],
   "source": [
    "# Make 3x6 array where a[i,j] = my_func(i,j):\n",
    "a = np.fromfunction(my_func, (3,6))\n",
    "print(a)"
   ]
  },
  {
   "cell_type": "markdown",
   "metadata": {},
   "source": [
    "---\n",
    "\n",
    "### <font color=\"blue\"> Breakout</font>\n",
    "Use the array initialization from a function method to create a 5x5 indentity matrix.\n",
    "<p>\n",
    "<p>\n",
    "\n",
    "<details><summary><b>Click here to access the solution</b></summary>\n",
    "<p>\n",
    "\n",
    "\n",
    "```python\n",
    "def identity_func(i, j):\n",
    "    return i==j\n",
    "\n",
    "a = np.fromfunction(identity_func, (5,5)).astype(int)\n",
    "```\n",
    "\n",
    "</p>\n",
    "</details>\n",
    "\n",
    "---"
   ]
  },
  {
   "cell_type": "markdown",
   "metadata": {},
   "source": [
    "---"
   ]
  },
  {
   "cell_type": "markdown",
   "metadata": {},
   "source": [
    "### <font color=\"purple\"> Going Deeper: Using Library Functions</font>\n",
    "\n",
    "- You can also use special library functions to create arrays.\n",
    "- For example, to create an array filled with random values between 0 and 1, use random function.\n",
    "- This is particularly useful for problems where you need a random state to get started."
   ]
  },
  {
   "cell_type": "markdown",
   "metadata": {},
   "source": [
    "Random numbers between [0,1) of shape 2,3:"
   ]
  },
  {
   "cell_type": "code",
   "execution_count": null,
   "metadata": {},
   "outputs": [],
   "source": [
    "print(np.random.rand(2,3))"
   ]
  },
  {
   "cell_type": "markdown",
   "metadata": {},
   "source": [
    "Normal distribution with `mean=0` and `variance=1` of shape 2,3:"
   ]
  },
  {
   "cell_type": "code",
   "execution_count": null,
   "metadata": {},
   "outputs": [],
   "source": [
    "print(np.random.randn(2,3))"
   ]
  },
  {
   "cell_type": "markdown",
   "metadata": {},
   "source": [
    "Random integers between [0, 10) of shape 2,3:"
   ]
  },
  {
   "cell_type": "code",
   "execution_count": null,
   "metadata": {},
   "outputs": [],
   "source": [
    "print(np.random.randint(0, 10, size=[2,3]))"
   ]
  },
  {
   "cell_type": "markdown",
   "metadata": {},
   "source": [
    "Random numbers between [0,1) of shape 2,3:"
   ]
  },
  {
   "cell_type": "code",
   "execution_count": null,
   "metadata": {},
   "outputs": [],
   "source": [
    "print(np.random.random(size=[2,3]))"
   ]
  },
  {
   "cell_type": "markdown",
   "metadata": {},
   "source": [
    "Pick 10 items from a given list, with equal probability:"
   ]
  },
  {
   "cell_type": "code",
   "execution_count": null,
   "metadata": {},
   "outputs": [],
   "source": [
    "print(np.random.choice(['a', 'e', 'i', 'o', 'u'], size=10))  "
   ]
  },
  {
   "cell_type": "markdown",
   "metadata": {},
   "source": [
    "Pick 10 items from a given list with a predefined probability `p`:"
   ]
  },
  {
   "cell_type": "code",
   "execution_count": null,
   "metadata": {},
   "outputs": [],
   "source": [
    "print(np.random.choice(['a', 'e', 'i', 'o', 'u'], \n",
    "                       size=10, \n",
    "                       p=[0.3, .1, 0.1, 0.4, 0.1]))  # picks more o's"
   ]
  },
  {
   "cell_type": "markdown",
   "metadata": {},
   "source": [
    "Create random integers of size 10 between [0,10):"
   ]
  },
  {
   "cell_type": "code",
   "execution_count": null,
   "metadata": {},
   "outputs": [],
   "source": [
    "np.random.seed(100)\n",
    "arr_rand = np.random.randint(0, 10, size=10)\n",
    "print(arr_rand)"
   ]
  },
  {
   "cell_type": "markdown",
   "metadata": {},
   "source": [
    "Get the unique items and their counts:"
   ]
  },
  {
   "cell_type": "code",
   "execution_count": null,
   "metadata": {},
   "outputs": [],
   "source": [
    "uniqs, counts = np.unique(arr_rand, return_counts=True)\n",
    "print(\"Unique items : \", uniqs)\n",
    "print(\"Counts       : \", counts)"
   ]
  },
  {
   "cell_type": "markdown",
   "metadata": {},
   "source": [
    "* Creating and populating a Numpy array is the first step to using Numpy to perform fast numeric array computations. \n",
    "* Armed with different tools for creating arrays, you are now well set to perform basic array operations."
   ]
  },
  {
   "cell_type": "markdown",
   "metadata": {},
   "source": [
    "---"
   ]
  },
  {
   "cell_type": "markdown",
   "metadata": {},
   "source": [
    "### <font color=\"blue\">Breakout</font>\n",
    "\n",
    "Write a function that:\n",
    "- Takes as argument a Numpy array,  and \n",
    "- Prints the entries that appear more than once.\n",
    "\n",
    "<p>\n",
    "<p>\n",
    "\n",
    "<details><summary><b>Click here to access the solution</b></summary>\n",
    "<p>\n",
    "\n",
    "\n",
    "```python\n",
    "def print_repeating_entries(np_array):\n",
    "    \"\"\"\n",
    "       Print the entries that appear more than once\n",
    "       in a Numpy array.\n",
    "    \"\"\"\n",
    "    uniqs, counts = np.unique(np_array, return_counts=True)\n",
    "    for c, u in zip(counts, uniqs):\n",
    "        if c > 1:\n",
    "            print(f\"The entry {u} occurs {c} times\")\n",
    "```\n",
    "\n",
    "</p>\n",
    "</details>"
   ]
  },
  {
   "cell_type": "markdown",
   "metadata": {},
   "source": [
    "---"
   ]
  },
  {
   "cell_type": "markdown",
   "metadata": {},
   "source": [
    "## <font color='red'>Changing Array Dimension</font>\n",
    "- `reshape` changes the arrangement of items so that shape of the array changes while maintaining the same number of dimensions.\n",
    "- `flatten` converts a multi-dimensional array to a flat 1d array. And not any other shape."
   ]
  },
  {
   "cell_type": "code",
   "execution_count": null,
   "metadata": {},
   "outputs": [],
   "source": [
    "a = np.array([0, 1.2, 4, -9.1, 5, 8])\n",
    "print(f\"Initial shape: {a.shape}\")"
   ]
  },
  {
   "cell_type": "markdown",
   "metadata": {},
   "source": [
    "Turn a into a $2 \\times 3$ array:"
   ]
  },
  {
   "cell_type": "code",
   "execution_count": null,
   "metadata": {},
   "outputs": [],
   "source": [
    "a.shape = (2, 3) \n",
    "print(a.size)\n",
    "print(f\"First shape change: {a.shape}\")"
   ]
  },
  {
   "cell_type": "markdown",
   "metadata": {},
   "source": [
    "Turn a into a vector of length 6 again:"
   ]
  },
  {
   "cell_type": "code",
   "execution_count": null,
   "metadata": {},
   "outputs": [],
   "source": [
    "a.shape = (a.size,) \n",
    "print(f\"Second shape change: {a.shape}\")"
   ]
  },
  {
   "cell_type": "markdown",
   "metadata": {},
   "source": [
    "Same effect as setting `a.shape`:"
   ]
  },
  {
   "cell_type": "code",
   "execution_count": null,
   "metadata": {},
   "outputs": [],
   "source": [
    "a = a.reshape(2, 3) \n",
    "print(f\"Third shape change: {a.shape}\")"
   ]
  },
  {
   "cell_type": "markdown",
   "metadata": {},
   "source": [
    "![fig_reshape](https://backtobazics.com/wp-content/uploads/2018/08/numpy-reshape-examples.jpg)\n",
    "Image Source: backtobazics.com"
   ]
  },
  {
   "cell_type": "markdown",
   "metadata": {},
   "source": [
    "**There are two popular ways to implement flattening:**\n",
    "\n",
    "- `flatten()`: \n",
    "- `ravel()`: the new array created is actually a reference to the parent array. Any changes to the new array will affect the parent as well. But is memory efficient since it does not create a copy."
   ]
  },
  {
   "cell_type": "markdown",
   "metadata": {},
   "source": [
    "Changing the flattened array does not change parent "
   ]
  },
  {
   "cell_type": "code",
   "execution_count": null,
   "metadata": {},
   "outputs": [],
   "source": [
    "b = a.flatten()\n",
    "print(f\"Flattened array: {b}\")\n",
    "\n",
    "b[0] = 100 \n",
    "print(a)"
   ]
  },
  {
   "cell_type": "markdown",
   "metadata": {},
   "source": [
    "Changing the raveled array changes the parent also."
   ]
  },
  {
   "cell_type": "code",
   "execution_count": null,
   "metadata": {},
   "outputs": [],
   "source": [
    "c = a.ravel()  \n",
    "c[0] = 101        # changing c changes a also\n",
    "print(a)"
   ]
  },
  {
   "cell_type": "markdown",
   "metadata": {},
   "source": [
    "### <font color=\"blue\">Breakout</font>\n",
    "Reshape the array below into a 8x9 array.\n",
    "\n",
    "```python\n",
    "my_array = np.linspace(0, 50, 72)\n",
    "```\n",
    "\n",
    "<p>\n",
    "<p>\n",
    "\n",
    "<details><summary><b>Click here to access the solution</b></summary>\n",
    "<p>\n",
    "\n",
    "\n",
    "```python\n",
    "my_array = my_array.reshape(8,9)\n",
    "```\n",
    "\n",
    "</p>\n",
    "</details>"
   ]
  },
  {
   "cell_type": "markdown",
   "metadata": {},
   "source": [
    "## <font color='red'>Indexing with other Arrays</font>: Array Masking\n",
    "\n",
    "* Arrays allow for a more sophisticated kind of indexing which is very powerful: array masking. \n",
    "* You can index an array with another array, and in particular with an array of boolean values. \n",
    "* This is particluarly useful to extract information from an array that matches a certain condition."
   ]
  },
  {
   "cell_type": "markdown",
   "metadata": {},
   "source": [
    "Fancy indexing is the name for when an array or list is used in-place of an index:"
   ]
  },
  {
   "cell_type": "code",
   "execution_count": null,
   "metadata": {},
   "outputs": [],
   "source": [
    "A = np.array([[n+m*10 for n in range(5)] for m in range(6)])"
   ]
  },
  {
   "cell_type": "code",
   "execution_count": null,
   "metadata": {},
   "outputs": [],
   "source": [
    "A.shape"
   ]
  },
  {
   "cell_type": "code",
   "execution_count": null,
   "metadata": {},
   "outputs": [],
   "source": [
    "A"
   ]
  },
  {
   "cell_type": "markdown",
   "metadata": {},
   "source": [
    "Select specific row by passing a list of indices:"
   ]
  },
  {
   "cell_type": "code",
   "execution_count": null,
   "metadata": {},
   "outputs": [],
   "source": [
    "row_indices = [1, 2, 3]\n",
    "A[row_indices]"
   ]
  },
  {
   "cell_type": "markdown",
   "metadata": {},
   "source": [
    "We can also pass column indices:"
   ]
  },
  {
   "cell_type": "code",
   "execution_count": null,
   "metadata": {},
   "outputs": [],
   "source": [
    "col_indices = [1, 2, -1]\n",
    "A[:, col_indices]"
   ]
  },
  {
   "cell_type": "markdown",
   "metadata": {},
   "source": [
    "We can combine the row and column indices in a pair-wise selection:"
   ]
  },
  {
   "cell_type": "code",
   "execution_count": null,
   "metadata": {},
   "outputs": [],
   "source": [
    "A[row_indices, col_indices]"
   ]
  },
  {
   "cell_type": "markdown",
   "metadata": {},
   "source": [
    "We can also use index masks: \n",
    "\n",
    "- If the index mask is an Numpy array of data type `bool`, then an element is selected (`True`) or not (`False`) depending on the value of the index mask at the position of each element."
   ]
  },
  {
   "cell_type": "code",
   "execution_count": null,
   "metadata": {},
   "outputs": [],
   "source": [
    "B = np.array([n for n in range(5)])\n",
    "B"
   ]
  },
  {
   "cell_type": "code",
   "execution_count": null,
   "metadata": {},
   "outputs": [],
   "source": [
    "row_mask = np.array([True, False, True, False, False])\n",
    "row_mask"
   ]
  },
  {
   "cell_type": "code",
   "execution_count": null,
   "metadata": {},
   "outputs": [],
   "source": [
    "B[row_mask]"
   ]
  },
  {
   "cell_type": "markdown",
   "metadata": {},
   "source": [
    "We can also use the formulation:"
   ]
  },
  {
   "cell_type": "code",
   "execution_count": null,
   "metadata": {},
   "outputs": [],
   "source": [
    "row_mask = np.array([1, 0, 1, 0, 0], dtype=bool)\n",
    "B[row_mask]"
   ]
  },
  {
   "cell_type": "markdown",
   "metadata": {},
   "source": [
    "#### Masking\n",
    "\n",
    "- A **mask** is an array that has the exact same shape as your data, but instead of your values, it holds Boolean values: either `True` or `False`. \n",
    "- You can use this mask array to index into your data array in nonlinear and complex ways. It will return all of the elements where the Boolean array has a True value.\n",
    "\n",
    "\n",
    "This feature is very useful to conditionally select elements from an array, using for example comparison operators:"
   ]
  },
  {
   "cell_type": "code",
   "execution_count": null,
   "metadata": {},
   "outputs": [],
   "source": [
    "x = np.arange(0, 10, 0.5)\n",
    "x"
   ]
  },
  {
   "cell_type": "code",
   "execution_count": null,
   "metadata": {},
   "outputs": [],
   "source": [
    "mask = (5 < x) * (x < 7.5)\n",
    "mask"
   ]
  },
  {
   "cell_type": "code",
   "execution_count": null,
   "metadata": {},
   "outputs": [],
   "source": [
    "x[mask]"
   ]
  },
  {
   "cell_type": "markdown",
   "metadata": {},
   "source": [
    "### <font color='blue'>Functions for Extracting Data from Arrays and Creating Arrays</font>"
   ]
  },
  {
   "cell_type": "markdown",
   "metadata": {},
   "source": [
    "**`where()`**\n",
    "\n",
    "The index mask can be converted to position index using the `where()` function:"
   ]
  },
  {
   "cell_type": "code",
   "execution_count": null,
   "metadata": {},
   "outputs": [],
   "source": [
    "indices = np.where(mask)\n",
    "indices"
   ]
  },
  {
   "cell_type": "markdown",
   "metadata": {},
   "source": [
    "The following this indexing is equivalent to the fancy indexing `x[mask]`:"
   ]
  },
  {
   "cell_type": "code",
   "execution_count": null,
   "metadata": {},
   "outputs": [],
   "source": [
    "x[indices]"
   ]
  },
  {
   "cell_type": "markdown",
   "metadata": {},
   "source": [
    "**`diag()`**\n",
    "\n",
    "With the `diag(v, k=0)` function we can also extract the diagonal and subdiagonals of an array:\n",
    "- The default value of `k` is 0. \n",
    "- Use `k>0` for diagonals above the main diagonal.\n",
    "- Use `k<0` for diagonals below the main diagonal."
   ]
  },
  {
   "cell_type": "code",
   "execution_count": null,
   "metadata": {},
   "outputs": [],
   "source": [
    "A"
   ]
  },
  {
   "cell_type": "code",
   "execution_count": null,
   "metadata": {},
   "outputs": [],
   "source": [
    "np.diag(A)"
   ]
  },
  {
   "cell_type": "markdown",
   "metadata": {},
   "source": [
    "For the diagonal below the main diagonal:"
   ]
  },
  {
   "cell_type": "code",
   "execution_count": null,
   "metadata": {},
   "outputs": [],
   "source": [
    "np.diag(A, -1)"
   ]
  },
  {
   "cell_type": "markdown",
   "metadata": {},
   "source": [
    "**`take()`**\n",
    "\n",
    "The `take` function is similar to fancy indexing described above:"
   ]
  },
  {
   "cell_type": "code",
   "execution_count": null,
   "metadata": {},
   "outputs": [],
   "source": [
    "v2 = np.arange(-3,3)\n",
    "v2"
   ]
  },
  {
   "cell_type": "code",
   "execution_count": null,
   "metadata": {},
   "outputs": [],
   "source": [
    "row_indices = [1, 3, 5]\n",
    "v2[row_indices] "
   ]
  },
  {
   "cell_type": "code",
   "execution_count": null,
   "metadata": {},
   "outputs": [],
   "source": [
    "v2.take(row_indices)"
   ]
  },
  {
   "cell_type": "markdown",
   "metadata": {},
   "source": [
    "`take` also works on lists and other objects:"
   ]
  },
  {
   "cell_type": "code",
   "execution_count": null,
   "metadata": {},
   "outputs": [],
   "source": [
    "np.take([-3, -2, -1,  0,  1,  2], row_indices)"
   ]
  },
  {
   "cell_type": "markdown",
   "metadata": {},
   "source": [
    "**`choose()`**\n",
    "\n",
    "Constructs an array from an index array and a set of arrays to choose from:\n",
    "\n",
    "```python\n",
    "np.choose(a,c) == np.array([c[a[I]][I] for I in ndi.ndindex(a.shape)])\n",
    "```"
   ]
  },
  {
   "cell_type": "code",
   "execution_count": null,
   "metadata": {},
   "outputs": [],
   "source": [
    "which = [1, 0, 1, 0]\n",
    "choices = [[-2, -3, -4, -5], [5, 6, 7, 8]]\n",
    "\n",
    "print(choices)"
   ]
  },
  {
   "cell_type": "code",
   "execution_count": null,
   "metadata": {},
   "outputs": [],
   "source": [
    "np.choose(which, choices)"
   ]
  },
  {
   "cell_type": "markdown",
   "metadata": {},
   "source": [
    "- The first element of the result will be the first element of the second (`1`+1) \"array\" in choices, namely, 5. \n",
    "- The second element will be the second element of the first (`0`+1) choice array, i.e., -3.\n",
    "- The third element will be the third element of the second (`1`+1) choice array, i.e., 7. \n",
    "- The fourth element will be the fourth element of the first (`0`+1) choice array, i.e., -5."
   ]
  },
  {
   "cell_type": "markdown",
   "metadata": {},
   "source": [
    "### <font color='blue'>Representing Missing Values and Infinite</font>\n",
    "- Undefined or missing values can be represented using:\n",
    "   - `np.nan`, or\n",
    "   - `np.inf` (represents infinity value).\n",
    "- Numpy uses the IEEE standard for floating-point for arithmetic. This means that `np.nan` is not equivalent to infinity value."
   ]
  },
  {
   "cell_type": "markdown",
   "metadata": {},
   "source": [
    "Consider the Numpy array:"
   ]
  },
  {
   "cell_type": "code",
   "execution_count": null,
   "metadata": {},
   "outputs": [],
   "source": [
    "a = np.array([0, 1.2, 4, -9.1, 5, 8]).reshape(2,3)\n",
    "print(a)"
   ]
  },
  {
   "cell_type": "markdown",
   "metadata": {},
   "source": [
    "We can get few information from the array:"
   ]
  },
  {
   "cell_type": "code",
   "execution_count": null,
   "metadata": {},
   "outputs": [],
   "source": [
    "print(f\"Sum:  {a.sum()}\")\n",
    "print(f\"Mean: {a.mean()}\")\n",
    "print(f\"STD:  {a.std()}\")"
   ]
  },
  {
   "cell_type": "markdown",
   "metadata": {},
   "source": [
    "Insert a `nan` and an `inf`:"
   ]
  },
  {
   "cell_type": "code",
   "execution_count": null,
   "metadata": {},
   "outputs": [],
   "source": [
    "a[1,1] = np.nan  # not a number\n",
    "a[1,2] = np.inf  # infinite\n",
    "print(a)"
   ]
  },
  {
   "cell_type": "markdown",
   "metadata": {},
   "source": [
    "What happens if we get generate basic statistics?"
   ]
  },
  {
   "cell_type": "code",
   "execution_count": null,
   "metadata": {},
   "outputs": [],
   "source": [
    "print(f\"Sum:  {a.sum()}\")\n",
    "print(f\"Mean: {a.mean()}\")\n",
    "print(f\"STD:  {a.std()}\")"
   ]
  },
  {
   "cell_type": "markdown",
   "metadata": {},
   "source": [
    "- That is not what we want to obtain even if some entries are `NaN`\n",
    "- We need to exclude `NaN` values from the calculations."
   ]
  },
  {
   "cell_type": "markdown",
   "metadata": {},
   "source": [
    "To check for `NaN` values, we can use the `isnan()` method:"
   ]
  },
  {
   "cell_type": "code",
   "execution_count": null,
   "metadata": {},
   "outputs": [],
   "source": [
    "np.isnan(a) "
   ]
  },
  {
   "cell_type": "code",
   "execution_count": null,
   "metadata": {},
   "outputs": [],
   "source": [
    "np.isinf(a)"
   ]
  },
  {
   "cell_type": "markdown",
   "metadata": {},
   "source": [
    "Create a mask and replace `NaN` and `inf` with -999:"
   ]
  },
  {
   "cell_type": "code",
   "execution_count": null,
   "metadata": {},
   "outputs": [],
   "source": [
    "missing_bool = np.isnan(a) | np.isinf(a)\n",
    "print(f\"Mask: {missing_bool}\")\n",
    "\n",
    "a[missing_bool] = -999  \n",
    "print(f\"a: {a}\")"
   ]
  },
  {
   "cell_type": "markdown",
   "metadata": {},
   "source": [
    "**`ma.masked_where` Function**\n",
    "\n",
    "- Mask an array where a condition is met.\n",
    "\n",
    "```python\n",
    "    ma.masked_where(condition, arr, copy=True)\n",
    "```\n",
    "\n",
    "- `condition`: masking condition\n",
    "- `arr`: Numpy array to mask.\n",
    "- `copy`: If True (default) make a copy of `arr` in the result. If False modify `arr` in place and return a view.\n",
    "- Returns the result of masking `arr` where condition is `True`."
   ]
  },
  {
   "cell_type": "code",
   "execution_count": null,
   "metadata": {},
   "outputs": [],
   "source": [
    "b = np.array([0, 1.2, 4, -999.0, 5, -999.0]).reshape(2,3)\n",
    "print(f\"b = {b}\")"
   ]
  },
  {
   "cell_type": "markdown",
   "metadata": {},
   "source": [
    "Replace `-999.0` with `NaN`:"
   ]
  },
  {
   "cell_type": "code",
   "execution_count": null,
   "metadata": {},
   "outputs": [],
   "source": [
    "b[b == -999.0] = np.nan\n",
    "print(f\"b (with nan) = \\n {b}\")"
   ]
  },
  {
   "cell_type": "markdown",
   "metadata": {},
   "source": [
    "Mask the `NaN` using the `ma.masked_where` function:"
   ]
  },
  {
   "cell_type": "code",
   "execution_count": null,
   "metadata": {},
   "outputs": [],
   "source": [
    "b_new = np.ma.masked_where(np.isnan(b), b)\n",
    "\n",
    "print(f\"b (with mask) = \\n {b_new}\")"
   ]
  },
  {
   "cell_type": "markdown",
   "metadata": {},
   "source": [
    "You can obtain statistical information on the array:"
   ]
  },
  {
   "cell_type": "code",
   "execution_count": null,
   "metadata": {},
   "outputs": [],
   "source": [
    "print(f\"Sum:  {b_new.sum()}\")\n",
    "print(f\"Mean: {b_new.mean()}\")\n",
    "print(f\"STD:  {b_new.std()}\")"
   ]
  },
  {
   "cell_type": "markdown",
   "metadata": {},
   "source": [
    "- The masked array has nearly all of the methods that an Numpy array has, and a few special ones of its own. \n",
    "- For example, to find out how many unmasked values it contains, there is the `count` method:"
   ]
  },
  {
   "cell_type": "code",
   "execution_count": null,
   "metadata": {},
   "outputs": [],
   "source": [
    "print(f\"b has {b_new.count()} unmasked values\")"
   ]
  },
  {
   "cell_type": "markdown",
   "metadata": {},
   "source": [
    "To extract a Numpy array containing only the unmasked values, use the `compressed` method:"
   ]
  },
  {
   "cell_type": "code",
   "execution_count": null,
   "metadata": {},
   "outputs": [],
   "source": [
    "print(\"unmasked values are: {}\".format(b_new.compressed()))"
   ]
  },
  {
   "cell_type": "markdown",
   "metadata": {},
   "source": [
    "To obtain the mask array:"
   ]
  },
  {
   "cell_type": "code",
   "execution_count": null,
   "metadata": {},
   "outputs": [],
   "source": [
    "print(np.ma.getmaskarray(b_new))"
   ]
  },
  {
   "cell_type": "markdown",
   "metadata": {},
   "source": [
    "### <font color=\"blue\">Breakout</font>\n",
    "\n",
    "Write a function that:\n",
    "- Takes an arbitrary array with few elements having values -999.0\n",
    "- Returns a new array where -999.0 are replaced by Numpy NaN.\n",
    "\n",
    "---\n",
    "\n",
    "<p>\n",
    "<p>\n",
    "<p>\n",
    "<p>\n",
    "\n",
    "<details><summary><b>Click here to access the solution</b></summary>\n",
    "<p>\n",
    "\n",
    "\n",
    "```python\n",
    "def assign_nan(a):\n",
    "    a[a == -999.0] = np.nan\n",
    "    return a\n",
    "    \n",
    "```\n",
    "\n",
    "</p>\n",
    "</details>"
   ]
  },
  {
   "cell_type": "markdown",
   "metadata": {},
   "source": [
    "### <font color=\"green\">Application</font>\n",
    "\n",
    "#### Dealing with the valid range, filled value, scale factor and offset"
   ]
  },
  {
   "cell_type": "code",
   "execution_count": null,
   "metadata": {},
   "outputs": [],
   "source": [
    "a = np.linspace(-4.0, 4.0, 10)\n",
    "b = np.linspace(-2, 1.0, 5)\n",
    "data = np.array([[n+m*10.0 for n in a] for m in b])"
   ]
  },
  {
   "cell_type": "code",
   "execution_count": null,
   "metadata": {},
   "outputs": [],
   "source": [
    "data.shape"
   ]
  },
  {
   "cell_type": "code",
   "execution_count": null,
   "metadata": {},
   "outputs": [],
   "source": [
    "data"
   ]
  },
  {
   "cell_type": "code",
   "execution_count": null,
   "metadata": {},
   "outputs": [],
   "source": [
    "print(f\" Min value: {data.min()} \\n Max value: {data.max()}\")"
   ]
  },
  {
   "cell_type": "markdown",
   "metadata": {},
   "source": [
    "Assume the following:\n",
    "\n",
    "- The valid range is: `[-10, 12]`\n",
    "- The filled value is: `-9.0`\n",
    "- The scale factor is: `0.15`\n",
    "- The offset is: `0.85`\n",
    "\n",
    "How do we restore the array `data`?"
   ]
  },
  {
   "cell_type": "code",
   "execution_count": null,
   "metadata": {},
   "outputs": [],
   "source": [
    "valid_min = -10.0\n",
    "valid_max = 12.0\n",
    "_FillValue = -9.0\n",
    "scale_factor = 0.15\n",
    "add_offset = 0.85"
   ]
  },
  {
   "cell_type": "markdown",
   "metadata": {},
   "source": [
    "- All the values outside the valid range will be set to `NaN`.\n",
    "- All the values equal to the filled value will be set to `NaN`"
   ]
  },
  {
   "cell_type": "code",
   "execution_count": null,
   "metadata": {},
   "outputs": [],
   "source": [
    "invalid = np.logical_or(data > valid_max, data < valid_min)\n",
    "invalid = np.logical_or(invalid, data == _FillValue)\n",
    "data[invalid] = np.nan\n",
    "data"
   ]
  },
  {
   "cell_type": "code",
   "execution_count": null,
   "metadata": {},
   "outputs": [],
   "source": [
    "print(f\" Min value: {data.min()} \\n Max value: {data.max()}\")"
   ]
  },
  {
   "cell_type": "markdown",
   "metadata": {},
   "source": [
    "We can now apply the `scale_factor` and `add_offset`:"
   ]
  },
  {
   "cell_type": "code",
   "execution_count": null,
   "metadata": {},
   "outputs": [],
   "source": [
    "data = (data - add_offset) * scale_factor \n",
    "data = np.ma.masked_array(data, np.isnan(data))"
   ]
  },
  {
   "cell_type": "code",
   "execution_count": null,
   "metadata": {},
   "outputs": [],
   "source": [
    "data"
   ]
  },
  {
   "cell_type": "code",
   "execution_count": null,
   "metadata": {},
   "outputs": [],
   "source": [
    "print(f\" Min value: {data.min()} \\n Max value: {data.max()}\")"
   ]
  },
  {
   "cell_type": "markdown",
   "metadata": {},
   "source": [
    "## <font color='red'>Array Inspection and Indexing</font>\n",
    "\n",
    "We want to know:\n",
    "* If it is a 1D or a 2D array or more. (`ndim`)\n",
    "* How many items are present in each dimension (`shape`)\n",
    "* What is its datatype (`dtype`)\n",
    "* What is the total number of items in it (`size`)\n",
    "* Samples of first few items in the array (through indexing)"
   ]
  },
  {
   "cell_type": "code",
   "execution_count": null,
   "metadata": {},
   "outputs": [],
   "source": [
    "a = np.array([0, 1.2, 4, -9.1, 5, 8]).reshape(2,3)"
   ]
  },
  {
   "cell_type": "markdown",
   "metadata": {},
   "source": [
    "Determine the shape: `shape`"
   ]
  },
  {
   "cell_type": "code",
   "execution_count": null,
   "metadata": {},
   "outputs": [],
   "source": [
    "print('Shape: ', a.shape)"
   ]
  },
  {
   "cell_type": "markdown",
   "metadata": {},
   "source": [
    "Determine the data type of the entries: `dtype`"
   ]
  },
  {
   "cell_type": "code",
   "execution_count": null,
   "metadata": {},
   "outputs": [],
   "source": [
    "print('Datatype: ', a.dtype)"
   ]
  },
  {
   "cell_type": "markdown",
   "metadata": {},
   "source": [
    "Determine the number of entries: `size`"
   ]
  },
  {
   "cell_type": "code",
   "execution_count": null,
   "metadata": {},
   "outputs": [],
   "source": [
    "print('Size: ', a.size)"
   ]
  },
  {
   "cell_type": "markdown",
   "metadata": {},
   "source": [
    "Determine the number of dimensions: `ndim`"
   ]
  },
  {
   "cell_type": "code",
   "execution_count": null,
   "metadata": {},
   "outputs": [],
   "source": [
    "print('Num Dimensions: ', a.ndim)"
   ]
  },
  {
   "cell_type": "markdown",
   "metadata": {},
   "source": [
    "Determine the number of bytes per entry: `itemsize`"
   ]
  },
  {
   "cell_type": "code",
   "execution_count": null,
   "metadata": {},
   "outputs": [],
   "source": [
    "print('Num bytes per element: ', a.itemsize)"
   ]
  },
  {
   "cell_type": "markdown",
   "metadata": {},
   "source": [
    "Determine the number of bytes: `nbites`"
   ]
  },
  {
   "cell_type": "code",
   "execution_count": null,
   "metadata": {},
   "outputs": [],
   "source": [
    "print('Num bytes: ', a.nbytes)"
   ]
  },
  {
   "cell_type": "markdown",
   "metadata": {},
   "source": [
    "## <font color='red'>Array Slicing</font>"
   ]
  },
  {
   "cell_type": "markdown",
   "metadata": {},
   "source": [
    "* Slicing is specified using the colon operator `:` with a `from` and `to` index before and after the column respectively. \n",
    "* The slice extends from the `from` index and ends one item before the `to` index."
   ]
  },
  {
   "cell_type": "code",
   "execution_count": null,
   "metadata": {},
   "outputs": [],
   "source": [
    "a = np.linspace(0, 35, 36)"
   ]
  },
  {
   "cell_type": "markdown",
   "metadata": {},
   "source": [
    "Reshape the array:"
   ]
  },
  {
   "cell_type": "code",
   "execution_count": null,
   "metadata": {},
   "outputs": [],
   "source": [
    "a.shape = (6,6)\n",
    "print(a)"
   ]
  },
  {
   "cell_type": "markdown",
   "metadata": {},
   "source": [
    "```python\n",
    "a[i,j] for i=1,2 and j=0,2,4\n",
    "```"
   ]
  },
  {
   "cell_type": "code",
   "execution_count": null,
   "metadata": {},
   "outputs": [],
   "source": [
    "print(a[1:3,:-1:2])   "
   ]
  },
  {
   "cell_type": "markdown",
   "metadata": {},
   "source": [
    "```python\n",
    "a[i,j] for i=0,3 and j=2,4\n",
    "```"
   ]
  },
  {
   "cell_type": "code",
   "execution_count": null,
   "metadata": {},
   "outputs": [],
   "source": [
    "print(a[::3,2:-1:2])   "
   ]
  },
  {
   "cell_type": "markdown",
   "metadata": {},
   "source": [
    "![fig_sl](https://media.geeksforgeeks.org/wp-content/uploads/Numpy1.jpg)\n",
    "Image Source: geeksforgeeks.org/numpy-indexing/"
   ]
  },
  {
   "cell_type": "markdown",
   "metadata": {},
   "source": [
    "### Slice and Copy\n",
    "\n",
    "- To achieve high performance, assignments in Python usually do not copy the underlaying objects. \n",
    "- This is important for example when objects are passed between functions, to avoid an excessive amount of memory copying when it is not necessary (technical term: pass by reference).\n",
    "* With `a` as Numpy array, `a[:]` is a reference to the data."
   ]
  },
  {
   "cell_type": "code",
   "execution_count": null,
   "metadata": {},
   "outputs": [],
   "source": [
    "a = np.linspace(0, 29, 30)\n",
    "a.shape = (5,6)\n",
    "print(\"a = {}\".format(a))"
   ]
  },
  {
   "cell_type": "markdown",
   "metadata": {},
   "source": [
    "Extract 2nd column of `a`:"
   ]
  },
  {
   "cell_type": "code",
   "execution_count": null,
   "metadata": {},
   "outputs": [],
   "source": [
    "b = a[1,:]\n",
    "print(\"a[1,1] before: {}\".format(a[1,1]))\n",
    "b[1] = 2\n",
    "print(\"a[1,1] after: {}\".format(a[1,1]))"
   ]
  },
  {
   "cell_type": "markdown",
   "metadata": {},
   "source": [
    "Use the `copy` method (deep copy) to avoid referencing via slices:"
   ]
  },
  {
   "cell_type": "code",
   "execution_count": null,
   "metadata": {},
   "outputs": [],
   "source": [
    "b = a[1,:].copy()\n",
    "print(\"a[1,1] before: {}\".format(a[1,1]))\n",
    "b[1] = 7777     # b and a are two different arrays now\n",
    "print(\"a[1,1] after: {}\".format(a[1,1]))"
   ]
  },
  {
   "cell_type": "markdown",
   "metadata": {},
   "source": [
    "- You can also use `np.copyto(c, a)` to copy the content of `a` into `c`.\n",
    "- `a` and `c` should be of the same shape."
   ]
  },
  {
   "cell_type": "code",
   "execution_count": null,
   "metadata": {},
   "outputs": [],
   "source": [
    "c = np.zeros_like(a)\n",
    "print(\"a = {}\".format(a))\n",
    "print(\"c = {}\".format(c))"
   ]
  },
  {
   "cell_type": "code",
   "execution_count": null,
   "metadata": {},
   "outputs": [],
   "source": [
    "np.copyto(c, a)"
   ]
  },
  {
   "cell_type": "code",
   "execution_count": null,
   "metadata": {},
   "outputs": [],
   "source": [
    "print(\"a = {}\".format(a))\n",
    "print(\"c = {}\".format(c))"
   ]
  },
  {
   "cell_type": "markdown",
   "metadata": {},
   "source": [
    "---\n",
    "\n",
    "### <font color=\"blue\">Breakout</font>\n",
    "\n",
    "Consider the array:\n",
    "\n",
    "    my_array = np.arange(64).reshape(8,8)\n",
    "    \n",
    "Use array slicing to extract only entries with even values.\n",
    "\n",
    "---\n",
    "\n",
    "<p>\n",
    "<p>\n",
    "<p>\n",
    "<p>\n",
    "\n",
    "<details><summary><b>Click here to access the solution</b></summary>\n",
    "<p>\n",
    "\n",
    "\n",
    "```python\n",
    "my_array = np.arange(64).reshape(8,8)\n",
    "my_array[:,::2]    \n",
    "```\n",
    "\n",
    "</p>\n",
    "</details>"
   ]
  },
  {
   "cell_type": "markdown",
   "metadata": {},
   "source": [
    "## <font color='red'>Array Computations</font>"
   ]
  },
  {
   "cell_type": "markdown",
   "metadata": {},
   "source": [
    "Consider the operation:"
   ]
  },
  {
   "cell_type": "code",
   "execution_count": null,
   "metadata": {},
   "outputs": [],
   "source": [
    "b = 3*a - 1    # a is array, b becomes array"
   ]
  },
  {
   "cell_type": "markdown",
   "metadata": {},
   "source": [
    "The above operation generates a temporary array:\n",
    "\n",
    "* **Step 1:** tb = 3*a\n",
    "* **Step 2:** b = tb - 1\n",
    "\n",
    "**As far as possible, we want to avoid the creation of temporary arrays to limit the memory usage and to decrease the computational time associated with with array computations.**"
   ]
  },
  {
   "cell_type": "markdown",
   "metadata": {},
   "source": [
    "### <font color=\"blue\">Array Broadcasting</font>\n",
    "\n",
    "Array broadcasting is the process of extending two arrays of different shapes and figuring out how to perform a vectorized calculation between them. Broadcasting in NumPy follows a strict set of rules to determine the interaction between the two arrays:\n",
    "\n",
    "- **Rule 1**: If the two arrays differ in their number of dimensions, the shape of the one with fewer dimensions is padded with ones on its leading (left) side.\n",
    "- **Rule 2**: If the shape of the two arrays does not match in any dimension, the array with shape equal to 1 in that dimension is stretched to match the other shape.\n",
    "- **Rule 3**: If in any dimension the sizes disagree and neither is equal to 1, an error is raised.\n",
    "\n",
    "The general rule is that two dimensions are compatible when they are equal, or when one of them is 1. NumPy uses this rule to compare the shapes of the two arrays element-wise, starting with the trailing dimensions and working its way forward. The smallest dimension is internally stretched to match the other dimension, but **this operation does not involve any memory copy**.\n",
    "\n",
    "![fig_broad](https://scipy-lectures.org/_images/numpy_broadcasting.png)\n",
    "Image Source: scipy-lectures.org"
   ]
  },
  {
   "cell_type": "markdown",
   "metadata": {},
   "source": [
    "### <font color='blue'>In-Place Array Arithmetics</font>\n",
    "* Do not involve the creation of temporary arrays.\n",
    "* No memory allocation happens."
   ]
  },
  {
   "cell_type": "code",
   "execution_count": null,
   "metadata": {},
   "outputs": [],
   "source": [
    "b = a\n",
    "b *= 3  # or multiply(b, 3, b)\n",
    "b -= 1  # or subtract(b, 1, b)"
   ]
  },
  {
   "cell_type": "markdown",
   "metadata": {},
   "source": [
    "In-place operations:\n",
    "\n",
    "```python\n",
    "   a *= 3.0     # multiply a's elements by 3\n",
    "   a -= 1.0     # subtract 1 from each element\n",
    "   a /= 3.0     # divide each element by 3\n",
    "   a += 1.0     # add 1 to each element\n",
    "   a **= 2.0    # square all elements\n",
    "```"
   ]
  },
  {
   "cell_type": "markdown",
   "metadata": {},
   "source": [
    "#### Example"
   ]
  },
  {
   "cell_type": "code",
   "execution_count": null,
   "metadata": {},
   "outputs": [],
   "source": [
    "import numpy as np\n",
    "\n",
    "def regular_ops(a):\n",
    "    a = 0.0*a\n",
    "\n",
    "def inplace_ops(a):\n",
    "    a *= 0.0\n",
    "    \n",
    "n = 100000000\n",
    "a = np.zeros(n)"
   ]
  },
  {
   "cell_type": "code",
   "execution_count": null,
   "metadata": {},
   "outputs": [],
   "source": [
    "time_reg = %timeit -o regular_ops(a)"
   ]
  },
  {
   "cell_type": "code",
   "execution_count": null,
   "metadata": {},
   "outputs": [],
   "source": [
    "time_inp = %timeit -o inplace_ops(a)"
   ]
  },
  {
   "cell_type": "code",
   "execution_count": null,
   "metadata": {},
   "outputs": [],
   "source": [
    "print(\"Speedup: {}\".format(time_reg.best/time_inp.best))"
   ]
  },
  {
   "cell_type": "markdown",
   "metadata": {},
   "source": [
    "### <font color='blue'>Math Functions and Array Arguments</font>"
   ]
  },
  {
   "cell_type": "markdown",
   "metadata": {},
   "source": [
    "##### Trigonometric functions"
   ]
  },
  {
   "cell_type": "code",
   "execution_count": null,
   "metadata": {},
   "outputs": [],
   "source": [
    "b = np.linspace(1.0, 15.5, 21)\n",
    "print(\"b: \", b)"
   ]
  },
  {
   "cell_type": "code",
   "execution_count": null,
   "metadata": {},
   "outputs": [],
   "source": [
    "c = np.sin(b)    \n",
    "c = np.arcsin(c) \n",
    "c = np.sinh(b)"
   ]
  },
  {
   "cell_type": "markdown",
   "metadata": {},
   "source": [
    "##### Functions for rounding"
   ]
  },
  {
   "cell_type": "markdown",
   "metadata": {},
   "source": [
    "`around(arr, decimals)`: rounds values to the desired precision\n",
    "\n",
    "decimal is the number of decimals which to which the number is to be rounded. The default value is 0. If this value is negative, then the decimal will be moved to the left."
   ]
  },
  {
   "cell_type": "code",
   "execution_count": null,
   "metadata": {},
   "outputs": [],
   "source": [
    "print(np.around(b))    \n",
    "print(np.around(b, 2))\n",
    "print(np.around(b, -1)) "
   ]
  },
  {
   "cell_type": "markdown",
   "metadata": {},
   "source": [
    "`floor(arr)`: returns the largest integer not greater than the input value."
   ]
  },
  {
   "cell_type": "code",
   "execution_count": null,
   "metadata": {},
   "outputs": [],
   "source": [
    "print(np.floor(b))"
   ]
  },
  {
   "cell_type": "markdown",
   "metadata": {},
   "source": [
    "`ceil(arr)`: returns the smallest integer value greater than the array element. "
   ]
  },
  {
   "cell_type": "code",
   "execution_count": null,
   "metadata": {},
   "outputs": [],
   "source": [
    "print(np.ceil(b))"
   ]
  },
  {
   "cell_type": "markdown",
   "metadata": {},
   "source": [
    "##### Exponential and Logarithmic Functions"
   ]
  },
  {
   "cell_type": "code",
   "execution_count": null,
   "metadata": {},
   "outputs": [],
   "source": [
    "c = b**2.5 \n",
    "c = np.log(b)\n",
    "c = np.exp(b)\n",
    "c = np.log2(b)\n",
    "c = np.sqrt(b)"
   ]
  },
  {
   "cell_type": "markdown",
   "metadata": {},
   "source": [
    "##### Few Stats Functions"
   ]
  },
  {
   "cell_type": "code",
   "execution_count": null,
   "metadata": {},
   "outputs": [],
   "source": [
    "a = np.array([[3,7,5],[8,4,3],[2,4,9]]) \n",
    "print(\"a: \", a)"
   ]
  },
  {
   "cell_type": "markdown",
   "metadata": {},
   "source": [
    "`amin()` and `amax()` return the minimum and the maximum from the elements in the given array along the specified axis."
   ]
  },
  {
   "cell_type": "code",
   "execution_count": null,
   "metadata": {},
   "outputs": [],
   "source": [
    "print(\"amin axis=0:\", np.amin(a,0))\n",
    "print(\"amin axis=1:\", np.amin(a,1))\n",
    "print(\"amax:       \", np.amax(a))\n",
    "print(\"amax axis=1:\", np.amax(a,1))"
   ]
  },
  {
   "cell_type": "markdown",
   "metadata": {},
   "source": [
    "The `ptp()` function returns the range (maximum-minimum) of values along an axis."
   ]
  },
  {
   "cell_type": "code",
   "execution_count": null,
   "metadata": {},
   "outputs": [],
   "source": [
    "print(\"ptp:      \", np.ptp(a)) \n",
    "print(\"ptp axis=1\", np.ptp(a, axis = 1)) \n",
    "print(\"ptp axis=0\", np.ptp(a, axis = 0)) "
   ]
  },
  {
   "cell_type": "markdown",
   "metadata": {},
   "source": [
    "`mean()` returns the arithmetic mean of elements in the array.\n",
    "\n",
    "`median()` is defined as the value separating the higher half of a data sample from the lower half."
   ]
  },
  {
   "cell_type": "code",
   "execution_count": null,
   "metadata": {},
   "outputs": [],
   "source": [
    "print(\"a:      \", a)\n",
    "print(\"Mean:   \", a.mean(), np.mean(a))\n",
    "print(\"StDev:  \", a.std(), np.std(a))\n",
    "print(\"Median: \", np.median(a))"
   ]
  },
  {
   "cell_type": "code",
   "execution_count": null,
   "metadata": {},
   "outputs": [],
   "source": [
    "print(\"Trapezoidal integration: \", np.trapz(b))\n",
    "print(\"finite differences (da/dx): \", np.diff(b))"
   ]
  },
  {
   "cell_type": "markdown",
   "metadata": {},
   "source": [
    "### <font color='purple'>Going Deeper: NumPy Matrices</font>\n",
    "\n",
    "- NumPy has provides a special matrix type, `np.matrix`, which is a subclass of ndarray which makes binary operations linear algebra operations. \n",
    "- You may see it used in some existing code instead of `np.array`. \n",
    "- Numpy matrices are strictly 2-dimensional, while while Numpy arrays can be of any dimension.\n",
    "\n",
    "Use Numpy arrays (`np.array`): \n",
    "- They are the standard vector/matrix/tensor type of numpy. Many numpy functions return arrays, not matrices.\n",
    "- There is a clear distinction between element-wise operations and linear algebra operations.\n",
    "- You can have standard vectors or row/column vectors if you like.\n",
    "\n",
    "It is more likely that `np.matrix` will be deprecated."
   ]
  },
  {
   "cell_type": "code",
   "execution_count": null,
   "metadata": {},
   "outputs": [],
   "source": [
    "x1 = np.array([1, 2, 3], float)\n",
    "print(\"x1: \", x1)\n",
    "print(\"Type of x1: \", type(x1))"
   ]
  },
  {
   "cell_type": "markdown",
   "metadata": {},
   "source": [
    "Row vector:"
   ]
  },
  {
   "cell_type": "code",
   "execution_count": null,
   "metadata": {},
   "outputs": [],
   "source": [
    "x2 = np.matrix(x1)               \n",
    "print(\"x2: \", x2)                   \n",
    "print(\"Type of x2: \", type(x2))"
   ]
  },
  {
   "cell_type": "markdown",
   "metadata": {},
   "source": [
    "Column vector:"
   ]
  },
  {
   "cell_type": "code",
   "execution_count": null,
   "metadata": {},
   "outputs": [],
   "source": [
    "x3 = np.mat(x1).transpose() \n",
    "print(\"x3: \", x3)\n",
    "print(\"Type of x3: \", type(x3))"
   ]
  },
  {
   "cell_type": "markdown",
   "metadata": {},
   "source": [
    "Identity matrix:"
   ]
  },
  {
   "cell_type": "code",
   "execution_count": null,
   "metadata": {},
   "outputs": [],
   "source": [
    "A = np.eye(3)\n",
    "print(A)"
   ]
  },
  {
   "cell_type": "markdown",
   "metadata": {},
   "source": [
    "Turn array to matrix:"
   ]
  },
  {
   "cell_type": "code",
   "execution_count": null,
   "metadata": {},
   "outputs": [],
   "source": [
    "B = np.mat(A)\n",
    "print(B)"
   ]
  },
  {
   "cell_type": "markdown",
   "metadata": {},
   "source": [
    "Vector-matrix product:"
   ]
  },
  {
   "cell_type": "code",
   "execution_count": null,
   "metadata": {},
   "outputs": [],
   "source": [
    "y2 = x2*B  \n",
    "print(y2)"
   ]
  },
  {
   "cell_type": "markdown",
   "metadata": {},
   "source": [
    "Matrix-vector product:"
   ]
  },
  {
   "cell_type": "code",
   "execution_count": null,
   "metadata": {},
   "outputs": [],
   "source": [
    "y3 = B*x3\n",
    "print(y3)"
   ]
  },
  {
   "cell_type": "markdown",
   "metadata": {},
   "source": [
    "Element-wise multiplication:"
   ]
  },
  {
   "cell_type": "code",
   "execution_count": null,
   "metadata": {},
   "outputs": [],
   "source": [
    "a = np.array([[2,3],[4,5]])\n",
    "b = np.array([[6,7],[8,9]])\n",
    "print(f\"a = {a}\")\n",
    "print(f\"b = {b}\")"
   ]
  },
  {
   "cell_type": "code",
   "execution_count": null,
   "metadata": {},
   "outputs": [],
   "source": [
    "print(f\"a*b = \\n {a*b}\")"
   ]
  },
  {
   "cell_type": "code",
   "execution_count": null,
   "metadata": {},
   "outputs": [],
   "source": [
    "print(f\"np.multiply(a, b) = \\n {np.multiply(a, b)}\")"
   ]
  },
  {
   "cell_type": "markdown",
   "metadata": {},
   "source": [
    "Matrix multiplication:"
   ]
  },
  {
   "cell_type": "code",
   "execution_count": null,
   "metadata": {},
   "outputs": [],
   "source": [
    "m1 = np.mat(a)\n",
    "m2 = np.mat(b)"
   ]
  },
  {
   "cell_type": "code",
   "execution_count": null,
   "metadata": {},
   "outputs": [],
   "source": [
    "print(f\"m1*m2 = \\n {m1*m2}\")"
   ]
  },
  {
   "cell_type": "code",
   "execution_count": null,
   "metadata": {},
   "outputs": [],
   "source": [
    "print(f\"np.matmul(a,b) = \\n {np.matmul(a, b)}\")"
   ]
  },
  {
   "cell_type": "markdown",
   "metadata": {},
   "source": [
    "We can also use the `dot()` function which result is the same as the `matmul()` function for one-dimensional and two-dimensional arrays."
   ]
  },
  {
   "cell_type": "code",
   "execution_count": null,
   "metadata": {},
   "outputs": [],
   "source": [
    "print(f\"np.dot(a,b) = \\n {np.dot(a, b)}\")"
   ]
  },
  {
   "cell_type": "markdown",
   "metadata": {},
   "source": [
    "### <font color='purple'>Going Deeper: Stacking and Repeating Arrays</font>\n",
    "\n",
    "Using functions:\n",
    "\n",
    "- `repeat`: Repeat elements of an array.\n",
    "- `tile`: Construct an array by repeating the original array a number of times given.\n",
    "- `vstack`: Stack arrays in sequence vertically (row wise).\n",
    "- `hstack`: Stack arrays in sequence horizontally (column wise).\n",
    "- `concatenate`: Join a sequence of arrays along an existing axis.\n",
    "\n",
    "we can create larger vectors and matrices from smaller ones."
   ]
  },
  {
   "cell_type": "markdown",
   "metadata": {},
   "source": [
    "**`tile` and `repeat`**"
   ]
  },
  {
   "cell_type": "code",
   "execution_count": null,
   "metadata": {},
   "outputs": [],
   "source": [
    "a = np.array([[1, 2], [3, 4]])\n",
    "a"
   ]
  },
  {
   "cell_type": "markdown",
   "metadata": {},
   "source": [
    "Repeat each element 3 times:"
   ]
  },
  {
   "cell_type": "code",
   "execution_count": null,
   "metadata": {},
   "outputs": [],
   "source": [
    "np.repeat(a, 3)"
   ]
  },
  {
   "cell_type": "markdown",
   "metadata": {},
   "source": [
    "Tile the array 3 times:"
   ]
  },
  {
   "cell_type": "code",
   "execution_count": null,
   "metadata": {},
   "outputs": [],
   "source": [
    "np.tile(a, 3)"
   ]
  },
  {
   "cell_type": "markdown",
   "metadata": {},
   "source": [
    "**`concatenate`**"
   ]
  },
  {
   "cell_type": "code",
   "execution_count": null,
   "metadata": {},
   "outputs": [],
   "source": [
    "b = np.array([[5, 6]])"
   ]
  },
  {
   "cell_type": "code",
   "execution_count": null,
   "metadata": {},
   "outputs": [],
   "source": [
    "np.concatenate((a, b), axis=0)"
   ]
  },
  {
   "cell_type": "code",
   "execution_count": null,
   "metadata": {},
   "outputs": [],
   "source": [
    "np.concatenate((a, b.T), axis=1)"
   ]
  },
  {
   "cell_type": "markdown",
   "metadata": {},
   "source": [
    "**`hstack` and `vstack`**"
   ]
  },
  {
   "cell_type": "code",
   "execution_count": null,
   "metadata": {},
   "outputs": [],
   "source": [
    "np.vstack((a, b))"
   ]
  },
  {
   "cell_type": "code",
   "execution_count": null,
   "metadata": {},
   "outputs": [],
   "source": [
    "np.hstack((a, b.T))"
   ]
  },
  {
   "cell_type": "markdown",
   "metadata": {},
   "source": [
    "### <font color='blue'> Universal Functions and Loops</font>\n",
    "\n",
    "* Universal functions run much faster than for loops, which should be avoided whenever possible"
   ]
  },
  {
   "cell_type": "code",
   "execution_count": null,
   "metadata": {},
   "outputs": [],
   "source": [
    "def mat_mult_intrinsic(a,b):\n",
    "    return a * b\n",
    "\n",
    "def mat_mult_loops(a,b):\n",
    "    c = np.empty(a.shape)\n",
    "    for i in range(a.shape[0]):\n",
    "        for j in range(a.shape[1]):\n",
    "            c[i,j] = a[i,j] * b[i,j]\n",
    "    return c"
   ]
  },
  {
   "cell_type": "code",
   "execution_count": null,
   "metadata": {},
   "outputs": [],
   "source": [
    "N = 800\n",
    "A = np.random.random((N,N))\n",
    "B = np.random.random((N,N))"
   ]
  },
  {
   "cell_type": "code",
   "execution_count": null,
   "metadata": {},
   "outputs": [],
   "source": [
    "time_loop = %timeit -o mat_mult_loops(A,B)"
   ]
  },
  {
   "cell_type": "code",
   "execution_count": null,
   "metadata": {},
   "outputs": [],
   "source": [
    "time_int = %timeit -o mat_mult_intrinsic(A,B)"
   ]
  },
  {
   "cell_type": "code",
   "execution_count": null,
   "metadata": {},
   "outputs": [],
   "source": [
    "print(\"Speedup: {}\".format(time_loop.best/time_int.best))"
   ]
  },
  {
   "cell_type": "markdown",
   "metadata": {},
   "source": [
    "## <font color='purple'>Going Deeper: Reading and writing arrays to disk </font>"
   ]
  },
  {
   "cell_type": "markdown",
   "metadata": {},
   "source": [
    "Numpy lets you read and write arrays into files in a number of ways. In order to use these tools well, it is critical to understand the difference between a text and a binary file containing numerical data. \n",
    "In a text file, the number\n",
    "&pi;\n",
    "could be written as \"3.141592653589793\", for example: a string of digits that a human can read, with in this case 15 decimal digits. In contrast, that same number written to a binary file would be encoded as 8 characters (bytes) that are not readable by a human but which contain the exact same data that the variable pi had in the computer's memory. <P>\n",
    "\n",
    "The tradeoffs between the two modes are thus:\n",
    "<UL>\n",
    "<LI> <B>Text mode</B>: occupies more space, precision can be lost (if not all digits are written to disk), but is readable and editable by hand with a text editor. Can only be used for one- and two-dimensional arrays.\n",
    "<LI> <B>Binary mode</B>: compact and exact representation of the data in memory, can't be read or edited by hand. Arrays of any size and dimensionality can be saved and read without loss of information.\n",
    "</UL>\n",
    "\n",
    "First, let's see how to read and write arrays in text mode. The np.savetxt function saves an array to a text file, with options to control the precision, separators and even adding a header:"
   ]
  },
  {
   "cell_type": "code",
   "execution_count": null,
   "metadata": {},
   "outputs": [],
   "source": [
    "arr = np.arange(10).reshape(2, 5)\n",
    "print(arr)                           \n",
    "np.savetxt('test.out', arr)"
   ]
  },
  {
   "cell_type": "code",
   "execution_count": null,
   "metadata": {},
   "outputs": [],
   "source": [
    "!cat test.out"
   ]
  },
  {
   "cell_type": "markdown",
   "metadata": {},
   "source": [
    "And this same type of file can then be read with the matching `np.loadtxt` function:"
   ]
  },
  {
   "cell_type": "code",
   "execution_count": null,
   "metadata": {},
   "outputs": [],
   "source": [
    "arr2 = np.loadtxt('test.out')\n",
    "print(arr2)"
   ]
  },
  {
   "cell_type": "markdown",
   "metadata": {},
   "source": [
    "You can also use the function `np.genfromtxt` that deals with missing values"
   ]
  },
  {
   "cell_type": "code",
   "execution_count": null,
   "metadata": {},
   "outputs": [],
   "source": [
    "arr3 = np.genfromtxt('test.out', \n",
    "                     missing_values='0.000000000000000000e+00', \n",
    "                     usemask=True)\n",
    "print(arr3)"
   ]
  },
  {
   "cell_type": "markdown",
   "metadata": {},
   "source": [
    "### <font color=\"blue\">Breakout</font>\n",
    "\n",
    "Check the Global Land-Ocean Temperature Index webpage:\n",
    "\n",
    "<a href=\"http://data.giss.nasa.gov/gistemp/graphs_v3/Fig.A2.txt\"> http://data.giss.nasa.gov/gistemp/graphs_v3/Fig.A2.txt</a>\n",
    "\n",
    "We want to use Numpy and Matplotlib to write a code that reads the above dataset and reproduces the <a href=\"https://scied.ucar.edu/global-annual-mean-surface-temperature-change\">figure</a>."
   ]
  },
  {
   "cell_type": "markdown",
   "metadata": {},
   "source": [
    "For binary data, Numpy provides the two routines:\n",
    "\n",
    "   + `np.save`: saves a single array to a file with `.npy` extension\n",
    "   + `np.savez`: can be used to save a group of arrays into a single file with `.npz` extension. \n",
    "   \n",
    "The files created with these routines can then be read with the `np.load` function."
   ]
  },
  {
   "cell_type": "code",
   "execution_count": null,
   "metadata": {},
   "outputs": [],
   "source": [
    "np.save('test.npy', arr)\n",
    "# Now we read this back\n",
    "arr_loaded = np.load('test.npy')\n",
    "\n",
    "print(arr)\n",
    "print(arr_loaded)\n",
    "\n",
    "print(arr_loaded.dtype)\n",
    "\n",
    "# Let's see if any element is non-zero in the difference.\n",
    "# A value of True would be a problem.\n",
    "print ('Any differences?', np.any(arr - arr_loaded))"
   ]
  },
  {
   "cell_type": "markdown",
   "metadata": {},
   "source": [
    "Now let us see how the `np.savez_compressed` function works."
   ]
  },
  {
   "cell_type": "code",
   "execution_count": null,
   "metadata": {},
   "outputs": [],
   "source": [
    "np.savez_compressed('test.npz', first=arr, second=arr2)\n",
    "arrays = np.load('test.npz')\n",
    "arrays.files"
   ]
  },
  {
   "cell_type": "markdown",
   "metadata": {},
   "source": [
    "The object returned by `np.load` from an `.npz` file works like a dictionary:"
   ]
  },
  {
   "cell_type": "code",
   "execution_count": null,
   "metadata": {},
   "outputs": [],
   "source": [
    "a=arrays['first']\n",
    "b=arrays['second']\n",
    "print('a = ', a)\n",
    "print('b = ', b)"
   ]
  },
  {
   "cell_type": "markdown",
   "metadata": {},
   "source": [
    "* This `.npz` format is a very convenient way to package compactly and without loss of information, into a single file, a group of related arrays that pertain to a specific problem. \n",
    "* At some point, however, the complexity of your dataset may be such that the optimal approach is to use one of the standard formats in scientific data processing that have been designed to handle complex datasets, such as NetCDF or HDF5."
   ]
  }
 ],
 "metadata": {
  "anaconda-cloud": {},
  "kernelspec": {
   "display_name": "Python 3 (ipykernel)",
   "language": "python",
   "name": "python3"
  },
  "language_info": {
   "codemirror_mode": {
    "name": "ipython",
    "version": 3
   },
   "file_extension": ".py",
   "mimetype": "text/x-python",
   "name": "python",
   "nbconvert_exporter": "python",
   "pygments_lexer": "ipython3",
   "version": "3.10.9"
  }
 },
 "nbformat": 4,
 "nbformat_minor": 1
}
