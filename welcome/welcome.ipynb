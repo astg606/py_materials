{
 "cells": [
  {
   "cell_type": "markdown",
   "metadata": {
    "slideshow": {
     "slide_type": "slide"
    }
   },
   "source": [
    "![NASA](http://www.nasa.gov/sites/all/themes/custom/nasatwo/images/nasa-logo.svg)\n",
    "\n",
    "<center><h1><font size=\"+3\">GSFC Python Bootcamp</font></h1></center>\n",
    "\n",
    "---\n",
    "\n",
    "<center><h1>\n",
    "    <font color=\"red\">Welcome Message</font>  \n",
    "</h1></center>"
   ]
  },
  {
   "cell_type": "markdown",
   "metadata": {
    "slideshow": {
     "slide_type": "slide"
    }
   },
   "source": [
    "# Who Are We?\n",
    "\n",
    "---\n",
    "* Brent Smith (Computational Scientist - GMAO)\n",
    "* Bruce Van Aartsen (Software Engineer - ASTG)\n",
    "* Megan Damon (Computer Scientist - ASTG)\n",
    "* Carlos A. Cruz (Computational Scientist - ASTG)\n",
    "* Jules Kouatchou (Computational Scientist - ASTG)\n"
   ]
  },
  {
   "cell_type": "markdown",
   "metadata": {
    "slideshow": {
     "slide_type": "subslide"
    }
   },
   "source": [
    "# Training Objectives\n",
    "\n",
    "---\n",
    "\n",
    "* Fundamentals\n",
    "  * Running Python code\n",
    "  * Working with data types\n",
    "  * Programming computational logic (conditionals, loops)\n",
    "  * Introductory to Functions\n",
    "* Data Manipulations\n",
    "  * Working with files\n",
    "  * Basic Visualizations\n",
    "  * Tools (Pandas)\n",
    "\n",
    "<!---\n",
    "# Agenda\n",
    "\n",
    "---\n",
    "\n",
    "You can find the agenda for this training at:\n",
    "\n",
    "[http://github.com/pytrain/agenda](http://github.com/pytrain/agenda)\n",
    "--->"
   ]
  },
  {
   "cell_type": "markdown",
   "metadata": {
    "slideshow": {
     "slide_type": "subslide"
    }
   },
   "source": [
    "# What we expect from you\n",
    "\n",
    "---\n",
    "\n",
    "* Have your own laptop\n",
    "* Have the Python distribution (Anaconda) on your platform _(let us know now if you don't)_\n",
    "* Have installed Git _(let us know now if you don't)_\n",
    "* Be able to create/edit ASCII/text files on your platform\n",
    "* Be able to change directories from a terminal/command prompt\n",
    "* Do the examples yourself as we move along\n",
    "* __Ask Questions__"
   ]
  },
  {
   "cell_type": "markdown",
   "metadata": {
    "slideshow": {
     "slide_type": "subslide"
    }
   },
   "source": [
    "# General Resources\n",
    "\n",
    "---\n",
    "\n",
    "* Official Website  \n",
    "  [http://www.python.org](http://www.python.org)\n",
    "* Official Documentation (Python 3.x)  \n",
    "  [http://docs.python.org/3/](http://docs.python.org/3/)\n",
    "* Quick Reference  \n",
    "  [http://learnxinyminutes.com/docs/python/](http://learnxinyminutes.com/docs/python/)\n",
    "* PyVideo  \n",
    "  [http://pyvideo.org](http://pyvideo.org)\n",
    "* PyCon 2019  \n",
    "  [http://us.pycon.org/2019/](http://us.pycon.org/2019/)\n",
    "* Python Software Foundation  \n",
    "  [http://www.python.org/psf-landing/](http://www.python.org/psf-landing/)"
   ]
  }
 ],
 "metadata": {
  "celltoolbar": "Slideshow",
  "kernelspec": {
   "display_name": "Python 3 (ipykernel)",
   "language": "python",
   "name": "python3"
  },
  "language_info": {
   "codemirror_mode": {
    "name": "ipython",
    "version": 3
   },
   "file_extension": ".py",
   "mimetype": "text/x-python",
   "name": "python",
   "nbconvert_exporter": "python",
   "pygments_lexer": "ipython3",
   "version": "3.8.2"
  }
 },
 "nbformat": 4,
 "nbformat_minor": 2
}
