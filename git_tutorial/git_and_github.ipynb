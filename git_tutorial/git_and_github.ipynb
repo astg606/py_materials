{
 "cells": [
  {
   "cell_type": "markdown",
   "metadata": {
    "id": "M2PmpV3fw0i8"
   },
   "source": [
    "<center>\n",
    "<table>\n",
    "  <tr>\n",
    "    <td><img src=\"http://www.nasa.gov/sites/all/themes/custom/nasatwo/images/nasa-logo.svg\" width=\"100\"/> </td>\n",
    "     <td><img src=\"https://github.com/astg606/py_materials/blob/master/logos/ASTG_logo.png?raw=true\" width=\"80\"/> </td>\n",
    "     <td> <img src=\"https://www.nccs.nasa.gov/sites/default/files/NCCS_Logo_0.png\" width=\"130\"/> </td>\n",
    "    </tr>\n",
    "</table>\n",
    "</center>\n",
    "\n",
    "        \n",
    "<center>\n",
    "<h1><font color= \"blue\" size=\"+3\">ASTG Python Courses</font></h1>\n",
    "</center>\n",
    "\n",
    "---\n",
    "\n",
    "<center>\n",
    "    <h1><font color=\"red\">Creating and Maintaining Git Repositories\n",
    "        <br>on GitHub</font></h1>\n",
    "</center>"
   ]
  },
  {
   "cell_type": "markdown",
   "metadata": {},
   "source": [
    "# <font color=\"red\">Objectives</font>\n",
    "In this presentation we want to show how to create and maintain a Git repository on [github.com](github.com). We will focus on the workflow between a local machine and a remote repository. In particular, we will cover the following topics:\n",
    "\n",
    "\n",
    "- Create a repository\n",
    "   - Edit the README.md file\n",
    "   - Add new files\n",
    "   - Commit changes\n",
    "   - Push the changes\n",
    "- Create a branch\n",
    "   - Work on a branch\n",
    "   - Commit your changes to the branch\n",
    "   - Merging\n",
    "   - Merge your changes from the branch to “main”\n",
    "- Fork an existing repository\n",
    "   - Create a branch\n",
    "   - Make changes\n",
    "   - Commit changes\n",
    "   - Open a pull request\n",
    "\n",
    "We assume that each participant:\n",
    "- Is familiar with the basic concepts of Git and the main Git commands (to create a repository, to stage files, to commit files, to create branches, etc.).\n",
    "- Has a GitHub account.\n",
    "- Has access to a browser with internet connection.\n",
    "- Has access to a terminal where Git commands can be executed.\n",
    "- Is familiar with a file editor such as `vi`, `vim` or `nano`."
   ]
  },
  {
   "cell_type": "markdown",
   "metadata": {},
   "source": [
    "# <font color=\"red\">Online Resources</font>\n",
    "\n",
    "- [Git Tutorial – A Comprehensive Beginner’s Guide](https://www.hostinger.com/tutorials/git-tutorial)\n",
    "- [Hellow World](https://docs.github.com/en/get-started/quickstart/hello-world)\n",
    "- []()\n",
    "- []()\n",
    "- []()"
   ]
  },
  {
   "cell_type": "markdown",
   "metadata": {
    "id": "ZTu6ZPTDw0jA",
    "jupyter": {
     "source_hidden": true
    }
   },
   "source": [
    "# <font color=\"red\">Recall: Git Repository</font>\n",
    "\n",
    "- A virtual storage of your software project.\n",
    "- Allows team members to work on the same or different parts of the project efficiently and effectively, and points to conflicts when they arise.\n",
    "- Allows you to save versions of your code, which you can access when needed.\n",
    "- Contains the entire history of your project. "
   ]
  },
  {
   "cell_type": "markdown",
   "metadata": {},
   "source": [
    "## <font color=\"blue\">Summary of a Few Git Commands</font>\n",
    "\n",
    "| Command | Description |\n",
    "| --- | --- |\n",
    "| `git init` | Initialize a repository |\n",
    "| `git clone` | Clone a remote repository |\n",
    "| `git add` | Add a file that is in the working directory to the staging area. |\n",
    "| `git commit` | Add all files that are staged to the local repository. |\n",
    "| `git log` | Show the commit logs. |\n",
    "| `git push` | Add all committed files in the local repository to the remote repository. So in the remote repository, all files and changes will be visible to anyone with access to the remote repository. |\n",
    "| `git fetch` | Get files from the remote repository to the local repository but not into the working directory. |\n",
    "| `git merge` | Get the files from the local repository into the working directory. |\n",
    "| `git pull` | Get files from the remote repository directly into the working directory. It is equivalent to a `git fetch` and a `git merge`. |"
   ]
  },
  {
   "cell_type": "markdown",
   "metadata": {},
   "source": [
    "# <font color=\"red\">What is GitHub?</font>\n",
    "\n",
    "- An online code hosting platform for version control and collaboration.\n",
    "- To use GitHub, you need to have knowledge on version control and Git. \n",
    "- Holds the collection of directories and files that make up a project.\n",
    "- Allows a team of code developers to seamlessly work together from anywhere on the same code base.\n",
    "   - Each team member can locally obtain a version of the remote repository on GitHub, work on the local copy, commit the changes to the local repository, and then push the new changes to the repository on GitHub.\n",
    "  \n",
    "\n",
    "![fig_github](https://drstearns.github.io/tutorials/git/img/github.png)\n",
    "Image Source: Dave Stearns (drstearns.github.io)\n"
   ]
  },
  {
   "cell_type": "markdown",
   "metadata": {},
   "source": [
    "## <font color=\"blue\">Git Workflow: Local and Remote Repositories</font>\n",
    "\n",
    "![fig_workflow](https://www.hostinger.com/tutorials/wp-content/uploads/sites/2/2022/04/git-tutorials-03.webp)\n",
    "\n",
    "Image Source: https://www.hostinger.com/tutorials/git-tutorial"
   ]
  },
  {
   "cell_type": "markdown",
   "metadata": {
    "id": "Pap1pZePw0jT",
    "jupyter": {
     "source_hidden": true
    }
   },
   "source": [
    "# <font color=\"red\">Step 0:</font> Access GitHub\n",
    "\n",
    "\n",
    "- Go to [http://github.com/](http://github.com/) and log in to your account.\n"
   ]
  },
  {
   "cell_type": "markdown",
   "metadata": {
    "id": "Pap1pZePw0jT",
    "jupyter": {
     "source_hidden": true
    }
   },
   "source": [
    "# <font color=\"red\">Step 1:</font> Create a Repository\n",
    "\n",
    "We want to follow the steps described in [https://guides.github.com/activities/hello-world/](https://guides.github.com/activities/hello-world/) to create a **hello_world** project."
   ]
  },
  {
   "cell_type": "markdown",
   "metadata": {},
   "source": [
    "## <font color=\"blue\">Step 1.0:</font> First Git Repository\n",
    "\n",
    "1. In your GitHub account click on the `+` button at the upper right corner.\n",
    "2. Select `New repository`.\n",
    "3. In the box **Repository name**, type `hello_world`.\n",
    "4. In the **Description** box, type a short description.\n",
    "5. Select **Public** repository (to allow anyone to access the repository).\n",
    "6. Select **Add a README file**.\n",
    "7. Go to the bottom right corner and click on **Create repository**.\n",
    "\n",
    "\n",
    "You now have your first Git repository in GitHub."
   ]
  },
  {
   "cell_type": "markdown",
   "metadata": {},
   "source": [
    "## <font color=\"blue\">Step 1.1:</font> Edit the `README.md` file\n",
    "\n",
    "- Check the [Markdown Cheatsheet](https://github.com/adam-p/markdown-here/wiki/Markdown-Cheatsheet) online document to learn the basic markdowm syntax.\n",
    "- On your new GitHub repository page, click on the pencil symbol to edit the `README.md` file to include for instance:\n",
    "\n",
    "```\n",
    "# My First and Simple Git Repository\n",
    "\n",
    "This is my first attempt to create a Git repository on GitHub.\n",
    "The goal here is to learn how to create and maintain a repository. \n",
    "I am interesteed (among other things) in:\n",
    "- Creating a branch\n",
    "- Working on the branch and committing my changes.\n",
    "- Merging the branch to `main`.\n",
    "```\n",
    "\n",
    "- Click on **Commit changes...** to save the file."
   ]
  },
  {
   "cell_type": "markdown",
   "metadata": {},
   "source": [
    "## <font color=\"blue\">Step 1.2:</font> Add a new file\n",
    "\n",
    "- On the main page of the repository, click on **Add file**\n",
    "- Select **Create new file**\n",
    "- In the box on the right of `hello_world`, type `hello.py`, and\n",
    "- In the **Edit** box, add the following:\n",
    "\n",
    "```python\n",
    "print(\"Hello World!\")\n",
    "print(\"\\t This is my first Git repository on GitHib.\")\n",
    "```\n",
    "\n",
    "- Click on **Commit changes...** to save the file and update the repository.\n",
    "\n",
    "**Note that the repository now has two files: `README.md` and `hello.py`.**"
   ]
  },
  {
   "cell_type": "markdown",
   "metadata": {},
   "source": [
    "# <font color=\"red\">Step 2:</font> Create a Branch\n",
    "\n",
    "- A branch is a new/separate version of the main repository that creates another line of development in the project.\n",
    "- A branch allows you to have different versions of a repository at one time.\n",
    "- By default, a repository has one branch referred to as `main` that needs to be considered as the reference branch or the trunk.\n",
    "- There is no limit on the number of branches that can be created off `main` or any other existing branch.\n",
    "- The work done on different branches will not show up on `main` until you merge it.\n",
    "- It is a good paratice to always do code changes on branches, testing the code modifications before merging them to `main` that needs to have the official version(s) of your project."
   ]
  },
  {
   "cell_type": "markdown",
   "metadata": {},
   "source": [
    "\n",
    "![fig_branch](https://wac-cdn.atlassian.com/dam/jcr:a905ddfd-973a-452a-a4ae-f1dd65430027/01%20Git%20branch.svg?cdnVersion=1028)\n",
    "Image Source: [https://www.atlassian.com/git/tutorials/using-branches](https://www.atlassian.com/git/tutorials/using-branches)"
   ]
  },
  {
   "cell_type": "markdown",
   "metadata": {},
   "source": [
    "**We are going to create a branch using two approaches**:\n",
    "- Directly in GitHub\n",
    "- Working from a terminal to clone the remote repository and working on the local repository. \n",
    "\n",
    "In each approach, we want to add more code segment in the file `hello.py`."
   ]
  },
  {
   "cell_type": "markdown",
   "metadata": {},
   "source": [
    "## <font color=\"blue\">Step 2.1:</font> Branching from GitHub\n",
    "\n",
    "Here, we are going to do all the manipulations within GitHub.\n",
    "\n",
    "- Above the file list, click the dropdown menu that says **main**.\n",
    "- In the text box, type a branch name, say `gh_hello_edits`. \n",
    "- Click on **Create branch: gh_hello_edits** to create the new branch.\n",
    "\n",
    "You can see that you have two branches: `main` and `gh_hell_edits`."
   ]
  },
  {
   "cell_type": "markdown",
   "metadata": {},
   "source": [
    "### <font color=\"green\">Making and committing changes</font>\n",
    "We want to modidy the file `hello.py` that is in the new branch and commit the changes there.\n",
    "\n",
    "- Under the `gh_hello_edits` branch that you have created, click the `hello.py` file.\n",
    "- To edit the file, click on the pencil icon.\n",
    "- In the editor, include the following below the two existing lines:\n",
    "\n",
    "```python\n",
    "def print_message(name='Python'):\n",
    "    print(f\"Welcome to the class from {name}!)\n",
    "          \n",
    "name = \"Julia\"\n",
    "print_message(name)\n",
    "```\n",
    "- Click on **Commit changes...**\n",
    "\n",
    "These changes were made in the `hello.py` residing on the `gh_hello_edits` branch. The `main` branch does not have the new additions."
   ]
  },
  {
   "cell_type": "code",
   "execution_count": null,
   "metadata": {},
   "outputs": [],
   "source": []
  },
  {
   "cell_type": "code",
   "execution_count": null,
   "metadata": {},
   "outputs": [],
   "source": []
  },
  {
   "cell_type": "code",
   "execution_count": null,
   "metadata": {},
   "outputs": [],
   "source": []
  },
  {
   "cell_type": "code",
   "execution_count": null,
   "metadata": {},
   "outputs": [],
   "source": []
  },
  {
   "cell_type": "markdown",
   "metadata": {},
   "source": [
    "## <font color=\"blue\">Step 2.2:</font> Branching from the Terminal\n",
    "\n",
    "We want to use a computer (where Git is already installed) terminal to:\n",
    "\n",
    "- Clone a copy of the `main` branch.\n",
    "- Create a new local branch named `ter_hello_edits`.\n",
    "- Work on the new branch by editing the file `hello.py`.\n",
    "- Commit the changes to to the local branch `ter_hello_edits`.\n",
    "- Push the branch `ter_hello_edits` to the remote repository."
   ]
  },
  {
   "cell_type": "markdown",
   "metadata": {},
   "source": [
    "### <font color=\"green\">Getting `main` address</font>\n",
    "\n",
    "- Click on **Code** on the upper left corner\n",
    "- Click on the `gh_hello_edits` branch name.\n",
    "- Click on **default** to point to the `main` branch.\n",
    "- Click on the green **<font color=\"green\"> Code </font>** box.\n",
    "- Select the SSH option and copy the address in the box. It should look like:\n",
    "\n",
    "```\n",
    "git@github.com:your_GitHub_userid/hello_world.git\n",
    "```\n",
    "\n",
    "where `your_GitHub_userid` is your account name in GitHub."
   ]
  },
  {
   "cell_type": "markdown",
   "metadata": {},
   "source": [
    "### <font color=\"green\">Clone `main`</font>\n",
    "\n",
    "From a terminal, issue the command:\n",
    "\n",
    "```csh\n",
    "git clone git@github.com:your_GitHub_userid/hello_world.git\n",
    "```\n",
    "If everything goes well, you will have on your terminal something like:\n",
    "\n",
    "```\n",
    "Cloning into 'hello_world'...\n",
    "remote: Enumerating objects: 15, done.\n",
    "remote: Counting objects: 100% (15/15), done.\n",
    "remote: Compressing objects: 100% (11/11), done.\n",
    "remote: Total 15 (delta 2), reused 0 (delta 0), pack-reused 0\n",
    "Receiving objects: 100% (15/15), done.\n",
    "Resolving deltas: 100% (2/2), done.\n",
    "```\n",
    "That will indicate that you have the new folder `hello_world/`."
   ]
  },
  {
   "cell_type": "markdown",
   "metadata": {},
   "source": [
    "Go in the `hello_world` folder:\n",
    "\n",
    "```\n",
    "cd hello_world\n",
    "```\n",
    "List all the files in the folder by typing:\n",
    "```\n",
    "ls\n",
    "```\n",
    "and you will get:\n",
    "```\n",
    "README.md\thello.py\n",
    "```\n",
    "You can verify that is exactly what is available on the `main` branch of the remote repository in GitHub.\n",
    "\n",
    "Finally, let us verify that we currently have only one local branch by typing:\n",
    "\n",
    "```\n",
    "git branch\n",
    "```"
   ]
  },
  {
   "cell_type": "markdown",
   "metadata": {},
   "source": [
    "#### Simple test\n",
    "The file `hello.py` is a Python program. So far, we have not verified that it works as expected. We can run it by typing:\n",
    "\n",
    "```csh\n",
    "python hello.py\n",
    "```\n",
    "and the following will be displayed on the terminal:\n",
    "```\n",
    "Hello World!\n",
    "\t This is my first Git repository on GitHib.\n",
    "```"
   ]
  },
  {
   "cell_type": "markdown",
   "metadata": {},
   "source": [
    "### <font color=\"green\">Create a new branch</font>\n",
    "\n",
    "Still inside the folder `hello_world`, issue the command:\n",
    "\n",
    "```csh\n",
    "git checkout -b ter_hello_edits\n",
    "```\n",
    "and the following will be displayed on the terminal:\n",
    "```\n",
    "Switched to a new branch 'ter_hello_edits'\n",
    "```\n",
    "To verify that anew local branch was created and you are currently pointing to it, type:\n",
    "```\n",
    "git branch\n",
    "```\n",
    "to get something like:\n",
    "```\n",
    "  main\n",
    "* ter_hello_edits\n",
    "```\n",
    "The `*` is there to indicate the branch you are pointing to."
   ]
  },
  {
   "cell_type": "code",
   "execution_count": null,
   "metadata": {},
   "outputs": [],
   "source": []
  },
  {
   "cell_type": "markdown",
   "metadata": {},
   "source": [
    "### <font color=\"green\">Making and committing changes</font>\n",
    "\n",
    "- Use any file editor to open the file `hello.py` and include the following lines before the two existing ones:\n",
    "\n",
    "```python\n",
    "import sys\n",
    "\n",
    "if len(sys.argv) > 1:\n",
    "    name = sys.argv[1]\n",
    "else:\n",
    "    print(\"You are expected to provide your name.\")\n",
    "    print(\"You need to type:\")\n",
    "    print(f\"\\t python {sys.argv[0]} your_name\")\n",
    "    sys.exit()\n",
    "print(f\"My name is {name}.\")\n",
    "print()\n",
    "```"
   ]
  },
  {
   "cell_type": "markdown",
   "metadata": {},
   "source": [
    "Make sure that you save the file that now looks like:\n",
    "\n",
    "\n",
    "```python\n",
    "import sys\n",
    "\n",
    "if len(sys.argv) > 1:\n",
    "    name = sys.argv[1]\n",
    "else:\n",
    "    print(\"You are expected to provide your name.\")\n",
    "    print(\"You need to type:\")\n",
    "    print(f\"\\t python {sys.argv[0]} your_name\")\n",
    "    sys.exit()\n",
    "print(f\"My name is {name}.\")\n",
    "print()\n",
    "\n",
    "print(\"Hello World!\")\n",
    "print(\"\\t This is my first Git repository on GitHib.\")\n",
    "```"
   ]
  },
  {
   "cell_type": "markdown",
   "metadata": {},
   "source": [
    "#### Stage the file `hello.py`\n",
    "\n",
    "From the terminal, you need to type:\n",
    "\n",
    "```\n",
    "git add hello.py\n",
    "```"
   ]
  },
  {
   "cell_type": "markdown",
   "metadata": {},
   "source": [
    "#### Commit the changes to your local branch\n",
    "\n",
    "Issue the command:\n",
    "\n",
    "```\n",
    "git commit -m \"Added a new code segment.\"\n",
    "```"
   ]
  },
  {
   "cell_type": "markdown",
   "metadata": {},
   "source": [
    "#### Pushing the local branch to the remote repository\n",
    "\n",
    "- The branch `ter_hello_edits` is on your local repository only.\n",
    "- We want to push it to the remote repository on GitHub.\n",
    "- This is done with the command:\n",
    "\n",
    "```csh\n",
    "git push --set-upstream origin ter_hello_edits\n",
    "```\n",
    "If everything works well, something like this will be displayed on your terminal:\n",
    "\n",
    "```\n",
    "Total 0 (delta 0), reused 0 (delta 0), pack-reused 0\n",
    "remote: \n",
    "remote: Create a pull request for 'ter_hello_edits' on GitHub by visiting:\n",
    "remote:      https://github.com/your_GitHub_userid/hello_world/pull/new/ter_hello_edits\n",
    "remote: \n",
    "To github.com:JulesKouatchou/hello_world.git\n",
    " * [new branch]      ter_hello_edits -> ter_hello_edits\n",
    "Branch 'ter_hello_edits' set up to track remote branch 'ter_hello_edits' from 'origin'.\n",
    "```"
   ]
  },
  {
   "cell_type": "markdown",
   "metadata": {},
   "source": [
    "### Verification\n",
    "\n",
    "Refresh your browser and check what is happening in your `hello_world` repository:\n",
    "\n",
    "- There are now three (branches):\n",
    "    - `main`\n",
    "    - `gh_hello_edits`\n",
    "    - `ter_hello_edits`\n",
    "- Each of the branches has a different version of the file `hello.py`.\n",
    "\n",
    "We now need to figure out how to merge the work done in the branches `gh_hello_edits` and `ter_hello_edits` into the reference branch `main`."
   ]
  },
  {
   "cell_type": "markdown",
   "metadata": {},
   "source": []
  },
  {
   "cell_type": "code",
   "execution_count": null,
   "metadata": {},
   "outputs": [],
   "source": []
  },
  {
   "cell_type": "code",
   "execution_count": null,
   "metadata": {},
   "outputs": [],
   "source": []
  },
  {
   "cell_type": "code",
   "execution_count": null,
   "metadata": {},
   "outputs": [],
   "source": []
  },
  {
   "cell_type": "code",
   "execution_count": null,
   "metadata": {},
   "outputs": [],
   "source": []
  },
  {
   "cell_type": "code",
   "execution_count": null,
   "metadata": {},
   "outputs": [],
   "source": []
  },
  {
   "cell_type": "code",
   "execution_count": null,
   "metadata": {},
   "outputs": [],
   "source": []
  },
  {
   "cell_type": "code",
   "execution_count": null,
   "metadata": {},
   "outputs": [],
   "source": []
  },
  {
   "cell_type": "code",
   "execution_count": null,
   "metadata": {},
   "outputs": [],
   "source": []
  },
  {
   "cell_type": "markdown",
   "metadata": {
    "id": "r_ex6Yppw0ja",
    "jupyter": {
     "source_hidden": true
    }
   },
   "source": [
    "## <font color=\"blue\">Second Activity: Collaboration on github</font>"
   ]
  },
  {
   "cell_type": "markdown",
   "metadata": {
    "id": "utswu55Zw0ja",
    "jupyter": {
     "source_hidden": true
    }
   },
   "source": [
    "Form teams of two (Coder \"A\" and Coder \"B\").  Here you will learn how to create a repository on github, \"clone\" it to your local machine, and share it with a collaborator."
   ]
  },
  {
   "cell_type": "markdown",
   "metadata": {
    "id": "m3WMs6c3w0ja",
    "jupyter": {
     "source_hidden": true
    }
   },
   "source": [
    "### Part 1 (Coder A):\n",
    "- Create a new repository on github called \"my_git_repos\".  \n",
    "- Clone this to your laptop: `git clone <repository>`  "
   ]
  },
  {
   "cell_type": "markdown",
   "metadata": {
    "id": "_i8RJvpJw0ja",
    "jupyter": {
     "source_hidden": true
    }
   },
   "source": [
    "### Part 2 (Coder A):\n",
    "- Add Coder B as a collaborator to the repository on github."
   ]
  },
  {
   "cell_type": "markdown",
   "metadata": {
    "id": "SbLN2ngNw0ja",
    "jupyter": {
     "source_hidden": true
    }
   },
   "source": [
    "### Part 3 (Coder B):\n",
    "- Clone the repository to your local machine.  \n",
    "- Create a new file in your repository called \"hello.py\" (print(\"Hello, world!\")).  \n",
    "- Add the file to the repository, commit the change, and \"push\" (`git push`) the change back to github."
   ]
  },
  {
   "cell_type": "markdown",
   "metadata": {
    "id": "xlA5xH2ew0jb",
    "jupyter": {
     "source_hidden": true
    }
   },
   "source": [
    "### Part 4 (Coder A):\n",
    "- `Pull` the (updated) repository and identify the new file present.  \n",
    "- Make a change to the file \"hello.py\".  Add, commit, and push to the server.  "
   ]
  },
  {
   "cell_type": "markdown",
   "metadata": {
    "id": "XDREL45zw0jb",
    "jupyter": {
     "source_hidden": true
    }
   },
   "source": [
    "### Part 5 (Coder B):\n",
    "- (After Part 4 is completed) Make a change to the file \"hello.py\".  \n",
    "- Add, commit, and try to push to server.  What happened?"
   ]
  },
  {
   "cell_type": "markdown",
   "metadata": {
    "id": "eUibG2a_w0jb"
   },
   "source": [
    "---"
   ]
  }
 ],
 "metadata": {
  "colab": {
   "name": "Copy of basic_git_tutorial.ipynb",
   "provenance": []
  },
  "kernelspec": {
   "display_name": "Python 3 (ipykernel)",
   "language": "python",
   "name": "python3"
  },
  "language_info": {
   "codemirror_mode": {
    "name": "ipython",
    "version": 3
   },
   "file_extension": ".py",
   "mimetype": "text/x-python",
   "name": "python",
   "nbconvert_exporter": "python",
   "pygments_lexer": "ipython3",
   "version": "3.8.2"
  }
 },
 "nbformat": 4,
 "nbformat_minor": 4
}
