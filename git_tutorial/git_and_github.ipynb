{
 "cells": [
  {
   "cell_type": "markdown",
   "metadata": {
    "id": "M2PmpV3fw0i8"
   },
   "source": [
    "<center>\n",
    "<table>\n",
    "  <tr>\n",
    "    <td><img src=\"http://www.nasa.gov/sites/all/themes/custom/nasatwo/images/nasa-logo.svg\" width=\"100\"/> </td>\n",
    "     <td><img src=\"https://github.com/astg606/py_materials/blob/master/logos/ASTG_logo.png?raw=true\" width=\"80\"/> </td>\n",
    "     <td> <img src=\"https://www.nccs.nasa.gov/sites/default/files/NCCS_Logo_0.png\" width=\"130\"/> </td>\n",
    "    </tr>\n",
    "</table>\n",
    "</center>\n",
    "\n",
    "        \n",
    "<center>\n",
    "<h1><font color= \"blue\" size=\"+3\">ASTG Python Courses</font></h1>\n",
    "</center>\n",
    "\n",
    "---\n",
    "\n",
    "<center>\n",
    "    <h1><font color=\"red\">Creating and Maintaining Git Repositories\n",
    "        <br>on GitHub</font></h1>\n",
    "</center>"
   ]
  },
  {
   "cell_type": "markdown",
   "metadata": {},
   "source": [
    "# <font color=\"red\">Objectives</font>\n",
    "In this presentation we want to show how to create and maintain a Git repository on [GitHub](github.com). We will __focus on the workflow between a local machine and a remote repository__ (on GitHub). In particular, we will cover the following topics:\n",
    "\n",
    "\n",
    "- Create a repository\n",
    "   - Edit the README.md file\n",
    "   - Add new files\n",
    "   - Commit changes\n",
    "   - Push the changes\n",
    "- Create a branch\n",
    "   - Work on a branch\n",
    "   - Commit your changes to the branch\n",
    "   - Merging\n",
    "   - Merge your changes from the branch to “main”\n",
    "- Fork an existing repository\n",
    "   - Create a branch\n",
    "   - Make changes\n",
    "   - Commit changes\n",
    "   - Open a pull request\n",
    "\n",
    "We assume that each participant:\n",
    "- Is familiar with the basic concepts of Git and the main Git commands (to create a repository, to stage files, to commit files, to create branches, etc.).\n",
    "- Has a [GitHub](github.com) account.\n",
    "- Has access to a browser with internet connection.\n",
    "- Has access to a terminal where Git commands can be executed.\n",
    "- Is familiar with a file editor such as `vi`, `vim` or `nano`."
   ]
  },
  {
   "cell_type": "markdown",
   "metadata": {},
   "source": [
    "# <font color=\"red\">Online Resources</font>\n",
    "\n",
    "- [Git Tutorial – A Comprehensive Beginner’s Guide](https://www.hostinger.com/tutorials/git-tutorial)\n",
    "- [Hello World](https://docs.github.com/en/get-started/quickstart/hello-world)\n",
    "- [How to make your first pull request on GitHub](https://www.freecodecamp.org/news/how-to-make-your-first-pull-request-on-github-3/)\n",
    "- [How To Create A Pull Request on Github: Propose Changes to GitHub Repositories](https://www.earthdatascience.org/courses/intro-to-earth-data-science/git-github/github-collaboration/how-to-submit-pull-requests-on-github/)\n",
    "- [How to fork a repo in GitHub Intro version control git](https://www.earthdatascience.org/workshops/intro-version-control-git/about-forks/)"
   ]
  },
  {
   "cell_type": "markdown",
   "metadata": {
    "id": "ZTu6ZPTDw0jA",
    "jupyter": {
     "source_hidden": true
    }
   },
   "source": [
    "# <font color=\"red\">Recall: Git Repository</font>\n",
    "\n",
    "- A virtual storage of your software project.\n",
    "- Allows team members to work on the same or different parts of the project efficiently and effectively, and points to conflicts when they arise.\n",
    "- Allows you to save versions of your code, which you can access when needed.\n",
    "- Contains the entire history of your project. "
   ]
  },
  {
   "cell_type": "markdown",
   "metadata": {},
   "source": [
    "## <font color=\"blue\">Summary of a Few Git Commands</font>\n",
    "\n",
    "| Command | Description |\n",
    "| --- | --- |\n",
    "| `git init` | Initialize a repository |\n",
    "| `git clone` | Clone a remote repository |\n",
    "| `git add` | Add a file that is in the working directory to the staging area. |\n",
    "| `git commit` | Add all files that are staged to the local repository. |\n",
    "| `git log` | Show the commit logs. |\n",
    "| `git push` | Add all committed files in the local repository to the remote repository. So in the remote repository, all files and changes will be visible to anyone with access to the remote repository. |\n",
    "| `git fetch` | Get files from the remote repository to the local repository but not into the working directory. |\n",
    "| `git merge` | Get the files from the local repository into the working directory. |\n",
    "| `git pull` | Get files from the remote repository directly into the working directory. It is equivalent to a `git fetch` and a `git merge`. |"
   ]
  },
  {
   "cell_type": "markdown",
   "metadata": {},
   "source": [
    "# <font color=\"red\">What is GitHub?</font>\n",
    "\n",
    "- An online code hosting platform for version control and collaboration.\n",
    "- To use GitHub, you need to have knowledge on version control and Git. \n",
    "- Holds the collection of directories and files that make up a project.\n",
    "- Allows a team of code developers to seamlessly work together from anywhere on the same code base.\n",
    "   - Each team member can locally obtain a version of the remote repository on GitHub, work on the local copy, commit the changes to the local repository, and then push the new changes to the repository on GitHub.\n",
    "  \n",
    "\n",
    "![fig_github](https://drstearns.github.io/tutorials/git/img/github.png)\n",
    "Image Source: Dave Stearns (drstearns.github.io)\n"
   ]
  },
  {
   "cell_type": "markdown",
   "metadata": {},
   "source": [
    "## <font color=\"blue\">Git Workflow: Local and Remote Repositories</font>\n",
    "\n",
    "![fig_workflow](https://www.hostinger.com/tutorials/wp-content/uploads/sites/2/2022/04/git-tutorials-03.webp)\n",
    "\n",
    "Image Source: https://www.hostinger.com/tutorials/git-tutorial"
   ]
  },
  {
   "cell_type": "markdown",
   "metadata": {
    "id": "Pap1pZePw0jT",
    "jupyter": {
     "source_hidden": true
    }
   },
   "source": [
    "# <font color=\"red\">Step 0:</font> Access GitHub\n",
    "\n",
    "\n",
    "- Go to [http://github.com/](http://github.com/) and log in to your account.\n",
    "- You also need to add a [new SSH key to your GitHub account](https://www.inmotionhosting.com/support/server/ssh/how-to-add-ssh-keys-to-your-github-account/).\n",
    "   - This setting will allow you access and write data in repositories on GitHub.com using SSH (Secure Shell Protocol).\n",
    "   - When you connect via SSH, you authenticate using a private key file on your local machine. You will not need to provide your Github user name and password."
   ]
  },
  {
   "cell_type": "markdown",
   "metadata": {
    "id": "Pap1pZePw0jT",
    "jupyter": {
     "source_hidden": true
    }
   },
   "source": [
    "# <font color=\"red\">Step 1:</font> Create a Repository\n",
    "\n",
    "We want to follow the steps described in [https://guides.github.com/activities/hello-world/](https://guides.github.com/activities/hello-world/) to create a **hello_world** project."
   ]
  },
  {
   "cell_type": "markdown",
   "metadata": {},
   "source": [
    "## <font color=\"blue\">Step 1.0:</font> First Git Repository\n",
    "\n",
    "1. In your GitHub account click on the `+` button at the upper right corner.\n",
    "2. Select `New repository`.\n",
    "3. In the box **<font color=\"purple\">Repository name</font>**, type `hello_world`.\n",
    "4. In the **<font color=\"purple\">Description</font>** box, type a short description.\n",
    "5. Select **<font color=\"purple\">Public</font>** repository (to allow anyone to access the repository).\n",
    "6. Select **<font color=\"purple\">Add a README file</font>**.\n",
    "7. Go to the bottom right corner and click on **<font color=\"purple\">Create repository</font>**.\n",
    "\n",
    "\n",
    "You now have your first Git repository in GitHub."
   ]
  },
  {
   "cell_type": "markdown",
   "metadata": {},
   "source": [
    "## <font color=\"blue\">Step 1.1:</font> Edit the `README.md` file\n",
    "\n",
    "- Check the [Markdown Cheatsheet](https://github.com/adam-p/markdown-here/wiki/Markdown-Cheatsheet) online document to learn the basic markdowm syntax.\n",
    "- On your new GitHub repository page, click on the pencil symbol to edit the `README.md` file to include for instance:\n",
    "\n",
    "```\n",
    "# My First and Simple Git Repository\n",
    "\n",
    "This is my first attempt to create a Git repository on GitHub.\n",
    "The goal here is to learn how to create and maintain a repository. \n",
    "I am interesteed (among other things) in:\n",
    "- Creating a branch\n",
    "- Working on the branch and committing my changes.\n",
    "- Merging the branch to `main`.\n",
    "```\n",
    "\n",
    "- Click on **<font color=\"purple\">Commit changes...</font>** to save the file."
   ]
  },
  {
   "cell_type": "markdown",
   "metadata": {},
   "source": [
    "## <font color=\"blue\">Step 1.2:</font> Add a new file\n",
    "\n",
    "- On the main page of the repository, click on **<font color=\"purple\">Add file</font>**\n",
    "- Select **<font color=\"purple\">Create new file</font>**\n",
    "- In the box on the right of `hello_world`, type `hello.py`, and\n",
    "- In the **<font color=\"purple\">Edit</font>** box, add the following:\n",
    "\n",
    "```python\n",
    "print(\"Hello World!\")\n",
    "print(\"\\t This is my first Git repository on GitHub.\")\n",
    "```\n",
    "\n",
    "- Click on **<font color=\"purple\">Commit changes...</font>** to save the file and update the repository.\n",
    "\n",
    "**Note that the repository now has two files: `README.md` and `hello.py`.**"
   ]
  },
  {
   "cell_type": "markdown",
   "metadata": {},
   "source": [
    "# <font color=\"red\">Step 2:</font> Create a Branch\n",
    "\n",
    "- A branch is a new/separate version of the main repository that creates another line of development in the project.\n",
    "- A branch allows you to have different versions of a repository at one time.\n",
    "- By default, a repository has one branch referred to as `main` that needs to be considered as the reference branch or the trunk.\n",
    "- There is no limit on the number of branches that can be created off `main` or any other existing branch.\n",
    "- The work done on different branches will not show up on `main` until you merge it.\n",
    "- It is a good paratice to always do code changes on branches, testing the code modifications before merging them to `main` that needs to have the official version(s) of your project."
   ]
  },
  {
   "cell_type": "markdown",
   "metadata": {},
   "source": [
    "\n",
    "![fig_branch](https://wac-cdn.atlassian.com/dam/jcr:a905ddfd-973a-452a-a4ae-f1dd65430027/01%20Git%20branch.svg?cdnVersion=1028)\n",
    "Image Source: [https://www.atlassian.com/git/tutorials/using-branches](https://www.atlassian.com/git/tutorials/using-branches)"
   ]
  },
  {
   "cell_type": "markdown",
   "metadata": {},
   "source": [
    "**We are going to create a branch using two approaches**:\n",
    "- Directly in GitHub\n",
    "- Working from a terminal to clone the remote repository and working on the local repository. \n",
    "\n",
    "In each approach, we want to add more code segment in the file `hello.py`."
   ]
  },
  {
   "cell_type": "markdown",
   "metadata": {},
   "source": [
    "## <font color=\"blue\">Step 2.1:</font> Branching from GitHub\n",
    "\n",
    "Here, we are going to do all the operations within GitHub.\n",
    "\n",
    "- Above the file list, click the dropdown menu that says **<font color=\"purple\">main</font>**.\n",
    "- In the text box, type a branch name, say `github_edits`. \n",
    "- Click on **<font color=\"purple\">Create branch: github_edits</font>** to create the new branch.\n",
    "\n",
    "You can see that you have two branches: `main` and `github_edits`."
   ]
  },
  {
   "cell_type": "markdown",
   "metadata": {},
   "source": [
    "### <font color=\"green\">Making and committing changes</font>\n",
    "We want to modidy the file `hello.py` that is in the new branch and commit the changes there.\n",
    "\n",
    "- Under the `github_edits` branch that you have created, click the `hello.py` file.\n",
    "- To edit the file, click on the pencil icon.\n",
    "- In the editor, include the following below the two existing lines:\n",
    "\n",
    "```python\n",
    "\n",
    "def print_message(name='Python'):\n",
    "    print(f\"Welcome to the class from {name}!)\n",
    "          \n",
    "name = \"Julia\"\n",
    "print_message(name)\n",
    "          \n",
    "```\n",
    "- Click on **<font color=\"purple\">Commit changes...</font>**\n",
    "\n",
    "These changes were made to the `hello.py` file that resides in the `github_edits` branch. The `main` branch does not have those changes."
   ]
  },
  {
   "cell_type": "markdown",
   "metadata": {},
   "source": [
    "The new file should like:\n",
    "\n",
    "```python\n",
    "\n",
    "print(\"Hello World!\")\n",
    "print(\"\\t This is my first Git repository on GitHub.\")\n",
    "\n",
    "def print_message(name='Python'):\n",
    "    print(f\"Welcome to the class from {name}!\")\n",
    "          \n",
    "name = \"Julia\"\n",
    "print_message(name)\n",
    "```"
   ]
  },
  {
   "cell_type": "markdown",
   "metadata": {},
   "source": [
    "## <font color=\"blue\">Step 2.2:</font> Branching from the Terminal\n",
    "\n",
    "We want to use a computer terminal (where Git is already installed) to:\n",
    "\n",
    "- Clone a copy of the `main` branch.\n",
    "- Create a new local branch named `local_edits`.\n",
    "- Work on the new branch by editing the file `hello.py`.\n",
    "- Commit the changes to to the local branch `local_edits`.\n",
    "- Push the branch `local_edits` to the remote repository."
   ]
  },
  {
   "cell_type": "markdown",
   "metadata": {},
   "source": [
    "### <font color=\"green\">Getting `main` address</font>\n",
    "\n",
    "- Click on **<font color=\"purple\">Code</font>** on the upper left corner\n",
    "- Click on the `github_edits` branch name.\n",
    "    - Click on **<font color=\"purple\">default</font>** to point to the `main` branch.\n",
    "- Click on the green **<font color=\"green\"> Code </font>** box.\n",
    "- Select the SSH option and copy the address in the box. It should look like:\n",
    "\n",
    "```\n",
    "git@github.com:your_GitHub_userid/hello_world.git\n",
    "```\n",
    "\n",
    "where `your_GitHub_userid` is your account name in GitHub."
   ]
  },
  {
   "cell_type": "markdown",
   "metadata": {},
   "source": [
    "### <font color=\"green\">Clone `main`</font>\n",
    "\n",
    "From a terminal, issue the command:\n",
    "\n",
    "```csh\n",
    "git clone git@github.com:your_GitHub_userid/hello_world.git\n",
    "```\n",
    "If everything goes well, you will have on your terminal something like:\n",
    "\n",
    "```\n",
    "Cloning into 'hello_world'...\n",
    "remote: Enumerating objects: 15, done.\n",
    "remote: Counting objects: 100% (15/15), done.\n",
    "remote: Compressing objects: 100% (11/11), done.\n",
    "remote: Total 15 (delta 2), reused 0 (delta 0), pack-reused 0\n",
    "Receiving objects: 100% (15/15), done.\n",
    "Resolving deltas: 100% (2/2), done.\n",
    "```\n",
    "That will indicate that you have the new folder `hello_world/`."
   ]
  },
  {
   "cell_type": "markdown",
   "metadata": {},
   "source": [
    "Go in the `hello_world` folder:\n",
    "\n",
    "```\n",
    "cd hello_world\n",
    "```\n",
    "List all the files in the folder by typing:\n",
    "```\n",
    "ls\n",
    "```\n",
    "and you will get:\n",
    "```\n",
    "README.md\thello.py\n",
    "```\n",
    "You can verify that is exactly what is available on the `main` branch of the remote repository in GitHub.\n",
    "\n",
    "Finally, let us verify that we currently have only one local branch by typing:\n",
    "\n",
    "```\n",
    "git branch\n",
    "```"
   ]
  },
  {
   "cell_type": "markdown",
   "metadata": {},
   "source": [
    "#### Simple test\n",
    "The file `hello.py` is a Python program. So far, we have not verified that it works as expected. We can run it by typing:\n",
    "\n",
    "```csh\n",
    "python hello.py\n",
    "```\n",
    "and the following will be displayed on the terminal:\n",
    "```\n",
    "Hello World!\n",
    "\t This is my first Git repository on GitHib.\n",
    "```"
   ]
  },
  {
   "cell_type": "markdown",
   "metadata": {},
   "source": [
    "### <font color=\"green\">Create a new branch</font>\n",
    "\n",
    "Still inside the folder `hello_world`, issue the command:\n",
    "\n",
    "```csh\n",
    "git checkout -b local_edits\n",
    "```\n",
    "and the following will be displayed on the terminal:\n",
    "```\n",
    "Switched to a new branch 'local_edits'\n",
    "```\n",
    "To verify that anew local branch was created and you are currently pointing to it, type:\n",
    "```\n",
    "git branch\n",
    "```\n",
    "to get something like:\n",
    "```\n",
    "  main\n",
    "* local_edits\n",
    "```\n",
    "The `*` is there to indicate the branch you are pointing to."
   ]
  },
  {
   "cell_type": "markdown",
   "metadata": {},
   "source": [
    "### <font color=\"green\">Making and committing changes</font>\n",
    "\n",
    "- Use any file editor to open the file `hello.py` and include the following lines before the two existing ones:\n",
    "\n",
    "```python\n",
    "import sys\n",
    "\n",
    "if len(sys.argv) > 1:\n",
    "    name = sys.argv[1]\n",
    "else:\n",
    "    print(\"You are expected to provide your name.\")\n",
    "    print(\"You need to type:\")\n",
    "    print(f\"\\t python {sys.argv[0]} your_name\")\n",
    "    sys.exit()\n",
    "print(f\"My name is {name}.\")\n",
    "print()\n",
    "```"
   ]
  },
  {
   "cell_type": "markdown",
   "metadata": {},
   "source": [
    "Make sure that you saved the file that now looks like:\n",
    "\n",
    "\n",
    "```python\n",
    "import sys\n",
    "\n",
    "if len(sys.argv) > 1:\n",
    "    name = sys.argv[1]\n",
    "else:\n",
    "    print(\"You are expected to provide your name.\")\n",
    "    print(\"You need to type:\")\n",
    "    print(f\"\\t python {sys.argv[0]} your_name\")\n",
    "    sys.exit()\n",
    "print(f\"My name is {name}.\")\n",
    "print()\n",
    "\n",
    "print(\"Hello World!\")\n",
    "print(\"\\t This is my first Git repository on GitHub.\")\n",
    "```"
   ]
  },
  {
   "cell_type": "markdown",
   "metadata": {},
   "source": [
    "#### Stage the file `hello.py`\n",
    "\n",
    "From the terminal, you need to type:\n",
    "\n",
    "```\n",
    "git add hello.py\n",
    "```"
   ]
  },
  {
   "cell_type": "markdown",
   "metadata": {},
   "source": [
    "#### Commit the changes to your local branch\n",
    "\n",
    "Issue the command:\n",
    "\n",
    "```\n",
    "git commit -m \"Add a new code segment.\"\n",
    "```"
   ]
  },
  {
   "cell_type": "markdown",
   "metadata": {},
   "source": [
    "#### Pushing the local branch to the remote repository\n",
    "\n",
    "- The branch `local_edits` is on your local repository only.\n",
    "- We want to push it to the remote repository on GitHub.\n",
    "- This is done with the command:\n",
    "\n",
    "```csh\n",
    "git push --set-upstream origin local_edits\n",
    "```\n",
    "If everything works well, something like this will be displayed on your terminal:\n",
    "\n",
    "```\n",
    "Total 0 (delta 0), reused 0 (delta 0), pack-reused 0\n",
    "remote: \n",
    "remote: Create a pull request for 'local_edits' on GitHub by visiting:\n",
    "remote:      https://github.com/your_GitHub_userid/hello_world/pull/new/local_edits\n",
    "remote: \n",
    "To github.com:JulesKouatchou/hello_world.git\n",
    " * [new branch]      local_edits -> local_edits\n",
    "Branch 'tlocal_edits' set up to track remote branch 'local_edits' from 'origin'.\n",
    "```"
   ]
  },
  {
   "cell_type": "markdown",
   "metadata": {},
   "source": [
    "### Verification\n",
    "\n",
    "Refresh your browser and check what is happening in your `hello_world` repository:\n",
    "\n",
    "- There are now three (branches):\n",
    "    - `main`\n",
    "    - `github_edits`\n",
    "    - `local_edits`\n",
    "- Each of the branches has a different version of the file `hello.py`.\n",
    "\n",
    "We now need to figure out how to merge the work done in the branches `github_edits` and `local_edits` into the reference branch `main`."
   ]
  },
  {
   "cell_type": "markdown",
   "metadata": {},
   "source": [
    "# <font color=\"red\">Step 3:</font> Merging through a Pull Request (PR)\n",
    "\n",
    "A Pull Request:\n",
    "\n",
    "- Provides a user-friendly web interface for discussing proposed changes before integrating them into the official project.\n",
    "- Is a mechanism for a developer to notify team members that they have completed a feature. \n",
    "- Once their feature branch is ready, the developer files a pull request via their GitHub account.\n",
    "- This lets everybody involved know that they need to review the code and merge it into the `main` branch.\n",
    "   - If there are any problems with the changes, teammates can post feedback in the PR and even tweak the feature by pushing follow-up commits. \n",
    "   - All of the activities are tracked directly inside of the PR."
   ]
  },
  {
   "cell_type": "markdown",
   "metadata": {},
   "source": [
    "![fig_PR](https://raw.githubusercontent.com/DXHeroes/knowledge-base-content/master/files/pull-request.jpeg)\n",
    "Image Source: https://developerexperience.io"
   ]
  },
  {
   "cell_type": "markdown",
   "metadata": {},
   "source": [
    "### <font color=\"green\">PR process</font>\n",
    "\n",
    "\n",
    "1. A developer creates the feature in a dedicated branch in their local repo.\n",
    "2. The developer pushes the branch to a public GitHub repository.\n",
    "3. The developer files a pull request via GitHub.\n",
    "4. The rest of the team reviews the code, discusses it, and alters it.\n",
    "5. The project maintainer merges the feature into the official repository and closes the PR.\n",
    "\n",
    "Pull requests show differences, of the content from both branches. The changes, additions, and subtractions are shown in different colors."
   ]
  },
  {
   "cell_type": "markdown",
   "metadata": {},
   "source": [
    "### <font color=\"green\">Opening a PR</font>\n",
    "\n",
    "You can open PRs in your own repository and merge them yourself. It's a great way to learn the GitHub flow before working on larger projects.\n",
    "\n",
    "1. Select the `github_edits` branch.\n",
    "2. Click the **<font color=\"purple\">Pull requests</font>** tab of your `github_edits` repository.\n",
    "3. Click **<font color=\"purple\">New pull request</font>**\n",
    "4. In the **<font color=\"purple\">Example Comparisons</font>** box, select the `github_edits` branch you made, to compare with `main` (the original).\n",
    "   - Look over your changes in the diffs on the Compare page, make sure they're what you want to submit.\n",
    "   - If you are satisfied with the changes, click **<font color=\"purple\">Create pull request</font>**.\n",
    "5. Give your pull request a title and write a brief description of your changes. You can include emojis and drag and drop images and gifs.\n",
    "   - Optionally, to the right of your title and description, click the  next to Reviewers. Assignees, Labels, Projects, or Milestone to add any of these options to your pull request. You do not need to add any yet, but these options offer different ways to collaborate using pull requests. For more information, see \"About pull requests.\"\n",
    "6. Click **<font color=\"purple\">Create pull request</font>**."
   ]
  },
  {
   "cell_type": "markdown",
   "metadata": {},
   "source": [
    "### <font color=\"green\">Merge the PR</font>\n",
    "\n",
    "If the branch `github_edits` **has no conflicts with the base branch**:\n",
    "\n",
    "- Click **<font color=\"green\">Merge pull request</font>**\n",
    "- Click **<font color=\"green\">Confirm merge</font>** and add comment before clicking (if necessary)."
   ]
  },
  {
   "cell_type": "markdown",
   "metadata": {},
   "source": [
    "### <font color=\"green\">Verify in `main` if the merge went through</font>\n",
    "\n",
    "- Go to the `main` branch.\n",
    "- Click on the file `hello.py`.\n",
    "- Verify that `hello.py` looks like:\n",
    "\n",
    "```python\n",
    "print(\"Hello World!\")\n",
    "print(\"\\t This is my first Git repository on GitHib.\")\n",
    "\n",
    "def print_message(my_name='Python'):\n",
    "    print(f\"Welcome to the class from {my_name}!)\n",
    "          \n",
    "name = \"Julia\"\n",
    "print_message(name)\n",
    "```"
   ]
  },
  {
   "cell_type": "markdown",
   "metadata": {},
   "source": [
    "### <font color=\"green\">Breakout</font>\n",
    "\n",
    "- Do a PR of the changes made in the `local_edits` branch."
   ]
  },
  {
   "cell_type": "markdown",
   "metadata": {},
   "source": [
    "# <font color=\"red\">Step 4:</font> Fork\n",
    "\n",
    "- A GitHub fork allows you to get copy of someone else's repository.\n",
    "    - The copy sits in your account rather than the account from which you forked the data from. \n",
    "- Once you have forked a repository, you own your forked copy. \n",
    "    - This means that you can edit the contents of your forked repository without impacting the parent repository.\n",
    "- When your fork, nothing changes in your local storage. Instead, a new repository will be initiated with the contents of the existing repository copied over on your remote account in GitHub."
   ]
  },
  {
   "cell_type": "markdown",
   "metadata": {},
   "source": [
    "### <font color=\"green\">When to fork?</font>\n",
    "\n",
    "- You want to make changes to an existing and accessible repository.\n",
    "- You then create  a fork, work on the changes you want to implement, then create a PR to merge the changes you’ve made from your fork into the original repository.\n",
    "   - The developers of the original repository need to approve your changes before their are included.\n",
    "- Forks create a safe environment for the original repository – no matter how much experimentation you do in your own fork, the original repository is not affected at all!"
   ]
  },
  {
   "cell_type": "markdown",
   "metadata": {},
   "source": [
    "### <font color=\"green\">Best practices</font>\n",
    "\n",
    "- Fork someone else's repository\n",
    "- Create on GitHub a new branch based on the fork\n",
    "- Use your terminal to clone the branch on your local platform.\n",
    "     - Now, you have a local Git repository\n",
    "- Work on your local repository to make changes and ensure that the new code works as expected.\n",
    "- Commit your changes to your local repository.\n",
    "- Push your changes to the remote repository (your branch previously created).\n",
    "- Initiate a PR\n",
    "    - Note that the developers of the original project need to approve your PR."
   ]
  },
  {
   "cell_type": "markdown",
   "metadata": {},
   "source": [
    "![fig_fork](https://edav.info/images/git/pull-request-1.png)\n",
    "Image Source: https://edav.info/github.html"
   ]
  },
  {
   "cell_type": "markdown",
   "metadata": {},
   "source": [
    "### <font color=\"green\">Forking a repository</font>\n",
    "\n",
    "- From your browser, go to [https://github.com/JulesKouatchou/test_git](https://github.com/JulesKouatchou/test_git)\n",
    "- In the to-right corner of the page, click **<font color=\"purple\">Fork</font>**.\n",
    "- Under \"Owner,\" select the dropdown menu and click an owner for the forked repository.\n",
    "- By default, forks are named the same as their upstream repositories. \n",
    "    - Optionally, to further distinguish your fork, in the \"Repository name\" field, type a name.\n",
    "    - Optionally, in the \"Description\" field, type a description of your fork.\n",
    "    - Optionally, select **<font color=\"purple\">Copy the DEFAULT branch only</font>**.\n",
    "- Click **Create fork**."
   ]
  },
  {
   "cell_type": "markdown",
   "metadata": {},
   "source": [
    "### <font color=\"green\">Making changes to the forked repository</font>\n",
    "\n",
    "- In your remote account, create a new branch (named for instance `feature/lastname/test_git` where `lastname` is your name in one word)based on the forked repository.\n",
    "- From the terminal on your local compute, clone the branch `feature/lastname/test_git`:\n",
    "\n",
    "```\n",
    "git clone -b feature/lastname/test_git git@github.com:your_githubuserid/test_git.git\n",
    "```\n",
    "\n",
    "- You will have a local folder `test_git/`.\n",
    "    - Go to the folder `test_git/`\n",
    "    - Edit the `README.md` file as you wish. You may also consider modifying the `hello.py` file in the `src/` folder.\n",
    "    - Commit the changes to the local repostory.\n",
    "    - Push your changes to the remote repository."
   ]
  },
  {
   "cell_type": "markdown",
   "metadata": {},
   "source": [
    "### <font color=\"green\">Initiate a PR</font>\n",
    "\n",
    "- From your account in GitHub, initiate a PR.\n",
    "    - Note that owner of the original PR may reject your PR."
   ]
  },
  {
   "cell_type": "code",
   "execution_count": null,
   "metadata": {},
   "outputs": [],
   "source": []
  }
 ],
 "metadata": {
  "colab": {
   "name": "Copy of basic_git_tutorial.ipynb",
   "provenance": []
  },
  "kernelspec": {
   "display_name": "Python 3 (ipykernel)",
   "language": "python",
   "name": "python3"
  },
  "language_info": {
   "codemirror_mode": {
    "name": "ipython",
    "version": 3
   },
   "file_extension": ".py",
   "mimetype": "text/x-python",
   "name": "python",
   "nbconvert_exporter": "python",
   "pygments_lexer": "ipython3",
   "version": "3.10.12"
  }
 },
 "nbformat": 4,
 "nbformat_minor": 4
}
