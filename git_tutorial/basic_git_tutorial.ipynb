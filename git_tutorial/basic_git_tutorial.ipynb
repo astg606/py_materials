{
 "cells": [
  {
   "cell_type": "markdown",
   "metadata": {
    "id": "M2PmpV3fw0i8"
   },
   "source": [
    "<center>\n",
    "<table>\n",
    "  <tr>\n",
    "    <td><img src=\"http://www.nasa.gov/sites/all/themes/custom/nasatwo/images/nasa-logo.svg\" width=\"100\"/> </td>\n",
    "     <td><img src=\"https://github.com/astg606/py_materials/blob/master/logos/ASTG_logo.png?raw=true\" width=\"80\"/> </td>\n",
    "     <td> <img src=\"https://www.nccs.nasa.gov/sites/default/files/NCCS_Logo_0.png\" width=\"130\"/> </td>\n",
    "    </tr>\n",
    "</table>\n",
    "</center>\n",
    "\n",
    "        \n",
    "<center>\n",
    "<h1><font color= \"blue\" size=\"+3\">ASTG Python Courses</font></h1>\n",
    "</center>\n",
    "\n",
    "---\n",
    "\n",
    "<center>\n",
    "    <h1><font color=\"red\">Introduction to Version Control with Git</font></h1>\n",
    "</center>"
   ]
  },
  {
   "cell_type": "markdown",
   "metadata": {},
   "source": [
    "# <font color=\"red\">Objectives</font>\n",
    "In this presentation we want to:\n",
    "- Introduce the basic concepts of a version control.\n",
    "- Provide an overview of Git.\n",
    "- Show the basic steps to create and maintain a local Git repository:\n",
    "   - Create a Git repository from scratch.\n",
    "   - Stage files\n",
    "   - Commit files\n",
    "   - Create a branch\n",
    "   - Deal with conflicts\n",
    "   - Move and remove file\n",
    "   - Merge changes\n",
    "   - etc.\n",
    "   \n",
    "**Ideally, to fully take advange of this presentation you need to work on a platform (with a terminal) where Git is installed. Here, we mimic the terminal command lines to understand how Git works.**"
   ]
  },
  {
   "cell_type": "markdown",
   "metadata": {
    "id": "51gY_ciHw0i_",
    "jupyter": {
     "source_hidden": true
    }
   },
   "source": [
    "# <font color=\"red\">Online Resources</font>\n",
    "- <a href=\"https://www.atlassian.com/git/tutorials\">Become a git guru</a>\n",
    "- <a href=\"https://github.github.com/training-kit/downloads/github-git-cheat-sheet/\">Git Cheat Sheet</a>\n",
    "- <a href=\"https://www.vogella.com/tutorials/Git/article.html\">Git - Tutorial</a> (by Lars Vogel)\n",
    "- <a href=\"https://berkeley-stat159-f17.github.io/stat159-f17/lectures/01-git/Git-Tutorial..html\">An interactive Git Tutorial: the tool you didn’t know you needed</a>\n",
    "- <a href=\"https://www.freecodecamp.org/news/learn-the-basics-of-git-in-under-10-minutes-da548267cc91/\">Learn the Basics of Git in Under 10 Minutes</a>"
   ]
  },
  {
   "cell_type": "markdown",
   "metadata": {
    "id": "663-ZKx5w0i_",
    "jupyter": {
     "source_hidden": true
    }
   },
   "source": [
    "# <font color=\"red\">What is Version Control?</font>\n",
    "- Version control systems are a category of software tools that help a software team manage changes to source code over time. \n",
    "- Version control software keeps track of every modification to the code in a special kind of database. \n",
    "- If a mistake is made, developers can turn back the clock and compare earlier versions of the code to help fix the mistake while minimizing disruption to all team members.\n",
    "- Version control software is an essential part of the every-day of the modern software team's professional practices. \n",
    "\n",
    "#### Types of version control system\n",
    "\n",
    "There are two types of version control system:\n",
    "- **Centralized** version control systems are based on the idea that there is a single “central” copy of your project somewhere (probably on a server), and programmers will “commit” their changes to this central copy. The best known examples of centralized systems are CVS and Subversion.\n",
    "- **Distributed** version systems do not necessarily rely on a central server to store all the versions of a project’s files. Instead, every developer “clones” a copy of a repository and has the full history of the project on their own hard drive. This copy (or “clone”) has all of the metadata of the original. Some distributed version control systems are Git and Mercurial.\n",
    "\n",
    "![fig_vcs](https://s26500.pcdn.co/wp-content/uploads/2019/09/VCS_Diff-768x314.png)\n",
    "Image Source: [datacore.com](https://www.datacore.com/blog/how-to-move-source-control-from-perforce-to-github/)\n",
    "\n",
    "#### Benefits of Version Control\n",
    "- Developing software without using version control is risky, like not having backups. \n",
    "- Version control can also enable developers to move faster and it allows software teams to preserve efficiency and agility as the team scales to include more developers.\n",
    "- The primary benefits you should expect from version control are:\n",
    "     + A complete long-term change history of every file. \n",
    "     + Branching and merging. \n",
    "     + Traceability."
   ]
  },
  {
   "cell_type": "markdown",
   "metadata": {
    "id": "ZTu6ZPTDw0jA",
    "jupyter": {
     "source_hidden": true
    }
   },
   "source": [
    "# <font color=\"red\">What is Git?</font>\n",
    "- The most widely used modern distributed version control system.\n",
    "- A mature, actively maintained open source project.\n",
    "- Git has been designed with the following features:\n",
    "    + **Performance**: Committing new changes, branching, merging and comparing past versions are all optimized for performance. \n",
    "    + **Security**: The content of the files as well as the true relationships between files and directories, versions, tags and commits, all of these objects in the Git repository are secured with a cryptographically secure --hashing-- algorithm called SHA1.\n",
    "    + **Flexibility**: Git is flexible (1) in support for various kinds of nonlinear development workflows, (3) in its efficiency in both small and large projects, and (3) in its compatibility with many existing systems and protocols."
   ]
  },
  {
   "cell_type": "markdown",
   "metadata": {
    "id": "z11zxcXcw0jB",
    "jupyter": {
     "source_hidden": true
    }
   },
   "source": [
    "### Git Repository\n",
    "- A Git repository is a virtual storage of your project. \n",
    "- It allows you to save versions of your code, which you can access when needed.\n",
    "- A Git repository contains the history of a collection of files. \n",
    "- The process of copying an existing Git repository is called **cloning**. \n",
    "- When a user clones a repository, they obtain a full copy of the repository, including its complete history, on their local machine."
   ]
  },
  {
   "cell_type": "markdown",
   "metadata": {
    "id": "F5LaLv6Yw0jC",
    "jupyter": {
     "source_hidden": true
    }
   },
   "source": [
    "### Git Workflow\n",
    "\n",
    "The general workflow of a Git cycle is:\n",
    "- Clone a Git repository as a working copy.\n",
    "- Modify the working copy by adding/editing files.\n",
    "- If necessary, update the working copy by taking other developers' changes.\n",
    "- Review the changes before commit.\n",
    "- Commit changes in your local repository.\n",
    "- If everything is fine, push the changes to the remote respoitory.\n",
    "- If you realize that something is wrong, you can correct any of the previous commits and still push your changes to the remote repository.\n",
    "\n",
    "The image below shows the interaction between the remote repository, the local repository and the Working Directory.\n",
    "\n",
    "<img src=\"http://www.tsbakker.nl/images/gitstages.jpg\" style=\"width: 600px;\"/>\n",
    "\n",
    "Image Source: [http://www.tsbakker.nl/git.html](http://www.tsbakker.nl/git.html)"
   ]
  },
  {
   "cell_type": "markdown",
   "metadata": {
    "id": "Sn02s4Wew0jC",
    "jupyter": {
     "source_hidden": true
    }
   },
   "source": [
    "A file in the working tree of a Git repository can have different states:\n",
    "\n",
    "- **untracked**: the file is not tracked by the Git repository. This means that the file is never staged nor committed.\n",
    "- **tracked**: committed and not staged.\n",
    "- **staged**: staged to be included in the next commit.\n",
    "- **dirty** / **modified**: the file has changed but the change is not staged.\n",
    "\n",
    "After doing changes in the working tree, the user can add these changes to the Git repository or revert these changes."
   ]
  },
  {
   "cell_type": "markdown",
   "metadata": {
    "id": "6dUMZnukw0jD",
    "jupyter": {
     "source_hidden": true
    }
   },
   "source": [
    "## <font color=\"blue\">Step 0: Interacting with the Unix operating system</font>\n",
    "\n",
    "- `bash` is the software layer that sits on top of the OS.\n",
    "- We use `bash` here to mimic the command lines from a terminal."
   ]
  },
  {
   "cell_type": "code",
   "execution_count": null,
   "metadata": {
    "collapsed": true,
    "id": "BCH5lq2Pygma",
    "jupyter": {
     "outputs_hidden": true,
     "source_hidden": true
    }
   },
   "outputs": [],
   "source": [
    "%%bash"
   ]
  },
  {
   "cell_type": "markdown",
   "metadata": {
    "id": "vSBzNykPw0jD",
    "jupyter": {
     "source_hidden": true
    }
   },
   "source": [
    "### Useful commands\n",
    "\n",
    "#### Directories\n",
    "\n",
    "- `pwd` : tells you where you currently are (the path)\n",
    "- `mkdir` _dirname_ : create a new directory\n",
    "- `cd`  _dirname_ : change directory\n",
    "\n",
    "#### Files\n",
    "\n",
    "- `ls` : list files\n",
    "- `rm` _filename_ : remove a file\n",
    "- `mv` _filename1_ _filename2_ : rename a file\n",
    "- `diff` _filename1_ _filename2_ : compare two files\n",
    "- `cat` _filename(s)_ : print file(s) contents\n",
    "- `which` : shows path of a command\n",
    "- `find [args]` : find files\n",
    "- `echo` : write to standard output\n"
   ]
  },
  {
   "cell_type": "markdown",
   "metadata": {
    "id": "a_KuS4y-w0jD",
    "jupyter": {
     "source_hidden": true
    }
   },
   "source": [
    "# <font color=\"red\">Using Git: My First Git Repository</font>"
   ]
  },
  {
   "cell_type": "markdown",
   "metadata": {
    "id": "xJ35V4u-w0jD",
    "jupyter": {
     "source_hidden": true
    }
   },
   "source": [
    "## <font color=\"blue\">Step 1: Install and Setup Git</font>"
   ]
  },
  {
   "cell_type": "markdown",
   "metadata": {
    "id": "9vhFpmfdw0jD",
    "jupyter": {
     "source_hidden": true
    }
   },
   "source": [
    "### <font color=\"green\">Step 1.1: Install Git on your Machine</font> (if it is not there already)\n",
    "\n",
    "- **For this course, you are not required to have `git` on your local machine.**\n",
    "- To install Git on your local machine, follow the installation instructions: [Getting Started - Installing Git](https://git-scm.com/book/en/v2/Getting-Started-Installing-Git). \n",
    "\n",
    "\n",
    "Verify the installation:"
   ]
  },
  {
   "cell_type": "code",
   "execution_count": null,
   "metadata": {
    "collapsed": true,
    "id": "2ZMeYmNTw0jE",
    "jupyter": {
     "outputs_hidden": true,
     "source_hidden": true
    }
   },
   "outputs": [],
   "source": [
    "%%bash\n",
    "\n",
    "which git"
   ]
  },
  {
   "cell_type": "code",
   "execution_count": null,
   "metadata": {
    "collapsed": true,
    "id": "Jw-4eOlJw0jE",
    "jupyter": {
     "outputs_hidden": true,
     "source_hidden": true
    }
   },
   "outputs": [],
   "source": [
    "%%bash\n",
    "\n",
    "git --version"
   ]
  },
  {
   "cell_type": "code",
   "execution_count": null,
   "metadata": {
    "collapsed": true,
    "id": "iiiRVz-Xw0jE",
    "jupyter": {
     "outputs_hidden": true,
     "source_hidden": true
    }
   },
   "outputs": [],
   "source": [
    "%%bash\n",
    "\n",
    "git --help"
   ]
  },
  {
   "cell_type": "markdown",
   "metadata": {
    "id": "WxbVd2Vhw0jF",
    "jupyter": {
     "source_hidden": true
    }
   },
   "source": [
    "### <font color=\"green\"> Step 1.2: Configure `git` to Use your Account</font>\n",
    "\n",
    "- The `git config` is used to set Git configuration values on a global or local project level. \n",
    "- These configuration levels are included in the `.gitconfig` text file. Executing `git config` will modify a configuration text file. \n",
    "- A `git config --global` setting is only done once. Git will always use that information for anything you do on that system. If you want to override this with a different name or email address for specific projects, you can run the command without the `--global` option when you’re in that project.\n",
    "\n",
    "If you have never done it, you need to set your user name and email address. Uncomment the lines below and provide your information."
   ]
  },
  {
   "cell_type": "code",
   "execution_count": null,
   "metadata": {
    "collapsed": true,
    "id": "GUFrmjXvw0jF",
    "jupyter": {
     "outputs_hidden": true,
     "source_hidden": true
    }
   },
   "outputs": [],
   "source": [
    "%%bash\n",
    "\n",
    "#git config --global user.name \"FirstName LastName\"\n",
    "#git config --global user.email \"FirstName.LastName@domain.com\"\n",
    "#git config --list"
   ]
  },
  {
   "cell_type": "markdown",
   "metadata": {
    "id": "2Y9EVbSiw0jF",
    "jupyter": {
     "source_hidden": true
    }
   },
   "source": [
    "When done, your `.gitconfig` file should look like:\n",
    "\n",
    "```\n",
    "    [user]\n",
    "            name = FirstName LastName\n",
    "            email = FirstName.LastName@domain.com\n",
    "```\n",
    "\n",
    "__Note__: on Google Colab, your _user.name_ will be \"root\"."
   ]
  },
  {
   "cell_type": "markdown",
   "metadata": {
    "id": "4hdmOaRHw0jF",
    "jupyter": {
     "source_hidden": true
    }
   },
   "source": [
    "### <font color=\"green\">Step 1.3: Create Account on `github.com` </font>\n",
    "\n",
    "- Go the the website [https://github.com/](https://github.com/) to create an account if you do not have any. \n",
    "   - This will be required for the next class on Git and GitHub.\n",
    "- You might also need to [generate an SSH key and authenticate it](https://docs.github.com/en/github/authenticating-to-github/connecting-to-github-with-ssh) if you are working on your local machine."
   ]
  },
  {
   "cell_type": "markdown",
   "metadata": {
    "id": "XLUdLbeww0jF",
    "jupyter": {
     "source_hidden": true
    }
   },
   "source": [
    "## <font color=\"blue\">Step 2: Create a New Local Repository</font>\n",
    "\n",
    "![first](https://media.geeksforgeeks.org/wp-content/uploads/20191122182103/staging_process.jpg)\n",
    "Image Source: [https://www.geeksforgeeks.org/what-is-a-git-repository/](https://www.geeksforgeeks.org/what-is-a-git-repository/)\n",
    "\n",
    "\n",
    "- We first create a local working directory, named `src_code`.\n",
    "- All the cells below are meant to be run by you in a terminal where you change **once** to the `src_code` directory and continue working there."
   ]
  },
  {
   "cell_type": "markdown",
   "metadata": {
    "id": "g3h_x2L9w0jG",
    "jupyter": {
     "source_hidden": true
    }
   },
   "source": [
    "**For the purposes of the tutorial, most cells will be prepended with the first two lines**:\n",
    "\n",
    "\n",
    "```python\n",
    "   %%bash\n",
    "   cd src_code\n",
    "```"
   ]
  },
  {
   "cell_type": "markdown",
   "metadata": {},
   "source": [
    "Create the folder `src_code`:"
   ]
  },
  {
   "cell_type": "code",
   "execution_count": null,
   "metadata": {
    "collapsed": true,
    "id": "8GgMReGew0jG",
    "jupyter": {
     "outputs_hidden": true,
     "source_hidden": true
    }
   },
   "outputs": [],
   "source": [
    "%%bash\n",
    "\n",
    "mkdir -p src_code"
   ]
  },
  {
   "cell_type": "markdown",
   "metadata": {},
   "source": [
    "Go to the folder `src_code`:"
   ]
  },
  {
   "cell_type": "code",
   "execution_count": null,
   "metadata": {
    "collapsed": true,
    "id": "N01dWDeKw0jG",
    "jupyter": {
     "outputs_hidden": true,
     "source_hidden": true
    }
   },
   "outputs": [],
   "source": [
    "%%bash\n",
    "cd src_code\n",
    "\n",
    "pwd"
   ]
  },
  {
   "cell_type": "markdown",
   "metadata": {
    "id": "6KtxUr6Aw0jG",
    "jupyter": {
     "source_hidden": true
    }
   },
   "source": [
    "### <font color=\"green\">Step 2.1: Create an empty repository</font>\n",
    "- To create a new repo, you'll use the `git init` command. \n",
    "- `git init` is a one-time command you use during the initial setup of a new repo. \n",
    "- Executing this command will create a new **.git** subdirectory in your current working directory. \n",
    "- This will also create a new branch called **main**. "
   ]
  },
  {
   "cell_type": "code",
   "execution_count": null,
   "metadata": {
    "collapsed": true,
    "id": "IT2WLIHZw0jG",
    "jupyter": {
     "outputs_hidden": true,
     "source_hidden": true
    }
   },
   "outputs": [],
   "source": [
    "%%bash\n",
    "cd src_code\n",
    "\n",
    "git init"
   ]
  },
  {
   "cell_type": "markdown",
   "metadata": {
    "id": "QUkqTspyw0jH",
    "jupyter": {
     "source_hidden": true
    }
   },
   "source": [
    "You have initialized the working directory and you created a new directory, named **.git**."
   ]
  },
  {
   "cell_type": "code",
   "execution_count": null,
   "metadata": {
    "collapsed": true,
    "id": "2Q56eHKAw0jH",
    "jupyter": {
     "outputs_hidden": true,
     "source_hidden": true
    }
   },
   "outputs": [],
   "source": [
    "%%bash\n",
    "cd src_code\n",
    "\n",
    "ls -a       # looks at hidden files and directories"
   ]
  },
  {
   "cell_type": "code",
   "execution_count": null,
   "metadata": {
    "collapsed": true,
    "id": "Cma5PXERw0jH",
    "jupyter": {
     "outputs_hidden": true,
     "source_hidden": true
    }
   },
   "outputs": [],
   "source": [
    "%%bash\n",
    "cd src_code\n",
    "\n",
    "ls -l .git"
   ]
  },
  {
   "cell_type": "code",
   "execution_count": null,
   "metadata": {
    "collapsed": true,
    "id": "ggs5T928w0jH",
    "jupyter": {
     "outputs_hidden": true,
     "source_hidden": true
    }
   },
   "outputs": [],
   "source": [
    "%%bash\n",
    "cd src_code\n",
    "\n",
    "cat .git/config"
   ]
  },
  {
   "cell_type": "markdown",
   "metadata": {
    "id": "aujf--wuw0jH",
    "jupyter": {
     "source_hidden": true
    }
   },
   "source": [
    "### <font color=\"green\">Step 2.2: Create a simple Python file</font>  (`hello_class.py`)"
   ]
  },
  {
   "cell_type": "code",
   "execution_count": null,
   "metadata": {
    "collapsed": true,
    "id": "ZQtmGOyVw0jH",
    "jupyter": {
     "outputs_hidden": true,
     "source_hidden": true
    }
   },
   "outputs": [],
   "source": [
    "%%bash\n",
    "cd src_code\n",
    "\n",
    "echo \"print('Hello Class!')\" > hello_class.py"
   ]
  },
  {
   "cell_type": "code",
   "execution_count": null,
   "metadata": {
    "collapsed": true,
    "id": "cZkVZO4pw0jI",
    "jupyter": {
     "outputs_hidden": true,
     "source_hidden": true
    }
   },
   "outputs": [],
   "source": [
    "%%bash\n",
    "cd src_code\n",
    "\n",
    "ls"
   ]
  },
  {
   "cell_type": "code",
   "execution_count": null,
   "metadata": {
    "collapsed": true,
    "id": "N5rnE9Ixw0jI",
    "jupyter": {
     "outputs_hidden": true,
     "source_hidden": true
    }
   },
   "outputs": [],
   "source": [
    "%%bash\n",
    "cd src_code\n",
    "\n",
    "cat hello_class.py"
   ]
  },
  {
   "cell_type": "code",
   "execution_count": null,
   "metadata": {
    "collapsed": true,
    "id": "YGM6K8miw0jI",
    "jupyter": {
     "outputs_hidden": true,
     "source_hidden": true
    }
   },
   "outputs": [],
   "source": [
    "%%bash\n",
    "cd src_code\n",
    "\n",
    "python hello_class.py"
   ]
  },
  {
   "cell_type": "markdown",
   "metadata": {
    "id": "KKzkegxNw0jI",
    "jupyter": {
     "source_hidden": true
    }
   },
   "source": [
    "**Get a brief summary of the git repository**\n",
    "- To find out information regarding what files are modified and what files are there in the staging area, use the command:\n",
    "\n",
    "```csh\n",
    "   git status\n",
    "```"
   ]
  },
  {
   "cell_type": "code",
   "execution_count": null,
   "metadata": {
    "collapsed": true,
    "id": "14hf_vfOw0jI",
    "jupyter": {
     "outputs_hidden": true,
     "source_hidden": true
    }
   },
   "outputs": [],
   "source": [
    "%%bash\n",
    "cd src_code\n",
    "\n",
    "git status"
   ]
  },
  {
   "cell_type": "markdown",
   "metadata": {
    "id": "ln10HLXGw0jI",
    "jupyter": {
     "source_hidden": true
    }
   },
   "source": [
    "### <font color=\"green\">Step 2.3: Add the new file to the repository staging area</font>\n",
    "- Before the file is added to the local repository, it has to be in the stagging area (using the `git add` command).\n",
    "- The staging area is there to keep track of all the files which are to be committed.\n",
    "- Here, you can incrementally modify files, stage them, modify and stage them again until you are satisfied with your changes."
   ]
  },
  {
   "cell_type": "code",
   "execution_count": null,
   "metadata": {
    "collapsed": true,
    "id": "gT-kFdwcw0jI",
    "jupyter": {
     "outputs_hidden": true,
     "source_hidden": true
    }
   },
   "outputs": [],
   "source": [
    "%%bash\n",
    "cd src_code\n",
    "\n",
    "git add hello_class.py"
   ]
  },
  {
   "cell_type": "code",
   "execution_count": null,
   "metadata": {
    "collapsed": true,
    "id": "JrZbIVMfw0jJ",
    "jupyter": {
     "outputs_hidden": true,
     "source_hidden": true
    }
   },
   "outputs": [],
   "source": [
    "%%bash\n",
    "cd src_code\n",
    "\n",
    "git status"
   ]
  },
  {
   "cell_type": "markdown",
   "metadata": {
    "id": "FdaxhNj_w0jJ",
    "jupyter": {
     "source_hidden": true
    }
   },
   "source": [
    "### <font color=\"green\">Step 2.4: Create a new commit with a message describing what work was done in the commit</font>\n",
    "- After adding the selected files to the staging area, you can commit (using the `git commit` command) these files to add them permanently to the Git repository. \n",
    "- Committing creates a new persistent snapshot (called commit or commit object) of the staging area in the Git repository. "
   ]
  },
  {
   "cell_type": "code",
   "execution_count": null,
   "metadata": {
    "collapsed": true,
    "id": "lea9NEBww0jJ",
    "jupyter": {
     "outputs_hidden": true,
     "source_hidden": true
    }
   },
   "outputs": [],
   "source": [
    "%%bash\n",
    "cd src_code\n",
    "\n",
    "git commit -m \"My first Python script\""
   ]
  },
  {
   "cell_type": "code",
   "execution_count": null,
   "metadata": {
    "collapsed": true,
    "id": "KXdsgJ2tw0jJ",
    "jupyter": {
     "outputs_hidden": true,
     "source_hidden": true
    }
   },
   "outputs": [],
   "source": [
    "%%bash\n",
    "cd src_code\n",
    "\n",
    "git status"
   ]
  },
  {
   "cell_type": "markdown",
   "metadata": {
    "id": "Kd-VlC5Qw0jJ",
    "jupyter": {
     "source_hidden": true
    }
   },
   "source": [
    "**View the history (print out of what has been committed so far) of your changes using**: `git log`\n",
    "\n",
    "Here you create a commit object that contains:\n",
    "- **Commit ID**: SHA-1 Hash\n",
    "- **Author**: Name of the user who committed files.\n",
    "- **Date**: Date and time the commit was done.\n",
    "- **Commit Message**: The message the user wrote while committing."
   ]
  },
  {
   "cell_type": "code",
   "execution_count": null,
   "metadata": {
    "collapsed": true,
    "id": "gJfQe34Cw0jJ",
    "jupyter": {
     "outputs_hidden": true,
     "source_hidden": true
    }
   },
   "outputs": [],
   "source": [
    "%%bash\n",
    "cd src_code\n",
    "\n",
    "git log"
   ]
  },
  {
   "cell_type": "code",
   "execution_count": null,
   "metadata": {
    "collapsed": true,
    "id": "sFk7UKNSw0jJ",
    "jupyter": {
     "outputs_hidden": true,
     "source_hidden": true
    }
   },
   "outputs": [],
   "source": [
    "%%bash\n",
    "cd src_code\n",
    "\n",
    "git log --oneline"
   ]
  },
  {
   "cell_type": "code",
   "execution_count": null,
   "metadata": {
    "collapsed": true,
    "id": "lAiR9YYaw0jK",
    "jupyter": {
     "outputs_hidden": true,
     "source_hidden": true
    }
   },
   "outputs": [],
   "source": [
    "%%bash\n",
    "cd src_code\n",
    "\n",
    "git log --pretty=format:\"%h %ad | %s%d [%an]\" --graph --date=short"
   ]
  },
  {
   "cell_type": "markdown",
   "metadata": {
    "id": "iaJQKX0Dw0jK",
    "jupyter": {
     "source_hidden": true
    }
   },
   "source": [
    "### Create aliases"
   ]
  },
  {
   "cell_type": "markdown",
   "metadata": {
    "id": "AxFSbiq0w0jK",
    "jupyter": {
     "source_hidden": true
    }
   },
   "source": [
    "Sometimes, it is useful to create aliases to simplify commonly used commands. For example:"
   ]
  },
  {
   "cell_type": "markdown",
   "metadata": {
    "id": "L_9_MzAyw0jK",
    "jupyter": {
     "source_hidden": true
    }
   },
   "source": [
    "```bash\n",
    "git config --global alias.co \"checkout\"\n",
    "git config --global alias.ci \"commit\"\n",
    "git config --global alias.cm \"commit -m\"\n",
    "git config --global alias.cam \"commit -am\"\n",
    "git config --global alias.st \"status\"\n",
    "git config --global alias.slog \"log --oneline --topo-order --graph\"\n",
    "git config --global alias.hist 'log --pretty=format:\"%h %ad | %s%d [%an]\" --graph --date=short'\n",
    "```"
   ]
  },
  {
   "cell_type": "markdown",
   "metadata": {
    "id": "-bw8Eg8aw0jK",
    "jupyter": {
     "source_hidden": true
    }
   },
   "source": [
    "#### Exercise\n",
    "\n",
    "Add the aliases above to your global config file. When you are done, you should be able to use the \"shortcuts\".\n"
   ]
  },
  {
   "cell_type": "code",
   "execution_count": null,
   "metadata": {
    "collapsed": true,
    "jupyter": {
     "outputs_hidden": true,
     "source_hidden": true
    }
   },
   "outputs": [],
   "source": [
    "%%bash\n",
    "\n",
    "git config --global alias.co \"checkout\"\n",
    "git config --global alias.ci \"commit\"\n",
    "git config --global alias.cm \"commit -m\"\n",
    "git config --global alias.cam \"commit -am\"\n",
    "git config --global alias.st \"status\"\n",
    "git config --global alias.slog \"log --oneline --topo-order --graph\"\n",
    "git config --global alias.hist 'log --pretty=format:\"%h %ad | %s%d [%an]\" --graph --date=short'"
   ]
  },
  {
   "cell_type": "markdown",
   "metadata": {
    "id": "CdkQqZ5aw0jK",
    "jupyter": {
     "source_hidden": true
    }
   },
   "source": [
    "## <font color=\"blue\">Step 3: Exploring Git Objects</font>"
   ]
  },
  {
   "cell_type": "code",
   "execution_count": null,
   "metadata": {
    "collapsed": true,
    "id": "k882i124w0jK",
    "jupyter": {
     "outputs_hidden": true,
     "source_hidden": true
    }
   },
   "outputs": [],
   "source": [
    "%%bash\n",
    "cd src_code\n",
    "\n",
    "git slog"
   ]
  },
  {
   "cell_type": "markdown",
   "metadata": {
    "id": "_C2vjw3Yw0jL",
    "jupyter": {
     "source_hidden": true
    }
   },
   "source": [
    "Let's look in more detail at the repository directory tree:"
   ]
  },
  {
   "cell_type": "code",
   "execution_count": null,
   "metadata": {
    "collapsed": true,
    "id": "qpI9HiPR5CWu",
    "jupyter": {
     "outputs_hidden": true,
     "source_hidden": true
    }
   },
   "outputs": [],
   "source": [
    "%%bash\n",
    "cd src_code\n",
    "\n",
    "ls -la"
   ]
  },
  {
   "cell_type": "code",
   "execution_count": null,
   "metadata": {
    "collapsed": true,
    "id": "AOzDq_vYw0jL",
    "jupyter": {
     "outputs_hidden": true,
     "source_hidden": true
    }
   },
   "outputs": [],
   "source": [
    "%%bash\n",
    "cd src_code\n",
    "\n",
    "find . -print | sed -e 's;[^/]*/;|____;g;s;____|; |;g'"
   ]
  },
  {
   "cell_type": "markdown",
   "metadata": {
    "id": "z_u1d5HCw0jL",
    "jupyter": {
     "source_hidden": true
    }
   },
   "source": [
    "The __commit hash__  (AKA SHA1) is a __unique__ identifier for the particular commit. "
   ]
  },
  {
   "cell_type": "markdown",
   "metadata": {
    "id": "B4QuJYXQw0jB",
    "jupyter": {
     "source_hidden": true
    }
   },
   "source": [
    "### Git Hashes\n",
    "\n",
    "- Hashes, file based key-value storage and tree data structure, are the key things behind git. \n",
    "- Each tree node, commit and files has own unique 40 character long SHA-1 representation.\n",
    "- Commits are a particular type of checkpoint called a **revision**. \n",
    "- The name will be a random-looking hash of numbers and letters such as `e093542`. \n",
    "- This hash can then be used in various other commands to extract a specific revision of the code.\n",
    "\n"
   ]
  },
  {
   "cell_type": "markdown",
   "metadata": {
    "id": "C70eENwOw0jL",
    "jupyter": {
     "source_hidden": true
    }
   },
   "source": [
    "**Retrieve the current `hash`**\n",
    "\n",
    "One can use \"git rev-parse\" to obtain the current hash from a git repository."
   ]
  },
  {
   "cell_type": "code",
   "execution_count": null,
   "metadata": {
    "collapsed": true,
    "id": "sryWTNj4w0jL",
    "jupyter": {
     "outputs_hidden": true,
     "source_hidden": true
    }
   },
   "outputs": [],
   "source": [
    "%%bash\n",
    "cd src_code\n",
    "\n",
    "hash_00=$(git rev-parse HEAD)         # in bash, variables begin with $\n",
    "echo \"First hash:  ${hash_00}\""
   ]
  },
  {
   "cell_type": "markdown",
   "metadata": {
    "id": "CJ0AgNgZw0jL",
    "jupyter": {
     "source_hidden": true
    }
   },
   "source": [
    "#### Exercise\n",
    "\n",
    "- Open up a new Code cell and create a new directory called _math_\n",
    "\n",
    "- Change to the _math_ directory and create a file named math_constants.txt as follows:\n",
    "\n",
    "```bash\n",
    "echo \"3.141592654\" > math_constants.txt\n",
    "\n",
    "echo \"2.718281828\" >> math_constants.txt\n",
    "```\n",
    "\n",
    "- Initialize the _math_ working directory as a _Git_ repopsitory.\n",
    "\n",
    "- Now, __add__ the math_constants.txt file to the repository, and __commit__ it. Make sure you add a commit message. Verify its contents by running\n",
    "\n",
    "```bash\n",
    "cat math_constants.txt\n",
    "```"
   ]
  },
  {
   "cell_type": "markdown",
   "metadata": {
    "id": "Hy_NRgvcw0jL",
    "jupyter": {
     "source_hidden": true
    }
   },
   "source": [
    "## <font color=\"blue\">Step 4: Make Changes and Track Results</font>"
   ]
  },
  {
   "cell_type": "code",
   "execution_count": null,
   "metadata": {
    "collapsed": true,
    "id": "6NlkFi21w0jM",
    "jupyter": {
     "outputs_hidden": true,
     "source_hidden": true
    }
   },
   "outputs": [],
   "source": [
    "%%bash\n",
    "cd src_code\n",
    "\n",
    "git slog"
   ]
  },
  {
   "cell_type": "markdown",
   "metadata": {
    "id": "2uFulgWqw0jM",
    "jupyter": {
     "source_hidden": true
    }
   },
   "source": [
    "Edit the file `hello_class.py`."
   ]
  },
  {
   "cell_type": "code",
   "execution_count": null,
   "metadata": {
    "collapsed": true,
    "id": "7HjDmPeqw0jM",
    "jupyter": {
     "outputs_hidden": true,
     "source_hidden": true
    }
   },
   "outputs": [],
   "source": [
    "%%bash\n",
    "cd src_code\n",
    "\n",
    "echo \"print('\\t Welcome to the Git Tutorial.')\" >> hello_class.py"
   ]
  },
  {
   "cell_type": "code",
   "execution_count": null,
   "metadata": {
    "collapsed": true,
    "id": "CDSZXsmMw0jM",
    "jupyter": {
     "outputs_hidden": true,
     "source_hidden": true
    }
   },
   "outputs": [],
   "source": [
    "%%bash\n",
    "cd src_code\n",
    "\n",
    "cat hello_class.py"
   ]
  },
  {
   "cell_type": "code",
   "execution_count": null,
   "metadata": {
    "collapsed": true,
    "id": "KZqMqcpew0jM",
    "jupyter": {
     "outputs_hidden": true,
     "source_hidden": true
    }
   },
   "outputs": [],
   "source": [
    "%%bash\n",
    "cd src_code\n",
    "\n",
    "python hello_class.py"
   ]
  },
  {
   "cell_type": "code",
   "execution_count": null,
   "metadata": {
    "collapsed": true,
    "id": "vy3lYg99w0jM",
    "jupyter": {
     "outputs_hidden": true,
     "source_hidden": true
    }
   },
   "outputs": [],
   "source": [
    "%%bash\n",
    "cd src_code\n",
    "\n",
    "git st"
   ]
  },
  {
   "cell_type": "markdown",
   "metadata": {
    "id": "KgicpVSzw0jM",
    "jupyter": {
     "source_hidden": true
    }
   },
   "source": [
    "**What has changed so far**: `git diff`"
   ]
  },
  {
   "cell_type": "code",
   "execution_count": null,
   "metadata": {
    "collapsed": true,
    "id": "89J_XQ5Fw0jM",
    "jupyter": {
     "outputs_hidden": true,
     "source_hidden": true
    }
   },
   "outputs": [],
   "source": [
    "%%bash\n",
    "cd src_code\n",
    "\n",
    "git diff"
   ]
  },
  {
   "cell_type": "code",
   "execution_count": null,
   "metadata": {
    "collapsed": true,
    "id": "bgrZNIOrw0jN",
    "jupyter": {
     "outputs_hidden": true,
     "source_hidden": true
    }
   },
   "outputs": [],
   "source": [
    "%%bash\n",
    "cd src_code\n",
    "\n",
    "git add hello_class.py"
   ]
  },
  {
   "cell_type": "code",
   "execution_count": null,
   "metadata": {
    "collapsed": true,
    "id": "arHwEGftw0jN",
    "jupyter": {
     "outputs_hidden": true,
     "source_hidden": true
    }
   },
   "outputs": [],
   "source": [
    "%%bash\n",
    "cd src_code\n",
    "\n",
    "git ci -m \"Added a welcome message\""
   ]
  },
  {
   "cell_type": "code",
   "execution_count": null,
   "metadata": {
    "collapsed": true,
    "id": "zItrHG2Bw0jN",
    "jupyter": {
     "outputs_hidden": true,
     "source_hidden": true
    }
   },
   "outputs": [],
   "source": [
    "%%bash\n",
    "cd src_code\n",
    "\n",
    "git st"
   ]
  },
  {
   "cell_type": "code",
   "execution_count": null,
   "metadata": {
    "collapsed": true,
    "id": "aK0x0Csiw0jN",
    "jupyter": {
     "outputs_hidden": true,
     "source_hidden": true
    }
   },
   "outputs": [],
   "source": [
    "%%bash\n",
    "cd src_code\n",
    "\n",
    "git slog"
   ]
  },
  {
   "cell_type": "code",
   "execution_count": null,
   "metadata": {
    "collapsed": true,
    "id": "4WclWD2yw0jN",
    "jupyter": {
     "outputs_hidden": true,
     "source_hidden": true
    }
   },
   "outputs": [],
   "source": [
    "%%bash\n",
    "cd src_code\n",
    "\n",
    "git rev-parse HEAD"
   ]
  },
  {
   "cell_type": "markdown",
   "metadata": {
    "id": "uGOKbZ0Vw0jN",
    "jupyter": {
     "source_hidden": true
    }
   },
   "source": [
    "If you also want to see complete diffs at each step, use: `git log -p`"
   ]
  },
  {
   "cell_type": "code",
   "execution_count": null,
   "metadata": {
    "collapsed": true,
    "id": "TZsuKIItw0jN",
    "jupyter": {
     "outputs_hidden": true,
     "source_hidden": true
    }
   },
   "outputs": [],
   "source": [
    "%%bash\n",
    "cd src_code\n",
    "\n",
    "git log -p"
   ]
  },
  {
   "cell_type": "markdown",
   "metadata": {
    "id": "zrRyHoI_w0jN",
    "jupyter": {
     "source_hidden": true
    }
   },
   "source": [
    "Often the overview of the change is useful to get a feel of each step:\n",
    "\n",
    "`git log --stat --summary`"
   ]
  },
  {
   "cell_type": "code",
   "execution_count": null,
   "metadata": {
    "collapsed": true,
    "id": "F5aFzRXtw0jO",
    "jupyter": {
     "outputs_hidden": true,
     "source_hidden": true
    }
   },
   "outputs": [],
   "source": [
    "%%bash\n",
    "cd src_code\n",
    "\n",
    "git slog --stat --summary"
   ]
  },
  {
   "cell_type": "markdown",
   "metadata": {
    "id": "xwqgH2kXw0jO",
    "jupyter": {
     "source_hidden": true
    }
   },
   "source": [
    "# <font color=\"red\">Using Git: Recovering Old Versions of Files</font>\n",
    "\n",
    "![fig_recover](https://wac-cdn.atlassian.com/dam/jcr:9b234e0d-ee33-4463-ac14-298c9559015d/01%20Checking%20out%20a%20previous%20commit.svg?cdnVersion=1059)\n",
    "Image Source: [www.atlassian.com](https://www.atlassian.com/git/tutorials/undoing-changes)"
   ]
  },
  {
   "cell_type": "code",
   "execution_count": null,
   "metadata": {
    "collapsed": true,
    "id": "_dGTLRs6w0jO",
    "jupyter": {
     "outputs_hidden": true,
     "source_hidden": true
    }
   },
   "outputs": [],
   "source": [
    "%%bash\n",
    "cd src_code\n",
    "\n",
    "echo \"n = 5\" >> hello_class.py"
   ]
  },
  {
   "cell_type": "markdown",
   "metadata": {
    "id": "dsm1kJkZ9BcG",
    "jupyter": {
     "source_hidden": true
    }
   },
   "source": [
    "Note the code below will generate a syntax error:"
   ]
  },
  {
   "cell_type": "code",
   "execution_count": null,
   "metadata": {
    "collapsed": true,
    "id": "45-1-L_Ew0jO",
    "jupyter": {
     "outputs_hidden": true,
     "source_hidden": true
    }
   },
   "outputs": [],
   "source": [
    "%%bash\n",
    "cd src_code\n",
    "\n",
    "echo \"for i in range(n)\" >> hello_class.py"
   ]
  },
  {
   "cell_type": "markdown",
   "metadata": {
    "id": "Y8WpaPLuw0jO",
    "jupyter": {
     "source_hidden": true
    }
   },
   "source": [
    "Add more bad code: "
   ]
  },
  {
   "cell_type": "code",
   "execution_count": null,
   "metadata": {
    "collapsed": true,
    "id": "ys2WQTlIw0jO",
    "jupyter": {
     "outputs_hidden": true,
     "source_hidden": true
    }
   },
   "outputs": [],
   "source": [
    "%%bash\n",
    "cd src_code\n",
    "\n",
    "echo \"print('{} of {}'.format(i+1, n))\" >> hello_class.py"
   ]
  },
  {
   "cell_type": "code",
   "execution_count": null,
   "metadata": {
    "collapsed": true,
    "id": "ayus1nGCw0jO",
    "jupyter": {
     "outputs_hidden": true,
     "source_hidden": true
    }
   },
   "outputs": [],
   "source": [
    "%%bash\n",
    "cd src_code\n",
    "\n",
    "cat hello_class.py"
   ]
  },
  {
   "cell_type": "code",
   "execution_count": null,
   "metadata": {
    "collapsed": true,
    "id": "KyJ0notmw0jP",
    "jupyter": {
     "outputs_hidden": true,
     "source_hidden": true
    }
   },
   "outputs": [],
   "source": [
    "%%bash\n",
    "cd src_code\n",
    "\n",
    "git add hello_class.py"
   ]
  },
  {
   "cell_type": "code",
   "execution_count": null,
   "metadata": {
    "collapsed": true,
    "id": "4BW_gj2Dw0jP",
    "jupyter": {
     "outputs_hidden": true,
     "source_hidden": true
    }
   },
   "outputs": [],
   "source": [
    "%%bash\n",
    "cd src_code\n",
    "\n",
    "git cm \"Added a loop\""
   ]
  },
  {
   "cell_type": "code",
   "execution_count": null,
   "metadata": {
    "collapsed": true,
    "id": "eBfYrfe7w0jP",
    "jupyter": {
     "outputs_hidden": true,
     "source_hidden": true
    }
   },
   "outputs": [],
   "source": [
    "%%bash\n",
    "cd src_code\n",
    "\n",
    "python hello_class.py"
   ]
  },
  {
   "cell_type": "markdown",
   "metadata": {
    "id": "WQfS6ABpw0jP",
    "jupyter": {
     "source_hidden": true
    }
   },
   "source": [
    "Oops, made a mistake! Need to go back one commit."
   ]
  },
  {
   "cell_type": "code",
   "execution_count": null,
   "metadata": {
    "collapsed": true,
    "id": "o5NDQZbxw0jP",
    "jupyter": {
     "outputs_hidden": true,
     "source_hidden": true
    }
   },
   "outputs": [],
   "source": [
    "%%bash\n",
    "cd src_code\n",
    "\n",
    "git log"
   ]
  },
  {
   "cell_type": "code",
   "execution_count": null,
   "metadata": {
    "collapsed": true,
    "id": "Rd2nzKUTw0jP",
    "jupyter": {
     "outputs_hidden": true,
     "source_hidden": true
    }
   },
   "outputs": [],
   "source": [
    "%%bash\n",
    "cd src_code\n",
    "\n",
    "git hist"
   ]
  },
  {
   "cell_type": "code",
   "execution_count": null,
   "metadata": {
    "collapsed": true,
    "id": "ZzaU2NSsw0jP",
    "jupyter": {
     "outputs_hidden": true,
     "source_hidden": true
    }
   },
   "outputs": [],
   "source": [
    "%%bash\n",
    "cd src_code\n",
    "\n",
    "git diff # can diff WRT any hash"
   ]
  },
  {
   "cell_type": "code",
   "execution_count": null,
   "metadata": {
    "collapsed": true,
    "id": "YMon9yacw0jQ",
    "jupyter": {
     "outputs_hidden": true,
     "source_hidden": true
    }
   },
   "outputs": [],
   "source": [
    "%%bash\n",
    "cd src_code\n",
    "\n",
    "git diff HEAD~1"
   ]
  },
  {
   "cell_type": "code",
   "execution_count": null,
   "metadata": {
    "collapsed": true,
    "id": "ty_CwZfmw0jQ",
    "jupyter": {
     "outputs_hidden": true,
     "source_hidden": true
    }
   },
   "outputs": [],
   "source": [
    "%%bash\n",
    "cd src_code\n",
    "\n",
    "git checkout <add SHA1 here> hello_class.py"
   ]
  },
  {
   "cell_type": "code",
   "execution_count": null,
   "metadata": {
    "collapsed": true,
    "jupyter": {
     "outputs_hidden": true,
     "source_hidden": true
    }
   },
   "outputs": [],
   "source": [
    "%%bash\n",
    "cd src_code\n",
    "\n",
    "git slog"
   ]
  },
  {
   "cell_type": "code",
   "execution_count": null,
   "metadata": {
    "collapsed": true,
    "jupyter": {
     "outputs_hidden": true,
     "source_hidden": true
    }
   },
   "outputs": [],
   "source": [
    "%%bash\n",
    "cd src_code\n",
    "\n",
    "git status"
   ]
  },
  {
   "cell_type": "code",
   "execution_count": null,
   "metadata": {
    "collapsed": true,
    "id": "OK00OJaBw0jQ",
    "jupyter": {
     "outputs_hidden": true,
     "source_hidden": true
    }
   },
   "outputs": [],
   "source": [
    "%%bash\n",
    "cd src_code\n",
    "\n",
    "cat hello_class.py"
   ]
  },
  {
   "cell_type": "code",
   "execution_count": null,
   "metadata": {
    "collapsed": true,
    "id": "-BIyfGhpw0jQ",
    "jupyter": {
     "outputs_hidden": true,
     "source_hidden": true
    }
   },
   "outputs": [],
   "source": [
    "%%bash\n",
    "cd src_code\n",
    "\n",
    "echo \"n = 5\" >> hello_class.py\n",
    "echo \"for i in range(n):\" >> hello_class.py\n",
    "echo \"    print('{} of {}'.format(i+1, n))\" >> hello_class.py"
   ]
  },
  {
   "cell_type": "code",
   "execution_count": null,
   "metadata": {
    "collapsed": true,
    "id": "tut_3fkvw0jQ",
    "jupyter": {
     "outputs_hidden": true,
     "source_hidden": true
    }
   },
   "outputs": [],
   "source": [
    "%%bash\n",
    "cd src_code\n",
    "\n",
    "cat hello_class.py"
   ]
  },
  {
   "cell_type": "code",
   "execution_count": null,
   "metadata": {
    "collapsed": true,
    "id": "fcQ-BdGKw0jQ",
    "jupyter": {
     "outputs_hidden": true,
     "source_hidden": true
    }
   },
   "outputs": [],
   "source": [
    "%%bash\n",
    "cd src_code\n",
    "\n",
    "python hello_class.py"
   ]
  },
  {
   "cell_type": "code",
   "execution_count": null,
   "metadata": {
    "collapsed": true,
    "id": "pZ-RXvxmw0jQ",
    "jupyter": {
     "outputs_hidden": true,
     "source_hidden": true
    }
   },
   "outputs": [],
   "source": [
    "%%bash\n",
    "cd src_code\n",
    "\n",
    "git add hello_class.py"
   ]
  },
  {
   "cell_type": "code",
   "execution_count": null,
   "metadata": {
    "collapsed": true,
    "id": "Hz4C7Yrxw0jQ",
    "jupyter": {
     "outputs_hidden": true,
     "source_hidden": true
    }
   },
   "outputs": [],
   "source": [
    "%%bash\n",
    "cd src_code\n",
    "\n",
    "git cm \"Fixed syntax errors\""
   ]
  },
  {
   "cell_type": "code",
   "execution_count": null,
   "metadata": {
    "collapsed": true,
    "id": "3bKfZGOAw0jR",
    "jupyter": {
     "outputs_hidden": true,
     "source_hidden": true
    }
   },
   "outputs": [],
   "source": [
    "%%bash\n",
    "cd src_code\n",
    "\n",
    "git slog"
   ]
  },
  {
   "cell_type": "markdown",
   "metadata": {
    "id": "0hf27_sSw0jR",
    "jupyter": {
     "source_hidden": true
    }
   },
   "source": [
    "# <font color=\"red\">Using Git: Moving and Removing Files</font>\n",
    "\n",
    "- While `git add` is used to add files to the staging area (and start tracking them), we can also use _git_ if we want to change their names or to stop tracking them. \n",
    "- We can use the Unix `mv` and `rm` commands in _git_ to accomplish that."
   ]
  },
  {
   "cell_type": "markdown",
   "metadata": {
    "id": "IcH6B9zFw0jR",
    "jupyter": {
     "source_hidden": true
    }
   },
   "source": [
    "**Moving a file:**"
   ]
  },
  {
   "cell_type": "code",
   "execution_count": null,
   "metadata": {
    "collapsed": true,
    "id": "RRgQNZ9Hw0jR",
    "jupyter": {
     "outputs_hidden": true,
     "source_hidden": true
    }
   },
   "outputs": [],
   "source": [
    "%%bash\n",
    "cd src_code\n",
    "\n",
    "git mv hello_class.py hello_world.py\n",
    "git st"
   ]
  },
  {
   "cell_type": "markdown",
   "metadata": {
    "id": "bE0nHQPuw0jR",
    "jupyter": {
     "source_hidden": true
    }
   },
   "source": [
    "This change must be committed too, to become permanent."
   ]
  },
  {
   "cell_type": "code",
   "execution_count": null,
   "metadata": {
    "collapsed": true,
    "id": "_mnSpb12w0jR",
    "jupyter": {
     "outputs_hidden": true,
     "source_hidden": true
    }
   },
   "outputs": [],
   "source": [
    "%%bash\n",
    "cd src_code\n",
    "\n",
    "git cam \"Rename the file hello_class.py as hello_world.py\""
   ]
  },
  {
   "cell_type": "code",
   "execution_count": null,
   "metadata": {
    "collapsed": true,
    "jupyter": {
     "outputs_hidden": true,
     "source_hidden": true
    }
   },
   "outputs": [],
   "source": [
    "%%bash\n",
    "cd src_code\n",
    "\n",
    "git slog"
   ]
  },
  {
   "cell_type": "markdown",
   "metadata": {
    "id": "UsaswYugw0jR",
    "jupyter": {
     "source_hidden": true
    }
   },
   "source": [
    "**Removing a file:**"
   ]
  },
  {
   "cell_type": "code",
   "execution_count": null,
   "metadata": {
    "collapsed": true,
    "id": "MsznxaLCw0jS",
    "jupyter": {
     "outputs_hidden": true,
     "source_hidden": true
    }
   },
   "outputs": [],
   "source": [
    "%%bash\n",
    "cd src_code\n",
    "\n",
    "echo \"import math\" > simple_sine.py\n",
    "echo \"x = math.pi / 4.0\" >> simple_sine.py\n",
    "echo \"print('Sine of {} is: {}'.format(x, math.sin(x)))\" >> simple_sine.py"
   ]
  },
  {
   "cell_type": "code",
   "execution_count": null,
   "metadata": {
    "collapsed": true,
    "id": "JFfwqJJlw0jS",
    "jupyter": {
     "outputs_hidden": true,
     "source_hidden": true
    }
   },
   "outputs": [],
   "source": [
    "%%bash\n",
    "cd src_code\n",
    "\n",
    "cat simple_sine.py\n",
    "echo \"\"\n",
    "python simple_sine.py"
   ]
  },
  {
   "cell_type": "code",
   "execution_count": null,
   "metadata": {
    "collapsed": true,
    "id": "KukHLoZLw0jS",
    "jupyter": {
     "outputs_hidden": true,
     "source_hidden": true
    }
   },
   "outputs": [],
   "source": [
    "%%bash\n",
    "cd src_code\n",
    "\n",
    "git add simple_sine.py\n",
    "git cm \"Created the file simple_sine.py\""
   ]
  },
  {
   "cell_type": "code",
   "execution_count": null,
   "metadata": {
    "collapsed": true,
    "id": "MGeqmvZ1-nTK",
    "jupyter": {
     "outputs_hidden": true,
     "source_hidden": true
    }
   },
   "outputs": [],
   "source": [
    "%%bash\n",
    "cd src_code\n",
    "\n",
    "git hist"
   ]
  },
  {
   "cell_type": "markdown",
   "metadata": {
    "id": "K05eO9Irw0jS",
    "jupyter": {
     "source_hidden": true
    }
   },
   "source": [
    "Remove the file that was just created:"
   ]
  },
  {
   "cell_type": "code",
   "execution_count": null,
   "metadata": {
    "collapsed": true,
    "id": "umyNL73zw0jS",
    "jupyter": {
     "outputs_hidden": true,
     "source_hidden": true
    }
   },
   "outputs": [],
   "source": [
    "%%bash\n",
    "cd src_code\n",
    "\n",
    "git rm simple_sine.py\n",
    "git status"
   ]
  },
  {
   "cell_type": "code",
   "execution_count": null,
   "metadata": {
    "collapsed": true,
    "id": "Te0zCG1Pw0jS",
    "jupyter": {
     "outputs_hidden": true,
     "source_hidden": true
    }
   },
   "outputs": [],
   "source": [
    "%%bash\n",
    "cd src_code\n",
    "\n",
    "git cm \"Remove the file simple_sine.py\"\n",
    "git slog"
   ]
  },
  {
   "cell_type": "markdown",
   "metadata": {
    "id": "tBIFQivSw0jS",
    "jupyter": {
     "source_hidden": true
    }
   },
   "source": [
    "#### Let's look at the directory structure so far:"
   ]
  },
  {
   "cell_type": "code",
   "execution_count": null,
   "metadata": {
    "collapsed": true,
    "id": "xZZKwQQuw0jT",
    "jupyter": {
     "outputs_hidden": true,
     "source_hidden": true
    }
   },
   "outputs": [],
   "source": [
    "%%bash\n",
    "cd src_code\n",
    "\n",
    "find . -print | sed -e 's;[^/]*/;|____;g;s;____|; |;g'"
   ]
  },
  {
   "cell_type": "markdown",
   "metadata": {
    "id": "Pap1pZePw0jT",
    "jupyter": {
     "source_hidden": true
    }
   },
   "source": [
    "# <font color=\"red\">Using Git: Branching</font>\n",
    "\n",
    "- A branch represents an independent line of development. \n",
    "- Branches serve as an abstraction for the edit/stage/commit process. \n",
    "- Can be seen as a way to request a brand new working directory, staging area, and project history. \n",
    "- New commits are recorded in the history for the current branch, which results in a fork in the history of the project.\n",
    "\n",
    "![fig_branch](https://wac-cdn.atlassian.com/dam/jcr:c6db91c1-1343-4d45-8c93-bdba910b9506/02%20Branch-1%20kopiera.png?cdnVersion=1026)\n",
    "Image Source: [atlassian.com](https://www.atlassian.com/git/tutorials/using-branches/git-merge)\n"
   ]
  },
  {
   "cell_type": "code",
   "execution_count": null,
   "metadata": {
    "collapsed": true,
    "id": "Azv_vyvYw0jT",
    "jupyter": {
     "outputs_hidden": true,
     "source_hidden": true
    }
   },
   "outputs": [],
   "source": [
    "%%bash\n",
    "cd src_code\n",
    "\n",
    "git st"
   ]
  },
  {
   "cell_type": "code",
   "execution_count": null,
   "metadata": {
    "collapsed": true,
    "id": "om-TXuyKw0jT",
    "jupyter": {
     "outputs_hidden": true,
     "source_hidden": true
    }
   },
   "outputs": [],
   "source": [
    "%%bash\n",
    "cd src_code\n",
    "\n",
    "git branch"
   ]
  },
  {
   "cell_type": "markdown",
   "metadata": {
    "id": "GLZQaY_Iw0jT",
    "jupyter": {
     "source_hidden": true
    }
   },
   "source": [
    "We now try two different routes of development: \n",
    "\n",
    "- On the `main` branch we add one file, and \n",
    "- On the `my_own_branch` branch, which we create and add a different file.\n",
    "\n",
    "We will then merge the `my_own_branch` branch into `main`."
   ]
  },
  {
   "cell_type": "code",
   "execution_count": null,
   "metadata": {
    "collapsed": true,
    "id": "vwNRoLGJw0jT",
    "jupyter": {
     "outputs_hidden": true,
     "source_hidden": true
    }
   },
   "outputs": [],
   "source": [
    "%%bash\n",
    "cd src_code\n",
    "\n",
    "git branch my_own_branch\n",
    "git co my_own_branch"
   ]
  },
  {
   "cell_type": "markdown",
   "metadata": {},
   "source": [
    "Instead of the two commands:\n",
    "```\n",
    "git branch my_own_branch\n",
    "git co my_own_branch\n",
    "```\n",
    "we could have use one only:\n",
    "```\n",
    "git checkout -b my_own_branch\n",
    "```"
   ]
  },
  {
   "cell_type": "code",
   "execution_count": null,
   "metadata": {
    "collapsed": true,
    "id": "fQfChTP-w0jT",
    "jupyter": {
     "outputs_hidden": true,
     "source_hidden": true
    }
   },
   "outputs": [],
   "source": [
    "%%bash\n",
    "cd src_code\n",
    "\n",
    "git branch"
   ]
  },
  {
   "cell_type": "code",
   "execution_count": null,
   "metadata": {
    "collapsed": true,
    "id": "nDDATkLNw0jU",
    "jupyter": {
     "outputs_hidden": true,
     "source_hidden": true
    }
   },
   "outputs": [],
   "source": [
    "%%bash\n",
    "cd src_code\n",
    "\n",
    "echo \"import math\" > simple_sine.py\n",
    "echo \"x = math.pi / 4.0\" >> simple_sine.py\n",
    "echo \"print('Sine of {} is: {}'.format(x, math.sin(x)))\" >> simple_sine.py"
   ]
  },
  {
   "cell_type": "code",
   "execution_count": null,
   "metadata": {
    "collapsed": true,
    "jupyter": {
     "outputs_hidden": true,
     "source_hidden": true
    }
   },
   "outputs": [],
   "source": [
    "%%bash\n",
    "cd src_code\n",
    "\n",
    "git add simple_sine.py\n",
    "git cam \"Added the new file simple_sine.py\"\n",
    "git slog"
   ]
  },
  {
   "cell_type": "code",
   "execution_count": null,
   "metadata": {
    "collapsed": true,
    "jupyter": {
     "outputs_hidden": true,
     "source_hidden": true
    }
   },
   "outputs": [],
   "source": [
    "%%bash\n",
    "cd src_code\n",
    "\n",
    "ls"
   ]
  },
  {
   "cell_type": "code",
   "execution_count": null,
   "metadata": {
    "collapsed": true,
    "id": "wp2KHpzow0jU",
    "jupyter": {
     "outputs_hidden": true,
     "source_hidden": true
    }
   },
   "outputs": [],
   "source": [
    "%%bash\n",
    "cd src_code\n",
    "\n",
    "git co main\n",
    "git branch\n",
    "git slog"
   ]
  },
  {
   "cell_type": "code",
   "execution_count": null,
   "metadata": {
    "collapsed": true,
    "jupyter": {
     "outputs_hidden": true,
     "source_hidden": true
    }
   },
   "outputs": [],
   "source": [
    "%%bash\n",
    "cd src_code\n",
    "\n",
    "ls"
   ]
  },
  {
   "cell_type": "code",
   "execution_count": null,
   "metadata": {
    "collapsed": true,
    "id": "HTTRV5l4w0jU",
    "jupyter": {
     "outputs_hidden": true,
     "source_hidden": true
    }
   },
   "outputs": [],
   "source": [
    "%%bash\n",
    "cd src_code\n",
    "\n",
    "echo \"import math\" > simple_cosine.py\n",
    "echo \"x = math.pi / 4.0\" >> simple_cosine.py\n",
    "echo \"print('Cosine of {} is: {}'.format(-x, math.cos(-x)))\" >> simple_cosine.py"
   ]
  },
  {
   "cell_type": "code",
   "execution_count": null,
   "metadata": {
    "collapsed": true,
    "jupyter": {
     "outputs_hidden": true,
     "source_hidden": true
    }
   },
   "outputs": [],
   "source": [
    "%%bash\n",
    "cd src_code\n",
    "\n",
    "git add simple_cosine.py\n",
    "git cam \"Added the new file simple_cosine.py\"\n",
    "git slog"
   ]
  },
  {
   "cell_type": "markdown",
   "metadata": {
    "id": "rMBrL-z7w0jU",
    "jupyter": {
     "source_hidden": true
    }
   },
   "source": [
    "- By default, all variations of the `git log` commands only show the currently active branch. \n",
    "- If we want to see all branches, we can ask for them with the `--all` flag."
   ]
  },
  {
   "cell_type": "code",
   "execution_count": null,
   "metadata": {
    "collapsed": true,
    "id": "H_odnJhCw0jU",
    "jupyter": {
     "outputs_hidden": true,
     "source_hidden": true
    }
   },
   "outputs": [],
   "source": [
    "%%bash\n",
    "cd src_code\n",
    "\n",
    "git log --all"
   ]
  },
  {
   "cell_type": "code",
   "execution_count": null,
   "metadata": {
    "collapsed": true,
    "id": "XSd0OeElw0jU",
    "jupyter": {
     "outputs_hidden": true,
     "source_hidden": true
    }
   },
   "outputs": [],
   "source": [
    "%%bash\n",
    "cd src_code\n",
    "\n",
    "git merge my_own_branch\n",
    "git slog"
   ]
  },
  {
   "cell_type": "code",
   "execution_count": null,
   "metadata": {
    "collapsed": true,
    "jupyter": {
     "outputs_hidden": true,
     "source_hidden": true
    }
   },
   "outputs": [],
   "source": [
    "%%bash\n",
    "cd src_code\n",
    "\n",
    "ls"
   ]
  },
  {
   "cell_type": "markdown",
   "metadata": {
    "id": "etm4seQAw0jX",
    "jupyter": {
     "source_hidden": true
    }
   },
   "source": [
    "# <font color=\"red\">Using Git: Resolving Conflicts</font>\n",
    "\n",
    "- If two different branches modify the same file in the same location, git cannot decide which change should prevail. \n",
    "- Human intervention is needed to make the decision. \n",
    "- Git will help you by marking the location in the file that has a problem, but it’s up to you to resolve the conflict. "
   ]
  },
  {
   "cell_type": "code",
   "execution_count": null,
   "metadata": {
    "collapsed": true,
    "id": "JAWD0vFGw0jX",
    "jupyter": {
     "outputs_hidden": true,
     "source_hidden": true
    }
   },
   "outputs": [],
   "source": [
    "%%bash\n",
    "cd src_code\n",
    "\n",
    "git branch bad_branch\n",
    "git checkout bad_branch\n",
    "\n",
    "# Create a README.md file\n",
    "\n",
    "\n",
    "echo \"There will be a conflict here!\" >> README.md\n",
    "git commit -a -m \"Made changes on the bad_branch branch\""
   ]
  },
  {
   "cell_type": "markdown",
   "metadata": {
    "id": "3Vh5k8XHw0jX",
    "jupyter": {
     "source_hidden": true
    }
   },
   "source": [
    "We now now go to the main branch and change the same file:"
   ]
  },
  {
   "cell_type": "code",
   "execution_count": null,
   "metadata": {
    "collapsed": true,
    "id": "P8ovBdkfw0jX",
    "jupyter": {
     "outputs_hidden": true,
     "source_hidden": true
    }
   },
   "outputs": [],
   "source": [
    "%%bash\n",
    "cd src_code\n",
    "\n",
    "git checkout main\n",
    "\n",
    "echo \"Changes on the main branch\" >> README.md\n",
    "git commit -a -m \"Modified the main branch\""
   ]
  },
  {
   "cell_type": "markdown",
   "metadata": {
    "id": "odMdW8y4w0jX",
    "jupyter": {
     "source_hidden": true
    }
   },
   "source": [
    "Let us try to merge the `bad_branch` branch into the `main`:"
   ]
  },
  {
   "cell_type": "code",
   "execution_count": null,
   "metadata": {
    "collapsed": true,
    "id": "uwWOYEWEw0jX",
    "jupyter": {
     "outputs_hidden": true,
     "source_hidden": true
    }
   },
   "outputs": [],
   "source": [
    "%%bash\n",
    "cd src_code\n",
    "\n",
    "git merge bad_branch"
   ]
  },
  {
   "cell_type": "markdown",
   "metadata": {
    "id": "INMHdTvuw0jX",
    "jupyter": {
     "source_hidden": true
    }
   },
   "source": [
    "We can see what git has included in the `README.md` file."
   ]
  },
  {
   "cell_type": "code",
   "execution_count": null,
   "metadata": {
    "collapsed": true,
    "id": "C2yvx9_Uw0jY",
    "jupyter": {
     "outputs_hidden": true,
     "source_hidden": true
    }
   },
   "outputs": [],
   "source": [
    "%%bash\n",
    "cd src_code\n",
    "\n",
    "cat README.md"
   ]
  },
  {
   "cell_type": "markdown",
   "metadata": {
    "id": "102mco9ww0jY",
    "jupyter": {
     "source_hidden": true
    }
   },
   "source": [
    "We need to:\n",
    "- Use a text editor\n",
    "- Decide which changes to keep, and\n",
    "- Make a new commit that records our decision. "
   ]
  },
  {
   "cell_type": "code",
   "execution_count": null,
   "metadata": {
    "collapsed": true,
    "id": "zV_OOzYmw0jY",
    "jupyter": {
     "outputs_hidden": true,
     "source_hidden": true
    }
   },
   "outputs": [],
   "source": [
    "%%bash\n",
    "cd src_code\n",
    "\n",
    "rm -f README.md\n",
    "\n",
    "echo \"# My first repository\" >> README.md\n",
    "echo \"There will be a conflict here!\" >> README.md\n",
    "echo \"Changes on the main branch\" >> README.md\n",
    "\n",
    "git add README.md\n",
    "git commit -m \"Created a README.md file\"\n",
    "git slog"
   ]
  },
  {
   "cell_type": "markdown",
   "metadata": {
    "id": "d95LnzsAw0ja",
    "jupyter": {
     "source_hidden": true
    }
   },
   "source": [
    "# <font color=\"red\">Summary of Few Git Commands</font>\n",
    "\n",
    "| Command | Description |\n",
    "| --- | --- |\n",
    "| `git init` | Initialize a repository |\n",
    "| `git clone` | Clone a remote repository |\n",
    "| `git add` | Add a file that is in the working directory to the staging area. |\n",
    "| `git commit` | Add all files that are staged to the local repository. |\n",
    "| `git log` | Show the commit logs. |\n",
    "| `git push` | Add all committed files in the local repository to the remote repository. So in the remote repository, all files and changes will be visible to anyone with access to the remote repository. |\n",
    "| `git fetch` | Get files from the remote repository to the local repository but not into the working directory. |\n",
    "| `git merge` | Get the files from the local repository into the working directory. |\n",
    "| `git pull` | Get files from the remote repository directly into the working directory. It is equivalent to a `git fetch` and a `git merge`. |"
   ]
  }
 ],
 "metadata": {
  "colab": {
   "name": "Copy of basic_git_tutorial.ipynb",
   "provenance": []
  },
  "kernelspec": {
   "display_name": "Python 3 (ipykernel)",
   "language": "python",
   "name": "python3"
  },
  "language_info": {
   "codemirror_mode": {
    "name": "ipython",
    "version": 3
   },
   "file_extension": ".py",
   "mimetype": "text/x-python",
   "name": "python",
   "nbconvert_exporter": "python",
   "pygments_lexer": "ipython3",
   "version": "3.8.2"
  }
 },
 "nbformat": 4,
 "nbformat_minor": 4
}
