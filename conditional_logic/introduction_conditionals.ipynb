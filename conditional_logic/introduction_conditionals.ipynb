{
 "cells": [
  {
   "cell_type": "markdown",
   "metadata": {
    "slideshow": {
     "slide_type": "slide"
    }
   },
   "source": [
    "<center>\n",
    "<table>\n",
    "  <tr>\n",
    "    <td><img src=\"http://www.nasa.gov/sites/all/themes/custom/nasatwo/images/nasa-logo.svg\" width=\"100\"/> </td>\n",
    "     <td><img src=\"https://github.com/astg606/py_materials/blob/master/logos/ASTG_logo.png?raw=true\" width=\"80\"/> </td>\n",
    "     <td> <img src=\"https://www.nccs.nasa.gov/sites/default/files/NCCS_Logo_0.png\" width=\"130\"/> </td>\n",
    "    </tr>\n",
    "</table>\n",
    "</center>\n",
    "\n",
    "        \n",
    "<center>\n",
    "<h1><font color= \"blue\" size=\"+3\">ASTG Python Courses</font></h1>\n",
    "</center>\n",
    "\n",
    "---\n",
    "\n",
    "<center><h1>\n",
    "    <font color=\"red\">Python Conditional Statements</font>  \n",
    "</h1></center>"
   ]
  },
  {
   "cell_type": "markdown",
   "metadata": {},
   "source": [
    "## Useful Links\n",
    "\n",
    "- <a href=\"https://realpython.com/python-conditional-statements/\">Conditional Statements in Python</a>\n",
    "- <a href=\"https://www.python-course.eu/python3_conditional_statements.php\"> Conditinal Statments </a>"
   ]
  },
  {
   "cell_type": "markdown",
   "metadata": {
    "slideshow": {
     "slide_type": "slide"
    }
   },
   "source": [
    "# <font color=\"red\">What are Conditional Statements? </font>\n",
    "\n",
    "- Conditional statements are part of our everyday lives. As people, we can think about situations and make decisions based on what we observe or know to be true. \n",
    "    - Is it raining?\n",
    "    - Do I have milk in the house?\n",
    "    - Do I have a enough money to pay for new shoes?\n",
    "- In computer programming, conditional statements are used to instruct the computer on the decision to make when given some conditions. \n",
    "- These decisions are made if and only if the pre-stated conditions are either true or false , depending on the functions the programmer has in mind.\n",
    "- Conditional statements work by using Boolean expressions in the form of logical `if/else` and `then` statements evaluating if something is true or false.\n",
    "\n",
    "\n",
    "![fig_cond](https://downloads.intercomcdn.com/i/o/151547499/3b47db4be649cc99ae72f1fa/ConditionDiagram.jpg)\n",
    "Image Source: [http://support.kodable.com/](http://support.kodable.com/en/articles/417311-what-are-conditional-statements)\n",
    "\n",
    "\n",
    "**We use conditional statements when we want to execute a particular block of code when a given condition is true or false.**"
   ]
  },
  {
   "cell_type": "markdown",
   "metadata": {
    "slideshow": {
     "slide_type": "subslide"
    }
   },
   "source": [
    "# <font color=\"red\">Booleans</font>\n",
    "\n",
    "---\n",
    "\n",
    "- Either `True` or `False` represent booleans. \n",
    "- You can also use repsectively `1` or `0` for binary booleans."
   ]
  },
  {
   "cell_type": "markdown",
   "metadata": {
    "slideshow": {
     "slide_type": "subslide"
    }
   },
   "source": [
    "# <font color=\"red\">The `if` Statement</font>\n",
    "\n",
    "---\n",
    "\n",
    "```python\n",
    "   if <expr>:\n",
    "       <statement>\n",
    "```\n",
    "\n",
    "In the form shown above:\n",
    "\n",
    "- `<expr>` is an expression evaluated in Boolean context.\n",
    "- `<statement>` is a valid Python statement, which must be indented. "
   ]
  },
  {
   "cell_type": "markdown",
   "metadata": {},
   "source": [
    "#### <font color=\"orange\">Example 1 </font>\n",
    "\n",
    "Let us set the values of `x` and `y`."
   ]
  },
  {
   "cell_type": "code",
   "execution_count": null,
   "metadata": {
    "slideshow": {
     "slide_type": "fragment"
    }
   },
   "outputs": [],
   "source": [
    "x = 5\n",
    "y = 2"
   ]
  },
  {
   "cell_type": "markdown",
   "metadata": {},
   "source": [
    "What happens if you run the following cell?"
   ]
  },
  {
   "cell_type": "code",
   "execution_count": null,
   "metadata": {},
   "outputs": [],
   "source": [
    "if y < x: \n",
    "    print('yes')"
   ]
  },
  {
   "cell_type": "markdown",
   "metadata": {},
   "source": [
    "What happens if you run the following cell?"
   ]
  },
  {
   "cell_type": "code",
   "execution_count": null,
   "metadata": {},
   "outputs": [],
   "source": [
    "if x < y: \n",
    "    print('yes')"
   ]
  },
  {
   "cell_type": "markdown",
   "metadata": {
    "slideshow": {
     "slide_type": "subslide"
    }
   },
   "source": [
    "# <font color=\"red\">The `if`-`else` Statement</font>\n",
    "\n",
    "---\n",
    "\n",
    "```python\n",
    "   if <expr>:\n",
    "       <statement> when the expression is true\n",
    "   else:\n",
    "       <statement> when the expression is false    \n",
    "```\n",
    "\n",
    "![fig_ifelse](https://www.tutorialspoint.com/python/images/if_else_statement.jpg)\n",
    "Image Source: tutorialspoint.com"
   ]
  },
  {
   "cell_type": "markdown",
   "metadata": {
    "slideshow": {
     "slide_type": "fragment"
    }
   },
   "source": [
    "__Note:__ You cannot have an __`else`__ statement without an __`if`__ statement."
   ]
  },
  {
   "cell_type": "markdown",
   "metadata": {},
   "source": [
    "#### <font color=\"orange\">Example 2</font>: Checking the Password"
   ]
  },
  {
   "cell_type": "code",
   "execution_count": null,
   "metadata": {},
   "outputs": [],
   "source": [
    "# Get a password from the user.\n",
    "password = input('Enter the password: ')\n",
    "\n",
    "# Determine whether the correct password was entered.\n",
    "\n",
    "if password == 'hello':\n",
    "    print('Great! You can proceed.')\n",
    "else:\n",
    "    print('Sorry, you entered the wrong password.')"
   ]
  },
  {
   "cell_type": "markdown",
   "metadata": {
    "slideshow": {
     "slide_type": "subslide"
    }
   },
   "source": [
    "# <font color=\"red\">More Choices: The `elif` Statement</font>\n",
    "\n",
    "---\n",
    "\n",
    "```python\n",
    "   if <expr1>:\n",
    "       <statement>\n",
    "   elif <expr2>:\n",
    "       <statement>\n",
    "   elif <expr3>:\n",
    "       <statement>\n",
    "   # and so on\n",
    "```"
   ]
  },
  {
   "cell_type": "markdown",
   "metadata": {
    "slideshow": {
     "slide_type": "fragment"
    }
   },
   "source": [
    "__Note:__ Notice that there is no __`else`__ statement above. It is not required, but the __`else`__ statement is availble to be used if all the above conditionasl evaluate to be False."
   ]
  },
  {
   "cell_type": "markdown",
   "metadata": {},
   "source": [
    "#### <font color=\"orange\">Example 3</font>: Body Temperature"
   ]
  },
  {
   "cell_type": "code",
   "execution_count": null,
   "metadata": {},
   "outputs": [],
   "source": [
    "# provide the temperature of the patient.\n",
    "temp = float(input('Enter the temperature of the patient: '))\n",
    "\n",
    "if temp > 105.8:\n",
    "    print(f'Patient ({temp} degrees) has a very high fever.')\n",
    "elif temp > 103.1:\n",
    "    print(f'Patient ({temp} degrees) has a high fever.')\n",
    "elif temp > 100.4:\n",
    "    print(f'Patient ({temp} degrees) has fever.')\n",
    "elif temp > 97.9:\n",
    "    print(f'Patient ({temp} degrees) is fine.')\n",
    "else:\n",
    "    print(f'Patient ({temp} degrees) has low temperature.')"
   ]
  },
  {
   "cell_type": "markdown",
   "metadata": {
    "slideshow": {
     "slide_type": "subslide"
    }
   },
   "source": [
    "### <font color=\"blue\">Breakout</font>\n",
    "\n",
    "- What happens when you execute the example below?"
   ]
  },
  {
   "cell_type": "code",
   "execution_count": null,
   "metadata": {
    "slideshow": {
     "slide_type": "fragment"
    }
   },
   "outputs": [],
   "source": [
    "a = 2.0001\n",
    "if a > 10:\n",
    "    print('I am greater than 10.')\n",
    "elif a == 2:\n",
    "    print('My value is equal to 2.')\n",
    "elif not True:\n",
    "    print('I do not care about value, all I know is that I am not True.')"
   ]
  },
  {
   "cell_type": "markdown",
   "metadata": {},
   "source": [
    "- Change the value of `a` and run again."
   ]
  },
  {
   "cell_type": "markdown",
   "metadata": {
    "slideshow": {
     "slide_type": "subslide"
    }
   },
   "source": [
    "# <font color=\"red\">Conditional Testing</font>\n",
    "\n",
    "---"
   ]
  },
  {
   "cell_type": "markdown",
   "metadata": {
    "slideshow": {
     "slide_type": "fragment"
    }
   },
   "source": [
    "There are various ways to insert booleans:\n",
    "\n",
    "- True/False\n",
    "- Variables (i.e. the value of variable)\n",
    "- Numbers (1 and greater is True; 0 is False)\n",
    "- Empty objects (you will learn more about these later; [], {}, None, '')\n",
    "- Comparisons between things:\n",
    "    - `a > b`\n",
    "    - `a == b`\n",
    "    - `a >= b`\n",
    "    - `a != b`\n",
    "    - `a is b` (be careful! this looks at the memory `id` of the object)\n",
    "    - `a is not b`\n",
    "    - `a in b` (works only in lists, strings, and other iterable objects)\n",
    "- Evaluated values (a + b)"
   ]
  },
  {
   "cell_type": "markdown",
   "metadata": {
    "slideshow": {
     "slide_type": "subslide"
    }
   },
   "source": [
    "### <font color=\"blue\"> Breakout</font>\n",
    "\n",
    "---\n",
    "\n",
    "We're going to create a simple traffic light with three options: Red, Yellow, and Green. \n",
    "\n",
    "![fig_traffic](https://www.allaboutcircuits.com/uploads/articles/trafficlightJPG.jpg)\n",
    "Image Source: Joseph Corleto (www.allaboutcircuits.com)\n",
    "\n",
    "Create three variables to store which lights are on. These variables will hold only True/False values, or you can get creative with the conditions you put in them.\n",
    "\n",
    "After setting the three variables, write one conditional per light to test the values of these and print out the street light as such:\n",
    "\n",
    "__Red: Off  \n",
    "Yellow: Off  \n",
    "Green: On__\n",
    "\n",
    "Don't worry about formatting either. As long as you can tell which ones are off/on, that's sufficient.\n",
    "\n",
    "It's a simple interface, but you can easily get more creative with this application.\n",
    "\n",
    "For instance, what if you named the variables top, middle, and bottom and still want to print out the color names, as before?"
   ]
  },
  {
   "cell_type": "markdown",
   "metadata": {},
   "source": [
    "<p>\n",
    "<p>\n",
    "\n",
    "<details><summary><b>CLICK HERE TO ACCESS THE SOLUTION</b></summary>\n",
    "<p>\n",
    "    \n",
    "```python\n",
    "Red = \"off\"\n",
    "Yellow = \"off\"\n",
    "Green = \"on\"\n",
    "\n",
    "red = False\n",
    "if Red == \"on\":\n",
    "    red = True\n",
    "\n",
    "yellow = False\n",
    "if Yellow == \"on\":\n",
    "    yellow = True\n",
    "\n",
    "green = False\n",
    "if Green == \"on\":\n",
    "    green = True\n",
    "       \n",
    "if green:\n",
    "    print(\"You can proceed!\")\n",
    "elif yellow:\n",
    "    print(\"Slow down to stop!\")\n",
    "elif red:\n",
    "    print(\"Stop!\")\n",
    "```\n",
    "\n",
    "</p>\n",
    "</details>"
   ]
  },
  {
   "cell_type": "markdown",
   "metadata": {},
   "source": [
    "# <font color='red'> Combining Expressions</font>"
   ]
  },
  {
   "cell_type": "code",
   "execution_count": null,
   "metadata": {},
   "outputs": [],
   "source": [
    "a = 5\n",
    "b = 5\n",
    "c = 5\n",
    "\n",
    "if a != b and b != c and a != c:\n",
    "    print('This is a scalene triangle')\n",
    "elif a == b and b == c:\n",
    "    print('This is an equilateral triangle')\n",
    "else:\n",
    "    print('This is an isosceles triangle')"
   ]
  },
  {
   "cell_type": "markdown",
   "metadata": {},
   "source": [
    "## <font color=\"purple\">Going Deeper: Python Ternary Operator</font>\n",
    "\n",
    "If we have an `if...else` block, we can use the ternary operator and write the `if...else` block in one line:\n",
    "\n",
    "```python\n",
    "   <statement if true> if <expr> else <statement if false>\n",
    "```"
   ]
  },
  {
   "cell_type": "markdown",
   "metadata": {},
   "source": [
    "#### <font color=\"orange\">Example 4</font>"
   ]
  },
  {
   "cell_type": "code",
   "execution_count": null,
   "metadata": {},
   "outputs": [],
   "source": [
    "# We print a if a>b otherwise, we print b\n",
    "a = 100\n",
    "b = 200\n",
    "print(f'A = {a}') if a > b else print(f'B = {b}')"
   ]
  },
  {
   "cell_type": "markdown",
   "metadata": {},
   "source": [
    "# <font color=\"purple\"> Going Deeper: Truth Value Testing</font>\n",
    "\n",
    "- Each Python built-in type has a __truthiness__ value that can be explicitly checked using the bool built-in function:"
   ]
  },
  {
   "cell_type": "code",
   "execution_count": null,
   "metadata": {},
   "outputs": [],
   "source": [
    "print(bool(0))"
   ]
  },
  {
   "cell_type": "code",
   "execution_count": null,
   "metadata": {},
   "outputs": [],
   "source": [
    "print(bool(1))"
   ]
  },
  {
   "cell_type": "code",
   "execution_count": null,
   "metadata": {},
   "outputs": [],
   "source": [
    "print(bool('Hello world!'))"
   ]
  },
  {
   "cell_type": "code",
   "execution_count": null,
   "metadata": {},
   "outputs": [],
   "source": [
    "print(bool(\"\"))"
   ]
  },
  {
   "cell_type": "code",
   "execution_count": null,
   "metadata": {},
   "outputs": [],
   "source": [
    "print(bool(10.75))"
   ]
  },
  {
   "cell_type": "markdown",
   "metadata": {},
   "source": [
    "Individual values can evaluate to either `True` or `False`."
   ]
  },
  {
   "cell_type": "markdown",
   "metadata": {},
   "source": [
    "This can be useful as when used in an `if` condition or as operand of the Boolean operations (and, or, not)\n",
    "\n",
    "- Some given names:\n",
    "    - Values that evaluate to `False` are considered **Falsy**.\n",
    "    - Values that evaluate to `True` are considered **Truthy**.\n",
    "    \n",
    "### Falsy Values\n",
    "\n",
    "| Sequences and Collections | Numbers | Constants |\n",
    "| --- | --- | --- | \n",
    "| Empty lists `list()` | Zero of any numeric type | `None` |\n",
    "| Empty tuples `tuple()` | Integer: `0` | `False` |\n",
    "| Empty dictionaries `dict()` | Float: `0.0` |  |\n",
    "| Empty sets `set()` | Complex: `0j` | |\n",
    "| Empty strings `\"\"` |  | |\n",
    "| Empty ranges `range(0)` | | |\n",
    "\n",
    "### Truthy Values\n",
    "\n",
    "- Non-empty sequences or collections (lists, tuples, strings, dictionaries, sets).\n",
    "- Numeric values that are not zero.\n",
    "- `True`\n",
    "\n",
    "\n",
    "Using the truthy and falsy concepts, the follwing code:\n",
    "\n",
    "```python\n",
    "    if len(my_list) != 0:\n",
    "       print(\"Not empty!\")\n",
    "```\n",
    "\n",
    "can be written as:\n",
    "\n",
    "```python\n",
    "    if my_list:\n",
    "       print(\"Not empty!\")\n",
    "```"
   ]
  }
 ],
 "metadata": {
  "anaconda-cloud": {},
  "kernelspec": {
   "display_name": "Python 3 (ipykernel)",
   "language": "python",
   "name": "python3"
  },
  "language_info": {
   "codemirror_mode": {
    "name": "ipython",
    "version": 3
   },
   "file_extension": ".py",
   "mimetype": "text/x-python",
   "name": "python",
   "nbconvert_exporter": "python",
   "pygments_lexer": "ipython3",
   "version": "3.8.2"
  }
 },
 "nbformat": 4,
 "nbformat_minor": 4
}
