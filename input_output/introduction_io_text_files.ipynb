{
 "cells": [
  {
   "cell_type": "markdown",
   "metadata": {},
   "source": [
    "<center>\n",
    "<table>\n",
    "  <tr>\n",
    "    <td><img src=\"http://www.nasa.gov/sites/all/themes/custom/nasatwo/images/nasa-logo.svg\" width=\"100\"/> </td>\n",
    "     <td><img src=\"https://github.com/astg606/py_materials/blob/master/logos/ASTG_logo.png?raw=true\" width=\"80\"/> </td>\n",
    "     <td> <img src=\"https://www.nccs.nasa.gov/sites/default/files/NCCS_Logo_0.png\" width=\"130\"/> </td>\n",
    "    </tr>\n",
    "</table>\n",
    "</center>\n",
    "\n",
    "        \n",
    "<center>\n",
    "<h1><font color= \"blue\" size=\"+3\">ASTG Python Courses</font></h1>\n",
    "</center>\n",
    "\n",
    "---\n",
    "<center>\n",
    "<H1>\n",
    "    <font color=\"red\">File Input and Output (IO)</font>\n",
    "</H1>\n",
    "</center>\n"
   ]
  },
  {
   "cell_type": "markdown",
   "metadata": {},
   "source": [
    "## <font color='red'>Types of Files</font>\n",
    "\n",
    "![file](https://raw.githubusercontent.com/astg606/py_materials/master/input_output/fileFormats.jpg)"
   ]
  },
  {
   "cell_type": "markdown",
   "metadata": {},
   "source": [
    "## <font color=\"red\"> Text Files</font>\n",
    "\n",
    "A **text file** has no specific encoding and can be opened by a standard text editor without any special handling. Every text file must adhere to a set of rules:\n",
    "\n",
    "* Text files have to be readable as is.\n",
    "* Data in a text file is organized by lines. \n",
    "* Text files all have an unseen character at the end of each line which lets the text editor know that there should be a new line. When interacting with these files, you can take advantage of that character. In Python, it is denoted by the `“\\n”`."
   ]
  },
  {
   "cell_type": "markdown",
   "metadata": {
    "slideshow": {
     "slide_type": "-"
    }
   },
   "source": [
    "## <font color=\"red\">Reading Text Files</font>\n",
    "\n",
    "* Before you can read (or write) a file, you have to open it using Python's built-in `open()` function. \n",
    "* The `open()` function creates a file object, which would be utilized to call other support methods associated with it."
   ]
  },
  {
   "cell_type": "code",
   "execution_count": null,
   "metadata": {
    "slideshow": {
     "slide_type": "-"
    }
   },
   "outputs": [],
   "source": [
    "help(open)"
   ]
  },
  {
   "cell_type": "markdown",
   "metadata": {},
   "source": [
    "**The Basic Syntax**\n",
    "\n",
    "```python\n",
    "file object = open(file_name [, access_mode][, buffering])\n",
    "```\n",
    "\n",
    "* `file_name` − The file_name argument is a string value that contains the name of the file that you want to access.\n",
    "* `access_mode` − The access_mode determines the mode in which the file has to be opened, i.e., read, write, append, etc. This is optional parameter and the default file access mode is read (r).\n",
    "* `buffering` − If the buffering value is set to 0, no buffering takes place. If the buffering value is 1, line buffering is performed while accessing a file. If you specify the buffering value as an integer greater than 1, then buffering action is performed with the indicated buffer size. If negative, the buffer size is the system default (default behavior).\n"
   ]
  },
  {
   "cell_type": "markdown",
   "metadata": {},
   "source": [
    "**Summary of  `open()` file access modes**\n",
    "\n",
    "\n",
    "| Mode | Description |\n",
    "| --- | --- |\n",
    "| r | Opens a file for reading only. Default mode. | \n",
    "| rb | Opens a file for reading only in binary format. | \n",
    "| r+ | Opens a file for both reading and writing. |\n",
    "| rb+ | Opens a file for both reading and writing in binary format. |\n",
    "| w | Opens a file for writing only. Overwrites file if it exists. Creates a new file if it does not exist. | \n",
    "| wb | Opens a file for writing only in binary format. |\n",
    "| w+ | Opens a file for both writing and reading. |\n",
    "| wb+ | Opens a file for both writing and reading in binary format. |\n",
    "| a | Opens a file for appending. The file pointer is at the end of the file if it exists. |\n",
    "| ab | Opens a file for appending in binary format. | \n",
    "| a+ | Opens a file for both appending and reading. | \n",
    "| ab+| Opens a file for both appending and reading in binary format. |"
   ]
  },
  {
   "cell_type": "markdown",
   "metadata": {},
   "source": [
    "Obtain the remote file `demo.txt`:"
   ]
  },
  {
   "cell_type": "code",
   "execution_count": null,
   "metadata": {},
   "outputs": [],
   "source": [
    "import urllib.request\n",
    "url = \"https://raw.githubusercontent.com/astg606/py_materials/master/input_output/\"\n",
    "file_name = \"demo.txt\"\n",
    "urllib.request.urlretrieve(url+file_name, file_name)"
   ]
  },
  {
   "cell_type": "code",
   "execution_count": null,
   "metadata": {
    "slideshow": {
     "slide_type": "-"
    }
   },
   "outputs": [],
   "source": [
    "file_object = open('demo.txt', 'r') # 'r' is default"
   ]
  },
  {
   "cell_type": "markdown",
   "metadata": {
    "slideshow": {
     "slide_type": "-"
    }
   },
   "source": [
    "A file_object can be treated as a sequence of strings"
   ]
  },
  {
   "cell_type": "markdown",
   "metadata": {},
   "source": [
    "#### What type of object is file_object?"
   ]
  },
  {
   "cell_type": "code",
   "execution_count": null,
   "metadata": {},
   "outputs": [],
   "source": [
    "print(f\"file_object is of type: {type(file_object)}\")"
   ]
  },
  {
   "cell_type": "code",
   "execution_count": null,
   "metadata": {
    "scrolled": true,
    "slideshow": {
     "slide_type": "-"
    }
   },
   "outputs": [],
   "source": [
    "# file_object.<TAB>\n",
    "dir(file_object) # attributes and methods of file objects"
   ]
  },
  {
   "cell_type": "markdown",
   "metadata": {},
   "source": [
    "Extract the file name:"
   ]
  },
  {
   "cell_type": "code",
   "execution_count": null,
   "metadata": {},
   "outputs": [],
   "source": [
    "print(file_object.name)"
   ]
  },
  {
   "cell_type": "markdown",
   "metadata": {},
   "source": [
    "Determine the access mode:"
   ]
  },
  {
   "cell_type": "code",
   "execution_count": null,
   "metadata": {},
   "outputs": [],
   "source": [
    "print(file_object.mode)"
   ]
  },
  {
   "cell_type": "markdown",
   "metadata": {},
   "source": [
    "Determine if the file is cloded:"
   ]
  },
  {
   "cell_type": "code",
   "execution_count": null,
   "metadata": {
    "slideshow": {
     "slide_type": "-"
    }
   },
   "outputs": [],
   "source": [
    "print(file_object.closed)"
   ]
  },
  {
   "cell_type": "markdown",
   "metadata": {},
   "source": [
    "### Print all the lines and count the number of lines"
   ]
  },
  {
   "cell_type": "code",
   "execution_count": null,
   "metadata": {},
   "outputs": [],
   "source": [
    "fid = open ('demo.txt','r')\n",
    "count = 0\n",
    "for line in fid: # treating fid as a sequence of strings\n",
    "    count = count + 1\n",
    "    print(line)\n",
    "    \n",
    "print(f\"My file has {count} lines.\")    \n",
    "fid.close()"
   ]
  },
  {
   "cell_type": "markdown",
   "metadata": {},
   "source": [
    "#### Note: Each line includes a non-printing character called the newline character `\\n`."
   ]
  },
  {
   "cell_type": "markdown",
   "metadata": {},
   "source": [
    "### Automatically closing files\n",
    "\n",
    "There is another formulation to open and close the file: use the `with` statement:"
   ]
  },
  {
   "cell_type": "code",
   "execution_count": null,
   "metadata": {},
   "outputs": [],
   "source": [
    "count = 0\n",
    "with open ('demo.txt','r') as fid:\n",
    "    for line in fid:\n",
    "        count += 1\n",
    "        print(line)\n",
    "    print(f' (IN)--> Is file closed? {fid.closed}\")\n",
    "    # file will be closed after exiting this block of code\n",
    "    \n",
    "print(f\"My file has {count} lines.\")    "
   ]
  },
  {
   "cell_type": "code",
   "execution_count": null,
   "metadata": {},
   "outputs": [],
   "source": [
    "print(f'(OUT)<-- Is file closed? {fid.closed}')"
   ]
  },
  {
   "cell_type": "markdown",
   "metadata": {},
   "source": [
    "- We do not have to close the file identifier.\n",
    "- As soon as we are outside the scope of the `with` statement, the file identifier will automatically close."
   ]
  },
  {
   "cell_type": "markdown",
   "metadata": {},
   "source": [
    "### <font color=\"blue\">Breakout 1</font> \n",
    "Read the text file `demo.txt` and count the number of lines excluding empty lines."
   ]
  },
  {
   "cell_type": "markdown",
   "metadata": {},
   "source": [
    "<details><summary><b><font color=\"red\">Click here to access the solution</font></b></summary>\n",
    "<p>\n",
    "    \n",
    "```python\n",
    "count = 0\n",
    "with open ('demo.txt','r') as fid:\n",
    "    for line in fid:\n",
    "        if line.strip():\n",
    "            count += 1\n",
    "            print(line)\n",
    "    \n",
    "print(f\"My file has {count} lines.\")   \n",
    "``` \n",
    "</p>\n",
    "</details>"
   ]
  },
  {
   "cell_type": "markdown",
   "metadata": {},
   "source": [
    "### Reading the entire file at once"
   ]
  },
  {
   "cell_type": "code",
   "execution_count": null,
   "metadata": {
    "slideshow": {
     "slide_type": "-"
    }
   },
   "outputs": [],
   "source": [
    "with open('demo.txt','r') as fid:\n",
    "    # read() reads the _entire_ file, returns a string object\n",
    "    data = fid.read()           \n",
    "    print(f\"Contents of file are of type: {type(data)}\")"
   ]
  },
  {
   "cell_type": "markdown",
   "metadata": {},
   "source": [
    "The content of the file (`data`) was saved in memory. We can use it:"
   ]
  },
  {
   "cell_type": "code",
   "execution_count": null,
   "metadata": {},
   "outputs": [],
   "source": [
    "heading = \"Contents of file\"\n",
    "print(f\"\\n  {heading} \\n {'-'*len(heading)}\")\n",
    "print(data)"
   ]
  },
  {
   "cell_type": "markdown",
   "metadata": {},
   "source": [
    "### Read file chunks"
   ]
  },
  {
   "cell_type": "code",
   "execution_count": null,
   "metadata": {
    "slideshow": {
     "slide_type": "-"
    }
   },
   "outputs": [],
   "source": [
    "num_bytes = 64\n",
    "\n",
    "with open('demo.txt', 'r') as fid:\n",
    "    data = \"Dummy string\"         \n",
    "    while data:\n",
    "        data = fid.read(num_bytes)   # read in num_bytes chunk sizes\n",
    "        print(data)"
   ]
  },
  {
   "cell_type": "markdown",
   "metadata": {},
   "source": [
    "### Read one line at a time: `readline()` function"
   ]
  },
  {
   "cell_type": "markdown",
   "metadata": {},
   "source": [
    "Read the first line:"
   ]
  },
  {
   "cell_type": "code",
   "execution_count": null,
   "metadata": {
    "slideshow": {
     "slide_type": "-"
    }
   },
   "outputs": [],
   "source": [
    "with open('demo.txt') as fid:\n",
    "    data = fid.readline()\n",
    "    print(data)"
   ]
  },
  {
   "cell_type": "markdown",
   "metadata": {},
   "source": [
    "Read all the lines, one line at the time:"
   ]
  },
  {
   "cell_type": "code",
   "execution_count": null,
   "metadata": {
    "slideshow": {
     "slide_type": "-"
    }
   },
   "outputs": [],
   "source": [
    "with open('demo.txt') as fid:\n",
    "    data = \"Dummy String\"\n",
    "    while data:\n",
    "        data = fid.readline()\n",
    "        print(data)"
   ]
  },
  {
   "cell_type": "markdown",
   "metadata": {},
   "source": [
    "### Read all the lines at once: `readlines()` function"
   ]
  },
  {
   "cell_type": "code",
   "execution_count": null,
   "metadata": {},
   "outputs": [],
   "source": [
    "with open('demo.txt') as fid:\n",
    "    data = fid.readlines()"
   ]
  },
  {
   "cell_type": "markdown",
   "metadata": {},
   "source": [
    "Note that `data` is a list of lines:"
   ]
  },
  {
   "cell_type": "code",
   "execution_count": null,
   "metadata": {},
   "outputs": [],
   "source": [
    "print(type(data))"
   ]
  },
  {
   "cell_type": "code",
   "execution_count": null,
   "metadata": {},
   "outputs": [],
   "source": [
    "print(data)  "
   ]
  },
  {
   "cell_type": "markdown",
   "metadata": {},
   "source": [
    "### <font color=\"blue\">Breakout 2</font>\n",
    "Read the text file `demo.txt` and find all instances of the word \"Luke\""
   ]
  },
  {
   "cell_type": "markdown",
   "metadata": {},
   "source": [
    "<details><summary><b><font color=\"red\">Click here to access the solution</font></b></summary>\n",
    "<p>\n",
    "    \n",
    "```python\n",
    "with open('demo.txt') as fid:\n",
    "    data = fid.readlines()\n",
    "\n",
    "count = 0\n",
    "for line in data:\n",
    "    if \"Luke\" in line:\n",
    "        count += 1\n",
    "        print(line)\n",
    "        \n",
    "print(f\"There are {count} lines with the word Luke.\")  \n",
    "``` \n",
    "</p>\n",
    "</details>"
   ]
  },
  {
   "cell_type": "markdown",
   "metadata": {},
   "source": [
    "## <font color=\"red\">Writing Text Files</font>\n",
    "\n",
    "* The `write()` method writes any string to an open file.\n",
    "* The `write()` method does not add a newline character (`'\\n'`) to the end of the string. \n",
    "* The `writelines()` method takes a list and write each entry in its own line (if it has the \"\\n\" character at the end)."
   ]
  },
  {
   "cell_type": "code",
   "execution_count": null,
   "metadata": {},
   "outputs": [],
   "source": [
    "with open('elements.txt', 'w') as fid: # 'w' creates a new file\n",
    "    fid.write('Noble gases: ')              \n",
    "    fid.writelines(['He', 'Ne', 'Ar'])  # writelines writes each element on its own"
   ]
  },
  {
   "cell_type": "code",
   "execution_count": null,
   "metadata": {},
   "outputs": [],
   "source": [
    "!cat elements.txt"
   ]
  },
  {
   "cell_type": "markdown",
   "metadata": {},
   "source": [
    "**Note: python will not write '\\n' for you.**"
   ]
  },
  {
   "cell_type": "markdown",
   "metadata": {},
   "source": [
    "#### 'a+' vs 'r+'"
   ]
  },
  {
   "cell_type": "markdown",
   "metadata": {},
   "source": [
    "`'a'` is 'append' mode, no reading:"
   ]
  },
  {
   "cell_type": "code",
   "execution_count": null,
   "metadata": {},
   "outputs": [],
   "source": [
    "with open('elements.txt', 'a') as fid:\n",
    "    contents = fid.read()"
   ]
  },
  {
   "cell_type": "markdown",
   "metadata": {},
   "source": [
    "`'a+'` is for appending and reading:\n",
    "- The file is opened for reading and writing\n",
    "- The file is created if it does not exist.\n",
    "- The file pointer is at the end of the file."
   ]
  },
  {
   "cell_type": "code",
   "execution_count": null,
   "metadata": {
    "scrolled": true
   },
   "outputs": [],
   "source": [
    "with open('elements.txt', 'a+') as fid: \n",
    "    contents = fid.read()               \n",
    "    print(f\"File position: {fid.tell()}\")                \n",
    "    fid.write('Kr\\n')                    "
   ]
  },
  {
   "cell_type": "markdown",
   "metadata": {},
   "source": [
    "`fid.tell()` tells me that file pointer is at EOF and I appended 'Kr\\n' at that position."
   ]
  },
  {
   "cell_type": "code",
   "execution_count": null,
   "metadata": {},
   "outputs": [],
   "source": [
    "!cat elements.txt"
   ]
  },
  {
   "cell_type": "markdown",
   "metadata": {},
   "source": [
    "`r+'` for reading and writing:\n",
    "- Opens a file for both reading and writing. \n",
    "- The file pointer will be at the beginning of the file."
   ]
  },
  {
   "cell_type": "code",
   "execution_count": null,
   "metadata": {},
   "outputs": [],
   "source": [
    "with open('elements.txt', 'r+') as fid:\n",
    "    print(\"File position: \", fid.tell()) # file pointer is at 'beginning of file'\n",
    "    fid.write('Halogens:\\n')          \n",
    "    fid.writelines(['F\\n', 'Cl\\n'])"
   ]
  },
  {
   "cell_type": "code",
   "execution_count": null,
   "metadata": {},
   "outputs": [],
   "source": [
    "with open('elements.txt') as fid:\n",
    "    print(fid.readlines())"
   ]
  },
  {
   "cell_type": "markdown",
   "metadata": {},
   "source": [
    "f.tell() tells me that file pointer is at BOF and I wrote text starting at that position"
   ]
  },
  {
   "cell_type": "code",
   "execution_count": null,
   "metadata": {},
   "outputs": [],
   "source": [
    "!cat elements.txt"
   ]
  },
  {
   "cell_type": "markdown",
   "metadata": {},
   "source": [
    "### <font color=\"blue\">Breakout 3</font>\n",
    "Write a program that reads file `demo.txt` and writes out a new file with the lines in reversed order (i.e. the first line in the old file becomes the last one in the new file.)"
   ]
  },
  {
   "cell_type": "markdown",
   "metadata": {},
   "source": [
    "<details><summary><b><font color=\"red\">Click here to access the solution</font></b></summary>\n",
    "<p>\n",
    "    \n",
    "```python\n",
    "with open('demo.txt') as fid:\n",
    "    data = fid.readlines()\n",
    "\n",
    "data.reverse()\n",
    "with open('demo_reversed.txt', 'w') as fid:\n",
    "    fid.writelines(data)\n",
    "``` \n",
    "</p>\n",
    "</details>"
   ]
  },
  {
   "cell_type": "markdown",
   "metadata": {},
   "source": [
    "## Summary of basic file IO functions and methods"
   ]
  },
  {
   "cell_type": "markdown",
   "metadata": {},
   "source": [
    "<table style=\"width:100%\">\n",
    "  <tr>\n",
    "    <th>Methods and functions</th>\n",
    "    <th>Description</th> \n",
    "  </tr>\n",
    "  <tr>\n",
    "    <td>open()</td>\n",
    "    <td>Returns a file object and is most commonly used with two arguments: open(filename, mode)</td> \n",
    "  </tr>\n",
    "  <tr>\n",
    "    <td>file.close()</td>\n",
    "    <td>Close the file.</td> \n",
    "  </tr>\n",
    "  <tr>\n",
    "    <td>file.read([size])</td>\n",
    "    <td>Read the entire file. If size is specified then read at most size bytes.</td> \n",
    "  </tr>\n",
    "  <tr>\n",
    "    <td>file.readline([size])</td>\n",
    "    <td>Read one line from the file. If size is specified then read at most size bytes.</td> \n",
    "  </tr>\n",
    "  <tr>\n",
    "    <td>file.readlines([size])</td>\n",
    "    <td>Read all the lines from the file. If size is specified then read at most size bytes.</td> \n",
    "  </tr>\n",
    "  <tr>\n",
    "    <td>file.tell()</td>\n",
    "    <td>Returns file object's current position in the file.</td> \n",
    "  </tr>\n",
    "  <tr>\n",
    "    <td>file.seek(int)</td>\n",
    "    <td>Changes the file object's current position to the given int.</td> \n",
    "  <tr>\n",
    "    <td>file.write(string)</td>\n",
    "    <td>Writes the contents of string to the file.</td> \n",
    "  </tr>\n",
    "</table>"
   ]
  },
  {
   "cell_type": "markdown",
   "metadata": {},
   "source": [
    "# <font color=\"purple\">Going Deeper: Extra Materials</font>"
   ]
  },
  {
   "cell_type": "markdown",
   "metadata": {},
   "source": [
    "### OS dependent functions"
   ]
  },
  {
   "cell_type": "code",
   "execution_count": null,
   "metadata": {},
   "outputs": [],
   "source": [
    "import os"
   ]
  },
  {
   "cell_type": "markdown",
   "metadata": {
    "collapsed": true
   },
   "source": [
    "Python os module provides methods that help you perform all kinds of file-processing operations, such as renaming and deleting files (as well as file IO)."
   ]
  },
  {
   "cell_type": "code",
   "execution_count": null,
   "metadata": {},
   "outputs": [],
   "source": [
    "help(os.read)"
   ]
  },
  {
   "cell_type": "code",
   "execution_count": null,
   "metadata": {},
   "outputs": [],
   "source": [
    "fd = os.open('demo.txt', os.O_RDWR)\n",
    "ret = os.read(fd, 35)\n",
    "print(f\"Result from os.read: \\n {20*'-'} \\n {ret}\")\n",
    "os.close(fd)"
   ]
  },
  {
   "cell_type": "markdown",
   "metadata": {},
   "source": [
    "### File position"
   ]
  },
  {
   "cell_type": "code",
   "execution_count": null,
   "metadata": {},
   "outputs": [],
   "source": [
    "with open ('demo.txt') as f:\n",
    "    f.seek(5)          # seek(offset) Changes file object's position\n",
    "    data = f.readline() \n",
    "    print(data)"
   ]
  },
  {
   "cell_type": "code",
   "execution_count": null,
   "metadata": {},
   "outputs": [],
   "source": [
    "with open ('demo.txt') as f:\n",
    "    f.seek(5)\n",
    "    data = f.readline() \n",
    "    print (data)\n",
    "    k = f.tell()              # tell() returns current position in file\n",
    "    print (k)"
   ]
  },
  {
   "cell_type": "markdown",
   "metadata": {},
   "source": [
    "### Using print  to automatically add new lines"
   ]
  },
  {
   "cell_type": "code",
   "execution_count": null,
   "metadata": {},
   "outputs": [],
   "source": [
    "with open ('elementsWithNewLine.txt', 'w') as f:\n",
    "    print('Noble gases', file=f)       # print automatically adds newline\n",
    "    for gas in ['He', 'Ne', 'Ar', 'Kr']:\n",
    "        print(gas, file=f)"
   ]
  },
  {
   "cell_type": "code",
   "execution_count": null,
   "metadata": {},
   "outputs": [],
   "source": [
    "!cat elementsWithNewLine.txt"
   ]
  },
  {
   "cell_type": "code",
   "execution_count": null,
   "metadata": {},
   "outputs": [],
   "source": []
  }
 ],
 "metadata": {
  "anaconda-cloud": {},
  "celltoolbar": "Raw Cell Format",
  "kernelspec": {
   "display_name": "Python 3 (ipykernel)",
   "language": "python",
   "name": "python3"
  },
  "language_info": {
   "codemirror_mode": {
    "name": "ipython",
    "version": 3
   },
   "file_extension": ".py",
   "mimetype": "text/x-python",
   "name": "python",
   "nbconvert_exporter": "python",
   "pygments_lexer": "ipython3",
   "version": "3.8.2"
  }
 },
 "nbformat": 4,
 "nbformat_minor": 1
}
