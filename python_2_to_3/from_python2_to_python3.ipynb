{
 "cells": [
  {
   "cell_type": "markdown",
   "metadata": {},
   "source": [
    "<font color=\"white\">.</font> | <font color=\"white\">.</font> | <font color=\"white\">.</font>\n",
    "-- | -- | --\n",
    "![NASA](http://www.nasa.gov/sites/all/themes/custom/nasatwo/images/nasa-logo.svg) | <h1><font size=\"+3\">ASTG Python Courses</font></h1> | ![NASA](https://www.nccs.nasa.gov/sites/default/files/NCCS_Logo_0.png)\n",
    "\n",
    "---\n",
    "\n",
    "<CENTER>\n",
    "<H1 style=\"color:red\">\n",
    "Transitioning from Python 2 to Python 3\n",
    "</H1>    \n",
    "</CENTER>"
   ]
  },
  {
   "cell_type": "code",
   "execution_count": null,
   "metadata": {},
   "outputs": [],
   "source": [
    "from __future__ import print_function"
   ]
  },
  {
   "cell_type": "markdown",
   "metadata": {},
   "source": [
    "## Reference Documents\n",
    "\n",
    "+ <A HREF=\"https://www.digitalocean.com/community/tutorials/how-to-port-python-2-code-to-python-3\"> How To Port Python 2 Code to Python 3</A>\n",
    "* <A HREF=\"https://stxnext.com/blog/2019/04/16/python-3-migration-guide/\"> Python 2.7 to 3.X Migration Guide: How to Port from Python 2 to Python 3 </A>\n",
    "* <A HREF=\"https://dwheeler.com/essays/python3-in-python2.html\"> Python 3 in Python 2.6+ </A>\n",
    "* <A HREF=\"https://diveintopython3.problemsolving.io/porting-code-to-python-3-with-2to3.html\"> Porting Code to Python 3 with 2to3 </A>"
   ]
  },
  {
   "cell_type": "markdown",
   "metadata": {},
   "source": [
    "## <font color=\"red\">Background?</font>\n",
    "\n",
    "Python was developed in the late 1980s and first published in 1991. \n",
    "\n",
    "+ **Python 2** Released in 2000 to include many more programmatic features and added more features throughout its development.\n",
    "+ **Python 3** Released in late 2008 and addressed and amended intrinsic design flaws. \n",
    "+ **Python 2.7** Published in 2010 as the last of the 2.x releases in order to make it easier for Python 2.x users to port features over to Python 3 by providing some measure of compatibility between the two.\n",
    "\n",
    "Python 2 will lost support on January 1, 2020. It is important to upgrade to Python 3."
   ]
  },
  {
   "cell_type": "markdown",
   "metadata": {},
   "source": [
    "## <font color=\"red\">Why Learn Python 3</font>\n",
    "\n",
    "- Python 3 supports modern techniques like AI, machine learning, and data science\n",
    "- Python 3 is supported by a large Python developer's community. Getting support is easy.\n",
    "- Its easier to learn Python language compared to earlier versions.\n",
    "- Offers Powerful toolkit and libraries\n",
    "- Mixable with other languages"
   ]
  },
  {
   "cell_type": "markdown",
   "metadata": {},
   "source": [
    "## <font color=\"red\">Some Differences</font>\n",
    "\n",
    "When getting started with porting and migration, there are several syntax changes that you can implement now.."
   ]
  },
  {
   "cell_type": "markdown",
   "metadata": {},
   "source": [
    "**`print`**\n",
    "\n",
    "The `print` statement of Python 2 has changed to a `print()` function in Python 3.\n",
    "\n",
    "| Python 2\t| Python 3 |\n",
    "| --- | --- |\n",
    "| `print \"Hello, World!\"` |\t`print(\"Hello, World!\")`|"
   ]
  },
  {
   "cell_type": "markdown",
   "metadata": {},
   "source": [
    "**Floor Division**\n",
    "\n",
    "Python 2 does floor division with the `/` operator, Python 3 introduced `//` for floor division.\n",
    "Note that in Python 3, whenever two integers are divided, you get a float value whereas Python 2, you get an integer value\n",
    "\n",
    "| Python 2\t| Python 3 |\n",
    "| --- | --- |\n",
    "| `5 / 2 = 2` | `5 / 2 = 2.5` |\n",
    "| | `5 // 2 = 2` | \n",
    "\n",
    "To make use of these operators in Python 2, import `division` from the `__future__` module:\n",
    "\n",
    "```python\n",
    "from __future__ import division\n",
    "```"
   ]
  },
  {
   "cell_type": "markdown",
   "metadata": {},
   "source": [
    "**Integer Representation**\n",
    "\n",
    "In Python 2 the `long` type is different than the `int` type. In Python 3 the two types are the same.\n",
    "\n",
    "| Python 2\t| Python 3 |\n",
    "| --- | --- |\n",
    "| `123456789L` | `123456789` |\n",
    "| `long(123456789)` | |\n"
   ]
  },
  {
   "cell_type": "markdown",
   "metadata": {},
   "source": [
    "**String Formatting**\n",
    "\n",
    "String formatting syntax has changed from Python 2 to Python 3.\n",
    "\n",
    "| Python 2 |Python 3 |\n",
    "| --- | --- |\n",
    "| `\"%d %s\" % (i, s)` |\t`\"{} {}\".format(i, s)` |\n",
    "| `\"%d/%d=%f\" % (355, 113, 355/113)` |\t`\"{:d}/{:d}={:f}\".format(355, 113, 355/113)` |\n"
   ]
  },
  {
   "cell_type": "markdown",
   "metadata": {},
   "source": [
    "**`raise`**\n",
    "\n",
    "In Python 3, raising exceptions with arguments requires parentheses, and strings cannot be used as exceptions.\n",
    "\n",
    "| Python 2 |\tPython 3 |\n",
    "| --- | --- |\n",
    "| `raise Exception, args` |\t`raise Exception` |\n",
    "| | `raise Exception(args)` |\n",
    "| `raise Exception, args, traceback` |\t`raise Exception(args).with_traceback(traceback)` |\n",
    "| `raise \"Error\"` |\t`raise Exception(\"Error\")` |"
   ]
  },
  {
   "cell_type": "markdown",
   "metadata": {},
   "source": [
    "**`except`**\n",
    "\n",
    "In Python 2 it was difficult to list multiple exceptions, but that has changed in Python 3.\n",
    "\n",
    "\n",
    "| Python 2 |\tPython 3 |\n",
    "| --- | --- |\n",
    "|`except Exception, variable:` |\t`except AnException as variable:` |\n",
    "| | `except (OneException, TwoException) as variable:` |\n"
   ]
  },
  {
   "cell_type": "markdown",
   "metadata": {},
   "source": [
    "**`def`**\n",
    "\n",
    "In Python 2, functions can take in sequences like tuples or lists. In Python 3, this unpacking has been removed.\n",
    "\n",
    "| Python 2 |\tPython 3 |\n",
    "| --- | --- |\n",
    "| `def function(arg1, (x, y)):` |\t`def function(arg1, x_y): x, y = x_y` |\n",
    "\n"
   ]
  },
  {
   "cell_type": "markdown",
   "metadata": {},
   "source": [
    "## <font color=\"red\">Transitioning Process</font>\n",
    "\n",
    "Our goal is to write codes that are both compatiple with Python 2 and Python 3.\n",
    "\n",
    "\n",
    "- Start will small pieces first\n",
    "- Run tests.\n",
    "- Add support for Python 3 while keeping compatibility with Python 2 by introducing specific workarounds and helpers.\n",
    "- Modernise your code by removing deprecated features that have a Python3-compatible equivalent available in Python 2.\n",
    "- If needed, use tools to make you code both compatible with Python 2 and Python 3.\n"
   ]
  },
  {
   "cell_type": "markdown",
   "metadata": {},
   "source": [
    "## <font color=\"red\">Few Tools</font>\n",
    "\n",
    "\n",
    "\n",
    "**`future`**: \n",
    "\n",
    "- Works to make Python 3 idioms and best practices exist in Python 2.\n",
    "\n",
    "\n",
    "Leveraging `future`, you should consider adding this import statement to each of your Python 2.7 modules:\n",
    "\n",
    "```python\n",
    "from __future__ import print_function, division, absolute_imports, unicode_literals\n",
    "```\n",
    "\n",
    "**Compatibility Library**:`six`\n",
    "\n",
    "-  `six` module makes it practical to write code compatible with both Python 2 and 3 by offering compatibility wrappers over the differences.\n",
    "\n",
    "\n",
    "**Automated Fixer**: `python-modernize`\n",
    "\n",
    "- `python-modernize` is code-to-code translator that takes a Python 2 codebase and updates it to be compatible with both Python 2 and 3.\n",
    "- The tool builds on top of `2to3`, a library that comes with Python.\n",
    "- The tool operates by applying individual fixers – one for each type of change needed.\n",
    "\n",
    "**Automated Checker**: `pylint --py3k`\n",
    "\n",
    "- Pylint is a static code analyzer that can catch mistakes such as initialized variables, unused imports, and duplicated code. \n",
    "- It also has a mode that flags code incompatible with Python 3.\n",
    "- You can run the tool with the `--py3k` option on any code that is already ported. \n",
    "- You can also run pylint `--py3k` on unported code to get an idea of what will need to change.\n",
    "\n",
    "\n",
    "\n",
    "While this will also lead to rewrites, it will ensure that your Python 2 code aligns with Python 3 syntax."
   ]
  },
  {
   "cell_type": "code",
   "execution_count": null,
   "metadata": {},
   "outputs": [],
   "source": []
  }
 ],
 "metadata": {
  "kernelspec": {
   "display_name": "Python 3 (ipykernel)",
   "language": "python",
   "name": "python3"
  },
  "language_info": {
   "codemirror_mode": {
    "name": "ipython",
    "version": 3
   },
   "file_extension": ".py",
   "mimetype": "text/x-python",
   "name": "python",
   "nbconvert_exporter": "python",
   "pygments_lexer": "ipython3",
   "version": "3.8.2"
  }
 },
 "nbformat": 4,
 "nbformat_minor": 1
}
