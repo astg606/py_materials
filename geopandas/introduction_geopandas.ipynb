{
 "cells": [
  {
   "cell_type": "markdown",
   "metadata": {
    "id": "-24vit7OoB1x"
   },
   "source": [
    "<center>\n",
    "<table>\n",
    "  <tr>\n",
    "    <td><img src=\"http://www.nasa.gov/sites/all/themes/custom/nasatwo/images/nasa-logo.svg\" width=\"100\"/> </td>\n",
    "     <td><img src=\"https://github.com/astg606/py_materials/blob/master/logos/ASTG_logo.png?raw=true\" width=\"80\"/> </td>\n",
    "     <td> <img src=\"https://www.nccs.nasa.gov/sites/default/files/NCCS_Logo_0.png\" width=\"130\"/> </td>\n",
    "    </tr>\n",
    "</table>\n",
    "</center>\n",
    "\n",
    "        \n",
    "<center>\n",
    "<h1><font color= \"blue\" size=\"+3\">ASTG Python Courses</font></h1>\n",
    "</center>\n",
    "\n",
    "---\n",
    "\n",
    "<center><h1><font color=\"red\" size=\"+3\">Introduction to GeoPandas</font></h1></center>"
   ]
  },
  {
   "cell_type": "markdown",
   "metadata": {
    "id": "SUWcEpvQoB11"
   },
   "source": [
    "## Reference Documents\n",
    "\n",
    "* [GeoPandas User Guide](https://geopandas.org/en/stable/docs/user_guide.html)\n",
    "* [GeoPandas Tutorial](http://gallery.pangeo.io/repos/pangeo-data/pangeo-tutorial-gallery/geopandas.html)\n",
    "- [Analyze Geospatial Data in Python: GeoPandas and Shapely](https://www.learndatasci.com/tutorials/geospatial-data-python-geopandas-shapely/)\n",
    "* [GeoPandas Tutorial: An Introduction to Geospatial Analysis](https://www.datacamp.com/tutorial/geopandas-tutorial-geospatial-analysis)\n",
    "- [Introduction to geospatial data analysis with GeoPandas and the PyData stack](https://github.com/jorisvandenbossche/geopandas-tutorial)"
   ]
  },
  {
   "cell_type": "markdown",
   "metadata": {
    "id": "sqZRoZwmoB11"
   },
   "source": [
    "_______"
   ]
  },
  {
   "cell_type": "markdown",
   "metadata": {},
   "source": [
    "# <font color=\"red\"> Objectives</font>\n"
   ]
  },
  {
   "cell_type": "markdown",
   "metadata": {
    "id": "Llm_K90yoB12"
   },
   "source": [
    "# <font color=\"red\"> What is GeosPandas? </font>\n",
    "\n",
    "- A Python library that allows you to process shapefiles representing tabular data (like Pandas), where every row is associated with a geometry.\n",
    "- Designed to primarily work with vector data.\n",
    "- Provides access to many spatial functions for applying geometries, plotting maps, and geocoding. \n",
    "- Extends the capabilities of Pandas to enable spatial operations. \n",
    "- Includes new data types such as `GeoDataFrame` and `GeoSeries` which are subclasses of Pandas DataFrame and Series and enables efficient vector data processing in Python. \n",
    "- Is built on top of the following libraries that allow it to be spatially aware:\n",
    "  - `Shapely`: geometric operations (i.e. buffer, intersections etc.)\n",
    "  - `PyProj`: working with projections\n",
    "  - `Fiona`: file input and output."
   ]
  },
  {
   "cell_type": "markdown",
   "metadata": {},
   "source": [
    "Geospatial data describe any object or feature on Earth's surface. Common examples include:\n",
    "\n",
    "- Which area will be hit hardest by a hurricane?\n",
    "- How does ice cap melting relate to carbon emissions?\n",
    "- Which areas will be at the highest risk of fires?"
   ]
  },
  {
   "cell_type": "markdown",
   "metadata": {
    "id": "sGtbAGd7_jMX"
   },
   "source": [
    "# <font color=\"red\"> GeoPandas Data Structure </font>\n",
    "\n",
    "GeoPandas implements two main data structures:\n",
    "- GeoSeries\n",
    "- GeoDataFrame. \n",
    "\n",
    "These are subclasses of Pandas Series and Pandas DataFrame, respectively.\n",
    "This means that we can use all our Pandas skills also when working with GeoPandas.\n",
    "\n",
    "The main difference between GeoDataFrames and Pandas DataFrames is that a GeoDataFrame should contain one column for geometries."
   ]
  },
  {
   "cell_type": "markdown",
   "metadata": {},
   "source": [
    "## <font color=\"blue\">GeoSeries</font>\n",
    "- A vector where each entry in the vector is a set of shapes corresponding to one observation. \n",
    "- An entry may consist of only one shape (like a single polygon) or multiple shapes that are meant to be thought of as one observation (like the many polygons that make up the State of Hawaii or a country like Indonesia).\n",
    "\n",
    "Every GeoSeries comes with associated CRS (Coordinate Reference System) information.\n",
    "- Tells GeoPandas where the coordinates are located on Earth. \n",
    "- Is critical for spatial analysis.\n",
    "- There are two main categories of CRS:\n",
    "   - **Geographic coordinates**. They define a global position in degrees of latitude and longitude relative to the equator and the prime meridian.\n",
    "   - **Projected coordinates.** Moving from the three-dimensional Earth to a two-dimensional map inevitably introduces some distortions. We need different approaches for creating projected coordinates.\n",
    "\n",
    "#### Attributes and Methods for GeoSeries\n",
    "The GeoSeries class implements nearly all of the attributes and methods of Shapely objects. When applied to a GeoSeries, they will apply elementwise to all geometries in the series.\n",
    "\n",
    "Some inportant attributes are:\n",
    "- `area`: shape area (units of projection)\n",
    "- `bounds`: tuple of max and min coordinates on each axis for each shape\n",
    "`total_bounds`: tuple of max and min coordinates on each axis for entire GeoSeries\n",
    "`geom_type`: type of geometry.\n",
    "`is_valid`: tests if coordinates make a shape that is reasonable geometric shape.\n",
    "\n",
    "Some basic methods are:\n",
    "- `distance()`: returns Series with minimum distance from each entry to other\n",
    "- `centroid`: returns GeoSeries of centroids\n",
    "- `representative_point()`: returns GeoSeries of points that are guaranteed to be within each geometry. It does NOT return centroids.\n",
    "- `to_crs()`: change coordinate reference system.\n",
    "- `plot()`: plot GeoSeries."
   ]
  },
  {
   "cell_type": "markdown",
   "metadata": {},
   "source": [
    "## <font color=\"blue\">GeoDataFrame</font>\n",
    "- A tabular data structure that contains a GeoSeries.\n",
    "- It always has one GeoSeries column that holds a special status. \n",
    "- This GeoSeries is referred to as the GeoDataFrame’s “geometry”. \n",
    "- When a spatial method is applied to a GeoDataFrame (or a spatial attribute like `area` is called), this commands will always act on the “geometry” column.\n",
    "- The geometry column defines a point, line, or polygon associated with the rest of the columns. This column is a collection of shapely objects. Whatever you can do with shapely objects, you can also do with the geometry object.\n",
    "- The Coordinate Reference System (CRS) is the coordinate reference system of the geometry column that tells us where a point, line, or polygon lies on the Earth's surface. Geopandas maps a geometry onto the Earth's surface.\n",
    "- The “geometry” column – no matter its name – can be accessed through the geometry attribute (`gdf.geometry`), and the name of the `geometry` column can be found by typing `gdf.geometry.name`.\n",
    "\n",
    "A GeoDataFrame may also contain other columns with geometrical (Shapely) objects, but only one column can be the active geometry at a time.\n",
    "\n",
    "![fig_frame](https://geopandas.org/en/stable/_images/dataframe.svg)\n",
    "Image Source: [GeoPandas](https://geopandas.org/en/stable/getting_started/introduction.html)"
   ]
  },
  {
   "cell_type": "markdown",
   "metadata": {
    "id": "CLTjzNBJoB12"
   },
   "source": [
    "---"
   ]
  },
  {
   "cell_type": "markdown",
   "metadata": {
    "id": "SYmagjSHoB13"
   },
   "source": [
    "## Required Packages\n",
    "\n",
    "\n",
    "- __Matplotlib__: for basic plots.\n",
    "- __Pandas__\n",
    "- __Shapely__: for manipulating text data into geospatial shapes\n",
    "- __GeosPandas__: Combines the capabilities of Pandas and Shapely for geospatial operations\n"
   ]
  },
  {
   "cell_type": "markdown",
   "metadata": {},
   "source": [
    "----"
   ]
  },
  {
   "cell_type": "markdown",
   "metadata": {},
   "source": [
    "### <font color=\"red\">Uncomment and run the cell below only if in Google Colab</font>"
   ]
  },
  {
   "cell_type": "code",
   "execution_count": null,
   "metadata": {
    "colab": {
     "base_uri": "https://localhost:8080/"
    },
    "id": "cJ_HSvU-oB13",
    "outputId": "5c5d2254-8d27-46af-ac03-3c63793f4218"
   },
   "outputs": [],
   "source": [
    "#!sudo apt-get update && apt-get install -y libspatialindex-dev\n",
    "#!pip install rtree\n",
    "#!pip install geopandas\n",
    "#!pip install mapclassify"
   ]
  },
  {
   "cell_type": "markdown",
   "metadata": {},
   "source": [
    "----"
   ]
  },
  {
   "cell_type": "code",
   "execution_count": null,
   "metadata": {
    "id": "nT_3Q7CUoB15"
   },
   "outputs": [],
   "source": [
    "import warnings\n",
    "warnings.filterwarnings(\"ignore\")"
   ]
  },
  {
   "cell_type": "code",
   "execution_count": null,
   "metadata": {
    "id": "ZX-VYGqaoB16"
   },
   "outputs": [],
   "source": [
    "%matplotlib inline\n",
    "import matplotlib\n",
    "import matplotlib.pyplot as plt\n",
    "from matplotlib import cm\n",
    "import matplotlib.ticker as mticker"
   ]
  },
  {
   "cell_type": "code",
   "execution_count": null,
   "metadata": {},
   "outputs": [],
   "source": [
    "import pandas as pd"
   ]
  },
  {
   "cell_type": "code",
   "execution_count": null,
   "metadata": {},
   "outputs": [],
   "source": [
    "import geopandas as gpd"
   ]
  },
  {
   "cell_type": "code",
   "execution_count": null,
   "metadata": {
    "id": "FBT2ouX8oB16"
   },
   "outputs": [],
   "source": [
    "from shapely import geometry as shpgeom\n",
    "from shapely import wkt as shpwkt"
   ]
  },
  {
   "cell_type": "code",
   "execution_count": null,
   "metadata": {},
   "outputs": [],
   "source": [
    "# supports geospatial join\n",
    "import rtree "
   ]
  },
  {
   "cell_type": "code",
   "execution_count": null,
   "metadata": {},
   "outputs": [],
   "source": [
    "# visualize all columns in dataframe\n",
    "pd.set_option('display.max_columns', None) "
   ]
  },
  {
   "cell_type": "code",
   "execution_count": null,
   "metadata": {
    "colab": {
     "base_uri": "https://localhost:8080/"
    },
    "id": "QdoePTBboB17",
    "outputId": "f41f4e4a-ffea-40e5-a953-e9b6ee5d7a87"
   },
   "outputs": [],
   "source": [
    "print(f\"Version of Pandas:    {pd.__version__}\")\n",
    "print(f\"Version of GeoPandas: {gpd.__version__}\")"
   ]
  },
  {
   "cell_type": "markdown",
   "metadata": {
    "id": "NNfK2Rgy5Tly"
   },
   "source": [
    "# <font color=\"red\"> Creating GeoDataFrame </font>\n",
    "\n",
    "- We start with a Pandas DataFrame that has latitude and longitude coordinates as columns representing locations of cities.\n",
    "- We perform transformations to create a GeoPandas GeoDataFrame that includes the \"geometry\" column (representing points).\n",
    "\n",
    "[Mapping in Python](https://cybergisxhub.cigi.illinois.edu/notebook/spatial-data-exploration-and-visualization-on-google-colab/)"
   ]
  },
  {
   "cell_type": "code",
   "execution_count": null,
   "metadata": {
    "colab": {
     "base_uri": "https://localhost:8080/",
     "height": 394
    },
    "id": "uYPnp17xvyV5",
    "outputId": "7463d100-3782-430e-f179-69910f427fdd"
   },
   "outputs": [],
   "source": [
    "cities = ['Paris', 'New York', 'Mumbai', 'Tokyo', \n",
    "          'Moscow', 'Mexico City', 'Sao Paulo', 'Yaounde', \n",
    "          'Vancouver', 'Sydney', 'Harare']\n",
    "countries = ['France', 'USA', 'India', 'Japan', \n",
    "             'Russia', 'Mexico', 'Brazil', 'Cameroon', \n",
    "             'Canada', 'Australia', 'Zimbabwe']\n",
    "longitudes = [2.25, -73.92, 72.83, 139.69, 37.36, -99.13, \n",
    "              -46.63, 11.50, -123.08, 151.20, 31.0]\n",
    "latitudes = [48.85, 40.69, 28.35, 35.68, 55.45, 19.43,\n",
    "             -23.55, 3.84, 49.32, -33.87, -18.0]\n",
    "\n",
    "df = pd.DataFrame({\n",
    "    'City': cities,\n",
    "    'Country': countries,\n",
    "    'Longitude': longitudes,\n",
    "    'Latitude': latitudes\n",
    "})\n",
    "df\n"
   ]
  },
  {
   "cell_type": "markdown",
   "metadata": {
    "id": "xkqueW1O6XJV"
   },
   "source": [
    "We generate them by zipping the latitude and longitude together to store them in a new column named `Coordinates`.\n",
    "\n"
   ]
  },
  {
   "cell_type": "code",
   "execution_count": null,
   "metadata": {
    "colab": {
     "base_uri": "https://localhost:8080/",
     "height": 394
    },
    "id": "3zTYLLauoB17",
    "outputId": "9fec619f-4c72-4218-f32b-f6077aa01fd1"
   },
   "outputs": [],
   "source": [
    "df[\"Coordinates\"] = list(zip(df.Longitude, df.Latitude))\n",
    "df"
   ]
  },
  {
   "cell_type": "markdown",
   "metadata": {
    "id": "zMOi_Qa47Qib"
   },
   "source": [
    "- Our next step is to turn the tuple into a `Shapely` `Point` object.\n",
    "- We do this by applying Shapely’s `Point` method to the `Coordinates` column."
   ]
  },
  {
   "cell_type": "code",
   "execution_count": null,
   "metadata": {
    "colab": {
     "base_uri": "https://localhost:8080/",
     "height": 394
    },
    "id": "_Dqua1E5oB18",
    "outputId": "90bc62e8-fea1-453b-9f3e-a73d1f757f39"
   },
   "outputs": [],
   "source": [
    "df[\"Coordinates\"] = df[\"Coordinates\"].apply(shpgeom.Point)\n",
    "df"
   ]
  },
  {
   "cell_type": "markdown",
   "metadata": {
    "id": "lbLj84097rgM"
   },
   "source": [
    "- Finally, we will convert our DataFrame into a GeoDataFrame by calling the `geopandas.DataFrame` method.\n",
    "- GeoDataFrame is a data structure with the convenience of a normal DataFrame but also an understanding of how to plot maps.\n",
    "\n",
    ">The most important property of a GeoDataFrame is that it always has one GeoSeries column that holds a special status. This GeoSeries is referred to as the GeoDataFrame’s “geometry”. When a spatial method is applied to a GeoDataFrame (or a spatial attribute like area is called), this commands will always act on the “geometry” column."
   ]
  },
  {
   "cell_type": "code",
   "execution_count": null,
   "metadata": {
    "colab": {
     "base_uri": "https://localhost:8080/",
     "height": 206
    },
    "id": "2OG1gbDG7czy",
    "outputId": "cd42537d-d0c9-4789-d236-3ff5788d9a6a"
   },
   "outputs": [],
   "source": [
    "gdf = gpd.GeoDataFrame(df, geometry=\"Coordinates\")\n",
    "gdf.head()"
   ]
  },
  {
   "cell_type": "markdown",
   "metadata": {
    "id": "oCGxcdoH51rP"
   },
   "source": [
    "Does not look different than a vanilla Pandas DataFrame:"
   ]
  },
  {
   "cell_type": "code",
   "execution_count": null,
   "metadata": {
    "colab": {
     "base_uri": "https://localhost:8080/"
    },
    "id": "8cB_Y5KR6Jls",
    "outputId": "5de6c0e5-6ed4-4f62-8e36-ad9f1ef1936d"
   },
   "outputs": [],
   "source": [
    "print('gdf is of type:', type(gdf))"
   ]
  },
  {
   "cell_type": "markdown",
   "metadata": {
    "id": "z5U7gC8X6TOU"
   },
   "source": [
    "How can we tell which column is the geometry column>"
   ]
  },
  {
   "cell_type": "code",
   "execution_count": null,
   "metadata": {
    "colab": {
     "base_uri": "https://localhost:8080/"
    },
    "id": "30FIIr2Q7c2q",
    "outputId": "6286dfbe-91a3-443f-9ee4-02eb116cdaf5"
   },
   "outputs": [],
   "source": [
    "print('\\nThe geometry column is:', gdf.geometry.name)"
   ]
  },
  {
   "cell_type": "markdown",
   "metadata": {
    "id": "sOtQz_l6663I"
   },
   "source": [
    "Plot the city locations:"
   ]
  },
  {
   "cell_type": "code",
   "execution_count": null,
   "metadata": {
    "colab": {
     "base_uri": "https://localhost:8080/",
     "height": 174
    },
    "id": "e3WTSGxJ7c5f",
    "outputId": "afaba8b1-48e2-4417-f188-969a1608d7af"
   },
   "outputs": [],
   "source": [
    "gdf.plot()"
   ]
  },
  {
   "cell_type": "markdown",
   "metadata": {},
   "source": [
    "# <font color=\"red\">Exploring the city of Washington, DC</font>\n",
    "\n",
    "- We use the `geopandas.read_file()` function to read a GeoJSON file hosted in [GitHub](https://github.com/codeforgermany/click_that_hood/blob/main/public/data/washington.geojson) containing geospatial data about the different neighborhoods of the city of Washinton, DC. \n",
    "- After reading the file, we will obtain a GeoDataFram that will be used for data manipulation and visualization."
   ]
  },
  {
   "cell_type": "markdown",
   "metadata": {},
   "source": [
    "#### The url pointing to the raw GeoJSON file"
   ]
  },
  {
   "cell_type": "code",
   "execution_count": null,
   "metadata": {},
   "outputs": [],
   "source": [
    "url = \"https://raw.githubusercontent.com/codeforgermany/click_that_hood/main/public/data/washington.geojson\""
   ]
  },
  {
   "cell_type": "markdown",
   "metadata": {},
   "source": [
    "#### Read the file"
   ]
  },
  {
   "cell_type": "code",
   "execution_count": null,
   "metadata": {},
   "outputs": [],
   "source": [
    "dc_neighborhoods = gpd.read_file(url)\n",
    "\n",
    "dc_neighborhoods"
   ]
  },
  {
   "cell_type": "markdown",
   "metadata": {},
   "source": [
    "- The GeoDataFrame ressembles a traditional Pandas DataFrame.\n",
    "- The `geometry` column can contain any type of vector data, such as points, lines, and polygons."
   ]
  },
  {
   "cell_type": "markdown",
   "metadata": {},
   "source": [
    "Quick plot of the first row geometry:"
   ]
  },
  {
   "cell_type": "code",
   "execution_count": null,
   "metadata": {},
   "outputs": [],
   "source": [
    "dc_neighborhoods['name'][0]"
   ]
  },
  {
   "cell_type": "code",
   "execution_count": null,
   "metadata": {},
   "outputs": [],
   "source": [
    "dc_neighborhoods['geometry'][0]"
   ]
  },
  {
   "cell_type": "markdown",
   "metadata": {},
   "source": [
    "#### CRS information"
   ]
  },
  {
   "cell_type": "code",
   "execution_count": null,
   "metadata": {},
   "outputs": [],
   "source": [
    "dc_neighborhoods.crs"
   ]
  },
  {
   "cell_type": "markdown",
   "metadata": {},
   "source": [
    "- The district GeoDataFrame is associated with geographic coordinates (EPSG: 4326), but we want to transform it into projected coordinates, so we can make some calculations in meters. \n",
    "- We can transform (using the `Geopandas.to_crs()` method) it to EPSG:9311, the standard projected CRS for the ContinentalUS."
   ]
  },
  {
   "cell_type": "code",
   "execution_count": null,
   "metadata": {},
   "outputs": [],
   "source": [
    "dc_neighborhoods.to_crs(epsg=9311, inplace=True)\n",
    "dc_neighborhoods.crs"
   ]
  },
  {
   "cell_type": "markdown",
   "metadata": {},
   "source": [
    "#### Manipulating the area of each neighborhood\n",
    "\n",
    "- The area attribute returns the calculated area of a geometry. \n",
    "- We can save the resulting area (converted to km2) in a new column."
   ]
  },
  {
   "cell_type": "code",
   "execution_count": null,
   "metadata": {},
   "outputs": [],
   "source": [
    "dc_neighborhoods.area"
   ]
  },
  {
   "cell_type": "code",
   "execution_count": null,
   "metadata": {},
   "outputs": [],
   "source": [
    "dc_neighborhoods['area'] = dc_neighborhoods.area/1000000\n",
    "dc_neighborhoods"
   ]
  },
  {
   "cell_type": "code",
   "execution_count": null,
   "metadata": {},
   "outputs": [],
   "source": [
    "dc_neighborhoods['area'].sum()"
   ]
  },
  {
   "cell_type": "code",
   "execution_count": null,
   "metadata": {},
   "outputs": [],
   "source": [
    "dc_neighborhoods['area'].hist()"
   ]
  },
  {
   "cell_type": "markdown",
   "metadata": {},
   "source": [
    "#### Determining the centroid of each neighborhood\n",
    "\n",
    "- The centroid attribute returns the center point of a geometry. \n",
    "- We can add it to our dataset in a new geometry column."
   ]
  },
  {
   "cell_type": "code",
   "execution_count": null,
   "metadata": {},
   "outputs": [],
   "source": [
    "dc_neighborhoods['centroid'] = dc_neighborhoods.centroid\n",
    "dc_neighborhoods"
   ]
  },
  {
   "cell_type": "markdown",
   "metadata": {},
   "source": [
    "#### Determining the boundary"
   ]
  },
  {
   "cell_type": "code",
   "execution_count": null,
   "metadata": {},
   "outputs": [],
   "source": [
    "dc_neighborhoods['boundary'] = dc_neighborhoods.boundary\n",
    "dc_neighborhoods"
   ]
  },
  {
   "cell_type": "markdown",
   "metadata": {},
   "source": [
    "#### Distance to the White House\n",
    "\n",
    "- We want to calculate the distance from the White House, to the centroids of every neighborhood in Washington, DC.\n",
    "- We add the distances (in kilometers) in a new column. \n",
    "\n",
    "We first create a point using the Shapely `Point()` function with the desired coordinates, convert it into a `GeoSeries` with the right CRS, and then use the `GeoPandas.distance()` method."
   ]
  },
  {
   "cell_type": "code",
   "execution_count": null,
   "metadata": {},
   "outputs": [],
   "source": [
    "white_house = shpgeom.Point(-77.0365, 38.8977)\n",
    "white_house = gpd.GeoSeries(white_house, crs=4326)\n",
    "white_house = white_house.to_crs(epsg=9311)\n",
    "dc_neighborhoods['boundary'] = dc_neighborhoods.boundary\n",
    "dc_neighborhoods['white_house_dist'] = [float(white_house.distance(centroid)) / 1000 for centroid in dc_neighborhoods.centroid]"
   ]
  },
  {
   "cell_type": "code",
   "execution_count": null,
   "metadata": {},
   "outputs": [],
   "source": [
    "dc_neighborhoods"
   ]
  },
  {
   "cell_type": "code",
   "execution_count": null,
   "metadata": {},
   "outputs": [],
   "source": [
    "dc_neighborhoods.plot.barh(x='name', y='white_house_dist', \n",
    "                           figsize=(12,11));"
   ]
  },
  {
   "cell_type": "markdown",
   "metadata": {},
   "source": [
    "#### Basic plot with GeoPands"
   ]
  },
  {
   "cell_type": "code",
   "execution_count": null,
   "metadata": {},
   "outputs": [],
   "source": [
    "ax = dc_neighborhoods.plot(figsize=(10,6))"
   ]
  },
  {
   "cell_type": "markdown",
   "metadata": {},
   "source": [
    "#### Plot with colors and legend"
   ]
  },
  {
   "cell_type": "code",
   "execution_count": null,
   "metadata": {},
   "outputs": [],
   "source": [
    "ax = dc_neighborhoods.plot(column='name', \n",
    "                           figsize=(12,9), \n",
    "                           edgecolor='black', \n",
    "                           legend=True)"
   ]
  },
  {
   "cell_type": "markdown",
   "metadata": {},
   "source": [
    "#### Include White House and centroids on the plot"
   ]
  },
  {
   "cell_type": "code",
   "execution_count": null,
   "metadata": {},
   "outputs": [],
   "source": [
    "#import contextily\n",
    "ax = dc_neighborhoods.plot(column='name', figsize=(12,9), \n",
    "                           alpha=0.5, legend=True)\n",
    "dc_neighborhoods[\"centroid\"].plot(ax=ax, color=\"green\")\n",
    "white_house.plot(ax=ax,color='black', marker='+')\n",
    "#contextily.add_basemap(ax, crs=dc_neighborhoods.crs.to_string())\n",
    "plt.title('Map of Washington, DC')\n",
    "plt.axis('off')"
   ]
  },
  {
   "cell_type": "markdown",
   "metadata": {},
   "source": [
    "#### Saving the data into a `csv` file"
   ]
  },
  {
   "cell_type": "code",
   "execution_count": null,
   "metadata": {},
   "outputs": [],
   "source": [
    "dc_neighborhoods.to_csv(\"washington_dc.csv\")"
   ]
  },
  {
   "cell_type": "markdown",
   "metadata": {},
   "source": [
    "### <font color=\"green\">Breakout</font>\n",
    "\n",
    "Go to the webpage:\n",
    "\n",
    "[https://github.com/codeforgermany/click_that_hood/tree/main/public/data](https://github.com/codeforgermany/click_that_hood/tree/main/public/data)\n",
    "\n",
    "Select an abitrary GeoJSON file and perform the operations as above."
   ]
  },
  {
   "cell_type": "markdown",
   "metadata": {
    "id": "GEY3kzdQoB18"
   },
   "source": [
    "# <font color=\"red\"> Manipulating the World Map</font>\n",
    "\n",
    "From [Spatial Analysis with Colab](https://cybergisxhub.cigi.illinois.edu/notebook/spatial-data-exploration-and-visualization-on-google-colab/)"
   ]
  },
  {
   "cell_type": "markdown",
   "metadata": {
    "id": "c05fa1e9oB18"
   },
   "source": [
    "#### Obtain dataset from the Natural Earth database."
   ]
  },
  {
   "cell_type": "code",
   "execution_count": null,
   "metadata": {
    "colab": {
     "base_uri": "https://localhost:8080/",
     "height": 424
    },
    "id": "dhXf-4BUoB18",
    "outputId": "22893131-4840-4dbf-8489-4f32f33c8b14"
   },
   "outputs": [],
   "source": [
    "world = gpd.read_file(gpd.datasets.get_path(\"naturalearth_lowres\"))\n",
    "world.head()"
   ]
  },
  {
   "cell_type": "markdown",
   "metadata": {
    "id": "n9qBdu8qE8hU"
   },
   "source": [
    "#### Set the index to be the country abbreviations."
   ]
  },
  {
   "cell_type": "code",
   "execution_count": null,
   "metadata": {
    "colab": {
     "base_uri": "https://localhost:8080/",
     "height": 455
    },
    "id": "4DwZBnqOE4ER",
    "outputId": "fb902575-e7f3-4b5a-a8d0-98e6fdc7f3a2"
   },
   "outputs": [],
   "source": [
    "world = world.set_index(\"iso_a3\")\n",
    "world.head()"
   ]
  },
  {
   "cell_type": "markdown",
   "metadata": {
    "id": "1HjY8l8PoB19"
   },
   "source": [
    "world is a GeoDataFrame with the following columns:\n",
    "\n",
    "- `pop_est`: Contains a population estimate for the country\n",
    "- `continent`: The country’s continent\n",
    "- `name`: The country’s name\n",
    "- `iso_a3`: The country’s 3 letter abbreviation\n",
    "- `gdp_md_est`: An estimate of country’s GDP\n",
    "- `geometry`: A POLYGON for each country"
   ]
  },
  {
   "cell_type": "code",
   "execution_count": null,
   "metadata": {
    "colab": {
     "base_uri": "https://localhost:8080/",
     "height": 35
    },
    "id": "0fOz91rIFofQ",
    "outputId": "a50554c4-d1fc-4569-8737-05480ecf0635"
   },
   "outputs": [],
   "source": [
    "world.geometry.name"
   ]
  },
  {
   "cell_type": "markdown",
   "metadata": {
    "id": "TRIL25s0935f"
   },
   "source": [
    "#### Get the CRS"
   ]
  },
  {
   "cell_type": "code",
   "execution_count": null,
   "metadata": {
    "colab": {
     "base_uri": "https://localhost:8080/"
    },
    "id": "VDWU-zzt98jM",
    "outputId": "3573710a-636f-48d8-bcb2-130d1c12cd8d"
   },
   "outputs": [],
   "source": [
    "world.crs"
   ]
  },
  {
   "cell_type": "markdown",
   "metadata": {
    "id": "4uv8XlGk-AP5"
   },
   "source": [
    "A CRS has the following components:\n",
    "\n",
    "- **Datum** - The reference system, which in our case defines the starting point of measurement (Prime Meridian) and the model of the shape of the Earth (Ellipsoid). The most common Datum is WGS84.\n",
    "\n",
    "- **Area of use** - In our case, the area of use is the whole world, but there are many CRS that are optimized for a particular area of interest.\n",
    "\n",
    "- **Axes and Units** - Usually, longitude and latitude are measured in degrees. Units for x, y coordinates are often measured in meters.\n",
    "\n",
    "Here, the CRS is `EPSG:4326`. That CRS uses Latitude and Longitude in degrees as coordinates."
   ]
  },
  {
   "cell_type": "markdown",
   "metadata": {},
   "source": [
    "#### Determine the population density"
   ]
  },
  {
   "cell_type": "code",
   "execution_count": null,
   "metadata": {},
   "outputs": [],
   "source": [
    "world['pop_density'] = world.pop_est / world.area * 10**6\n",
    "\n",
    "world.sort_values(by='pop_density', ascending=False)"
   ]
  },
  {
   "cell_type": "markdown",
   "metadata": {
    "id": "d_3EB8huoB19"
   },
   "source": [
    "#### Show the world map"
   ]
  },
  {
   "cell_type": "code",
   "execution_count": null,
   "metadata": {
    "colab": {
     "base_uri": "https://localhost:8080/",
     "height": 227
    },
    "id": "GkmJYpYyoB19",
    "outputId": "207b3009-61cf-462d-85b6-612c84acfc14"
   },
   "outputs": [],
   "source": [
    "world.plot();"
   ]
  },
  {
   "cell_type": "code",
   "execution_count": null,
   "metadata": {},
   "outputs": [],
   "source": [
    "world.plot('pop_density', legend=True, figsize=(20,11));"
   ]
  },
  {
   "cell_type": "markdown",
   "metadata": {},
   "source": []
  },
  {
   "cell_type": "code",
   "execution_count": null,
   "metadata": {},
   "outputs": [],
   "source": [
    "norm = matplotlib.colors.LogNorm(vmin=world.pop_density.min(), \n",
    "                                 vmax=world.pop_density.max())\n",
    "\n",
    "world.to_crs('epsg:4326').plot(\"pop_density\", \n",
    "                                   figsize=(20,11), \n",
    "                                   legend=True,  \n",
    "                                   norm=norm);"
   ]
  },
  {
   "cell_type": "markdown",
   "metadata": {
    "id": "fG1HYEQgoB19"
   },
   "source": [
    "#### Show the geometry of the USA"
   ]
  },
  {
   "cell_type": "code",
   "execution_count": null,
   "metadata": {
    "colab": {
     "base_uri": "https://localhost:8080/",
     "height": 121
    },
    "id": "Ld16bdSOoB19",
    "outputId": "eaf7c0f4-5b14-47fa-dd01-ecc6498bde4f"
   },
   "outputs": [],
   "source": [
    "world.loc[\"USA\", 'geometry']"
   ]
  },
  {
   "cell_type": "markdown",
   "metadata": {},
   "source": [
    "#### Filter the data to exclude Antarctica"
   ]
  },
  {
   "cell_type": "code",
   "execution_count": null,
   "metadata": {
    "colab": {
     "base_uri": "https://localhost:8080/",
     "height": 181
    },
    "id": "6_cSaoDpqReT",
    "outputId": "73c05a90-9817-4766-db4a-ad3b35e1a00a"
   },
   "outputs": [],
   "source": [
    "world_gdp = world[(world.pop_est>0) & (world.name!=\"Antarctica\")]\n",
    "\n",
    "world_gdp['gdp_per_cap'] = world_gdp.gdp_md_est / world_gdp.pop_est\n",
    "\n",
    "world_gdp.plot(column='gdp_per_cap');"
   ]
  },
  {
   "cell_type": "markdown",
   "metadata": {
    "id": "irBTqMivG9JL"
   },
   "source": [
    "Add legend:"
   ]
  },
  {
   "cell_type": "code",
   "execution_count": null,
   "metadata": {
    "colab": {
     "base_uri": "https://localhost:8080/",
     "height": 259
    },
    "id": "aYJfGwNUFYgJ",
    "outputId": "31522f4e-49df-415f-c419-fe78e3db307c"
   },
   "outputs": [],
   "source": [
    "fig, axes = plt.subplots(1, 1)\n",
    "\n",
    "world.plot(column='pop_est', ax=axes, legend=True);"
   ]
  },
  {
   "cell_type": "markdown",
   "metadata": {},
   "source": [
    "Resize the colorbar:"
   ]
  },
  {
   "cell_type": "code",
   "execution_count": null,
   "metadata": {
    "colab": {
     "base_uri": "https://localhost:8080/",
     "height": 209
    },
    "id": "cNlAPVLnFYpI",
    "outputId": "0b56edfb-5e91-4b60-fcfe-eea8717bea73"
   },
   "outputs": [],
   "source": [
    "from mpl_toolkits.axes_grid1 import make_axes_locatable\n",
    "\n",
    "fig, axes = plt.subplots(1, 1)\n",
    "\n",
    "divider = make_axes_locatable(axes)\n",
    "\n",
    "cax = divider.append_axes(\"right\", size=\"5%\", pad=0.1)\n",
    "\n",
    "world.plot(column='pop_est', ax=axes, legend=True, cax=cax);"
   ]
  },
  {
   "cell_type": "markdown",
   "metadata": {
    "id": "Jx2vfsJQHl0V"
   },
   "source": [
    "#### Use the `legend_kwds` argument to add more features:"
   ]
  },
  {
   "cell_type": "code",
   "execution_count": null,
   "metadata": {
    "colab": {
     "base_uri": "https://localhost:8080/",
     "height": 280
    },
    "id": "e5Eutrl1Hdqv",
    "outputId": "379f6d44-a557-47b5-d513-837c34221904"
   },
   "outputs": [],
   "source": [
    "\n",
    "fig, axes = plt.subplots(1, 1)\n",
    "\n",
    "world.plot(column='pop_est',\n",
    "           ax=axes,\n",
    "           legend=True,\n",
    "           legend_kwds={'label': \"Population by Country\",\n",
    "                        'orientation': \"horizontal\"});"
   ]
  },
  {
   "cell_type": "markdown",
   "metadata": {
    "id": "46D_tjS3H_65"
   },
   "source": [
    "#### Use the `cmap` argument to select the colormap:"
   ]
  },
  {
   "cell_type": "code",
   "execution_count": null,
   "metadata": {
    "colab": {
     "base_uri": "https://localhost:8080/",
     "height": 181
    },
    "id": "mR6Bbf6cHd4c",
    "outputId": "17fc90dd-c284-4e4d-9cf8-e99807483231"
   },
   "outputs": [],
   "source": [
    "world_gdp.plot(column='gdp_per_cap', cmap='OrRd');"
   ]
  },
  {
   "cell_type": "markdown",
   "metadata": {
    "id": "g8X9uUq4ImVN"
   },
   "source": [
    "To make the color transparent for when you just want to show the boundary, you have two options:\n",
    "- Use `world.plot(facecolor=\"none\", edgecolor=\"black\")`. \n",
    "- Use `world.boundary.plot()`. "
   ]
  },
  {
   "cell_type": "code",
   "execution_count": null,
   "metadata": {
    "colab": {
     "base_uri": "https://localhost:8080/",
     "height": 181
    },
    "id": "xx5JRA4DIag2",
    "outputId": "534c9c52-ce78-4c6c-c1aa-44c21019cc45"
   },
   "outputs": [],
   "source": [
    "world_gdp.boundary.plot();"
   ]
  },
  {
   "cell_type": "markdown",
   "metadata": {
    "id": "rRseY5QZJJ_r"
   },
   "source": [
    "#### Scale the colormaps by using the `scheme` option"
   ]
  },
  {
   "cell_type": "code",
   "execution_count": null,
   "metadata": {
    "colab": {
     "base_uri": "https://localhost:8080/",
     "height": 181
    },
    "id": "kKUjATIwIaoj",
    "outputId": "a5991341-0fd2-4d00-dc2f-ac3eb41791da"
   },
   "outputs": [],
   "source": [
    "world_gdp.plot(column='gdp_per_cap', \n",
    "               cmap='OrRd', \n",
    "               scheme='quantiles');"
   ]
  },
  {
   "cell_type": "markdown",
   "metadata": {
    "id": "rPFzx75pAFW4"
   },
   "source": [
    "#### Plot cities on top of the map"
   ]
  },
  {
   "cell_type": "code",
   "execution_count": null,
   "metadata": {
    "colab": {
     "base_uri": "https://localhost:8080/",
     "height": 194
    },
    "id": "fbdz1Mq1KJhY",
    "outputId": "fcfeab99-1608-4cc0-99f1-551217bb9052"
   },
   "outputs": [],
   "source": [
    "base = world_gdp.boundary.plot();\n",
    "gdf.plot(ax=base, marker='o', color='red', markersize=5)"
   ]
  },
  {
   "cell_type": "code",
   "execution_count": null,
   "metadata": {
    "colab": {
     "base_uri": "https://localhost:8080/",
     "height": 288
    },
    "id": "2GmHetuYKJke",
    "outputId": "d3a4b884-9bda-425d-cb0c-58764f241567"
   },
   "outputs": [],
   "source": [
    "fig, axes = plt.subplots(figsize=(15, 10))\n",
    "world_gdp.plot(ax=axes)\n",
    "gdf.plot(ax=axes, marker='o', color='red', markersize=9)"
   ]
  },
  {
   "cell_type": "markdown",
   "metadata": {},
   "source": [
    "# <font color=\"red\">Tracking the International Space Station</font>\n",
    "- The ISS orbits at a speed of 17,100 mph which leads to an orbit about every hour and a half.\n",
    "- We read a `csv` file containing the timeseries locations of ISS. Information on how the file can be generate is [HERE](https://medium.com/@katehayes.m51/tracking-the-international-space-station-a-mini-project-with-geopandas-e682e8a3489f).\n",
    "- We use GeoPandas to plot the ISS track on a map."
   ]
  },
  {
   "cell_type": "markdown",
   "metadata": {},
   "source": [
    "#### Read the file using Pandas"
   ]
  },
  {
   "cell_type": "code",
   "execution_count": null,
   "metadata": {},
   "outputs": [],
   "source": [
    "df = pd.read_csv(\"ISS_timeseries_path.csv\", sep=\",\")"
   ]
  },
  {
   "cell_type": "code",
   "execution_count": null,
   "metadata": {},
   "outputs": [],
   "source": [
    "df"
   ]
  },
  {
   "cell_type": "code",
   "execution_count": null,
   "metadata": {},
   "outputs": [],
   "source": [
    "df.info()"
   ]
  },
  {
   "cell_type": "markdown",
   "metadata": {},
   "source": [
    "#### Need to convert the `geometry` column into Shapely geometry"
   ]
  },
  {
   "cell_type": "code",
   "execution_count": null,
   "metadata": {},
   "outputs": [],
   "source": [
    "df['geometry'] = df['geometry'].apply(shpwkt.loads)"
   ]
  },
  {
   "cell_type": "code",
   "execution_count": null,
   "metadata": {},
   "outputs": [],
   "source": [
    "df"
   ]
  },
  {
   "cell_type": "markdown",
   "metadata": {},
   "source": [
    "#### Convert the Pandas DataFrame into GeoDataFrame"
   ]
  },
  {
   "cell_type": "code",
   "execution_count": null,
   "metadata": {},
   "outputs": [],
   "source": [
    "iss_path = gpd.GeoDataFrame(df, crs={'init': 'epsg:4326'})"
   ]
  },
  {
   "cell_type": "code",
   "execution_count": null,
   "metadata": {},
   "outputs": [],
   "source": [
    "iss_path"
   ]
  },
  {
   "cell_type": "code",
   "execution_count": null,
   "metadata": {},
   "outputs": [],
   "source": [
    "iss_path.info()"
   ]
  },
  {
   "cell_type": "markdown",
   "metadata": {},
   "source": [
    "#### Plot ISS track"
   ]
  },
  {
   "cell_type": "code",
   "execution_count": null,
   "metadata": {},
   "outputs": [],
   "source": [
    "iss_path.plot(figsize=(15,10), color='red')"
   ]
  },
  {
   "cell_type": "code",
   "execution_count": null,
   "metadata": {},
   "outputs": [],
   "source": [
    "world.plot(figsize=(15,10),  color='#0B2380');"
   ]
  },
  {
   "cell_type": "code",
   "execution_count": null,
   "metadata": {},
   "outputs": [],
   "source": [
    "fig, ax = plt.subplots(1, figsize=(15,10))\n",
    "base = world.plot(ax=ax, color='#8BE898',)\n",
    "base.set_facecolor('#9CD6FF')\n",
    "# plotting the ISS position over the eart with navy\n",
    "iss_path.plot(ax=base, marker=\"*\", markersize=10, cmap = 'jet');"
   ]
  },
  {
   "cell_type": "markdown",
   "metadata": {
    "id": "gq5cc7k8qVG9"
   },
   "source": [
    "# <font color=\"red\"> US State Census Data</font>\n",
    "\n",
    "- Analyze the 2020 US census data"
   ]
  },
  {
   "cell_type": "markdown",
   "metadata": {},
   "source": [
    "## <font color=\"blue\">State Geographical Data</font>"
   ]
  },
  {
   "cell_type": "markdown",
   "metadata": {},
   "source": [
    "#### Read the state geographical data as a GeoDataFrame"
   ]
  },
  {
   "cell_type": "code",
   "execution_count": null,
   "metadata": {},
   "outputs": [],
   "source": [
    "geo_url = \"http://www2.census.gov/geo/tiger/GENZ2020/shp/cb_2020_us_state_5m.zip\"\n",
    "state_geo = gpd.read_file(geo_url)"
   ]
  },
  {
   "cell_type": "markdown",
   "metadata": {},
   "source": [
    "How many data points?"
   ]
  },
  {
   "cell_type": "code",
   "execution_count": null,
   "metadata": {},
   "outputs": [],
   "source": [
    "len(state_geo)"
   ]
  },
  {
   "cell_type": "markdown",
   "metadata": {},
   "source": [
    "Print the first data points"
   ]
  },
  {
   "cell_type": "code",
   "execution_count": null,
   "metadata": {},
   "outputs": [],
   "source": [
    "state_geo.head()"
   ]
  },
  {
   "cell_type": "code",
   "execution_count": null,
   "metadata": {},
   "outputs": [],
   "source": [
    "state_geo.info()"
   ]
  },
  {
   "cell_type": "markdown",
   "metadata": {},
   "source": [
    "Some of the columns are:\n",
    "- **NAME**: the names of the states\n",
    "- **STUSPS**: USPS acronym of each state\n",
    "- **ALAND**: surface area\n",
    "- **AWATER**: furface area of water\n"
   ]
  },
  {
   "cell_type": "code",
   "execution_count": null,
   "metadata": {},
   "outputs": [],
   "source": []
  },
  {
   "cell_type": "markdown",
   "metadata": {
    "id": "JVP-R56SGgq8"
   },
   "source": [
    "#### We can do a quick plot of the USA with state boundaries:"
   ]
  },
  {
   "cell_type": "code",
   "execution_count": null,
   "metadata": {
    "colab": {
     "base_uri": "https://localhost:8080/",
     "height": 204
    },
    "id": "kMelHar_FjHu",
    "outputId": "427a270d-caf3-4726-b2f4-9acd97081be4"
   },
   "outputs": [],
   "source": [
    "fig, axes = plt.subplots(figsize=(15, 10))\n",
    "state_geo.plot(ax=axes);"
   ]
  },
  {
   "cell_type": "markdown",
   "metadata": {
    "id": "THV1qzAlGwCu"
   },
   "source": [
    "#### How could we only map the area covering the USA?\n",
    "- We first need to grab the spatial extent of the `census_data` object.\n",
    "- It is a tuple of 4 values: `(xmin, ymin, xmax, ymax)`."
   ]
  },
  {
   "cell_type": "code",
   "execution_count": null,
   "metadata": {
    "colab": {
     "base_uri": "https://localhost:8080/"
    },
    "id": "CgQzkIDfFuZl",
    "outputId": "e209a8bb-7c49-440b-97d3-7b9cff800c6c"
   },
   "outputs": [],
   "source": [
    "df_bounds = state_geo.geometry.total_bounds\n",
    "df_bounds"
   ]
  },
  {
   "cell_type": "code",
   "execution_count": null,
   "metadata": {
    "colab": {
     "base_uri": "https://localhost:8080/",
     "height": 398
    },
    "id": "ASmoizkSI6Kr",
    "outputId": "3507a997-a6c4-41e2-fe0c-c54d35276354"
   },
   "outputs": [],
   "source": [
    "fig, axes = plt.subplots(figsize=(15, 10))\n",
    "xlim =([-176.0, -64.0])\n",
    "ylim =([13.0, df_bounds[-1]])\n",
    "axes.set_xlim(xlim)\n",
    "axes.set_ylim(ylim)\n",
    "state_df.plot(ax=axes);"
   ]
  },
  {
   "cell_type": "markdown",
   "metadata": {},
   "source": [
    "#### Plot the states with colored based on their area"
   ]
  },
  {
   "cell_type": "code",
   "execution_count": null,
   "metadata": {
    "colab": {
     "base_uri": "https://localhost:8080/",
     "height": 455
    },
    "id": "T6SA9faeCiKq",
    "outputId": "ebe1d34f-7607-4f4d-d914-bc50fab95f73"
   },
   "outputs": [],
   "source": [
    "norm = matplotlib.colors.LogNorm(vmin=state_geo.ALAND.min(), \n",
    "                                 vmax=state_geo.ALAND.max())\n",
    "fig, axes = plt.subplots(figsize=(15, 10))\n",
    "xlim =([-176.0, -64.0])\n",
    "ylim =([13.0, df_bounds[-1]])\n",
    "axes.set_xlim(xlim)\n",
    "axes.set_ylim(ylim)\n",
    "state_geo.to_crs('epsg:4326').plot(\"ALAND\", ax=axes, \n",
    "                                   legend=True,  norm=norm);"
   ]
  },
  {
   "cell_type": "markdown",
   "metadata": {},
   "source": [
    "#### Plot the states with colored based on their water surface area"
   ]
  },
  {
   "cell_type": "code",
   "execution_count": null,
   "metadata": {
    "colab": {
     "base_uri": "https://localhost:8080/",
     "height": 455
    },
    "id": "T6SA9faeCiKq",
    "outputId": "ebe1d34f-7607-4f4d-d914-bc50fab95f73"
   },
   "outputs": [],
   "source": [
    "norm = matplotlib.colors.LogNorm(vmin=state_geo.AWATER.min(), \n",
    "                                 vmax=state_geo.AWATER.max())\n",
    "fig, axes = plt.subplots(figsize=(15, 10))\n",
    "xlim =([-176.0, -64.0])\n",
    "ylim =([13.0, df_bounds[-1]])\n",
    "axes.set_xlim(xlim)\n",
    "axes.set_ylim(ylim)\n",
    "state_geo.to_crs('epsg:4326').plot(\"AWATER\", ax=axes, \n",
    "                                   legend=True,  norm=norm, cmap=\"Blues\");"
   ]
  },
  {
   "cell_type": "markdown",
   "metadata": {},
   "source": [
    "## <font color=\"blue\">County Geographical Data</font>"
   ]
  },
  {
   "cell_type": "markdown",
   "metadata": {},
   "source": [
    "#### Read county geographical dataas a GeoDataFrame"
   ]
  },
  {
   "cell_type": "code",
   "execution_count": null,
   "metadata": {},
   "outputs": [],
   "source": [
    "county_url = \"http://www2.census.gov/geo/tiger/GENZ2020/shp/cb_2020_us_county_5m.zip\"\n",
    "county_geo = gpd.read_file(county_url)\n",
    "county_geo.head()"
   ]
  },
  {
   "cell_type": "code",
   "execution_count": null,
   "metadata": {},
   "outputs": [],
   "source": [
    "len(county_geo)"
   ]
  },
  {
   "cell_type": "code",
   "execution_count": null,
   "metadata": {},
   "outputs": [],
   "source": [
    "norm = matplotlib.colors.LogNorm(vmin=county_geo.ALAND.min(), \n",
    "                                 vmax=county_geo.ALAND.max())\n",
    "fig, axes = plt.subplots(figsize=(15, 10))\n",
    "xlim =([-176.0, -64.0])\n",
    "ylim =([13.0, df_bounds[-1]])\n",
    "axes.set_xlim(xlim)\n",
    "axes.set_ylim(ylim)\n",
    "county_geo.to_crs('epsg:4326').plot(\"ALAND\", ax=axes, \n",
    "                                   legend=True,  norm=norm);"
   ]
  },
  {
   "cell_type": "markdown",
   "metadata": {
    "id": "11nKJIelqoRP"
   },
   "source": [
    "### <font color=\"blue\">Zoom in on the State of Wisconsin</font>"
   ]
  },
  {
   "cell_type": "markdown",
   "metadata": {},
   "source": [
    "#### Obtain the geographical data for the state of Wisconsin"
   ]
  },
  {
   "cell_type": "code",
   "execution_count": null,
   "metadata": {},
   "outputs": [],
   "source": [
    "wisconsin_geo = state_geo.query(\"NAME == 'Wisconsin'\")\n",
    "wisconsin_geo"
   ]
  },
  {
   "cell_type": "markdown",
   "metadata": {},
   "source": [
    "#### Draw the map of the state"
   ]
  },
  {
   "cell_type": "code",
   "execution_count": null,
   "metadata": {
    "colab": {
     "base_uri": "https://localhost:8080/",
     "height": 592
    },
    "id": "g8F0ok1ioB1-",
    "outputId": "1f6b4155-034b-4336-f07e-5b7e25b67ff8"
   },
   "outputs": [],
   "source": [
    "fig, axes = plt.subplots(figsize=(10, 10))\n",
    "wisconsin_geo.plot(ax=axes, edgecolor=\"black\", color=\"white\");"
   ]
  },
  {
   "cell_type": "markdown",
   "metadata": {
    "id": "n4-pTPnXvcnw"
   },
   "source": [
    "#### Get geographical data for the State of Wisconsin\n",
    "- Use `STATEFP == '55'` as id for the state"
   ]
  },
  {
   "cell_type": "code",
   "execution_count": null,
   "metadata": {
    "colab": {
     "base_uri": "https://localhost:8080/",
     "height": 1000
    },
    "id": "ciRn-sIBoB1-",
    "outputId": "e3a70550-ced5-4308-ace5-fbcfba5983a4"
   },
   "outputs": [],
   "source": [
    "wis_county_geo = county_geo.query(\"STATEFP == '55'\")\n",
    "wis_county_geo"
   ]
  },
  {
   "cell_type": "markdown",
   "metadata": {
    "id": "DmtO79JArAOC"
   },
   "source": [
    "#### Plot the map of the different counties in Wisconsin"
   ]
  },
  {
   "cell_type": "code",
   "execution_count": null,
   "metadata": {
    "colab": {
     "base_uri": "https://localhost:8080/",
     "height": 592
    },
    "id": "LogynWzUoB1_",
    "outputId": "a92294d2-a57b-4888-aece-2312ca733fdb"
   },
   "outputs": [],
   "source": [
    "fig, axes = plt.subplots(figsize=(10, 10))\n",
    "\n",
    "wisconsin_geo.plot(ax=axes, edgecolor=\"black\", \n",
    "                                           color=\"white\")\n",
    "\n",
    "wis_county_geo.plot(ax=axes, edgecolor=\"red\", color=\"white\");"
   ]
  },
  {
   "cell_type": "markdown",
   "metadata": {
    "id": "O7Lonm03Oakv"
   },
   "source": [
    "#### Use 2016 Presidential Election Results"
   ]
  },
  {
   "cell_type": "code",
   "execution_count": null,
   "metadata": {
    "colab": {
     "base_uri": "https://localhost:8080/",
     "height": 206
    },
    "id": "4npzuCRQoB1_",
    "outputId": "913f3999-1bd5-49b8-c12c-234660b6ca94"
   },
   "outputs": [],
   "source": [
    "url = \"https://datascience.quantecon.org/assets/data/ruhl_cleaned_results.csv\"\n",
    "\n",
    "pres_election_2016 = pd.read_csv(url, thousands=\",\")\n",
    "pres_election_2016.head()"
   ]
  },
  {
   "cell_type": "code",
   "execution_count": null,
   "metadata": {
    "colab": {
     "base_uri": "https://localhost:8080/"
    },
    "id": "HE9tWhf-svg4",
    "outputId": "877d3fa1-b6bb-4f9a-feca-7c29b2112498"
   },
   "outputs": [],
   "source": [
    "pres_election_2016.info()"
   ]
  },
  {
   "cell_type": "code",
   "execution_count": null,
   "metadata": {
    "colab": {
     "base_uri": "https://localhost:8080/"
    },
    "id": "P-BIwwU5s-RG",
    "outputId": "303390a9-5597-4a9e-dee1-d26cca90dfad"
   },
   "outputs": [],
   "source": [
    "pres_election_2016[\"county\"]"
   ]
  },
  {
   "cell_type": "code",
   "execution_count": null,
   "metadata": {
    "id": "893W5NxNoB1_"
   },
   "outputs": [],
   "source": [
    "pres_election_2016[\"county\"] = pres_election_2016[\"county\"].str.title()\n",
    "pres_election_2016[\"county\"] = pres_election_2016[\"county\"].str.strip()"
   ]
  },
  {
   "cell_type": "code",
   "execution_count": null,
   "metadata": {
    "id": "ny8pz20Ptb3e"
   },
   "outputs": [],
   "source": [
    "wis_county_geo[\"NAME\"] = wis_county_geo[\"NAME\"].str.title()\n",
    "wis_county_geo[\"NAME\"] = wis_county_geo[\"NAME\"].str.strip()"
   ]
  },
  {
   "cell_type": "code",
   "execution_count": null,
   "metadata": {
    "id": "8HmvRuK-oB1_"
   },
   "outputs": [],
   "source": [
    "res_states = wis_county_geo.merge(\n",
    "    pres_election_2016, \n",
    "    left_on=\"NAME\", \n",
    "    right_on=\"county\", \n",
    "    how=\"inner\"\n",
    "    )"
   ]
  },
  {
   "cell_type": "code",
   "execution_count": null,
   "metadata": {
    "colab": {
     "base_uri": "https://localhost:8080/",
     "height": 617
    },
    "id": "YXMI44ruoB1_",
    "outputId": "292b9fcd-ac18-4c3d-bdf8-0b0f3b7b62a6"
   },
   "outputs": [],
   "source": [
    "res_states.head()"
   ]
  },
  {
   "cell_type": "code",
   "execution_count": null,
   "metadata": {
    "colab": {
     "base_uri": "https://localhost:8080/"
    },
    "id": "2iH7yQFuoB2A",
    "outputId": "027764e8-0cc5-47c3-8c7d-600e01f6dcc4"
   },
   "outputs": [],
   "source": [
    "%%time\n",
    "res_states[\"trump_share\"] = res_states[\"trump\"] / (res_states[\"total\"])\n",
    "res_states[\"rel_trump_share\"] = res_states[\"trump\"] / (res_states[\"trump\"]+res_states[\"clinton\"])"
   ]
  },
  {
   "cell_type": "code",
   "execution_count": null,
   "metadata": {
    "colab": {
     "base_uri": "https://localhost:8080/",
     "height": 617
    },
    "id": "LsVXA8HMoB2A",
    "outputId": "07a518ae-14e1-46cd-c3f1-9b7daae646f2"
   },
   "outputs": [],
   "source": [
    "res_states.head()"
   ]
  },
  {
   "cell_type": "markdown",
   "metadata": {
    "id": "tL7fdF1SoB2A"
   },
   "source": [
    "Show the vote map:"
   ]
  },
  {
   "cell_type": "code",
   "execution_count": null,
   "metadata": {
    "colab": {
     "base_uri": "https://localhost:8080/",
     "height": 505
    },
    "id": "sXLOWmxSoB2A",
    "outputId": "9c3b3075-11d5-4b00-8e05-eb0326b3d4fa"
   },
   "outputs": [],
   "source": [
    "fig, axes = plt.subplots(figsize = (10,8))\n",
    "\n",
    "# Plot the state\n",
    "wisconsin_geo.plot(ax=axes, edgecolor='black',color='white')\n",
    "\n",
    "# Plot the counties and pass 'rel_trump_share' as the data to color\n",
    "res_states.plot(\n",
    "    ax=axes, edgecolor='black', column='rel_trump_share', \n",
    "    legend=True, cmap='RdBu_r',\n",
    "    vmin=0.01, vmax=0.95\n",
    ")\n",
    "\n",
    "# Add text to let people know what we are plotting\n",
    "axes.annotate('Republican vote share',\n",
    "              xy=(0.76, 0.06),  xycoords='figure fraction')\n",
    "\n",
    "# No axis with long and lat\n",
    "plt.axis('off')"
   ]
  },
  {
   "cell_type": "markdown",
   "metadata": {
    "id": "EZ8XTIysoB2A"
   },
   "source": [
    "Number of counties won by each candidate:"
   ]
  },
  {
   "cell_type": "code",
   "execution_count": null,
   "metadata": {
    "colab": {
     "base_uri": "https://localhost:8080/"
    },
    "id": "21t20uVQoB2B",
    "outputId": "d75566a9-56d1-4735-e2d4-6f130fb41b69"
   },
   "outputs": [],
   "source": [
    "res_states.eval(\"trump > clinton\").sum()"
   ]
  },
  {
   "cell_type": "code",
   "execution_count": null,
   "metadata": {
    "colab": {
     "base_uri": "https://localhost:8080/"
    },
    "id": "MDMAL_oioB2B",
    "outputId": "8ace3970-bf99-4bf7-dbc9-56cdb36bb9eb"
   },
   "outputs": [],
   "source": [
    "res_states.eval(\"trump < clinton\").sum()"
   ]
  },
  {
   "cell_type": "markdown",
   "metadata": {},
   "source": [
    "Total number of votes obtained by each candidate:"
   ]
  },
  {
   "cell_type": "code",
   "execution_count": null,
   "metadata": {
    "colab": {
     "base_uri": "https://localhost:8080/"
    },
    "id": "mY-FCS57oB2B",
    "outputId": "90977c51-f06f-4289-87ea-d36c455f4957"
   },
   "outputs": [],
   "source": [
    "res_states[\"trump\"].sum()"
   ]
  },
  {
   "cell_type": "code",
   "execution_count": null,
   "metadata": {
    "colab": {
     "base_uri": "https://localhost:8080/"
    },
    "id": "lDwFZ8x2oB2B",
    "outputId": "0e547e69-91dd-4cb7-e0d1-f5384c101ec0"
   },
   "outputs": [],
   "source": [
    "res_states[\"clinton\"].sum()"
   ]
  },
  {
   "cell_type": "markdown",
   "metadata": {},
   "source": [
    "### <font color=\"green\">Breakout</font>\n",
    "\n",
    "- Use the dataset below to map (by county) the results of the 2020 presidential election in the State of Maryland."
   ]
  },
  {
   "cell_type": "code",
   "execution_count": null,
   "metadata": {},
   "outputs": [],
   "source": [
    "url_2020_elect = \"https://raw.githubusercontent.com/tonmcg/US_County_Level_Election_Results_08-20/master/2020_US_County_Level_Presidential_Results.csv\""
   ]
  },
  {
   "cell_type": "code",
   "execution_count": null,
   "metadata": {},
   "outputs": [],
   "source": [
    "elect_2020_data = pd.read_csv(url_2020_elect, sep=\",\")\n",
    "elect_2020_data"
   ]
  },
  {
   "cell_type": "markdown",
   "metadata": {
    "id": "OPODQFSBqiyW"
   },
   "source": [
    "# <font color=\"red\"> [Smithsonian Global Volcanism Database](https://volcano.si.edu/) </font>"
   ]
  },
  {
   "cell_type": "code",
   "execution_count": null,
   "metadata": {
    "colab": {
     "base_uri": "https://localhost:8080/",
     "height": 461
    },
    "id": "ypq-TfP9qh0a",
    "outputId": "caea9a88-7c1b-4e55-c25a-ad6a173250ba"
   },
   "outputs": [],
   "source": [
    "server = 'https://webservices.volcano.si.edu/geoserver/GVP-VOTW/ows?'\n",
    "query = 'service=WFS&version=2.0.0&request=GetFeature&typeName=GVP-VOTW:Smithsonian_VOTW_Holocene_Volcanoes&outputFormat=json'\n",
    "gf = gpd.read_file(server+query)\n",
    "gf.head()"
   ]
  },
  {
   "cell_type": "code",
   "execution_count": null,
   "metadata": {
    "colab": {
     "base_uri": "https://localhost:8080/"
    },
    "id": "bTiJiGFJqh3n",
    "outputId": "a3279311-98c5-4ce7-b370-5406b7d66fbb"
   },
   "outputs": [],
   "source": [
    "gf.info()"
   ]
  },
  {
   "cell_type": "code",
   "execution_count": null,
   "metadata": {
    "colab": {
     "base_uri": "https://localhost:8080/"
    },
    "id": "_6IbseEnqh64",
    "outputId": "80ff452f-1044-4ff6-f7f8-c6070f406d70"
   },
   "outputs": [],
   "source": [
    "gf.iloc[2]"
   ]
  },
  {
   "cell_type": "markdown",
   "metadata": {},
   "source": [
    "#### Subsetting\n",
    "- Often we only want points in a certain bounding box.\n",
    "- Subsetting is very easy in Geopandas. "
   ]
  },
  {
   "cell_type": "code",
   "execution_count": null,
   "metadata": {
    "colab": {
     "base_uri": "https://localhost:8080/",
     "height": 780
    },
    "id": "C-0VLKlPrrPk",
    "outputId": "b24e7f1b-51da-4949-e885-2fb4a7f366d0"
   },
   "outputs": [],
   "source": [
    "ymin, ymax, xmin, xmax = [45, 49, -120, -124]\n",
    "subset = gf.cx[xmin:xmax, ymin:ymax]\n",
    "subset"
   ]
  },
  {
   "cell_type": "markdown",
   "metadata": {},
   "source": [
    "#### Plot the locations of volcanoes on the map of the world"
   ]
  },
  {
   "cell_type": "code",
   "execution_count": null,
   "metadata": {
    "colab": {
     "base_uri": "https://localhost:8080/",
     "height": 332
    },
    "id": "1-C_8YFWupCn",
    "outputId": "ec86ff82-d457-46de-ec30-a071c1f85e3a"
   },
   "outputs": [],
   "source": [
    "fig, axes = plt.subplots(figsize=(15, 10))\n",
    "world.plot(ax=axes, edgecolor=\"black\", color=\"white\")\n",
    "gf.plot(ax=axes, marker='o', color='red', markersize=5);"
   ]
  },
  {
   "cell_type": "markdown",
   "metadata": {},
   "source": [
    "### <font color=\"blue\">Focus on Colombia</font>\n",
    "\n",
    "#### Get volcanoes that occured in Colombia"
   ]
  },
  {
   "cell_type": "code",
   "execution_count": null,
   "metadata": {
    "colab": {
     "base_uri": "https://localhost:8080/",
     "height": 159
    },
    "id": "BZq4-kprrrbE",
    "outputId": "ea9fd7c4-113f-49e0-f52e-73d21f83381e"
   },
   "outputs": [],
   "source": [
    "colombia = world.query('name == \"Colombia\"')\n",
    "colombia"
   ]
  },
  {
   "cell_type": "code",
   "execution_count": null,
   "metadata": {
    "colab": {
     "base_uri": "https://localhost:8080/",
     "height": 972
    },
    "id": "LL3323_mrrhQ",
    "outputId": "ccdcd8f3-bf8d-40fb-cc10-8ae786cb23cf"
   },
   "outputs": [],
   "source": [
    "colombian_volcanoes = gpd.sjoin(gf, colombia, how=\"inner\", op='within')\n",
    "colombian_volcanoes"
   ]
  },
  {
   "cell_type": "markdown",
   "metadata": {},
   "source": [
    "#### Plot the location of volcanoes on the map of Colombia"
   ]
  },
  {
   "cell_type": "code",
   "execution_count": null,
   "metadata": {
    "colab": {
     "base_uri": "https://localhost:8080/",
     "height": 592
    },
    "id": "qF8BC9cErrlN",
    "outputId": "94f31af5-3024-4d9e-b78a-bb59e4d58e04"
   },
   "outputs": [],
   "source": [
    "fig, axes = plt.subplots(figsize=(10, 10))\n",
    "colombia.plot(ax=axes, edgecolor=\"black\", color=\"white\")\n",
    "colombian_volcanoes.plot(ax=axes, marker='o', color='red', markersize=5);"
   ]
  },
  {
   "cell_type": "code",
   "execution_count": null,
   "metadata": {
    "id": "Wv3dOk6Frrqn"
   },
   "outputs": [],
   "source": []
  }
 ],
 "metadata": {
  "anaconda-cloud": {},
  "colab": {
   "collapsed_sections": [],
   "name": "introduction_geopandas.ipynb",
   "provenance": []
  },
  "kernelspec": {
   "display_name": "Python 3 (ipykernel)",
   "language": "python",
   "name": "python3"
  },
  "language_info": {
   "codemirror_mode": {
    "name": "ipython",
    "version": 3
   },
   "file_extension": ".py",
   "mimetype": "text/x-python",
   "name": "python",
   "nbconvert_exporter": "python",
   "pygments_lexer": "ipython3",
   "version": "3.7.12"
  }
 },
 "nbformat": 4,
 "nbformat_minor": 4
}
