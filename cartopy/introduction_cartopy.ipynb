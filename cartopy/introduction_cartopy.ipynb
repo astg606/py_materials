{
 "cells": [
  {
   "cell_type": "markdown",
   "metadata": {},
   "source": [
    "<center>\n",
    "<table>\n",
    "  <tr>\n",
    "    <td><img src=\"http://www.nasa.gov/sites/all/themes/custom/nasatwo/images/nasa-logo.svg\" width=\"100\"/> </td>\n",
    "     <td><img src=\"https://github.com/astg606/py_materials/blob/master/logos/ASTG_logo.png?raw=true\" width=\"80\"/> </td>\n",
    "     <td> <img src=\"https://www.nccs.nasa.gov/sites/default/files/NCCS_Logo_0.png\" width=\"130\"/> </td>\n",
    "    </tr>\n",
    "</table>\n",
    "</center>\n",
    "\n",
    "        \n",
    "<center>\n",
    "<h1><font color= \"blue\" size=\"+3\">ASTG Python Courses</font></h1>\n",
    "</center>\n",
    "\n",
    "---\n",
    "\n",
    "<center><h1>\n",
    "    <font color=\"red\">Introduction to Cartopy</font>  \n",
    "</h1></center>\n"
   ]
  },
  {
   "cell_type": "markdown",
   "metadata": {},
   "source": [
    "# <font color=\"red\"> Reference Documents</font>\n",
    "\n",
    "* <A HREF=\"https://scitools.org.uk/cartopy/docs/latest/\">Introduction --- Cartopy</A>\n",
    "* <A HREF=\"https://rabernat.github.io/research_computing_2018/maps-with-cartopy.html\">Maps with Cartopy</A>\n",
    "* <A HREF=\"https://geohackweek.github.io/visualization/03-cartopy/\">Basics: Quick + Simple maps with cartopy.</A>\n",
    "* <A HREF=\"https://uoftcoders.github.io/studyGroup/lessons/python/cartography/lesson/\">Cartography and Mapping in Python</A>\n",
    "* <A HREF=\"https://www.earthdatascience.org/workshops/gis-open-source-python/intro-vector-data-python/\">Introduction to Vector Format Spatial Data - Points, Lines and Polygons</A>\n",
    "* [Shafiles on maps](https://notebook.community/hetland/python4geosciences/materials/ST_shapefiles)"
   ]
  },
  {
   "cell_type": "markdown",
   "metadata": {},
   "source": [
    "# <font color=\"red\">What is Cartopy?</font>\n",
    "\n",
    "* Package for drawing maps for for data analysis and visualization\n",
    "* Relies on PROJ.4, numpy and shapely libraries\n",
    "* Built on top of Matplotlib \n",
    "* Has a simple and intuitive drawing interface to Matplotlib\n",
    "\n",
    "\n",
    "### What Does Cartopy Provide?\n",
    "\n",
    "* Facilities to transform coordinates to different <a href=\"https://scitools.org.uk/cartopy/docs/latest/crs/projections.html#cartopy-projections\">map projections</a>\n",
    "* Matplotlib is used to plot contours, images, vectors, lines or points in the transformed coordinates.\n",
    "* Shorelines, river and political boundary datasets.\n",
    "* Facilities for reading shapefiles."
   ]
  },
  {
   "cell_type": "markdown",
   "metadata": {},
   "source": [
    "_______"
   ]
  },
  {
   "cell_type": "markdown",
   "metadata": {},
   "source": [
    "# <font color=\"red\"> Recall: [The Matplotlib Object Hierarchy](https://realpython.com/python-matplotlib-guide/)</font>\n",
    "\n",
    "- When we issue the call `plt.plot(x, y)`, we internally creates a hierarchy of nested Python objects: **Figure** and **Axes**.\n",
    "- A **Figure** object is the outermost container for a matplotlib graphic, which can contain multiple **Axes** objects.\n",
    "- An **Axes** actually translates into what we think of as an individual plot or graph (rather than the plural of “axis,” as we might expect).\n",
    "- Below the Axes in the hierarchy are smaller objects such as tick marks, individual lines, legends, and text boxes. Almost every “element” of a chart is its own manipulable Python object, all the way down to the ticks and labels\n",
    "\n",
    "![FIG_AXES](https://files.realpython.com/media/fig_map.bc8c7cabd823.png)\n",
    "Image Source: Brad Solomon (Real Python Tutorial)\n",
    "\n",
    "Below is a figure anatomy of the Matplotlib object hierarchy:\n",
    "\n",
    "![Anatomy](https://files.realpython.com/media/anatomy.7d033ebbfbc8.png)\n",
    "Image Source: Brad Solomon (Real Python Tutorial)"
   ]
  },
  {
   "cell_type": "markdown",
   "metadata": {},
   "source": [
    "---"
   ]
  },
  {
   "cell_type": "markdown",
   "metadata": {},
   "source": [
    "# <font color=\"red\">Required Packages</font>\n",
    "\n",
    "We will mainly need:\n",
    "\n",
    "- `matplotlib`:\n",
    "- `NumPy`:\n",
    "- `Shapely`:\n",
    "- `Cartopy`: "
   ]
  },
  {
   "cell_type": "markdown",
   "metadata": {},
   "source": [
    "### <font color='blue'> Only run the following cell if you are on Google Colab</font>\n",
    "\n",
    "Uncomment the cell below if you are on Google Colab"
   ]
  },
  {
   "cell_type": "code",
   "execution_count": null,
   "metadata": {},
   "outputs": [],
   "source": [
    "#!apt-get install libproj-dev proj-data proj-bin\n",
    "#!apt-get install libgeos-dev\n",
    "#!pip install cython\n",
    "#!pip install cartopy"
   ]
  },
  {
   "cell_type": "markdown",
   "metadata": {},
   "source": [
    "***"
   ]
  },
  {
   "cell_type": "code",
   "execution_count": null,
   "metadata": {},
   "outputs": [],
   "source": [
    "import warnings\n",
    "warnings.filterwarnings(\"ignore\")"
   ]
  },
  {
   "cell_type": "code",
   "execution_count": null,
   "metadata": {},
   "outputs": [],
   "source": [
    "%matplotlib inline\n",
    "import matplotlib.pyplot as plt\n",
    "from matplotlib import cm"
   ]
  },
  {
   "cell_type": "code",
   "execution_count": null,
   "metadata": {},
   "outputs": [],
   "source": [
    "import numpy as np"
   ]
  },
  {
   "cell_type": "code",
   "execution_count": null,
   "metadata": {},
   "outputs": [],
   "source": [
    "from shapely import geometry as shpgeom"
   ]
  },
  {
   "cell_type": "code",
   "execution_count": null,
   "metadata": {},
   "outputs": [],
   "source": [
    "import cartopy\n",
    "import cartopy.crs as ccrs\n",
    "import cartopy.feature as cfeature\n",
    "import cartopy.io.shapereader as shapereader\n",
    "from cartopy.mpl.ticker import LongitudeFormatter, LatitudeFormatter"
   ]
  },
  {
   "cell_type": "code",
   "execution_count": null,
   "metadata": {},
   "outputs": [],
   "source": [
    "print(f\"NumPy version:   {np.__version__}\")\n",
    "print(f\"Cartopy version: {cartopy.__version__}\")"
   ]
  },
  {
   "cell_type": "markdown",
   "metadata": {},
   "source": [
    "# <font color=\"red\">Drawing Maps</font>"
   ]
  },
  {
   "cell_type": "markdown",
   "metadata": {},
   "source": [
    "## <font color=\"blue\">Simple Scatter Plot</font>"
   ]
  },
  {
   "cell_type": "code",
   "execution_count": null,
   "metadata": {},
   "outputs": [],
   "source": [
    "np.random.seed(1)\n",
    "x = 360 * np.random.rand(100) -180\n",
    "y = 180 * np.random.rand(100) - 90"
   ]
  },
  {
   "cell_type": "code",
   "execution_count": null,
   "metadata": {},
   "outputs": [],
   "source": [
    "fig = plt.figure(figsize=(10, 7))\n",
    "ax = fig.add_subplot(1, 1, 1)\n",
    "ax.scatter(x, y)"
   ]
  },
  {
   "cell_type": "markdown",
   "metadata": {},
   "source": [
    "## <font color=\"blue\">Add Basic Map on top of the Scatter Plot</font>"
   ]
  },
  {
   "cell_type": "code",
   "execution_count": null,
   "metadata": {},
   "outputs": [],
   "source": [
    "fig = plt.figure(figsize=(10, 7))\n",
    "ax = fig.add_subplot(1, 1, 1,\n",
    "                     projection=ccrs.PlateCarree())\n",
    "ax.scatter(x, y)\n",
    "ax.coastlines();"
   ]
  },
  {
   "cell_type": "markdown",
   "metadata": {},
   "source": [
    "## <font color=\"blue\"> Add Features to the Map</font>\n",
    "* Oceans\n",
    "* Land\n",
    "* Coast lines\n",
    "* Country boundaries\n",
    "* Lakes\n",
    "* Rivers"
   ]
  },
  {
   "cell_type": "markdown",
   "metadata": {},
   "source": [
    "#### Add Land Ocean Image"
   ]
  },
  {
   "cell_type": "code",
   "execution_count": null,
   "metadata": {},
   "outputs": [],
   "source": [
    "fig = plt.figure(figsize=(10, 7))\n",
    "ax = fig.add_subplot(1, 1, 1,\n",
    "                     projection=ccrs.PlateCarree())\n",
    "ax.scatter(x, y)\n",
    "ax.stock_img()\n",
    "ax.coastlines();"
   ]
  },
  {
   "cell_type": "markdown",
   "metadata": {},
   "source": [
    "#### More features"
   ]
  },
  {
   "cell_type": "code",
   "execution_count": null,
   "metadata": {},
   "outputs": [],
   "source": [
    "fig = plt.figure(figsize=(10, 7))\n",
    "\n",
    "central_longitude = 40.0 # default value is zero\n",
    "# Select the map projection\n",
    "ax = fig.add_subplot(1, 1, 1,\n",
    "                     projection=ccrs.PlateCarree())\n",
    "ax.scatter(x, y)\n",
    "#ax.coastlines()\n",
    "#ax = plt.axes(projection=cartopy.crs.PlateCarree(central_longitude))\n",
    "\n",
    "# Add land\n",
    "ax.add_feature(cartopy.feature.LAND)\n",
    "\n",
    "# Add ocean\n",
    "ax.add_feature(cartopy.feature.OCEAN)\n",
    "\n",
    "# Add cost lines\n",
    "ax.add_feature(cartopy.feature.COASTLINE)\n",
    "\n",
    "# Add country boundaries\n",
    "ax.add_feature(cartopy.feature.BORDERS, linestyle=':')\n",
    "\n",
    "# Add lakes\n",
    "ax.add_feature(cartopy.feature.LAKES, alpha=0.5)\n",
    "\n",
    "# Add rivers\n",
    "ax.add_feature(cartopy.feature.RIVERS);"
   ]
  },
  {
   "cell_type": "markdown",
   "metadata": {},
   "source": [
    "#### We can use the [Natural Earth](https://www.naturalearthdata.com/) datasets to change the [resolution of the features](https://scitools.org.uk/cartopy/docs/latest/matplotlib/feature_interface.html#cartopy.feature.NaturalEarthFeature).\n",
    "\n",
    "- The features with names such as `cfeature.LAND`, `cfeature.OCEAN`, are on 110m resolution shapefiles from the NaturalEarth repository.  \n",
    "- Higher resolution shapefiles (10m, 50m) can be used by using the `cfeature.NaturalEarthFeature` method as illustrated below."
   ]
  },
  {
   "cell_type": "code",
   "execution_count": null,
   "metadata": {},
   "outputs": [],
   "source": [
    "scale = '50m'  #  use data at this scale # 110m # 10m\n",
    "\n",
    "boundary = cfeature.NaturalEarthFeature(\n",
    "    category='cultural',\n",
    "    name='admin_0_boundary_lines_land',\n",
    "    scale=scale, facecolor='none', alpha=0.7,\n",
    ")\n",
    "country_borders = cfeature.NaturalEarthFeature(\n",
    "    'physical', 'borders',\n",
    "    scale=scale, edgecolor='black', facecolor='none',\n",
    ")\n",
    "coastline_mask = cfeature.NaturalEarthFeature(\n",
    "    'physical', 'coastline',\n",
    "    scale=scale, edgecolor='black', facecolor='none',\n",
    ")\n",
    "land_mask = cfeature.NaturalEarthFeature(\n",
    "    'physical', 'land',\n",
    "    scale=scale, edgecolor='k',\n",
    "    facecolor=cfeature.COLORS['land'],\n",
    ")\n",
    "sea_mask = cfeature.NaturalEarthFeature(\n",
    "    'physical', 'ocean', \n",
    "    scale=scale, edgecolor='none',\n",
    "    facecolor=cfeature.COLORS['water'],\n",
    ")\n",
    "lake_mask = cfeature.NaturalEarthFeature(\n",
    "    'physical', 'lakes', \n",
    "    scale=scale, edgecolor='b',\n",
    "    facecolor=cfeature.COLORS['water'],\n",
    ")\n",
    "river_mask = cfeature.NaturalEarthFeature(\n",
    "    'physical', 'rivers_lake_centerlines', \n",
    "    scale=scale, edgecolor='b', facecolor='none'\n",
    ")\n",
    "usa_state_borders = cfeature.NaturalEarthFeature(\n",
    "    category='cultural',\n",
    "    name='admin_1_states_provinces_lines',\n",
    "    scale=scale, facecolor='none', edgecolor='k')"
   ]
  },
  {
   "cell_type": "markdown",
   "metadata": {},
   "source": [
    "We can plot the same map as above:"
   ]
  },
  {
   "cell_type": "code",
   "execution_count": null,
   "metadata": {},
   "outputs": [],
   "source": [
    "fig, ax = plt.subplots(\n",
    "    subplot_kw={'projection': ccrs.PlateCarree()},\n",
    "    figsize=(10,7))\n",
    "\n",
    "ax.scatter(x, y)\n",
    "\n",
    "ax.add_feature(land_mask)\n",
    "ax.add_feature(sea_mask)\n",
    "ax.add_feature(coastline_mask)\n",
    "ax.add_feature(cfeature.BORDERS, linestyle=':')\n",
    "ax.add_feature(lake_mask, alpha=0.5)\n",
    "ax.add_feature(river_mask);"
   ]
  },
  {
   "cell_type": "markdown",
   "metadata": {},
   "source": [
    "## <font color=\"blue\">Map Projections</font>\n",
    "\n",
    "- In Cartopy, each projection is a class. \n",
    "- One of the key features of Cartopy is its ability to transform points, lines, vectors, polygons and images between projections\n",
    "- Cartopy depends on Matplotlib, and each projection knows how to create a Matplotlib Axes (or `AxesSubplot`) that can represent itself.\n",
    "- The Axes that the projection creates is a `cartopy.mpl.geoaxes.GeoAxes`. This Axes subclass overrides some of Matplotlib’s existing methods, and adds a number of extremely useful ones for drawing maps.\n",
    "\n",
    "```python\n",
    "# Option 1\n",
    "   plt.figure()\n",
    "   ax = plt.axes(projection=ccrs.PlateCarree())\n",
    "\n",
    "# Option 2\n",
    "   fig, ax = plt.subplots(\n",
    "       subplot_kw={'projection': ccrs.PlateCarree()}\n",
    "   )\n",
    "```\n",
    "\n",
    "You can consult [Cartopy projection list](https://scitools.org.uk/cartopy/docs/latest/reference/projections.html) to find the available map projections."
   ]
  },
  {
   "cell_type": "markdown",
   "metadata": {},
   "source": [
    "#### Lambert Cylindrical"
   ]
  },
  {
   "cell_type": "code",
   "execution_count": null,
   "metadata": {},
   "outputs": [],
   "source": [
    "central_longitude = 40.0 # default value is zero\n",
    "\n",
    "# Select the map projection\n",
    "map_projection = cartopy.crs.LambertCylindrical(central_longitude)\n",
    "\n",
    "fig, ax = plt.subplots(\n",
    "    subplot_kw={'projection': map_projection},\n",
    "    figsize=(10,7))\n",
    "\n",
    "# Add cost lines\n",
    "ax.add_feature(cartopy.feature.COASTLINE)\n",
    "ax.gridlines()\n",
    "\n",
    "plt.show()"
   ]
  },
  {
   "cell_type": "markdown",
   "metadata": {},
   "source": [
    "#### Mercator"
   ]
  },
  {
   "cell_type": "code",
   "execution_count": null,
   "metadata": {},
   "outputs": [],
   "source": [
    "map_projection = cartopy.crs.Mercator()\n",
    "fig, ax = plt.subplots(\n",
    "    subplot_kw={'projection': map_projection},\n",
    "    figsize=(10,7))\n",
    "\n",
    "ax.add_feature(cartopy.feature.COASTLINE)\n",
    "ax.gridlines()\n",
    "plt.show()"
   ]
  },
  {
   "cell_type": "markdown",
   "metadata": {},
   "source": [
    "#### Orthographic"
   ]
  },
  {
   "cell_type": "code",
   "execution_count": null,
   "metadata": {},
   "outputs": [],
   "source": [
    "map_projection = cartopy.crs.Orthographic()\n",
    "fig, ax = plt.subplots(\n",
    "    subplot_kw={'projection': map_projection},\n",
    "    figsize=(10,7))\n",
    "ax.add_feature(cartopy.feature.COASTLINE)\n",
    "ax.gridlines()\n",
    "plt.show()"
   ]
  },
  {
   "cell_type": "markdown",
   "metadata": {},
   "source": [
    "#### Collection of Projections"
   ]
  },
  {
   "cell_type": "code",
   "execution_count": null,
   "metadata": {},
   "outputs": [],
   "source": [
    "projections = [ccrs.PlateCarree(),\n",
    "               ccrs.Robinson(),\n",
    "               ccrs.Mollweide(),\n",
    "               ccrs.Mercator(),\n",
    "               ccrs.Orthographic(),\n",
    "               ccrs.Sinusoidal(),\n",
    "               ccrs.InterruptedGoodeHomolosine()\n",
    "              ]\n",
    "\n",
    "\n",
    "for proj in projections:\n",
    "    plt.figure(figsize=(8,5))\n",
    "    ax = plt.axes(projection=proj)\n",
    "    ax.stock_img()\n",
    "    ax.coastlines()\n",
    "    ax.set_title(f'{type(proj)}')\n",
    "    plt.show()"
   ]
  },
  {
   "cell_type": "code",
   "execution_count": null,
   "metadata": {},
   "outputs": [],
   "source": [
    "projections = [ccrs.PlateCarree(-60), \n",
    "               ccrs.AlbersEqualArea(-60), \n",
    "               ccrs.TransverseMercator(-60), \n",
    "               ccrs.Orthographic(-60, 30)]\n",
    "\n",
    "titles = ['Equirectangular projection', \n",
    "          'Albers equal-area conic projection', \n",
    "          'Transverse mercator projection', \n",
    "          'Orthographic projection']\n",
    "\n",
    "fig, axes = plt.subplots(2, 2, \n",
    "                         subplot_kw={'projection': projections[2]}, \n",
    "                         figsize=(15,10))\n",
    "\n",
    "ny_lon, ny_lat = -75, 43\n",
    "\n",
    "for ax, proj, title in zip(axes.ravel(), projections, titles):\n",
    "    # Change projection for each subplot\n",
    "    ax.projection = proj\n",
    "    # Add title for each subplot.\n",
    "    ax.set_title(title)  \n",
    "    # Set global extention\n",
    "    ax.set_global()         \n",
    "    # Add coastlines\n",
    "    ax.coastlines()    \n",
    "    # Add oceans\n",
    "    ax.add_feature(cartopy.feature.OCEAN)   \n",
    "    # Add tissot indicatrisses\n",
    "    ax.tissot(facecolor='r', alpha=.8, lats=np.arange(-90,90, 30))         # Add tissot indicatrisses\n",
    "    ax.plot(ny_lon, ny_lat, 'ko', transform=ccrs.Geodetic())               # Plot the point for the NY city\n",
    "    ax.text(ny_lon + 4, ny_lat + 4, 'New York', transform=ccrs.Geodetic()) # Label New York\n",
    "    ax.gridlines(color='.25', ylocs=np.arange(-90,90, 30))                 # Ad gridlines\n",
    "plt.show()"
   ]
  },
  {
   "cell_type": "markdown",
   "metadata": {},
   "source": [
    "## <font color=\"blue\"> Create a Regional Map</font>\n",
    "- Use the `set_extent` method to select the subdomain you want to map.\n",
    "\n",
    "\n",
    "```python\n",
    "  ax.set_extent([min_lon, max_lon, min_lat, max_lat])\n",
    "```\n",
    "\n",
    "#### Map of the United States of America "
   ]
  },
  {
   "cell_type": "code",
   "execution_count": null,
   "metadata": {},
   "outputs": [],
   "source": [
    "min_lon, max_lon, min_lat, max_lat = -130, -65, 24, 47\n",
    "fig, ax = plt.subplots(\n",
    "    subplot_kw={'projection': ccrs.PlateCarree()},\n",
    "    figsize=(15,12))\n",
    "ax.add_feature(land_mask)\n",
    "ax.add_feature(sea_mask)\n",
    "ax.add_feature(coastline_mask)\n",
    "ax.add_feature(cfeature.BORDERS, edgecolor='red', linewidth=2.5)\n",
    "ax.add_feature(lake_mask, alpha=0.5)\n",
    "ax.add_feature(river_mask)\n",
    "ax.add_feature(usa_state_borders)\n",
    "ax.set_extent([min_lon, max_lon, min_lat, max_lat])"
   ]
  },
  {
   "cell_type": "markdown",
   "metadata": {},
   "source": [
    "## <font color=\"green\">Breakout 1</font>\n",
    "\n",
    "Draw the map of Africa. Include the countries boundaries, lakes, rivers, land, coastline.\n",
    "\n",
    "Hint: longitude range -->(-20, 60) and latitude range -->(-40, 40)"
   ]
  },
  {
   "cell_type": "markdown",
   "metadata": {},
   "source": [
    "<details><summary><b><font color=\"green\">Click here to access the solution</font></b></summary>\n",
    "<p>\n",
    "\n",
    "```python\n",
    "min_lon, max_lon, min_lat, max_lat = -20, 60, -40, 40\n",
    "fig, ax = plt.subplots(\n",
    "    subplot_kw={'projection': ccrs.PlateCarree()},\n",
    "    figsize=(15,12))\n",
    "ax.set_extent([min_lon, max_lon, min_lat, max_lat])\n",
    "ax.stock_img()\n",
    "ax.add_feature(land_mask)\n",
    "ax.add_feature(sea_mask)\n",
    "ax.add_feature(coastline_mask)\n",
    "ax.add_feature(cfeature.BORDERS, edgecolor='red', linestyle='dotted',\n",
    "               linewidth=0.55)\n",
    "ax.add_feature(lake_mask, alpha=0.5)\n",
    "ax.add_feature(river_mask)\n",
    "```\n",
    "    \n",
    "</p>\n",
    "</details>"
   ]
  },
  {
   "cell_type": "markdown",
   "metadata": {},
   "source": [
    "# <font color=\"red\"> Overlaying Data</font>"
   ]
  },
  {
   "cell_type": "markdown",
   "metadata": {},
   "source": [
    "#### Line Plots on a Map"
   ]
  },
  {
   "cell_type": "code",
   "execution_count": null,
   "metadata": {},
   "outputs": [],
   "source": [
    "plt.figure(figsize=(9, 5))\n",
    "\n",
    "map_projection = ccrs.PlateCarree()\n",
    "\n",
    "ax = plt.axes(projection=map_projection)\n",
    "ax.stock_img()\n",
    "\n",
    "ny_lon, ny_lat = -75, 43\n",
    "delhi_lon, delhi_lat = 77.23, 28.61\n",
    "\n",
    "# Plot the two cities and draw a line between them\n",
    "# using the Geodetic data transform\n",
    "plt.plot([ny_lon, delhi_lon], [ny_lat, delhi_lat],\n",
    "         color='blue', linewidth=2, marker='o',\n",
    "         transform=ccrs.Geodetic())\n",
    "\n",
    "# Plot the two cities and draw a line between them\n",
    "# using the PlateCarree data transform\n",
    "plt.plot([ny_lon, delhi_lon], [ny_lat, delhi_lat],\n",
    "         color='gray', linestyle='--',\n",
    "         transform=ccrs.PlateCarree())\n",
    "\n",
    "# Add labels for the two cities\n",
    "plt.text(ny_lon - 3, ny_lat - 12, 'New York',\n",
    "         horizontalalignment='right',\n",
    "         transform=ccrs.Geodetic())\n",
    "\n",
    "plt.text(delhi_lon + 3, delhi_lat - 12, 'Delhi',\n",
    "         horizontalalignment='left',\n",
    "         transform=ccrs.Geodetic())\n",
    "\n",
    "plt.show()"
   ]
  },
  {
   "cell_type": "markdown",
   "metadata": {},
   "source": [
    "#### <font color=\"red\">Understanding Projection and Transform Keywords</font>\n",
    "+ The projection of your axes is independent of the coordinate system your data is defined in.\n",
    "+ The `projection` argument is used when creating plots and determines the projection of the resulting plot.\n",
    "+ You can set `projection` to any projection you like.\n",
    "+ The `transform` argument to plotting functions tells Cartopy what coordinate system your data are defined in. \n",
    "+ `transform` needs to match whatever coordinate system your data uses."
   ]
  },
  {
   "cell_type": "markdown",
   "metadata": {},
   "source": [
    "## <font color=\"blue\"> Application</font>\n",
    "\n",
    "Given a city name and location (latitude and longitude), we want to plot on the map:\n",
    "\n",
    "- The city location and its name\n",
    "- The current local time "
   ]
  },
  {
   "cell_type": "markdown",
   "metadata": {},
   "source": [
    "Uncomment the cell below if you are on Google Colab"
   ]
  },
  {
   "cell_type": "code",
   "execution_count": null,
   "metadata": {},
   "outputs": [],
   "source": [
    "#!pip install timezonefinder"
   ]
  },
  {
   "cell_type": "code",
   "execution_count": null,
   "metadata": {},
   "outputs": [],
   "source": [
    "import datetime\n",
    "import pytz\n",
    "import timezonefinder\n",
    "\n",
    "def get_local_time(latitude, longitude):\n",
    "    \"\"\"\n",
    "      Given the latitude/longitude pair, this function\n",
    "      returns the current local time at the location.\n",
    "    \"\"\"\n",
    "    tf = timezonefinder.TimezoneFinder()\n",
    "\n",
    "    # Get the tz-database-style time zone name\n",
    "    # (e.g. 'America/Vancouver') or None\n",
    "    timezone_str = tf.certain_timezone_at(lat=latitude, lng=longitude)\n",
    "\n",
    "    if timezone_str:\n",
    "       # Display the current time in that time zone\n",
    "       timezone = pytz.timezone(timezone_str)\n",
    "       dt = datetime.datetime.utcnow()\n",
    "       return (dt + timezone.utcoffset(dt)).strftime('%H:%M:%S')\n",
    "    else:\n",
    "       # Could not determine the time zone\n",
    "       return"
   ]
  },
  {
   "cell_type": "code",
   "execution_count": null,
   "metadata": {},
   "outputs": [],
   "source": [
    "paris = (2.35, 48.85, \"Paris\")\n",
    "new_york = (-73.92, 40.69, \"New York\")\n",
    "mumbai = (72.83, 28.35, \"Mumbai\")\n",
    "tokyo = (139.69, 35.68, \"Tokyo\")\n",
    "moscow = (37.36, 55.45, \"Moscow\")\n",
    "mexico_city = (-99.13, 19.43, \"Mexico City\")\n",
    "sao_paulo = (-46.63, -23.55, \"Sao Paulo\")\n",
    "yaounde = (11.50, 3.84, \"Yaounde\")\n",
    "vancouver = (-123.08, 49.32, \"Vacouver\")\n",
    "sydney = (151.20, -33.87, \"Sydney\")\n",
    "harare = (31.0, -18.0, \"Harare\")\n",
    "\n",
    "cities = [paris, new_york, mumbai, tokyo, moscow, mexico_city,\n",
    "         sao_paulo, yaounde, vancouver, sydney, harare]\n",
    "\n",
    "city_names = [city[2] for city in cities]\n",
    "city_lats = [city[1] for city in cities]\n",
    "city_lons = [city[0] for city in cities]"
   ]
  },
  {
   "cell_type": "code",
   "execution_count": null,
   "metadata": {},
   "outputs": [],
   "source": [
    "plt.figure(figsize=(17, 10))\n",
    "\n",
    "map_projection = ccrs.PlateCarree()\n",
    "\n",
    "ax = plt.axes(projection=map_projection)\n",
    "ax.stock_img()\n",
    "\n",
    "props = dict(boxstyle='round', facecolor='orange', alpha=0.5)\n",
    "\n",
    "for i in range(len(city_names)):\n",
    "    loc_time = get_local_time(city_lats[i], city_lons[i])\n",
    "    textstr = \"\\n\".join((city_names[i], loc_time))\n",
    "    plt.text(city_lons[i], city_lats[i], textstr, bbox=props,\n",
    "             transform=ccrs.Geodetic())\n",
    "\n",
    "plt.show()"
   ]
  },
  {
   "cell_type": "markdown",
   "metadata": {},
   "source": [
    "## <font color=\"blue\"> Basic Map with Geolocated Data</font>\n",
    "\n",
    "#### Using synthetic data"
   ]
  },
  {
   "cell_type": "code",
   "execution_count": null,
   "metadata": {},
   "outputs": [],
   "source": [
    "nlats, nlons = 73, 145\n",
    "lats = np.linspace(-np.pi / 2, np.pi / 2, nlats)\n",
    "lons = np.linspace(0, 2 * np.pi, nlons)\n",
    "\n",
    "# Create a mesh grid\n",
    "lons, lats = np.meshgrid(lons, lats)\n",
    "wave = 0.75 * (np.sin(2 * lats) ** 8) * np.cos(4 * lons)\n",
    "mean = 0.5 * np.cos(2 * lats) * ((np.sin(2 * lats)) ** 2 + 2)\n",
    "\n",
    "lats = np.rad2deg(lats)\n",
    "lons = np.rad2deg(lons)\n",
    "data = wave + mean"
   ]
  },
  {
   "cell_type": "code",
   "execution_count": null,
   "metadata": {},
   "outputs": [],
   "source": [
    "plt.figure(figsize=(10, 7))\n",
    "\n",
    "map_projection = ccrs.PlateCarree()\n",
    "ax = plt.axes(projection=map_projection)\n",
    "ax.contourf(lons, lats, data)\n",
    "ax.coastlines()\n",
    "ax.set_global()\n",
    "plt.show()"
   ]
  },
  {
   "cell_type": "markdown",
   "metadata": {},
   "source": [
    "#### Adding Latitude/Longitude Ticks"
   ]
  },
  {
   "cell_type": "code",
   "execution_count": null,
   "metadata": {},
   "outputs": [],
   "source": [
    "plt.figure(figsize=(10, 7))\n",
    "map_projection = ccrs.PlateCarree()\n",
    "ax = plt.axes(projection=map_projection)\n",
    "ax.contourf(lons, lats, data, cmap='RdBu')\n",
    "ax.coastlines()\n",
    "\n",
    "ax.set_xticks(np.linspace(-180, 180, 5), crs=map_projection)\n",
    "ax.set_yticks(np.linspace(-90, 90, 5), crs=map_projection)\n",
    "lon_formatter = LongitudeFormatter(zero_direction_label=True)\n",
    "lat_formatter = LatitudeFormatter()\n",
    "ax.xaxis.set_major_formatter(lon_formatter)\n",
    "ax.yaxis.set_major_formatter(lat_formatter)\n",
    "\n",
    "ax.set_global()\n",
    "plt.show()"
   ]
  },
  {
   "cell_type": "markdown",
   "metadata": {},
   "source": [
    "#### Adding Colorbar"
   ]
  },
  {
   "cell_type": "code",
   "execution_count": null,
   "metadata": {},
   "outputs": [],
   "source": [
    "fig = plt.figure(figsize=(10, 7))\n",
    "map_projection = ccrs.PlateCarree()\n",
    "ax = plt.axes(projection=map_projection)\n",
    "im = ax.contourf(lons, lats, data, cmap='RdBu', transform=map_projection)\n",
    "ax.coastlines()\n",
    "\n",
    "ax.set_xticks(np.linspace(-180, 180, 5), crs=map_projection)\n",
    "ax.set_yticks(np.linspace(-90, 90, 5), crs=map_projection)\n",
    "lon_formatter = LongitudeFormatter(zero_direction_label=True)\n",
    "lat_formatter = LatitudeFormatter()\n",
    "ax.xaxis.set_major_formatter(lon_formatter)\n",
    "ax.yaxis.set_major_formatter(lat_formatter)\n",
    "\n",
    "# Create an axes for colorbar. \n",
    "# The position of the axes is calculated based on the position of ax.\n",
    "# You can change dspace to adjust the distance between the main image and the colorbar.\n",
    "# You can change dwidth to adjust the width of the colorbar.\n",
    "# This practice is universal for both subplots and GeoAxes.\n",
    "dspace = 0.01\n",
    "dwidth = 0.02\n",
    "cax = fig.add_axes([ax.get_position().x1 + dspace,\n",
    "                    ax.get_position().y0,  dwidth,\n",
    "                    ax.get_position().height])\n",
    "plt.colorbar(im, cax=cax)\n",
    "\n",
    "\n",
    "ax.set_global()\n",
    "plt.show()"
   ]
  },
  {
   "cell_type": "code",
   "execution_count": null,
   "metadata": {},
   "outputs": [],
   "source": [
    "plt.figure(figsize=(9, 5))\n",
    "ax = plt.axes(projection=ccrs.Mollweide())\n",
    "ax.contourf(lons, lats, data, \\\n",
    "            transform=ccrs.PlateCarree(), \\\n",
    "            cmap='Spectral')\n",
    "ax.coastlines()\n",
    "ax.set_global()\n",
    "plt.show()"
   ]
  },
  {
   "cell_type": "markdown",
   "metadata": {},
   "source": [
    "### Using real data"
   ]
  },
  {
   "cell_type": "markdown",
   "metadata": {},
   "source": [
    "Use Xarray to read a remote netCDF file:"
   ]
  },
  {
   "cell_type": "code",
   "execution_count": null,
   "metadata": {},
   "outputs": [],
   "source": [
    "import xarray as xr\n",
    "import netCDF4 as nc4\n",
    "\n",
    "url=\"https://psl.noaa.gov/thredds/dodsC/Datasets/ncep.reanalysis/surface/air.sig995.2018.nc\"\n",
    "ds = xr.open_dataset(url, engine='netcdf4')"
   ]
  },
  {
   "cell_type": "markdown",
   "metadata": {},
   "source": [
    "Extract the time average air temperature and cordinate information:"
   ]
  },
  {
   "cell_type": "code",
   "execution_count": null,
   "metadata": {},
   "outputs": [],
   "source": [
    "air_temp = ds.air\n",
    "lats = air_temp['lat'].values\n",
    "lons = air_temp['lon'].values\n",
    "data = air_temp.mean(\"time\").values"
   ]
  },
  {
   "cell_type": "code",
   "execution_count": null,
   "metadata": {},
   "outputs": [],
   "source": [
    "print(f\"Shape of lons:     {lons.shape} {np.min(lons)} {np.max(lons)}\")\n",
    "print(f\"Shape of lats:     {lats.shape} {np.min(lats)} {np.max(lats)}\")\n",
    "print(f\"Shape of air temp: {data.shape}\")"
   ]
  },
  {
   "cell_type": "markdown",
   "metadata": {},
   "source": [
    "## "
   ]
  },
  {
   "cell_type": "markdown",
   "metadata": {},
   "source": [
    "Plot the air temperature using Cartopy:"
   ]
  },
  {
   "cell_type": "code",
   "execution_count": null,
   "metadata": {},
   "outputs": [],
   "source": [
    "from cartopy.util import add_cyclic_point\n",
    "\n",
    "fig = plt.figure(figsize=(10, 7))\n",
    "map_projection = ccrs.PlateCarree()\n",
    "ax = plt.axes(projection=map_projection)\n",
    "\n",
    "data, lons = add_cyclic_point(data, coord=lons)\n",
    "im = ax.contourf(lons, lats, data, cmap='RdBu')\n",
    "ax.coastlines()\n",
    "\n",
    "ax.set_xticks(np.linspace(-180, 180, 5), crs=map_projection)\n",
    "ax.set_yticks(np.linspace(-90, 90, 5), crs=map_projection)\n",
    "lon_formatter = LongitudeFormatter(zero_direction_label=True)\n",
    "lat_formatter = LatitudeFormatter()\n",
    "ax.xaxis.set_major_formatter(lon_formatter)\n",
    "ax.yaxis.set_major_formatter(lat_formatter)\n",
    "\n",
    "ax.set_global()\n",
    "\n",
    "dspace = 0.01\n",
    "dwidth = 0.02\n",
    "cax = fig.add_axes([ax.get_position().x1 + dspace,\n",
    "                    ax.get_position().y0,  dwidth,\n",
    "                    ax.get_position().height])\n",
    "plt.colorbar(im, cax=cax);"
   ]
  },
  {
   "cell_type": "markdown",
   "metadata": {},
   "source": [
    "## <font color=\"blue\"> Example: Converting a Basemap Script into a Cartopy Script</font>\n",
    "\n",
    "The main differences between Cartopy and Basemap are:\n",
    "\n",
    "1) The way they create plotting axes\n",
    "\n",
    "     - Basemap: create the Basemap instance.\n",
    "     - Cartopy: create the plotting axis by passing the projection to the axes constructor.\n",
    "\n",
    "2) The way the set the plot extent\n",
    "\n",
    "     - Basemap: pass the x,y corners of the plot either as lon,lat values for the upper right and lower left corners, or as a width and height in x,y units.\n",
    "     - Cartopy: pass the x,y corners using for instance the set_extent method."
   ]
  },
  {
   "cell_type": "markdown",
   "metadata": {},
   "source": [
    "**Basemap**\n",
    "```python\n",
    "fig = plt.figure(num=None, figsize=(8,5), facecolor='w')\n",
    "text1=''\n",
    "fig.text(0.45, 0.93, text1,color='b')\n",
    "\n",
    "cxcoord4  = [0.91, 0.2, 0.015, 0.6]\n",
    "\n",
    "m = Basemap(projection='cyl',\n",
    "            llcrnrlon=lon_1,llcrnrlat=lat_01,\n",
    "            urcrnrlon=lon_2,urcrnrlat=lat_02,\n",
    "            lat_0=cen_lat, lon_0=cen_lon, \n",
    "            lat_1=truelat1, lat_2=truelat2,\n",
    "            suppress_ticks=False)\n",
    "\n",
    "x, y = m(-98.3125, 48.8125)\n",
    "plt.plot(x, y, 'ok', markersize=5)\n",
    "x, y = m(-72.31250, 41.9375)\n",
    "plt.plot(x, y, 'ok', markersize=5)\n",
    "\n",
    "m.drawcoastlines(color='grey')\n",
    "m.drawcountries(color='grey')\n",
    "m.drawstates(color='grey')\n",
    "\n",
    "clev=np.arange(Tmin,Tmax+1,1)\n",
    "jet = plt.get_cmap('jet')\n",
    "cs = plt.contourf(lon0,lat0,var1,clev,cmap=jet,extend='neither')\n",
    "plt.title('')\n",
    "cx  = fig.add_axes(cxcoord4)\n",
    "cbar=plt.colorbar(cs,cax=cx,orientation='vertical',\n",
    "                  ticks=[1, 2, 3, 4, 5, 6, 7, 8, 9, 10, 11, 12, 13])\n",
    "```"
   ]
  },
  {
   "cell_type": "markdown",
   "metadata": {},
   "source": [
    "**Cartopy**\n",
    "```python\n",
    "def get_indices(my_array, my_list):\n",
    "    list_indices = []\n",
    "    for item in  my_list:\n",
    "        list_indices.append((np.abs(my_array - item)).argmin())\n",
    "    return list_indices\n",
    "\n",
    "ax = fig.add_subplot(1, 1, 1, projection=ccrs.PlateCarree())\n",
    "\n",
    "# Add coastline, borders and states\n",
    "ax.add_feature(cartopy.feature.COASTLINE, edgecolor='grey')\n",
    "ax.add_feature(cartopy.feature.BORDERS, edgecolor='grey')\n",
    "ax.add_feature(cartopy.feature.STATES, edgecolor='grey')\n",
    "\n",
    "# Plot specific points\n",
    "#---------------------\n",
    "i = get_indices(lon0[0,:], [-98.3125, -72.31250])\n",
    "j = get_indices(lat0[:,0], [48.8125, 41.9375])\n",
    "plt.plot(lon0[0,i],lat0[j,0], 'ok', markersize=5)\n",
    "\n",
    "# Contour plot and Colorbar\n",
    "#-------------------------\n",
    "clev=np.arange(Tmin,Tmax+1,1)\n",
    "jet = plt.get_cmap('jet')\n",
    "cs = ax.contourf(lon0, lat0, var1, clev, cmap=jet, \n",
    "                 extend='neither', \n",
    "                 transform=ccrs.PlateCarree())\n",
    "plt.title('')\n",
    "cx = fig.add_axes(cxcoord4)\n",
    "cbar = plt.colorbar(cs, cax=cx, orientation='vertical',\n",
    "                  ticks=[1, 2, 3, 4, 5, 6, 7, 8, 9, 10, 11, 12, 13])\n",
    "\n",
    "# set the extent of the plot\n",
    "#---------------------------\n",
    "ax.set_extent([lon_1, lon_2, lat_01, lat_02], \n",
    "              crs=ccrs.PlateCarree())\n",
    "\n",
    "```"
   ]
  },
  {
   "cell_type": "markdown",
   "metadata": {},
   "source": [
    "## <font color=\"green\">Breakout 2</font>\n",
    "\n",
    "Use the following:\n",
    "\n",
    "```python\n",
    "lon = np.linspace(-150, -10, 25) \n",
    "lat = np.linspace(10, 70, 25)   \n",
    "lon2d, lat2d = np.meshgrid(lon, lat)\n",
    "data = np.cos(4*np.deg2rad(lat2d)) + np.sin(4*np.deg2rad(lon2d))\n",
    "```\n",
    "\n",
    "to plot `data` on a Orthographic projection centered in Mexico."
   ]
  },
  {
   "cell_type": "markdown",
   "metadata": {},
   "source": [
    "<details><summary><b><font color=\"green\">Click here to access the solution</font></b></summary>\n",
    "<p>\n",
    "\n",
    "```python\n",
    "lon = np.linspace(-150, -10, 25) \n",
    "lat = np.linspace(10, 70, 25)   \n",
    "lon2d, lat2d = np.meshgrid(lon, lat)\n",
    "data = np.cos(4*np.deg2rad(lat2d)) + np.sin(4*np.deg2rad(lon2d))\n",
    "\n",
    "map_projection = ccrs.Orthographic(central_longitude=-99.13,\n",
    "                                   central_latitude=19.43)\n",
    "data_transform = ccrs.PlateCarree()\n",
    "plt.figure(figsize=(9, 5))\n",
    "ax = plt.axes(projection=map_projection)\n",
    "ax.contourf(lon2d, lat2d, data, \\\n",
    "            transform=data_transform, \\\n",
    "            cmap='Spectral')\n",
    "ax.coastlines()\n",
    "ax.set_global()\n",
    "```\n",
    "\n",
    "<p>\n",
    "</details>"
   ]
  },
  {
   "cell_type": "markdown",
   "metadata": {},
   "source": [
    "# <font color=\"purple\">Going Deeper: Using Bakground Images</font>\n",
    "\n",
    "- [EarthPy](http://earthpy.org/tag/cartopy.html) describes how to add background images in Cartopy.\n",
    "- The process involves:\n",
    "   - Creating a folder, say `background_images`.\n",
    "   - Moving all the background image files in the folder.\n",
    "   - Create in the folder the json file `images.json` that lists all the image files of interest.\n",
    "   - Define the environment variable `CARTOPY_USER_BACKGROUNDS` pointing to the location of the folder.\n",
    "   \n",
    "After the above setting is done, you can now use any background image registered in `images.json` using the `background_img()` function.\n",
    "\n",
    "**Only images with the `PlateCarree()` map projection can be used.**"
   ]
  },
  {
   "cell_type": "code",
   "execution_count": null,
   "metadata": {},
   "outputs": [],
   "source": [
    "!ls background_images"
   ]
  },
  {
   "cell_type": "code",
   "execution_count": null,
   "metadata": {},
   "outputs": [],
   "source": [
    "!cat background_images/images.json"
   ]
  },
  {
   "cell_type": "markdown",
   "metadata": {},
   "source": [
    "Set the environment variable pointing to the location where the imeages are:"
   ]
  },
  {
   "cell_type": "code",
   "execution_count": null,
   "metadata": {},
   "outputs": [],
   "source": [
    "import os\n",
    "os.environ[\"CARTOPY_USER_BACKGROUNDS\"] = \"./background_images/\""
   ]
  },
  {
   "cell_type": "markdown",
   "metadata": {},
   "source": [
    "#### Plot various background images"
   ]
  },
  {
   "cell_type": "code",
   "execution_count": null,
   "metadata": {},
   "outputs": [],
   "source": [
    "plt.figure(figsize=(13,6.2))\n",
    "    \n",
    "ax = plt.subplot(111, projection=ccrs.PlateCarree())\n",
    "ax.background_img(name='BM', resolution='high')\n",
    "ax.coastlines(resolution='110m');"
   ]
  },
  {
   "cell_type": "code",
   "execution_count": null,
   "metadata": {},
   "outputs": [],
   "source": [
    "plt.figure(figsize=(13,6.2))\n",
    "    \n",
    "ax = plt.subplot(111, projection=ccrs.PlateCarree())\n",
    "ax.background_img(name='BM_topo', resolution='high')\n",
    "ax.coastlines(resolution='110m');"
   ]
  },
  {
   "cell_type": "code",
   "execution_count": null,
   "metadata": {},
   "outputs": [],
   "source": [
    "plt.figure(figsize=(13,6.2))\n",
    "    \n",
    "ax = plt.subplot(111, projection=ccrs.PlateCarree())\n",
    "ax.background_img(name='EOBM', resolution='high')\n",
    "ax.coastlines(resolution='110m');"
   ]
  },
  {
   "cell_type": "code",
   "execution_count": null,
   "metadata": {},
   "outputs": [],
   "source": [
    "plt.figure(figsize=(13,6.2))\n",
    "    \n",
    "ax = plt.subplot(111, projection=ccrs.PlateCarree())\n",
    "ax.background_img(name='shallow_topo', resolution='high')\n",
    "ax.coastlines(resolution='110m');"
   ]
  },
  {
   "cell_type": "code",
   "execution_count": null,
   "metadata": {},
   "outputs": [],
   "source": []
  },
  {
   "cell_type": "code",
   "execution_count": null,
   "metadata": {},
   "outputs": [],
   "source": [
    "fig = plt.figure(figsize=(10, 7))\n",
    "ax = fig.add_subplot(1, 1, 1,\n",
    "                     projection=ccrs.PlateCarree())\n",
    "\n",
    "ax.background_img(name='shallow_topo', resolution='high')\n",
    "ax.scatter(x, y)\n",
    "ax.coastlines();"
   ]
  },
  {
   "cell_type": "code",
   "execution_count": null,
   "metadata": {},
   "outputs": [],
   "source": []
  },
  {
   "cell_type": "markdown",
   "metadata": {},
   "source": [
    "<font color=\"blue\">Satellite Image</font>"
   ]
  },
  {
   "cell_type": "markdown",
   "metadata": {},
   "source": [
    "```\n",
    "# Get the remote file\n",
    "from urllib.request import urlopen\n",
    "from PIL import Image\n",
    "url = \"https://lance-modis.eosdis.nasa.gov/imagery/gallery/2012270-0926/Miriam.A2012270.2050.2km.jpg\"\n",
    "\n",
    "\n",
    "img = Image.open(urlopen(url))\n",
    "\n",
    "print(\"Type of object: \", type(img))\n",
    "print(\"Image size:     \", img.size)\n",
    "```"
   ]
  },
  {
   "cell_type": "markdown",
   "metadata": {},
   "source": [
    "**Information on the file:** <a href=\"https://lance.modaps.eosdis.nasa.gov/imagery/gallery/2012270-0926/Miriam.A2012270.2050.txt\">Tropical Storm Miriam (13E) off Mexico</a>\n",
    " \n",
    "| Key  | Value |\n",
    "| --- | --- |\n",
    "| region | Pa | \n",
    "| sat | Aqua | \n",
    "| projection |Plate Carree | \n",
    "| projection center lon |-113.5000 | \n",
    "| projection center lat | +22.0000 | \n",
    "| image center lon | -113.5 | \n",
    "| image center lat | +22 | \n",
    "| standard parallel | +20.0000 | \n",
    "| UL lon |-120.6766 | \n",
    "| UL lat |+30.7669 | \n",
    "| UR lon | -106.3210 | \n",
    "| UR lat | +30.7669 | \n",
    "| LR lon | -106.3210 | \n",
    "| LR lat | +13.2301 | \n",
    "| LL lon | -120.6766 | \n",
    "| LL lat | +13.2301 | \n",
    "| UL easting (km) | -749.8750 | \n",
    "| UL northing (km) | +3421.1250 | \n",
    "| x scale factor | +0.9396926207859084 | \n",
    "| ellipsoid | WGS84 | \n",
    "| Contact | Jeff Schmaltz | \n",
    "| L2 granules | A122702045 A122702050 | "
   ]
  },
  {
   "cell_type": "markdown",
   "metadata": {},
   "source": [
    "```\n",
    "fig = plt.figure(figsize=(8, 12))\n",
    "\n",
    "img_extent = (-120.67660000000001, -106.32104523100001, \\\n",
    "              13.2301484511245, 30.766899999999502)\n",
    "\n",
    "ax = plt.axes(projection=ccrs.PlateCarree())\n",
    "\n",
    "# set a margin around the data\n",
    "ax.set_xmargin(0.05)\n",
    "ax.set_ymargin(0.10)\n",
    "\n",
    "# add the image. Because this image was a tif, the \"origin\" of \n",
    "# the image is in the\n",
    "# upper left corner\n",
    "ax.imshow(img, origin='upper', extent=img_extent, \\\n",
    "          transform=ccrs.PlateCarree())\n",
    "ax.coastlines(resolution='50m', color='black', linewidth=1)\n",
    "\n",
    "# mark a known place to help us geo-locate ourselves\n",
    "ax.plot(-117.1625, 32.715, 'bo', markersize=7, transform=ccrs.Geodetic())\n",
    "ax.text(-117, 33, 'San Diego', transform=ccrs.Geodetic())\n",
    "```"
   ]
  },
  {
   "cell_type": "markdown",
   "metadata": {},
   "source": [
    "# <font color=\"red\"> Cartopy and Shapefile Files</font>\n",
    "\n",
    "## What is Shapefile?\n",
    "\n",
    "- Shapefiles are the most common vector data format. \n",
    "- A shapefile contains spatial information in a particular format and is used commonly in GIS applications. \n",
    "- It contains information like the polygons describing counties, countries, or other political boundaries; lakes, rivers, or bays; or land and coastline. \n",
    "- Shapefiles are commonly available online through local or federal agencies for geometric data on public lands and waterways.\n",
    "\n",
    "## Shapefile Format\n",
    "\n",
    "A shapefile record has a geometry, which contains the points that make up the objects, and attributes, which store information like the name of the record.\n",
    "\n",
    "* Is a digital vector storage format for storing geometric location and associated attribute information.\n",
    "* Geographic features in a shapefile can be represented by points, lines, or polygons (areas).\n",
    "* Is non-topological. It does not maintain spatial relationship information such as connectivity, adjacency, and area definition.\n",
    "* Because the structure of points, lines, and polygons are different, each individual shapefile can only contain one vector type (all points, all lines or all polygons). You will not find a mixture of point, line and polygon objects in a single shapefile.\n",
    "\n",
    "\n",
    "#### Representation of the geographic features of a shapefile\n",
    "\n",
    "![features](https://www.earthdatascience.org/images/courses/earth-analytics/spatial-data/points-lines-polygons-vector-data-types.png)\n",
    "Image Source: Colin Williams (NEON)\n",
    "\n",
    "\n",
    "## Content of Shapefile Files\n",
    "\n",
    "Every shapefile data set includes at least three files:\n",
    "\n",
    "* `.shp`: The main file that contains the primary geographic reference data and records of various shape types included, such as points, polygons, or multipatches.\n",
    "* `.dbf`: The dBase file that stores attributes for each shape/geometry. It alows quicker access to the spatial features of the data.\n",
    "* `.shx`: Organize the records of a shapefile for reference. It helps link the attributes to the shape.\n",
    "\n",
    "These files need to have the same name and to be stored in the same directory (folder).\n",
    "\n",
    "Sometimes, a shapefile will have other associated files including:\n",
    "\n",
    "* `.prj`: Contains information on projection format including the coordinate system and projection information. It is a plain text file describing the projection using well-known text (WKT) format.\n",
    "* `.sbn` and `.sbx`: the files that are a spatial index of the features.\n",
    "* `.shp.xml`: the file that is the geospatial metadata in XML format, (e.g. ISO 19115 or XML format).\n",
    "\n",
    "#### Spatial Data Attributes\n",
    "\n",
    "- Each object in a shapefile has one or more attributes associated with it. \n",
    "- Shapefile attributes are similar to fields or columns in a spreadsheet. \n",
    "- Each row in the spreadsheet has a set of columns associated with it that describe the row element.\n",
    "- Attribute data are stored in the `.dbf` file. \n",
    "\n",
    "![attributes](https://www.earthdatascience.org/images/courses/earth-analytics/spatial-data/spatial-attribute-tables.png)\n",
    "Image Source: National Ecological Observatory Network (NEON)"
   ]
  },
  {
   "cell_type": "markdown",
   "metadata": {},
   "source": [
    "## <font color=\"blue\">Using Shapely Geometry</font>"
   ]
  },
  {
   "cell_type": "markdown",
   "metadata": {},
   "source": [
    "#### Draw points"
   ]
  },
  {
   "cell_type": "code",
   "execution_count": null,
   "metadata": {},
   "outputs": [],
   "source": [
    "list_points = [(a, b) for a, b in zip(x, y)]"
   ]
  },
  {
   "cell_type": "code",
   "execution_count": null,
   "metadata": {},
   "outputs": [],
   "source": [
    "Points = shpgeom.MultiPoint(list_points)\n",
    "Points"
   ]
  },
  {
   "cell_type": "markdown",
   "metadata": {},
   "source": [
    "- To plot Shapely points on a map, you need to extract the `x` and `y` coordinate values out of the geometry and passing these straight on to scatter with the appropriate transform."
   ]
  },
  {
   "cell_type": "code",
   "execution_count": null,
   "metadata": {},
   "outputs": [],
   "source": [
    "fig = plt.figure(figsize=(10, 7))\n",
    "ax = fig.add_subplot(1, 1, 1,\n",
    "                     projection=ccrs.PlateCarree())\n",
    "\n",
    "ax.background_img(name='shallow_topo', resolution='high')\n",
    "ax.scatter([point.x for point in Points],\n",
    "           [point.y for point in Points],\n",
    "           transform=ccrs.PlateCarree())\n",
    "\n",
    "ax.coastlines();"
   ]
  },
  {
   "cell_type": "markdown",
   "metadata": {},
   "source": [
    "#### Draw a line between two arbitrary points"
   ]
  },
  {
   "cell_type": "code",
   "execution_count": null,
   "metadata": {},
   "outputs": [],
   "source": [
    "pt1 = list(Points)[13]\n",
    "pt2 = list(Points)[59]\n",
    "line = shpgeom.LineString([pt1, pt2])\n",
    "line"
   ]
  },
  {
   "cell_type": "code",
   "execution_count": null,
   "metadata": {},
   "outputs": [],
   "source": [
    "print(line)"
   ]
  },
  {
   "cell_type": "markdown",
   "metadata": {},
   "source": [
    "We need to use the `add_geometries` function:\n",
    "```python\n",
    "axes.add_geometries(shapelyGeometries, CartopyCRS, **kwargs)\n",
    "```\n",
    "\n",
    "- It adds a give Shapely geometry to the **Axes**.\n",
    "- It turns a geometry into a polygon and then colours it appropriately.\n",
    "- When you pass points the `add_geometries`, the polygons are not visible. We recommend not using it for Shapely Point objects."
   ]
  },
  {
   "cell_type": "code",
   "execution_count": null,
   "metadata": {},
   "outputs": [],
   "source": [
    "fig = plt.figure(figsize=(10, 7))\n",
    "ax = fig.add_subplot(1, 1, 1,\n",
    "                     projection=ccrs.PlateCarree())\n",
    "\n",
    "ax.background_img(name='shallow_topo', resolution='high')\n",
    "\n",
    "ax.scatter([point.x for point in Points],\n",
    "           [point.y for point in Points],\n",
    "           transform=ccrs.PlateCarree())\n",
    "\n",
    "ax.add_geometries([line], ccrs.PlateCarree(), edgecolor=\"r\")\n",
    "\n",
    "ax.coastlines();"
   ]
  },
  {
   "cell_type": "markdown",
   "metadata": {},
   "source": [
    "#### Draw a polygon"
   ]
  },
  {
   "cell_type": "code",
   "execution_count": null,
   "metadata": {},
   "outputs": [],
   "source": [
    "my_box = [(-160, 80), (-160, -80), (0, -80), (0, 80)]\n",
    "poly = shpgeom.Polygon(my_box)\n",
    "poly"
   ]
  },
  {
   "cell_type": "markdown",
   "metadata": {},
   "source": [
    "- The `add_geometries` turns a geometry into a polygon and then colours it appropriately.\n",
    "- When you pass points the `add_geometries`, the polygons are not visible."
   ]
  },
  {
   "cell_type": "code",
   "execution_count": null,
   "metadata": {},
   "outputs": [],
   "source": [
    "fig = plt.figure(figsize=(10, 7))\n",
    "ax = fig.add_subplot(1, 1, 1,\n",
    "                     projection=ccrs.PlateCarree())\n",
    "\n",
    "ax.background_img(name='shallow_topo', resolution='high')\n",
    "ax.scatter([point.x for point in Points],\n",
    "           [point.y for point in Points],\n",
    "           transform=ccrs.PlateCarree())\n",
    "ax.add_geometries([poly], ccrs.PlateCarree(), facecolor=\"none\", edgecolor=\"r\")\n",
    "\n",
    "ax.coastlines();"
   ]
  },
  {
   "cell_type": "markdown",
   "metadata": {},
   "source": [
    "### Simple application: track of a hurricane"
   ]
  },
  {
   "cell_type": "code",
   "execution_count": null,
   "metadata": {},
   "outputs": [],
   "source": [
    "lons = [-75.1, -75.7, -76.2, -76.5, -76.9, -77.7, -78.4, -79.0,\n",
    "        -79.6, -80.1, -80.3, -81.3, -82.0, -82.6, -83.3, -84.0,\n",
    "        -84.7, -85.3, -85.9, -86.7, -87.7, -88.6, -89.2, -89.6,\n",
    "        -89.6, -89.6, -89.6, -89.6, -89.1, -88.6, -88.0, -87.0,\n",
    "        -85.3, -82.9]\n",
    "\n",
    "lats = [23.1, 23.4, 23.8, 24.5, 25.4, 26.0, 26.1, 26.2, 26.2, 26.0,\n",
    "        25.9, 25.4, 25.1, 24.9, 24.6, 24.4, 24.4, 24.5, 24.8, 25.2,\n",
    "        25.7, 26.3, 27.2, 28.2, 29.3, 29.5, 30.2, 31.1, 32.6, 34.1,\n",
    "        35.6, 37.0, 38.6, 40.1]\n",
    "\n",
    "# turn the lons and lats into a shapely LineString\n",
    "track = shpgeom.LineString(zip(lons, lats))\n",
    "\n",
    "# buffer the linestring by two degrees (note: this is a non-physical\n",
    "# distance)\n",
    "track_buffer = track.buffer(2)"
   ]
  },
  {
   "cell_type": "code",
   "execution_count": null,
   "metadata": {},
   "outputs": [],
   "source": [
    "fig = plt.figure(figsize=(10, 7))\n",
    "ax = fig.add_subplot(1, 1, 1,\n",
    "                     projection=ccrs.LambertConformal())\n",
    "\n",
    "ax.set_extent([-125, -66.5, 15, 50], ccrs.Geodetic())\n",
    "\n",
    "ax.add_geometries([track_buffer], ccrs.PlateCarree(),\n",
    "                      facecolor='#C8A2C8', alpha=0.5)\n",
    "ax.add_geometries([track], ccrs.PlateCarree(),\n",
    "                      facecolor='none')\n",
    "ax.coastlines()\n",
    "ax.add_feature(cartopy.feature.STATES)\n",
    "ax.add_feature(cartopy.feature.LAND);"
   ]
  },
  {
   "cell_type": "markdown",
   "metadata": {},
   "source": [
    "## <font color=\"blue\">Using Shapefile Files</font>\n",
    "\n",
    "- We have a collection of shapefile files covering the country of Belgium.\n",
    "- We want to map all the countries in Europe and color all the counties in Belgium."
   ]
  },
  {
   "cell_type": "markdown",
   "metadata": {},
   "source": [
    "#### Obtain the remote shapefile files:"
   ]
  },
  {
   "cell_type": "code",
   "execution_count": null,
   "metadata": {},
   "outputs": [],
   "source": [
    "import urllib.request\n",
    "\n",
    "url = 'https://raw.githubusercontent.com/astg606/py_materials/master/visualization/borders/'\n",
    "\n",
    "file_list = [\"BEL_adm3.csv\", \"BEL_adm3.dbf\", \n",
    "             \"BEL_adm3.prj\", \"BEL_adm3.shp\", \"BEL_adm3.shx\"]\n",
    "\n",
    "for file in file_list:\n",
    "    urllib.request.urlretrieve(url+file, file)"
   ]
  },
  {
   "cell_type": "code",
   "execution_count": null,
   "metadata": {},
   "outputs": [],
   "source": [
    "!ls -lrt BEL_adm3*"
   ]
  },
  {
   "cell_type": "markdown",
   "metadata": {},
   "source": [
    "#### Get the shapes (from the `.shp` file) and records (from the `.dbf` file):"
   ]
  },
  {
   "cell_type": "code",
   "execution_count": null,
   "metadata": {},
   "outputs": [],
   "source": [
    "reader = shapereader.Reader('BEL_adm3.shp')\n",
    "reader"
   ]
  },
  {
   "cell_type": "markdown",
   "metadata": {},
   "source": [
    "- The read shapefile method allows you to call the shapefile's shapes and info. \n",
    "- Both are lists, the first containing a list of tuples (coordinates), and the second containig a dictionary with associated metadata."
   ]
  },
  {
   "cell_type": "code",
   "execution_count": null,
   "metadata": {},
   "outputs": [],
   "source": [
    "counties = reader.records()\n",
    "counties"
   ]
  },
  {
   "cell_type": "code",
   "execution_count": null,
   "metadata": {},
   "outputs": [],
   "source": [
    "county = next(counties)\n",
    "county"
   ]
  },
  {
   "cell_type": "code",
   "execution_count": null,
   "metadata": {},
   "outputs": [],
   "source": [
    "for key in county.attributes:\n",
    "    print(f\"{key} --> {county.attributes[key]:>}\")"
   ]
  },
  {
   "cell_type": "code",
   "execution_count": null,
   "metadata": {},
   "outputs": [],
   "source": [
    "for county in reader.records():\n",
    "    print(f\"{county.attributes['NAME_2']} --> {county.attributes['VARNAME_3']}\")"
   ]
  },
  {
   "cell_type": "markdown",
   "metadata": {},
   "source": [
    "#### Color the counties/provinces in Belgium"
   ]
  },
  {
   "cell_type": "code",
   "execution_count": null,
   "metadata": {},
   "outputs": [],
   "source": [
    "subplot_kw = dict(projection=ccrs.PlateCarree())\n",
    "\n",
    "fig, ax = plt.subplots(figsize=(13, 11),\n",
    "                       subplot_kw=subplot_kw)\n",
    "\n",
    "# Create a map of Europe\n",
    "#---------------------------\n",
    "lower_lon = -5.0\n",
    "upper_lon = 15.\n",
    "lower_lat = 45.\n",
    "upper_lat = 54.\n",
    "\n",
    "ax.set_extent([lower_lon, upper_lon, lower_lat, upper_lat])\n",
    "\n",
    "# Add natural earth features and borders\n",
    "ax.add_feature(cartopy.feature.BORDERS, linestyle='-', alpha=0.8)\n",
    "ax.add_feature(cartopy.feature.OCEAN, facecolor=(\"lightblue\"))\n",
    "ax.add_feature(cartopy.feature.LAND, facecolor=(\"lightgreen\"), alpha=0.35)\n",
    "ax.coastlines(resolution='10m')\n",
    "\n",
    "reader = shapereader.Reader('BEL_adm3.shp')\n",
    "\n",
    "# Plots the shapes as Polygons with a random facecolor\n",
    "for county in reader.geometries():\n",
    "    ax.add_geometries([county], ccrs.PlateCarree(), \n",
    "                      facecolor=cm.jet(np.random.rand()), \n",
    "                      edgecolor='black')\n",
    "    \n",
    "plt.show()"
   ]
  },
  {
   "cell_type": "markdown",
   "metadata": {},
   "source": [
    "## <font color=\"blue\">Cartopy and the Natural Earth Dataset</font>\n",
    "\n",
    "* Cartopy provides an interface for access to frequently used data such as the <a href=\"https://www.ngdc.noaa.gov/mgg/shorelines/gshhs.html\">GSHHS</a> dataset and from the <a href=\"http://www.naturalearthdata.com\">NaturalEarthData</a> website. \n",
    "* These interfaces allow the user to define the data programmatically, and if the data does not exist on disk, it will be retrieved from the appropriate source (normally by downloading the data from the internet)."
   ]
  },
  {
   "cell_type": "markdown",
   "metadata": {},
   "source": []
  },
  {
   "cell_type": "markdown",
   "metadata": {},
   "source": [
    "**To acquire the countries dataset from Natural Earth, we may use:**"
   ]
  },
  {
   "cell_type": "code",
   "execution_count": null,
   "metadata": {},
   "outputs": [],
   "source": [
    "shpfilename = shapereader.natural_earth(resolution='110m', \n",
    "                                        category='cultural', \n",
    "                                        name='admin_0_countries')"
   ]
  },
  {
   "cell_type": "markdown",
   "metadata": {},
   "source": [
    "- The function `Reader` provides an interface for accessing the contents of a shapefile. \n",
    "- It returns an instance that has two primary methods:\n",
    "   - `geometries()`: Returns an iterator of shapely geometries from the shapefile.\n",
    "   - `records()`: Returns an iterator of Record (entry of the file that combines attributes with their associated geometry) instances."
   ]
  },
  {
   "cell_type": "code",
   "execution_count": null,
   "metadata": {},
   "outputs": [],
   "source": [
    "reader = shapereader.Reader(shpfilename)\n",
    "reader"
   ]
  },
  {
   "cell_type": "code",
   "execution_count": null,
   "metadata": {},
   "outputs": [],
   "source": [
    "countries = reader.records()\n",
    "countries"
   ]
  },
  {
   "cell_type": "code",
   "execution_count": null,
   "metadata": {},
   "outputs": [],
   "source": [
    "country = next(countries)\n",
    "country"
   ]
  },
  {
   "cell_type": "code",
   "execution_count": null,
   "metadata": {},
   "outputs": [],
   "source": [
    "print(type(country.attributes))"
   ]
  },
  {
   "cell_type": "code",
   "execution_count": null,
   "metadata": {},
   "outputs": [],
   "source": [
    "for key in country.attributes:\n",
    "    print(f\"{key} --> {country.attributes[key]:>}\")"
   ]
  },
  {
   "cell_type": "markdown",
   "metadata": {},
   "source": [
    "Get the country bounding box:"
   ]
  },
  {
   "cell_type": "code",
   "execution_count": null,
   "metadata": {},
   "outputs": [],
   "source": [
    "lon_min, lat_min, lon_max, lat_max = country.bounds\n",
    "print(lon_min, lat_min, lon_max, lat_max)"
   ]
  },
  {
   "cell_type": "markdown",
   "metadata": {},
   "source": [
    "Loop over all the countries and print each country name:"
   ]
  },
  {
   "cell_type": "code",
   "execution_count": null,
   "metadata": {},
   "outputs": [],
   "source": [
    "countries = reader.records()\n",
    "\n",
    "for i, country in enumerate(countries, start=1):\n",
    "    name = country.attributes['NAME']\n",
    "    continent = country.attributes['CONTINENT']\n",
    "    if i < 30:\n",
    "        print(f\"{i:>4}. {name:<25} --> {continent}\")"
   ]
  },
  {
   "cell_type": "markdown",
   "metadata": {},
   "source": [
    "Only print the countries in South America:"
   ]
  },
  {
   "cell_type": "code",
   "execution_count": null,
   "metadata": {},
   "outputs": [],
   "source": [
    "countries = reader.records()\n",
    "i = 0\n",
    "for country in countries:   \n",
    "    continent = country.attributes['CONTINENT']\n",
    "    if continent == \"South America\":\n",
    "        i += 1\n",
    "        name = country.attributes['NAME']\n",
    "        print(f\"{i:>4}. {name} \\n\\t {country.bounds}\")"
   ]
  },
  {
   "cell_type": "markdown",
   "metadata": {},
   "source": [
    "We could now find the 5 least populated countries with:"
   ]
  },
  {
   "cell_type": "code",
   "execution_count": null,
   "metadata": {},
   "outputs": [],
   "source": [
    "# define a function which returns the population given the country\n",
    "population = lambda country: country.attributes['POP_EST']\n",
    "\n",
    "# sort the countries by population and get the first 5\n",
    "countries_by_pop = sorted(reader.records(), key=population)[:5]\n",
    "\n",
    "for country in countries_by_pop:\n",
    "    print(f\"{country.attributes['NAME']:>25} --> {country.attributes['POP_EST']}\")"
   ]
  },
  {
   "cell_type": "markdown",
   "metadata": {},
   "source": [
    "## <font color=\"green\"> Breakout 3</font>\n",
    "\n",
    "Find the 5 most populated Asian countries."
   ]
  },
  {
   "cell_type": "markdown",
   "metadata": {},
   "source": [
    "<details><summary><b><font color=\"green\">Click here to access the solution</font></b></summary>\n",
    "<p>\n",
    "\n",
    "```python\n",
    "population = lambda country: country.attributes['POP_EST']\n",
    "\n",
    "# sort the countries by population\n",
    "countries_by_pop = sorted(reader.records(), key=population, reverse=True)\n",
    "\n",
    "i = 0\n",
    "for country in countries_by_pop:\n",
    "    if country.attributes['CONTINENT'] == 'Asia':\n",
    "        i += 1\n",
    "        print(f\"{i}. {country.attributes['NAME']:<11} --> {country.attributes['POP_EST']}\")\n",
    "    if i > 4:\n",
    "        break\n",
    "```\n",
    "    \n",
    "</details>"
   ]
  },
  {
   "cell_type": "markdown",
   "metadata": {},
   "source": [
    "## <font color=\"green\"> Breakout 4</font>\n",
    "\n",
    "- Find the most populated country grouped by the first letter of their name. \n",
    "- Print the name of the country and the population of that country.\n",
    "\n",
    "Consider using the function [itertools.groupby()](https://docs.python.org/3/library/itertools.html#itertools.groupby)."
   ]
  },
  {
   "cell_type": "markdown",
   "metadata": {},
   "source": [
    "<details><summary><b><font color=\"green\">Click here to access the solution</font></b></summary>\n",
    "<p>\n",
    "\n",
    "```python\n",
    "from itertools import groupby\n",
    "\n",
    "pop_function = lambda country: country.attributes['POP_EST']\n",
    "name_function = lambda country: country.attributes['NAME']\n",
    "\n",
    "# sort the countries by population\n",
    "countries_by_pop = sorted(reader.records(), key=pop_function, \n",
    "                          reverse=True)\n",
    "countries_by_name = sorted(reader.records(), key=name_function, \n",
    "                           reverse=True)\n",
    "d = dict()\n",
    "for k, g in groupby(countries_by_name, pop_function):\n",
    "    name = str(list(g)[0].attributes['NAME'])\n",
    "    if name[0] in d.keys():\n",
    "        if k > d[name[0]][0]:\n",
    "           d[name[0]] = list((k, name))\n",
    "    else:\n",
    "        d[name[0]] = list((k, name))\n",
    "  \n",
    "for k in sorted(d):\n",
    "    print(f\"{d[k][1]:>25} -> {d[k][0]:>10}\")\n",
    "```\n",
    "    \n",
    "</details>"
   ]
  },
  {
   "cell_type": "markdown",
   "metadata": {},
   "source": [
    "#### EXAMPLE: Map the Globe and Color the United States"
   ]
  },
  {
   "cell_type": "code",
   "execution_count": null,
   "metadata": {},
   "outputs": [],
   "source": [
    "countries = reader.records()"
   ]
  },
  {
   "cell_type": "code",
   "execution_count": null,
   "metadata": {},
   "outputs": [],
   "source": [
    "ax = plt.axes(projection=ccrs.PlateCarree())\n",
    "ax.add_feature(cartopy.feature.OCEAN)\n",
    " \n",
    "ax.set_extent([-130, -65, 24, 47])\n",
    "    \n",
    "ax = plt.axes(projection=ccrs.PlateCarree())\n",
    "ax.add_feature(cartopy.feature.OCEAN)\n",
    " \n",
    "#ax.set_extent([-130, -65, 24, 47])\n",
    " \n",
    "for country in countries:\n",
    "    if country.attributes['ADM0_A3_US'] == 'USA': \n",
    "        facecolor = (0, 0, 1)\n",
    "    else:\n",
    "        facecolor = (0, 1, 0)\n",
    "        \n",
    "    geometry = country.geometry\n",
    "    if geometry.geom_type=='MultiPolygon':\n",
    "        ax.add_geometries(geometry,\n",
    "                          ccrs.PlateCarree(), \n",
    "                          facecolor=facecolor,\n",
    "                          label=country.attributes['ADM0_A3'])\n",
    "    elif geometry.geom_type=='Polygon': \n",
    "        ax.add_geometries([geometry],\n",
    "                          ccrs.PlateCarree(), \n",
    "                          facecolor=facecolor,\n",
    "                          label=country.attributes['ADM0_A3'])\n",
    "    else:\n",
    "        pass"
   ]
  },
  {
   "cell_type": "markdown",
   "metadata": {},
   "source": [
    "#### EXAMPLE: Select the country Cameroon, color each of its administrative region with a different color, print the name of each region "
   ]
  },
  {
   "cell_type": "code",
   "execution_count": null,
   "metadata": {},
   "outputs": [],
   "source": [
    "from matplotlib.colors import cnames\n",
    "import matplotlib.patheffects as PathEffects\n",
    "import cartopy.feature as cfeature\n",
    "from cartopy.mpl.gridliner import LONGITUDE_FORMATTER, LATITUDE_FORMATTER\n",
    "\n",
    "# Read the Natural Earth shapefile dataset\n",
    "#----------------------------------\n",
    "kw = dict(resolution='10m', category='cultural', \\\n",
    "          name='admin_1_states_provinces')\n",
    "states_shp = shapereader.natural_earth(**kw)\n",
    "shp = shapereader.Reader(states_shp)\n",
    "\n",
    "data_proj = ccrs.PlateCarree()\n",
    " \n",
    "# Select the map projection\n",
    "#----------------------\n",
    "subplot_kw = dict(projection=ccrs.PlateCarree())\n",
    " \n",
    "fig, ax = plt.subplots(figsize=(7, 11), subplot_kw=subplot_kw)\n",
    " \n",
    "# Select the area that includes Cameroon\n",
    "#----------------------------------\n",
    "ax.set_extent([7.85, 17.05, 1.475, 13.50])\n",
    "\n",
    "ax.background_patch.set_visible(False)\n",
    "ax.outline_patch.set_visible(False)\n",
    " \n",
    "# Get from Matplotlib a list of colors\n",
    "#------------------------------\n",
    "colors = list(cnames.keys())\n",
    "len_colors = len(colors)\n",
    " \n",
    "k = 0\n",
    "for record, province in zip(shp.records(), shp.geometries()):\n",
    "    if record.attributes['admin'] == 'Cameroon':\n",
    "        prov_name = record.attributes['name']\n",
    "        prov_centroid = province.centroid\n",
    "        clat = prov_centroid.y\n",
    "        clon = prov_centroid.x\n",
    "        if k+1 == len_colors:\n",
    "            k = 0\n",
    "        else:\n",
    "            k += 1\n",
    "        facecolor = colors[k]\n",
    "        ax.add_geometries([province], ccrs.PlateCarree(), \\\n",
    "                      facecolor=facecolor, edgecolor='black')\n",
    "        ax.text(clon, clat, prov_name, size=7, \n",
    "                transform=data_proj, ha=\"center\", va=\"center\",\n",
    "                path_effects=[PathEffects.withStroke(linewidth=5, \n",
    "                                                     foreground=\"w\")]\n",
    "               )              \n",
    "    else:\n",
    "        pass"
   ]
  },
  {
   "cell_type": "markdown",
   "metadata": {},
   "source": [
    "## <font color=\"green\"> Breakout 5</font>\n",
    "Draw the USA map and randomly color each state.\n",
    "\n",
    "You may want to use:\n",
    "\n",
    "```python\n",
    "shapename = 'admin_1_states_provinces_lakes'\n",
    "states_shp = shapereader.natural_earth(resolution='110m',\n",
    "                                       category='cultural',\n",
    "                                       name=shapename)\n",
    "\n",
    "reader = shapereader.Reader(states_shp)\n",
    "```"
   ]
  },
  {
   "cell_type": "markdown",
   "metadata": {},
   "source": [
    "<details><summary><b><font color=\"green\">Click here to access the solution</font></b></summary>\n",
    "<p>\n",
    "\n",
    "```python\n",
    "shapename = 'admin_1_states_provinces_lakes'\n",
    "states_shp = shapereader.natural_earth(resolution='110m',\n",
    "                                       category='cultural',\n",
    "                                       name=shapename)\n",
    "shp = shapereader.Reader(states_shp)\n",
    "\n",
    "reader = shapereader.Reader(states_shp)\n",
    "\n",
    "subplot_kw = dict(projection=ccrs.PlateCarree())\n",
    "fig, ax = plt.subplots(figsize=(20, 15), subplot_kw=subplot_kw)\n",
    " \n",
    "ax.set_extent([-130, -65, 24, 47])\n",
    "\n",
    "ax.background_patch.set_visible(False)\n",
    "ax.outline_patch.set_visible(False)\n",
    " \n",
    "# Get from Matplotlib a list of colors\n",
    "#------------------------------\n",
    "colors = list(cnames.keys())\n",
    "len_colors = len(colors)\n",
    "\n",
    "k = 0\n",
    "for record, state in zip(reader.records(), reader.geometries()):\n",
    "    state_name = record.attributes['name']\n",
    "    state_centroid = state.centroid\n",
    "    clat = state_centroid.y\n",
    "    clon = state_centroid.x\n",
    "    if k+1 == len_colors:\n",
    "        k = 0\n",
    "    else:\n",
    "        k += 1\n",
    "    facecolor = colors[k]\n",
    "    ax.add_geometries([state], ccrs.PlateCarree(),\n",
    "                      facecolor=facecolor, edgecolor='black')\n",
    "    ax.text(clon, clat, state_name, size=7, \n",
    "            transform=data_proj, ha=\"center\", va=\"center\",\n",
    "            path_effects=[PathEffects.withStroke(linewidth=5, \n",
    "                                                 foreground=\"w\")]\n",
    "            ) \n",
    "```\n",
    "\n",
    "<p>\n",
    "</details>"
   ]
  }
 ],
 "metadata": {
  "anaconda-cloud": {},
  "kernelspec": {
   "display_name": "Python 3 (ipykernel)",
   "language": "python",
   "name": "python3"
  },
  "language_info": {
   "codemirror_mode": {
    "name": "ipython",
    "version": 3
   },
   "file_extension": ".py",
   "mimetype": "text/x-python",
   "name": "python",
   "nbconvert_exporter": "python",
   "pygments_lexer": "ipython3",
   "version": "3.7.12"
  }
 },
 "nbformat": 4,
 "nbformat_minor": 4
}
