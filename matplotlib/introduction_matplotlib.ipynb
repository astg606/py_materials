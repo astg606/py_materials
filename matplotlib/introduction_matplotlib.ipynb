{
 "cells": [
  {
   "cell_type": "markdown",
   "metadata": {},
   "source": [
    "<center>\n",
    "<table>\n",
    "  <tr>\n",
    "    <td><img src=\"http://www.nasa.gov/sites/all/themes/custom/nasatwo/images/nasa-logo.svg\" width=\"100\"/> </td>\n",
    "     <td><img src=\"https://github.com/astg606/py_materials/blob/master/logos/ASTG_logo.png?raw=true\" width=\"80\"/> </td>\n",
    "     <td> <img src=\"https://www.nccs.nasa.gov/sites/default/files/NCCS_Logo_0.png\" width=\"130\"/> </td>\n",
    "    </tr>\n",
    "</table>\n",
    "</center>\n",
    "\n",
    "        \n",
    "<center>\n",
    "<h1><font color= \"blue\" size=\"+3\">ASTG Python Courses</font></h1>\n",
    "</center>\n",
    "\n",
    "---\n",
    "\n",
    "<center><h1><font color=\"red\" size=\"+3\">Introduction to Matplotlib</font></h1></center>"
   ]
  },
  {
   "cell_type": "markdown",
   "metadata": {},
   "source": [
    "## Reference Documents\n",
    "\n",
    "- <A HREF=\"https://realpython.com/python-matplotlib-guide/\">Python Plotting With Matplotlib (Guide)</A>\n",
    "- [Visualization with Matplotlib](https://www.oreilly.com/library/view/python-data-science/9781491912126/ch04.html)\n",
    "- [Customizing Matplotlib with style sheets and rcParams](https://matplotlib.org/stable/tutorials/introductory/customizing.html)\n",
    "- <A HREF=\"http://scipy-lectures.github.io/intro/matplotlib/matplotlib.html\">Matplotlib: Plotting</A>\n",
    "- <A HREF=\"http://www.labri.fr/perso/nrougier/teaching/matplotlib/\">Matplotlib Tutorial</A>\n",
    "- <A HREF=\"http://matplotlib.sourceforge.net/gallery.html\">Image Gallery</A>\n",
    "- <A HREF=\"http://people.duke.edu/~ccc14/pcfb/numerics.html\">NumPy and Matplotlib (Practical Cumputing for Biologists)</A>\n",
    "- <a href=\"https://nbviewer.jupyter.org/github/jrjohansson/scientific-python-lectures/blob/master/Lecture-4-Matplotlib.ipynb#Coutour-plots-with-projections\">matplotlib - 2D and 3D plotting in Python</a>\n",
    "- <A HREF=\"http://videolectures.net/mloss08_hunter_mat\">Video Presentation</A>"
   ]
  },
  {
   "cell_type": "markdown",
   "metadata": {},
   "source": [
    "## Required Packages\n",
    "\n",
    "```\n",
    "   Numpy\n",
    "   Matplotlib\n",
    "```"
   ]
  },
  {
   "cell_type": "code",
   "execution_count": null,
   "metadata": {},
   "outputs": [],
   "source": [
    "import warnings\n",
    "warnings.filterwarnings(\"ignore\")"
   ]
  },
  {
   "cell_type": "code",
   "execution_count": null,
   "metadata": {},
   "outputs": [],
   "source": [
    "%matplotlib inline"
   ]
  },
  {
   "cell_type": "code",
   "execution_count": null,
   "metadata": {},
   "outputs": [],
   "source": [
    "import numpy as np"
   ]
  },
  {
   "cell_type": "code",
   "execution_count": null,
   "metadata": {},
   "outputs": [],
   "source": [
    "import matplotlib\n",
    "import matplotlib.pyplot as plt\n",
    "import matplotlib.cm as cm\n",
    "from matplotlib import lines"
   ]
  },
  {
   "cell_type": "code",
   "execution_count": null,
   "metadata": {},
   "outputs": [],
   "source": [
    "print(f\"Version of Numpy:      {np.__version__}\")\n",
    "print(f\"Version of Matplotlib: {matplotlib.__version__}\")"
   ]
  },
  {
   "cell_type": "markdown",
   "metadata": {},
   "source": [
    "## <font color=\"red\">What is Matplotlib?</font>\n",
    "\n",
    "- Library for making 2D (and 3D in a limited way) plots of arrays in Python\n",
    "- Makes heavy use of Numpy and other extension code to provide good performance\n",
    "- Generates high-quality output in many formats, including PNG, PDF, SVG, EPS, and PGF.\n",
    "- Can be used to create figures that are programically controlled. This is important for reproducibility and convenient when one needs to regenerate the figure with updated data or change its appearance.\n",
    "- With Matplotlib, we can generate plots, histograms, power spectra, bar charts, error charts, scatter plots, etc., with just a few lines of code."
   ]
  },
  {
   "cell_type": "markdown",
   "metadata": {},
   "source": [
    "## <font color=\"red\">First Plots</font>"
   ]
  },
  {
   "cell_type": "markdown",
   "metadata": {},
   "source": [
    "### Basic Plotting Syntax"
   ]
  },
  {
   "cell_type": "markdown",
   "metadata": {},
   "source": [
    "| Syntax  | Meaning |\n",
    "| -- | -- |\n",
    "| x = [...]       | define the points on the x-axis |\n",
    "| y = [...]       | define the points on the y-axis |\n",
    "|  |   \n",
    "| plt.plot(x,y) | |\n",
    "| plt.show()      |  display the plot on the screen |"
   ]
  },
  {
   "cell_type": "markdown",
   "metadata": {},
   "source": [
    "### Simple Plot"
   ]
  },
  {
   "cell_type": "code",
   "execution_count": null,
   "metadata": {},
   "outputs": [],
   "source": [
    "x = [2, 3, 5, 7, 11]\n",
    "y = [4, 9, 5, 9, 1]\n",
    "plt.plot(x, y, 'b')\n",
    "plt.xlabel('x')\n",
    "plt.ylabel('y')\n",
    "plt.title('Simple Plot')"
   ]
  },
  {
   "cell_type": "markdown",
   "metadata": {},
   "source": [
    "### Setting the Plot Style"
   ]
  },
  {
   "cell_type": "markdown",
   "metadata": {},
   "source": [
    "Get the list of available aesthtic styles for the figures:"
   ]
  },
  {
   "cell_type": "code",
   "execution_count": null,
   "metadata": {},
   "outputs": [],
   "source": [
    "plt.style.available"
   ]
  },
  {
   "cell_type": "markdown",
   "metadata": {},
   "source": [
    "- The default style is `'default'`.\n",
    "- You can select your desired style. For instance:\n",
    "\n",
    "```python\n",
    "plt.style.use('classic')\n",
    "```"
   ]
  },
  {
   "cell_type": "markdown",
   "metadata": {},
   "source": [
    "In case you want the `xkcd` style, use:\n",
    "\n",
    "```python\n",
    "plt.xkcd()\n",
    "```"
   ]
  },
  {
   "cell_type": "markdown",
   "metadata": {},
   "source": [
    "### Line Styles\n",
    "\n",
    "You can list the available line styles:"
   ]
  },
  {
   "cell_type": "code",
   "execution_count": null,
   "metadata": {},
   "outputs": [],
   "source": [
    "lines.lineStyles.keys()"
   ]
  },
  {
   "cell_type": "markdown",
   "metadata": {},
   "source": [
    "### List of Line Colors\n",
    "\n",
    "You can include the characters below (as argument of the `plot` function) to select the line color.\n",
    "\n",
    "| Character | Color |\n",
    "| -- | -- |\n",
    "| 'b' | blue |\n",
    "| 'g' | green |\n",
    "| 'r' | red |\n",
    "| 'c' | cyan |\n",
    "| 'm' | magenta |\n",
    "| 'y' | yellow |\n",
    "| 'k' | black |\n",
    "| 'w' | white |\n",
    "\n",
    "The default setting is `'k'` for black."
   ]
  },
  {
   "cell_type": "markdown",
   "metadata": {},
   "source": [
    "### Useful Syntax\n",
    "\n",
    "Here are some commonly used functions for plotting:\n",
    "\n",
    "| Statement  | Meaning |\n",
    "|  -- |  -- |\n",
    "| `plt.plot(x,y)`| | \n",
    "| `plt.xlabel('string')`         |  label the x-axis| \n",
    "| `plt.ylabel('string')`         |  label the y-axis| \n",
    "| `plt.title('string')`          |  write the title of the plot| \n",
    "| `plt.grid(true/false)`         |  adds grid boxes| \n",
    "| `plt.savefig('fileName.type')` |  type can be `png`, `ps`, `pdf`, etc.| \n",
    "| `plt.show()`                   |  display the graph on the screen| \n",
    "| `plt.xlim(xmin,xmax)`          |  set/get the xlimits | \n",
    "| `plt.ylim(ymin,ymax)`          |  set/get the ylimits | \n",
    "| `plt.hold(True/False)`         |  to overlay figures on the same graph |"
   ]
  },
  {
   "cell_type": "markdown",
   "metadata": {},
   "source": [
    "--- \n",
    "\n",
    "### <font color=\"blue\"> Breakout 1</font>\n",
    "\n",
    "Plot again the above example and include the grid lines.\n",
    "\n",
    "<p>\n",
    "<p>\n",
    "<p>\n",
    "\n",
    "<details><summary><b>Click here to access the solution</b></summary>\n",
    "<p>\n",
    "\n",
    "```python\n",
    "x = [2, 3, 5, 7, 11]\n",
    "y = [4, 9, 5, 9, 1]\n",
    "plt.plot(x, y, 'b')\n",
    "plt.xlabel('x')\n",
    "plt.ylabel('y')\n",
    "plt.title('Simple Plot')\n",
    "plt.grid()\n",
    "```\n",
    "    \n",
    "</p>\n",
    "</details>"
   ]
  },
  {
   "cell_type": "markdown",
   "metadata": {},
   "source": [
    "--- \n",
    "\n",
    "### <font color=\"blue\"> Breakout 2</font>\n",
    "\n",
    "Do the same thing by adding grid lines parallel to the y-axis only.\n",
    "\n",
    "<p>\n",
    "<p>\n",
    "<p>\n",
    " \n",
    "<details><summary><b>Click here to access the solution</b></summary>\n",
    "<p>\n",
    "\n",
    "```python\n",
    "x = [2, 3, 5, 7, 11]\n",
    "y = [4, 9, 5, 9, 1]\n",
    "plt.plot(x, y, 'b')\n",
    "plt.xlabel('x')\n",
    "plt.ylabel('y')\n",
    "plt.title('Simple Plot')\n",
    "plt.grid(axis=\"x\")\n",
    "```\n",
    "    \n",
    "</p>\n",
    "</details>"
   ]
  },
  {
   "cell_type": "markdown",
   "metadata": {},
   "source": [
    "### Simple Cosine Plot\n",
    "\n",
    "We want to plot:\n",
    "\n",
    "$s = \\cos(4 \\pi t)$ for $t \\in [0, 1]$"
   ]
  },
  {
   "cell_type": "code",
   "execution_count": null,
   "metadata": {},
   "outputs": [],
   "source": [
    "t = np.arange(0.0, 1.0+0.01, 0.01)\n",
    "s = np.cos(4*np.pi*t)"
   ]
  },
  {
   "cell_type": "code",
   "execution_count": null,
   "metadata": {},
   "outputs": [],
   "source": [
    "plt.figure()\n",
    "plt.plot(t, s)\n",
    "plt.xlabel('Time (s)')\n",
    "plt.ylabel('Voltage (mV)')\n",
    "plt.title('Simple Cosine Plot')"
   ]
  },
  {
   "cell_type": "markdown",
   "metadata": {},
   "source": [
    "## <font color=\"red\">The Matplotlib Object Hierarchy</font>\n",
    "\n",
    "- When we issue the call `plt.plot(x, y)`, we internally creates a hierarchy of nested Python objects: **Figure** and **Axes**.\n",
    "   - A **Figure** object is the outermost container for a matplotlib graphic, which can contain multiple **Axes** objects.\n",
    "   - An **Axes** actually translates into what we think of as an individual plot or graph (rather than the plural of “axis,” as we might expect).\n",
    "\n",
    "Here is a diagram that shows a **Figure** with one **Axes**:\n",
    "\n",
    "![fig_axes1](https://python-course.eu/images/numerical-programming/matplotlib_object_hierarchy_400w.webp)\n",
    "Image Source: python-course.edu\n",
    "\n",
    "A **Figure** can contain multiple **Axes**:\n",
    "\n",
    "![fig_axes2](https://python-course.eu/images/numerical-programming/matplotlib_object_hierarchy2_400w.webp)\n",
    "Image Source: python-course.edu\n",
    "  \n",
    "- Below the Axes in the hierarchy are smaller objects such as tick marks, individual lines, legends, and text boxes. \n",
    "- Almost every “element” of a chart is its own manipulable Python object, all the way down to the ticks and labels\n",
    "\n",
    "![FIG_AXES](https://files.realpython.com/media/fig_map.bc8c7cabd823.png)\n",
    "\n",
    "Below is a figure anatomy of the Matplotlib object hierarchy:\n",
    "\n",
    "![Anatomy](https://files.realpython.com/media/anatomy.7d033ebbfbc8.png)\n"
   ]
  },
  {
   "cell_type": "markdown",
   "metadata": {},
   "source": [
    "### Using The Matplotlib Object-Oriented API\n",
    "\n",
    "To use the object-oriented API:\n",
    "- Store a reference to the newly created figure instance in the `fig` variable which is an object describing the plot window and its properties, and containing lists of all its elements.\n",
    "\n",
    "```python\n",
    "   fig = plt.figure()\n",
    "```\n",
    "\n",
    "- Create a new axis instance `axes` using the `add_axes` method in the `Figure` class instance `fig`.\n",
    "\n",
    "```python\n",
    "   axes = fig.add_axes([left, bottom, width, height])\n",
    "```"
   ]
  },
  {
   "cell_type": "markdown",
   "metadata": {},
   "source": [
    "### Examples"
   ]
  },
  {
   "cell_type": "code",
   "execution_count": null,
   "metadata": {},
   "outputs": [],
   "source": [
    "t = np.arange(0.0, 1.0+0.01, 0.01)\n",
    "s = np.cos(2*2*np.pi*t)"
   ]
  },
  {
   "cell_type": "code",
   "execution_count": null,
   "metadata": {},
   "outputs": [],
   "source": [
    "fig = plt.figure()\n",
    "\n",
    "# left, bottom, width, height (range 0 to 1)\n",
    "axes = fig.add_axes([0.1, 0.1, 0.8, 0.8]) \n",
    "\n",
    "axes.plot(t, s)\n",
    "axes.set_xlabel('Time (s)')\n",
    "axes.set_ylabel('Voltage (mV)')\n",
    "axes.set_title('Simple Cosine Plot')"
   ]
  },
  {
   "cell_type": "markdown",
   "metadata": {},
   "source": [
    "We have full control of where the plot axes are placed, and we can easily add more than one axis to the figure:"
   ]
  },
  {
   "cell_type": "code",
   "execution_count": null,
   "metadata": {},
   "outputs": [],
   "source": [
    "x = np.linspace(0, 5, 10)\n",
    "y = (x-1.0) ** 2\n",
    "\n",
    "fig = plt.figure()\n",
    "\n",
    "axes1 = fig.add_axes([0.1, 0.1, 0.8, 0.8]) # main axes\n",
    "axes2 = fig.add_axes([0.2, 0.5, 0.4, 0.3]) # insert axes\n",
    "\n",
    "# main figure\n",
    "axes1.plot(x, y, 'r')\n",
    "axes1.set_xlabel('x')\n",
    "axes1.set_ylabel('y')\n",
    "axes1.set_title('title')\n",
    "\n",
    "# insert\n",
    "axes2.plot(y, x, 'g')\n",
    "axes2.set_xlabel('y')\n",
    "axes2.set_ylabel('x')\n",
    "axes2.set_title('insert title');"
   ]
  },
  {
   "cell_type": "markdown",
   "metadata": {},
   "source": [
    "If we don't care about being explicit about where our plot axes are placed in the figure canvas, then we can use one of the many axis layout managers in Matplotlib.\n",
    "\n",
    "Let us consider here the `subplots` function:"
   ]
  },
  {
   "cell_type": "code",
   "execution_count": null,
   "metadata": {},
   "outputs": [],
   "source": [
    "fig, axes = plt.subplots()\n",
    "\n",
    "axes.plot(t, s)\n",
    "axes.set_xlabel('time (s)')\n",
    "axes.set_ylabel('voltage (mV)')\n",
    "axes.set_title('About as simple as it gets, folks')"
   ]
  },
  {
   "cell_type": "markdown",
   "metadata": {},
   "source": [
    "--- \n",
    "\n",
    "### <font color=\"blue\"> Breakout 3</font>\n",
    "\n",
    "Plot the function:\n",
    "\n",
    "$y = e^{-\\frac{1}{2}x}$ for $x \\in [-2,5]$\n",
    "\n",
    "<p>\n",
    "<p>\n",
    "<p>\n",
    " \n",
    "<details><summary><b>Click here to access the solution</b></summary>\n",
    "<p>\n",
    "\n",
    "```python\n",
    "x = np.arange(-2.0, 5.0+0.01, 0.01)\n",
    "y = np.exp(-0.5*x)\n",
    "\n",
    "fig, axes = plt.subplots()\n",
    "axes.plot(x, y)\n",
    "```\n",
    "    \n",
    "</p>\n",
    "</details>"
   ]
  },
  {
   "cell_type": "markdown",
   "metadata": {},
   "source": [
    "When no argument is passesd in `subplots`, it is assumed that we have one row (`nrows=1`) and one column (`ncols=1`)."
   ]
  },
  {
   "cell_type": "code",
   "execution_count": null,
   "metadata": {},
   "outputs": [],
   "source": [
    "fig, axes = plt.subplots(nrows=1, ncols=2)\n",
    "\n",
    "axes[0].plot(t, s)\n",
    "axes[0].set_xlabel('time (s)')\n",
    "axes[0].set_ylabel('voltage (mV)')\n",
    "axes[0].set_title('About as simple as it gets')\n",
    "\n",
    "axes[1].plot(x, y, 'r')\n",
    "axes[1].set_xlabel('x')\n",
    "axes[1].set_ylabel('y')\n",
    "axes[1].set_title('title')"
   ]
  },
  {
   "cell_type": "markdown",
   "metadata": {},
   "source": [
    "We can use the `fig.tight_layout` method to automatically adjust the positions of the axes on the figure canvas so that there is no overlapping content:"
   ]
  },
  {
   "cell_type": "code",
   "execution_count": null,
   "metadata": {
    "scrolled": true
   },
   "outputs": [],
   "source": [
    "fig, axes = plt.subplots(nrows=1, ncols=2)\n",
    "\n",
    "axes[0].plot(t, s)\n",
    "axes[0].set_xlabel('time (s)')\n",
    "axes[0].set_ylabel('voltage (mV)')\n",
    "axes[0].set_title('About as simple as it gets')\n",
    "\n",
    "axes[1].plot(x, y, 'r')\n",
    "axes[1].set_xlabel('x')\n",
    "axes[1].set_ylabel('y')\n",
    "axes[1].set_title('title')\n",
    "\n",
    "fig.tight_layout()"
   ]
  },
  {
   "cell_type": "markdown",
   "metadata": {},
   "source": [
    "It does not matter the order in which the `Axes` are used:"
   ]
  },
  {
   "cell_type": "code",
   "execution_count": null,
   "metadata": {},
   "outputs": [],
   "source": [
    "def f(t):\n",
    "    return np.exp(-t) * np.cos(2*np.pi*t)\n",
    "\n",
    "t1 = np.arange(0.0, 5.0, 0.1)\n",
    "t2 = np.arange(0.0, 5.0, 0.02)\n",
    "\n",
    "fig, axes = plt.subplots(nrows=1, ncols=2)\n",
    "\n",
    "axes[1].plot(t1, f(t1), 'bo', t2, f(t2), 'k')\n",
    "\n",
    "axes[0].plot(t2, np.cos(2*np.pi*t2), 'r--')\n",
    "\n",
    "fig.tight_layout()"
   ]
  },
  {
   "cell_type": "markdown",
   "metadata": {},
   "source": [
    "## <font color=\"red\">Figure Settings</font>"
   ]
  },
  {
   "cell_type": "markdown",
   "metadata": {},
   "source": [
    "### <font color='blue'>Figure size, aspect ratio and DPI </font>\n",
    "\n",
    "- Matplotlib allows the aspect ratio, DPI (Dots Per Inch) and figure size to be specified when the `Figure` object is created, using the `figsize` and `dpi` keyword arguments. \n",
    "- `figsize` determines the size of the figure in inches. This gives the amount of space the axes (and other elements) have inside the `Figure`.\n",
    "   - `figsize` is a tuple of the `width` and `height`.\n",
    "   - The default figure size is `(6.4, 4.8)` inches.\n",
    "- `dpi` determines how many pixels the figure comprises.\n",
    "   - The default dpi in matplotlib is 100. \n",
    "\n",
    "A figure of `figsize=(w,h)` will have:\n",
    "\n",
    "```\n",
    "   px, py = w*dpi, h*dpi  # pixels\n",
    "```\n",
    "\n",
    "For instance:\n",
    "\n",
    "```python\n",
    "   fig = plt.figure(figsize=(8,4), dpi=120)\n",
    "```\n",
    "will create a `960x480` pixels.\n",
    "\n",
    "The same arguments can also be passed to layout managers, such as the `subplots` function:"
   ]
  },
  {
   "cell_type": "code",
   "execution_count": null,
   "metadata": {},
   "outputs": [],
   "source": [
    "fig, axes = plt.subplots(figsize=(12,3), dpi=120)\n",
    "axes.plot(t1, f(t1), 'k')\n",
    "axes.set_xlabel('x')\n",
    "axes.set_ylabel('y')\n",
    "axes.set_title('title');"
   ]
  },
  {
   "cell_type": "markdown",
   "metadata": {},
   "source": [
    "### <font color='blue'>Saving figures</font>\n",
    "\n",
    "- Matplotlib can generate high-quality output in a number formats, including PNG, JPG, EPS, SVG, PGF and PDF. \n",
    "- By default, the PNG format is used.\n",
    "- To save a figure to a file we can use the `savefig` method in the `Figure` class:"
   ]
  },
  {
   "cell_type": "code",
   "execution_count": null,
   "metadata": {},
   "outputs": [],
   "source": [
    "file_name = \"my_first_figure\"\n",
    "fig.savefig(file_name)"
   ]
  },
  {
   "cell_type": "markdown",
   "metadata": {},
   "source": [
    "The default file type is `png`.\n",
    "\n",
    "We now have a file called `my_first_figure.png` in the current working directory:"
   ]
  },
  {
   "cell_type": "code",
   "execution_count": null,
   "metadata": {},
   "outputs": [],
   "source": [
    "!ls -lrt my_first_figure.png"
   ]
  },
  {
   "cell_type": "markdown",
   "metadata": {},
   "source": [
    "We can use the IPython `Image` object to display the contents of this file:"
   ]
  },
  {
   "cell_type": "code",
   "execution_count": null,
   "metadata": {},
   "outputs": [],
   "source": [
    "from IPython.display import Image\n",
    "Image('my_first_figure.png')"
   ]
  },
  {
   "cell_type": "markdown",
   "metadata": {},
   "source": [
    "The list of supported file types can be found for your system by using the following method of the figure canvas object:"
   ]
  },
  {
   "cell_type": "code",
   "execution_count": null,
   "metadata": {},
   "outputs": [],
   "source": [
    "fig.canvas.get_supported_filetypes()"
   ]
  },
  {
   "cell_type": "markdown",
   "metadata": {},
   "source": [
    "We can also optionally specify the DPI and choose between different output formats:"
   ]
  },
  {
   "cell_type": "code",
   "execution_count": null,
   "metadata": {},
   "outputs": [],
   "source": [
    "fig.savefig(file_name, dpi=200)"
   ]
  },
  {
   "cell_type": "markdown",
   "metadata": {},
   "source": [
    "### <font color='blue'>Legends, Labels and Titles</font>\n",
    "\n",
    "We want to learn how to decorate a figure with titles, axis labels, and legends.\n",
    "\n",
    "**Figure Titles**\n",
    "\n",
    "A title can be added to each axis instance in a figure. To set the title, use the `set_title` method in the axes instance:\n",
    "\n",
    "```python\n",
    "   ax.set_title(\"My own title\")\n",
    "```\n",
    "\n",
    "**Axis Labels**\n",
    "\n",
    "Similarly, with the methods `set_xlabel` and `set_ylabel`, we can set the labels of the X and Y axes:\n",
    "\n",
    "```python\n",
    "   ax.set_xlabel(\"label for x-axis\")\n",
    "   ax.set_ylabel(\"label for y-axis\")\n",
    "```\n",
    "\n",
    "**Legends**\n",
    "\n",
    "Legends for curves in a figure can be added in two ways. One method is to use the `legend` method of the axis object and pass a list/tuple of legend texts for the previously defined curves:\n",
    "\n",
    "```python\n",
    "   ax.legend([\"Plot 1\", \"Plot 2\", \"Plot 3\"]);\n",
    "```\n",
    "\n",
    "The above method can be proned to errors and unflexible if curves are added to or removed from the figure (resulting in a wrongly labelled curve).\n",
    "\n",
    "A better method is to use the `label=\"label text\"` keyword argument when plots or other objects are added to the figure, and then using the `legend` method without arguments to add the legend to the figure:\n",
    "\n",
    "```python\n",
    "   ax.plot(x,  x+1, label=\"Plot 1\")\n",
    "   ax.plot(x,  x-3, label=\"Plot 2\")\n",
    "   ax.plot(x, x**2, label=\"Plot 3\")\n",
    "   ax.legend()\n",
    "```\n",
    "\n",
    "The advantage with this method is that if curves are added or removed from the figure, the legend is automatically updated accordingly."
   ]
  },
  {
   "cell_type": "code",
   "execution_count": null,
   "metadata": {},
   "outputs": [],
   "source": [
    "x = np.linspace(0, 2*np.pi, 300)\n",
    "y = np.sin(x)\n",
    "w = np.sin(x**2)"
   ]
  },
  {
   "cell_type": "code",
   "execution_count": null,
   "metadata": {},
   "outputs": [],
   "source": [
    "fig, axes = plt.subplots()\n",
    "\n",
    "axes.plot(x, y, label='y = sin(x)')\n",
    "axes.plot(x, w, label='y = sin(x^2)')\n",
    "axes.set_title('Some functions')\n",
    "axes.set_xlabel('x')\n",
    "axes.set_ylabel('y')\n",
    "axes.legend(loc='upper right')"
   ]
  },
  {
   "cell_type": "markdown",
   "metadata": {},
   "source": [
    "The `legend` function takes an optional keyword argument `loc` that can be used to specify where in the figure the legend is to be drawn. The allowed values of `loc` are numerical or keyword codes for the various places the legend can be drawn.\n",
    "\n",
    "| Location String | Location Code | \n",
    "| --- | --- |\n",
    "| 'best' | 0 | \n",
    "| 'upper right' | 1 | \n",
    "| 'upper left' | 2 | \n",
    "| 'lower left' | 3 | \n",
    "| 'lower right' | 4 | \n",
    "| 'right' | 5 | \n",
    "| 'center left' | 6 | \n",
    "| 'center right' | 7 | \n",
    "| 'lower center' | 8 | \n",
    "| 'upper center' | 9 | \n",
    "| 'center' | 10 |"
   ]
  },
  {
   "cell_type": "markdown",
   "metadata": {},
   "source": [
    "### <font color='blue'>Formatting text: LaTeX, Fontsize, Font Family</font>\n",
    "\n",
    "- We want to have LaTeX formatted text, and to be able to adjust the font size.\n",
    "- Matplotlib has great support for LaTeX. All we need to do is to use dollar signs encapsulate LaTeX in any text (legend, title, label, etc.). For example, `\"$y=\\sin(x^2)$\"`.\n",
    "- To make our latex code syntax work properly in Python, we need to use \"raw\" text strings. Raw text strings are prepended with an 'r', like r\"\\alpha\" or r'\\alpha' instead of \"\\alpha\" or '\\alpha'."
   ]
  },
  {
   "cell_type": "code",
   "execution_count": null,
   "metadata": {},
   "outputs": [],
   "source": [
    "x = np.linspace(0, 2*np.pi, 300)\n",
    "y = np.sin(x)\n",
    "w = np.sin(x**2)\n",
    "\n",
    "fig, axes = plt.subplots()\n",
    "\n",
    "axes.plot(x, y, label=r'$y = \\sin(x)$')\n",
    "axes.plot(x, w, label=r'$y = \\sin(x^2)$')\n",
    "axes.set_title('Some functions')\n",
    "axes.set_xlabel(r'$\\alpha$', fontsize=18)\n",
    "axes.set_ylabel(r'$\\beta$', fontsize=18)\n",
    "axes.legend(loc='best')"
   ]
  },
  {
   "cell_type": "markdown",
   "metadata": {},
   "source": [
    "We can also change the global font size and font family, which applies to all text elements in a figure (tick labels, axis labels and titles, legends, etc.)"
   ]
  },
  {
   "cell_type": "code",
   "execution_count": null,
   "metadata": {},
   "outputs": [],
   "source": [
    "# Update the matplotlib configuration parameters:\n",
    "matplotlib.rcParams.update({'font.size': 10, 'font.family': 'serif'})"
   ]
  },
  {
   "cell_type": "code",
   "execution_count": null,
   "metadata": {},
   "outputs": [],
   "source": [
    "x = np.linspace(0, 2*np.pi, 300)\n",
    "y = np.sin(x)\n",
    "w = np.sin(x**2)\n",
    "\n",
    "fig, axes = plt.subplots()\n",
    "\n",
    "axes.plot(x, y, label=r'$y = \\sin(x)$')\n",
    "axes.plot(x, w, label=r'$y = \\sin(x^2)$')\n",
    "axes.set_title('Some functions')\n",
    "axes.set_xlabel(r'$\\alpha$')\n",
    "axes.set_ylabel(r'$\\beta$')\n",
    "axes.legend(loc='best')"
   ]
  },
  {
   "cell_type": "markdown",
   "metadata": {},
   "source": [
    "--- \n",
    "\n",
    "### <font color=\"blue\"> Breakout 3</font>\n",
    "\n",
    "Plot the function $y = e^{-\\frac{1}{2}x}$ for $x \\in [-2,5]$.\n",
    "\n",
    "- Use a dot line with a green color.\n",
    "- Include $y = e^{-\\frac{1}{2}x}$ as legend on the lower left corner.\n",
    "\n",
    "<p>\n",
    "<p>\n",
    "<p>\n",
    " \n",
    "<details><summary><b>Click here to access the solution</b></summary>\n",
    "<p>\n",
    "\n",
    "```python\n",
    "x = np.arange(-2.0, 5.0+0.01, 0.01)\n",
    "y = np.exp(-0.5*x)\n",
    "\n",
    "fig, axes = plt.subplots()\n",
    "axes.plot(x, y, 'g:', label=r\"$y = e^{-\\frac{1}{2}x}$\")\n",
    "axes.legend(loc='lower left')\n",
    "```\n",
    "    \n",
    "</p>\n",
    "</details>"
   ]
  },
  {
   "cell_type": "markdown",
   "metadata": {},
   "source": [
    "A good choice of global fonts are the STIX fonts:\n",
    "\n",
    "```python\n",
    "   matplotlib.rcParams.update({'font.size': 18, \n",
    "                               'font.family': 'STIXGeneral',\n",
    "                               'mathtext.fontset': 'stix'})\n",
    "```\n",
    "\n",
    "Or, alternatively, we can request that matplotlib uses LaTeX to render the text elements in the figure:\n",
    "\n",
    "```python\n",
    "   matplotlib.rcParams.update({'font.size': 18, \n",
    "                               'text.usetex': True})\n",
    "```\n",
    "\n",
    "To restore:\n",
    "\n",
    "```python\n",
    "   matplotlib.rcParams.update({'font.size': 12,\n",
    "                               'font.family': 'sans',\n",
    "                               'text.usetex': False})\n",
    "```"
   ]
  },
  {
   "cell_type": "markdown",
   "metadata": {},
   "source": [
    "### <font color='blue'>Setting Colors, Linewidths, Linetypes</font>"
   ]
  },
  {
   "cell_type": "markdown",
   "metadata": {},
   "source": [
    "**Colors**\n",
    "\n",
    "We can define the colors of lines and other graphical elements in a number of ways. \n",
    "\n",
    "- Use the MATLAB-like syntax where 'b' means blue, 'g' means green, etc., and 'b.-' means a blue line with dots.\n",
    "- Define colors by their names or RGB hex codes and optionally provide an alpha value using the `color` and `alpha` keyword arguments.\n"
   ]
  },
  {
   "cell_type": "code",
   "execution_count": null,
   "metadata": {},
   "outputs": [],
   "source": [
    "x = np.linspace(0, 2*np.pi, 300)\n",
    "y = np.sin(x)\n",
    "w = np.sin(x**2)\n",
    "\n",
    "fig, axes = plt.subplots()\n",
    "\n",
    "axes.plot(x, y, 'b.-', label=r'$y = \\sin(x)$')\n",
    "axes.plot(x, w, 'g--', label=r'$y = \\sin(x^2)$')\n",
    "axes.set_title('Some functions')\n",
    "axes.set_xlabel(r'$\\alpha$')\n",
    "axes.set_ylabel(r'$\\beta$')\n",
    "axes.legend(loc='best')"
   ]
  },
  {
   "cell_type": "code",
   "execution_count": null,
   "metadata": {},
   "outputs": [],
   "source": [
    "fig, axes = plt.subplots()\n",
    "\n",
    "axes.plot(x, x+1, color=\"red\", alpha=0.5) # half-transparant red\n",
    "axes.plot(x, x+2, color=\"#1155dd\")        # RGB hex code for a bluish color\n",
    "axes.plot(x, x+3, color=\"#15cc55\")        # RGB hex code for a greenish color\n",
    "axes.set_title('Sample functions')\n",
    "axes.set_xlabel('x')\n",
    "axes.set_ylabel('y')"
   ]
  },
  {
   "cell_type": "markdown",
   "metadata": {},
   "source": [
    "**Line and Marker Styles**\n",
    "\n",
    "- To change the line width, we can use the `linewidth` or `lw` keyword argument. \n",
    "- The line style can be selected using the `linestyle` or `ls` keyword arguments."
   ]
  },
  {
   "cell_type": "code",
   "execution_count": null,
   "metadata": {},
   "outputs": [],
   "source": [
    "fig, axes = plt.subplots(figsize=(12,6))\n",
    "\n",
    "axes.plot(x, x+1, color=\"blue\", linewidth=0.25)\n",
    "axes.plot(x, x+2, color=\"blue\", linewidth=0.50)\n",
    "axes.plot(x, x+3, color=\"blue\", linewidth=1.00)\n",
    "axes.plot(x, x+4, color=\"blue\", linewidth=2.00)\n",
    "\n",
    "# possible linestype options ‘-‘, ‘--’, ‘-.’, ‘:’, ‘steps’\n",
    "axes.plot(x, x+5, color=\"red\", lw=2, linestyle='-')\n",
    "axes.plot(x, x+6, color=\"red\", lw=2, ls='-.')\n",
    "axes.plot(x, x+7, color=\"red\", lw=2, ls=':')\n",
    "\n",
    "# custom dash\n",
    "line, = axes.plot(x, x+8, color=\"black\", lw=1.50)\n",
    "line.set_dashes([5, 10, 15, 10]) # format: line length, space length, ...\n",
    "\n",
    "# possible marker symbols: marker = '+', 'o', '*', 's', ',', '.', '1', '2', '3', '4', ...\n",
    "axes.plot(x, x+ 9, color=\"green\", lw=2, ls='--', marker='+')\n",
    "axes.plot(x, x+10, color=\"green\", lw=2, ls='--', marker='o')\n",
    "axes.plot(x, x+11, color=\"green\", lw=2, ls='--', marker='s')\n",
    "axes.plot(x, x+12, color=\"green\", lw=2, ls='--', marker='1')\n",
    "\n",
    "# marker size and color\n",
    "axes.plot(x, x+13, color=\"purple\", lw=1, ls='-', marker='o', markersize=2)\n",
    "axes.plot(x, x+14, color=\"purple\", lw=1, ls='-', marker='o', markersize=4)\n",
    "axes.plot(x, x+15, color=\"purple\", lw=1, ls='-', marker='o', markersize=8, markerfacecolor=\"red\")\n",
    "axes.plot(x, x+16, color=\"purple\", lw=1, ls='-', marker='s', markersize=8,\n",
    "          markerfacecolor=\"yellow\", \n",
    "          markeredgewidth=2, markeredgecolor=\"blue\");"
   ]
  },
  {
   "cell_type": "markdown",
   "metadata": {},
   "source": [
    "### <font color='blue'>Control over axis appearance</font>\n",
    "\n",
    "We want to be able to control where the ticks and labels are placed, modify the font size and possibly the labels used on the axes. "
   ]
  },
  {
   "cell_type": "markdown",
   "metadata": {},
   "source": [
    "**Plot Range**\n",
    "\n",
    "- We want to configure is the ranges of the axes. \n",
    "- We can do this using the `set_ylim` and `set_xlim` methods in the axis object, or `axis('tight')` for automatrically getting \"tightly fitted\" axes ranges:"
   ]
  },
  {
   "cell_type": "code",
   "execution_count": null,
   "metadata": {},
   "outputs": [],
   "source": [
    "fig, axes = plt.subplots(1, 3, figsize=(12, 4))\n",
    "\n",
    "axes[0].plot(x, x**2, x, x**3)\n",
    "axes[0].set_title(\"default axes ranges\")\n",
    "\n",
    "axes[1].plot(x, x**2, x, x**3)\n",
    "axes[1].axis('tight')\n",
    "axes[1].set_title(\"tight axes\")\n",
    "\n",
    "axes[2].plot(x, x**2, x, x**3)\n",
    "axes[2].set_ylim([0, 60])\n",
    "axes[2].set_xlim([2, 5])\n",
    "axes[2].set_title(\"custom axes range\");"
   ]
  },
  {
   "cell_type": "markdown",
   "metadata": {},
   "source": [
    "**Logarithmic Scale**\n",
    "\n",
    "- It is also possible to set a logarithmic scale for one or both axes.\n",
    "- This functionality is the only one application of a more general transformation system in Matplotlib. \n",
    "- Each of the axes' scales are set seperately using `set_xscale` and `set_yscale` methods which accept one parameter (with the value \"log\" in this case)."
   ]
  },
  {
   "cell_type": "code",
   "execution_count": null,
   "metadata": {},
   "outputs": [],
   "source": [
    "t = np.arange(0.01, 20.0, 0.01)\n",
    "\n",
    "# Create figure\n",
    "fig, ((ax1, ax2), (ax3, ax4)) = plt.subplots(2, 2)\n",
    "\n",
    "# log y axis\n",
    "ax1.semilogy(t, np.exp(-t / 5.0))\n",
    "ax1.set(title='semilogy')\n",
    "ax1.grid()\n",
    "\n",
    "# log x axis\n",
    "ax2.semilogx(t, np.sin(2 * np.pi * t))\n",
    "ax2.set(title='semilogx')\n",
    "ax2.grid()\n",
    "\n",
    "# log x and y axis\n",
    "ax3.loglog(t, 20 * np.exp(-t / 10.0)) #, basex=2)\n",
    "ax3.set(title='loglog base 2 on x')\n",
    "ax3.grid()\n",
    "\n",
    "# With errorbars: clip non-positive values\n",
    "# Use new data for plotting\n",
    "x = 10.0**np.linspace(0.0, 2.0, 20)\n",
    "y = x**2.0\n",
    "\n",
    "ax4.set_xscale(\"log\")#, nonposx='clip')\n",
    "ax4.set_yscale(\"log\")#, nonposy='clip')\n",
    "ax4.set(title='Errorbars go negative')\n",
    "ax4.errorbar(x, y, xerr=0.1 * x, yerr=5.0 + 0.75 * y)\n",
    "# ylim must be set after errorbar to allow errorbar to autoscale limits\n",
    "ax4.set_ylim(bottom=0.1)\n",
    "\n",
    "fig.tight_layout()"
   ]
  },
  {
   "cell_type": "markdown",
   "metadata": {},
   "source": [
    "### <font color='blue'>Placement of Ticks and Custom Tick Labels</font>\n",
    "\n",
    "- We can explicitly determine where we want the axis ticks with `set_xticks` and `set_yticks`, which both take a list of values for where on the axis the ticks are to be placed. \n",
    "- We can also use the `set_xticklabels` and `set_yticklabels` methods to provide a list of custom text labels for each tick location."
   ]
  },
  {
   "cell_type": "code",
   "execution_count": null,
   "metadata": {},
   "outputs": [],
   "source": [
    "fig, ax = plt.subplots(figsize=(10, 4))\n",
    "\n",
    "x = np.arange(6)\n",
    "ax.plot(x, x**2, x, x**3, lw=2)\n",
    "\n",
    "ax.set_xticks([1, 2, 3, 4, 5])\n",
    "ax.set_xticklabels([r'$\\alpha$', r'$\\beta$', r'$\\gamma$', \n",
    "                    r'$\\delta$', r'$\\epsilon$'], fontsize=18)\n",
    "\n",
    "yticks = [0, 50, 100, 150]\n",
    "ax.set_yticks(yticks)\n",
    "ax.set_yticklabels([\"$%.1f$\" % y for y in yticks], fontsize=18);"
   ]
  },
  {
   "cell_type": "code",
   "execution_count": null,
   "metadata": {},
   "outputs": [],
   "source": [
    "fig, ax = plt.subplots(figsize=(10, 6))\n",
    "\n",
    "X = np.linspace(-np.pi, np.pi, 256,endpoint=True)\n",
    "C = np.cos(X)\n",
    "S = np.sin(X)\n",
    "\n",
    "ax.plot(X, C, color=\"blue\",  linewidth=1.2, linestyle=\"-\")\n",
    "ax.plot(X, S, color=\"green\", linewidth=1.0, linestyle=\"-.\")\n",
    "\n",
    "ax.set_xlim(-4.0,4.0)\n",
    "ax.set_xticks(np.linspace(-4,4,5,endpoint=True))\n",
    "\n",
    "# Set y limits\n",
    "ax.set_ylim(-1.05,1.05)\n",
    "ax.set_yticks(np.linspace(-1,1,5,endpoint=True));"
   ]
  },
  {
   "cell_type": "markdown",
   "metadata": {},
   "source": [
    "### <font color='blue'>Axis Grid</font>\n",
    "\n",
    "- With the `grid` method in the axis object, we can turn on and off grid lines. \n",
    "- We can also customize the appearance of the grid lines using the same keyword arguments as the `plot` function.\n"
   ]
  },
  {
   "cell_type": "code",
   "execution_count": null,
   "metadata": {},
   "outputs": [],
   "source": [
    "def f(t):\n",
    "    return np.exp(-t) * np.cos(2*np.pi*t)\n",
    "\n",
    "t1 = np.arange(0.0, 5.0, 0.1)\n",
    "t2 = np.arange(0.0, 5.0, 0.02)\n",
    "\n",
    "fig, axes = plt.subplots(nrows=1, ncols=2, figsize=(8, 4))\n",
    "\n",
    "axes[1].plot(t1, f(t1), 'bo', t2, f(t2), 'k')\n",
    "axes[1].grid(color='b', alpha=0.5, linestyle='dashed', linewidth=0.5)\n",
    "\n",
    "axes[0].plot(t2, np.cos(2*np.pi*t2), 'r--')\n",
    "axes[0].grid(True)\n",
    "\n",
    "fig.tight_layout()"
   ]
  },
  {
   "cell_type": "markdown",
   "metadata": {},
   "source": [
    "### <font color='blue'>Axis Spines</font>\n",
    "\n",
    "- Spines are the lines connecting the axis tick marks and noting the boundaries of the data area\n",
    "- They can be placed at arbitrary positions, especially on the border of the axis.\n",
    "- There are four of them: top, bottom, left and right"
   ]
  },
  {
   "cell_type": "code",
   "execution_count": null,
   "metadata": {},
   "outputs": [],
   "source": [
    "fig, ax = plt.subplots(figsize=(6,2))\n",
    "\n",
    "ax.spines['bottom'].set_color('blue')\n",
    "ax.spines['bottom'].set_linewidth(1.5)\n",
    "ax.spines['top'].set_color('green')\n",
    "\n",
    "ax.spines['left'].set_color('red')\n",
    "ax.spines['left'].set_linewidth(2)\n",
    "\n",
    "# turn off axis spine to the right\n",
    "ax.spines['right'].set_color(\"none\")\n",
    "ax.yaxis.tick_left() # only ticks on the left side"
   ]
  },
  {
   "cell_type": "code",
   "execution_count": null,
   "metadata": {},
   "outputs": [],
   "source": [
    "X = np.linspace(-np.pi, np.pi, 256,endpoint=True)\n",
    "\n",
    "C = np.cos(X)\n",
    "S = np.sin(X)\n",
    "\n",
    "fig, ax = plt.subplots()\n",
    "\n",
    "ax.plot(X, C, color=\"black\", linewidth=1.0, linestyle=\"-\")\n",
    "ax.plot(X, S, color=\"green\", linewidth=1.0, linestyle=\"-\")\n",
    "\n",
    "ax.set_xlim(-4.0,4.0)\n",
    "ax.set_xticks(np.linspace(-4,4,9,endpoint=True))\n",
    "\n",
    "ax.set_ylim(-1.05,1.05)\n",
    "ax.set_yticks(np.linspace(-1,1,5,endpoint=True))\n",
    "\n",
    "# Move left y-axis and bottom x-axis to centre, passing through (0,0)\n",
    "ax.spines['left'].set_position('center') \n",
    "ax.spines['left'].set_color('red')\n",
    "ax.spines['left'].set_linewidth(2)\n",
    "\n",
    "ax.spines['bottom'].set_position('center') \n",
    "ax.spines['bottom'].set_color('blue')\n",
    "ax.spines['bottom'].set_linewidth(2)\n",
    "\n",
    "# Eliminate upper and right axes\n",
    "ax.spines['right'].set_color('none')\n",
    "ax.spines['top'].set_color('none')\n",
    "\n",
    "# Show ticks on the left and lower axes only\n",
    "ax.xaxis.set_ticks_position('bottom')\n",
    "ax.yaxis.set_ticks_position('left')"
   ]
  },
  {
   "cell_type": "markdown",
   "metadata": {},
   "source": [
    "--- \n",
    "\n",
    "### <font color=\"blue\"> Breakout 4</font>\n",
    "\n",
    "Plot the function $y = e^{-\\frac{1}{2}x}-1$ for $x \\in [-2,5]$.\n",
    "\n",
    "- Use a dot line with a green color.\n",
    "- Include $y = e^{-\\frac{1}{2}x}-1$ as legend on the lower left corner.\n",
    "- Include the x-xis and the y-axis.\n",
    "\n",
    "<p>\n",
    "<p>\n",
    "<p>\n",
    " \n",
    "<details><summary><b>Click here to access the solution</b></summary>\n",
    "<p>\n",
    "\n",
    "```python\n",
    "x = np.arange(-2.0, 5.0+0.01, 0.01)\n",
    "y = np.exp(-0.5*x) - 1.0\n",
    "\n",
    "fig, ax = plt.subplots()\n",
    "ax.plot(x, y, 'g:', label=r\"$y = e^{-\\frac{1}{2}x}-1$\")\n",
    "ax.legend(loc='upper right')\n",
    "\n",
    "ax.spines['left'].set_position(('data', 0)) \n",
    "ax.yaxis.set_ticks_position('left')\n",
    "\n",
    "ax.spines['bottom'].set_position(('data', 0)) \n",
    "ax.xaxis.set_ticks_position('bottom')\n",
    "\n",
    "ax.spines[['top', 'right']].set_color('none')\n",
    "```\n",
    "    \n",
    "</p>\n",
    "</details>"
   ]
  },
  {
   "cell_type": "markdown",
   "metadata": {},
   "source": [
    "### <font color='blue'>Twin Axes</font>\n",
    "\n",
    "Sometimes it is useful to have dual x or y axes in a figure; for example, when plotting curves with different units together. Matplotlib supports this with the twinx and twiny functions."
   ]
  },
  {
   "cell_type": "code",
   "execution_count": null,
   "metadata": {},
   "outputs": [],
   "source": [
    "fig, ax1 = plt.subplots()\n",
    "\n",
    "x = np.arange(6)\n",
    "\n",
    "ax1.plot(x, x**2, lw=2, color=\"blue\")\n",
    "ax1.set_ylabel(r\"area $(m^2)$\", fontsize=18, color=\"blue\")\n",
    "for label in ax1.get_yticklabels():\n",
    "    label.set_color(\"blue\")\n",
    "    \n",
    "ax2 = ax1.twinx()\n",
    "ax2.plot(x, x**3, lw=2, color=\"red\")\n",
    "ax2.set_ylabel(r\"volume $(m^3)$\", fontsize=18, color=\"red\")\n",
    "for label in ax2.get_yticklabels():\n",
    "    label.set_color(\"red\")"
   ]
  },
  {
   "cell_type": "markdown",
   "metadata": {},
   "source": [
    "### <font color='blue'>Annotating Text</font>\n",
    "\n",
    "- Annotating text in matplotlib figures can be done using the `text` function. \n",
    "- It supports LaTeX formatting just like axis label texts and titles."
   ]
  },
  {
   "cell_type": "code",
   "execution_count": null,
   "metadata": {},
   "outputs": [],
   "source": [
    "fig, ax = plt.subplots()\n",
    "\n",
    "x = np.linspace(-0.75, 1., 100)\n",
    "ax.plot(x, x**2, x, x**3)\n",
    "\n",
    "ax.text(0.15, 0.2, r\"$y=x^2$\", fontsize=20, color=\"blue\")\n",
    "ax.text(0.65, 0.1, r\"$y=x^3$\", fontsize=20, color=\"green\");"
   ]
  },
  {
   "cell_type": "markdown",
   "metadata": {},
   "source": [
    "### <font color='blue'>Other 2D Plot Styles</font>\n",
    "\n",
    "Here is a list of some of the available plotting functions:\n",
    "\n",
    "| Function | Description |\n",
    "| :--- | :--- |\n",
    "| `bar` | Make a bar plot | \n",
    "| `barbs` | Plot a two-dimensional field of barbs | \n",
    "| `boxplot` | Make a box and whisker plot | \n",
    "| `cohere` | Plot the coherence between x and y | \n",
    "| `contour` | Plot contours | \n",
    "| `errorbar` | Plot an errorbar graph | \n",
    "| `hexbin` | Make a hexagonal binning plot | \n",
    "| `hist` | Plot a histogram | \n",
    "| `imshow` | Display an image on the axes | \n",
    "| `pcolor`| Create a pseudocolor plot of a two-dimensional array | \n",
    "| `pcolormesh` | Plot a quadrilateral mesh | \n",
    "| `pie` | Plot a pie chart | \n",
    "| `plot` | Plot lines and/or markers | \n",
    "| `quiver` | Plot a two-dimensional field of arrows | \n",
    "| `sankey` | Create a Sankey flow diagram | \n",
    "| `scatter` | Make a scatter plot of x versus y | \n",
    "| `stem` | Create a stem plot | \n",
    "| `streamplot` | Draw streamlines of a vector flow | "
   ]
  },
  {
   "cell_type": "code",
   "execution_count": null,
   "metadata": {},
   "outputs": [],
   "source": [
    "n = np.arange(6)\n",
    "xx = np.linspace(-0.75, 1., 100)"
   ]
  },
  {
   "cell_type": "markdown",
   "metadata": {},
   "source": [
    "**scatter, step, bar, fill plots**"
   ]
  },
  {
   "cell_type": "code",
   "execution_count": null,
   "metadata": {},
   "outputs": [],
   "source": [
    "fig, axes = plt.subplots(1, 4, figsize=(12,3))\n",
    "\n",
    "axes[0].scatter(xx, xx + 0.25*np.random.randn(len(xx)))\n",
    "axes[0].set_title(\"scatter\")\n",
    "\n",
    "axes[1].step(n, n**2, lw=2)\n",
    "axes[1].set_title(\"step\")\n",
    "\n",
    "axes[2].bar(n, n**2, align=\"center\", width=0.5, alpha=0.5)\n",
    "axes[2].set_title(\"bar\")\n",
    "\n",
    "axes[3].fill_between(x, x**2, x**3, color=\"green\", alpha=0.5);\n",
    "axes[3].set_title(\"fill_between\");"
   ]
  },
  {
   "cell_type": "markdown",
   "metadata": {},
   "source": [
    "**polar plot**"
   ]
  },
  {
   "cell_type": "code",
   "execution_count": null,
   "metadata": {},
   "outputs": [],
   "source": [
    "fig = plt.figure()\n",
    "ax = fig.add_axes([0.0, 0.0, .6, .6], polar=True)\n",
    "t = np.linspace(0, 2 * np.pi, 100)\n",
    "ax.plot(t, t, color='blue', lw=3);"
   ]
  },
  {
   "cell_type": "markdown",
   "metadata": {},
   "source": [
    "**histogram**"
   ]
  },
  {
   "cell_type": "code",
   "execution_count": null,
   "metadata": {},
   "outputs": [],
   "source": [
    "n = np.random.randn(100000)\n",
    "fig, axes = plt.subplots(1, 2, figsize=(12,4))\n",
    "\n",
    "axes[0].hist(n)\n",
    "axes[0].set_title(\"Default histogram\")\n",
    "axes[0].set_xlim((min(n), max(n)))\n",
    "\n",
    "axes[1].hist(n, cumulative=True, bins=50)\n",
    "axes[1].set_title(\"Cumulative detailed histogram\")\n",
    "axes[1].set_xlim((min(n), max(n)));"
   ]
  },
  {
   "cell_type": "markdown",
   "metadata": {},
   "source": [
    "#### Stack Plots\n",
    "- Plot a collection linear data, in a vertical order, stacking each linear plot on another.\n",
    "- All the data share the same x-values.\n",
    "- Used to represent various datasets without overlapping over each other.\n",
    "\n",
    "```python\n",
    "   stackplot(x, y1, y2, ..., yn, c=None, ...)\n",
    "````"
   ]
  },
  {
   "cell_type": "code",
   "execution_count": null,
   "metadata": {
    "scrolled": true
   },
   "outputs": [],
   "source": [
    "fig, axes = plt.subplots(1, 1, figsize=(11,6))\n",
    "\n",
    "xvals = [ 1,  2,  3,  4,  5,  6,  7,  8,  9]\n",
    "yvals1  = [23, 40, 28, 43,  8, 44, 43, 18, 17]\n",
    "yvals2  = [17, 30, 22, 14, 17, 17, 29, 22, 30]\n",
    "yvals3  = [15, 31, 18, 22, 18, 19, 13, 32, 39]\n",
    "\n",
    "# Adding legend for stack plots is tricky.\n",
    "axes.plot([], [], color='r', label = 'red')\n",
    "axes.plot([], [], color='g', label = 'green')\n",
    "axes.plot([], [], color='b', label = 'blue')\n",
    "\n",
    "axes.stackplot(xvals, yvals1, yvals2, yvals3, colors= ['r', 'g', 'b'])\n",
    "plt.title('Stack Plot Example')\n",
    "plt.legend(loc='best');"
   ]
  },
  {
   "cell_type": "markdown",
   "metadata": {},
   "source": [
    "Using a disctionary syntax to stack the y-values:"
   ]
  },
  {
   "cell_type": "code",
   "execution_count": null,
   "metadata": {},
   "outputs": [],
   "source": [
    "fig, axes = plt.subplots(1, 1, figsize=(11,6))\n",
    "\n",
    "xvals = [ 1,  2,  3,  4,  5,  6,  7,  8,  9]\n",
    "yvals1  = [23, 40, 28, 43,  8, 44, 43, 18, 17]\n",
    "yvals2  = [17, 30, 22, 14, 17, 17, 29, 22, 30]\n",
    "yvals3  = [15, 31, 18, 22, 18, 19, 13, 32, 39]\n",
    "\n",
    "yvals = {\n",
    "    \"y1\": yvals1,\n",
    "    \"y2\": yvals2,\n",
    "    \"y3\": yvals3,\n",
    "}\n",
    "\n",
    "axes.stackplot(xvals, yvals.values(), \n",
    "               labels=yvals.keys(),\n",
    "               colors= ['r', 'g', 'b'])\n",
    "plt.title('Stack Plot Example')\n",
    "plt.legend(loc='best');"
   ]
  },
  {
   "cell_type": "markdown",
   "metadata": {},
   "source": [
    "**pie chart**"
   ]
  },
  {
   "cell_type": "code",
   "execution_count": null,
   "metadata": {},
   "outputs": [],
   "source": [
    "fig = plt.figure(1, figsize=(6,6))\n",
    "ax = fig.add_axes([0.1, 0.1, 0.8, 0.8])\n",
    "labels = 'Frogs', 'Hogs', 'Dogs', 'Logs'\n",
    "fracs = [15,30,45, 10]\n",
    "explode = (0, 0.1, 0, 0)\n",
    "ax.pie(fracs, \n",
    "       explode=explode, \n",
    "       labels=labels, \n",
    "       autopct='%1.1f%%', \n",
    "       shadow=True)\n",
    "ax.set_title('Raining Hogs and Dogs', \n",
    "             bbox={'facecolor':'0.9', 'pad':15})"
   ]
  },
  {
   "cell_type": "markdown",
   "metadata": {},
   "source": [
    "**Contour Plot and Colorbar**"
   ]
  },
  {
   "cell_type": "code",
   "execution_count": null,
   "metadata": {},
   "outputs": [],
   "source": [
    "def f(x, y):\n",
    "    return np.sin(x) ** 10 + np.cos(10 + y * x) * np.cos(x)\n",
    "\n",
    "x = np.linspace(0, 5, 50)\n",
    "y = np.linspace(0, 5, 40)\n",
    "\n",
    "X, Y = np.meshgrid(x, y)\n",
    "Z = f(X, Y)"
   ]
  },
  {
   "cell_type": "code",
   "execution_count": null,
   "metadata": {},
   "outputs": [],
   "source": [
    "fig, ax = plt.subplots()\n",
    "p = ax.contour(X, Y, Z, colors='black')"
   ]
  },
  {
   "cell_type": "code",
   "execution_count": null,
   "metadata": {},
   "outputs": [],
   "source": [
    "fig, ax = plt.subplots()\n",
    "cmap = cm.get_cmap('jet', 10)    # 10 discrete colors\n",
    "cp = ax.contour(X, Y, Z, 10, cmap=cmap);"
   ]
  },
  {
   "cell_type": "code",
   "execution_count": null,
   "metadata": {},
   "outputs": [],
   "source": [
    "fig, ax = plt.subplots()\n",
    "cmap = cm.get_cmap('jet', 10)    # 10 discrete colors\n",
    "p = ax.contourf(X, Y, Z, 20, cmap=cmap)\n",
    "cb = fig.colorbar(p, ax=ax)"
   ]
  },
  {
   "cell_type": "markdown",
   "metadata": {},
   "source": [
    "## <font color=\"purple\">Going Deeper: 3D Figures</font>\n",
    "\n",
    "- To use 3D graphics in matplotlib, we first need to create an instance of the `Axes3D` class. \n",
    "- 3D axes can be added to a matplotlib figure canvas in exactly the same way as 2D axes; or, more conveniently, by passing a `projection='3d'` keyword argument to the `add_axes` or `add_subplot` methods."
   ]
  },
  {
   "cell_type": "code",
   "execution_count": null,
   "metadata": {},
   "outputs": [],
   "source": [
    "from mpl_toolkits.mplot3d.axes3d import Axes3D"
   ]
  },
  {
   "cell_type": "markdown",
   "metadata": {},
   "source": [
    "**Surface Plots**"
   ]
  },
  {
   "cell_type": "code",
   "execution_count": null,
   "metadata": {},
   "outputs": [],
   "source": [
    "alpha = 0.7\n",
    "phi_ext = 2 * np.pi * 0.5\n",
    "\n",
    "def flux_qubit_potential(phi_m, phi_p):\n",
    "    return 2 + alpha - 2 * np.cos(phi_p) * np.cos(phi_m) - alpha * np.cos(phi_ext - 2*phi_p)\n",
    "\n",
    "phi_m = np.linspace(0, 2*np.pi, 100)\n",
    "phi_p = np.linspace(0, 2*np.pi, 100)\n",
    "X, Y = np.meshgrid(phi_p, phi_m)\n",
    "Z = flux_qubit_potential(X, Y).T"
   ]
  },
  {
   "cell_type": "code",
   "execution_count": null,
   "metadata": {},
   "outputs": [],
   "source": [
    "fig = plt.figure(figsize=(14,6))\n",
    "\n",
    "# `ax` is a 3D-aware axis instance because of \n",
    "# the projection='3d' keyword argument to add_subplot\n",
    "ax = fig.add_subplot(1, 2, 1, projection='3d')\n",
    "\n",
    "p = ax.plot_surface(X, Y, Z, rstride=1, cstride=2, linewidth=0)\n",
    "\n",
    "# surface_plot with color grading and color bar\n",
    "ax = fig.add_subplot(1, 2, 2, projection='3d')\n",
    "p = ax.plot_surface(X, Y, Z, rstride=1, cstride=1, \n",
    "                    cmap=matplotlib.cm.coolwarm, \n",
    "                    linewidth=0, antialiased=False)\n",
    "cb = fig.colorbar(p, shrink=0.5)"
   ]
  },
  {
   "cell_type": "markdown",
   "metadata": {},
   "source": [
    "**Wire-Frame Plot**"
   ]
  },
  {
   "cell_type": "code",
   "execution_count": null,
   "metadata": {},
   "outputs": [],
   "source": [
    "fig = plt.figure(figsize=(8,6))\n",
    "\n",
    "ax = fig.add_subplot(1, 1, 1, projection='3d')\n",
    "p = ax.plot_wireframe(X, Y, Z, rstride=4, cstride=4)"
   ]
  },
  {
   "cell_type": "markdown",
   "metadata": {},
   "source": [
    "**Coutour Plots with Projections**"
   ]
  },
  {
   "cell_type": "code",
   "execution_count": null,
   "metadata": {},
   "outputs": [],
   "source": [
    "fig = plt.figure(figsize=(8,6))\n",
    "\n",
    "ax = fig.add_subplot(1,1,1, projection='3d')\n",
    "\n",
    "ax.plot_surface(X, Y, Z, rstride=4, cstride=4, alpha=0.25)\n",
    "cset = ax.contour(X, Y, Z, zdir='z', offset=-np.pi, \n",
    "                  cmap=matplotlib.cm.coolwarm)\n",
    "cset = ax.contour(X, Y, Z, zdir='x', offset=-np.pi, \n",
    "                  cmap=matplotlib.cm.coolwarm)\n",
    "cset = ax.contour(X, Y, Z, zdir='y', offset=3*np.pi, \n",
    "                  cmap=matplotlib.cm.coolwarm)\n",
    "\n",
    "ax.set_xlim3d(-np.pi, 2*np.pi);\n",
    "ax.set_ylim3d(0, 3*np.pi);\n",
    "ax.set_zlim3d(-np.pi, 2*np.pi);"
   ]
  },
  {
   "cell_type": "markdown",
   "metadata": {},
   "source": [
    "**Change the View Angle**\n",
    "\n",
    "We can change the perspective of a 3D plot using the `view_init` method, which takes two arguments: `elevation` and `azimuth` angle (in degrees)."
   ]
  },
  {
   "cell_type": "code",
   "execution_count": null,
   "metadata": {},
   "outputs": [],
   "source": [
    "fig = plt.figure(figsize=(12,6))\n",
    "\n",
    "ax = fig.add_subplot(1,2,1, projection='3d')\n",
    "ax.plot_surface(X, Y, Z, rstride=4, cstride=4, alpha=0.25)\n",
    "ax.view_init(30, 45)\n",
    "\n",
    "ax = fig.add_subplot(1,2,2, projection='3d')\n",
    "ax.plot_surface(X, Y, Z, rstride=4, cstride=4, alpha=0.25)\n",
    "ax.view_init(70, 30)\n",
    "\n",
    "fig.tight_layout()"
   ]
  },
  {
   "cell_type": "markdown",
   "metadata": {},
   "source": [
    "## <font color=\"purple\">Going Deeper: Manipulating Images</font>"
   ]
  },
  {
   "cell_type": "markdown",
   "metadata": {},
   "source": [
    "Obtain a remote file:"
   ]
  },
  {
   "cell_type": "code",
   "execution_count": null,
   "metadata": {},
   "outputs": [],
   "source": [
    "import urllib.request\n",
    "url = 'https://raw.githubusercontent.com/pytrain/viz/master/dessert.png'\n",
    "urllib.request.urlretrieve(url, \"dessert.png\")"
   ]
  },
  {
   "cell_type": "code",
   "execution_count": null,
   "metadata": {},
   "outputs": [],
   "source": [
    "img = plt.imread('dessert.png')\n",
    "print(\"Type  of image object: \", type(img))\n",
    "print(\"Shape of image object: \", img.shape)"
   ]
  },
  {
   "cell_type": "markdown",
   "metadata": {},
   "source": [
    "It's a 24-bit RGB PNG image (8 bits for each of R, G, B)."
   ]
  },
  {
   "cell_type": "code",
   "execution_count": null,
   "metadata": {},
   "outputs": [],
   "source": [
    "print(img)"
   ]
  },
  {
   "cell_type": "markdown",
   "metadata": {},
   "source": [
    "What is the type of the entries of `img`?"
   ]
  },
  {
   "cell_type": "code",
   "execution_count": null,
   "metadata": {},
   "outputs": [],
   "source": [
    "print(img.dtype)"
   ]
  },
  {
   "cell_type": "markdown",
   "metadata": {},
   "source": [
    "- The dtype there - float32. \n",
    "- Matplotlib has rescaled the 8 bit data from each channel to floating point data between 0.0 and 1.0. "
   ]
  },
  {
   "cell_type": "markdown",
   "metadata": {},
   "source": [
    "We can now plot the image using the `imshow()` function:"
   ]
  },
  {
   "cell_type": "code",
   "execution_count": null,
   "metadata": {},
   "outputs": [],
   "source": [
    "plt.imshow(img)"
   ]
  },
  {
   "cell_type": "markdown",
   "metadata": {},
   "source": [
    "Plot the R, G, B channels of the image."
   ]
  },
  {
   "cell_type": "code",
   "execution_count": null,
   "metadata": {},
   "outputs": [],
   "source": [
    "# \n",
    "fig, ax = plt.subplots(1,4, figsize=(12,8))\n",
    "ax[0].imshow(img[:,:,0], cmap=cm.Reds_r)\n",
    "ax[1].imshow(img[:,:,1], cmap=cm.Greens_r)\n",
    "ax[2].imshow(img[:,:,2], cmap=cm.Blues_r)\n",
    "ax[3].imshow(img);\n",
    "#for a in ax:\n",
    "#    a.set_xticklabels([])\n",
    "#    a.set_yticklabels([])"
   ]
  },
  {
   "cell_type": "markdown",
   "metadata": {},
   "source": [
    "## <font color=\"purple\"> Going Deeper: Matplotlib `rcParams`</font>\n",
    "\n",
    "- We can dynamically change the default rc (runtime configuration) settings in a Python script.\n",
    "- All rc settings are stored in a dictionary-like variable called `matplotlib.rcParams`, which is global to Matplotlib.\n",
    "\n",
    "Here are some sample settings:"
   ]
  },
  {
   "cell_type": "code",
   "execution_count": null,
   "metadata": {},
   "outputs": [],
   "source": [
    "# Font\n",
    "matplotlib.rcParams['font.size'] = 14\n",
    "\n",
    "# Line\n",
    "matplotlib.rcParams['lines.linewidth'] = 2\n",
    "matplotlib.rcParams['lines.linestyle'] = '--'\n",
    "\n",
    "# Spines\n",
    "matplotlib.rcParams['axes.spines.left'] = True\n",
    "matplotlib.rcParams['axes.spines.right'] = True\n",
    "matplotlib.rcParams['axes.spines.top'] = True\n",
    "matplotlib.rcParams['axes.spines.bottom'] = True\n",
    "\n",
    "# Axis\n",
    "matplotlib.rcParams['xaxis.labellocation'] = 'center'\n",
    "matplotlib.rcParams['yaxis.labellocation'] = 'center'\n",
    "\n",
    "# Grids\n",
    "matplotlib.rcParams['grid.linestyle'] = '-' \n",
    "matplotlib.rcParams['grid.linewidth'] = 0.8 \n",
    "\n",
    "# Legend\n",
    "matplotlib.rcParams['legend.loc'] = 'best'\n",
    "\n",
    "matplotlib.rcParams['figure.figsize'] = (10, 6)"
   ]
  },
  {
   "cell_type": "code",
   "execution_count": null,
   "metadata": {},
   "outputs": [],
   "source": [
    "fig, ax = plt.subplots()\n",
    "\n",
    "xx = np.linspace(-0.75, 1., 100)\n",
    "ax.plot(xx, xx**2, xx, xx**3)\n",
    "\n",
    "ax.text(0.15, 0.2, r\"$y=x^2$\", fontsize=20, color=\"blue\")\n",
    "ax.text(0.65, 0.1, r\"$y=x^3$\", fontsize=20, color=\"green\");"
   ]
  },
  {
   "cell_type": "markdown",
   "metadata": {},
   "source": [
    "#### Temporary `rc` Settings\n",
    "\n",
    "We can temporarily change the global settings using the `matplotlib.rc_context` context manager:"
   ]
  },
  {
   "cell_type": "code",
   "execution_count": null,
   "metadata": {},
   "outputs": [],
   "source": [
    "temp_settings = {\n",
    "    'lines.linewidth': 1, \n",
    "    'lines.linestyle': ':'\n",
    "}\n",
    "with matplotlib.rc_context(temp_settings):\n",
    "    fig, ax = plt.subplots()\n",
    "\n",
    "    xx = np.linspace(-0.75, 1., 100)\n",
    "    ax.plot(xx, xx**2, xx, xx**3)\n",
    "\n",
    "    ax.text(0.15, 0.2, r\"$y=x^2$\", fontsize=20, color=\"blue\")\n",
    "    ax.text(0.65, 0.1, r\"$y=x^3$\", fontsize=20, color=\"green\");"
   ]
  },
  {
   "cell_type": "code",
   "execution_count": null,
   "metadata": {},
   "outputs": [],
   "source": []
  },
  {
   "cell_type": "markdown",
   "metadata": {},
   "source": [
    "#### Reset the Default Parameters:"
   ]
  },
  {
   "cell_type": "code",
   "execution_count": null,
   "metadata": {},
   "outputs": [],
   "source": [
    "plt.rcParams.update(plt.rcParamsDefault)"
   ]
  },
  {
   "cell_type": "code",
   "execution_count": null,
   "metadata": {},
   "outputs": [],
   "source": [
    "fig, ax = plt.subplots()\n",
    "\n",
    "xx = np.linspace(-0.75, 1., 100)\n",
    "ax.plot(xx, xx**2, xx, xx**3)\n",
    "\n",
    "ax.text(0.15, 0.2, r\"$y=x^2$\", fontsize=20, color=\"blue\")\n",
    "ax.text(0.65, 0.1, r\"$y=x^3$\", fontsize=20, color=\"green\");"
   ]
  },
  {
   "cell_type": "code",
   "execution_count": null,
   "metadata": {},
   "outputs": [],
   "source": []
  }
 ],
 "metadata": {
  "anaconda-cloud": {},
  "kernelspec": {
   "display_name": "Python 3 (ipykernel)",
   "language": "python",
   "name": "python3"
  },
  "language_info": {
   "codemirror_mode": {
    "name": "ipython",
    "version": 3
   },
   "file_extension": ".py",
   "mimetype": "text/x-python",
   "name": "python",
   "nbconvert_exporter": "python",
   "pygments_lexer": "ipython3",
   "version": "3.8.2"
  }
 },
 "nbformat": 4,
 "nbformat_minor": 1
}
