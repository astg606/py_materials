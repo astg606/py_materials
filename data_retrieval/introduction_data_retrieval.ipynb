{
 "cells": [
  {
   "cell_type": "markdown",
   "metadata": {},
   "source": [
    "![NASA](http://www.nasa.gov/sites/all/themes/custom/nasatwo/images/nasa-logo.svg)\n",
    "\n",
    "<center>\n",
    "<h1><font size=\"+3\">GSFC Python Bootcamp</font></h1>\n",
    "</center>\n",
    "\n",
    "---\n",
    "\n",
    "<CENTER>\n",
    "<H1 style=\"color:red\">\n",
    "Data Retrieval with Python\n",
    "</H1>\n",
    "</CENTER>"
   ]
  },
  {
   "cell_type": "code",
   "execution_count": null,
   "metadata": {},
   "outputs": [],
   "source": [
    "from __future__ import print_function"
   ]
  },
  {
   "cell_type": "markdown",
   "metadata": {},
   "source": [
    "## <font color='red'>What will be Covered?</font>"
   ]
  },
  {
   "cell_type": "markdown",
   "metadata": {},
   "source": [
    "+ FTP\n",
    "+ wget\n",
    "+ Accessing Web Pages with Requests\n",
    "+ Web scrapping with BeautifulSoup"
   ]
  },
  {
   "cell_type": "markdown",
   "metadata": {},
   "source": [
    "## <font color='red'>Reference Documents</font>\n",
    "\n",
    "* <a href=\"http://www.blog.pythonlibrary.org/2016/06/23/python-101-an-intro-to-ftplib/\"> Python 101: An Intro to ftplib</a>\n",
    "* <a href=\"http://zetcode.com/python/ftp/\">Python FTP tutorial </a>\n",
    "* <a href=\"https://pythonprogramming.net/urllib-tutorial-python-3/\">Python urllib tutorial for Accessing the Internet </a>\n",
    "* <a href=\"http://zetcode.com/python/requests/\">Python Requests Tutorial</a>\n",
    "* <a href=\"https://www.learndatasci.com/tutorials/ultimate-guide-web-scraping-w-python-requests-and-beautifulsoup/\">Ultimate Guide to Web Scraping with Python Part 1: Requests and BeautifulSoup</a>"
   ]
  },
  {
   "cell_type": "markdown",
   "metadata": {},
   "source": [
    "## <font color='red'> FTP </font>"
   ]
  },
  {
   "cell_type": "markdown",
   "metadata": {},
   "source": [
    "<UL>\n",
    "<LI> FTP (File Transfer Protocol) is a fast and convenient way to transfer files over the Internet. \n",
    "<LI> To make FTP work, you need a client (your machine) and a server (the machine to/from which you are putting/getting files).\n",
    "</UL>"
   ]
  },
  {
   "cell_type": "markdown",
   "metadata": {},
   "source": [
    "#### Basic ftp Session"
   ]
  },
  {
   "cell_type": "markdown",
   "metadata": {},
   "source": [
    "- You first need to connect to a server."
   ]
  },
  {
   "cell_type": "code",
   "execution_count": null,
   "metadata": {},
   "outputs": [],
   "source": [
    "import ftplib"
   ]
  },
  {
   "cell_type": "code",
   "execution_count": null,
   "metadata": {},
   "outputs": [],
   "source": [
    "# Session without userid and password requirement\n",
    "\n",
    "ftp_server = 'ftp.cse.buffalo.edu'\n",
    "ftp_session= ftplib.FTP(ftp_server)\n",
    "ftp_session.login()\n",
    "ftp_session.quit()"
   ]
  },
  {
   "cell_type": "markdown",
   "metadata": {},
   "source": [
    "- Since we did not pass a username or password, Python assumes we want to login anonymously. \n",
    "- If you need to connect to the FTP server using a non-standard port, then you can do so using the connect method."
   ]
  },
  {
   "cell_type": "code",
   "execution_count": null,
   "metadata": {},
   "outputs": [],
   "source": [
    "ftp_session= ftplib.FTP()\n",
    "PORT = 12345\n",
    "ftp_session.connect(ftp_server, PORT)\n",
    "ftp_session.quit()"
   ]
  },
  {
   "cell_type": "code",
   "execution_count": null,
   "metadata": {},
   "outputs": [],
   "source": [
    "# Session that needs a userid and a password\n",
    "\n",
    "ftp_server = \"ftp.nluug.nl\"\n",
    "my_userid  = \"anonymous\"\n",
    "my_passwd  = \"ftplib-example-1\"\n",
    "\n",
    "ftp_session = ftplib.FTP(ftp_server)\n",
    "ftp_session.login(my_userid, my_passwd)\n",
    " \n",
    "ftp_session.quit()"
   ]
  },
  {
   "cell_type": "code",
   "execution_count": null,
   "metadata": {},
   "outputs": [],
   "source": [
    "# Write a function that initiates a FTP session\n",
    "\n",
    "def open_ftp_session(ftp_server, my_userid, my_passwd):\n",
    "    \"\"\"\n",
    "       Open a ftp session given the server ftp address,\n",
    "       the user's ID and the user's password.\n",
    "       \n",
    "       @param ftp_server: name of the ftp server (string)\n",
    "       @param my_userid:  user ID on the ftp server (string)\n",
    "       @param my_passwd:  user password on the ftp server (string)\n",
    "    \"\"\"\n",
    "    \n",
    "    ftp_session = ftplib.FTP(ftp_server)\n",
    "    ftp_session.login(my_userid, my_passwd)\n",
    "    \n",
    "    return ftp_session"
   ]
  },
  {
   "cell_type": "code",
   "execution_count": null,
   "metadata": {},
   "outputs": [],
   "source": [
    "print(open_ftp_session.__doc__)"
   ]
  },
  {
   "cell_type": "code",
   "execution_count": null,
   "metadata": {},
   "outputs": [],
   "source": [
    "ftp_session = open_ftp_session(ftp_server, my_userid, my_passwd)"
   ]
  },
  {
   "cell_type": "markdown",
   "metadata": {},
   "source": [
    "#### List Directories"
   ]
  },
  {
   "cell_type": "code",
   "execution_count": null,
   "metadata": {},
   "outputs": [],
   "source": [
    "# To list the top directories in the server\n",
    "\n",
    "ftp_session.retrlines('LIST')"
   ]
  },
  {
   "cell_type": "markdown",
   "metadata": {},
   "source": [
    "- The above retrieve the list of directories and print the information.\n",
    "- You may want to pass the information to a variable."
   ]
  },
  {
   "cell_type": "code",
   "execution_count": null,
   "metadata": {},
   "outputs": [],
   "source": [
    "def ftp_list_top_dirs(ftp_session):\n",
    "    \"\"\"\n",
    "       List the top directories on a ftp server\n",
    "       \n",
    "       @param ftp_session: ftp session object\n",
    "          \n",
    "       Returned Value:\n",
    "          - List of directories and files \n",
    "           (similar to the Unix command 'ls -l')\n",
    "    \"\"\"\n",
    " \n",
    "    data = []\n",
    "\n",
    "    # Get the list of files\n",
    "    ftp_session.dir(data.append)\n",
    "    \n",
    "    return data"
   ]
  },
  {
   "cell_type": "code",
   "execution_count": null,
   "metadata": {},
   "outputs": [],
   "source": [
    "data = ftp_list_top_dirs(ftp_session)\n",
    "for line in data:\n",
    "    print(\"-\", line)"
   ]
  },
  {
   "cell_type": "markdown",
   "metadata": {},
   "source": [
    "#### Go to a Specific Directory"
   ]
  },
  {
   "cell_type": "code",
   "execution_count": null,
   "metadata": {},
   "outputs": [],
   "source": [
    "def ftp_dir_content(ftp_session, dir_name=None):\n",
    "    \"\"\"\n",
    "       List the content of a diirectory in a ftp server.\n",
    "       If the directory is not provided, will list the content\n",
    "       of the top directory.\n",
    "       \n",
    "       @param ftp_session: ftp session object\n",
    "       @param dir_name:    name of the directory you want to access (string)\n",
    "        \n",
    "       Returned Value:\n",
    "          - List of directories and files \n",
    "           (similar to the Unix command 'ls -l')\n",
    "    \"\"\" \n",
    " \n",
    "    data = []\n",
    "    \n",
    "    if dir_name != None:\n",
    "        # Change directory\n",
    "        ftp_session.cwd(dir_name)\n",
    "\n",
    "    # Get the list of files\n",
    "    ftp_session.dir(data.append)\n",
    "\n",
    "    return data"
   ]
  },
  {
   "cell_type": "code",
   "execution_count": null,
   "metadata": {},
   "outputs": [],
   "source": [
    "data = ftp_dir_content(ftp_session)\n",
    "for line in data:\n",
    "    print(\"-\", line)"
   ]
  },
  {
   "cell_type": "code",
   "execution_count": null,
   "metadata": {},
   "outputs": [],
   "source": [
    "data = ftp_dir_content(ftp_session, dir_name='pub')\n",
    "for line in data:\n",
    "    print(\"-\", line)"
   ]
  },
  {
   "cell_type": "markdown",
   "metadata": {},
   "source": [
    "#### Download a File"
   ]
  },
  {
   "cell_type": "code",
   "execution_count": null,
   "metadata": {},
   "outputs": [],
   "source": [
    "import sys\n",
    " \n",
    "def ftp_get_file(ftp_session, file_name):\n",
    "    \"\"\"\n",
    "         Get a file from a ftp server\n",
    "\n",
    "         @param ftp_session: ftp session object\n",
    "         @param file_name: name of the file you want to download  \n",
    "    \"\"\"\n",
    "    try:\n",
    "        ftp_session.retrbinary(\"RETR \" + file_name ,open(file_name, 'wb').write)\n",
    "    except:\n",
    "        print(\"Error - Cannot obtain file: \"+ file_name)"
   ]
  },
  {
   "cell_type": "code",
   "execution_count": null,
   "metadata": {},
   "outputs": [],
   "source": [
    "dir_name  = '/pub/'\n",
    "file_name = 'README.nluug'\n",
    "\n",
    "ftp_session.cwd(dir_name)   \n",
    "ftp_get_file(ftp_session, file_name)"
   ]
  },
  {
   "cell_type": "markdown",
   "metadata": {},
   "source": [
    "#### Uploading a File"
   ]
  },
  {
   "cell_type": "code",
   "execution_count": null,
   "metadata": {},
   "outputs": [],
   "source": [
    "import os\n",
    " \n",
    "def ftp_put_file(ftp_session, file_name):\n",
    "    \"\"\"\n",
    "         Put a file to a ftp server.\n",
    "\n",
    "         @param ftp_session: ftp session object\n",
    "         @param file_name: name of the file you want to upload  \n",
    "    \"\"\"\n",
    "    file_ext = os.path.splitext(file_name)[1]\n",
    "    if file_ext in (\".txt\", \".htm\", \".html\"):\n",
    "        ftp_session.storlines(\"STOR \" + file_name, open(file_name))\n",
    "    else:\n",
    "        ftp_session.storbinary(\"STOR \" + file, open(file_mane, \"rb\"), 1024)"
   ]
  },
  {
   "cell_type": "code",
   "execution_count": null,
   "metadata": {},
   "outputs": [],
   "source": [
    "ftp_put_file(ftp_session, \"README.nluug\")"
   ]
  },
  {
   "cell_type": "code",
   "execution_count": null,
   "metadata": {},
   "outputs": [],
   "source": [
    "ftp_session.quit()"
   ]
  },
  {
   "cell_type": "markdown",
   "metadata": {},
   "source": [
    "## <font color='red'>wget</font>"
   ]
  },
  {
   "cell_type": "markdown",
   "metadata": {},
   "source": [
    "<UL>\n",
    "<LI> Command line utility for downloading files from internet.\n",
    "<LI> It supports:\n",
    "    <OL> \n",
    "    <LI> Downloading multiple files\n",
    "    <LI> Downloading in the background \n",
    "    <LI> Resuming downloads\n",
    "    <LI> Limiting the bandwidth used for downloads and viewing headers.\n",
    "    </OL>\n",
    "</UL>"
   ]
  },
  {
   "cell_type": "code",
   "execution_count": null,
   "metadata": {},
   "outputs": [],
   "source": [
    "import urllib"
   ]
  },
  {
   "cell_type": "code",
   "execution_count": null,
   "metadata": {},
   "outputs": [],
   "source": [
    "mylink = \"https://www.unidata.ucar.edu/downloads/netcdf/ftp/netcdf-c-4.7.3.tar.gz\"\n",
    "\n",
    "urllib.request.urlretrieve(mylink, 'netcdf-c-4.7.3.tar.gz')"
   ]
  },
  {
   "cell_type": "code",
   "execution_count": null,
   "metadata": {},
   "outputs": [],
   "source": [
    "def wget_python(url_name, loc_file_name):\n",
    "    \"\"\"\n",
    "       Implementation of wget.\n",
    "       \n",
    "       @param url_name: url pointing to the remote file name\n",
    "       @param loc_file_name: local file name\n",
    "    \"\"\"\n",
    "    urllib.request.urlretrieve(url_name, loc_file_name)"
   ]
  },
  {
   "cell_type": "code",
   "execution_count": null,
   "metadata": {},
   "outputs": [],
   "source": [
    "import os\n",
    "\n",
    "list_urls = [\"https://www.unidata.ucar.edu/downloads/netcdf/ftp/netcdf-c-4.7.3.tar.gz\",\n",
    "            \"https://www.unidata.ucar.edu/downloads/netcdf/ftp/netcdf-fortran-4.5.2.tar.gz\",\n",
    "            \"https://www.unidata.ucar.edu/downloads/netcdf/ftp/netcdf-cxx4-4.3.1.tar.gz\"]\n",
    "for url_name in list_urls:\n",
    "    loc_file_name = os.path.basename(url_name)\n",
    "    print(\"Retrieving: \", loc_file_name)\n",
    "    wget_python(url_name, loc_file_name)"
   ]
  },
  {
   "cell_type": "markdown",
   "metadata": {},
   "source": [
    "## <font color='red'>Python requests</font>"
   ]
  },
  {
   "cell_type": "markdown",
   "metadata": {},
   "source": [
    "* Requests is a simple and elegant Python HTTP (Hypertext Transfer Protocol) library. \n",
    "* It provides methods for accessing Web resources via HTTP. \n",
    "* Requests is a built-in Python module."
   ]
  },
  {
   "cell_type": "code",
   "execution_count": null,
   "metadata": {},
   "outputs": [],
   "source": [
    "import requests as reqs\n",
    "\n",
    "print(reqs.__version__)\n",
    "print(reqs.__copyright__)"
   ]
  },
  {
   "cell_type": "markdown",
   "metadata": {},
   "source": [
    "The json module enables you to convert between JSON and Python Objects. "
   ]
  },
  {
   "cell_type": "markdown",
   "metadata": {},
   "source": [
    "**Reading a Web Page**\n",
    "- We use the function `get()` to grab the content of a web page into an object.\n",
    "- We extract from the object the HTML content of the page."
   ]
  },
  {
   "cell_type": "code",
   "execution_count": null,
   "metadata": {},
   "outputs": [],
   "source": [
    "resp = reqs.get(\"http://www.webcode.me\")\n",
    "\n",
    "print(resp.text)"
   ]
  },
  {
   "cell_type": "markdown",
   "metadata": {},
   "source": [
    "We can use the module `re` to strip all the HTML markups from the content."
   ]
  },
  {
   "cell_type": "code",
   "execution_count": null,
   "metadata": {},
   "outputs": [],
   "source": [
    "import re\n",
    "\n",
    "resp = reqs.get(\"http://www.webcode.me\")\n",
    "\n",
    "content = resp.text\n",
    "\n",
    "stripped = re.sub('<[^<]+?>', '', content)\n",
    "print(stripped)"
   ]
  },
  {
   "cell_type": "markdown",
   "metadata": {},
   "source": [
    "**HTTP Request**\n",
    "- An HTTP request is a message send from the client to the browser to retrieve some information or to make some action.\n",
    "- Request's request method creates a new request. \n",
    "- We use the `request` module methods: `get()`, `post()`, or `put()`."
   ]
  },
  {
   "cell_type": "markdown",
   "metadata": {},
   "source": [
    "Create a `GET` request and send it to the web site."
   ]
  },
  {
   "cell_type": "code",
   "execution_count": null,
   "metadata": {},
   "outputs": [],
   "source": [
    "resp = reqs.request(method='GET', url=\"http://www.webcode.me\")\n",
    "print(resp.text)"
   ]
  },
  {
   "cell_type": "markdown",
   "metadata": {},
   "source": [
    "**Getting the Status of a Web Page**\n",
    "- We perform an HTTP request with the `get()` method and check for the returned status.\n",
    "- 200 is a standard response for a successful HTTP request and 404 tells that the requested resource could not be found."
   ]
  },
  {
   "cell_type": "code",
   "execution_count": null,
   "metadata": {},
   "outputs": [],
   "source": [
    "resp = reqs.get(\"http://www.webcode.me\")\n",
    "print(resp.status_code)"
   ]
  },
  {
   "cell_type": "code",
   "execution_count": null,
   "metadata": {},
   "outputs": [],
   "source": [
    "resp = req.get(\"http://www.webcode.me/news\")\n",
    "print(resp.status_code)"
   ]
  },
  {
   "cell_type": "markdown",
   "metadata": {},
   "source": [
    "**`requests` `head()` Method**\n",
    "- The `head()` method retrieves document headers. \n",
    "- The headers consist of fields, including date, server, content type, or last modification time."
   ]
  },
  {
   "cell_type": "code",
   "execution_count": null,
   "metadata": {},
   "outputs": [],
   "source": [
    "resp = reqs.head(\"http://www.webcode.me\")\n",
    "\n",
    "print(\"Server: \" + resp.headers['server'])\n",
    "print(\"Last modified: \" + resp.headers['last-modified'])\n",
    "print(\"Content type: \" + resp.headers['content-type'])"
   ]
  },
  {
   "cell_type": "markdown",
   "metadata": {},
   "source": [
    "**`requests` `get()` Method**\n",
    "- The `get()` method issues a GET request to the server. \n",
    "- The GET method requests a representation of the specified resource."
   ]
  },
  {
   "cell_type": "markdown",
   "metadata": {},
   "source": [
    "The the following script sends a variable with a value to the httpbin.org server. The variable is specified directly in the URL."
   ]
  },
  {
   "cell_type": "code",
   "execution_count": null,
   "metadata": {},
   "outputs": [],
   "source": [
    "resp = reqs.get(\"https://httpbin.org/get?name=Peter\")\n",
    "print(resp.text)"
   ]
  },
  {
   "cell_type": "markdown",
   "metadata": {},
   "source": [
    "The `get()` method takes a params parameter where we can specify the query parameters.\n",
    "\n",
    "We send a GET request to the web site and pass the data, which is specified in the params parameter."
   ]
  },
  {
   "cell_type": "code",
   "execution_count": null,
   "metadata": {},
   "outputs": [],
   "source": [
    "payload = {'name': 'Peter', 'age': 23}\n",
    "resp = reqs.get(\"https://httpbin.org/get\", params=payload)"
   ]
  },
  {
   "cell_type": "code",
   "execution_count": null,
   "metadata": {},
   "outputs": [],
   "source": [
    "print(resp.url)"
   ]
  },
  {
   "cell_type": "code",
   "execution_count": null,
   "metadata": {},
   "outputs": [],
   "source": [
    "print(resp.text)"
   ]
  },
  {
   "cell_type": "markdown",
   "metadata": {},
   "source": [
    "**`requests` Redirection**\n",
    "- Redirection is a process of forwarding one URL to a different URL.\n",
    "- The HTTP response status code 301 Moved Permanently is used for permanent URL redirection; 302 Found for a temporary redirection."
   ]
  },
  {
   "cell_type": "markdown",
   "metadata": {},
   "source": [
    "In the following example, we issue a GET request to a web page. This page redirects to another page; redirect responses are stored in the history attribute of the response."
   ]
  },
  {
   "cell_type": "code",
   "execution_count": null,
   "metadata": {},
   "outputs": [],
   "source": [
    "resp = reqs.get(\"https://httpbin.org/redirect-to?url=/\")\n",
    "\n",
    "print(resp.status_code)\n",
    "print(resp.history)\n",
    "print(resp.url)      "
   ]
  },
  {
   "cell_type": "markdown",
   "metadata": {},
   "source": [
    "A GET request to https://httpbin.org/redirect-to was 302 redirected to https://httpbin.org.\n",
    "\n",
    "We can choose not to follow a redirect by using the `allow_redirects` parameter (set to `True` by default)."
   ]
  },
  {
   "cell_type": "code",
   "execution_count": null,
   "metadata": {},
   "outputs": [],
   "source": [
    "resp = reqs.get(\"https://httpbin.org/redirect-to?url=/\", allow_redirects=False)\n",
    "\n",
    "print(resp.status_code)\n",
    "print(resp.url)"
   ]
  },
  {
   "cell_type": "markdown",
   "metadata": {},
   "source": [
    "**`requests` `post` Value**\n",
    "- The `post` method dispatches a POST request on the given URL, providing the key/value pairs for the fill-in form content."
   ]
  },
  {
   "cell_type": "markdown",
   "metadata": {},
   "source": [
    "The following script sends a request with a name key having Peter value. The POST request is issued with the `post` method."
   ]
  },
  {
   "cell_type": "code",
   "execution_count": null,
   "metadata": {},
   "outputs": [],
   "source": [
    "data = {'name': 'Peter'}\n",
    "\n",
    "resp = reqs.post(\"https://httpbin.org/post\", data)\n",
    "print(resp.text)"
   ]
  },
  {
   "cell_type": "markdown",
   "metadata": {},
   "source": [
    "## <font color='red'>Python Beautiful Soup</font>\n",
    "\n",
    "- Web scraping allows you to download the HTML of a website and extract the data that you need.\n",
    "- Beautiful Soup is a Python library for scrapping data from websites.\n",
    "- Beautiful Soup creates a parse tree from parsed HTML and XML documents."
   ]
  },
  {
   "cell_type": "code",
   "execution_count": null,
   "metadata": {},
   "outputs": [],
   "source": [
    "import requests as reqs\n",
    "from bs4 import BeautifulSoup"
   ]
  },
  {
   "cell_type": "code",
   "execution_count": null,
   "metadata": {},
   "outputs": [],
   "source": [
    "source = reqs.get(\"http://www.webcode.me\")\n",
    "print(source)"
   ]
  },
  {
   "cell_type": "markdown",
   "metadata": {},
   "source": [
    "**Create a beautiful soup object**"
   ]
  },
  {
   "cell_type": "code",
   "execution_count": null,
   "metadata": {},
   "outputs": [],
   "source": [
    "soup = bs4.BeautifulSoup(source.text, 'html.parser')\n",
    "print(soup.prettify())"
   ]
  },
  {
   "cell_type": "markdown",
   "metadata": {},
   "source": [
    "**Title of the page**"
   ]
  },
  {
   "cell_type": "code",
   "execution_count": null,
   "metadata": {},
   "outputs": [],
   "source": [
    "print(soup.title)"
   ]
  },
  {
   "cell_type": "markdown",
   "metadata": {},
   "source": [
    "**Get attribute**"
   ]
  },
  {
   "cell_type": "code",
   "execution_count": null,
   "metadata": {},
   "outputs": [],
   "source": [
    "print(soup.title.name)"
   ]
  },
  {
   "cell_type": "markdown",
   "metadata": {},
   "source": [
    "**Get values**"
   ]
  },
  {
   "cell_type": "code",
   "execution_count": null,
   "metadata": {},
   "outputs": [],
   "source": [
    "print(soup.title.string)"
   ]
  },
  {
   "cell_type": "code",
   "execution_count": null,
   "metadata": {},
   "outputs": [],
   "source": [
    "print(soup.title.text)"
   ]
  },
  {
   "cell_type": "markdown",
   "metadata": {},
   "source": [
    "**Beginning navigation**"
   ]
  },
  {
   "cell_type": "code",
   "execution_count": null,
   "metadata": {},
   "outputs": [],
   "source": [
    "print(soup.title.parent.name)"
   ]
  },
  {
   "cell_type": "markdown",
   "metadata": {},
   "source": [
    "**Getting specific values**\n",
    "\n",
    "- We want to find paragraph tags `<p>`."
   ]
  },
  {
   "cell_type": "code",
   "execution_count": null,
   "metadata": {},
   "outputs": [],
   "source": [
    "print(soup.p)"
   ]
  },
  {
   "cell_type": "code",
   "execution_count": null,
   "metadata": {},
   "outputs": [],
   "source": [
    "print(soup.find_all('p'))"
   ]
  },
  {
   "cell_type": "code",
   "execution_count": null,
   "metadata": {},
   "outputs": [],
   "source": [
    "for paragraph in soup.find_all('p'):\n",
    "    print(paragraph.string)\n",
    "    print(str(paragraph.text))"
   ]
  },
  {
   "cell_type": "markdown",
   "metadata": {},
   "source": [
    "**Grab the text**\n",
    "\n",
    "- Use the method `get_text`."
   ]
  },
  {
   "cell_type": "code",
   "execution_count": null,
   "metadata": {},
   "outputs": [],
   "source": [
    "print(soup.get_text())"
   ]
  },
  {
   "cell_type": "markdown",
   "metadata": {},
   "source": [
    "## <font color=\"red\">Application</font>\n",
    "\n",
    "- We want to get all book names on historic New York Time Best Sellers (Business section)\n",
    "- The purpose is to:\n",
    "     1. Help to compile my reading list in 2020\n",
    "     2. Serve as reference to use Python for simple web analytics\n",
    "- We use the Python packages: `Pandas`, `Requests` and `Baeutiful Soup`\n",
    "- We save data in `pickle` and `csv` formats.\n",
    "\n",
    "The example was taken from: <a href=\"https://towardsdatascience.com/building-my-2020-reading-list-with-a-simple-python-script-b610c7f2c223\">Building my 2020 reading list with a simple Python script</a> by Pan Wu."
   ]
  },
  {
   "cell_type": "code",
   "execution_count": null,
   "metadata": {},
   "outputs": [],
   "source": [
    "import requests\n",
    "import pandas as pd\n",
    "from bs4 import BeautifulSoup\n",
    "\n",
    "# Create an empty Pandas dataframe\n",
    "nylist = pd.DataFrame()\n",
    "\n",
    "beg_year = 2013\n",
    "end_year = 2020\n",
    "for the_year in range(beg_year, end_year):\n",
    "    for the_month in range(1, 13):\n",
    "        cur_month = str(the_month).zfill(2) # month in two digits\n",
    "        # one need to get the URL pattern first, and then use Requests package to get the URL content\n",
    "        url = 'https://www.nytimes.com/books/best-sellers/{0}/{1}/01/business-books/'.format(the_year, cur_month)\n",
    "        page = requests.get(url)\n",
    "        print(\" --  try: {0}, {1} -- \".format(the_year, cur_month))\n",
    "        \n",
    "        # Ensure proper result is returned\n",
    "        if page.status_code != 200:\n",
    "            continue\n",
    "        \n",
    "        # one may want to use BeautifulSoup to parse the right elements out\n",
    "        soup = BeautifulSoup(page.text, 'html.parser')\n",
    "        \n",
    "        # the specific class names are unique for this URL and they don't change across all URLs\n",
    "        top_list = soup.findAll(\"ol\", {\"class\": \"css-12yzwg4\"})[0].findAll(\"div\", {\"class\": \"css-xe4cfy\"})\n",
    "        print(\"Year: {} - Month: {} - How many in the top list: {}\".format(the_year, the_month, len(top_list)))\n",
    "        \n",
    "        # loop through the Best Seller list in each Year-Month, and append the information into a pandas DataFrame\n",
    "        for i in range(len(top_list)):\n",
    "            book   = top_list[i].contents[0]\n",
    "            title  = book.findAll(\"h3\", {\"class\": \"css-5pe77f\"})[0].text\n",
    "            author = book.findAll(\"p\",  {\"class\": \"css-hjukut\"})[0].text\n",
    "            review = book.get(\"href\")\n",
    "            # print(\"{0}, {1}; review: {2}\".format(title, author, review))\n",
    "            one_item = pd.Series([the_year, the_month, title, author, i+1, review], index=['year', 'month', 'title', 'author', 'rank', 'review'])\n",
    "            nylist = nylist.append(one_item, ignore_index=True, sort=False)\n",
    "\n",
    "# write out the result to a pickle file for easy analysis later.\n",
    "nylist.to_pickle(\"nylist.pkl\")\n",
    "#nylist.to_csv(\"nylist.csv\", index=False)"
   ]
  },
  {
   "cell_type": "code",
   "execution_count": null,
   "metadata": {},
   "outputs": [],
   "source": [
    "nylist"
   ]
  },
  {
   "cell_type": "markdown",
   "metadata": {},
   "source": [
    "#### Exercise\n",
    "\n",
    "- Write a Python script that reads the file `nylist.pkl` and prints its content."
   ]
  }
 ],
 "metadata": {
  "anaconda-cloud": {},
  "kernelspec": {
   "display_name": "Python 3 (ipykernel)",
   "language": "python",
   "name": "python3"
  },
  "language_info": {
   "codemirror_mode": {
    "name": "ipython",
    "version": 3
   },
   "file_extension": ".py",
   "mimetype": "text/x-python",
   "name": "python",
   "nbconvert_exporter": "python",
   "pygments_lexer": "ipython3",
   "version": "3.8.2"
  }
 },
 "nbformat": 4,
 "nbformat_minor": 1
}
