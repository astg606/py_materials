{
 "cells": [
  {
   "cell_type": "markdown",
   "metadata": {},
   "source": [
    "<center>\n",
    "<table>\n",
    "  <tr>\n",
    "    <td><img src=\"http://www.nasa.gov/sites/all/themes/custom/nasatwo/images/nasa-logo.svg\" width=\"100\"/> </td>\n",
    "     <td><img src=\"https://github.com/astg606/py_materials/blob/master/logos/ASTG_logo.png?raw=true\" width=\"80\"/> </td>\n",
    "     <td> <img src=\"https://www.nccs.nasa.gov/sites/default/files/NCCS_Logo_0.png\" width=\"130\"/> </td>\n",
    "    </tr>\n",
    "</table>\n",
    "</center>\n",
    "\n",
    "        \n",
    "<center>\n",
    "<h1><font color= \"blue\" size=\"+3\">ASTG Python Courses</font></h1>\n",
    "</center>\n",
    "\n",
    "---\n",
    "\n",
    "<CENTER>\n",
    "<H1>\n",
    "    <font color=\"red\">Python Scripting and Packaging</font>\n",
    "</H1>\n",
    "</CENTER>"
   ]
  },
  {
   "cell_type": "markdown",
   "metadata": {},
   "source": [
    "# <font color=\"red\"> Useful References </font>\n",
    "* <A HREF=\"https://realpython.com/python-modules-packages/\"> Python Modules and Packages – An Introduction </A>\n",
    "* <A HREF=\"https://python-packaging.readthedocs.io/en/latest/minimal.html\"> How To Package Your Python Code</A>\n",
    "* <A HREF=\"https://packaging.python.org/tutorials/packaging-projects/\"> Packaging Python Projects </A>\n",
    "* <a href=\"https://python-course.eu/python-tutorial/packages.php\">Packages</a>\n",
    "* <a href=\"https://builtin.com/data-science/how-to-publish-python-code-pypi\">Publish Your Python Code to PyPI in 5 Simple Steps</a>"
   ]
  },
  {
   "cell_type": "markdown",
   "metadata": {},
   "source": [
    "# <font color=\"red\"> Objectives </font>\n",
    "\n",
    "- We want to write a Python application that converts temperatures (a list of values) from one unit to another.\n",
    "   - Written in such a way that that it can be resuable, maintainable and expandable.\n",
    "   - Documented\n",
    "- The application will be structured as a Python package could be shared and published.\n",
    "\n",
    "<p>\n",
    "<p>\n",
    "\n",
    "The application needs to have functions performing the conversions:\n",
    "    \n",
    "- **Kelvin to Celsius**: $C = K - 273.5$\n",
    "- **Kelvin to Fahrenheit**: $F = \\frac{9}{5}(K - 273.5) + 32$ \n",
    "- **Celsius to Fahrenheit**: $F = \\frac{9}{5}C + 32$ \n",
    "- **Celsius to Kelvin**: $K = C + 273.5$\n",
    "- **Fahrenheit to Celsius**: $C = \\frac{1}{1.80}(F - 32)$\n",
    "- **Fahrenheit to Kelvin**: $K = \\frac{5}{9}(F - 32) + 273.5$\n",
    " \n",
    "We might consider having a module that contains constant parameters such as `273.5`."
   ]
  },
  {
   "cell_type": "markdown",
   "metadata": {},
   "source": [
    "# <font color=\"red\">Python Namespace</font>\n",
    "\n",
    "- Each object (class, function, variable, etc.) manipulated in Python is assigned a name.\n",
    "- A namespace is a collection of names.\n",
    "- A namespace maps every name you have defined to corresponding objects.\n",
    "- There are three main namespaces:\n",
    "    - **Built-In**: Contains the names of all of Python’s built-in objects: all the names created when we start the Python interpreter and exist as long as the interpreter runs.\n",
    "    - **Global**: Covers the names from various imported modules used in a project. Python creates this namespace for every module included in your program. It will last until the program ends.\n",
    "    - **Local**: Is created whenever a function is executed and remains in existence until the function terminates. It covers the local names inside a function.\n",
    "- Namespaces help minimize collisions, making it clear to which object each name refers.\n",
    "   - **When we build our application, we need to make sure that proper conventions are used to avoid any collision.**\n",
    "\n",
    "![namespace](https://media.geeksforgeeks.org/wp-content/uploads/types_namespace-1.png)\n",
    "Image Source: geeksforgeeks.org"
   ]
  },
  {
   "cell_type": "markdown",
   "metadata": {},
   "source": [
    "- The `dir()` function returns the list of names in the current local scope."
   ]
  },
  {
   "cell_type": "code",
   "execution_count": null,
   "metadata": {},
   "outputs": [],
   "source": [
    "print(dir())"
   ]
  },
  {
   "cell_type": "markdown",
   "metadata": {},
   "source": [
    "- All the names listed in `dir()` are available to us\n",
    "\n",
    "We can zoom in on `__builtin__`:"
   ]
  },
  {
   "cell_type": "code",
   "execution_count": null,
   "metadata": {},
   "outputs": [],
   "source": [
    "print(dir(__builtin__))"
   ]
  },
  {
   "cell_type": "code",
   "execution_count": null,
   "metadata": {},
   "outputs": [],
   "source": [
    "__builtin__.__name__"
   ]
  },
  {
   "cell_type": "code",
   "execution_count": null,
   "metadata": {},
   "outputs": [],
   "source": [
    "help(__builtin__.sum)"
   ]
  },
  {
   "cell_type": "markdown",
   "metadata": {},
   "source": [
    "### <font color=\"orange\">Example</font>"
   ]
  },
  {
   "cell_type": "code",
   "execution_count": null,
   "metadata": {},
   "outputs": [],
   "source": [
    "print(f\"Namespace 1: {dir()}\")"
   ]
  },
  {
   "cell_type": "code",
   "execution_count": null,
   "metadata": {},
   "outputs": [],
   "source": [
    "from math import *\n",
    "print(f\"Namespace 2: {dir()}\")"
   ]
  },
  {
   "cell_type": "markdown",
   "metadata": {},
   "source": [
    "We can compute $\\sqrt{144.2}$ with the square root function coming from the `math` module:"
   ]
  },
  {
   "cell_type": "code",
   "execution_count": null,
   "metadata": {},
   "outputs": [],
   "source": [
    "print(sqrt(144.2))"
   ]
  },
  {
   "cell_type": "code",
   "execution_count": null,
   "metadata": {},
   "outputs": [],
   "source": [
    "from cmath import *\n",
    "print(\"Namespace 3: \", dir())"
   ]
  },
  {
   "cell_type": "markdown",
   "metadata": {},
   "source": [
    "Now we use the square root function coming from the `cmath` module:"
   ]
  },
  {
   "cell_type": "code",
   "execution_count": null,
   "metadata": {},
   "outputs": [],
   "source": [
    "print(sqrt(144.2))"
   ]
  },
  {
   "cell_type": "markdown",
   "metadata": {},
   "source": [
    "- Note the different values of $\\sqrt{144.2}$.\n",
    "- It is always important to know which functions are available in the namespace before they are called.\n",
    "- To avoid any collision/conflict, it is recommended not use the statement:\n",
    "\n",
    "```python\n",
    "   import module_name *\n",
    "```"
   ]
  },
  {
   "cell_type": "markdown",
   "metadata": {},
   "source": [
    "# <font color=\"red\"> Recall: What is a Module? </font>\n",
    "\n",
    "- A __module__ is a Python file with the extension `.py`.\n",
    "\n",
    "- The name of the __module__ is the name of the `.py` file.\n",
    "- A __module__ can have a set of functions, classes, variables, constants, etc., defined and implemented. \n",
    "\n",
    "- We use the __import__ statement to gain access to all attributes and functions present in the __module_name__.\n",
    "\n",
    "- Access to functions and attributes is accomplished using the __module_name.method__ syntax.\n",
    "\n",
    "We use __modules__:\n",
    "  \n",
    "+ To break down large programs into small manageable and organized files (each containing classes, functions and other resources of similar relevance).\n",
    "+ To make the code easy to understand, use and maintain.\n",
    "+ To provide code reusability. We can define our most used functions or parameters in a module and import it, instead of copying their definitions into different programs."
   ]
  },
  {
   "cell_type": "markdown",
   "metadata": {},
   "source": [
    "### Sample Module: `temp.py`\n",
    "\n",
    "We create a the file `temp.py` that contains two functions."
   ]
  },
  {
   "cell_type": "code",
   "execution_count": null,
   "metadata": {},
   "outputs": [],
   "source": [
    "%%writefile temp.py\n",
    "\n",
    "zeroCelcius = 273.5  # zero degree Celcius in Kelvin\n",
    "\n",
    "def convert_celcius_to_kelvin(temperatureC):\n",
    "    return temperatureC + zeroCelcius\n",
    "\n",
    "def convert_kelvin_to_celcius(temperatureK):\n",
    "    return temperatureK - zeroCelcius    "
   ]
  },
  {
   "cell_type": "markdown",
   "metadata": {},
   "source": [
    "### Using the Sample Module"
   ]
  },
  {
   "cell_type": "code",
   "execution_count": null,
   "metadata": {},
   "outputs": [],
   "source": [
    "import temp"
   ]
  },
  {
   "cell_type": "code",
   "execution_count": null,
   "metadata": {},
   "outputs": [],
   "source": [
    "print(dir())"
   ]
  },
  {
   "cell_type": "code",
   "execution_count": null,
   "metadata": {},
   "outputs": [],
   "source": [
    "print(dir(temp))"
   ]
  },
  {
   "cell_type": "code",
   "execution_count": null,
   "metadata": {},
   "outputs": [],
   "source": [
    "print(dir(temp.convert_celcius_to_kelvin))"
   ]
  },
  {
   "cell_type": "code",
   "execution_count": null,
   "metadata": {
    "slideshow": {
     "slide_type": "slide"
    }
   },
   "outputs": [],
   "source": [
    "print(temp.convert_celcius_to_kelvin(15.7))\n",
    "print(convert_kelvin_to_celcius(302.9))"
   ]
  },
  {
   "cell_type": "code",
   "execution_count": null,
   "metadata": {
    "slideshow": {
     "slide_type": "fragment"
    }
   },
   "outputs": [],
   "source": [
    "from temp import convert_kelvin_to_celcius # Careful when using this\n",
    "print(convert_kelvin_to_celcius(294.1))"
   ]
  },
  {
   "cell_type": "code",
   "execution_count": null,
   "metadata": {
    "slideshow": {
     "slide_type": "fragment"
    }
   },
   "outputs": [],
   "source": [
    "from temp import *  # Discouraged"
   ]
  },
  {
   "cell_type": "markdown",
   "metadata": {
    "slideshow": {
     "slide_type": "slide"
    }
   },
   "source": [
    "### Running a Module as a Script\n",
    "\n",
    "- When Python runs a module it sets up a bunch of variables - one of then is `__name__`. \n",
    "\n",
    "- `__name__` is set as `\"__main__\"` when the module is run as a the main program.\n",
    "\n",
    "- If the code is importing the module from another module, then the `__name__` variable will be set to that module name."
   ]
  },
  {
   "cell_type": "markdown",
   "metadata": {
    "slideshow": {
     "slide_type": "slide"
    }
   },
   "source": [
    "When you see the following line in a module:\n",
    "    \n",
    "```python\n",
    "if __name__ == '__main__':\n",
    "    # Python code\n",
    "```\n",
    "\n",
    "it means that we want to be able to test and run the module separately other than just importing it.\n",
    "\n",
    "This can help us test defined functions before they are used outside the module.\n",
    "        "
   ]
  },
  {
   "cell_type": "code",
   "execution_count": null,
   "metadata": {},
   "outputs": [],
   "source": [
    "%%writefile temp_with_main.py\n",
    "\n",
    "zeroCelcius = 273.5  # zero degree Celcius in Kelvin\n",
    "\n",
    "def convert_celcius_to_kelvin(temperatureC):\n",
    "    return temperatureC + zeroCelcius\n",
    "\n",
    "def convert_kelvin_to_celcius(temperatureK):\n",
    "    return temperatureK - zeroCelcius\n",
    "\n",
    "if __name__ == '__main__':\n",
    "    print (convert_celcius_to_kelvin(15.7))\n",
    "    print (convert_kelvin_to_celcius(302.9))"
   ]
  },
  {
   "cell_type": "code",
   "execution_count": null,
   "metadata": {
    "slideshow": {
     "slide_type": "skip"
    }
   },
   "outputs": [],
   "source": [
    "!python temp_with_main.py"
   ]
  },
  {
   "cell_type": "markdown",
   "metadata": {},
   "source": [
    "### Python Module Search Path\n",
    "\n",
    "- While importing a module, Python looks at several places. \n",
    "    - Python first looks for a built-in module. \n",
    "    - If a built-in module is not found, Python looks into a list of directories defined in `sys.path`. \n",
    "- The search is in this order.\n",
    "    * The current directory.\n",
    "    * The `PYTHONPATH` environment variable that has a list of directories.\n",
    "    * The installation-dependent default directory.\n",
    "    \n",
    "The following code segment shows the current module search path:"
   ]
  },
  {
   "cell_type": "code",
   "execution_count": null,
   "metadata": {},
   "outputs": [],
   "source": [
    "import sys\n",
    "for path in sys.path:\n",
    "    print(path)"
   ]
  },
  {
   "cell_type": "markdown",
   "metadata": {},
   "source": [
    "### Where to Include a new Module\n",
    "\n",
    "To make sure Python can always find the `module_name.py`, you need to:\n",
    "\n",
    "- Place `module_name.py` in the folder where the program will execute.\n",
    "- Include the folder that contains the `module_name.py` in the `PYTHONPATH` environment variable. Or you can place the `module_name.py` in one of the folders included in the `PYTHONPATH` variable.\n",
    "- Place the `module_name.py` in one of the installation-dependent folders."
   ]
  },
  {
   "cell_type": "markdown",
   "metadata": {},
   "source": [
    "### Extending Module Load Path\n",
    "\n",
    "There are a couple of ways we could tell the Python interpreter where to look for modules, aside from the default, which is the local directory and the built-in modules. \n",
    "\n",
    "You can use the environment variable `PYTHONPATH` to specify additional directories to look for modules:\n",
    "\n",
    "```cshell\n",
    "   set PYTHONPATH = (full_path_to_my_module $PYTHONPATH)\n",
    "```\n",
    "\n",
    "```bash\n",
    "   export PYTHONPATH=\"full_path_to_my_module:$PYTHONPATH\"\n",
    "```\n",
    "\n",
    "Another method is the `sys.path.append` function that you need to call before running an import command:\n",
    "\n",
    "```python\n",
    "   import sys\n",
    "   sys.path.append(full_path_to_my_module)\n",
    "   import module_name\n",
    "```"
   ]
  },
  {
   "cell_type": "markdown",
   "metadata": {},
   "source": [
    "# <font color=\"red\"> Create a Package</font>"
   ]
  },
  {
   "cell_type": "markdown",
   "metadata": {
    "slideshow": {
     "slide_type": "slide"
    }
   },
   "source": [
    "- A __package__ is a directory of python modules.\n",
    "- It is basically a directory with Python files and a file with the name `__init__.py`.\n",
    "- Every directory inside of the Python path, which contains a file named `__init__.py`, will be treated as a package by Python. \n",
    "- We package to:\n",
    "    - Share our code with other people.\n",
    "    - Add more structure to our code and make it more modular, reusable and maintainable."
   ]
  },
  {
   "cell_type": "markdown",
   "metadata": {
    "slideshow": {
     "slide_type": "fragment"
    }
   },
   "source": [
    "__packages__:\n",
    "\n",
    "+ Structure namespace using \"dotted module names\"\n",
    "+ Can avoid module name collisions\n",
    "+ package name should be in lowercase and underscore-separated or no word separators at all"
   ]
  },
  {
   "cell_type": "markdown",
   "metadata": {},
   "source": [
    "## Directory Structure of a Package"
   ]
  },
  {
   "cell_type": "markdown",
   "metadata": {
    "slideshow": {
     "slide_type": "fragment"
    }
   },
   "source": [
    "```\n",
    "package_name/\n",
    "    setup.py\n",
    "    LICENSE\n",
    "    README.md\n",
    "    package_name/\n",
    "        __init__.py\n",
    "        subpackage_1/\n",
    "            __init__.py\n",
    "            submodule1_1.py\n",
    "            submodule1_2.py\n",
    "        subpackage_2/\n",
    "            __init__.py\n",
    "            submodule2_1.py\n",
    "            submodule2_2.py\n",
    "            submodule2_3.py\n",
    "```"
   ]
  },
  {
   "cell_type": "markdown",
   "metadata": {},
   "source": [
    "* The top level directory will be the root of the (future) repository, i.e., **package_name**. \n",
    "   - The subdirectory, also called **package_name** is the actual Python module.\n",
    "* Apart from the top level one, the file **<font color=\"red\">\\_\\_init\\_\\_.py</font>** is an empty file.\n"
   ]
  },
  {
   "cell_type": "markdown",
   "metadata": {},
   "source": [
    "### Top Level **<font color=\"red\">\\_\\_init\\_\\_.py</font>** File"
   ]
  },
  {
   "cell_type": "code",
   "execution_count": null,
   "metadata": {},
   "outputs": [],
   "source": [
    "\"\"\"\n",
    "   Provide a description of the module\n",
    "\"\"\"\n",
    "from . import subpackage_1\n",
    "from . import subpackage_2\n",
    "\n",
    "name = package_name\n"
   ]
  },
  {
   "cell_type": "markdown",
   "metadata": {},
   "source": [
    "### Creating the  <font color=\"red\">setup.py</font>  File \n",
    "\n",
    "```python\n",
    "import setuptools\n",
    "\n",
    "with open(\"README.md\", \"r\") as fh:\n",
    "    long_description = fh.read()\n",
    "\n",
    "setuptools.setup(\n",
    "    name=\"package_name\",\n",
    "    version=\"0.1\",\n",
    "    author=\"first_name last_name\",\n",
    "    author_email=\"your_user_id@example.com\",\n",
    "    description=\"A small example package\",\n",
    "    long_description=long_description,\n",
    "    long_description_content_type=\"text/markdown\",\n",
    "    url=\"https://github.com/github_user_id/package_name\",\n",
    "    packages=setuptools.find_packages(),\n",
    "    classifiers=[\n",
    "        \"Programming Language :: Python :: 3\",\n",
    "        \"License :: OSI Approved :: MIT License\",\n",
    "        \"Operating System :: OS Independent\",\n",
    "    ],\n",
    ")\n",
    "```"
   ]
  },
  {
   "cell_type": "markdown",
   "metadata": {},
   "source": [
    "#### Creating the <font color='red'> README.md </font> File"
   ]
  },
  {
   "cell_type": "markdown",
   "metadata": {},
   "source": [
    "### Welcome to package_name\n",
    "\n",
    "This is a simple example package. You can use\n",
    "[Github-flavored Markdown](https://guides.github.com/features/mastering-markdown/)\n",
    "to write your content."
   ]
  },
  {
   "cell_type": "markdown",
   "metadata": {},
   "source": [
    "#### Creating the <font color='red'> LICENSE </font> File\n",
    "\n",
    "```\n",
    "Copyright (c) 2019 The Python Packaging Authority\n",
    "\n",
    "Permission is hereby granted, free of charge, to any person \n",
    "obtaining a copy of this software and associated documentation \n",
    "files (the \"Software\"), to deal in the Software without \n",
    "restriction, including without limitation the rights to use, \n",
    "copy, modify, merge, publish, distribute, sublicense, \n",
    "and/or sell copies of the Software, and to permit persons \n",
    "to whom the Software is furnished to do so, subject to \n",
    "the following conditions:\n",
    "\n",
    "The above copyright notice and this permission notice shall \n",
    "be included in allcopies or substantial portions of the Software.\n",
    "\n",
    "THE SOFTWARE IS PROVIDED \"AS IS\", WITHOUT WARRANTY OF ANY KIND, \n",
    "EXPRESS OR IMPLIED, INCLUDING BUT NOT LIMITED TO THE WARRANTIES \n",
    "OF MERCHANTABILITY, FITNESS FOR A PARTICULAR PURPOSE AND \n",
    "NONINFRINGEMENT. IN NO EVENT SHALL THE AUTHORS OR COPYRIGHT \n",
    "HOLDERS BE LIABLE FOR ANY CLAIM, DAMAGES OR OTHER LIABILITY, \n",
    "WHETHER IN AN ACTION OF CONTRACT, TORT OR OTHERWISE, \n",
    "ARISING FROM, OUT OF OR IN CONNECTION WITH THE SOFTWARE OR \n",
    "THE USE OR OTHER DEALINGS IN THE SOFTWARE.\n",
    "```"
   ]
  },
  {
   "cell_type": "markdown",
   "metadata": {},
   "source": [
    "## <font color=\"purple\">Locally Install the Package</font>"
   ]
  },
  {
   "cell_type": "markdown",
   "metadata": {},
   "source": [
    "You can install the package locally (for use on our system), with:\n",
    "\n",
    "```shell\n",
    "    $ pip install .\n",
    "```"
   ]
  },
  {
   "cell_type": "markdown",
   "metadata": {},
   "source": [
    "You can also install the package with a symlink, so that changes to the source files will be immediately available to other users of the package on our system:\n",
    "\n",
    "```shell\n",
    "    $ pip install -e .\n",
    "```"
   ]
  },
  {
   "cell_type": "markdown",
   "metadata": {},
   "source": [
    "Anywhere else in your system using the same Python, we can do this now:\n",
    "\n",
    "```python\n",
    "    import package_name\n",
    "    package_name.submodule2_3.calc()\n",
    "```"
   ]
  },
  {
   "cell_type": "markdown",
   "metadata": {},
   "source": [
    "## <font color=\"purple\">Publishing Your Package On PyPI</font>"
   ]
  },
  {
   "cell_type": "markdown",
   "metadata": {},
   "source": [
    "* [PyPl](pypi.python.org) (Python Package Index) is an open-source repository for all Python projects offered by developers worldwide. \n",
    "* With PyPI, anyone can install and use your code on their local devices.\n",
    "* If you haven’t published things on PyPI before, you’ll need to create an account.\n",
    "* The `setup.py` script is your main entrypoint to register the package name on PyPI and upload source distributions.\n",
    "\n",
    "\n",
    "To “register” the package (this will reserve the name, upload package metadata, and create the [PyPl](pypi.python.org) webpage):\n",
    "\n",
    "```shell\n",
    "             $ python setup.py register\n",
    "```\n",
    "\n",
    "Your package will appear in:\n",
    "   \n",
    "       http://pypi.python.org/pypi/package_name/0.1"
   ]
  },
  {
   "cell_type": "markdown",
   "metadata": {},
   "source": [
    "* If you haven’t published things on PyPI before, you’ll need to create an account.\n",
    "* Your package will appear in:\n",
    "   \n",
    "       http://pypi.python.org/pypi/package_name/0.1"
   ]
  },
  {
   "cell_type": "markdown",
   "metadata": {},
   "source": [
    "## <font color=\"purple\">Installing the Package</font>\n",
    "\n",
    "After you published your package in PyPl, other people can install it in their local Python distribution using `pip`:\n",
    "\n",
    "```shell\n",
    "       $ pip install package_name\n",
    "```"
   ]
  },
  {
   "cell_type": "markdown",
   "metadata": {},
   "source": []
  },
  {
   "cell_type": "markdown",
   "metadata": {},
   "source": [
    "## Search a Package"
   ]
  },
  {
   "cell_type": "markdown",
   "metadata": {
    "slideshow": {
     "slide_type": "slide"
    }
   },
   "source": [
    "```python\n",
    "from package_name.module_name import function_in_module\n",
    "```\n",
    "\n",
    "#### In your `__init__.py` file\n",
    "\n",
    "```python\n",
    "from module_name import function_in_module\n",
    "```\n",
    "\n",
    "#### `import submodule2_3` from `subpackage_2`\n",
    "\n",
    "```python\n",
    "from subpackage_name import module_name\n",
    "```"
   ]
  },
  {
   "cell_type": "markdown",
   "metadata": {
    "slideshow": {
     "slide_type": "slide"
    }
   },
   "source": [
    "How does Python find packages and modules?\n",
    "\n",
    "Python imports work by searching the directories listed in sys.path. "
   ]
  },
  {
   "cell_type": "code",
   "execution_count": null,
   "metadata": {
    "slideshow": {
     "slide_type": "fragment"
    }
   },
   "outputs": [],
   "source": [
    "import sys\n",
    "print('\\n'.join(sys.path))"
   ]
  },
  {
   "cell_type": "code",
   "execution_count": null,
   "metadata": {
    "slideshow": {
     "slide_type": "slide"
    }
   },
   "outputs": [],
   "source": [
    "# where the module is in your filesystem\n",
    "import numpy\n",
    "print(numpy.__file__)"
   ]
  },
  {
   "cell_type": "code",
   "execution_count": null,
   "metadata": {
    "slideshow": {
     "slide_type": "slide"
    }
   },
   "outputs": [],
   "source": [
    "# explore entire import system through the imp module.\n",
    "import imp\n",
    "imp.find_module('numpy')"
   ]
  },
  {
   "cell_type": "code",
   "execution_count": null,
   "metadata": {
    "slideshow": {
     "slide_type": "slide"
    }
   },
   "outputs": [],
   "source": [
    "# Getting file path of imported module\n",
    "import os.path\n",
    "import area\n",
    "\n",
    "print (os.path.abspath(area.__file__))"
   ]
  },
  {
   "cell_type": "markdown",
   "metadata": {},
   "source": [
    "# <font color=\"red\"> YAML</font>\n",
    "\n",
    "> **YAML Ain’t Markup Language (YAML)** is a data serialization language for most programming languages.\n",
    "\n",
    "- YAML is mostly used for configuration files in projects and it’s super easy to understand and read the code.\n",
    "- The file extension for YAML files is `.yaml` or `.yml`.\n",
    "- The YAML follows indentation syntax similar to Python. But, it doesn’t allow **tab** for indentation.\n",
    "\n",
    "**We want to use a `.yaml` file to pass values (to be converted) to our application.**"
   ]
  },
  {
   "cell_type": "markdown",
   "metadata": {},
   "source": [
    "**Sample YAML File**\n",
    "\n",
    "- We create a YAML file that has two sections: `KtoC` and `CtoK`.\n",
    "- Each section sets the `vals` variable."
   ]
  },
  {
   "cell_type": "code",
   "execution_count": null,
   "metadata": {},
   "outputs": [],
   "source": [
    "%%writefile sample_temp_input.yaml\n",
    "---\n",
    "KtoC:\n",
    "    vals: 302.9\n",
    "\n",
    "CtoK:\n",
    "    vals: 15.7"
   ]
  },
  {
   "cell_type": "markdown",
   "metadata": {},
   "source": [
    "**Reading a YAML File**"
   ]
  },
  {
   "cell_type": "code",
   "execution_count": null,
   "metadata": {},
   "outputs": [],
   "source": [
    "import yaml\n",
    "\n",
    "with open(\"sample_temp_input.yaml\", 'r') as yaml_file:\n",
    "     yaml_content = yaml.load(yaml_file, yaml.Loader)\n",
    "\n",
    "print(\"Key: Value\")\n",
    "for key, value in yaml_content.items():\n",
    "    print(f\"{key}: {value}\")"
   ]
  },
  {
   "cell_type": "markdown",
   "metadata": {},
   "source": [
    "Reading the YAML file creates a dictionary which:\n",
    "- Keys are the different sections, and\n",
    "- Values are themselves dictionaries of variables and associated values in the YAML file."
   ]
  },
  {
   "cell_type": "markdown",
   "metadata": {},
   "source": [
    "We can create a similar YAML file where `vals` is a list of numbers:"
   ]
  },
  {
   "cell_type": "code",
   "execution_count": null,
   "metadata": {},
   "outputs": [],
   "source": [
    "%%writefile sample_temp_input.yaml\n",
    "---\n",
    "KtoC:\n",
    "    vals: [302.9, 283.5, 269.8]\n",
    "\n",
    "CtoK:\n",
    "    vals: [15.7, -6.5, 23.7, 34.2]"
   ]
  },
  {
   "cell_type": "code",
   "execution_count": null,
   "metadata": {},
   "outputs": [],
   "source": [
    "with open(\"sample_temp_input.yaml\", 'r') as yaml_file:\n",
    "     yaml_content = yaml.load(yaml_file, yaml.Loader)\n",
    "\n",
    "print(\"Key: Value\")\n",
    "for key, value in yaml_content.items():\n",
    "    print(f\"{key}: {value}\")"
   ]
  },
  {
   "cell_type": "markdown",
   "metadata": {},
   "source": [
    "## <font color=\"blue\">Breakout</font>\n",
    "\n",
    "We want to create a package name `temp_conversion` that has the following directory structure:\n",
    "\n",
    "```\n",
    "temp_conversion/\n",
    "    setup.py\n",
    "    LICENSE\n",
    "    README.md\n",
    "    temp_conversion/\n",
    "        README.md\n",
    "        __init__.py\n",
    "        main.py\n",
    "        input_file.yaml\n",
    "        functions/\n",
    "            __init__.py\n",
    "            temperature_functions.py\n",
    "        shared/\n",
    "            __init__.py\n",
    "            constants.py\n",
    "```\n",
    "Here:\n",
    "\n",
    "- `temperature_functions.py`: module containing all the conversion functions.\n",
    "- `constants.py`: module containing the constant parameters needed in `temperature_functions.py`.\n",
    "- `input_file.yaml`: YAML file used as input to `main.py`. It is organized as pairs of keys (type of conversion) and values (temperatuture values to be converted). \n",
    "- `main.py`: code to perform conversions from one unit to another. It requires a YAML file as input.\n"
   ]
  }
 ],
 "metadata": {
  "anaconda-cloud": {},
  "kernelspec": {
   "display_name": "Python 3 (ipykernel)",
   "language": "python",
   "name": "python3"
  },
  "language_info": {
   "codemirror_mode": {
    "name": "ipython",
    "version": 3
   },
   "file_extension": ".py",
   "mimetype": "text/x-python",
   "name": "python",
   "nbconvert_exporter": "python",
   "pygments_lexer": "ipython3",
   "version": "3.8.2"
  }
 },
 "nbformat": 4,
 "nbformat_minor": 1
}
