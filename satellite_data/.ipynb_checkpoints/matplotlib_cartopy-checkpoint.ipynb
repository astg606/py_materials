{
 "cells": [
  {
   "cell_type": "markdown",
   "metadata": {},
   "source": [
    "<center>\n",
    "<table>\n",
    "  <tr>\n",
    "    <td><img src=\"http://www.nasa.gov/sites/all/themes/custom/nasatwo/images/nasa-logo.svg\" width=\"100\"/> </td>\n",
    "     <td><img src=\"https://github.com/astg606/py_materials/blob/master/logos/ASTG_logo.png?raw=true\" width=\"80\"/> </td>\n",
    "     <td> <img src=\"https://www.nccs.nasa.gov/sites/default/files/NCCS_Logo_0.png\" width=\"130\"/> </td>\n",
    "    </tr>\n",
    "</table>\n",
    "</center>\n",
    "\n",
    "        \n",
    "<center>\n",
    "<h1><font color= \"blue\" size=\"+3\">ASTG Python Courses</font></h1>\n",
    "</center>\n",
    "\n",
    "---\n",
    "\n",
    "<center><h1><font color=\"red\" size=\"+3\">Matplotlib and Cartopy</font></h1></center>"
   ]
  },
  {
   "cell_type": "markdown",
   "metadata": {},
   "source": [
    "## Reference Documents\n",
    "\n",
    "- <A HREF=\"http://matplotlib.sourceforge.net/gallery.html\">Image Gallery</A>\n",
    "- <A HREF=\"http://scipy-lectures.github.io/intro/matplotlib/matplotlib.html\">Matplotlib: \n",
    "- [Visualization with Matplotlib](https://www.oreilly.com/library/view/python-data-science/9781491912126/ch04.html)\n",
    "- [Customizing Matplotlib with style sheets and rcParams](https://matplotlib.org/stable/tutorials/introductory/customizing.html)\n",
    "- <A HREF=\"https://scitools.org.uk/cartopy/docs/latest/\">Introduction --- Cartopy</A>\n",
    "- <A HREF=\"https://rabernat.github.io/research_computing_2018/maps-with-cartopy.html\">Maps with Cartopy</A>\n",
    "- <A HREF=\"https://geohackweek.github.io/visualization/03-cartopy/\">Basics: Quick + Simple maps with cartopy.</A>"
   ]
  },
  {
   "cell_type": "markdown",
   "metadata": {},
   "source": [
    "## Required Packages\n",
    "\n",
    "```\n",
    "   Numpy\n",
    "   Matplotlib\n",
    "   Cartopy\n",
    "```"
   ]
  },
  {
   "cell_type": "markdown",
   "metadata": {},
   "source": [
    "### <font color='blue'> Only run the following cell if you are on Google Colab</font>\n",
    "\n",
    "Uncomment the cell below if you are on Google Colab"
   ]
  },
  {
   "cell_type": "code",
   "execution_count": null,
   "metadata": {},
   "outputs": [],
   "source": [
    "#!apt-get install libproj-dev proj-data proj-bin\n",
    "#!apt-get install libgeos-dev\n",
    "#!pip install cython\n",
    "#!pip install cartopy\n",
    "#!pip install netCDF4\n",
    "#!pip install xarray==0.16.2"
   ]
  },
  {
   "cell_type": "code",
   "execution_count": null,
   "metadata": {},
   "outputs": [],
   "source": [
    "import warnings\n",
    "warnings.filterwarnings(\"ignore\")"
   ]
  },
  {
   "cell_type": "code",
   "execution_count": null,
   "metadata": {},
   "outputs": [],
   "source": [
    "%matplotlib inline"
   ]
  },
  {
   "cell_type": "code",
   "execution_count": null,
   "metadata": {},
   "outputs": [],
   "source": [
    "import numpy as np"
   ]
  },
  {
   "cell_type": "code",
   "execution_count": null,
   "metadata": {},
   "outputs": [],
   "source": [
    "import netCDF4 as nc4"
   ]
  },
  {
   "cell_type": "code",
   "execution_count": null,
   "metadata": {},
   "outputs": [],
   "source": [
    "import matplotlib\n",
    "import matplotlib.pyplot as plt\n",
    "import matplotlib.cm as cm\n",
    "from matplotlib import lines"
   ]
  },
  {
   "cell_type": "code",
   "execution_count": null,
   "metadata": {},
   "outputs": [],
   "source": [
    "import cartopy\n",
    "import cartopy.crs as ccrs\n",
    "import cartopy.feature as cfeature\n",
    "import cartopy.io.shapereader as shapereader\n",
    "from cartopy.mpl.ticker import LongitudeFormatter, LatitudeFormatter"
   ]
  },
  {
   "cell_type": "code",
   "execution_count": null,
   "metadata": {},
   "outputs": [],
   "source": [
    "print(f\"Version of Numpy:      {np.__version__}\")\n",
    "print(f\"Version of Matplotlib: {matplotlib.__version__}\")\n",
    "print(f\"Version of netCDF4: {nc4.__version__}\")\n",
    "print(f\"Version of Cartopy: {cartopy.__version__}\")"
   ]
  },
  {
   "cell_type": "markdown",
   "metadata": {},
   "source": [
    "# <font color=\"green\">Matplotlib</font>"
   ]
  },
  {
   "cell_type": "markdown",
   "metadata": {},
   "source": [
    "## <font color=\"red\">What is Matplotlib?</font>\n",
    "\n",
    "- Library for making 2D (and 3D in a limited way) plots of arrays in Python\n",
    "- Makes heavy use of Numpy and other extension code to provide good performance\n",
    "- Generates high-quality output in many formats, including PNG, PDF, SVG, EPS, and PGF.\n",
    "- Can be used to create figures that are programically controlled. This is important for reproducibility and convenient when one needs to regenerate the figure with updated data or change its appearance.\n",
    "- With Matplotlib, we can generate plots, histograms, power spectra, bar charts, error charts, scatter plots, etc., with just a few lines of code."
   ]
  },
  {
   "cell_type": "markdown",
   "metadata": {},
   "source": [
    "## <font color=\"red\">First Plots</font>"
   ]
  },
  {
   "cell_type": "markdown",
   "metadata": {},
   "source": [
    "### Basic Plotting Syntax"
   ]
  },
  {
   "cell_type": "markdown",
   "metadata": {},
   "source": [
    "| Syntax  | Meaning |\n",
    "| -- | -- |\n",
    "| x = [...]       | define the points on the x-axis |\n",
    "| y = [...]       | define the points on the y-axis |\n",
    "|  |   \n",
    "| plt.plot(x,y) | |\n",
    "| plt.show()      |  display the plot on the screen |"
   ]
  },
  {
   "cell_type": "markdown",
   "metadata": {},
   "source": [
    "### Setting the Plot Style"
   ]
  },
  {
   "cell_type": "markdown",
   "metadata": {},
   "source": [
    "Get the list of available aesthtic styles for the figures:"
   ]
  },
  {
   "cell_type": "code",
   "execution_count": null,
   "metadata": {},
   "outputs": [],
   "source": [
    "plt.style.available"
   ]
  },
  {
   "cell_type": "markdown",
   "metadata": {},
   "source": [
    "- The default style is `'default'`.\n",
    "- You can select your desired style. "
   ]
  },
  {
   "cell_type": "code",
   "execution_count": null,
   "metadata": {},
   "outputs": [],
   "source": [
    "plt.style.use('default')"
   ]
  },
  {
   "cell_type": "markdown",
   "metadata": {},
   "source": [
    "In case you want the `xkcd` style, uncomment the line below."
   ]
  },
  {
   "cell_type": "code",
   "execution_count": null,
   "metadata": {},
   "outputs": [],
   "source": [
    "# plt.xkcd()"
   ]
  },
  {
   "cell_type": "markdown",
   "metadata": {},
   "source": [
    "### Line Styles\n",
    "\n",
    "You can list the available line styles:"
   ]
  },
  {
   "cell_type": "code",
   "execution_count": null,
   "metadata": {},
   "outputs": [],
   "source": [
    "lines.lineStyles.keys()"
   ]
  },
  {
   "cell_type": "markdown",
   "metadata": {},
   "source": [
    "### Simple Plot"
   ]
  },
  {
   "cell_type": "code",
   "execution_count": null,
   "metadata": {},
   "outputs": [],
   "source": [
    "x = [2, 3, 5, 7, 11]\n",
    "y = [4, 9, 5, 9, 1]\n",
    "plt.plot(x, y, 'b')\n",
    "plt.xlabel('x')\n",
    "plt.ylabel('y')\n",
    "plt.title('Simple Plot')"
   ]
  },
  {
   "cell_type": "markdown",
   "metadata": {},
   "source": [
    "### List of Line Colors\n",
    "\n",
    "You can include the characters below (as argument of the `plot` function) to select the line color.\n",
    "\n",
    "| Character | Color |\n",
    "| -- | -- |\n",
    "| 'b' | blue |\n",
    "| 'g' | green |\n",
    "| 'r' | red |\n",
    "| 'c' | cyan |\n",
    "| 'm' | magenta |\n",
    "| 'y' | yellow |\n",
    "| 'k' | black |\n",
    "| 'w' | white |\n",
    "\n",
    "The default setting is `'k'` for black."
   ]
  },
  {
   "cell_type": "markdown",
   "metadata": {},
   "source": [
    "### Useful Syntax\n",
    "\n",
    "Here are some commonly used functions for plotting:\n",
    "\n",
    "| Statement  | Meaning |\n",
    "|  -- |  -- |\n",
    "| `plt.plot(x,y)`| | \n",
    "| `plt.xlabel('string')`         |  label the x-axis| \n",
    "| `plt.ylabel('string')`         |  label the y-axis| \n",
    "| `plt.title('string')`          |  write the title of the plot| \n",
    "| `plt.grid(true/false)`         |  adds grid boxes| \n",
    "| `plt.savefig('fileName.type')` |  type can be `png`, `ps`, `pdf`, etc.| \n",
    "| `plt.show()`                   |  display the graph on the screen| \n",
    "| `plt.xlim(xmin,xmax)`          |  set/get the xlimits | \n",
    "| `plt.ylim(ymin,ymax)`          |  set/get the ylimits | \n",
    "| `plt.hold(True/False)`         |  to overlay figures on the same graph |"
   ]
  },
  {
   "cell_type": "markdown",
   "metadata": {},
   "source": [
    "### Simple Cosine Plot"
   ]
  },
  {
   "cell_type": "code",
   "execution_count": null,
   "metadata": {},
   "outputs": [],
   "source": [
    "t = np.arange(0.0, 1.0+0.01, 0.01)\n",
    "s = np.cos(2*2*np.pi*t)"
   ]
  },
  {
   "cell_type": "code",
   "execution_count": null,
   "metadata": {},
   "outputs": [],
   "source": [
    "plt.figure()\n",
    "plt.plot(t, s)\n",
    "plt.xlabel('Time (s)')\n",
    "plt.ylabel('Voltage (mV)')\n",
    "plt.title('Simple Cosine Plot')"
   ]
  },
  {
   "cell_type": "markdown",
   "metadata": {},
   "source": [
    "## <font color=\"red\">The Matplotlib Object Hierarchy</font>\n",
    "\n",
    "- When we issue the call `plt.plot(x, y)`, we internally creates a hierarchy of nested Python objects: **Figure** and **Axes**.\n",
    "   - A **Figure** object is the outermost container for a matplotlib graphic, which can contain multiple **Axes** objects.\n",
    "   - An **Axes** actually translates into what we think of as an individual plot or graph (rather than the plural of “axis,” as we might expect).\n",
    "\n",
    "Here is a diagram that shows a **Figure** with one **Axes**:\n",
    "\n",
    "![fig_axes1](https://python-course.eu/images/numerical-programming/matplotlib_object_hierarchy_400w.webp)\n",
    "Image Source: python-course.edu\n",
    "\n",
    "A **Figure** can contain multiple **Axes**:\n",
    "\n",
    "![fig_axes2](https://python-course.eu/images/numerical-programming/matplotlib_object_hierarchy2_400w.webp)\n",
    "Image Source: python-course.edu\n",
    "  \n",
    "- Below the Axes in the hierarchy are smaller objects such as tick marks, individual lines, legends, and text boxes. \n",
    "- Almost every “element” of a chart is its own manipulable Python object, all the way down to the ticks and labels\n",
    "\n",
    "![FIG_AXES](https://files.realpython.com/media/fig_map.bc8c7cabd823.png)\n",
    "\n",
    "Below is a figure anatomy of the Matplotlib object hierarchy:\n",
    "\n",
    "![Anatomy](https://files.realpython.com/media/anatomy.7d033ebbfbc8.png)\n"
   ]
  },
  {
   "cell_type": "markdown",
   "metadata": {},
   "source": [
    "### Using The Matplotlib Object-Oriented API\n",
    "\n",
    "To use the object-oriented API:\n",
    "- Store a reference to the newly created figure instance in the `fig` variable which is an object describing the plot window and its properties, and containing lists of all its elements.\n",
    "\n",
    "```python\n",
    "   fig = plt.figure()\n",
    "```\n",
    "\n",
    "- Create a new axis instance `axes` using the `add_axes` method in the `Figure` class instance `fig`.\n",
    "\n",
    "```python\n",
    "   axes = fig.add_axes([left, bottom, width, height])\n",
    "```"
   ]
  },
  {
   "cell_type": "markdown",
   "metadata": {},
   "source": [
    "### Examples"
   ]
  },
  {
   "cell_type": "code",
   "execution_count": null,
   "metadata": {},
   "outputs": [],
   "source": [
    "t = np.arange(0.0, 1.0+0.01, 0.01)\n",
    "s = np.cos(2*2*np.pi*t)"
   ]
  },
  {
   "cell_type": "code",
   "execution_count": null,
   "metadata": {},
   "outputs": [],
   "source": [
    "fig = plt.figure()\n",
    "\n",
    "# left, bottom, width, height (range 0 to 1)\n",
    "axes = fig.add_axes([0.1, 0.1, 0.8, 0.8]) \n",
    "\n",
    "axes.plot(t, s)\n",
    "axes.set_xlabel('Time (s)')\n",
    "axes.set_ylabel('Voltage (mV)')\n",
    "axes.set_title('Simple Cosine Plot')"
   ]
  },
  {
   "cell_type": "markdown",
   "metadata": {},
   "source": [
    "We have full control of where the plot axes are placed, and we can easily add more than one axis to the figure:"
   ]
  },
  {
   "cell_type": "code",
   "execution_count": null,
   "metadata": {},
   "outputs": [],
   "source": [
    "x = np.linspace(0, 5, 10)\n",
    "y = (x-1.0) ** 2\n",
    "\n",
    "fig = plt.figure()\n",
    "\n",
    "axes1 = fig.add_axes([0.1, 0.1, 0.8, 0.8]) # main axes\n",
    "axes2 = fig.add_axes([0.2, 0.5, 0.4, 0.3]) # insert axes\n",
    "\n",
    "# main figure\n",
    "axes1.plot(x, y, 'r')\n",
    "axes1.set_xlabel('x')\n",
    "axes1.set_ylabel('y')\n",
    "axes1.set_title('title')\n",
    "\n",
    "# insert\n",
    "axes2.plot(y, x, 'g')\n",
    "axes2.set_xlabel('y')\n",
    "axes2.set_ylabel('x')\n",
    "axes2.set_title('insert title');"
   ]
  },
  {
   "cell_type": "markdown",
   "metadata": {},
   "source": [
    "If we don't care about being explicit about where our plot axes are placed in the figure canvas, then we can use one of the many axis layout managers in Matplotlib.\n",
    "\n",
    "Let us consider here the `subplots` function:"
   ]
  },
  {
   "cell_type": "code",
   "execution_count": null,
   "metadata": {},
   "outputs": [],
   "source": [
    "fig, axes = plt.subplots()\n",
    "\n",
    "axes.plot(t, s)\n",
    "axes.set_xlabel('time (s)')\n",
    "axes.set_ylabel('voltage (mV)')\n",
    "axes.set_title('About as simple as it gets, folks')"
   ]
  },
  {
   "cell_type": "markdown",
   "metadata": {},
   "source": [
    "When no argument is passesd in `subplots`, it is assumed that we have one row (`nrows=1`) and one column (`ncols=1`)."
   ]
  },
  {
   "cell_type": "code",
   "execution_count": null,
   "metadata": {},
   "outputs": [],
   "source": [
    "fig, axes = plt.subplots(nrows=1, ncols=2)\n",
    "\n",
    "axes[0].plot(t, s)\n",
    "axes[0].set_xlabel('time (s)')\n",
    "axes[0].set_ylabel('voltage (mV)')\n",
    "axes[0].set_title('About as simple as it gets')\n",
    "\n",
    "axes[1].plot(x, y, 'r')\n",
    "axes[1].set_xlabel('x')\n",
    "axes[1].set_ylabel('y')\n",
    "axes[1].set_title('title')"
   ]
  },
  {
   "cell_type": "markdown",
   "metadata": {},
   "source": [
    "We can use the `fig.tight_layout` method to automatically adjust the positions of the axes on the figure canvas so that there is no overlapping content:"
   ]
  },
  {
   "cell_type": "code",
   "execution_count": null,
   "metadata": {
    "scrolled": true
   },
   "outputs": [],
   "source": [
    "fig, axes = plt.subplots(nrows=1, ncols=2)\n",
    "\n",
    "axes[0].plot(t, s)\n",
    "axes[0].set_xlabel('time (s)')\n",
    "axes[0].set_ylabel('voltage (mV)')\n",
    "axes[0].set_title('About as simple as it gets')\n",
    "\n",
    "axes[1].plot(x, y, 'r')\n",
    "axes[1].set_xlabel('x')\n",
    "axes[1].set_ylabel('y')\n",
    "axes[1].set_title('title')\n",
    "\n",
    "fig.tight_layout()"
   ]
  },
  {
   "cell_type": "markdown",
   "metadata": {},
   "source": [
    "It does not matter the order in which the `Axes` are used:"
   ]
  },
  {
   "cell_type": "code",
   "execution_count": null,
   "metadata": {},
   "outputs": [],
   "source": [
    "def f(t):\n",
    "    return np.exp(-t) * np.cos(2*np.pi*t)\n",
    "\n",
    "t1 = np.arange(0.0, 5.0, 0.1)\n",
    "t2 = np.arange(0.0, 5.0, 0.02)\n",
    "\n",
    "fig, axes = plt.subplots(nrows=1, ncols=2)\n",
    "\n",
    "axes[1].plot(t1, f(t1), 'bo', t2, f(t2), 'k')\n",
    "\n",
    "axes[0].plot(t2, np.cos(2*np.pi*t2), 'r--')\n",
    "\n",
    "fig.tight_layout()"
   ]
  },
  {
   "cell_type": "markdown",
   "metadata": {},
   "source": [
    "## <font color=\"red\">Figure Settings</font>"
   ]
  },
  {
   "cell_type": "markdown",
   "metadata": {},
   "source": [
    "### <font color='blue'>Figure size, aspect ratio and DPI </font>\n",
    "\n",
    "- Matplotlib allows the aspect ratio, DPI (Dots Per Inch) and figure size to be specified when the `Figure` object is created, using the `figsize` and `dpi` keyword arguments. \n",
    "- `figsize` determines the size of the figure in inches. This gives the amount of space the axes (and other elements) have inside the `Figure`.\n",
    "   - `figsize` is a tuple of the `width` and `height`.\n",
    "   - The default figure size is `(6.4, 4.8)` inches.\n",
    "- `dpi` determines how many pixels the figure comprises.\n",
    "   - The default dpi in matplotlib is 100. \n",
    "\n",
    "A figure of `figsize=(w,h)` will have:\n",
    "\n",
    "```\n",
    "   px, py = w*dpi, h*dpi  # pixels\n",
    "```\n",
    "\n",
    "For instance:\n",
    "\n",
    "```python\n",
    "   fig = plt.figure(figsize=(8,4), dpi=120)\n",
    "```\n",
    "will create a `960x480` pixels.\n",
    "\n",
    "The same arguments can also be passed to layout managers, such as the `subplots` function:"
   ]
  },
  {
   "cell_type": "code",
   "execution_count": null,
   "metadata": {},
   "outputs": [],
   "source": [
    "fig, axes = plt.subplots(figsize=(12,3), dpi=120)\n",
    "axes.plot(t1, f(t1), 'k')\n",
    "axes.set_xlabel('x')\n",
    "axes.set_ylabel('y')\n",
    "axes.set_title('title');"
   ]
  },
  {
   "cell_type": "markdown",
   "metadata": {},
   "source": [
    "### <font color='blue'>Saving figures</font>\n",
    "\n",
    "- Matplotlib can generate high-quality output in a number formats, including PNG, JPG, EPS, SVG, PGF and PDF. \n",
    "- By default, the PNG format is used.\n",
    "- To save a figure to a file we can use the `savefig` method in the `Figure` class:"
   ]
  },
  {
   "cell_type": "code",
   "execution_count": null,
   "metadata": {},
   "outputs": [],
   "source": [
    "file_name = \"my_first_figure\"\n",
    "fig.savefig(file_name)"
   ]
  },
  {
   "cell_type": "markdown",
   "metadata": {},
   "source": [
    "The default file type is `png`.\n",
    "\n",
    "We now have a file called `my_first_figure.png` in the current working directory:"
   ]
  },
  {
   "cell_type": "code",
   "execution_count": null,
   "metadata": {},
   "outputs": [],
   "source": [
    "!ls -lrt my_first_figure.png"
   ]
  },
  {
   "cell_type": "markdown",
   "metadata": {},
   "source": [
    "We can use the IPython `Image` object to display the contents of this file:"
   ]
  },
  {
   "cell_type": "code",
   "execution_count": null,
   "metadata": {},
   "outputs": [],
   "source": [
    "from IPython.display import Image\n",
    "Image('my_first_figure.png')"
   ]
  },
  {
   "cell_type": "markdown",
   "metadata": {},
   "source": [
    "The list of supported file types can be found for your system by using the following method of the figure canvas object:"
   ]
  },
  {
   "cell_type": "code",
   "execution_count": null,
   "metadata": {},
   "outputs": [],
   "source": [
    "fig.canvas.get_supported_filetypes()"
   ]
  },
  {
   "cell_type": "markdown",
   "metadata": {},
   "source": [
    "We can also optionally specify the DPI and choose between different output formats:"
   ]
  },
  {
   "cell_type": "code",
   "execution_count": null,
   "metadata": {},
   "outputs": [],
   "source": [
    "fig.savefig(file_name, dpi=200)"
   ]
  },
  {
   "cell_type": "markdown",
   "metadata": {},
   "source": [
    "### <font color='blue'>Legends, Labels and Titles</font>\n",
    "\n",
    "We want to learn how to decorate a figure with titles, axis labels, and legends.\n",
    "\n",
    "**Figure Titles**\n",
    "\n",
    "A title can be added to each axis instance in a figure. To set the title, use the `set_title` method in the axes instance:\n",
    "\n",
    "```python\n",
    "   ax.set_title(\"My own title\")\n",
    "```\n",
    "\n",
    "**Axis Labels**\n",
    "\n",
    "Similarly, with the methods `set_xlabel` and `set_ylabel`, we can set the labels of the X and Y axes:\n",
    "\n",
    "```python\n",
    "   ax.set_xlabel(\"label for x-axis\")\n",
    "   ax.set_ylabel(\"label for y-axis\")\n",
    "```\n",
    "\n",
    "**Legends**\n",
    "\n",
    "Legends for curves in a figure can be added in two ways. One method is to use the `legend` method of the axis object and pass a list/tuple of legend texts for the previously defined curves:\n",
    "\n",
    "```python\n",
    "   ax.legend([\"Plot 1\", \"Plot 2\", \"Plot 3\"]);\n",
    "```\n",
    "\n",
    "The above method can be proned to errors and unflexible if curves are added to or removed from the figure (resulting in a wrongly labelled curve).\n",
    "\n",
    "A better method is to use the `label=\"label text\"` keyword argument when plots or other objects are added to the figure, and then using the `legend` method without arguments to add the legend to the figure:\n",
    "\n",
    "```python\n",
    "   ax.plot(x,  x+1, label=\"Plot 1\")\n",
    "   ax.plot(x,  x-3, label=\"Plot 2\")\n",
    "   ax.plot(x, x**2, label=\"Plot 3\")\n",
    "   ax.legend()\n",
    "```\n",
    "\n",
    "The advantage with this method is that if curves are added or removed from the figure, the legend is automatically updated accordingly."
   ]
  },
  {
   "cell_type": "code",
   "execution_count": null,
   "metadata": {},
   "outputs": [],
   "source": [
    "x = np.linspace(0, 2*np.pi, 300)\n",
    "y = np.sin(x)\n",
    "w = np.sin(x**2)"
   ]
  },
  {
   "cell_type": "code",
   "execution_count": null,
   "metadata": {},
   "outputs": [],
   "source": [
    "fig, axes = plt.subplots()\n",
    "\n",
    "axes.plot(x, y, label='y = sin(x)')\n",
    "axes.plot(x, w, label='y = sin(x^2)')\n",
    "axes.set_title('Some functions')\n",
    "axes.set_xlabel('x')\n",
    "axes.set_ylabel('y')\n",
    "axes.legend(loc='upper right')"
   ]
  },
  {
   "cell_type": "markdown",
   "metadata": {},
   "source": [
    "The `legend` function takes an optional keyword argument `loc` that can be used to specify where in the figure the legend is to be drawn. The allowed values of `loc` are numerical or keyword codes for the various places the legend can be drawn.\n",
    "\n",
    "| Location String | Location Code | \n",
    "| --- | --- |\n",
    "| 'best' | 0 | \n",
    "| 'upper right' | 1 | \n",
    "| 'upper left' | 2 | \n",
    "| 'lower left' | 3 | \n",
    "| 'lower right' | 4 | \n",
    "| 'right' | 5 | \n",
    "| 'center left' | 6 | \n",
    "| 'center right' | 7 | \n",
    "| 'lower center' | 8 | \n",
    "| 'upper center' | 9 | \n",
    "| 'center' | 10 |"
   ]
  },
  {
   "cell_type": "markdown",
   "metadata": {},
   "source": [
    "### <font color='blue'>Formatting text: LaTeX, Fontsize, Font Family</font>\n",
    "\n",
    "- We want to have LaTeX formatted text, and to be able to adjust the font size.\n",
    "- Matplotlib has great support for LaTeX. All we need to do is to use dollar signs encapsulate LaTeX in any text (legend, title, label, etc.). For example, `\"$y=\\sin(x^2)$\"`.\n",
    "- To make our latex code syntax work properly in Python, we need to use \"raw\" text strings. Raw text strings are prepended with an 'r', like r\"\\alpha\" or r'\\alpha' instead of \"\\alpha\" or '\\alpha'."
   ]
  },
  {
   "cell_type": "code",
   "execution_count": null,
   "metadata": {},
   "outputs": [],
   "source": [
    "x = np.linspace(0, 2*np.pi, 300)\n",
    "y = np.sin(x)\n",
    "w = np.sin(x**2)\n",
    "\n",
    "fig, axes = plt.subplots()\n",
    "\n",
    "axes.plot(x, y, label=r'$y = \\sin(x)$')\n",
    "axes.plot(x, w, label=r'$y = \\sin(x^2)$')\n",
    "axes.set_title('Some functions')\n",
    "axes.set_xlabel(r'$\\alpha$', fontsize=18)\n",
    "axes.set_ylabel(r'$\\beta$', fontsize=18)\n",
    "axes.legend(loc='best')"
   ]
  },
  {
   "cell_type": "markdown",
   "metadata": {},
   "source": [
    "We can also change the global font size and font family, which applies to all text elements in a figure (tick labels, axis labels and titles, legends, etc.)"
   ]
  },
  {
   "cell_type": "code",
   "execution_count": null,
   "metadata": {},
   "outputs": [],
   "source": [
    "# Update the matplotlib configuration parameters:\n",
    "matplotlib.rcParams.update({'font.size': 10, 'font.family': 'serif'})"
   ]
  },
  {
   "cell_type": "code",
   "execution_count": null,
   "metadata": {},
   "outputs": [],
   "source": [
    "x = np.linspace(0, 2*np.pi, 300)\n",
    "y = np.sin(x)\n",
    "w = np.sin(x**2)\n",
    "\n",
    "fig, axes = plt.subplots()\n",
    "\n",
    "axes.plot(x, y, label=r'$y = \\sin(x)$')\n",
    "axes.plot(x, w, label=r'$y = \\sin(x^2)$')\n",
    "axes.set_title('Some functions')\n",
    "axes.set_xlabel(r'$\\alpha$')\n",
    "axes.set_ylabel(r'$\\beta$')\n",
    "axes.legend(loc='best')"
   ]
  },
  {
   "cell_type": "markdown",
   "metadata": {},
   "source": [
    "A good choice of global fonts are the STIX fonts:\n",
    "\n",
    "```python\n",
    "   matplotlib.rcParams.update({'font.size': 18, \n",
    "                               'font.family': 'STIXGeneral',\n",
    "                               'mathtext.fontset': 'stix'})\n",
    "```\n",
    "\n",
    "Or, alternatively, we can request that matplotlib uses LaTeX to render the text elements in the figure:\n",
    "\n",
    "```python\n",
    "   matplotlib.rcParams.update({'font.size': 18, \n",
    "                               'text.usetex': True})\n",
    "```\n",
    "\n",
    "To restore:\n",
    "\n",
    "```python\n",
    "   matplotlib.rcParams.update({'font.size': 12,\n",
    "                               'font.family': 'sans',\n",
    "                               'text.usetex': False})\n",
    "```"
   ]
  },
  {
   "cell_type": "markdown",
   "metadata": {},
   "source": [
    "### <font color='blue'>Setting Colors, Linewidths, Linetypes</font>"
   ]
  },
  {
   "cell_type": "markdown",
   "metadata": {},
   "source": [
    "**Colors**\n",
    "\n",
    "We can define the colors of lines and other graphical elements in a number of ways. \n",
    "\n",
    "- Use the MATLAB-like syntax where 'b' means blue, 'g' means green, etc., and 'b.-' means a blue line with dots.\n",
    "- Define colors by their names or RGB hex codes and optionally provide an alpha value using the `color` and `alpha` keyword arguments.\n"
   ]
  },
  {
   "cell_type": "code",
   "execution_count": null,
   "metadata": {},
   "outputs": [],
   "source": [
    "x = np.linspace(0, 2*np.pi, 300)\n",
    "y = np.sin(x)\n",
    "w = np.sin(x**2)\n",
    "\n",
    "fig, axes = plt.subplots()\n",
    "\n",
    "axes.plot(x, y, 'b.-', label=r'$y = \\sin(x)$')\n",
    "axes.plot(x, w, 'g--', label=r'$y = \\sin(x^2)$')\n",
    "axes.set_title('Some functions')\n",
    "axes.set_xlabel(r'$\\alpha$')\n",
    "axes.set_ylabel(r'$\\beta$')\n",
    "axes.legend(loc='best')"
   ]
  },
  {
   "cell_type": "code",
   "execution_count": null,
   "metadata": {},
   "outputs": [],
   "source": [
    "fig, axes = plt.subplots()\n",
    "\n",
    "axes.plot(x, x+1, color=\"red\", alpha=0.5) # half-transparant red\n",
    "axes.plot(x, x+2, color=\"#1155dd\")        # RGB hex code for a bluish color\n",
    "axes.plot(x, x+3, color=\"#15cc55\")        # RGB hex code for a greenish color\n",
    "axes.set_title('Sample functions')\n",
    "axes.set_xlabel('x')\n",
    "axes.set_ylabel('y')"
   ]
  },
  {
   "cell_type": "markdown",
   "metadata": {},
   "source": [
    "**Line and Marker Styles**\n",
    "\n",
    "- To change the line width, we can use the `linewidth` or `lw` keyword argument. \n",
    "- The line style can be selected using the `linestyle` or `ls` keyword arguments."
   ]
  },
  {
   "cell_type": "code",
   "execution_count": null,
   "metadata": {},
   "outputs": [],
   "source": [
    "fig, axes = plt.subplots(figsize=(12,6))\n",
    "\n",
    "axes.plot(x, x+1, color=\"blue\", linewidth=0.25)\n",
    "axes.plot(x, x+2, color=\"blue\", linewidth=0.50)\n",
    "axes.plot(x, x+3, color=\"blue\", linewidth=1.00)\n",
    "axes.plot(x, x+4, color=\"blue\", linewidth=2.00)\n",
    "\n",
    "# possible linestype options ‘-‘, ‘--’, ‘-.’, ‘:’, ‘steps’\n",
    "axes.plot(x, x+5, color=\"red\", lw=2, linestyle='-')\n",
    "axes.plot(x, x+6, color=\"red\", lw=2, ls='-.')\n",
    "axes.plot(x, x+7, color=\"red\", lw=2, ls=':')\n",
    "\n",
    "# custom dash\n",
    "line, = axes.plot(x, x+8, color=\"black\", lw=1.50)\n",
    "line.set_dashes([5, 10, 15, 10]) # format: line length, space length, ...\n",
    "\n",
    "# possible marker symbols: marker = '+', 'o', '*', 's', ',', '.', '1', '2', '3', '4', ...\n",
    "axes.plot(x, x+ 9, color=\"green\", lw=2, ls='--', marker='+')\n",
    "axes.plot(x, x+10, color=\"green\", lw=2, ls='--', marker='o')\n",
    "axes.plot(x, x+11, color=\"green\", lw=2, ls='--', marker='s')\n",
    "axes.plot(x, x+12, color=\"green\", lw=2, ls='--', marker='1')\n",
    "\n",
    "# marker size and color\n",
    "axes.plot(x, x+13, color=\"purple\", lw=1, ls='-', marker='o', markersize=2)\n",
    "axes.plot(x, x+14, color=\"purple\", lw=1, ls='-', marker='o', markersize=4)\n",
    "axes.plot(x, x+15, color=\"purple\", lw=1, ls='-', marker='o', markersize=8, markerfacecolor=\"red\")\n",
    "axes.plot(x, x+16, color=\"purple\", lw=1, ls='-', marker='s', markersize=8,\n",
    "          markerfacecolor=\"yellow\", \n",
    "          markeredgewidth=2, markeredgecolor=\"blue\");"
   ]
  },
  {
   "cell_type": "markdown",
   "metadata": {},
   "source": [
    "### <font color='blue'>Control over axis appearance</font>\n",
    "\n",
    "We want to be able to control where the ticks and labels are placed, modify the font size and possibly the labels used on the axes. "
   ]
  },
  {
   "cell_type": "markdown",
   "metadata": {},
   "source": [
    "**Plot Range**\n",
    "\n",
    "- We want to configure is the ranges of the axes. \n",
    "- We can do this using the `set_ylim` and `set_xlim` methods in the axis object, or `axis('tight')` for automatrically getting \"tightly fitted\" axes ranges:"
   ]
  },
  {
   "cell_type": "code",
   "execution_count": null,
   "metadata": {},
   "outputs": [],
   "source": [
    "fig, axes = plt.subplots(1, 3, figsize=(12, 4))\n",
    "\n",
    "axes[0].plot(x, x**2, x, x**3)\n",
    "axes[0].set_title(\"default axes ranges\")\n",
    "\n",
    "axes[1].plot(x, x**2, x, x**3)\n",
    "axes[1].axis('tight')\n",
    "axes[1].set_title(\"tight axes\")\n",
    "\n",
    "axes[2].plot(x, x**2, x, x**3)\n",
    "axes[2].set_ylim([0, 60])\n",
    "axes[2].set_xlim([2, 5])\n",
    "axes[2].set_title(\"custom axes range\");"
   ]
  },
  {
   "cell_type": "markdown",
   "metadata": {},
   "source": [
    "### <font color='blue'>Placement of Ticks and Custom Tick Labels</font>\n",
    "\n",
    "- We can explicitly determine where we want the axis ticks with `set_xticks` and `set_yticks`, which both take a list of values for where on the axis the ticks are to be placed. \n",
    "- We can also use the `set_xticklabels` and `set_yticklabels` methods to provide a list of custom text labels for each tick location."
   ]
  },
  {
   "cell_type": "code",
   "execution_count": null,
   "metadata": {},
   "outputs": [],
   "source": [
    "fig, ax = plt.subplots(figsize=(10, 4))\n",
    "\n",
    "x = np.arange(6)\n",
    "ax.plot(x, x**2, x, x**3, lw=2)\n",
    "\n",
    "ax.set_xticks([1, 2, 3, 4, 5])\n",
    "ax.set_xticklabels([r'$\\alpha$', r'$\\beta$', r'$\\gamma$', \n",
    "                    r'$\\delta$', r'$\\epsilon$'], fontsize=18)\n",
    "\n",
    "yticks = [0, 50, 100, 150]\n",
    "ax.set_yticks(yticks)\n",
    "ax.set_yticklabels([\"$%.1f$\" % y for y in yticks], fontsize=18);"
   ]
  },
  {
   "cell_type": "code",
   "execution_count": null,
   "metadata": {},
   "outputs": [],
   "source": [
    "fig, ax = plt.subplots(figsize=(10, 6))\n",
    "\n",
    "X = np.linspace(-np.pi, np.pi, 256,endpoint=True)\n",
    "C = np.cos(X)\n",
    "S = np.sin(X)\n",
    "\n",
    "ax.plot(X, C, color=\"blue\",  linewidth=1.2, linestyle=\"-\")\n",
    "ax.plot(X, S, color=\"green\", linewidth=1.0, linestyle=\"-.\")\n",
    "\n",
    "ax.set_xlim(-4.0,4.0)\n",
    "ax.set_xticks(np.linspace(-4,4,5,endpoint=True))\n",
    "\n",
    "# Set y limits\n",
    "ax.set_ylim(-1.05,1.05)\n",
    "ax.set_yticks(np.linspace(-1,1,5,endpoint=True));"
   ]
  },
  {
   "cell_type": "markdown",
   "metadata": {},
   "source": [
    "### <font color='blue'>Axis Grid</font>\n",
    "\n",
    "- With the `grid` method in the axis object, we can turn on and off grid lines. \n",
    "- We can also customize the appearance of the grid lines using the same keyword arguments as the `plot` function.\n"
   ]
  },
  {
   "cell_type": "code",
   "execution_count": null,
   "metadata": {},
   "outputs": [],
   "source": [
    "def f(t):\n",
    "    return np.exp(-t) * np.cos(2*np.pi*t)\n",
    "\n",
    "t1 = np.arange(0.0, 5.0, 0.1)\n",
    "t2 = np.arange(0.0, 5.0, 0.02)\n",
    "\n",
    "fig, axes = plt.subplots(nrows=1, ncols=2, figsize=(8, 4))\n",
    "\n",
    "axes[1].plot(t1, f(t1), 'bo', t2, f(t2), 'k')\n",
    "axes[1].grid(color='b', alpha=0.5, linestyle='dashed', linewidth=0.5)\n",
    "\n",
    "axes[0].plot(t2, np.cos(2*np.pi*t2), 'r--')\n",
    "axes[0].grid(True)\n",
    "\n",
    "fig.tight_layout()"
   ]
  },
  {
   "cell_type": "markdown",
   "metadata": {},
   "source": [
    "### <font color='blue'>Axis Spines</font>\n",
    "\n",
    "- Spines are the lines connecting the axis tick marks and noting the boundaries of the data area\n",
    "- They can be placed at arbitrary positions, especially on the border of the axis.\n",
    "- There are four of them: top, bottom, left and right"
   ]
  },
  {
   "cell_type": "code",
   "execution_count": null,
   "metadata": {},
   "outputs": [],
   "source": [
    "fig, ax = plt.subplots(figsize=(6,2))\n",
    "\n",
    "ax.spines['bottom'].set_color('blue')\n",
    "ax.spines['bottom'].set_linewidth(1.5)\n",
    "ax.spines['top'].set_color('green')\n",
    "\n",
    "ax.spines['left'].set_color('red')\n",
    "ax.spines['left'].set_linewidth(2)\n",
    "\n",
    "# turn off axis spine to the right\n",
    "ax.spines['right'].set_color(\"none\")\n",
    "ax.yaxis.tick_left() # only ticks on the left side"
   ]
  },
  {
   "cell_type": "code",
   "execution_count": null,
   "metadata": {},
   "outputs": [],
   "source": [
    "X = np.linspace(-np.pi, np.pi, 256,endpoint=True)\n",
    "\n",
    "C = np.cos(X)\n",
    "S = np.sin(X)\n",
    "\n",
    "fig, ax = plt.subplots()\n",
    "\n",
    "ax.plot(X, C, color=\"black\", linewidth=1.0, linestyle=\"-\")\n",
    "ax.plot(X, S, color=\"green\", linewidth=1.0, linestyle=\"-\")\n",
    "\n",
    "ax.set_xlim(-4.0,4.0)\n",
    "ax.set_xticks(np.linspace(-4,4,9,endpoint=True))\n",
    "\n",
    "ax.set_ylim(-1.05,1.05)\n",
    "ax.set_yticks(np.linspace(-1,1,5,endpoint=True))\n",
    "\n",
    "# Move left y-axis and bottom x-axis to centre, passing through (0,0)\n",
    "ax.spines['left'].set_position('center') \n",
    "ax.spines['left'].set_color('red')\n",
    "ax.spines['left'].set_linewidth(2)\n",
    "\n",
    "ax.spines['bottom'].set_position('center') \n",
    "ax.spines['bottom'].set_color('blue')\n",
    "ax.spines['bottom'].set_linewidth(2)\n",
    "\n",
    "# Eliminate upper and right axes\n",
    "ax.spines['right'].set_color('none')\n",
    "ax.spines['top'].set_color('none')\n",
    "\n",
    "# Show ticks on the left and lower axes only\n",
    "ax.xaxis.set_ticks_position('bottom')\n",
    "ax.yaxis.set_ticks_position('left')"
   ]
  },
  {
   "cell_type": "markdown",
   "metadata": {},
   "source": [
    "### <font color='blue'>Twin Axes</font>\n",
    "\n",
    "Sometimes it is useful to have dual x or y axes in a figure; for example, when plotting curves with different units together. Matplotlib supports this with the twinx and twiny functions."
   ]
  },
  {
   "cell_type": "code",
   "execution_count": null,
   "metadata": {},
   "outputs": [],
   "source": [
    "fig, ax1 = plt.subplots()\n",
    "\n",
    "x = np.arange(6)\n",
    "\n",
    "ax1.plot(x, x**2, lw=2, color=\"blue\")\n",
    "ax1.set_ylabel(r\"area $(m^2)$\", fontsize=18, color=\"blue\")\n",
    "for label in ax1.get_yticklabels():\n",
    "    label.set_color(\"blue\")\n",
    "    \n",
    "ax2 = ax1.twinx()\n",
    "ax2.plot(x, x**3, lw=2, color=\"red\")\n",
    "ax2.set_ylabel(r\"volume $(m^3)$\", fontsize=18, color=\"red\")\n",
    "for label in ax2.get_yticklabels():\n",
    "    label.set_color(\"red\")"
   ]
  },
  {
   "cell_type": "markdown",
   "metadata": {},
   "source": [
    "### <font color='blue'>Annotating Text</font>\n",
    "\n",
    "- Annotating text in matplotlib figures can be done using the `text` function. \n",
    "- It supports LaTeX formatting just like axis label texts and titles."
   ]
  },
  {
   "cell_type": "code",
   "execution_count": null,
   "metadata": {},
   "outputs": [],
   "source": [
    "fig, ax = plt.subplots()\n",
    "\n",
    "x = np.linspace(-0.75, 1., 100)\n",
    "ax.plot(x, x**2, x, x**3)\n",
    "\n",
    "ax.text(0.15, 0.2, r\"$y=x^2$\", fontsize=20, color=\"blue\")\n",
    "ax.text(0.65, 0.1, r\"$y=x^3$\", fontsize=20, color=\"green\");"
   ]
  },
  {
   "cell_type": "markdown",
   "metadata": {},
   "source": [
    "### <font color='blue'>Other 2D Plot Styles</font>\n",
    "\n",
    "Here is a list of some of the available plotting functions:\n",
    "\n",
    "| Function | Description |\n",
    "| :--- | :--- |\n",
    "| `bar` | Make a bar plot | \n",
    "| `barbs` | Plot a two-dimensional field of barbs | \n",
    "| `boxplot` | Make a box and whisker plot | \n",
    "| `cohere` | Plot the coherence between x and y | \n",
    "| `contour` | Plot contours | \n",
    "| `errorbar` | Plot an errorbar graph | \n",
    "| `hexbin` | Make a hexagonal binning plot | \n",
    "| `hist` | Plot a histogram | \n",
    "| `imshow` | Display an image on the axes | \n",
    "| `pcolor`| Create a pseudocolor plot of a two-dimensional array | \n",
    "| `pcolormesh` | Plot a quadrilateral mesh | \n",
    "| `pie` | Plot a pie chart | \n",
    "| `plot` | Plot lines and/or markers | \n",
    "| `quiver` | Plot a two-dimensional field of arrows | \n",
    "| `sankey` | Create a Sankey flow diagram | \n",
    "| `scatter` | Make a scatter plot of x versus y | \n",
    "| `stem` | Create a stem plot | \n",
    "| `streamplot` | Draw streamlines of a vector flow | "
   ]
  },
  {
   "cell_type": "code",
   "execution_count": null,
   "metadata": {},
   "outputs": [],
   "source": [
    "n = np.arange(6)\n",
    "xx = np.linspace(-0.75, 1., 100)"
   ]
  },
  {
   "cell_type": "markdown",
   "metadata": {},
   "source": [
    "**scatter, step, bar, fill plots**"
   ]
  },
  {
   "cell_type": "code",
   "execution_count": null,
   "metadata": {},
   "outputs": [],
   "source": [
    "fig, axes = plt.subplots(1, 4, figsize=(12,3))\n",
    "\n",
    "axes[0].scatter(xx, xx + 0.25*np.random.randn(len(xx)))\n",
    "axes[0].set_title(\"scatter\")\n",
    "\n",
    "axes[1].step(n, n**2, lw=2)\n",
    "axes[1].set_title(\"step\")\n",
    "\n",
    "axes[2].bar(n, n**2, align=\"center\", width=0.5, alpha=0.5)\n",
    "axes[2].set_title(\"bar\")\n",
    "\n",
    "axes[3].fill_between(x, x**2, x**3, color=\"green\", alpha=0.5);\n",
    "axes[3].set_title(\"fill_between\");"
   ]
  },
  {
   "cell_type": "markdown",
   "metadata": {},
   "source": [
    "**polar plot**"
   ]
  },
  {
   "cell_type": "code",
   "execution_count": null,
   "metadata": {},
   "outputs": [],
   "source": [
    "fig = plt.figure()\n",
    "ax = fig.add_axes([0.0, 0.0, .6, .6], polar=True)\n",
    "t = np.linspace(0, 2 * np.pi, 100)\n",
    "ax.plot(t, t, color='blue', lw=3);"
   ]
  },
  {
   "cell_type": "markdown",
   "metadata": {},
   "source": [
    "**histogram**"
   ]
  },
  {
   "cell_type": "code",
   "execution_count": null,
   "metadata": {},
   "outputs": [],
   "source": [
    "n = np.random.randn(100000)\n",
    "fig, axes = plt.subplots(1, 2, figsize=(12,4))\n",
    "\n",
    "axes[0].hist(n)\n",
    "axes[0].set_title(\"Default histogram\")\n",
    "axes[0].set_xlim((min(n), max(n)))\n",
    "\n",
    "axes[1].hist(n, cumulative=True, bins=50)\n",
    "axes[1].set_title(\"Cumulative detailed histogram\")\n",
    "axes[1].set_xlim((min(n), max(n)));"
   ]
  },
  {
   "cell_type": "markdown",
   "metadata": {},
   "source": [
    "#### Stack Plots\n",
    "- Plot a collection linear data, in a vertical order, stacking each linear plot on another.\n",
    "- All the data share the same x-values.\n",
    "- Used to represent various datasets without overlapping over each other.\n",
    "\n",
    "```python\n",
    "   stackplot(x, y1, y2, ..., yn, c=None, ...)\n",
    "````"
   ]
  },
  {
   "cell_type": "code",
   "execution_count": null,
   "metadata": {
    "scrolled": true
   },
   "outputs": [],
   "source": [
    "fig, axes = plt.subplots(1, 1, figsize=(11,6))\n",
    "\n",
    "xvals = [ 1,  2,  3,  4,  5,  6,  7,  8,  9]\n",
    "yvals1  = [23, 40, 28, 43,  8, 44, 43, 18, 17]\n",
    "yvals2  = [17, 30, 22, 14, 17, 17, 29, 22, 30]\n",
    "yvals3  = [15, 31, 18, 22, 18, 19, 13, 32, 39]\n",
    "\n",
    "# Adding legend for stack plots is tricky.\n",
    "axes.plot([], [], color='r', label = 'red')\n",
    "axes.plot([], [], color='g', label = 'green')\n",
    "axes.plot([], [], color='b', label = 'blue')\n",
    "\n",
    "axes.stackplot(xvals, yvals1, yvals2, yvals3, colors= ['r', 'g', 'b'])\n",
    "plt.title('Stack Plot Example')\n",
    "plt.legend(loc='best');"
   ]
  },
  {
   "cell_type": "markdown",
   "metadata": {},
   "source": [
    "Using a disctionary syntax to stack the y-values:"
   ]
  },
  {
   "cell_type": "code",
   "execution_count": null,
   "metadata": {},
   "outputs": [],
   "source": [
    "fig, axes = plt.subplots(1, 1, figsize=(11,6))\n",
    "\n",
    "xvals = [ 1,  2,  3,  4,  5,  6,  7,  8,  9]\n",
    "yvals1  = [23, 40, 28, 43,  8, 44, 43, 18, 17]\n",
    "yvals2  = [17, 30, 22, 14, 17, 17, 29, 22, 30]\n",
    "yvals3  = [15, 31, 18, 22, 18, 19, 13, 32, 39]\n",
    "\n",
    "yvals = {\n",
    "    \"y1\": yvals1,\n",
    "    \"y2\": yvals2,\n",
    "    \"y3\": yvals3,\n",
    "}\n",
    "\n",
    "axes.stackplot(xvals, yvals.values(), \n",
    "               labels=yvals.keys(),\n",
    "               colors= ['r', 'g', 'b'])\n",
    "plt.title('Stack Plot Example')\n",
    "plt.legend(loc='best');"
   ]
  },
  {
   "cell_type": "markdown",
   "metadata": {},
   "source": [
    "**Contour Plot and Colorbar**"
   ]
  },
  {
   "cell_type": "code",
   "execution_count": null,
   "metadata": {},
   "outputs": [],
   "source": [
    "def f(x, y):\n",
    "    return np.sin(x) ** 10 + np.cos(10 + y * x) * np.cos(x)\n",
    "\n",
    "x = np.linspace(0, 5, 50)\n",
    "y = np.linspace(0, 5, 40)\n",
    "\n",
    "X, Y = np.meshgrid(x, y)\n",
    "Z = f(X, Y)"
   ]
  },
  {
   "cell_type": "code",
   "execution_count": null,
   "metadata": {},
   "outputs": [],
   "source": [
    "fig, ax = plt.subplots()\n",
    "p = ax.contour(X, Y, Z, colors='black')"
   ]
  },
  {
   "cell_type": "code",
   "execution_count": null,
   "metadata": {},
   "outputs": [],
   "source": [
    "fig, ax = plt.subplots()\n",
    "cmap = cm.get_cmap('jet', 10)    # 10 discrete colors\n",
    "cp = ax.contour(X, Y, Z, 10, cmap=cmap);"
   ]
  },
  {
   "cell_type": "code",
   "execution_count": null,
   "metadata": {},
   "outputs": [],
   "source": [
    "fig, ax = plt.subplots()\n",
    "cmap = cm.get_cmap('jet', 10)    # 10 discrete colors\n",
    "p = ax.contourf(X, Y, Z, 20, cmap=cmap)\n",
    "cb = fig.colorbar(p, ax=ax)"
   ]
  },
  {
   "cell_type": "markdown",
   "metadata": {},
   "source": [
    "# <font color=\"green\">Cartopy</font>"
   ]
  },
  {
   "cell_type": "markdown",
   "metadata": {},
   "source": [
    "## <font color=\"red\"> What is Cartopy? </font>\n",
    "\n",
    "* A geospatial plotting library built on top of Numpy and Matplotlib that makes plotting gridded data, shapefiles, and other geographic data.\n",
    "* Relies on PROJ.4, Numpy and shapely libraries\n",
    "* Has a simple and intuitive drawing interface to Matplotlib\n",
    "\n",
    "#### What Does Cartopy Provide?\n",
    "\n",
    "* Facilities to transform coordinates to over 30 different <a href=\"https://scitools.org.uk/cartopy/docs/latest/reference/projections.html\">map projections</a>\n",
    "* Matplotlib is used to plot contours, images, vectors, lines or points in the transformed coordinates.\n",
    "* Shorelines, river and political boundary datasets (at different resolutions) are available.\n",
    "* Able to incorporate shapefiles."
   ]
  },
  {
   "cell_type": "markdown",
   "metadata": {},
   "source": [
    "## <font color=\"red\">Drawing Maps</font>\n",
    "\n",
    "To draw maps, we need to have:\n",
    "\n",
    "- A map projection of geographic coordinates on the 3D Earth to the 2D space of your figure.\n",
    "- A set of decorations (for instance, rivers, lakes, country borders, continents, etc.)\n",
    "\n",
    "### <font color=\"blue\">Map Projections</font>\n",
    "\n",
    "- In Cartopy, each projection is a class. \n",
    "- One of the key features of Cartopy is its ability to transform points, lines, vectors, polygons and images between projections\n",
    "- Cartopy depends on Matplotlib, and each projection knows how to create a Matplotlib Axes (or `AxesSubplot`) that can represent itself.\n",
    "- The Axes that the projection creates is a `cartopy.mpl.geoaxes.GeoAxes`. This Axes subclass overrides some of Matplotlib’s existing methods, and adds a number of extremely useful ones for drawing maps.\n",
    "\n",
    "```python\n",
    "# Option 1\n",
    "   plt.figure()\n",
    "   ax = plt.axes(projection=ccrs.PlateCarree())\n",
    "\n",
    "# Option 2\n",
    "   fig, ax = plt.subplots(\n",
    "       subplot_kw={'projection': ccrs.PlateCarree()}\n",
    "   )\n",
    "```"
   ]
  },
  {
   "cell_type": "code",
   "execution_count": null,
   "metadata": {},
   "outputs": [],
   "source": [
    "projections = [ccrs.PlateCarree(),\n",
    "               ccrs.Robinson(),\n",
    "               ccrs.Mollweide(),\n",
    "               ccrs.Mercator(),\n",
    "               ccrs.Orthographic(),\n",
    "               ccrs.Sinusoidal(),\n",
    "               ccrs.InterruptedGoodeHomolosine()\n",
    "              ]\n",
    "\n",
    "\n",
    "for proj in projections:\n",
    "    plt.figure(figsize=(8,5))\n",
    "    ax = plt.axes(projection=proj)\n",
    "    ax.stock_img()\n",
    "    ax.coastlines()\n",
    "    ax.set_title(f'{type(proj)}')\n",
    "    plt.show()"
   ]
  },
  {
   "cell_type": "code",
   "execution_count": null,
   "metadata": {},
   "outputs": [],
   "source": [
    "from cartopy.feature import OCEAN\n",
    "\n",
    "projections = [ccrs.PlateCarree(-60), \n",
    "               ccrs.AlbersEqualArea(-60), \n",
    "               ccrs.TransverseMercator(-60), \n",
    "               ccrs.Orthographic(-60, 30)]\n",
    "\n",
    "titles = ['Equirectangular projection', \n",
    "          'Albers equal-area conic projection', \n",
    "          'Transverse mercator projection', \n",
    "          'Orthographic projection']\n",
    "\n",
    "fig, axes = plt.subplots(2, 2, \n",
    "                         subplot_kw={'projection': projections[2]}, \n",
    "                         figsize=(15,10))\n",
    "\n",
    "ny_lon, ny_lat = -75, 43\n",
    "\n",
    "for ax, proj, title in zip(axes.ravel(), projections, titles):\n",
    "    # Change projection for each subplot\n",
    "    ax.projection = proj\n",
    "    # Add title for each subplot.\n",
    "    ax.set_title(title)  \n",
    "    # Set global extention\n",
    "    ax.set_global()         \n",
    "    # Add coastlines\n",
    "    ax.coastlines()    \n",
    "    # Add oceans\n",
    "    ax.add_feature(OCEAN)   \n",
    "    # Add tissot indicatrisses\n",
    "    ax.tissot(facecolor='r', alpha=.8, lats=np.arange(-90,90, 30))         # Add tissot indicatrisses\n",
    "    ax.plot(ny_lon, ny_lat, 'ko', transform=ccrs.Geodetic())               # Plot the point for the NY city\n",
    "    ax.text(ny_lon + 4, ny_lat + 4, 'New York', transform=ccrs.Geodetic()) # Label New York\n",
    "    ax.gridlines(color='.25', ylocs=np.arange(-90,90, 30))                 # Ad gridlines\n",
    "plt.show()"
   ]
  },
  {
   "cell_type": "markdown",
   "metadata": {},
   "source": [
    "### <font color=\"blue\">Features</font>\n",
    "\n",
    "- To give our map more styles and details, we add `cartopy.feature` objects.\n",
    "- Many useful features are built in. These \"default features\" are at coarse (`110m`) resolution.\n",
    "\n",
    "```python\n",
    "cfeature.BORDERS   # Country boundaries\n",
    "cfeature.COASTLINE # Coastline, including major islands\n",
    "cfeature.LAKES     # Natural and artificial lakes\n",
    "cfeature.LAND      # Land polygons, including major islands\n",
    "cfeature.OCEAN     # Ocean polygons\n",
    "cfeature.RIVERS    # Single-line drainages, including lake centerlines\n",
    "cfeature.STATES    # limited to the United States at this scale\n",
    "```"
   ]
  },
  {
   "cell_type": "code",
   "execution_count": null,
   "metadata": {},
   "outputs": [],
   "source": [
    "fig, ax = plt.subplots(\n",
    "    subplot_kw={'projection': ccrs.PlateCarree()},\n",
    "    figsize=(15,10))\n",
    "ax.add_feature(cartopy.feature.LAND)\n",
    "\n",
    "ax.add_feature(cfeature.OCEAN)\n",
    "ax.add_feature(cfeature.COASTLINE)\n",
    "ax.add_feature(cfeature.BORDERS, linestyle=':')\n",
    "ax.add_feature(cfeature.LAKES, alpha=0.5)\n",
    "ax.add_feature(cfeature.RIVERS)"
   ]
  },
  {
   "cell_type": "markdown",
   "metadata": {},
   "source": [
    "#### We can use the [Natural Earth](https://www.naturalearthdata.com/) datasets to change the [resolution of the features](https://scitools.org.uk/cartopy/docs/latest/matplotlib/feature_interface.html#cartopy.feature.NaturalEarthFeature).\n",
    "\n",
    "- The features with names such as `cfeature.LAND`, `cfeature.OCEAN`, are on 110m resolution shapefiles from the NaturalEarth repository.  \n",
    "- Higher resolution shapefiles (10m, 50m) can be used by using the `cfeature.NaturalEarthFeature` method as illustrated below."
   ]
  },
  {
   "cell_type": "code",
   "execution_count": null,
   "metadata": {},
   "outputs": [],
   "source": [
    "scale = '50m'  #  use data at this scale # 110m # 10m\n",
    "\n",
    "boundary = cfeature.NaturalEarthFeature(\n",
    "    category='cultural',\n",
    "    name='admin_0_boundary_lines_land',\n",
    "    scale=scale, facecolor='none', alpha=0.7,\n",
    ")\n",
    "country_borders = cfeature.NaturalEarthFeature(\n",
    "    'physical', 'borders',\n",
    "    scale=scale, edgecolor='black', facecolor='none',\n",
    ")\n",
    "coastline_mask = cfeature.NaturalEarthFeature(\n",
    "    'physical', 'coastline',\n",
    "    scale=scale, edgecolor='black', facecolor='none',\n",
    ")\n",
    "land_mask = cfeature.NaturalEarthFeature(\n",
    "    'physical', 'land',\n",
    "    scale=scale, edgecolor='k',\n",
    "    facecolor=cfeature.COLORS['land'],\n",
    ")\n",
    "sea_mask = cfeature.NaturalEarthFeature(\n",
    "    'physical', 'ocean', \n",
    "    scale=scale, edgecolor='none',\n",
    "    facecolor=cfeature.COLORS['water'],\n",
    ")\n",
    "lake_mask = cfeature.NaturalEarthFeature(\n",
    "    'physical', 'lakes', \n",
    "    scale=scale, edgecolor='b',\n",
    "    facecolor=cfeature.COLORS['water'],\n",
    ")\n",
    "river_mask = cfeature.NaturalEarthFeature(\n",
    "    'physical', 'rivers_lake_centerlines', \n",
    "    scale=scale, edgecolor='b', facecolor='none'\n",
    ")\n",
    "usa_state_borders = cfeature.NaturalEarthFeature(\n",
    "    category='cultural',\n",
    "    name='admin_1_states_provinces_lines',\n",
    "    scale=scale, facecolor='none', edgecolor='k')"
   ]
  },
  {
   "cell_type": "code",
   "execution_count": null,
   "metadata": {},
   "outputs": [],
   "source": [
    "fig, ax = plt.subplots(\n",
    "    subplot_kw={'projection': ccrs.PlateCarree()},\n",
    "    figsize=(15,10))\n",
    "ax.add_feature(land_mask)\n",
    "ax.add_feature(sea_mask)\n",
    "ax.add_feature(coastline_mask)\n",
    "ax.add_feature(cfeature.BORDERS, linestyle=':')\n",
    "ax.add_feature(lake_mask, alpha=0.5)\n",
    "ax.add_feature(river_mask);"
   ]
  },
  {
   "cell_type": "markdown",
   "metadata": {},
   "source": [
    "#### Create a Regional Map\n",
    "- Use the `set_extent` method to select the subdomain you want to map.\n",
    "\n",
    "\n",
    "```python\n",
    "  ax.set_extent([min_lon, max_lon, min_lat, max_lat])\n",
    "```\n",
    "\n",
    "<font color=\"blue\"> Map of the United States of America </font>"
   ]
  },
  {
   "cell_type": "code",
   "execution_count": null,
   "metadata": {},
   "outputs": [],
   "source": [
    "min_lon, max_lon, min_lat, max_lat = -130, -65, 24, 47\n",
    "fig, ax = plt.subplots(\n",
    "    subplot_kw={'projection': ccrs.PlateCarree()},\n",
    "    figsize=(15,10))\n",
    "ax.add_feature(land_mask)\n",
    "ax.add_feature(sea_mask)\n",
    "ax.add_feature(coastline_mask)\n",
    "ax.add_feature(cfeature.BORDERS, edgecolor='red', linewidth=2.5)\n",
    "ax.add_feature(lake_mask, alpha=0.5)\n",
    "ax.add_feature(river_mask)\n",
    "ax.add_feature(usa_state_borders)\n",
    "ax.set_extent([min_lon, max_lon, min_lat, max_lat])"
   ]
  },
  {
   "cell_type": "markdown",
   "metadata": {},
   "source": [
    "## <font color=\"red\"> Application</font>\n",
    "\n",
    "Given a city name and location (latitude and longitude), we want to plot on the map:\n",
    "\n",
    "- The city location and its name\n",
    "- The current local time "
   ]
  },
  {
   "cell_type": "code",
   "execution_count": null,
   "metadata": {},
   "outputs": [],
   "source": [
    "#!pip install timezonefinder"
   ]
  },
  {
   "cell_type": "code",
   "execution_count": null,
   "metadata": {},
   "outputs": [],
   "source": [
    "import datetime\n",
    "import pytz\n",
    "import timezonefinder\n",
    "\n",
    "def get_local_time(latitude, longitude):\n",
    "    \"\"\"\n",
    "      Given the latitude/longitude pair, this function\n",
    "      returns the current local time at the location.\n",
    "    \"\"\"\n",
    "    tf = timezonefinder.TimezoneFinder()\n",
    "\n",
    "    # Get the tz-database-style time zone name\n",
    "    # (e.g. 'America/Vancouver') or None\n",
    "    timezone_str = tf.certain_timezone_at(lat=latitude, lng=longitude)\n",
    "\n",
    "    if timezone_str:\n",
    "       # Display the current time in that time zone\n",
    "       timezone = pytz.timezone(timezone_str)\n",
    "       dt = datetime.datetime.utcnow()\n",
    "       return (dt + timezone.utcoffset(dt)).strftime('%H:%M:%S')\n",
    "    else:\n",
    "       # Could not determine the time zone\n",
    "       return"
   ]
  },
  {
   "cell_type": "code",
   "execution_count": null,
   "metadata": {},
   "outputs": [],
   "source": [
    "paris = (2.35, 48.85, \"Paris\")\n",
    "new_york = (-73.92, 40.69, \"New York\")\n",
    "mumbai = (72.83, 28.35, \"Mumbai\")\n",
    "tokyo = (139.69, 35.68, \"Tokyo\")\n",
    "moscow = (37.36, 55.45, \"Moscow\")\n",
    "mexico_city = (-99.13, 19.43, \"Mexico City\")\n",
    "sao_paulo = (-46.63, -23.55, \"Sao Paulo\")\n",
    "yaounde = (11.50, 3.84, \"Yaounde\")\n",
    "vancouver = (-123.08, 49.32, \"Vacouver\")\n",
    "sydney = (151.20, -33.87, \"Sydney\")\n",
    "harare = (31.0, -18.0, \"Harare\")\n",
    "\n",
    "cities = [paris, new_york, mumbai, tokyo, moscow, mexico_city,\n",
    "         sao_paulo, yaounde, vancouver, sydney, harare]"
   ]
  },
  {
   "cell_type": "code",
   "execution_count": null,
   "metadata": {},
   "outputs": [],
   "source": [
    "city_names = [city[2] for city in cities]\n",
    "city_lats = [city[1] for city in cities]\n",
    "city_lons = [city[0] for city in cities]"
   ]
  },
  {
   "cell_type": "code",
   "execution_count": null,
   "metadata": {},
   "outputs": [],
   "source": [
    "plt.figure(figsize=(17, 10))\n",
    "\n",
    "map_projection = ccrs.PlateCarree()\n",
    "\n",
    "ax = plt.axes(projection=map_projection)\n",
    "ax.stock_img()\n",
    "\n",
    "props = dict(boxstyle='round', facecolor='orange', alpha=0.5)\n",
    "\n",
    "for i in range(len(city_names)):\n",
    "    loc_time = get_local_time(city_lats[i], city_lons[i])\n",
    "    textstr = \"\\n\".join((city_names[i], loc_time))\n",
    "    plt.text(city_lons[i], city_lats[i], textstr, bbox=props,\n",
    "             transform=ccrs.Geodetic())\n",
    "\n",
    "plt.show()"
   ]
  },
  {
   "cell_type": "markdown",
   "metadata": {},
   "source": [
    "## <font color='red'>Overlaying Data</font>\n",
    "\n",
    "#### Line Plots on a Map"
   ]
  },
  {
   "cell_type": "code",
   "execution_count": null,
   "metadata": {},
   "outputs": [],
   "source": [
    "map_projection = ccrs.PlateCarree()\n",
    "data_transform1 = ccrs.PlateCarree()\n",
    "data_transform2 = ccrs.Geodetic()\n",
    "\n",
    "fig, ax = plt.subplots(\n",
    "    subplot_kw={'projection': map_projection},\n",
    "    figsize=(15,10))\n",
    "\n",
    "ax.stock_img()\n",
    "\n",
    "ny_lon, ny_lat = -75, 43\n",
    "delhi_lon, delhi_lat = 77.23, 28.61\n",
    "\n",
    "plt.plot([ny_lon, delhi_lon], [ny_lat, delhi_lat],\n",
    "         color='blue', linewidth=2, marker='o',\n",
    "         transform=data_transform2)\n",
    "\n",
    "plt.plot([ny_lon, delhi_lon], [ny_lat, delhi_lat],\n",
    "         color='gray', linestyle='--',\n",
    "         transform=data_transform1)\n",
    "\n",
    "plt.text(ny_lon - 3, ny_lat - 12, 'New York',\n",
    "         horizontalalignment='right',\n",
    "         transform=data_transform2)\n",
    "\n",
    "plt.text(delhi_lon + 3, delhi_lat - 12, 'Delhi',\n",
    "         horizontalalignment='left',\n",
    "         transform=data_transform2)\n",
    "\n",
    "plt.show()"
   ]
  },
  {
   "cell_type": "markdown",
   "metadata": {},
   "source": [
    "#### <font color=\"red\">Understanding Projection and Transform Keywords</font>\n",
    "+ The projection of your axes is independent of the coordinate system your data is defined in.\n",
    "+ The `projection` argument is used when creating plots and determines the projection of the resulting plot.\n",
    "+ You can set `projection` to any projection you like.\n",
    "+ The `transform` argument to plotting functions tells Cartopy what coordinate system your data are defined in. \n",
    "+ `transform` needs to match whatever coordinate system your data uses.\n",
    "\n",
    "### <font color=\"blue\">Basic Map</font>\n",
    "\n",
    "- We create synthetic geo-located data and plot them using Cartopy."
   ]
  },
  {
   "cell_type": "code",
   "execution_count": null,
   "metadata": {},
   "outputs": [],
   "source": [
    "nlats, nlons = 73, 145\n",
    "lats = np.linspace(-np.pi / 2, np.pi / 2, nlats)\n",
    "lons = np.linspace(0, 2 * np.pi, nlons)\n",
    "\n",
    "# Create a mesh grid\n",
    "lons, lats = np.meshgrid(lons, lats)\n",
    "wave = 0.75 * (np.sin(2 * lats) ** 8) * np.cos(4 * lons)\n",
    "mean = 0.5 * np.cos(2 * lats) * ((np.sin(2 * lats)) ** 2 + 2)\n",
    "\n",
    "lats = np.rad2deg(lats)\n",
    "lons = np.rad2deg(lons)\n",
    "data = wave + mean"
   ]
  },
  {
   "cell_type": "code",
   "execution_count": null,
   "metadata": {},
   "outputs": [],
   "source": [
    "map_projection = ccrs.PlateCarree()\n",
    "\n",
    "fig, ax = plt.subplots(\n",
    "    subplot_kw={'projection': map_projection},\n",
    "    figsize=(15,10))\n",
    "\n",
    "ax.contourf(lons, lats, data)\n",
    "ax.coastlines()\n",
    "ax.set_global()\n",
    "plt.show()"
   ]
  },
  {
   "cell_type": "markdown",
   "metadata": {},
   "source": [
    "#### Adding Latitude/Longitude Ticks"
   ]
  },
  {
   "cell_type": "code",
   "execution_count": null,
   "metadata": {},
   "outputs": [],
   "source": [
    "from cartopy.mpl.ticker import LongitudeFormatter, LatitudeFormatter\n",
    "\n",
    "map_projection = ccrs.PlateCarree()\n",
    "\n",
    "fig, ax = plt.subplots(\n",
    "    subplot_kw={'projection': map_projection},\n",
    "    figsize=(15,10))\n",
    "\n",
    "ax.contourf(lons, lats, data, cmap='RdBu')\n",
    "ax.coastlines()\n",
    "\n",
    "ax.set_xticks(np.linspace(-180, 180, 5), crs=map_projection)\n",
    "ax.set_yticks(np.linspace(-90, 90, 5), crs=map_projection)\n",
    "lon_formatter = LongitudeFormatter(zero_direction_label=True)\n",
    "lat_formatter = LatitudeFormatter()\n",
    "ax.xaxis.set_major_formatter(lon_formatter)\n",
    "ax.yaxis.set_major_formatter(lat_formatter)\n",
    "\n",
    "ax.set_global()\n",
    "plt.show()"
   ]
  },
  {
   "cell_type": "markdown",
   "metadata": {},
   "source": [
    "#### Adding Colorbar"
   ]
  },
  {
   "cell_type": "code",
   "execution_count": null,
   "metadata": {},
   "outputs": [],
   "source": [
    "map_projection = ccrs.PlateCarree()\n",
    "data_transform = ccrs.PlateCarree()\n",
    "\n",
    "fig, ax = plt.subplots(\n",
    "    subplot_kw={'projection': map_projection},\n",
    "    figsize=(15,10))\n",
    "\n",
    "im = ax.contourf(lons, lats, data, cmap='RdBu', transform=data_transform)\n",
    "ax.coastlines()\n",
    "\n",
    "ax.set_xticks(np.linspace(-180, 180, 5), crs=map_projection)\n",
    "ax.set_yticks(np.linspace(-90, 90, 5), crs=map_projection)\n",
    "lon_formatter = LongitudeFormatter(zero_direction_label=True)\n",
    "lat_formatter = LatitudeFormatter()\n",
    "ax.xaxis.set_major_formatter(lon_formatter)\n",
    "ax.yaxis.set_major_formatter(lat_formatter)\n",
    "\n",
    "# Create an axes for colorbar. \n",
    "# The position of the axes is calculated based on the position of ax.\n",
    "# You can change dspace to adjust the distance between the main image and the colorbar.\n",
    "# You can change dwidth to adjust the width of the colorbar.\n",
    "# This practice is universal for both subplots and GeoAxes.\n",
    "dspace = 0.01\n",
    "dwidth = 0.02\n",
    "cax = fig.add_axes([ax.get_position().x1 + dspace,\n",
    "                    ax.get_position().y0,  dwidth,\n",
    "                    ax.get_position().height])\n",
    "plt.colorbar(im, cax=cax)\n",
    "\n",
    "\n",
    "ax.set_global()\n",
    "plt.show()"
   ]
  },
  {
   "cell_type": "code",
   "execution_count": null,
   "metadata": {},
   "outputs": [],
   "source": [
    "map_projection = ccrs.Mollweide()\n",
    "data_transform = ccrs.PlateCarree()\n",
    "\n",
    "fig, ax = plt.subplots(\n",
    "    subplot_kw={'projection': map_projection},\n",
    "    figsize=(15,10))\n",
    "\n",
    "ax.contourf(\n",
    "    lons, lats, data, \n",
    "    transform=ccrs.PlateCarree(), \n",
    "    cmap='Spectral')\n",
    "ax.coastlines()\n",
    "ax.set_global()\n",
    "plt.show()"
   ]
  },
  {
   "cell_type": "code",
   "execution_count": null,
   "metadata": {},
   "outputs": [],
   "source": []
  }
 ],
 "metadata": {
  "anaconda-cloud": {},
  "kernelspec": {
   "display_name": "Python 3 (ipykernel)",
   "language": "python",
   "name": "python3"
  },
  "language_info": {
   "codemirror_mode": {
    "name": "ipython",
    "version": 3
   },
   "file_extension": ".py",
   "mimetype": "text/x-python",
   "name": "python",
   "nbconvert_exporter": "python",
   "pygments_lexer": "ipython3",
   "version": "3.8.2"
  }
 },
 "nbformat": 4,
 "nbformat_minor": 1
}
