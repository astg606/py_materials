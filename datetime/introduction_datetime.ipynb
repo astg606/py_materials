{
 "cells": [
  {
   "cell_type": "markdown",
   "metadata": {},
   "source": [
    "<center>\n",
    "<table>\n",
    "  <tr>\n",
    "    <td><img src=\"http://www.nasa.gov/sites/all/themes/custom/nasatwo/images/nasa-logo.svg\" width=\"100\"/> </td>\n",
    "     <td><img src=\"https://github.com/astg606/py_materials/blob/master/logos/ASTG_logo.png?raw=true\" width=\"80\"/> </td>\n",
    "     <td> <img src=\"https://www.nccs.nasa.gov/sites/default/files/NCCS_Logo_0.png\" width=\"130\"/> </td>\n",
    "    </tr>\n",
    "</table>\n",
    "</center>\n",
    "\n",
    "        \n",
    "<center>\n",
    "<h1><font color= \"blue\" size=\"+3\">ASTG Python Courses</font></h1>\n",
    "</center>\n",
    "\n",
    "---\n",
    "\n",
    "<CENTER>\n",
    "<H1>\n",
    "    <font color=\"red\">datetime Module</font>\n",
    "</H1>\n",
    "</CENTER>"
   ]
  },
  {
   "cell_type": "markdown",
   "metadata": {},
   "source": [
    "## <font color='red'>What will be Covered?</font>\n",
    "- Times\n",
    "- Dates\n",
    "- timedeltas\n",
    "- Date Arithmetic\n",
    "- Comparing Values\n",
    "- Combining Dates and Times\n",
    "- Formating and Parsing\n",
    "\n",
    "## <font color='red'>Reference Documents</font>\n",
    "\n",
    "- <A HREF=\"http://pleac.sourceforge.net/pleac_python/datesandtimes.html\">Dates and Times</A>\n",
    "- <A HREF=\"http://www.marinamele.com/2014/03/13-useful-tips-about-python-datetime.html\">Usedul Tips about Python datetime Objects</A>\n",
    "- <A HREF=\"https://pymotw.com/3/datetime/\">datetime - Date and Time Value Manipulation</A>\n",
    "\n",
    "## <font color='red'>What is the `datetime` Module?</font>\n",
    "\n",
    "- The `datetime` module supplies classes to work with date and time. \n",
    "- Helps us to handle time-related information on any precision level. \n",
    "- Can be used to write programs that get the day of the month, the day of the week, and the local date and time in minutes, hours, seconds, or milliseconds.\n",
    "- These `datetime` module classes provide a number of functions to deal with dates, times and time intervals.  \n",
    "- Date and datetime are objects in Python, so when you manipulate them, you are actually manipulating objects and not string or timestamps.\n",
    "\n",
    "\n",
    "The `datetime` module provides six main high-level interface classes:\n",
    "\n",
    "- `date`: An idealized date that assumes the Gregorian calendar extends infinitely into the future and past. It stores the year, month, and day as attributes.\n",
    "- `time`: An idealized time that assumes there are $24 \\times 60 \\times 60=86,400$ seconds per day with no leap seconds. This object stores the hour, minute, second, microsecond, and tzinfo (time zone information).\n",
    "- `datetime`: A combination of a date and a time. It has all the attributes of both classes.\n",
    "- `timedelta`: A duration expressing the difference between two date, time, or datetime objects to microsecond resolution.\n",
    "- `tzinfo`: Provides timezone-related information objects.\n",
    "- `timezone`: A class that implements the `tzinfo` abstract base class as a fixed offset from the UTC."
   ]
  },
  {
   "cell_type": "code",
   "execution_count": null,
   "metadata": {},
   "outputs": [],
   "source": [
    "import datetime"
   ]
  },
  {
   "cell_type": "markdown",
   "metadata": {},
   "source": [
    "**What is inside `datetime`?**"
   ]
  },
  {
   "cell_type": "code",
   "execution_count": null,
   "metadata": {},
   "outputs": [],
   "source": [
    "print(dir(datetime))"
   ]
  },
  {
   "cell_type": "markdown",
   "metadata": {},
   "source": [
    "## <font color='red'>Times</font>"
   ]
  },
  {
   "cell_type": "markdown",
   "metadata": {},
   "source": [
    "- Time values are represented with the **time** class. \n",
    "- Times have attributes for hour, minute, second, and microsecond. \n",
    "\n",
    "```python\n",
    "datetime.time(hour=0, minute=0, second=0, microsecond=0, \n",
    "              tzinfo=None, *, fold=0)\n",
    "```"
   ]
  },
  {
   "cell_type": "code",
   "execution_count": null,
   "metadata": {},
   "outputs": [],
   "source": [
    "t = datetime.time(1, 2, 3)"
   ]
  },
  {
   "cell_type": "code",
   "execution_count": null,
   "metadata": {},
   "outputs": [],
   "source": [
    "print(t)"
   ]
  },
  {
   "cell_type": "code",
   "execution_count": null,
   "metadata": {},
   "outputs": [],
   "source": [
    "print (f'hour  :      {t.hour}')\n",
    "print (f'minute:      {t.minute}')\n",
    "print (f'second:      {t.second}')\n",
    "print (f'microsecond: {t.microsecond}')\n",
    "print (f'tzinfo:      {t.tzinfo}')"
   ]
  },
  {
   "cell_type": "markdown",
   "metadata": {},
   "source": [
    "The variable <B>t</B> only holds values of time, and not a date associated with the time.\n",
    "<P>\n",
    "You can get the valid range of times in a single day:"
   ]
  },
  {
   "cell_type": "code",
   "execution_count": null,
   "metadata": {},
   "outputs": [],
   "source": [
    "print ('Earliest  :', datetime.time.min)\n",
    "print ('Latest    :', datetime.time.max)\n",
    "print ('Resolution:', datetime.time.resolution)"
   ]
  },
  {
   "cell_type": "markdown",
   "metadata": {},
   "source": [
    "Note that the resolution for time is limited to whole microseconds."
   ]
  },
  {
   "cell_type": "markdown",
   "metadata": {},
   "source": [
    "---\n",
    "\n",
    "### <font color=\"blue\">Breakout 1</font>\n",
    "Create a `time` object with 5 microseconds and 39 minutes.\n",
    "\n",
    "<p>\n",
    "\n",
    "<details><summary><b>Click here to access the solution</b></summary>\n",
    "<p>\n",
    "\n",
    "\n",
    "```python\n",
    "t = datetime.time(microsecond=5, minute=29)\n",
    "print(t)\n",
    "```\n",
    "\n",
    "</p>\n",
    "</details>\n",
    "\n",
    "---"
   ]
  },
  {
   "cell_type": "markdown",
   "metadata": {},
   "source": [
    "## <font color='red'>Dates</font>"
   ]
  },
  {
   "cell_type": "markdown",
   "metadata": {},
   "source": [
    "- Calendar date values are represented with the **date** class.\n",
    "- A date is represented in terms of year, month, and day. \n",
    "- It is easy to create a date representing today’s date using the **today()** class method.\n",
    "    \n",
    "```python\n",
    "datetime.date(year, month, day)\n",
    "```"
   ]
  },
  {
   "cell_type": "code",
   "execution_count": null,
   "metadata": {},
   "outputs": [],
   "source": [
    "today = datetime.date.today()\n",
    "print (f'today: \\n\\t {today}')\n",
    "print (f'ctime: \\n\\t {today.ctime()}')\n",
    "print (f'tuple: \\n\\t {today.timetuple()}')\n",
    "print (f'ordinal: \\n\\t {today.toordinal()}')\n",
    "print (f'Year: \\n\\t {today.year}')\n",
    "print (f'Mon: \\n\\t {today.month}')\n",
    "print (f'Day: \\n\\t {today.day}')"
   ]
  },
  {
   "cell_type": "markdown",
   "metadata": {},
   "source": [
    "There are also class methods for creating instances from integers (using proleptic Gregorian ordinal values, which starts counting from Jan. 1 of the year 1) or POSIX timestamp values.\n",
    "\n",
    "The following example illustrates the different value types used by:\n",
    "\n",
    "- `fromordinal()`: Return the date corresponding to the proleptic Gregorian ordinal, where January 1 of year 1 has ordinal 1.\n",
    "- `fromtimestamp()`: Return the local date corresponding to the timestamp."
   ]
  },
  {
   "cell_type": "code",
   "execution_count": null,
   "metadata": {},
   "outputs": [],
   "source": [
    "import time\n",
    "\n",
    "o = 733114\n",
    "print (f'o = {o} and fromordinal(o) = {datetime.date.fromordinal(o)}')\n",
    "\n",
    "t = time.time()\n",
    "print (f't = {t} and fromtimestamp(t) = {datetime.date.fromtimestamp(t)}')"
   ]
  },
  {
   "cell_type": "markdown",
   "metadata": {},
   "source": [
    "We can also determine the range of date values:"
   ]
  },
  {
   "cell_type": "code",
   "execution_count": null,
   "metadata": {},
   "outputs": [],
   "source": [
    "print (f'Earliest:   {datetime.date.min}')\n",
    "print (f'Latest:     {datetime.date.max}')\n",
    "print (f'Resolution: {datetime.date.resolution}')"
   ]
  },
  {
   "cell_type": "markdown",
   "metadata": {},
   "source": [
    "Note too that the resolution for dates is a whole day.\n",
    "<P>\n",
    "Another way to create new date instances uses the <B>replace()</B> method of an existing date. For example, you can change the year, leaving the day and month alone."
   ]
  },
  {
   "cell_type": "code",
   "execution_count": null,
   "metadata": {},
   "outputs": [],
   "source": [
    "d1 = datetime.date(2022, 7, 5)\n",
    "print ('d1:', d1)\n",
    "\n",
    "d2 = d1.replace(year=2023)\n",
    "print ('d2:', d2)"
   ]
  },
  {
   "cell_type": "code",
   "execution_count": null,
   "metadata": {},
   "outputs": [],
   "source": [
    "help(d1.replace)"
   ]
  },
  {
   "cell_type": "markdown",
   "metadata": {},
   "source": [
    "---\n",
    "\n",
    "### <font color=\"blue\">Breakout 2</font>\n",
    "Create a `date` object where year is 2023 and the day is 5.\n",
    "\n",
    "<p>\n",
    "\n",
    "<details><summary><b>Click here to access the solution</b></summary>\n",
    "<p>\n",
    "\n",
    "\n",
    "```python\n",
    "d = datetime.time(day=5, year=2023)\n",
    "print(d)\n",
    "```\n",
    "\n",
    "</p>\n",
    "</details>\n",
    "\n",
    "---"
   ]
  },
  {
   "cell_type": "markdown",
   "metadata": {},
   "source": [
    "## <font color='red'>timedeltas</font>"
   ]
  },
  {
   "cell_type": "markdown",
   "metadata": {},
   "source": [
    "- Timedelta objects represent a duration.\n",
    "- Can be used to calculate the difference between two dates or times.\n",
    "- We can use <B>datetime</B> to perform basic arithmetic on date values via the <B>timedelta</B> class.\n",
    "\n",
    "```python\n",
    "datetime.timedelta(days=0, seconds=0, microseconds=0, \n",
    "                   milliseconds=0, minutes=0, hours=0, weeks=0)\n",
    "```"
   ]
  },
  {
   "cell_type": "code",
   "execution_count": null,
   "metadata": {},
   "outputs": [],
   "source": [
    "print (f\"microseconds: {datetime.timedelta(microseconds=1)}\")\n",
    "print (f\"milliseconds: {datetime.timedelta(milliseconds=1)}\")\n",
    "print (f\"seconds:      {datetime.timedelta(seconds=1)}\")\n",
    "print (f\"minutes:      {datetime.timedelta(minutes=1)}\")\n",
    "print (f\"hours:        {datetime.timedelta(hours=1)}\")\n",
    "print (f\"days:         {datetime.timedelta(days=1)}\")\n",
    "print (f\"weeks:        {datetime.timedelta(weeks=1)}\")"
   ]
  },
  {
   "cell_type": "markdown",
   "metadata": {},
   "source": [
    "### <font color='green'>Date Arithmetic</font>\n",
    "\n",
    "- Date math uses the standard arithmetic operators. \n",
    "- The following example with date objects illustrates using <B>timedelta</B> objects to compute new dates, and subtracting date instances to produce timedeltas (including a negative delta value).\n"
   ]
  },
  {
   "cell_type": "code",
   "execution_count": null,
   "metadata": {},
   "outputs": [],
   "source": [
    "today = datetime.date.today()\n",
    "print('Today:', today)"
   ]
  },
  {
   "cell_type": "code",
   "execution_count": null,
   "metadata": {},
   "outputs": [],
   "source": [
    "one_timedelta_day = datetime.timedelta(days=1)\n",
    "print('One timedelta day:', one_timedelta_day)"
   ]
  },
  {
   "cell_type": "code",
   "execution_count": null,
   "metadata": {},
   "outputs": [],
   "source": [
    "yesterday = today - one_timedelta_day\n",
    "print('Yesterday:', yesterday)"
   ]
  },
  {
   "cell_type": "code",
   "execution_count": null,
   "metadata": {},
   "outputs": [],
   "source": [
    "tomorrow = today + one_timedelta_day\n",
    "print('Tomorrow:', tomorrow)"
   ]
  },
  {
   "cell_type": "code",
   "execution_count": null,
   "metadata": {},
   "outputs": [],
   "source": [
    "print('tomorrow - yesterday:', tomorrow - yesterday)\n",
    "print('yesterday - tomorrow:', yesterday - tomorrow)"
   ]
  },
  {
   "cell_type": "markdown",
   "metadata": {},
   "source": [
    "---\n",
    "\n",
    "### <font color=\"blue\">Breakout 3</font>\n",
    "Create an arbitrary `date` object and add five weeks. Print the new date.\n",
    "\n",
    "<p>\n",
    "\n",
    "<details><summary><b>Click here to access the solution</b></summary>\n",
    "<p>\n",
    "\n",
    "\n",
    "```python\n",
    "date = datetime.date.today()\n",
    "print(date)\n",
    "new_date = date + datetime.timedelta(weeks=5)\n",
    "print(new_date)\n",
    "```\n",
    "\n",
    "</p>\n",
    "</details>\n",
    "\n",
    "---"
   ]
  },
  {
   "cell_type": "markdown",
   "metadata": {},
   "source": [
    "## <font color='red'>Comparing Values</font>"
   ]
  },
  {
   "cell_type": "markdown",
   "metadata": {},
   "source": [
    "Both date and time values can be compared using the standard operators to determine which is earlier or later."
   ]
  },
  {
   "cell_type": "code",
   "execution_count": null,
   "metadata": {},
   "outputs": [],
   "source": [
    "print ('Times:')\n",
    "t1 = datetime.time(12, 55, 0)\n",
    "print ('\\tt1:', t1)\n",
    "t2 = datetime.time(13, 5, 0)\n",
    "print ('\\tt2:', t2)\n",
    "print ('\\tt1 < t2:', t1 < t2)"
   ]
  },
  {
   "cell_type": "code",
   "execution_count": null,
   "metadata": {},
   "outputs": [],
   "source": [
    "print ('Dates:')\n",
    "d1 = datetime.date.today()\n",
    "print ('\\td1:', d1)\n",
    "d2 = datetime.date.today() + datetime.timedelta(days=1)\n",
    "print ('\\td2:', d2)\n",
    "print ('\\td1 > d2:', d1 > d2)"
   ]
  },
  {
   "cell_type": "markdown",
   "metadata": {},
   "source": [
    "## <font color='red'>Combining Dates and Times: </font> `datetime`  Class\n",
    "\n",
    "- We can use the datetime class to hold values consisting of both date and time components. \n",
    "- Represents all the attributes from date and time objects.\n",
    "\n",
    "```python\n",
    "datetime.datetime(year, month, day, \n",
    "                  hour=0, minute=0, second=0, \n",
    "                  microsecond=0, tzinfo=None, *, fold=0)\n",
    "```"
   ]
  },
  {
   "cell_type": "code",
   "execution_count": null,
   "metadata": {},
   "outputs": [],
   "source": [
    "print(f'Now:     {datetime.datetime.now()}')\n",
    "print(f'Today:   {datetime.datetime.today()}')\n",
    "print(f'UTC Now: {datetime.datetime.utcnow()}')"
   ]
  },
  {
   "cell_type": "code",
   "execution_count": null,
   "metadata": {},
   "outputs": [],
   "source": [
    "d = datetime.datetime.now()\n",
    "for attr in [ 'year', 'month', 'day', 'hour', 'minute', 'second', 'microsecond']:\n",
    "    print(f\"{attr}: {getattr(d, attr)}\")"
   ]
  },
  {
   "cell_type": "code",
   "execution_count": null,
   "metadata": {},
   "outputs": [],
   "source": [
    "NOW = datetime.datetime.now()\n",
    " \n",
    "print(f\"Current date & time =         {NOW}\")\n",
    "print(f\"Date and time in ISO format = {NOW.isoformat()}\")\n",
    "print(f\"Current year =                {NOW.year}\")\n",
    "print(f\"Current month =               {NOW.month}\")\n",
    "print(f\"Current date (day) =          {NOW.day}\")\n",
    "print(f\"dd/mm/yyyy format =           {NOW.day}/{NOW.month}/{NOW.year}\")\n",
    "print(f\"Current hour =                {NOW.hour}\")\n",
    "print(f\"Current minute =              {NOW.minute}\")\n",
    "print(f\"Current second =              {NOW.second}\")\n",
    "print(f\"hh:mm:ss format =             {NOW.hour}:{NOW.month}:{NOW.second}\")"
   ]
  },
  {
   "cell_type": "markdown",
   "metadata": {},
   "source": [
    "* Just as with date, datetime provides convenient class methods for creating new instances. It also includes `fromordinal()` and `fromtimestamp()`. \n",
    "* In addition, `combine()` can be useful if you already have a date instance and time instance and want to create a datetime."
   ]
  },
  {
   "cell_type": "code",
   "execution_count": null,
   "metadata": {},
   "outputs": [],
   "source": [
    "t = datetime.time(1, 2, 3)\n",
    "print ('t :', t)\n",
    "\n",
    "d = datetime.date.today()\n",
    "print ('d :', d)\n",
    "\n",
    "dt = datetime.datetime.combine(d, t)\n",
    "print ('dt:', dt)"
   ]
  },
  {
   "cell_type": "markdown",
   "metadata": {},
   "source": [
    "## <font color='red'>Formating and Parsing</font>"
   ]
  },
  {
   "cell_type": "markdown",
   "metadata": {},
   "source": [
    "* The default string representation of a datetime object uses the format: `YYYY-MM-DDTHH:MM:SS.mmmmmm` \n",
    "* Alternate formats can be generated using `strftime()` function. \n",
    "     - Converts datetime objects into strings.\n",
    "     - Uses different control code to give an output.\n",
    "     - Each control code resembles different parameters like year, month, weekday and date.\n",
    "* If your input data includes timestamp values parsable with `time.strptime()`, then `datetime.strptime()` is a convenient way to convert them to datetime instances."
   ]
  },
  {
   "cell_type": "markdown",
   "metadata": {},
   "source": [
    "**Useful `strptime` and `strftime` Patterns**\n",
    "\n",
    "|Directive | Meaning |\n",
    "| --- | --- |\n",
    "| `%a` | Weekday as locale's abbreviated name |\n",
    "| `%A` | Weekday as locale's full name |\n",
    "| `%w` | Weekday as decimal number, where 0 is Sunday and 6 is Saturday |\n",
    "| `%d` | Day of the month as a zero-padded decimal number [01, 02, ..., 30, 31] |\n",
    "| `%b` | Month as locale's abbreviated name |\n",
    "| `%B` | Weekday as locale's full name |\n",
    "| `%m` | Month as zero-padded decimal number [01, 02, ..., 11, 12] |\n",
    "| `%y` | Year without century as a zero-padded decimal number name [0001, ..., 2019, 2020, ..., 9999] |\n",
    "| `%Y` | Year with century as a decimal number  |\n",
    "| `%H` | Hour (24-hour clock) as a zero-padded decimal number [00, 01, ..., 22, 23] |\n",
    "| `%I` | Hour (12-hour clock) as a zero-padded decimal number |\n",
    "| `%p` | Locale equivalent of either AM or PM |\n",
    "| `%M` | Minute as a zero-padded decimal number [00, 01, ..., 58, 59]|\n",
    "| `%S` | Second as a zero-padded decimal number [00, 01, ..., 58, 59]|\n",
    "| `%f` | Microsecond as a zero-padded decimal number |\n",
    "| `%j` | Day of the year as a zero-padded decimal number |\n",
    "| `%W` | Week number of the year (Monday as the first day of the week) as a decimal number |\n",
    "| `%U` | Week number of the year (Sunday as the first day of the week) as a decimal number |\n",
    "| `%c` | Locale’s appropriate date and time representation |\n",
    "| `%Z` | Time zone name |\n",
    "| `%z` | UTC offset in the form HH[SS[.fffff]] |\n"
   ]
  },
  {
   "cell_type": "markdown",
   "metadata": {},
   "source": [
    "**Formatting**"
   ]
  },
  {
   "cell_type": "markdown",
   "metadata": {},
   "source": [
    "Weekday Month Day Hour:Minute:Second Year"
   ]
  },
  {
   "cell_type": "code",
   "execution_count": null,
   "metadata": {},
   "outputs": [],
   "source": [
    "format = \"%a %b %d %H:%M:%S %Y\"\n",
    "\n",
    "today = datetime.datetime.today()\n",
    "print (f'ISO: {today}')\n",
    "\n",
    "s = today.strftime(format)\n",
    "print (f'strftime: {s}')"
   ]
  },
  {
   "cell_type": "markdown",
   "metadata": {},
   "source": [
    "Obtain the time in HH:MM:SS"
   ]
  },
  {
   "cell_type": "code",
   "execution_count": null,
   "metadata": {},
   "outputs": [],
   "source": [
    "print(today.strftime(\"%X\"))"
   ]
  },
  {
   "cell_type": "markdown",
   "metadata": {},
   "source": [
    "Obtain the hour with 12 hours time"
   ]
  },
  {
   "cell_type": "code",
   "execution_count": null,
   "metadata": {},
   "outputs": [],
   "source": [
    "print(today.strftime(\"%I\"))"
   ]
  },
  {
   "cell_type": "markdown",
   "metadata": {},
   "source": [
    "Obtain AM or PM"
   ]
  },
  {
   "cell_type": "code",
   "execution_count": null,
   "metadata": {},
   "outputs": [],
   "source": [
    "print(today.strftime(\"%p\"))"
   ]
  },
  {
   "cell_type": "markdown",
   "metadata": {},
   "source": [
    "`%c` - local date and time, `%x`-local's date, `%X`- local's time"
   ]
  },
  {
   "cell_type": "code",
   "execution_count": null,
   "metadata": {},
   "outputs": [],
   "source": [
    "print(f'Date and Time = {today.strftime(\"%c\")}')\n",
    "print(f'Date =          {today.strftime(\"%x\")}')\n",
    "print(f'Time =          {today.strftime(\"%X\")}')"
   ]
  },
  {
   "cell_type": "markdown",
   "metadata": {},
   "source": [
    "`%I/%H` - 12/24 Hour, `%M` - minute, `%S` - second, `%p` - local's AM/PM"
   ]
  },
  {
   "cell_type": "code",
   "execution_count": null,
   "metadata": {},
   "outputs": [],
   "source": [
    "print(f\"Time = {today.strftime('%I:%M:%S %p')}\") # 12-Hour:Minute:Second:AM\n",
    "print(f\"Hour:Minutes = {today.strftime('%H:%M')}\") # 24-Hour:Minute"
   ]
  },
  {
   "cell_type": "markdown",
   "metadata": {},
   "source": [
    "**Parsing**\n",
    "\n",
    "If the format of a string is known, it can be easily parsed to a `datetime` object using `strptime`."
   ]
  },
  {
   "cell_type": "code",
   "execution_count": null,
   "metadata": {},
   "outputs": [],
   "source": [
    "datetime_str = 'Sep 19 2020 2:42PM'\n",
    "datetime_fmt = '%b %d %Y %I:%M%p'\n",
    "datetime_obj = datetime.datetime.strptime(datetime_str, datetime_fmt)\n",
    "\n",
    "print('Date:        ', datetime_obj.date())\n",
    "print('Time:        ', datetime_obj.time())\n",
    "print('Date-time:   ', datetime_obj)"
   ]
  },
  {
   "cell_type": "code",
   "execution_count": null,
   "metadata": {},
   "outputs": [],
   "source": [
    "print('String date: ', datetime_obj.strftime(datetime_fmt))"
   ]
  },
  {
   "cell_type": "markdown",
   "metadata": {},
   "source": [
    "Examples of commonly used time formats and the tokens used for parsing:\n",
    "\n",
    "```python\n",
    "\"Sep 15 2020 at 2:42PM\"        -> \"%b %d %Y at %I:%M%p\"\n",
    "\"September 15, 2020, 14:42:15\" -> \"%B %d, %Y, %H:%M:%S\"\n",
    "\"Tue,09/15/20,2:42PM\"          -> \"%a,%d/%m/%y,%I:%M%p\"\n",
    "\"Tue, 15 September, 2020\"      -> \"%a, %d %B, %Y\"\n",
    "\"2020-09-15T14:42:15Z\"         -> \"%Y-%m-%dT%H:%M:%SZ\"\n",
    "```"
   ]
  },
  {
   "cell_type": "markdown",
   "metadata": {},
   "source": [
    "---\n",
    "\n",
    "### <font color=\"blue\">Breakout 4</font>\n",
    "\n",
    "Write a function (named `number_days_between`) that:\n",
    "\n",
    "- Takes two arguments that are 8-digit integers of the form YYYYMMDD (actually a date), and\n",
    "- Returns the number of days between the two dates.\n",
    "\n",
    "For instance:\n",
    "\n",
    "```python\n",
    "   number_days_between(20200617, 20200619) = 2\n",
    "   number_days_between(20200619, 20100219) = 3773\n",
    "```\n",
    "\n",
    "<p>\n",
    "\n",
    "<details><summary><b>Click here to access the solution</b></summary>\n",
    "<p>\n",
    "\n",
    "\n",
    "```python\n",
    "def number_days_between(date1, date2):\n",
    "    \"\"\"\n",
    "    Determine the number of days between two dates\n",
    "    represented as 8-digit integers (YYYYMMDD).\n",
    "    \n",
    "    Paramters\n",
    "    ---------\n",
    "    date1 : int\n",
    "        An arbitrary date with the format YYYYMMDD\n",
    "    date2 : int\n",
    "        An arbitrary date with the format YYYYMMDD\n",
    "        \n",
    "    Returns\n",
    "    -------\n",
    "    days : int\n",
    "        Number of days between date1 and date2.\n",
    "    \"\"\"\n",
    "    date_format = \"%Y%m%d\"\n",
    "    dt_date1 = datetime.datetime.strptime(str(date1), date_format)\n",
    "    dt_date2 = datetime.datetime.strptime(str(date2), date_format)\n",
    "    \n",
    "    if dt_date1 < dt_date2:\n",
    "        return (dt_date2-dt_date1).days\n",
    "    else:\n",
    "        return (dt_date1-dt_date2).days\n",
    "    \n",
    "date1 = 20200617\n",
    "date2 = 20200619\n",
    "print(f\"The number of days between {date1} and {date2}: {number_days_between(date1, date2)}\")\n",
    "\n",
    "date1 = 20200619\n",
    "date2 = 20100219\n",
    "print(f\"The number of days between {date1} and {date2}: {number_days_between(date1, date2)}\")\n",
    "```\n",
    "\n",
    "</p>\n",
    "</details>\n",
    "    \n",
    "---"
   ]
  },
  {
   "cell_type": "markdown",
   "metadata": {},
   "source": [
    "---\n",
    "\n",
    "### <font color=\"blue\">Breakout 5</font>\n",
    "\n",
    "On July 16, 1969, the huge, 363-feet tall Saturn V rocket launches on the Apollo 11 mission from Pad A, Launch Complex 39, Kennedy Space Center, at 9:32 a.m. EDT. Write a Python program the computes (**from now**) the number of:\n",
    "\n",
    "- Years\n",
    "- Months\n",
    "- Days\n",
    "- Hours\n",
    "- Minutes\n",
    "- Seconds\n",
    "\n",
    "since the launch.\n",
    "\n",
    "Hint: [Check this website](https://stackoverflow.com/questions/1345827/how-do-i-find-the-time-difference-between-two-datetime-objects-in-python)\n",
    "<p>\n",
    "\n",
    "<details><summary><b>Click here to access the solution</b></summary>\n",
    "<p>\n",
    "\n",
    "\n",
    "```python\n",
    "current_date = datetime.datetime.now()\n",
    "launch_date = datetime.datetime(1969, 7, 16, 9, 32)\n",
    "duration = current_date - launch_date\n",
    "\n",
    "duration_in_s = duration.total_seconds()\n",
    "years = divmod(duration_in_s, 31536000)[0]  # Seconds in a year=365*24*60*60 = 31536000\n",
    "days  = divmod(duration_in_s, 86400)[0]     # Seconds in a day = 86400\n",
    "hours = divmod(duration_in_s, 3600)[0]      # Seconds in an hour = 3600\n",
    "minutes = divmod(duration_in_s, 60)[0]      # Seconds in a minute = 60\n",
    "\n",
    "print(f\"Number of Years:   {years}\")\n",
    "print(f\"Number of Weeks:   {days/7}\")\n",
    "print(f\"Number of Days:    {days}\")\n",
    "print(f\"Number of Hours:   {hours}\")\n",
    "print(f\"Number of Minutes: {minutes}\")\n",
    "print(f\"Number of Seconds: {duration_in_s}\")\n",
    "```\n",
    "\n",
    "</p>\n",
    "</details>\n",
    "    \n",
    "---"
   ]
  },
  {
   "cell_type": "markdown",
   "metadata": {},
   "source": [
    "## <font color=\"red\">Bonus Breakout</font>\n",
    "\n",
    "- We want to write a function that increments a date by adding a number of years, a number of months and a number of days.\n",
    "- We break the task into small ones by writing three functions that add the days, the months and the years, respectively. We then use the functions to accomplish our task."
   ]
  },
  {
   "cell_type": "markdown",
   "metadata": {},
   "source": [
    "### <font color=\"blue\">Problem 1</font>\n",
    "\n",
    "Write a function (`add_years`) that adds `num_years` to a date object.\n",
    "\n",
    "<details><summary><b>Click here to access the solution</b></summary>\n",
    "<p>\n",
    "\n",
    "\n",
    "```python\n",
    "def add_years (my_date, num_years):\n",
    "    return my_date.replace(year=my_date.year + num_years)\n",
    "```\n",
    "\n",
    "</p>\n",
    "</details>"
   ]
  },
  {
   "cell_type": "markdown",
   "metadata": {},
   "source": [
    "### <font color=\"blue\">Problem 2</font>\n",
    "\n",
    "Write a function (`add_months`) that adds `num_months` to a date object.\n",
    "\n",
    "<details><summary><b>Click here to access the solution</b></summary>\n",
    "<p>\n",
    "\n",
    "\n",
    "```python\n",
    "def add_Months(my_date, num_months):\n",
    "    m = my_date.month + num_months\n",
    "    year  = m // 12\n",
    "    month = m % 12\n",
    "    if month == 0:\n",
    "       month = 12\n",
    "       year -= 1\n",
    "    try:\n",
    "        new_date = datetime.date(my_date.year+year, month, my_date.day)\n",
    "    except ValueError:\n",
    "        import calendar\n",
    "        # determine the total number of days in a new month\n",
    "        m1, d1 = calendar.monthrange(my_date.year+year, month)\n",
    "        new_date = datetime.date(my_date.year+year, month, d1)\n",
    "    return new_date\n",
    "```\n",
    "\n",
    "</p>\n",
    "</details>"
   ]
  },
  {
   "cell_type": "markdown",
   "metadata": {},
   "source": [
    "### <font color=\"blue\">Problem 3</font>\n",
    "\n",
    "Write a function (`add_days`) that adds `num_days` to a date object.\n",
    "\n",
    "<details><summary><b>Click here to access the solution</b></summary>\n",
    "<p>\n",
    "\n",
    "\n",
    "```python\n",
    "def add_days (my_date, num_days):\n",
    "    return my_date + datetime.timedelta(days=num_days)\n",
    "```\n",
    "\n",
    "</p>\n",
    "</details>"
   ]
  },
  {
   "cell_type": "markdown",
   "metadata": {},
   "source": [
    "### <font color=\"blue\">Problem 4</font>\n",
    "\n",
    "Write a function (`increment_date`) that:\n",
    "\n",
    "- Has as arguments `ref_date` (in the format YYYYMMDD), `num_years`, `num_months` and `num_days`. \n",
    "- Adds `num_years`, `num_months` and `num_days` to `ref_date`.\n",
    "- Returns a new date in the format YYYYMMDD.\n",
    "\n",
    "Note that `num_years`, `num_months` and `num_days` can be either positive or negative numbers.\n",
    "\n",
    "<details><summary><b>Click here to access the solution</b></summary>\n",
    "<p>\n",
    "\n",
    "\n",
    "```python\n",
    "def increment_date(ref_date, num_years=0, num_months=0, num_days=0):\n",
    "    # Extract the year, the month and day from ref_date\n",
    "    y = ref_date // 10000\n",
    "    m = (ref_date % 10000) // 100\n",
    "    d = ref_date % 100\n",
    "    \n",
    "    # Determine the current date object\n",
    "    cur_date = datetime.date(y, m, d)\n",
    "    \n",
    "    # Increment the date\n",
    "    cur_date = add_years(cur_date, num_years)\n",
    "    cur_date = add_months(cur_date, num_months)\n",
    "    cur_date = add_days(cur_date, num_days)\n",
    "    \n",
    "    # Extract the new year, month and day\n",
    "    curY = cur_date.year\n",
    "    curM = cur_date.month\n",
    "    curD = cur_date.day\n",
    "    \n",
    "    # Compute the new date in the format YYYYMMDD\n",
    "    new_date = 10000*curY + 100*curM + curD\n",
    "    \n",
    "    return new_date\n",
    "\n",
    "print(increment_date(20001231, num_months=-15, num_days=7))\n",
    "```\n",
    "\n",
    "</p>\n",
    "</details>"
   ]
  },
  {
   "cell_type": "markdown",
   "metadata": {},
   "source": [
    "## <font color=\"purple\">Going Deeper: Handling timezone</font>\n",
    "\n",
    "- We can use the `pytz` module that allows accurate and cross platform timezone calculations.\n",
    "- It provides implementations of **tzinfo** class that can be used to create timezone aware datetime instances."
   ]
  },
  {
   "cell_type": "code",
   "execution_count": null,
   "metadata": {},
   "outputs": [],
   "source": [
    "import pytz\n",
    "print(dir(pytz))"
   ]
  },
  {
   "cell_type": "markdown",
   "metadata": {},
   "source": [
    "Commonly Used Time Zones:"
   ]
  },
  {
   "cell_type": "code",
   "execution_count": null,
   "metadata": {},
   "outputs": [],
   "source": [
    "print(pytz.common_timezones_set)"
   ]
  },
  {
   "cell_type": "markdown",
   "metadata": {},
   "source": [
    "Country Names:"
   ]
  },
  {
   "cell_type": "code",
   "execution_count": null,
   "metadata": {},
   "outputs": [],
   "source": [
    "for key, val in pytz.country_names.items():\n",
    "    print(key, '=', val, end=', ')"
   ]
  },
  {
   "cell_type": "markdown",
   "metadata": {},
   "source": [
    "Time zones in each country:"
   ]
  },
  {
   "cell_type": "code",
   "execution_count": null,
   "metadata": {},
   "outputs": [],
   "source": [
    "print('country_timezones =')\n",
    "for key, val in pytz.country_timezones.items():\n",
    "    print(key, '=', val, end=', ')"
   ]
  },
  {
   "cell_type": "markdown",
   "metadata": {},
   "source": [
    "Time zones in the US:"
   ]
  },
  {
   "cell_type": "code",
   "execution_count": null,
   "metadata": {},
   "outputs": [],
   "source": [
    "print('Supported timezones by US =', pytz.country_timezones['US'])"
   ]
  },
  {
   "cell_type": "markdown",
   "metadata": {},
   "source": [
    "Get the current local date/time:"
   ]
  },
  {
   "cell_type": "code",
   "execution_count": null,
   "metadata": {},
   "outputs": [],
   "source": [
    "local = datetime.datetime.now()\n",
    "print(\"Local:\", local.strftime(\"%m/%d/%Y, %H:%M:%S\"))\n",
    "print(\"Time zone info:\", local.tzinfo)"
   ]
  },
  {
   "cell_type": "markdown",
   "metadata": {},
   "source": [
    "Get the current UTC date/time:"
   ]
  },
  {
   "cell_type": "code",
   "execution_count": null,
   "metadata": {},
   "outputs": [],
   "source": [
    "datetime_UTC = datetime.datetime.now(pytz.utc)\n",
    "print(\"UTC:\", datetime_UTC.strftime(\"%m/%d/%Y, %H:%M:%S\"))\n",
    "print(\"Time zone info:\", datetime_UTC.tzinfo)"
   ]
  },
  {
   "cell_type": "markdown",
   "metadata": {},
   "source": [
    "Get the current date/time in the `America/Bahia_Banderas` time zone:"
   ]
  },
  {
   "cell_type": "code",
   "execution_count": null,
   "metadata": {},
   "outputs": [],
   "source": [
    "tz_BB = pytz.timezone('America/Bahia_Banderas') \n",
    "datetime_BB = datetime.datetime.now(tz_BB)\n",
    "print(\"Bahia Banderas:\", datetime_BB.strftime(\"%m/%d/%Y, %H:%M:%S\"))\n",
    "print(\"Time zone info:\", datetime_BB.tzinfo)"
   ]
  },
  {
   "cell_type": "markdown",
   "metadata": {},
   "source": [
    "Get the current date/time in the `Europe/London` time zone:"
   ]
  },
  {
   "cell_type": "code",
   "execution_count": null,
   "metadata": {},
   "outputs": [],
   "source": [
    "tz_London = pytz.timezone('Europe/London')\n",
    "datetime_London = datetime.datetime.now(tz_London)\n",
    "print(\"London:\", datetime_London.strftime(\"%m/%d/%Y, %H:%M:%S\"))\n",
    "print(\"Time zone info:\", datetime_London.tzinfo)"
   ]
  }
 ],
 "metadata": {
  "kernelspec": {
   "display_name": "Python 3 (ipykernel)",
   "language": "python",
   "name": "python3"
  },
  "language_info": {
   "codemirror_mode": {
    "name": "ipython",
    "version": 3
   },
   "file_extension": ".py",
   "mimetype": "text/x-python",
   "name": "python",
   "nbconvert_exporter": "python",
   "pygments_lexer": "ipython3",
   "version": "3.8.2"
  }
 },
 "nbformat": 4,
 "nbformat_minor": 1
}
